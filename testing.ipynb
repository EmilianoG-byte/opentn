{
 "cells": [
  {
   "cell_type": "code",
   "execution_count": 2,
   "metadata": {},
   "outputs": [
    {
     "name": "stdout",
     "output_type": "stream",
     "text": [
      "The autoreload extension is already loaded. To reload it, use:\n",
      "  %reload_ext autoreload\n"
     ]
    }
   ],
   "source": [
    "# reload local packages automatically\n",
    "%load_ext autoreload\n",
    "%autoreload 2\n",
    "\n",
    "# import NumPy and the PyTeNet package\n",
    "import numpy as np\n",
    "import pytenet as ptn\n",
    "from pprint import pprint\n",
    "import qutip as qt\n"
   ]
  },
  {
   "attachments": {},
   "cell_type": "markdown",
   "metadata": {},
   "source": [
    "# <center> Here start tests from 24 DEC"
   ]
  },
  {
   "cell_type": "code",
   "execution_count": 92,
   "metadata": {},
   "outputs": [],
   "source": [
    "from opentn.channels import quantum_channel\n",
    "from opentn.tensors import MPS, MPO, quantum_mpo_mps\n",
    "from opentn.circuits import quantum_circuit, partial_trace\n",
    "from opentn.entanglement import partial_transpose_two, determine_entanglement"
   ]
  },
  {
   "cell_type": "code",
   "execution_count": 59,
   "metadata": {},
   "outputs": [],
   "source": [
    "# defining the |0> and |1> for facility\n",
    "# define a pure state. note: need to define complex for latter use of += operation.\n",
    "up = np.array([[1,0]], dtype=np.complex128).T\n",
    "down = np.array([[0,1]], dtype=np.complex128).T\n",
    "\n",
    "# same for |+> and |-> states\n",
    "plus = (up + down)/np.sqrt(2)\n",
    "minus = (up - down)/np.sqrt(2)"
   ]
  },
  {
   "attachments": {},
   "cell_type": "markdown",
   "metadata": {},
   "source": [
    "# <center> Testing the statevector resulting from MPS of bell state\n",
    "\n",
    "## <center> 1. $ \\ket{\\phi^-} = \\frac{1}{\\sqrt{2}}(|01\\rangle - |10\\rangle)$\n",
    "Hint: to create the MPS, just imagine all the possible combinations 00, 01, 10, 11 and the inner product they would correspond to"
   ]
  },
  {
   "cell_type": "code",
   "execution_count": 93,
   "metadata": {},
   "outputs": [
    {
     "data": {
      "text/plain": [
       "(array([[[ 0.        ],\n",
       "        [ 0.70710678],\n",
       "        [-0.70710678],\n",
       "        [ 0.        ]]]))"
      ]
     },
     "execution_count": 93,
     "metadata": {},
     "output_type": "execute_result"
    }
   ],
   "source": [
    "A0_up = [[1/np.sqrt(2), 0]]\n",
    "A0_down = [[0, -1/np.sqrt(2)]]\n",
    "A0 = np.array([A0_up,A0_down]) # shape: (2,1,2)\n",
    "A0 = np.transpose(A0, [1,0,2]) # shape: (1,2,2)\n",
    "\n",
    "A1_up = [[0],[1]]\n",
    "A1_down = [[1],[0]]\n",
    "A1 = np.array([A1_up,A1_down]) # shape: (2,2,1)\n",
    "A1 = np.transpose(A1,[1,0,2]) # shape: (2,2,1)\n",
    "\n",
    "phi_min = MPS([A0,A1])\n",
    "phi_min.merge_mps_tensor_pair() # (1, 4, 1)\n",
    "phi_min\n"
   ]
  },
  {
   "cell_type": "code",
   "execution_count": 94,
   "metadata": {},
   "outputs": [
    {
     "data": {
      "text/plain": [
       "array([[1, 0],\n",
       "       [0, 1]])"
      ]
     },
     "execution_count": 94,
     "metadata": {},
     "output_type": "execute_result"
    }
   ],
   "source": [
    "# checking normalization of these tensors\n",
    "np.tensordot(A1,A1.conj(), axes=((2,1), (2,1))) # (vL) (n) vR , (vL*) (n*) vR* -> vR vR*"
   ]
  },
  {
   "attachments": {},
   "cell_type": "markdown",
   "metadata": {},
   "source": [
    "## <center> 2. $ \\ket{\\psi^+} = \\frac{1}{\\sqrt{2}}(\\ket{00} + \\ket{11})$"
   ]
  },
  {
   "cell_type": "code",
   "execution_count": 95,
   "metadata": {},
   "outputs": [
    {
     "data": {
      "text/plain": [
       "(array([[[0.70710678],\n",
       "        [0.        ],\n",
       "        [0.        ],\n",
       "        [0.70710678]]]))"
      ]
     },
     "execution_count": 95,
     "metadata": {},
     "output_type": "execute_result"
    }
   ],
   "source": [
    "B0_up = [[1/np.sqrt(2), 0]]\n",
    "B0_down = [[0, 1/np.sqrt(2)]]\n",
    "B0 = np.array([B0_up, B0_down]) # shape: (2,1,2)\n",
    "B0 = np.transpose(B0, [1,0,2]) # shape: (1,2,2)\n",
    "\n",
    "B1_up = [[1],[0]]\n",
    "B1_down = [[0],[1]]\n",
    "B1 = np.array([B1_up,B1_down]) # shape: (2,2,1)\n",
    "B1 = np.transpose(B1,[1,0,2]) # shape: (2,2,1)\n",
    "\n",
    "phi_plus = MPS([B0,B1])\n",
    "phi_plus.merge_mps_tensor_pair()\n",
    "phi_plus"
   ]
  },
  {
   "attachments": {},
   "cell_type": "markdown",
   "metadata": {},
   "source": [
    "# <center> Simulation of quantum channel for our system\n",
    "\n",
    "## $$\\rho^{out} = \\mathcal{E}(\\rho) = \\sum_k = E_k \\rho E^\\dagger_k$$"
   ]
  },
  {
   "cell_type": "code",
   "execution_count": 7,
   "metadata": {},
   "outputs": [],
   "source": [
    "#define the krauss operators for the amplitude damping channel\n",
    "gamma = 0.5\n",
    "E0 = np.array([[1,0],[0,np.sqrt(1-gamma)]], dtype=np.complex128)\n",
    "E1 = np.array([[0,np.sqrt(gamma)],[0,0]], dtype=np.complex128)\n",
    "krauss_list = [E0, E1]"
   ]
  },
  {
   "cell_type": "code",
   "execution_count": 8,
   "metadata": {},
   "outputs": [
    {
     "data": {
      "text/plain": [
       "array([[1.+0.j, 0.+0.j],\n",
       "       [0.+0.j, 0.+0.j]])"
      ]
     },
     "execution_count": 8,
     "metadata": {},
     "output_type": "execute_result"
    }
   ],
   "source": [
    "#calculate the output of the quantum channel as defined by krauss_list: |0>\n",
    "quantum_channel(up,krauss_list)"
   ]
  },
  {
   "cell_type": "code",
   "execution_count": 9,
   "metadata": {},
   "outputs": [
    {
     "data": {
      "text/plain": [
       "array([[0.75      +0.j, 0.35355339+0.j],\n",
       "       [0.35355339+0.j, 0.25      +0.j]])"
      ]
     },
     "execution_count": 9,
     "metadata": {},
     "output_type": "execute_result"
    }
   ],
   "source": [
    "#calculate the output of the quantum channel as defined by krauss_list: |+>\n",
    "quantum_channel(plus,krauss_list)"
   ]
  },
  {
   "cell_type": "code",
   "execution_count": 10,
   "metadata": {},
   "outputs": [
    {
     "data": {
      "text/plain": [
       "array([[0.5+0.j, 0. +0.j],\n",
       "       [0. +0.j, 0.5+0.j]])"
      ]
     },
     "execution_count": 10,
     "metadata": {},
     "output_type": "execute_result"
    }
   ],
   "source": [
    "#calculate the output of the quantum channel as defined by krauss_list: |->\n",
    "quantum_channel(down,krauss_list)"
   ]
  },
  {
   "cell_type": "code",
   "execution_count": 11,
   "metadata": {},
   "outputs": [
    {
     "data": {
      "text/plain": [
       "array([[0.75+0.j, 0.  +0.j],\n",
       "       [0.  +0.j, 0.25+0.j]])"
      ]
     },
     "execution_count": 11,
     "metadata": {},
     "output_type": "execute_result"
    }
   ],
   "source": [
    "# maximally mixed state:\n",
    "rho_mixed = (np.outer(up,up) + np.outer(down,down))/2\n",
    "quantum_channel(rho_mixed,krauss_list)"
   ]
  },
  {
   "attachments": {},
   "cell_type": "markdown",
   "metadata": {},
   "source": [
    "# Simulation of quantum circuit for physical system = $q_0$ and environment = $q_1$: \n",
    "## $$CR_y(\\theta) \\rightarrow CNOT_{1->0} = U_{PE}$$\n",
    "## $$\\rho_{PE}^{out} = U_{PE} \\rho_{PE} U_{PE}^{\\dagger} $$"
   ]
  },
  {
   "cell_type": "code",
   "execution_count": 12,
   "metadata": {},
   "outputs": [],
   "source": [
    "# creating the unitary operator that acts both on the system and environment\n",
    "gamma = 0.5\n",
    "U_PE = np.array([\n",
    "    [1,0,0,0],\n",
    "    [0,0, np.sqrt(gamma), np.sqrt(1-gamma)],\n",
    "    [0,0, np.sqrt(1-gamma), -np.sqrt(gamma)],\n",
    "    [0,1,0,0]\n",
    "                ], dtype=np.complex128)"
   ]
  },
  {
   "cell_type": "code",
   "execution_count": 13,
   "metadata": {},
   "outputs": [
    {
     "data": {
      "text/plain": [
       "(array([[1.+0.j, 0.+0.j],\n",
       "        [0.+0.j, 0.+0.j]]),\n",
       " array([[1.+0.j, 0.+0.j],\n",
       "        [0.+0.j, 0.+0.j]]))"
      ]
     },
     "execution_count": 13,
     "metadata": {},
     "output_type": "execute_result"
    }
   ],
   "source": [
    "quantum_circuit([up, up], U_PE) # equivalent to physical in pure state |1> & environment initialized in |0> (see Nielsen and Chuang)"
   ]
  },
  {
   "cell_type": "code",
   "execution_count": 14,
   "metadata": {},
   "outputs": [
    {
     "data": {
      "text/plain": [
       "(array([[0.75      +0.j, 0.35355339+0.j],\n",
       "        [0.35355339+0.j, 0.25      +0.j]]),\n",
       " array([[0.75      +0.j, 0.35355339+0.j],\n",
       "        [0.35355339+0.j, 0.25      +0.j]]))"
      ]
     },
     "execution_count": 14,
     "metadata": {},
     "output_type": "execute_result"
    }
   ],
   "source": [
    "quantum_circuit([plus, up], U_PE) # equivalent to physical in pure state |1> & environment initialized in |0> (see Nielsen and Chuang)"
   ]
  },
  {
   "cell_type": "code",
   "execution_count": 15,
   "metadata": {},
   "outputs": [
    {
     "data": {
      "text/plain": [
       "(array([[0.5+0.j, 0. +0.j],\n",
       "        [0. +0.j, 0.5+0.j]]),\n",
       " array([[0.5+0.j, 0. +0.j],\n",
       "        [0. +0.j, 0.5+0.j]]))"
      ]
     },
     "execution_count": 15,
     "metadata": {},
     "output_type": "execute_result"
    }
   ],
   "source": [
    "\n",
    "quantum_circuit([down, up], U_PE) # equivalent to physical in pure state |1> & environment initialized in |0> (see Nielsen and Chuang)"
   ]
  },
  {
   "cell_type": "code",
   "execution_count": 16,
   "metadata": {},
   "outputs": [
    {
     "data": {
      "text/plain": [
       "(array([[0.75+0.j, 0.  +0.j],\n",
       "        [0.  +0.j, 0.25+0.j]]),\n",
       " array([[0.75+0.j, 0.  +0.j],\n",
       "        [0.  +0.j, 0.25+0.j]]))"
      ]
     },
     "execution_count": 16,
     "metadata": {},
     "output_type": "execute_result"
    }
   ],
   "source": [
    "rho_mixed = (np.outer(up,up) + np.outer(down,down))/2\n",
    "quantum_circuit([rho_mixed, up], U_PE) # equivalent to physical in mixed state & environment initialized in |0> (see Nielsen and Chuang)"
   ]
  },
  {
   "attachments": {},
   "cell_type": "markdown",
   "metadata": {},
   "source": [
    "## <center> Tests for Initially entangled states"
   ]
  },
  {
   "cell_type": "code",
   "execution_count": 17,
   "metadata": {},
   "outputs": [
    {
     "data": {
      "text/plain": [
       "(array([[ 0.75      +0.j, -0.35355339+0.j],\n",
       "        [-0.35355339+0.j,  0.25      +0.j]]),\n",
       " array([[0.75      +0.j, 0.35355339+0.j],\n",
       "        [0.35355339+0.j, 0.25      +0.j]]))"
      ]
     },
     "execution_count": 17,
     "metadata": {},
     "output_type": "execute_result"
    }
   ],
   "source": [
    "rho_entangled = np.outer(phi_plus[0,:,0],phi_plus[0,:,0])\n",
    "# Using U as the \"circuit\" over the initial rho_PE of the full system\n",
    "rho_out = U_PE@rho_entangled@U_PE.conj().T\n",
    "\n",
    "partial_trace(rho_out, 2, 2)    "
   ]
  },
  {
   "cell_type": "code",
   "execution_count": 18,
   "metadata": {},
   "outputs": [
    {
     "data": {
      "text/plain": [
       "(array([[ 0.25      +0.j, -0.35355339+0.j],\n",
       "        [-0.35355339+0.j,  0.75      +0.j]]),\n",
       " array([[ 0.25      +0.j, -0.35355339+0.j],\n",
       "        [-0.35355339+0.j,  0.75      +0.j]]))"
      ]
     },
     "execution_count": 18,
     "metadata": {},
     "output_type": "execute_result"
    }
   ],
   "source": [
    "rho_entangled = np.outer(phi_min[0,:,0],phi_min[0,:,0])\n",
    "# Using U as the \"circuit\" over the initial rho_PE of the full system\n",
    "rho_out = U_PE@rho_entangled@U_PE.conj().T\n",
    "\n",
    "partial_trace(rho_out, 2, 2)    "
   ]
  },
  {
   "cell_type": "code",
   "execution_count": 19,
   "metadata": {},
   "outputs": [
    {
     "data": {
      "text/plain": [
       "(array([[0.5, 0. ],\n",
       "        [0. , 0.5]]),\n",
       " array([[0.5, 0. ],\n",
       "        [0. , 0.5]]))"
      ]
     },
     "execution_count": 19,
     "metadata": {},
     "output_type": "execute_result"
    }
   ],
   "source": [
    "partial_trace(rho_entangled,2,2)"
   ]
  },
  {
   "cell_type": "code",
   "execution_count": 20,
   "metadata": {},
   "outputs": [
    {
     "data": {
      "text/plain": [
       "(array([[0.5, 0. ],\n",
       "        [0. , 0.5]]),\n",
       " array([[0.5, 0. ],\n",
       "        [0. , 0.5]]))"
      ]
     },
     "execution_count": 20,
     "metadata": {},
     "output_type": "execute_result"
    }
   ],
   "source": [
    "I4 = np.kron(np.eye(2)/2, np.eye(2)/2)\n",
    "partial_trace(I4, 2, 2)"
   ]
  },
  {
   "attachments": {},
   "cell_type": "markdown",
   "metadata": {},
   "source": [
    "## <center> Checking entanglement of mixed states"
   ]
  },
  {
   "cell_type": "code",
   "execution_count": 21,
   "metadata": {},
   "outputs": [
    {
     "name": "stdout",
     "output_type": "stream",
     "text": [
      "(0, 0)\n",
      "(0, 1)\n",
      "(1, 0)\n",
      "(1, 1)\n",
      "0\n",
      "3\n",
      "[[2, 2], [1, 1]]\n"
     ]
    },
    {
     "data": {
      "text/plain": [
       "[[2, 2], [2, 2]]"
      ]
     },
     "execution_count": 21,
     "metadata": {},
     "output_type": "execute_result"
    }
   ],
   "source": [
    "# testing qutip functions to make sure I understand them\n",
    "from qutip.states import (state_index_number, state_number_index,\n",
    "                          state_number_enumerate)\n",
    "                          \n",
    "for state in state_number_enumerate([2,2]):\n",
    "    print(state)\n",
    "\n",
    "print(state_number_index([2,2], np.choose([0,1],[(0,1),(1,0)])))\n",
    "print(state_number_index([2,2], np.choose([0,1],[(1,0),(0,1)])))\n",
    "\n",
    "phi_p = qt.bell_state()\n",
    "print(phi_p.dims)\n",
    "rho_p = qt.ket2dm(phi_p)\n",
    "rho_p.dims # len rho_p.dims[0] ==  how many qubits (systems) are involved"
   ]
  },
  {
   "cell_type": "code",
   "execution_count": 22,
   "metadata": {},
   "outputs": [
    {
     "data": {
      "text/plain": [
       "array([[ 0. ,  0. , -0. ,  0. ],\n",
       "       [ 0. ,  0.5, -0.5,  0. ],\n",
       "       [-0. , -0.5,  0.5, -0. ],\n",
       "       [ 0. ,  0. , -0. ,  0. ]])"
      ]
     },
     "execution_count": 22,
     "metadata": {},
     "output_type": "execute_result"
    }
   ],
   "source": [
    "rho_entangled #dims: 2, 2"
   ]
  },
  {
   "cell_type": "code",
   "execution_count": 23,
   "metadata": {},
   "outputs": [
    {
     "data": {
      "text/plain": [
       "array([[ 0. +0.j,  0. +0.j, -0. +0.j, -0.5+0.j],\n",
       "       [ 0. +0.j,  0.5+0.j,  0. +0.j,  0. +0.j],\n",
       "       [-0. +0.j,  0. +0.j,  0.5+0.j, -0. +0.j],\n",
       "       [-0.5+0.j,  0. +0.j, -0. +0.j,  0. +0.j]])"
      ]
     },
     "execution_count": 23,
     "metadata": {},
     "output_type": "execute_result"
    }
   ],
   "source": [
    "partial_transpose_two(rho_entangled)"
   ]
  },
  {
   "cell_type": "code",
   "execution_count": 24,
   "metadata": {},
   "outputs": [
    {
     "data": {
      "text/plain": [
       "True"
      ]
     },
     "execution_count": 24,
     "metadata": {},
     "output_type": "execute_result"
    }
   ],
   "source": [
    "determine_entanglement(rho_entangled)"
   ]
  },
  {
   "cell_type": "code",
   "execution_count": 25,
   "metadata": {},
   "outputs": [
    {
     "data": {
      "text/plain": [
       "(4, 4)"
      ]
     },
     "execution_count": 25,
     "metadata": {},
     "output_type": "execute_result"
    }
   ],
   "source": [
    "I4.shape"
   ]
  },
  {
   "cell_type": "code",
   "execution_count": 26,
   "metadata": {},
   "outputs": [
    {
     "data": {
      "text/plain": [
       "False"
      ]
     },
     "execution_count": 26,
     "metadata": {},
     "output_type": "execute_result"
    }
   ],
   "source": [
    "determine_entanglement(I4)"
   ]
  },
  {
   "attachments": {},
   "cell_type": "markdown",
   "metadata": {},
   "source": [
    "## Note:\n",
    "I misunderstood and I was assuming rho_ent =  rho_sys x rho_env\n",
    "which makes no sense since it is literally the definition of product state. \n",
    "\n",
    "## Note2:\n",
    "One thing I can do to check if a state is entangled or not is using the partial transposition criteria (see Cirac Notes)\n",
    "-> idea is that if the partial transpose (not partial trace) has any negative values, then the initial state was entangled\n",
    "\n",
    "Taking the partial trace and checking if it is maximally mixed state is not always a guarantee since we could have simply done I/2 x I/2 and\n",
    "partial traces would still be maximally mixed even tho the state is not entangled\n",
    "\n",
    "## List of entangled for sure:\n",
    "- $\\rho = \\ket{\\psi_{i}}\\bra{\\psi_{i}}$ for any $i \\in$ bell states\n",
    "- $\\rho(f) = f\\ket{\\psi}\\bra{\\psi} + (1-f)\\ket{\\phi}\\bra{\\phi}$ for $f \\neq 0.5$\n",
    "\n",
    "## Problem:\n",
    "I want to find something that would be the right result if I try to do the simulation on krauss representation for physical system. Do i just take the partial trace?\n",
    "but for entangled states this would be maximally mixed state for all, so:\n",
    "\n",
    "can i recover original density matrix from partial trace??\n",
    "\n",
    "Idea: look at original definition of sitelispring dilation\n"
   ]
  },
  {
   "attachments": {},
   "cell_type": "markdown",
   "metadata": {},
   "source": [
    "\n",
    "# <center> MPO-MPS"
   ]
  },
  {
   "cell_type": "code",
   "execution_count": 27,
   "metadata": {},
   "outputs": [
    {
     "data": {
      "text/plain": [
       "'\\n   This is what convetion will like for MPS and MPO from now on\\n\\n        _____      _____ \\n       /     \\\\    /         ---|0 A 2|--- |0 B 2|--- \\n       \\\\__1__/    \\\\__1__/\\n          |          |\\n     \\n        __|__      __|__\\n       /  2  \\\\    /  2      ---|0 W 1|--- |0 V 1|---\\n       \\\\__3__/    \\\\__3__/\\n          |          |\\n\\nI do this convetion so it agrees with what I implemented in the CMMP project\\n\\nMPO: D[i], D[i+1], n[i], m[i] = (0,1,2,3)\\nvirtual_out, virtual_in, physical_in, physical_out == left, right, up, down\\nwhere out == row and in == column\\n'"
      ]
     },
     "execution_count": 27,
     "metadata": {},
     "output_type": "execute_result"
    }
   ],
   "source": [
    "\"\"\"\n",
    "   This is what convetion will like for MPS and MPO from now on\n",
    "\n",
    "        _____      _____ \n",
    "       /     \\    /     \\\n",
    "    ---|0 A 2|--- |0 B 2|--- \n",
    "       \\__1__/    \\__1__/\n",
    "          |          |\n",
    "     \n",
    "        __|__      __|__\n",
    "       /  2  \\    /  2  \\\n",
    "    ---|0 W 1|--- |0 V 1|---\n",
    "       \\__3__/    \\__3__/\n",
    "          |          |\n",
    "\n",
    "I do this convetion so it agrees with what I implemented in the CMMP project\n",
    "\n",
    "MPO: D[i], D[i+1], n[i], m[i] = (0,1,2,3)\n",
    "virtual_out, virtual_in, physical_in, physical_out == left, right, up, down\n",
    "where out == row and in == column\n",
    "\"\"\"\n"
   ]
  },
  {
   "attachments": {},
   "cell_type": "markdown",
   "metadata": {},
   "source": [
    "# <center> Circuit as MPO\n"
   ]
  },
  {
   "cell_type": "code",
   "execution_count": 102,
   "metadata": {},
   "outputs": [],
   "source": [
    "# the states in our state machine are: len(a,b,c,d,e,f) = 6\n",
    "\n",
    "gamma = 0.5\n",
    "identity = np.eye(2)\n",
    "zero = np.zeros((2,2))\n",
    "\n",
    "ry = np.array([\n",
    "    [np.sqrt(1-gamma), -np.sqrt(gamma)],\n",
    "    [np.sqrt(gamma), np.sqrt(1-gamma)]\n",
    "                ], dtype=np.complex128)\n",
    "\n",
    "W0 = np.array([\n",
    "            [zero, np.outer(up,up), np.outer(down,down), np.outer(down,up), np.outer(up,down), zero]\n",
    "                ])\n",
    "\n",
    "W1 = np.array([\n",
    "            [zero],\n",
    "            [np.outer(up,up)],\n",
    "            [np.outer(up,up)@ry],\n",
    "            [np.outer(down,down)],\n",
    "            [np.outer(down,down)@ry],\n",
    "            [zero]\n",
    "                ])\n",
    "\n",
    "# Amplitude damping MPO acting on two qubits\n",
    "Wlist = [W0, W1]\n",
    "Wlist = [W.transpose((0,1,3,2)) for W in Wlist] # vL vR i j"
   ]
  },
  {
   "cell_type": "code",
   "execution_count": 112,
   "metadata": {},
   "outputs": [
    {
     "data": {
      "text/plain": [
       "(array([[1.+0.j, 0.+0.j],\n",
       "        [0.+0.j, 0.+0.j]]),\n",
       " array([[1.+0.j, 0.+0.j],\n",
       "        [0.+0.j, 0.+0.j]]))"
      ]
     },
     "execution_count": 112,
     "metadata": {},
     "output_type": "execute_result"
    }
   ],
   "source": [
    "mpo = MPO(Wlist)\n",
    "mps_uu = MPS.generate_product_MPS([up, up]) #each has vL i vR\n",
    "quantum_mpo_mps(mps_uu, mpo)"
   ]
  },
  {
   "cell_type": "code",
   "execution_count": 111,
   "metadata": {},
   "outputs": [
    {
     "data": {
      "text/plain": [
       "(array([[0.75      +0.j, 0.35355339+0.j],\n",
       "        [0.35355339+0.j, 0.25      +0.j]]),\n",
       " array([[0.75      +0.j, 0.35355339+0.j],\n",
       "        [0.35355339+0.j, 0.25      +0.j]]))"
      ]
     },
     "execution_count": 111,
     "metadata": {},
     "output_type": "execute_result"
    }
   ],
   "source": [
    "mpo = MPO(Wlist)\n",
    "mps_pu = MPS.generate_product_MPS([plus, up]) #each has vL i vR\n",
    "quantum_mpo_mps(mps_pu, mpo)"
   ]
  },
  {
   "cell_type": "code",
   "execution_count": 110,
   "metadata": {},
   "outputs": [
    {
     "data": {
      "text/plain": [
       "(array([[0.5+0.j, 0. +0.j],\n",
       "        [0. +0.j, 0.5+0.j]]),\n",
       " array([[0.5+0.j, 0. +0.j],\n",
       "        [0. +0.j, 0.5+0.j]]))"
      ]
     },
     "execution_count": 110,
     "metadata": {},
     "output_type": "execute_result"
    }
   ],
   "source": [
    "mpo = MPO(Wlist)\n",
    "mps_du= MPS.generate_product_MPS([down, up]) #each has vL i vR\n",
    "quantum_mpo_mps(mps_du, mpo)"
   ]
  },
  {
   "attachments": {},
   "cell_type": "markdown",
   "metadata": {},
   "source": [
    "# Testing what happens if we change the environment initial state"
   ]
  },
  {
   "cell_type": "code",
   "execution_count": 109,
   "metadata": {},
   "outputs": [
    {
     "data": {
      "text/plain": [
       "(array([[0.75      +0.j, 0.35355339+0.j],\n",
       "        [0.35355339+0.j, 0.25      +0.j]]),\n",
       " array([[0.25      +0.j, 0.35355339+0.j],\n",
       "        [0.35355339+0.j, 0.75      +0.j]]))"
      ]
     },
     "execution_count": 109,
     "metadata": {},
     "output_type": "execute_result"
    }
   ],
   "source": [
    "mpo = MPO(Wlist)\n",
    "mps_pp = MPS.generate_product_MPS([plus, plus]) #each has vL i vR\n",
    "quantum_mpo_mps(mps_pp , mpo)"
   ]
  },
  {
   "cell_type": "code",
   "execution_count": 115,
   "metadata": {},
   "outputs": [
    {
     "data": {
      "text/plain": [
       "(array([[0.25      +0.j, 0.35355339+0.j],\n",
       "        [0.35355339+0.j, 0.75      +0.j]]),\n",
       " array([[ 0.25      +0.j, -0.35355339+0.j],\n",
       "        [-0.35355339+0.j,  0.75      +0.j]]))"
      ]
     },
     "execution_count": 115,
     "metadata": {},
     "output_type": "execute_result"
    }
   ],
   "source": [
    "mpo = MPO(Wlist)\n",
    "mps_pd = MPS.generate_product_MPS([plus, down]) #each has vL i vR\n",
    "quantum_mpo_mps(mps_pd, mpo)"
   ]
  },
  {
   "cell_type": "code",
   "execution_count": 116,
   "metadata": {},
   "outputs": [
    {
     "data": {
      "text/plain": [
       "(array([[0.+0.j, 0.+0.j],\n",
       "        [0.+0.j, 1.+0.j]]),\n",
       " array([[1.+0.j, 0.+0.j],\n",
       "        [0.+0.j, 0.+0.j]]))"
      ]
     },
     "execution_count": 116,
     "metadata": {},
     "output_type": "execute_result"
    }
   ],
   "source": [
    "mpo = MPO(Wlist)\n",
    "mps_dm = MPS.generate_product_MPS([down, minus]) #each has vL i vR\n",
    "quantum_mpo_mps(mps_dm, mpo)"
   ]
  },
  {
   "attachments": {},
   "cell_type": "markdown",
   "metadata": {},
   "source": [
    "# try for a bell state:"
   ]
  },
  {
   "cell_type": "code",
   "execution_count": 119,
   "metadata": {},
   "outputs": [
    {
     "data": {
      "text/plain": [
       "(array([[ 0.75      +0.j, -0.35355339+0.j],\n",
       "        [-0.35355339+0.j,  0.25      +0.j]]),\n",
       " array([[0.75      +0.j, 0.35355339+0.j],\n",
       "        [0.35355339+0.j, 0.25      +0.j]]))"
      ]
     },
     "execution_count": 119,
     "metadata": {},
     "output_type": "execute_result"
    }
   ],
   "source": [
    "mpo = MPO(Wlist)\n",
    "psi_plus = MPS([B0, B1])\n",
    "quantum_mpo_mps(psi_plus, mpo)"
   ]
  },
  {
   "cell_type": "code",
   "execution_count": null,
   "metadata": {},
   "outputs": [],
   "source": [
    "\n"
   ]
  }
 ],
 "metadata": {
  "kernelspec": {
   "display_name": "thesis",
   "language": "python",
   "name": "python3"
  },
  "language_info": {
   "codemirror_mode": {
    "name": "ipython",
    "version": 3
   },
   "file_extension": ".py",
   "mimetype": "text/x-python",
   "name": "python",
   "nbconvert_exporter": "python",
   "pygments_lexer": "ipython3",
   "version": "3.10.4"
  },
  "orig_nbformat": 4,
  "vscode": {
   "interpreter": {
    "hash": "e54f0141033c6754df365506067ddbc1ca599da691a7e6c277f1d7678b6ffe7f"
   }
  }
 },
 "nbformat": 4,
 "nbformat_minor": 2
}
