{
 "cells": [
  {
   "cell_type": "code",
   "execution_count": 1,
   "metadata": {},
   "outputs": [
    {
     "name": "stdout",
     "output_type": "stream",
     "text": [
      "2.6383007149418305e-07\n",
      "1.4977787039695335e-07\n"
     ]
    }
   ],
   "source": [
    "import sys\n",
    "sys.path.append('..')\n",
    "# reload local packages automatically\n",
    "%load_ext autoreload\n",
    "%autoreload 2\n",
    "\n",
    "from jax import config\n",
    "config.update(\"jax_enable_x64\", True)\n",
    "\n",
    "# Import packages.\n",
    "import cvxpy as cp\n",
    "import numpy as np\n",
    "\n",
    "import matplotlib.pyplot as plt\n",
    "\n",
    "\n",
    "from opentn.transformations import create_kitaev_liouvillians, exp_operator_dt, factorize_psd, super2choi\n",
    "d, N = 2, 4\n",
    "dim = d**N\n",
    "Lvec, Lvec_odd, Lvec_even, Lnn = create_kitaev_liouvillians(N=N, d=d, gamma=1e-2)\n",
    "tau = 4\n",
    "superops_exp = []\n",
    "for i, op in enumerate([Lvec, Lvec_odd, Lvec_even]):\n",
    "    if i == 1:\n",
    "        superops_exp.append(exp_operator_dt(op, tau/2, 'jax'))\n",
    "    else:\n",
    "        superops_exp.append(exp_operator_dt(op, tau, 'jax'))\n",
    "exp_Lvec, exp_Lvec_odd, exp_Lvec_even = superops_exp\n",
    "\n",
    "X1 = factorize_psd(psd=super2choi(exp_Lvec_odd), tol=1e-12)\n",
    "X2 = factorize_psd(psd=super2choi(exp_Lvec_even), tol=1e-12)\n",
    "\n",
    "from opentn.optimization import gds, frobenius_norm, model_Ys, compute_loss\n",
    "cost_n4, grads_n4, xi_n4 = gds(fn=compute_loss, x0=[X1, X2, X1], iter=int(2e3), loss_fn=frobenius_norm, model=model_Ys, rate=1.5e-9, exact = exp_Lvec, show_cost=False)\n",
    "print(cost_n4[0])\n",
    "print(cost_n4[-1])"
   ]
  },
  {
   "cell_type": "code",
   "execution_count": 91,
   "metadata": {},
   "outputs": [
    {
     "name": "stdout",
     "output_type": "stream",
     "text": [
      "9.516735356249845e-08\n"
     ]
    },
    {
     "name": "stderr",
     "output_type": "stream",
     "text": [
      "/opt/miniconda3/envs/thesis/lib/python3.10/site-packages/scipy/sparse/_data.py:72: ComplexWarning: Casting complex values to real discards the imaginary part\n",
      "  self.data.astype(dtype, casting=casting, copy=True),\n"
     ]
    }
   ],
   "source": [
    "from opentn.transformations import super2choi, choi_composition\n",
    "from opentn.optimization import small2zero\n",
    "from scipy import sparse\n",
    "\n",
    "with open('x_scs_warm_gds_eps_e-11.npy', 'rb') as f:\n",
    "    Y1_cvxpy = np.load(f)\n",
    "# rest of matrices optimized with GSD\n",
    "X1_gds, X2_gds, X3_gds = xi_n4[-1]\n",
    "Y1_gds = X1_gds@X1_gds.conj().T\n",
    "Y2_gds = X2_gds@X2_gds.conj().T\n",
    "Y3_gds = X3_gds@X3_gds.conj().T\n",
    "\n",
    "tol = 1e-10\n",
    "\n",
    "# rhs to which we want to approximate\n",
    "rhs = np.asarray(super2choi(superop=exp_Lvec, dim=dim))\n",
    "# srhs = sparse.csr_matrix(rhs) # small2zero was deleted\n",
    "srhs = sparse.csr_matrix(small2zero(rhs, tol=tol)) # small2zero was deleted\n",
    "srhs = srhs.astype(np.float64)\n",
    "# change partial transpose to A\n",
    "A = choi_composition(C1=small2zero(Y2_gds, tol=tol), C2=small2zero(Y3_gds, tol=tol), dim=dim) # small2zero was deleted\n",
    "print(frobenius_norm(choi_composition(small2zero(Y1_cvxpy, tol=tol), A), small2zero(rhs, tol=tol))) # value when small2zero was used on A and rhs: 2.6522855638959974e-07\n",
    "# update: apply small2zero to both A and rhs with same tol=1e-10"
   ]
  },
  {
   "cell_type": "code",
   "execution_count": 92,
   "metadata": {},
   "outputs": [
    {
     "name": "stdout",
     "output_type": "stream",
     "text": [
      "1.4981540520646326e-07\n",
      "1.4977787039695335e-07\n"
     ]
    }
   ],
   "source": [
    "print(frobenius_norm(choi_composition(small2zero(Y1_gds, tol=tol), small2zero(A, tol=tol)), small2zero(rhs, tol=tol))) \n",
    "print(cost_n4[-1])"
   ]
  },
  {
   "cell_type": "code",
   "execution_count": 94,
   "metadata": {},
   "outputs": [
    {
     "name": "stdout",
     "output_type": "stream",
     "text": [
      "19044 2980\n",
      "19044 2592\n",
      "19044 2976\n",
      "3808 3152\n"
     ]
    }
   ],
   "source": [
    "for op in [Y1_gds, Y2_gds, Y3_gds, rhs]:\n",
    "    print(sparse.csr_matrix(op).getnnz(), sparse.csr_matrix(small2zero(op, tol=tol)).getnnz())"
   ]
  },
  {
   "cell_type": "code",
   "execution_count": 57,
   "metadata": {},
   "outputs": [
    {
     "data": {
      "text/plain": [
       "Array(9.51436397e-08, dtype=float64)"
      ]
     },
     "execution_count": 57,
     "metadata": {},
     "output_type": "execute_result"
    }
   ],
   "source": [
    "frobenius_norm(link_product_cvxpy(Y1_cvxpy, A, dim=dim, transpose=0, simplify=True, tol=1e-10, optimization=False).value, small2zero(rhs, tol=1e-10))"
   ]
  },
  {
   "cell_type": "code",
   "execution_count": 71,
   "metadata": {},
   "outputs": [
    {
     "name": "stdout",
     "output_type": "stream",
     "text": [
      "1.0853149403921307e-10\n",
      "1.4575489056804186e-10\n"
     ]
    }
   ],
   "source": [
    "print(frobenius_norm(rhs, small2zero(rhs, tol=tol)))\n",
    "print(frobenius_norm(rhs, small2zero(rhs, tol=1e-10)))"
   ]
  },
  {
   "cell_type": "code",
   "execution_count": 80,
   "metadata": {},
   "outputs": [
    {
     "name": "stdout",
     "output_type": "stream",
     "text": [
      "16\n",
      "17\n"
     ]
    }
   ],
   "source": [
    "print(np.linalg.matrix_rank(rhs, tol=tol))\n",
    "print(np.linalg.matrix_rank(small2zero(rhs, tol=tol), tol=tol))"
   ]
  },
  {
   "cell_type": "code",
   "execution_count": 82,
   "metadata": {},
   "outputs": [
    {
     "name": "stdout",
     "output_type": "stream",
     "text": [
      "[1.58809071e+01 5.35571431e-02 3.96274662e-02 2.56236967e-02\n",
      " 1.19766269e-04 4.95029797e-05 4.94826258e-05 4.08201317e-05\n",
      " 2.47515434e-05 8.95308390e-08 7.94678759e-08 5.63855416e-08\n",
      " 4.35119228e-08 1.83024667e-08 1.61593461e-08 8.50200640e-09\n",
      " 9.97181402e-11 6.72504453e-11 3.81643688e-11 3.10066063e-11]\n",
      "----\n",
      "[1.58809071e+01 5.35571431e-02 3.96274662e-02 2.56236967e-02\n",
      " 1.19766270e-04 4.95029806e-05 4.94826266e-05 4.08201301e-05\n",
      " 2.47515418e-05 8.95279320e-08 7.94676789e-08 5.63870560e-08\n",
      " 4.35160724e-08 1.83035080e-08 1.61580364e-08 8.50463023e-09\n",
      " 1.00970459e-10 8.72534489e-11 5.47195524e-11 4.95503676e-11]\n"
     ]
    }
   ],
   "source": [
    "max_idx = 20\n",
    "print(np.sort(np.linalg.svd(rhs, compute_uv=False))[::-1][:max_idx])\n",
    "print('----')\n",
    "print(np.sort(np.linalg.svd(small2zero(rhs, tol=tol), compute_uv=False))[::-1][:max_idx])"
   ]
  },
  {
   "cell_type": "code",
   "execution_count": 24,
   "metadata": {},
   "outputs": [
    {
     "name": "stderr",
     "output_type": "stream",
     "text": [
      "/opt/miniconda3/envs/thesis/lib/python3.10/site-packages/scipy/sparse/_data.py:72: ComplexWarning: Casting complex values to real discards the imaginary part\n",
      "  self.data.astype(dtype, casting=casting, copy=True),\n"
     ]
    },
    {
     "data": {
      "text/plain": [
       "Array(1.56258576e-07, dtype=float64)"
      ]
     },
     "execution_count": 24,
     "metadata": {},
     "output_type": "execute_result"
    }
   ],
   "source": [
    "frobenius_norm(link_product_cvxpy(Y1_cvxpy, A, dim=dim, transpose=1, simplify=True).value, rhs)"
   ]
  },
  {
   "cell_type": "code",
   "execution_count": 90,
   "metadata": {},
   "outputs": [
    {
     "name": "stderr",
     "output_type": "stream",
     "text": [
      "/var/folders/lv/986s3mp97gv9n3rb757bg87m0000gn/T/ipykernel_4057/1132691232.py:8: ComplexWarning: Casting complex values to real discards the imaginary part\n",
      "  Y3_cvxpy.value = small2zero(Y3_gds, tol=tol).astype(np.float64)\n"
     ]
    },
    {
     "data": {
      "text/plain": [
       "9.516185192969064e-08"
      ]
     },
     "execution_count": 90,
     "metadata": {},
     "output_type": "execute_result"
    }
   ],
   "source": [
    "# now lets try an optimization for the third layer using as a warm start the solution that we found with GDS as well.\n",
    "# now C1 = Y2 @ Y1 and C2 = Y3_opt\n",
    "from opentn.transformations import link_product_cvxpy\n",
    "Y3_cvxpy = cp.Variable((dim**2,dim**2), PSD=True)\n",
    "lhs = link_product_cvxpy(C1=small2zero(choi_composition(Y1_cvxpy, Y2_gds), tol=tol), C2=Y3_cvxpy, dim=dim, transpose=0, optimization=True)\n",
    "cost = cp.norm(lhs - srhs, \"fro\")\n",
    "prob = cp.Problem(cp.Minimize(cost))\n",
    "Y3_cvxpy.value = small2zero(Y3_gds, tol=tol).astype(np.float64) \n",
    "cost.value"
   ]
  },
  {
   "cell_type": "code",
   "execution_count": 35,
   "metadata": {},
   "outputs": [
    {
     "name": "stderr",
     "output_type": "stream",
     "text": [
      "/var/folders/lv/986s3mp97gv9n3rb757bg87m0000gn/T/ipykernel_4057/4238069078.py:2: ComplexWarning: Casting complex values to real discards the imaginary part\n",
      "  test_Y3_cvxpy.value = small2zero(Y3_gds, tol=1e-11).astype(np.float64)\n"
     ]
    },
    {
     "name": "stdout",
     "output_type": "stream",
     "text": [
      "9.519125511238636e-08\n"
     ]
    }
   ],
   "source": [
    "test_Y3_cvxpy = cp.Variable((dim**2,dim**2), PSD=True)\n",
    "test_Y3_cvxpy.value = small2zero(Y3_gds, tol=1e-11).astype(np.float64)\n",
    "test_lhs = link_product_cvxpy(C1=choi_composition(Y1_cvxpy, Y2_gds, dim=dim), C2=test_Y3_cvxpy, dim=dim, transpose=0, simplify=True, tol=1e-11, optimization=True)\n",
    "print(frobenius_norm(test_lhs.value, rhs)) # value when small2zero was used on A and rhs: 2.6522855638959974e-07"
   ]
  },
  {
   "cell_type": "code",
   "execution_count": 51,
   "metadata": {},
   "outputs": [
    {
     "name": "stdout",
     "output_type": "stream",
     "text": [
      "===============================================================================\n",
      "                                     CVXPY                                     \n",
      "                                     v1.3.2                                    \n",
      "===============================================================================\n",
      "(CVXPY) Jul 27 01:33:02 PM: Your problem has 65536 variables, 0 constraints, and 0 parameters.\n",
      "(CVXPY) Jul 27 01:33:02 PM: It is compliant with the following grammars: DCP, DQCP\n",
      "(CVXPY) Jul 27 01:33:02 PM: (If you need to solve this problem multiple times, but with different data, consider using parameters.)\n",
      "(CVXPY) Jul 27 01:33:02 PM: CVXPY will first compile your problem; then, it will invoke a numerical solver to obtain a solution.\n",
      "-------------------------------------------------------------------------------\n",
      "                                  Compilation                                  \n",
      "-------------------------------------------------------------------------------\n",
      "(CVXPY) Jul 27 01:33:02 PM: Compiling problem (target solver=SCS).\n",
      "(CVXPY) Jul 27 01:33:02 PM: Reduction chain: Dcp2Cone -> CvxAttr2Constr -> ConeMatrixStuffing -> SCS\n",
      "(CVXPY) Jul 27 01:33:02 PM: Applying reduction Dcp2Cone\n",
      "(CVXPY) Jul 27 01:33:02 PM: Applying reduction CvxAttr2Constr\n",
      "(CVXPY) Jul 27 01:33:02 PM: Applying reduction ConeMatrixStuffing\n",
      "(CVXPY) Jul 27 01:43:57 PM: Applying reduction SCS\n",
      "(CVXPY) Jul 27 01:43:57 PM: Finished problem compilation (took 6.546e+02 seconds).\n",
      "-------------------------------------------------------------------------------\n",
      "                                Numerical solver                               \n",
      "-------------------------------------------------------------------------------\n",
      "(CVXPY) Jul 27 01:43:57 PM: Invoking solver SCS  to obtain a solution.\n",
      "------------------------------------------------------------------\n",
      "\t       SCS v3.2.3 - Splitting Conic Solver\n",
      "\t(c) Brendan O'Donoghue, Stanford University, 2012\n",
      "------------------------------------------------------------------\n",
      "problem:  variables n: 32897, constraints m: 98433\n",
      "cones: \t  q: soc vars: 65537, qsize: 1\n",
      "\t  s: psd vars: 32896, ssize: 1\n",
      "settings: eps_abs: 2.5e-11, eps_rel: 2.5e-11, eps_infeas: 1.0e-07\n",
      "\t  alpha: 1.50, scale: 1.00e-01, adaptive_scale: 1\n",
      "\t  max_iters: 100000, normalize: 1, rho_x: 1.00e-06\n",
      "\t  acceleration_lookback: 10, acceleration_interval: 10\n",
      "lin-sys:  sparse-direct-amd-qdldl\n",
      "\t  nnz(A): 1173217, nnz(P): 0\n",
      "------------------------------------------------------------------\n",
      " iter | pri res | dua res |   gap   |   obj   |  scale  | time (s)\n",
      "------------------------------------------------------------------\n",
      "     0| 1.67e+01  1.00e+00  3.93e+01  2.91e+00  1.00e-01  2.38e-01 \n",
      "   250| 9.37e-09  2.68e-11  1.79e-11  6.35e-11  8.57e+01  2.46e+00 \n",
      "   500| 9.38e-09  7.36e-10  1.40e-08  6.86e-09  1.14e+04  4.60e+00 \n",
      "   750| 9.37e-09  2.07e-09  1.26e-09  6.07e-10  3.67e+04  6.73e+00 \n",
      "  1000| 9.37e-09  8.48e-10  1.31e-10  4.14e-11  3.67e+04  8.84e+00 \n",
      "  1250| 6.26e-11  9.13e-10  6.64e-09  9.85e-08  1.14e+04  1.10e+01 \n",
      "  1500| 5.74e-11  4.04e-11  2.36e-09  9.64e-08  2.52e+03  1.31e+01 \n",
      "  1750| 5.51e-11  3.89e-11  1.51e-09  9.60e-08  2.52e+03  1.52e+01 \n",
      "  2000| 5.28e-11  3.73e-11  8.45e-10  9.48e-08  2.52e+03  1.74e+01 \n",
      "  2250| 5.07e-11  3.58e-11  1.42e-09  9.59e-08  2.52e+03  1.95e+01 \n",
      "  2500| 4.86e-11  3.55e-11  2.77e-09  9.66e-08  2.52e+03  2.17e+01 \n",
      "  2750| 6.10e-10  1.88e-06  6.00e-06 -2.91e-06  2.52e+03  2.38e+01 \n",
      "  3000| 4.47e-11  3.17e-11  2.34e-09  9.40e-08  2.52e+03  2.60e+01 \n",
      "  3250| 4.29e-11  3.05e-11  1.09e-09  9.47e-08  2.52e+03  2.81e+01 \n",
      "  3500| 4.11e-11  2.93e-11  2.27e-09  9.41e-08  2.52e+03  3.03e+01 \n",
      "  3750| 3.95e-11  3.31e-11  2.69e-09  9.39e-08  2.52e+03  3.25e+01 \n",
      "  4000| 3.79e-11  3.48e-11  3.05e-09  9.67e-08  2.52e+03  3.46e+01 \n",
      "  4250| 3.63e-11  2.67e-11  2.17e-09  9.63e-08  2.52e+03  3.68e+01 \n",
      "  4500| 3.49e-11  2.47e-11  1.51e-09  9.60e-08  2.52e+03  3.90e+01 \n",
      "  4750| 3.35e-11  2.89e-11  2.61e-09  9.65e-08  2.52e+03  4.12e+01 \n",
      "  5000| 3.21e-11  2.28e-11  8.85e-10  9.56e-08  2.52e+03  4.34e+01 \n",
      "  5250| 3.08e-11  5.81e-11  5.38e-09  9.79e-08  2.52e+03  4.55e+01 \n",
      "  5500| 2.65e-10  8.40e-07  6.52e-07 -2.31e-07  2.52e+03  4.77e+01 \n",
      "  5750| 2.84e-11  4.60e-11  5.08e-09  9.77e-08  2.52e+03  4.99e+01 \n",
      "  6000| 2.72e-11  2.32e-11  1.76e-09  9.61e-08  2.52e+03  5.21e+01 \n",
      "  6250| 2.61e-11  3.73e-11  3.87e-09  9.33e-08  2.52e+03  5.43e+01 \n",
      "  6500| 2.51e-11  2.89e-11  2.24e-09  9.41e-08  2.52e+03  5.65e+01 \n",
      "  6750| 2.41e-11  2.14e-11  1.32e-09  9.59e-08  2.52e+03  5.87e+01 \n",
      "  7000| 2.31e-11  5.10e-11  4.99e-09  9.77e-08  2.52e+03  6.08e+01 \n",
      "  7250| 2.22e-11  2.30e-11  1.44e-09  9.59e-08  2.52e+03  6.30e+01 \n",
      "  7500| 2.13e-11  4.41e-11  4.74e-09  9.76e-08  2.52e+03  6.52e+01 \n",
      "  7750| 2.04e-11  1.45e-11  5.14e-11  9.52e-08  2.52e+03  6.74e+01 \n",
      "  8000| 1.96e-11  1.77e-11  1.07e-09  9.57e-08  2.52e+03  6.96e+01 \n",
      "  8250| 1.05e-10  3.58e-07  5.30e-07 -1.70e-07  2.52e+03  7.18e+01 \n",
      "  8500| 1.81e-11  2.37e-11  1.88e-09  9.61e-08  2.52e+03  7.39e+01 \n",
      "  8750| 1.74e-11  1.86e-11  1.60e-09  9.60e-08  2.52e+03  7.61e+01 \n",
      "  9000| 1.67e-11  1.32e-11  6.99e-10  9.49e-08  2.52e+03  7.83e+01 \n",
      "  9250| 1.60e-11  1.95e-11  1.10e-09  9.58e-08  2.52e+03  8.05e+01 \n",
      "  9500| 1.54e-11  2.98e-11  1.74e-09  9.61e-08  2.52e+03  8.27e+01 \n",
      "  9750| 1.47e-11  3.32e-11  2.86e-09  9.66e-08  2.52e+03  8.49e+01 \n",
      " 10000| 1.42e-11  1.82e-11  4.84e-10  9.50e-08  2.52e+03  8.71e+01 \n",
      " 10250| 1.36e-11  1.43e-11  4.92e-10  9.50e-08  2.52e+03  8.92e+01 \n",
      " 10500| 1.33e-11  1.86e-11  1.43e-09  9.45e-08  2.52e+03  9.14e+01 \n",
      " 10750| 1.33e-11  2.04e-11  1.65e-09  9.60e-08  2.52e+03  9.36e+01 \n",
      " 11000| 3.65e-11  1.50e-07  1.49e-07  1.70e-07  2.52e+03  9.58e+01 \n",
      " 11250| 1.33e-11  2.36e-11  2.58e-09  9.65e-08  2.52e+03  9.80e+01 \n",
      " 11500| 1.33e-11  3.62e-11  3.07e-09  9.67e-08  2.52e+03  1.00e+02 \n",
      " 11750| 1.33e-11  2.23e-11  1.76e-09  9.61e-08  2.52e+03  1.02e+02 \n",
      " 12000| 1.33e-11  1.17e-11  4.13e-10  9.50e-08  2.52e+03  1.05e+02 \n",
      " 12250| 1.33e-11  3.34e-11  3.23e-09  9.68e-08  2.52e+03  1.07e+02 \n",
      " 12500| 1.33e-11  3.02e-11  2.92e-09  9.67e-08  2.52e+03  1.09e+02 \n",
      " 12750| 1.33e-11  3.55e-11  2.70e-09  9.66e-08  2.52e+03  1.11e+02 \n",
      " 12950| 1.33e-11  1.56e-11  1.57e-11  9.52e-08  2.52e+03  1.13e+02 \n",
      "------------------------------------------------------------------\n",
      "status:  solved\n",
      "timings: total: 1.13e+02s = setup: 2.22e-01s + solve: 1.13e+02s\n",
      "\t lin-sys: 4.34e+01s, cones: 6.43e+01s, accel: 7.11e-01s\n",
      "------------------------------------------------------------------\n",
      "objective = 0.000000\n",
      "------------------------------------------------------------------\n",
      "-------------------------------------------------------------------------------\n",
      "                                    Summary                                    \n",
      "-------------------------------------------------------------------------------\n",
      "(CVXPY) Jul 27 01:45:51 PM: Problem status: optimal\n",
      "(CVXPY) Jul 27 01:45:51 PM: Optimal value: 9.519e-08\n",
      "(CVXPY) Jul 27 01:45:51 PM: Compilation took 6.546e+02 seconds\n",
      "(CVXPY) Jul 27 01:45:51 PM: Solver (including time spent in interface) took 1.128e+02 seconds\n"
     ]
    },
    {
     "data": {
      "text/plain": [
       "9.518920490166243e-08"
      ]
     },
     "execution_count": 51,
     "metadata": {},
     "output_type": "execute_result"
    }
   ],
   "source": [
    "prob.solve(solver=cp.SCS, verbose=True, canon_backend=cp.SCIPY_CANON_BACKEND, eps=0.25e-10)"
   ]
  },
  {
   "cell_type": "code",
   "execution_count": 40,
   "metadata": {},
   "outputs": [
    {
     "name": "stdout",
     "output_type": "stream",
     "text": [
      "===============================================================================\n",
      "                                     CVXPY                                     \n",
      "                                     v1.3.2                                    \n",
      "===============================================================================\n",
      "(CVXPY) Jul 26 02:12:35 PM: Your problem has 65536 variables, 0 constraints, and 0 parameters.\n",
      "(CVXPY) Jul 26 02:12:35 PM: It is compliant with the following grammars: DCP, DQCP\n",
      "(CVXPY) Jul 26 02:12:35 PM: (If you need to solve this problem multiple times, but with different data, consider using parameters.)\n",
      "(CVXPY) Jul 26 02:12:35 PM: CVXPY will first compile your problem; then, it will invoke a numerical solver to obtain a solution.\n",
      "-------------------------------------------------------------------------------\n",
      "                                  Compilation                                  \n",
      "-------------------------------------------------------------------------------\n",
      "(CVXPY) Jul 26 02:12:35 PM: Using cached ASA map, for faster compilation (bypassing reduction chain).\n",
      "(CVXPY) Jul 26 02:12:35 PM: Finished problem compilation (took 1.149e-02 seconds).\n",
      "-------------------------------------------------------------------------------\n",
      "                                Numerical solver                               \n",
      "-------------------------------------------------------------------------------\n",
      "(CVXPY) Jul 26 02:12:35 PM: Invoking solver SCS  to obtain a solution.\n",
      "------------------------------------------------------------------\n",
      "\t       SCS v3.2.3 - Splitting Conic Solver\n",
      "\t(c) Brendan O'Donoghue, Stanford University, 2012\n",
      "------------------------------------------------------------------\n",
      "problem:  variables n: 32897, constraints m: 98433\n",
      "cones: \t  q: soc vars: 65537, qsize: 1\n",
      "\t  s: psd vars: 32896, ssize: 1\n",
      "settings: eps_abs: 2.5e-11, eps_rel: 2.5e-11, eps_infeas: 1.0e-07\n",
      "\t  alpha: 1.50, scale: 1.00e-01, adaptive_scale: 1\n",
      "\t  max_iters: 100000, normalize: 1, rho_x: 1.00e-06\n",
      "\t  acceleration_lookback: 10, acceleration_interval: 10\n",
      "lin-sys:  sparse-direct-amd-qdldl\n",
      "\t  nnz(A): 1216737, nnz(P): 0\n",
      "------------------------------------------------------------------\n",
      " iter | pri res | dua res |   gap   |   obj   |  scale  | time (s)\n",
      "------------------------------------------------------------------\n",
      "     0| 7.21e-11  5.34e-15  4.55e-11  9.52e-08  1.00e-01  2.46e-01 \n",
      "   250| 7.22e-11  7.79e-13  3.24e-11  9.52e-08  1.63e+02  2.53e+00 \n",
      "   500| 7.11e-11  9.07e-12  8.40e-10  9.48e-08  1.08e+03  4.88e+00 \n",
      "   750| 6.98e-11  8.92e-12  3.27e-11  9.52e-08  1.08e+03  7.14e+00 \n",
      "  1000| 6.85e-11  8.84e-12  1.61e-10  9.53e-08  1.08e+03  9.40e+00 \n",
      "  1250| 6.73e-11  8.58e-12  1.25e-10  9.53e-08  1.08e+03  1.17e+01 \n",
      "  1500| 6.60e-11  8.50e-12  3.61e-10  9.54e-08  1.08e+03  1.42e+01 \n",
      "  1750| 6.48e-11  1.01e-11  9.15e-10  9.47e-08  1.08e+03  1.66e+01 \n",
      "  2000| 6.37e-11  1.75e-11  1.73e-09  9.61e-08  1.08e+03  1.89e+01 \n",
      "  2250| 6.25e-11  1.31e-11  1.05e-09  9.57e-08  1.08e+03  2.12e+01 \n",
      "  2500| 3.46e-09  3.73e-06  1.28e-06  7.36e-07  1.08e+03  2.37e+01 \n",
      "  2750| 6.03e-11  1.74e-11  1.74e-09  9.61e-08  1.08e+03  2.62e+01 \n",
      "  3000| 5.92e-11  1.88e-11  1.79e-09  9.61e-08  1.08e+03  2.85e+01 \n",
      "  3250| 5.82e-11  1.07e-11  5.53e-10  9.55e-08  1.08e+03  3.07e+01 \n",
      "  3475| 5.72e-11  7.47e-12  1.28e-11  9.52e-08  1.08e+03  3.28e+01 \n",
      "------------------------------------------------------------------\n",
      "status:  solved\n",
      "timings: total: 3.28e+01s = setup: 2.31e-01s + solve: 3.26e+01s\n",
      "\t lin-sys: 1.34e+01s, cones: 1.77e+01s, accel: 2.17e-01s\n",
      "------------------------------------------------------------------\n",
      "objective = 0.000000\n",
      "------------------------------------------------------------------\n",
      "-------------------------------------------------------------------------------\n",
      "                                    Summary                                    \n",
      "-------------------------------------------------------------------------------\n",
      "(CVXPY) Jul 26 02:13:10 PM: Problem status: optimal\n",
      "(CVXPY) Jul 26 02:13:10 PM: Optimal value: 9.518e-08\n",
      "(CVXPY) Jul 26 02:13:10 PM: Compilation took 1.149e-02 seconds\n",
      "(CVXPY) Jul 26 02:13:10 PM: Solver (including time spent in interface) took 3.282e+01 seconds\n"
     ]
    },
    {
     "data": {
      "text/plain": [
       "9.518053924910776e-08"
      ]
     },
     "execution_count": 40,
     "metadata": {},
     "output_type": "execute_result"
    }
   ],
   "source": [
    "# this si the one where the small2zero was not apply everywhere\n",
    "prob.solve(solver=cp.SCS, verbose=True, canon_backend=cp.SCIPY_CANON_BACKEND, eps=0.25e-10)"
   ]
  },
  {
   "cell_type": "code",
   "execution_count": 84,
   "metadata": {},
   "outputs": [
    {
     "name": "stdout",
     "output_type": "stream",
     "text": [
      "12\n",
      "4\n"
     ]
    }
   ],
   "source": [
    "for op in [Y3_cvxpy.value, Y3_gds]:\n",
    "    print(np.linalg.matrix_rank(op, tol=tol))"
   ]
  },
  {
   "cell_type": "code",
   "execution_count": null,
   "metadata": {},
   "outputs": [],
   "source": [
    "# eps: 5e-10: 9.517969895842572e-08\n",
    "# eps: 1e-10: 9.518041680165088e-08\n",
    "# eps: 0.5e-10: 9.517904309118482e-08\n"
   ]
  }
 ],
 "metadata": {
  "kernelspec": {
   "display_name": "Python 3.10.4 ('thesis')",
   "language": "python",
   "name": "python3"
  },
  "language_info": {
   "codemirror_mode": {
    "name": "ipython",
    "version": 3
   },
   "file_extension": ".py",
   "mimetype": "text/x-python",
   "name": "python",
   "nbconvert_exporter": "python",
   "pygments_lexer": "ipython3",
   "version": "3.10.4"
  },
  "orig_nbformat": 4,
  "vscode": {
   "interpreter": {
    "hash": "7a5e335ff2d0165f97b24ec78505e76f6491bb7656bd1655dc8df4969b2c8e72"
   }
  }
 },
 "nbformat": 4,
 "nbformat_minor": 2
}
