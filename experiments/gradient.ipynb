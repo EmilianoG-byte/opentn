{
 "cells": [
  {
   "attachments": {},
   "cell_type": "markdown",
   "metadata": {},
   "source": [
    "# <center> Testing computation of gradient using JAX"
   ]
  },
  {
   "cell_type": "code",
   "execution_count": 1,
   "metadata": {},
   "outputs": [],
   "source": [
    "import sys\n",
    "sys.path.append('..')\n",
    "# reload local packages automatically\n",
    "%load_ext autoreload\n",
    "%autoreload 2"
   ]
  },
  {
   "cell_type": "code",
   "execution_count": 2,
   "metadata": {},
   "outputs": [],
   "source": [
    "# import general moudles\n",
    "import numpy as np\n",
    "import jax.numpy as jnp\n",
    "from jax import grad, jit, vmap\n",
    "from jax import random\n",
    "import jax\n",
    "import scipy\n",
    "import jax.scipy as jscipy\n",
    "import matplotlib.pyplot as plt\n",
    "\n",
    "from jax import config\n",
    "config.update(\"jax_enable_x64\", True)\n"
   ]
  },
  {
   "attachments": {},
   "cell_type": "markdown",
   "metadata": {},
   "source": [
    "# Idea:\n",
    "1. We want to minimize the function: $$ ||  e^{\\tau \\hat{L}} - Y_{even}^{(1)} Y_{odd}^{(2)} Y_{even}^{(3)} ||^2 $$\n",
    "with $$ Y = X X^\\dagger $$, for some $X \\in \\mathcal{C}^{m \\times m}$\n",
    "\n",
    "2. Assume all the layers are different\n",
    "3. Implement the contration of the diagram. In words: 3 layers, 1st and 3rd layer are acting on the even sites, 2nd layer acting on the odd sites. We assume for $N = 6$ sites. \n",
    "4. At the moment don't assume a specific distribution, but rather just 3 layers: $Y_{i}$, $(i \\in {even, odd})$\n",
    "5. Once the contraction is made, I can use JAX to find the gradient wrt to each of the $Y$.\n",
    "6. Use gradient descent to update maybe?. If use GDS, we can use the troterization as first step for guess.\n"
   ]
  },
  {
   "cell_type": "code",
   "execution_count": 6,
   "metadata": {},
   "outputs": [
    {
     "name": "stdout",
     "output_type": "stream",
     "text": [
      "Effective number of qubits 12.0\n"
     ]
    }
   ],
   "source": [
    "# Step 1: create the cost function\n",
    "from opentn.transformations import op2fullspace, dissipative2liouvillian_full\n",
    "from opentn.states.qubits import get_ladder_operator\n",
    "\n",
    "lowering = get_ladder_operator()\n",
    "raising = get_ladder_operator(adjoint=True)\n",
    "gamma = 1e-2 # lindbladian parameter\n",
    "\n",
    "N = 6\n",
    "d = 2\n",
    "\n",
    "I = np.eye(d, dtype=complex)\n",
    "NN = 2\n",
    "# Create nearest neighbour lindbladian operator\n",
    "Lnn = np.sqrt(gamma)*(op2fullspace(raising, i=0, N=NN) + op2fullspace(raising, i=1, N=NN))@(op2fullspace(lowering, i=0, N=NN) - op2fullspace(lowering, i=1, N=NN))/4\n",
    "# vectorize each of the terms and add them together\n",
    "Lvec = np.zeros(shape=(d**(2*N), d**(2*N)), dtype=complex)\n",
    "for i in range(0, N-1):\n",
    "    Lvec += dissipative2liouvillian_full(L=Lnn, i=i, N=N, num_sites=2)\n",
    "effective_qubits = np.log2(Lvec.shape[0])\n",
    "print(f'Effective number of qubits {effective_qubits}')"
   ]
  },
  {
   "cell_type": "code",
   "execution_count": 18,
   "metadata": {},
   "outputs": [
    {
     "data": {
      "text/plain": [
       "(4, 4)"
      ]
     },
     "execution_count": 18,
     "metadata": {},
     "output_type": "execute_result"
    }
   ],
   "source": [
    "Lnn.shape"
   ]
  },
  {
   "cell_type": "code",
   "execution_count": 7,
   "metadata": {},
   "outputs": [],
   "source": [
    "# Exponentiatate to get time evolving liouvillian operator\n",
    "t = 1\n",
    "exp_Lvec = jscipy.linalg.expm(Lvec*t) # this is the exp(\\hat{L}) that we should apply to the vectorization of the initial density matrix."
   ]
  },
  {
   "cell_type": "code",
   "execution_count": null,
   "metadata": {},
   "outputs": [],
   "source": [
    "from opentn.transformations import lindbladian2super\n",
    "super = lindbladian2super(Li=[Lnn], dim=Lnn.shape[0])\n",
    "super.shape[0] == 2**4 == 16"
   ]
  },
  {
   "cell_type": "code",
   "execution_count": null,
   "metadata": {},
   "outputs": [],
   "source": [
    "from opentn.transformations import vectorize\n",
    "\n",
    "M = np.array([[1,2,3,4],[5,6,7,8],[9,10,11,12],[13,14,15,16]])\n",
    "M_vec = vectorize(M)\n",
    "M_vec.shape\n",
    "M_vec_spread = np.reshape(M_vec, newshape=(2,2,2,2))\n",
    "M_spread = M.reshape((2,2,2,2))\n",
    "print(M_vec_spread[0,0,0,0])"
   ]
  },
  {
   "cell_type": "code",
   "execution_count": null,
   "metadata": {},
   "outputs": [],
   "source": [
    "M_spread == M_vec_spread"
   ]
  },
  {
   "attachments": {},
   "cell_type": "markdown",
   "metadata": {},
   "source": [
    "# <center> TIME TO ROCK:"
   ]
  },
  {
   "cell_type": "code",
   "execution_count": null,
   "metadata": {},
   "outputs": [],
   "source": [
    "# Exponential that we are comparing to: exp_Lvec\n",
    "\n",
    "# we can define the cost function\n",
    "@jit\n",
    "def cost(X1, X2, X3):\n",
    "   \"cost function for 'troterization' of exponential\"\n",
    "   # check the dimensions of all the x_i are compatible with full exponential\n",
    "   Xs = [X1,X2,X3]\n",
    "   for X in Xs:\n",
    "      assert X.shape == exp_Lvec.shape, f'Shape of tensors should be: {exp_Lvec.shape}'\n",
    "   \n",
    "   eff_sites = int(np.log2(exp_Lvec.shape[0]))\n",
    "   \n",
    "   Ys = []\n",
    "   # I think the most effective way of doing thins is just making all of them into matrices no?\n",
    "   for X in Xs:\n",
    "      # convert each of the X into a matrix\n",
    "      if X.ndim > 2:\n",
    "         X = jnp.reshape(a=X, newshape=[int(np.sqrt(X.size))]*2)\n",
    "      Y = jnp.dot(X, X.T.conj())\n",
    "      Ys.append(Y)\n",
    "      # y = jnp.tensordot(x, x.conj(), axes=(list(range(eff_sites)),list(range(eff_sites))))\n",
    "      # Ys.append(y.reshape((exp_Lvec.shape[0], exp_Lvec.shape[1])))\n",
    "\n",
    "   Y_total = Ys[0]\n",
    "   for Y in Ys[1:]:\n",
    "      Y_total = jnp.dot(Y, Y_total)\n",
    "      \n",
    "   return jnp.linalg.norm(vectorize(exp_Lvec) - vectorize(Y_total))"
   ]
  },
  {
   "cell_type": "code",
   "execution_count": null,
   "metadata": {},
   "outputs": [],
   "source": [
    "derivative_fn = grad(cost)"
   ]
  },
  {
   "cell_type": "code",
   "execution_count": 8,
   "metadata": {},
   "outputs": [
    {
     "name": "stdout",
     "output_type": "stream",
     "text": [
      "Effective number of qubits 12.0\n",
      "Effective number of qubits 12.0\n"
     ]
    }
   ],
   "source": [
    "# In theory the first guesses could be the X1, X2, X3 comning from the cholesky decomposition of the e^odd and e^even\n",
    "\n",
    "# Y1 and Y3:\n",
    "Lvec_odd = np.zeros(shape=(d**(2*N), d**(2*N)), dtype=complex)\n",
    "for i in range(0, N, 2):\n",
    "    Lvec_odd += dissipative2liouvillian_full(L=Lnn, i=i, N=N, num_sites=2)\n",
    "\n",
    "print(f'Effective number of qubits { np.log2(Lvec_odd.shape[0])}')\n",
    "# Y2\n",
    "Lvec_even = np.zeros(shape=(d**(2*N), d**(2*N)), dtype=complex)\n",
    "for i in range(1, N-1, 2):\n",
    "    Lvec_even += dissipative2liouvillian_full(L=Lnn, i=i, N=N, num_sites=2)\n",
    "\n",
    "print(f'Effective number of qubits {np.log2(Lvec_even.shape[0])}')\n"
   ]
  },
  {
   "cell_type": "code",
   "execution_count": 9,
   "metadata": {},
   "outputs": [
    {
     "data": {
      "text/plain": [
       "True"
      ]
     },
     "execution_count": 9,
     "metadata": {},
     "output_type": "execute_result"
    }
   ],
   "source": [
    "np.allclose(Lvec, Lvec_even  + Lvec_odd)\n",
    "# they do add up to Lvec"
   ]
  },
  {
   "cell_type": "code",
   "execution_count": null,
   "metadata": {},
   "outputs": [],
   "source": [
    "#  NOTE: numpy version is 40 seconds slower than jax. Time: 1m 27.7s\n",
    "# exp_Lvec_odd = expm(Lvec_odd*t/2) \n",
    "# exp_Lvec_even = expm(Lvec_even*t) "
   ]
  },
  {
   "cell_type": "code",
   "execution_count": 10,
   "metadata": {},
   "outputs": [],
   "source": [
    "# converting to exponential\n",
    "# this is the exp(\\hat{L}) that we should apply to the vectorization of the initial density matrix.\n",
    "exp_Lvec_odd = jscipy.linalg.expm(Lvec_odd*t/2) #changing to jax again\n",
    "exp_Lvec_even = jscipy.linalg.expm(Lvec_even*t) #changing to jax again"
   ]
  },
  {
   "cell_type": "code",
   "execution_count": null,
   "metadata": {},
   "outputs": [],
   "source": [
    "X1 = jnp.linalg.cholesky(exp_Lvec_odd)"
   ]
  },
  {
   "cell_type": "code",
   "execution_count": null,
   "metadata": {},
   "outputs": [],
   "source": [
    "jnp.linalg.norm(exp_Lvec_odd - exp_Lvec_odd.conj().T)"
   ]
  },
  {
   "cell_type": "code",
   "execution_count": null,
   "metadata": {},
   "outputs": [],
   "source": [
    "jnp.linalg.norm(exp_Lvec_even - exp_Lvec_even.conj().T)"
   ]
  },
  {
   "cell_type": "code",
   "execution_count": null,
   "metadata": {},
   "outputs": [],
   "source": [
    "Y1 = jnp.dot(X1, X1.T.conj())"
   ]
  },
  {
   "cell_type": "code",
   "execution_count": null,
   "metadata": {},
   "outputs": [],
   "source": [
    "jnp.allclose(exp_Lvec_odd, Y1)"
   ]
  },
  {
   "cell_type": "code",
   "execution_count": null,
   "metadata": {},
   "outputs": [],
   "source": [
    "exp_Lvec_odd - Y1"
   ]
  },
  {
   "cell_type": "code",
   "execution_count": null,
   "metadata": {},
   "outputs": [],
   "source": [
    "X2 = jnp.linalg.cholesky(exp_Lvec_even)"
   ]
  },
  {
   "cell_type": "code",
   "execution_count": null,
   "metadata": {},
   "outputs": [],
   "source": [
    "cost_jit = jit(cost)"
   ]
  },
  {
   "cell_type": "code",
   "execution_count": null,
   "metadata": {},
   "outputs": [],
   "source": [
    "cost_jit(X1=X1, X2=X2, X3=X1) # NOTE: old value: 0.15904978 (when using t instead of t/2 in odd layer)"
   ]
  },
  {
   "cell_type": "code",
   "execution_count": null,
   "metadata": {},
   "outputs": [],
   "source": [
    "grad_x1, grad_x2, grad_x3 = grad(cost_jit, (0,1,2))(X1, X2, X1)"
   ]
  },
  {
   "cell_type": "code",
   "execution_count": null,
   "metadata": {},
   "outputs": [],
   "source": [
    "jnp.linalg.norm(grad_x3)"
   ]
  },
  {
   "cell_type": "code",
   "execution_count": null,
   "metadata": {},
   "outputs": [],
   "source": [
    "cost_eval, grad_x = jax.value_and_grad(cost_jit, (0,1,2))(X1, X2, X1)"
   ]
  },
  {
   "cell_type": "code",
   "execution_count": null,
   "metadata": {},
   "outputs": [],
   "source": [
    "jnp.allclose(grad[2],grad_x3)"
   ]
  },
  {
   "cell_type": "code",
   "execution_count": null,
   "metadata": {},
   "outputs": [],
   "source": [
    "# Now we can update the X matrices and see if these reach a better cost function\n",
    "# NOTE: I wrongly use t=1 instead of 1/2 for the exponential of X1 (and thus X3). We see if we can do better then\n",
    "# NOTE: I fix the error\n",
    "rate = 0.01\n",
    "X1_new = X1 - rate*grad_x[0]\n",
    "X2_new = X2 - rate*grad_x[1]\n",
    "X3_new = X1 - rate*grad_x[2]"
   ]
  },
  {
   "cell_type": "code",
   "execution_count": null,
   "metadata": {},
   "outputs": [],
   "source": [
    "# now lets do another optimization step!\n",
    "cost_eval_2, grad_x_2 = jax.value_and_grad(cost_jit, (0,1,2))(X1_new, X2_new, X3_new)"
   ]
  },
  {
   "cell_type": "code",
   "execution_count": null,
   "metadata": {},
   "outputs": [],
   "source": [
    "X1_new2 = X1_new - rate*grad_x_2[0]\n",
    "X2_new2 = X2_new - rate*grad_x_2[1]\n",
    "X3_new2 = X3_new - rate*grad_x_2[2]\n",
    "cost_jit(X1=X1_new2, X2=X2_new2, X3=X3_new2)"
   ]
  },
  {
   "cell_type": "code",
   "execution_count": null,
   "metadata": {},
   "outputs": [],
   "source": [
    "jnp.linalg.norm(grad_x_2[1])"
   ]
  },
  {
   "cell_type": "code",
   "execution_count": null,
   "metadata": {},
   "outputs": [],
   "source": [
    "jnp.linalg.norm(grad_x[1])"
   ]
  },
  {
   "cell_type": "code",
   "execution_count": null,
   "metadata": {},
   "outputs": [],
   "source": [
    "# third step just to save some time\n",
    "params_len = 3\n",
    "cost_eval_3, grad_x_3 = jax.value_and_grad(cost_jit, list(range(params_len)))(*[X1_new2, X2_new2, X3_new2])"
   ]
  },
  {
   "cell_type": "code",
   "execution_count": null,
   "metadata": {},
   "outputs": [],
   "source": [
    "X1_new3 = X1_new2 - rate*grad_x_3[0]\n",
    "X2_new3 = X2_new2 - rate*grad_x_3[1]\n",
    "X3_new3 = X3_new2 - rate*grad_x_3[2]\n",
    "cost_eval_4 = cost_jit(X1=X1_new3, X2=X2_new3, X3=X3_new3)"
   ]
  },
  {
   "cell_type": "code",
   "execution_count": null,
   "metadata": {},
   "outputs": [],
   "source": [
    "cost_list, xi = gds(fn=cost_jit, x0=[X1_new3, X2_new3, X3_new3], iter=7)"
   ]
  },
  {
   "cell_type": "code",
   "execution_count": null,
   "metadata": {},
   "outputs": [],
   "source": [
    "cost_eval_last = cost_jit(*xi)"
   ]
  },
  {
   "cell_type": "code",
   "execution_count": null,
   "metadata": {},
   "outputs": [],
   "source": [
    "\n",
    "fig = plt.figure(dpi=300)\n",
    "plt.plot(range(11), [cost_eval, cost_eval_2, cost_eval_3] + cost_list[:] + [cost_eval_last], '--x')"
   ]
  },
  {
   "cell_type": "code",
   "execution_count": 5,
   "metadata": {},
   "outputs": [],
   "source": [
    "# Now I want to try if having a different cost function changes anything?\n",
    "def frobenius_norm(A,B):\n",
    "    return jnp.linalg.norm(A-B, ord='fro')\n",
    "\n",
    "@jit\n",
    "def contractions(Xs):\n",
    "    \n",
    "    Ys = []\n",
    "    for X in Xs:\n",
    "        # convert each of the X into a matrix\n",
    "        if X.ndim > 2:\n",
    "            X = jnp.reshape(a=X, newshape=[int(np.sqrt(X.size))]*2)\n",
    "        Y = jnp.dot(X, X.T.conj())\n",
    "        Ys.append(Y)\n",
    "    # Here i should reshuffle the legs to go: choi-> superoperator\n",
    "    Y_total = Ys[0]\n",
    "    for Y in Ys[1:]:\n",
    "        Y_total = jnp.dot(Y, Y_total)\n",
    "    return Y_total\n",
    "\n",
    "def cost_fn(X1, X2, X3, loss_fn):\n",
    "    \"cost function for 'troterization' of exponential. The choi matrix is the one that should be PSD\"\n",
    "    # check the dimensions of all the x_i are compatible with full exponential\n",
    "    Xs = [X1,X2,X3]\n",
    "    for X in Xs:\n",
    "        assert X.shape == exp_Lvec.shape, f'Shape of tensors should be: {exp_Lvec.shape}'\n",
    "    \n",
    "    Y_total = contractions(Xs)\n",
    "    assert exp_Lvec.ndim == Y_total.ndim == 2, 'Y_total should be a matrix'\n",
    "    return jit(loss_fn)(exp_Lvec, Y_total)"
   ]
  },
  {
   "cell_type": "code",
   "execution_count": null,
   "metadata": {},
   "outputs": [],
   "source": [
    "cost_fn(X1, X2, X1, loss_fn=frobenius_norm)"
   ]
  },
  {
   "cell_type": "code",
   "execution_count": null,
   "metadata": {},
   "outputs": [],
   "source": [
    "cost_list_fro, xi_fro = gds(fn=cost_fn, x0=[X1, X2, X1], iter=10, loss_fn=frobenius_norm)"
   ]
  },
  {
   "cell_type": "code",
   "execution_count": null,
   "metadata": {},
   "outputs": [],
   "source": [
    "cost_list_2norm = [cost_eval, cost_eval_2, cost_eval_3] + cost_list[:] + [cost_eval_last]\n",
    "\n",
    "fig = plt.figure(dpi=300)\n",
    "plt.plot(range(11), [c/cost_list_fro[0] for c in cost_list_fro], '--x', label='cost fn: frobenius_norm', markersize=3.5, linewidth=1.0)\n",
    "plt.plot(range(11), [c/cost_list_2norm[0] for c in cost_list_2norm], '--x', label='cost fn: 2-norm', markersize=3.5, linewidth=1.0)\n",
    "plt.ylabel(r'$Cost_n/Cost_0$')\n",
    "plt.xlabel('iteration')\n",
    "plt.legend()\n",
    "plt.gca().get_yaxis().get_major_formatter().set_useOffset(False)\n",
    "\n",
    "print(f'frobenius norm: \\n initial: {cost_list_fro[0]} \\n final: {cost_list_fro[-1]}')\n",
    "print(f'2-norm: \\n initial: {cost_list_2norm[0]} \\n final: {cost_list_2norm[-1]}')"
   ]
  },
  {
   "cell_type": "code",
   "execution_count": null,
   "metadata": {},
   "outputs": [],
   "source": [
    "fig = plt.figure(dpi=300)\n",
    "plt.plot(range(11), [v-f for f,v in zip(cost_list_fro,cost_list_2norm)], '--x', label='(2norm) - (frobenius)', markersize=3.5, linewidth=1.0)\n",
    "plt.legend()\n",
    "print(f'difference between functions: {cost_list_2norm[-1] - cost_list_fro[-1]}')"
   ]
  },
  {
   "attachments": {},
   "cell_type": "markdown",
   "metadata": {},
   "source": [
    "# Thoughts\n",
    "\n",
    "1. If I want to use the method with kraus operators, I have to be careful. Becuase it still possible to generate the kraus operators for these systems of $N=6$ but they would be big and acting on many bond dimensions at at time. Besides, I would have to decide how to distribute the kraus dimension among the different sites.\n",
    "\n",
    "2. To achieve this, I can perform a second optimization of each layer s.t: \n",
    "$$Y_i = \\bigotimes_n Z^{[n,n+1]}$$\n",
    "With Z, some operators acting only on neighbouring sites.\n",
    "\n",
    "3. The code is a bit messy, I think I should separate the contraction with the actual cost function that I am using. Maybe just changing the naming of the functions?\n",
    "\n",
    "4. **NOTE**: no boundary conditions are being implemented now\n",
    "\n",
    "5. I am waiting the results to see if changing the cost function changes anything: it barely changes something to be honest. UPDATE: the optimization does help, but as we can see, the cost (norm difference) is already quite low so the change is also not so significant.\n",
    "\n",
    "6. Read more on the error mitigation paper and see if I can get any useful input from it. \n",
    "    > Ideas: \n",
    "    > - they transform the problem to a \"linear problem\"\n",
    "    > - where do they use the rayleigh quotient?\n",
    "    > - what optimization method do they use? GDS also?\n",
    "7. **NOTE**: don't forget what Ayse did. I have learned a bit about matrix manifolds, should look into that direction as well.\n",
    "\n",
    "# TODO:\n",
    "1. <s>Improve naming convention for `cost_fn` and `loss_fn`  </s>.\n",
    "2. <s>Have a code implementation where I can use JIT even when passing a parameter like `loss_fn`. Maybe solved by (1)? </s>\n",
    "3. Implement another optimization step to distribute $Y_i$ onto terms I can exress as kraus operators on NN.\n",
    "4. Test if they make a difference in the accuracy of the time evolution\n",
    "5. Implement boundary conditions. How?"
   ]
  },
  {
   "attachments": {},
   "cell_type": "markdown",
   "metadata": {},
   "source": [
    "# Optimizing to get NN terms:"
   ]
  },
  {
   "cell_type": "code",
   "execution_count": null,
   "metadata": {},
   "outputs": [],
   "source": [
    "\n",
    "def cost_xi(Z1,Z2,Z3, *, Xi, loss_fn):\n",
    "    \"\"\"\n",
    "    cost function for a split of a layer Y_i (X_i) onto 3 blocks tensored\n",
    "    \n",
    "    Here we are using only half of the layer: X_i such that Y_i = X_i @ X_i.adj().T\n",
    "    and we want to get Z1, Z2, Z3 such that: X_i = Z1 (x) Z2 (x) Z3\n",
    "    and then: Y_i = Z1 @ Z_i.adj().T  (x) Z2 @ Z_i.adj().T (x) Z3 @ Z_i.adj().T\n",
    "    \"\"\"\n",
    "    Z_total = jnp.kron(Z1, jnp.kron(Z2, Z3))\n",
    "    return loss_fn(Z_total, Xi)"
   ]
  },
  {
   "cell_type": "code",
   "execution_count": null,
   "metadata": {},
   "outputs": [],
   "source": [
    "X1.shape\n",
    "test = jnp.ones((2**4,2**4))\n",
    "cost_xi(*[test]*3, Xi=X1, loss_fn=frobenius_norm)"
   ]
  },
  {
   "cell_type": "code",
   "execution_count": null,
   "metadata": {},
   "outputs": [],
   "source": [
    "# if the legs are actually grouped by site (4 legs per site), then I would have to reorder the exp legs\n",
    "# but it seems weird if that is the case when using vectorize.\n",
    "# i think i can check if its correct from how i vectorize the lindbladian that gives rise to the exponential?"
   ]
  },
  {
   "attachments": {},
   "cell_type": "markdown",
   "metadata": {},
   "source": [
    "# <center> After 06.06 Meeting"
   ]
  },
  {
   "attachments": {},
   "cell_type": "markdown",
   "metadata": {},
   "source": [
    "# Testing the superoperator <-> choi conversion"
   ]
  },
  {
   "cell_type": "code",
   "execution_count": null,
   "metadata": {},
   "outputs": [],
   "source": [
    "# lets use the e^odd to check this\n",
    "from opentn.transformations import super2choi, choi2super\n",
    "choi = super2choi(exp_Lvec_odd, dim=2**N)\n",
    "\n",
    "np.allclose(choi2super(choi, dim=2**N), exp_Lvec_odd)"
   ]
  },
  {
   "attachments": {},
   "cell_type": "markdown",
   "metadata": {},
   "source": [
    "# Need to check if the $e^{\\mathcal{L}_o}$ is correctly produced"
   ]
  },
  {
   "cell_type": "code",
   "execution_count": null,
   "metadata": {},
   "outputs": [],
   "source": [
    "# This is how it is produced above\n",
    "# exp_Lvec_odd =jscipy.linalg.expm(Lvec_odd*t/2) \n",
    "# exp_Lvec_even = jscipy.linalg.expm(Lvec_even*t) \n",
    "# These act on [0,1] [2,3] [4,5]\n",
    "# NOW, compare when tensor product the individual 2 site terms\n",
    "super = lindbladian2super(Li=[Lnn], dim=Lnn.shape[0])\n",
    "super_exp = scipy.linalg.expm(super*t/2)\n",
    "print(super_exp.shape)\n",
    "super_exp_full = jnp.kron(super_exp, jnp.kron(super_exp, super_exp))\n",
    "print(super_exp_full.shape)\n",
    "# now that we the full thing, check if they are the same\n",
    "print(jnp.allclose(super_exp_full, exp_Lvec_odd))\n",
    "# We see its false, as expected. So we have to rearange the legs!\n",
    "# first reshape it to have 12 legs on each side with local dimension 2 each. We use 4 because we have both sides of the matrix\n",
    "super_exp_full = jnp.reshape(super_exp_full, newshape=[2]*4*N)\n",
    "# now reshuffel the legs.\n",
    "# NOTE: METHOD 1\n",
    "new_order = [0,1,4,5,8,9,2,3,6,7,10,11]\n",
    "super_exp_full = jnp.transpose(super_exp_full, axes=new_order + list(jnp.array(new_order) + 2*N))\n",
    "# NOTE: METHOD 2\n",
    "# source_idx = [2,3,6,7]\n",
    "# destination_idx = [6,7,8,9]\n",
    "# super_exp_full = jnp.moveaxis(super_exp_full, source=source_idx + list(jnp.array(source_idx) + 2*N), destination=destination_idx + list(np.array(destination_idx) + 2*N))\n",
    "# go back to original shape\n",
    "super_exp_full = jnp.reshape(super_exp_full, newshape=exp_Lvec_odd.shape)\n",
    "print(jnp.allclose(super_exp_full, exp_Lvec_odd))"
   ]
  },
  {
   "cell_type": "code",
   "execution_count": 357,
   "metadata": {},
   "outputs": [
    {
     "name": "stdout",
     "output_type": "stream",
     "text": [
      "[4, 5]\n"
     ]
    },
    {
     "data": {
      "text/plain": [
       "[2, 3]"
      ]
     },
     "execution_count": 357,
     "metadata": {},
     "output_type": "execute_result"
    }
   ],
   "source": [
    "\n",
    "n = 4\n",
    "\n",
    "\n",
    "\n"
   ]
  },
  {
   "attachments": {},
   "cell_type": "markdown",
   "metadata": {},
   "source": [
    "# Now redoing the cost function"
   ]
  },
  {
   "cell_type": "code",
   "execution_count": 12,
   "metadata": {},
   "outputs": [],
   "source": [
    "# Now I should re do the simulations!\n",
    "# redo the cost function. The one that is positive semidefinite is the choi matrix.\n",
    "# so Y = Choi matrix = X X+\n",
    "# the one that acts on the vectorization of the density matrix (LPDO) is the superoperator (?)\n",
    "# or rather: we are splitting: e^L = e^1 e^2 e^3 so these are the ones that should be multiplied at the end in the cost function\n",
    "\n",
    "def frobenius_norm(A,B):\n",
    "    return jnp.linalg.norm(A-B, ord='fro')\n",
    "\n",
    "@jit\n",
    "def contractions(Xs):\n",
    "    \"Xs are assumed to be the square roots of the PSD matrices (Choi)\"\n",
    "    Ys = []\n",
    "    for X in Xs:\n",
    "        # convert each of the X into a matrix\n",
    "        if X.ndim > 2:\n",
    "            X = jnp.reshape(a=X, newshape=[int(np.sqrt(X.size))]*2)\n",
    "        Y = jnp.dot(X, X.T.conj())\n",
    "        Ys.append(Y)\n",
    "    # convert to superoperators\n",
    "    Ys_super = [choi2super(choi=Y) for Y in Ys]\n",
    "    Y_total = Ys_super[0]\n",
    "    for Y in Ys_super[1:]:\n",
    "        Y_total = jnp.dot(Y, Y_total)\n",
    "    return Y_total\n",
    "\n",
    "def cost_fn(X1, X2, X3, loss_fn):\n",
    "    \"cost function for 'troterization' of exponential. The choi matrix is the one that should be PSD\"\n",
    "    # NOTE: we are going to accept the Xi that correspond to the choi matrix\n",
    "    # --- choi matrices ---\n",
    "    Xs = [X1,X2,X3]\n",
    "    # --- superoperators ---\n",
    "    Y_total = contractions(Xs)\n",
    "    \n",
    "    assert exp_Lvec.ndim == Y_total.ndim == 2, 'Y_total should be a matrix'\n",
    "    return jit(loss_fn)(exp_Lvec, Y_total)"
   ]
  },
  {
   "attachments": {},
   "cell_type": "markdown",
   "metadata": {},
   "source": [
    "# The problem is now I have to deal with the small eigenvalues of the choi matrix resulting from the exp of superoperator"
   ]
  },
  {
   "cell_type": "code",
   "execution_count": null,
   "metadata": {},
   "outputs": [],
   "source": [
    "# just to check something, see what are the eigenvalues of the individual superop for odd sites (NN)\n",
    "C_NN = super2choi(super_exp)\n",
    "print(jnp.allclose(C_NN.conj().T ,C_NN)) # HERMITIAN: PASS\n",
    "eigvals_NN, eigvecs_NN = np.linalg.eigh(C_NN)\n",
    "# print(eigvals_NN)\n",
    "for eig in eigvals_NN:\n",
    "    if abs(eig) > 1e-9:\n",
    "        print(eig)"
   ]
  },
  {
   "cell_type": "code",
   "execution_count": null,
   "metadata": {},
   "outputs": [],
   "source": [
    "C = super2choi(super=exp_Lvec_odd, dim=2**N)\n",
    "# check if its hermitian\n",
    "print(jnp.allclose(C.conj().T ,C)) # PASS\n",
    "# check the eigenvalues\n",
    "eigvals, eigvecs = np.linalg.eigh(C)\n",
    "print(eigvals)\n",
    "# before: -1.4772072e-05 -1.0541916e-05 -8.1017006e-06 ...  1.9974880e-02\n",
    "# 1.9975079e-02  6.3940044e+01]"
   ]
  },
  {
   "cell_type": "code",
   "execution_count": null,
   "metadata": {},
   "outputs": [],
   "source": [
    "print(len(eigvals))\n",
    "print(np.max(eigvals)) # stays the same\n",
    "print(np.min(eigvals)) #min from before: DeviceArray(-1.4772072e-05, dtype=float32)"
   ]
  },
  {
   "cell_type": "code",
   "execution_count": null,
   "metadata": {},
   "outputs": [],
   "source": [
    "print(np.max(eigvals)/np.min(eigvals))"
   ]
  },
  {
   "cell_type": "code",
   "execution_count": null,
   "metadata": {},
   "outputs": [],
   "source": [
    "tol = 1e-8\n",
    "negative = 0\n",
    "outside_tol = 0\n",
    "for eig in eigvals:\n",
    "    if (eig)<0:\n",
    "        negative += 1\n",
    "    if abs(eig) < tol:\n",
    "        outside_tol += 1\n",
    "    else:\n",
    "        print('eig: ',eig)\n",
    "print(negative)\n",
    "print(outside_tol)"
   ]
  },
  {
   "cell_type": "code",
   "execution_count": null,
   "metadata": {},
   "outputs": [],
   "source": [
    "positive_eigvals = jnp.array([eig if abs(eig)>tol else 0 for eig in eigvals])\n",
    "C_pos = eigvecs@jnp.diag(positive_eigvals)@eigvecs.conj().T"
   ]
  },
  {
   "cell_type": "code",
   "execution_count": null,
   "metadata": {},
   "outputs": [],
   "source": [
    "jnp.allclose(C, C_pos)"
   ]
  },
  {
   "cell_type": "code",
   "execution_count": null,
   "metadata": {},
   "outputs": [],
   "source": [
    "# method 1 for making the new X:\n",
    "eigvecs_pos = np.empty_like(eigvecs)\n",
    "for i, eig in enumerate(eigvals):\n",
    "    if abs(eig) < tol:\n",
    "        eig = 0\n",
    "    eigvecs_pos[:,i] = eigvecs[:,i]*jnp.sqrt(eig)\n",
    "\n",
    "# jnp.allclose(C, eigvecs_pos@eigvecs_pos.conj().T): True"
   ]
  },
  {
   "cell_type": "code",
   "execution_count": null,
   "metadata": {},
   "outputs": [],
   "source": [
    "# method 2:\n",
    "D_sqrt = np.diag([jnp.sqrt(eig) if abs(eig)>=tol else 0 for eig in eigvals])\n",
    "eigvecs_pos2 = jnp.tensordot(eigvecs, D_sqrt, axes=(-1,0))\n",
    "# jnp.allclose(C, eigvecs_pos2@eigvecs_pos2.conj().T): True"
   ]
  },
  {
   "attachments": {},
   "cell_type": "markdown",
   "metadata": {},
   "source": [
    "### DONE! now for $X_2$"
   ]
  },
  {
   "cell_type": "code",
   "execution_count": null,
   "metadata": {},
   "outputs": [],
   "source": [
    "negative = 0\n",
    "outside_tol = 0\n",
    "for eig in positive_eigvals:\n",
    "    if (eig)<0:\n",
    "        negative += 1\n",
    "    if abs(eig) < tol:\n",
    "        outside_tol += 1\n",
    "    else:\n",
    "        print('eig: ',eig)\n",
    "print(negative)\n",
    "print(outside_tol)"
   ]
  },
  {
   "attachments": {},
   "cell_type": "markdown",
   "metadata": {},
   "source": [
    "`LinAlgError: 196-th leading minor of the array is not positive definite`\n",
    "the error happens even when all eigvals are non negative, because cholesky checks `>` not `>=`. Zeros on diag would also affect, same as small numbers"
   ]
  },
  {
   "cell_type": "code",
   "execution_count": null,
   "metadata": {},
   "outputs": [],
   "source": [
    "# scipy.linalg.cholesky(C_pos) # the scipy version and the numpy version give error: not positive semidefinite matrix\n",
    "# np.array([[1,0],[0,1e-18]])"
   ]
  },
  {
   "cell_type": "code",
   "execution_count": null,
   "metadata": {},
   "outputs": [],
   "source": [
    "X1 = eigvecs_pos\n",
    "C2 = super2choi(super=exp_Lvec_even, dim=2**N)\n",
    "# check the eigenvalues\n",
    "eigvals2, eigvecs2 = np.linalg.eigh(C2)\n",
    "X2 = np.empty_like(eigvecs2)\n",
    "for i, eig in enumerate(eigvals2):\n",
    "    if abs(eig) < tol:\n",
    "        eig = 0\n",
    "    X2[:,i] = eigvecs2[:,i]*jnp.sqrt(eig)"
   ]
  },
  {
   "cell_type": "code",
   "execution_count": null,
   "metadata": {},
   "outputs": [],
   "source": [
    "jnp.allclose(C2, X2@X2.conj().T)"
   ]
  },
  {
   "cell_type": "code",
   "execution_count": null,
   "metadata": {},
   "outputs": [],
   "source": [
    "negative = 0\n",
    "outside_tol = 0\n",
    "for eig in eigvals2:\n",
    "    if (eig)<0:\n",
    "        negative += 1\n",
    "    if abs(eig) < tol:\n",
    "        outside_tol += 1\n",
    "    else:\n",
    "        print('eig: ',eig)\n",
    "print(negative)\n",
    "print(outside_tol)"
   ]
  },
  {
   "cell_type": "code",
   "execution_count": null,
   "metadata": {},
   "outputs": [],
   "source": [
    "# doing the multiplication 'manually' to see wtf is wrong\n",
    "exp_approx = exp_Lvec_odd@exp_Lvec_even@exp_Lvec_odd\n",
    "# evaluating the frobenius norm cost function\n",
    "print(frobenius_norm(exp_Lvec, exp_approx)) #even doing jit(frobenius_norm) gives the same"
   ]
  },
  {
   "cell_type": "code",
   "execution_count": null,
   "metadata": {},
   "outputs": [],
   "source": [
    "# the only thing left is doing the contraction manually:\n",
    "def contractions_test(Xs):\n",
    "    \"Xs are assumed to be the square roots of the PSD matrices (Choi)\"\n",
    "    Ys = []\n",
    "    for X in Xs:\n",
    "        # convert each of the X into a matrix\n",
    "        if X.ndim > 2:\n",
    "            X = jnp.reshape(a=X, newshape=[int(np.sqrt(X.size))]*2)\n",
    "        Y = X@X.T.conj()\n",
    "        Ys.append(Y)\n",
    "    # convert to superoperators\n",
    "    Ys_super = [choi2super(choi=Y) for Y in Ys]\n",
    "    Y_total = Ys_super[0]\n",
    "    for Y in Ys_super[1:]:\n",
    "        Y_total = Y@Y_total\n",
    "    return Y_total\n",
    "exp_approx_from_fn_test = contractions_test([X1,X2,X1])"
   ]
  },
  {
   "cell_type": "code",
   "execution_count": null,
   "metadata": {},
   "outputs": [],
   "source": [
    "frobenius_norm(exp_Lvec,exp_approx_from_fn_test) # NOTE: the result does change when we change dot for @, but it actually becomes higher, and slower."
   ]
  },
  {
   "cell_type": "code",
   "execution_count": null,
   "metadata": {},
   "outputs": [],
   "source": [
    "# now lets to every step 'manually' to see if sth changes\n",
    "exp_approx_from_fn = contractions([X1, X2, X1])\n",
    "jnp.allclose(exp_approx_from_fn, exp_approx)"
   ]
  },
  {
   "cell_type": "code",
   "execution_count": null,
   "metadata": {},
   "outputs": [],
   "source": [
    "# since they are the same, then what is different? is it when jitting the function?\n",
    "frobenius_norm(exp_Lvec,exp_approx_from_fn)"
   ]
  },
  {
   "cell_type": "code",
   "execution_count": null,
   "metadata": {},
   "outputs": [],
   "source": [
    "cost_fn(X1, X2, X1, frobenius_norm)"
   ]
  },
  {
   "attachments": {},
   "cell_type": "markdown",
   "metadata": {},
   "source": [
    "> In any case: the results vary a bit if we do it directly from exp() or through `contraction` fn. But this is likely to the approximations done when finding the Xs from exp(Li).  Now lets do a manual step of GDS and see what is going on"
   ]
  },
  {
   "cell_type": "code",
   "execution_count": null,
   "metadata": {},
   "outputs": [],
   "source": [
    "cost_eval_test, grad_x_test = jax.value_and_grad(cost_fn, (0,1,2))(X1, X2, X1, loss_fn=frobenius_norm)\n",
    "# cost_eval_test: 1.4258275e-05"
   ]
  },
  {
   "cell_type": "code",
   "execution_count": null,
   "metadata": {},
   "outputs": [],
   "source": [
    "for grad in grad_x_test:\n",
    "    print(jnp.linalg.norm(grad))"
   ]
  },
  {
   "cell_type": "code",
   "execution_count": null,
   "metadata": {},
   "outputs": [],
   "source": [
    "Xo = [X1, X2, X1]\n",
    "Xi = []\n",
    "rate = 1e-7\n",
    "for i in range(len(grad_x_test)):\n",
    "    Xi.append(Xo[i] - rate*grad_x_test[i])\n",
    "cost_eval_test_i, grad_x_test_i = jax.value_and_grad(cost_fn, (0,1,2))(*Xi, loss_fn=frobenius_norm)\n",
    "print(cost_eval_test_i)"
   ]
  },
  {
   "attachments": {},
   "cell_type": "markdown",
   "metadata": {},
   "source": [
    "| rate | cost          |\n",
    "|------|---------------|\n",
    "| 1e-2 | 7.193493      |\n",
    "| 1e-3 | 0.6897543     |\n",
    "| 1e-4 | 0.068676315   |\n",
    "| 1e-5 | 0.006851822   |\n",
    "| 1-6  | 0.00067363406 |\n",
    "| 1e-7 | 5.7061345e-05 |\n"
   ]
  },
  {
   "cell_type": "code",
   "execution_count": null,
   "metadata": {},
   "outputs": [],
   "source": [
    "cost_list_fro, xi_fro = gds(fn=cost_fn, x0=[X1, X2, X1], iter=3, loss_fn=frobenius_norm, rate=1e-7)"
   ]
  },
  {
   "cell_type": "code",
   "execution_count": null,
   "metadata": {},
   "outputs": [],
   "source": [
    "cost_list_fro"
   ]
  },
  {
   "cell_type": "code",
   "execution_count": null,
   "metadata": {},
   "outputs": [],
   "source": [
    "cost_list_fro2, xi_fro2 = gds(fn=cost_fn, x0=xi_fro, iter=5, loss_fn=frobenius_norm, rate=1e-7)"
   ]
  },
  {
   "cell_type": "code",
   "execution_count": null,
   "metadata": {},
   "outputs": [],
   "source": [
    "cost_list_fro3, xi_fro3 = gds(fn=cost_fn, x0=xi_fro2, iter=7, loss_fn=frobenius_norm, rate=1e-8)"
   ]
  },
  {
   "cell_type": "code",
   "execution_count": null,
   "metadata": {},
   "outputs": [],
   "source": [
    "cost_list_fro4, xi_fro4 = gds(fn=cost_fn, x0=xi_fro2, iter=7, loss_fn=frobenius_norm, rate=1e-7)"
   ]
  },
  {
   "cell_type": "code",
   "execution_count": null,
   "metadata": {},
   "outputs": [],
   "source": [
    "cost_list_fro5, xi_fro5 = gds(fn=cost_fn, x0=xi_fro4, iter=2, loss_fn=frobenius_norm, rate=5e-7)"
   ]
  },
  {
   "attachments": {},
   "cell_type": "markdown",
   "metadata": {},
   "source": [
    "> NOTE: I should return also the gradient? (thinking more about it maybe not)  "
   ]
  },
  {
   "cell_type": "code",
   "execution_count": null,
   "metadata": {},
   "outputs": [],
   "source": [
    "fig = plt.figure(dpi=300)\n",
    "plt.plot(range(18), [c/cost_list_fro[0] for c in cost_list_fro + cost_list_fro2[1:] + cost_list_fro4 + cost_list_fro5], '--x', label='cost fn: frobenius_norm', markersize=3.5, linewidth=1.0)\n",
    "plt.ylabel(r'$Cost_n/Cost_0$')\n",
    "plt.xlabel('iteration')\n",
    "plt.legend()"
   ]
  },
  {
   "attachments": {},
   "cell_type": "markdown",
   "metadata": {},
   "source": [
    "# Ideas what to change:\n",
    "- loss fn: cosine similarity\n",
    "- change to other optimizer: momentum GDS, SGDS, other? (adam, etc.)\n",
    "- ask for help :("
   ]
  },
  {
   "cell_type": "code",
   "execution_count": 7,
   "metadata": {},
   "outputs": [],
   "source": [
    "from opentn.optimization import calculate_norms, update\n",
    "from opentn.transformations import vectorize"
   ]
  },
  {
   "cell_type": "code",
   "execution_count": 13,
   "metadata": {},
   "outputs": [],
   "source": [
    "def cosine_similarity(A:np.ndarray,B:np.ndarray):\n",
    "    # flatten them as this is defined for vectors.\n",
    "    a = vectorize(A)\n",
    "    b = vectorize(B)\n",
    "    # taking the real part as otherwise the grad calculation should guarantee cost_fn to be holomorphic\n",
    "    return -(a@b.T.conj() / (jnp.linalg.norm(a)*jnp.linalg.norm(b))).real\n",
    "    # NOTE: changed the function to have the most negative when A = B"
   ]
  },
  {
   "cell_type": "code",
   "execution_count": null,
   "metadata": {},
   "outputs": [],
   "source": [
    "cosine_similarity(exp_Lvec, exp_Lvec) # all with jnp"
   ]
  },
  {
   "cell_type": "code",
   "execution_count": null,
   "metadata": {},
   "outputs": [],
   "source": [
    "cosine_similarity(exp_Lvec, exp_Lvec) # all with jnp:-0.99999315"
   ]
  },
  {
   "cell_type": "code",
   "execution_count": null,
   "metadata": {},
   "outputs": [],
   "source": [
    "frobenius_norm(exp_Lvec, exp_Lvec)"
   ]
  },
  {
   "cell_type": "code",
   "execution_count": null,
   "metadata": {},
   "outputs": [],
   "source": [
    "test_matrices = [exp_approx, exp_approx_from_fn_test, exp_approx_from_fn, exp_Lvec]\n",
    "for test in test_matrices:\n",
    "    print(cosine_similarity(exp_Lvec, test)) \n",
    "# WHAT IS GOING ON HERE? now the values are higher than one? how can you even distinguish from numerical noise"
   ]
  },
  {
   "attachments": {},
   "cell_type": "markdown",
   "metadata": {},
   "source": [
    "without jax on process and without jax on cost function:\n",
    "-1.000000000000195\n",
    "-1.0000000000001705\n",
    "-0.9999925\n",
    "-1.0000000000002003\n",
    "\n",
    "without jax on process but still jax in cost function:\n",
    "-0.99999994\n",
    "-0.9999999\n",
    "-0.9999924\n",
    "-0.99999994\n",
    "\n",
    "with jax scipy and numpy in process and cost function:\n",
    "-0.99999326\n",
    "-0.9999925\n",
    "-0.99999255\n",
    "-0.99999315\n",
    "\n",
    "process == how we calculate the superoperator exponential\n",
    "\n",
    "> NOTE: having np.linalg.norm instead of jnp version in the cost function makes an error happen"
   ]
  },
  {
   "cell_type": "code",
   "execution_count": null,
   "metadata": {},
   "outputs": [],
   "source": [
    "cost_list_cos_np, grads_list_cos_np, params_list_cos_np = gds(fn=cost_fn, x0=[X1, X2, X1], iter=5, loss_fn=cosine_similarity, rate=1e2)"
   ]
  },
  {
   "cell_type": "code",
   "execution_count": null,
   "metadata": {},
   "outputs": [],
   "source": [
    "len(params_list_cos_np)"
   ]
  },
  {
   "cell_type": "code",
   "execution_count": null,
   "metadata": {},
   "outputs": [],
   "source": [
    "data = cost_list_cos_np\n",
    "l = len(data)\n",
    "fig = plt.figure(dpi=300)\n",
    "plt.plot(range(l), [(d) for d in data], '--x', label='cost fn: cosine similarity', markersize=3.5, linewidth=1.0)\n",
    "plt.axhline(y=-0.99999994, label='ideal value')\n",
    "plt.ylabel(r'$Cost_n$')#/Cost_0$')\n",
    "plt.xlabel('iteration')\n",
    "plt.legend()\n",
    "plt.gca().get_yaxis().get_major_formatter().set_useOffset(False)"
   ]
  },
  {
   "cell_type": "code",
   "execution_count": null,
   "metadata": {},
   "outputs": [],
   "source": [
    "# based on the values we see these are the simulations when jax was used for process and cost fn\n",
    "cost_list_cos, xi_cos, grads_list_cos = gds(fn=cost_fn, x0=[X1, X2, X1], iter=2, loss_fn=cosine_similarity, rate=1e2)"
   ]
  },
  {
   "cell_type": "code",
   "execution_count": null,
   "metadata": {},
   "outputs": [],
   "source": [
    "cost_list_cos2, xi_cos2, grads_list_cos2 = gds(fn=cost_fn, x0=xi_cos, iter=5, loss_fn=cosine_similarity, rate=1e2)"
   ]
  },
  {
   "cell_type": "code",
   "execution_count": null,
   "metadata": {},
   "outputs": [],
   "source": [
    "for i, grads in enumerate(grads_list_cos2):\n",
    "    print('iteration:', i)\n",
    "    calculate_norms(grads)\n",
    "    print()"
   ]
  },
  {
   "cell_type": "code",
   "execution_count": null,
   "metadata": {},
   "outputs": [],
   "source": [
    "data"
   ]
  },
  {
   "cell_type": "code",
   "execution_count": null,
   "metadata": {},
   "outputs": [],
   "source": [
    "data = cost_list_cos + cost_list_cos2[:-1]\n",
    "l = len(data)\n",
    "fig = plt.figure(dpi=300)\n",
    "plt.plot(range(l), [(d) for d in data], '--x', label='cost fn: cosine similarity', markersize=3.5, linewidth=1.0)\n",
    "plt.axhline(y=cosine_similarity(exp_Lvec, exp_Lvec), label='ideal value')\n",
    "plt.ylabel(r'$Cost_n$')#/Cost_0$')\n",
    "plt.xlabel('iteration')\n",
    "plt.legend()\n",
    "plt.gca().get_yaxis().get_major_formatter().set_useOffset(False)"
   ]
  },
  {
   "cell_type": "code",
   "execution_count": null,
   "metadata": {},
   "outputs": [],
   "source": [
    "# optional cosine cost value\n",
    "print(cost_list_cos_np[3])\n",
    "optimal_params = params_list_cos_np[3]"
   ]
  },
  {
   "cell_type": "code",
   "execution_count": null,
   "metadata": {},
   "outputs": [],
   "source": [
    "# lets see what is the cost function with frobenius norm of the optimal parameters obtained in cosine \n",
    "# test_matrices = [exp_approx, exp_approx_from_fn_test, exp_approx_from_fn, exp_Lvec]\n",
    "for test in test_matrices:\n",
    "    print(frobenius_norm(exp_Lvec, test)) \n",
    "\n",
    "# checking what is the cost function of all the params we found with the other method\n",
    "for params in params_list_cos_np:\n",
    "    print(cost_fn(*params, loss_fn=frobenius_norm))"
   ]
  },
  {
   "cell_type": "code",
   "execution_count": null,
   "metadata": {},
   "outputs": [],
   "source": [
    "# now let me try with similar parameters for frobenius again\n",
    "\n",
    "cost_list_fro_np, xi_fro_np, grads_list_fro_np = gds(fn=cost_fn, x0=[X1, X2, X1], iter=5, loss_fn=frobenius_norm, rate=1e-2)"
   ]
  },
  {
   "attachments": {},
   "cell_type": "markdown",
   "metadata": {},
   "source": [
    "for rate = 1e2 it did not work, changes are way too big!"
   ]
  },
  {
   "cell_type": "code",
   "execution_count": null,
   "metadata": {},
   "outputs": [],
   "source": [
    "# old xs\n",
    "calculate_norms([X1, X2])\n",
    "calculate_norms(xi_cos)\n",
    "# are they the same?\n",
    "jnp.allclose(xi_cos[2], X1) # THEY ARE THE SAME! why did it not change?"
   ]
  },
  {
   "cell_type": "code",
   "execution_count": null,
   "metadata": {},
   "outputs": [],
   "source": [
    "calculate_norms([exp_Lvec])"
   ]
  },
  {
   "cell_type": "code",
   "execution_count": null,
   "metadata": {},
   "outputs": [],
   "source": [
    "cost_eval_test, grad_x_test = jax.value_and_grad(cost_fn, (0,1,2))(X1, X2, X1, loss_fn=cosine_similarity)\n",
    "# cost:0.99999255"
   ]
  },
  {
   "cell_type": "code",
   "execution_count": null,
   "metadata": {},
   "outputs": [],
   "source": [
    "calculate_norms(grad_x_test)"
   ]
  },
  {
   "cell_type": "code",
   "execution_count": null,
   "metadata": {},
   "outputs": [],
   "source": [
    "# lets see what happens for 3 random matrices\n",
    "# key = jax.random.PRNGKey(0)\n",
    "size = X1.shape[0] #4096\n",
    "Xs_rnd = []\n",
    "for _ in range(3):\n",
    "    Xs_rnd.append(np.random.normal(size=(size,size)) / np.sqrt(size*size))\n",
    "calculate_norms(Xs_rnd)\n",
    "\n",
    "cost_eval_rnd, grad_x_rnd = jax.value_and_grad(cost_fn, (0,1,2))(*Xs_rnd, loss_fn=cosine_similarity)\n",
    "cost_eval_rnd"
   ]
  },
  {
   "cell_type": "code",
   "execution_count": null,
   "metadata": {},
   "outputs": [],
   "source": [
    "calculate_norms(grad_x_rnd)"
   ]
  },
  {
   "cell_type": "code",
   "execution_count": null,
   "metadata": {},
   "outputs": [],
   "source": [
    "Xs_rnd_upd = update(Xs_rnd, grad_x_rnd, rate=0.1)\n",
    "calculate_norms(Xs_rnd_upd)"
   ]
  },
  {
   "cell_type": "code",
   "execution_count": null,
   "metadata": {},
   "outputs": [],
   "source": [
    "for i in range(3):\n",
    "    print(np.allclose(Xs_rnd[i], Xs_rnd_upd[i]))\n",
    "cost_eval_rnd_upd, grad_x_rnd_upd = jax.value_and_grad(cost_fn, (0,1,2))(*Xs_rnd_updated, loss_fn=cosine_similarity)\n",
    "cost_eval_rnd_upd"
   ]
  },
  {
   "cell_type": "code",
   "execution_count": null,
   "metadata": {},
   "outputs": [],
   "source": [
    "cost_eval_rnd_upd < cost_eval_rnd"
   ]
  },
  {
   "cell_type": "code",
   "execution_count": null,
   "metadata": {},
   "outputs": [],
   "source": [
    "# try to see what happens with random input for frobenius\n",
    "cost_eval_fro_rnd, grad_x_fro_rnd = jax.value_and_grad(cost_fn, (0,1,2))(*Xs_rnd, loss_fn=frobenius_norm)\n",
    "print(cost_eval_fro_rnd)"
   ]
  },
  {
   "cell_type": "code",
   "execution_count": null,
   "metadata": {},
   "outputs": [],
   "source": [
    "for i in range(3):\n",
    "    print(jnp.max(grad_x_fro_rnd[i]))"
   ]
  },
  {
   "cell_type": "code",
   "execution_count": null,
   "metadata": {},
   "outputs": [],
   "source": [
    "calculate_norms(grad_x_fro_rnd)\n",
    "Xs_fro_rnd_upd = update(Xs_rnd, grad_x_fro_rnd, rate=1e7)\n",
    "calculate_norms(Xs_fro_rnd_upd)\n",
    "cost_eval_fro_rnd2, grad_x_fro_rnd2 = jax.value_and_grad(cost_fn, (0,1,2))(*Xs_fro_rnd_upd, loss_fn=frobenius_norm)\n",
    "print(cost_eval_fro_rnd2)"
   ]
  },
  {
   "cell_type": "code",
   "execution_count": null,
   "metadata": {},
   "outputs": [],
   "source": [
    "for i in range(3):\n",
    "    print(np.allclose(Xs_rnd[i], Xs_fro_rnd_upd[i]))\n",
    "for i in range(3):\n",
    "    print(np.max(Xs_rnd[i]))\n",
    "    print(np.max(Xs_fro_rnd_upd[i]))"
   ]
  },
  {
   "cell_type": "code",
   "execution_count": null,
   "metadata": {},
   "outputs": [],
   "source": [
    "print(cost_eval_fro_rnd2)\n",
    "print(cost_eval_fro_rnd)\n",
    "cost_eval_fro_rnd2 == cost_eval_fro_rnd"
   ]
  },
  {
   "cell_type": "code",
   "execution_count": null,
   "metadata": {},
   "outputs": [],
   "source": [
    "cost_list_fro_rnd, xi_fro_rnd = gds(fn=cost_fn, x0=update(Xs_fro_rnd_upd, grad_x_fro_rnd2, rate=1e2), iter=2, loss_fn=frobenius_norm, rate=1e7)"
   ]
  },
  {
   "cell_type": "code",
   "execution_count": null,
   "metadata": {},
   "outputs": [],
   "source": [
    "data = cost_list_cos\n",
    "l = len(data)\n",
    "fig = plt.figure(dpi=300)\n",
    "plt.plot(range(l), [d/data[0] for d in data], '--x', label='cost fn: cosine similarity', markersize=3.5, linewidth=1.0)\n",
    "plt.ylabel(r'$Cost_n/Cost_0$')\n",
    "plt.xlabel('iteration')\n",
    "plt.legend()"
   ]
  },
  {
   "attachments": {},
   "cell_type": "markdown",
   "metadata": {},
   "source": [
    "# UPDATE:\n",
    "I have tried different cost functions (cosine similarity and frobenius norm). While cosine similarity seems to achieve lower cost function values than the original: -0.9999924 -> -0.9999993. But when using this parameters for the frobenius norm, it does not\n",
    "achieve a lower value than the original 8.787664e-06.\n",
    "The values achieved with the params from cosine are: \n",
    "* 8.787664e-06.\n",
    "* 0.009191272\n",
    "* 0.024275228\n",
    "* 0.037115347\n",
    "* 0.047551747\n",
    "* 0.2472178\n",
    "\n",
    "Which it is better than the ones achieved with frobenius directly, with rate = 1e-2:\n",
    "* 8.787664e-06\n",
    "* 5.949858\n",
    "* 2.3600423\n",
    "* 5.0616364\n",
    "* 3.1690357"
   ]
  },
  {
   "attachments": {},
   "cell_type": "markdown",
   "metadata": {},
   "source": [
    "While I am out eating lunch I want to try out the scaling of the strang splitting approximation as dt changes. Let's make a function for it."
   ]
  },
  {
   "cell_type": "code",
   "execution_count": 12,
   "metadata": {},
   "outputs": [],
   "source": [
    "import os\n",
    "os.environ[\"XLA_PYTHON_CLIENT_PREALLOCATE\"]=\"false\"\n",
    "os.environ[\"XLA_PYTHON_CLIENT_MEM_FRACTION\"]=\".XX\"\n",
    "os.environ[\"XLA_PYTHON_CLIENT_ALLOCATOR\"]=\"platform\""
   ]
  },
  {
   "cell_type": "code",
   "execution_count": 14,
   "metadata": {},
   "outputs": [
    {
     "name": "stdout",
     "output_type": "stream",
     "text": [
      "tau = 4.0\n",
      "frobenius norm:  1.8351809852605092e-06\n",
      "tau = 1.0\n",
      "frobenius norm:  2.905328778170247e-08\n",
      "tau = 0.25\n",
      "frobenius norm:  4.554514686574851e-10\n",
      "tau = 0.0625\n",
      "frobenius norm:  7.122610370819612e-12\n",
      "tau = 0.015625\n",
      "frobenius norm:  1.1237449814239106e-13\n"
     ]
    }
   ],
   "source": [
    "# we already have Lvec_odd/even, so all I have to do is exponentiate things with different t \n",
    "from opentn.transformations import exp_operator_dt\n",
    "\n",
    "taus = np.logspace(start=2, stop=-7, num=10, base=2)\n",
    "error_fro = []\n",
    "error_cos = []\n",
    "approx_tau = []\n",
    "for tau in taus[::2]:\n",
    "    print(f'tau = {tau}')\n",
    "    exp_tot = exp_operator_dt(Lvec, tau=tau, library='jax')\n",
    "    exp_odd = exp_operator_dt(Lvec_odd, tau=tau/2, library='jax')\n",
    "    exp_even = exp_operator_dt(Lvec_even, tau=tau, library='jax')\n",
    "    approx = exp_odd @ exp_even @ exp_odd\n",
    "    fro_error =  frobenius_norm(exp_tot, approx)\n",
    "    # cos_error = cosine_similarity(exp_tot, approx)\n",
    "    print('frobenius norm: ', fro_error)\n",
    "    # print('cosine similarity norm: ',cos_error )\n",
    "    # approx_tau.append(approx) so much memory\n",
    "    error_fro.append(fro_error)\n",
    "    # error_cos.append(cos_error)\n",
    "   \n"
   ]
  },
  {
   "cell_type": "code",
   "execution_count": 142,
   "metadata": {},
   "outputs": [
    {
     "name": "stdout",
     "output_type": "stream",
     "text": [
      "(3.1250000000000014e-06+0j)\n",
      "(-3.1250000000000014e-06+0j)\n"
     ]
    }
   ],
   "source": [
    "commutator = Lvec_even@Lvec_odd - Lvec_odd@Lvec_even\n",
    "np.allclose(commutator, np.zeros_like(Lvec))\n",
    "print(np.max(commutator))\n",
    "print(np.min(commutator))\n",
    "# result: does not commute"
   ]
  },
  {
   "cell_type": "code",
   "execution_count": 143,
   "metadata": {},
   "outputs": [
    {
     "data": {
      "text/plain": [
       "array([[ 0.00000e+00+0.j,  0.00000e+00+0.j,  0.00000e+00+0.j, ...,\n",
       "         0.00000e+00+0.j,  0.00000e+00+0.j,  0.00000e+00+0.j],\n",
       "       [ 0.00000e+00+0.j,  0.00000e+00+0.j,  3.90625e-07+0.j, ...,\n",
       "         0.00000e+00+0.j,  0.00000e+00+0.j,  0.00000e+00+0.j],\n",
       "       [ 0.00000e+00+0.j, -3.90625e-07+0.j,  0.00000e+00+0.j, ...,\n",
       "         0.00000e+00+0.j,  0.00000e+00+0.j,  0.00000e+00+0.j],\n",
       "       ...,\n",
       "       [ 0.00000e+00+0.j,  0.00000e+00+0.j,  0.00000e+00+0.j, ...,\n",
       "         0.00000e+00+0.j, -3.90625e-07+0.j,  0.00000e+00+0.j],\n",
       "       [ 0.00000e+00+0.j,  0.00000e+00+0.j,  0.00000e+00+0.j, ...,\n",
       "         3.90625e-07+0.j,  0.00000e+00+0.j,  0.00000e+00+0.j],\n",
       "       [ 0.00000e+00+0.j,  0.00000e+00+0.j,  0.00000e+00+0.j, ...,\n",
       "         0.00000e+00+0.j,  0.00000e+00+0.j,  0.00000e+00+0.j]])"
      ]
     },
     "execution_count": 143,
     "metadata": {},
     "output_type": "execute_result"
    }
   ],
   "source": [
    "commutator"
   ]
  },
  {
   "cell_type": "code",
   "execution_count": 66,
   "metadata": {},
   "outputs": [
    {
     "data": {
      "text/plain": [
       "array([4.       , 2.       , 1.       , 0.5      , 0.25     , 0.125    ,\n",
       "       0.0625   , 0.03125  , 0.015625 , 0.0078125])"
      ]
     },
     "execution_count": 66,
     "metadata": {},
     "output_type": "execute_result"
    }
   ],
   "source": [
    "taus"
   ]
  },
  {
   "cell_type": "code",
   "execution_count": 36,
   "metadata": {},
   "outputs": [
    {
     "name": "stdout",
     "output_type": "stream",
     "text": [
      "tau = 2.0\n",
      "frobenius norm:  2.3141108336003929e-07\n",
      "tau = 0.5\n",
      "frobenius norm:  3.639625954056177e-09\n",
      "tau = 0.125\n",
      "frobenius norm:  5.6962692766458136e-11\n",
      "tau = 0.03125\n",
      "frobenius norm:  8.895348739691741e-13\n",
      "tau = 0.0078125\n",
      "frobenius norm:  2.1323288816858398e-14\n"
     ]
    }
   ],
   "source": [
    "# running the second part\n",
    "error_fro2 = []\n",
    "\n",
    "for tau in taus[1::2]:\n",
    "    print(f'tau = {tau}')\n",
    "    exp_tot = exp_operator_dt(Lvec, tau=tau, library='jax')\n",
    "    exp_odd = exp_operator_dt(Lvec_odd, tau=tau/2, library='jax')\n",
    "    exp_even = exp_operator_dt(Lvec_even, tau=tau, library='jax')\n",
    "    approx = exp_odd @ exp_even @ exp_odd\n",
    "    fro_error =  frobenius_norm(exp_tot, approx)\n",
    "    print('frobenius norm: ', fro_error)\n",
    "    error_fro2.append(fro_error)"
   ]
  },
  {
   "cell_type": "code",
   "execution_count": 47,
   "metadata": {},
   "outputs": [
    {
     "data": {
      "text/plain": [
       "array([1.83518099e-06, 2.31411083e-07, 2.90532878e-08, 3.63962595e-09,\n",
       "       4.55451469e-10, 5.69626928e-11, 7.12261037e-12, 8.89534874e-13,\n",
       "       1.12374498e-13, 2.13232888e-14])"
      ]
     },
     "execution_count": 47,
     "metadata": {},
     "output_type": "execute_result"
    }
   ],
   "source": [
    "np.sort(error_fro + error_fro2)[::-1]"
   ]
  },
  {
   "cell_type": "code",
   "execution_count": 91,
   "metadata": {},
   "outputs": [],
   "source": [
    "from scipy.optimize import curve_fit\n",
    "\n",
    "def func(x, a, b):\n",
    "    return a*x + b"
   ]
  },
  {
   "cell_type": "code",
   "execution_count": 92,
   "metadata": {},
   "outputs": [
    {
     "data": {
      "text/plain": [
       "array([  2.9637176 , -25.06332652])"
      ]
     },
     "execution_count": 92,
     "metadata": {},
     "output_type": "execute_result"
    }
   ],
   "source": [
    "popt, pcov = curve_fit(func, np.log2(taus), np.log2(np.sort(error_fro + error_fro2)[::-1]))\n",
    "popt"
   ]
  },
  {
   "cell_type": "code",
   "execution_count": 113,
   "metadata": {},
   "outputs": [
    {
     "data": {
      "text/plain": [
       "<matplotlib.legend.Legend at 0x7fd6a45c97e0>"
      ]
     },
     "execution_count": 113,
     "metadata": {},
     "output_type": "execute_result"
    },
    {
     "data": {
      "image/png": "[encoded data removed]",
      "text/plain": [
       "<Figure size 1200x800 with 1 Axes>"
      ]
     },
     "metadata": {
      "needs_background": "light"
     },
     "output_type": "display_data"
    }
   ],
   "source": [
    "a = 1.5e-8\n",
    "fig = plt.figure(dpi=200)\n",
    "plt.loglog(taus[::], np.sort(error_fro + error_fro2)[::-1], '--x', base=2, label='Frobenius norm difference: rnd')\n",
    "plt.plot(taus, a*taus**3, label=r'$a x^3$')\n",
    "plt.gca().invert_xaxis()\n",
    "plt.ylabel(r'Frobenius Norm difference')\n",
    "plt.xlabel('tau')\n",
    "plt.legend()"
   ]
  },
  {
   "cell_type": "code",
   "execution_count": null,
   "metadata": {},
   "outputs": [],
   "source": [
    "from opentn.transformations import exp_operator_dt\n",
    "\n",
    "taus = np.logspace(start=2, stop=-7, num=10, base=2)\n",
    "exact_tau = []\n",
    "for tau in taus:\n",
    "    print(f'tau = {tau}')\n",
    "    exp_tot = exp_operator_dt(Lvec, tau=tau, library='jax')\n",
    "    exact_tau.append(exp_tot)"
   ]
  },
  {
   "cell_type": "code",
   "execution_count": null,
   "metadata": {},
   "outputs": [],
   "source": [
    "approx_tau = []\n",
    "for tau in taus:\n",
    "    print(f'tau = {tau}')\n",
    "    exp_odd = exp_operator_dt(Lvec_odd, tau=tau/2, library='jax')\n",
    "    exp_even = exp_operator_dt(Lvec_even, tau=tau, library='jax')\n",
    "    approx = exp_odd@exp_even@exp_odd\n",
    "    approx_tau.append(approx)"
   ]
  },
  {
   "cell_type": "code",
   "execution_count": null,
   "metadata": {},
   "outputs": [],
   "source": [
    "for i in range(len(taus)):\n",
    "    \n",
    "    print('cosine similarity: ', cosine_similarity(exact_tau[i], approx_tau[i]))\n",
    "    "
   ]
  },
  {
   "cell_type": "code",
   "execution_count": null,
   "metadata": {},
   "outputs": [],
   "source": [
    "# idea: use diamond norm from qutip. Transform matrices onto qutip objects.\n",
    "# from forestbencharking: https://forest-benchmarking.readthedocs.io/en/latest/examples/distance_measures.html \n",
    "# we should be using it for choi matrices\n",
    "from opentn.optimization import  diamond_norm_distance\n",
    "\n",
    "# transform superoperators to choi\n",
    "# choi_approx = super2choi(exp_approx)\n",
    "# choi_exact = super2choi(exp_Lvec)\n",
    "\n",
    "# dnorm = diamond_norm_distance(choi_approx, choi_exact)\n",
    "# dnorm"
   ]
  },
  {
   "cell_type": "code",
   "execution_count": null,
   "metadata": {},
   "outputs": [],
   "source": [
    "from opentn.transformations import super2choi, choi2super, kraus2choi, vectorize\n",
    "\n",
    "Id = np.asarray([[1, 0], [0, 1]])\n",
    "Xd = np.asarray([[0, 1], [1, 0]])\n",
    "\n",
    "from scipy.linalg import expm\n",
    "\n",
    "# Define unitary\n",
    "theta = 0.4\n",
    "Ud = expm(-theta*1j*Xd/2)\n",
    "\n",
    "choi0 = kraus2choi([Id])\n",
    "choi1 = kraus2choi([Ud])\n",
    "choi2 = kraus2choi([Xd])\n",
    "\n",
    "dnorm_test = diamond_norm_distance(choi0, choi1)\n",
    "dnorm_test"
   ]
  },
  {
   "attachments": {},
   "cell_type": "markdown",
   "metadata": {},
   "source": [
    "# After meeting on 19th June:"
   ]
  },
  {
   "cell_type": "code",
   "execution_count": null,
   "metadata": {},
   "outputs": [],
   "source": [
    "#  I should try first of all a double precision calculation with jax. Let's see what happens."
   ]
  },
  {
   "attachments": {},
   "cell_type": "markdown",
   "metadata": {},
   "source": [
    "# Update:\n",
    "changed to double precision and now the graph looks way better. It actually scales down when going to low timesteps. However, the problem is the total scale. Already for t=4 the scaling is \"good\" (small). See where the factor is coming from.\n",
    "\n",
    "Try random matrices:"
   ]
  },
  {
   "cell_type": "code",
   "execution_count": 75,
   "metadata": {},
   "outputs": [],
   "source": [
    "# construct random Lvec_odd + Lvec_even = Lvec\n",
    "Lvec_odd_rnd = np.random.normal(size=(d**(2*N),d**(2*N))) / np.sqrt(d**(4*N))\n",
    "Lvec_even_rnd = np.random.normal(size=(d**(2*N),d**(2*N))) / np.sqrt(d**(4*N))\n",
    "Lvec_rnd = Lvec_even_rnd + Lvec_odd_rnd"
   ]
  },
  {
   "cell_type": "code",
   "execution_count": 154,
   "metadata": {},
   "outputs": [
    {
     "name": "stdout",
     "output_type": "stream",
     "text": [
      "False\n",
      "2.8083721203161507e-05\n",
      "-2.8196486525773434e-05\n",
      "1.0001390147571767\n",
      "0.9997203705690085\n",
      "1.413961199521624\n",
      "0.02209110002085059\n"
     ]
    }
   ],
   "source": [
    "# check commutator for random as well\n",
    "commutator_rnd = Lvec_even_rnd@Lvec_odd_rnd - Lvec_odd_rnd@Lvec_even_rnd\n",
    "print(np.allclose(commutator_rnd, np.zeros_like(Lvec_rnd)))\n",
    "print(np.max(commutator_rnd))\n",
    "print(np.min(commutator_rnd))\n",
    "print(np.linalg.norm(Lvec_even_rnd))\n",
    "print(np.linalg.norm(Lvec_odd_rnd))\n",
    "print(np.linalg.norm(Lvec_rnd))\n",
    "print(np.linalg.norm(commutator_rnd))"
   ]
  },
  {
   "cell_type": "code",
   "execution_count": 153,
   "metadata": {},
   "outputs": [
    {
     "name": "stdout",
     "output_type": "stream",
     "text": [
      "0.1199999999999998\n",
      "0.16248076809271875\n",
      "0.2465765601187573\n",
      "0.00015051993223490356\n"
     ]
    }
   ],
   "source": [
    "# this is the one for the real matrices.\n",
    "print(np.linalg.norm(Lvec_even))\n",
    "print(np.linalg.norm(Lvec_odd))\n",
    "print(np.linalg.norm(Lvec))\n",
    "print(np.linalg.norm(commutator))"
   ]
  },
  {
   "cell_type": "code",
   "execution_count": 155,
   "metadata": {},
   "outputs": [],
   "source": [
    "# TODO: relative norm for both normal and rnd\n",
    "# let's compute the approximation of both the random and not random with tau = 4\n",
    "tau = 4\n",
    "# for the real one\n",
    "exp_tot = exp_operator_dt(Lvec, tau=tau, library='jax')\n",
    "exp_odd = exp_operator_dt(Lvec_odd, tau=tau/2, library='jax')\n",
    "exp_even = exp_operator_dt(Lvec_even, tau=tau, library='jax')\n",
    "approx = exp_odd @ exp_even @ exp_odd\n",
    "# and for the random one\n",
    "exp_tot_rnd = exp_operator_dt(Lvec_rnd, tau=tau, library='jax')\n",
    "exp_odd_rnd = exp_operator_dt(Lvec_odd_rnd, tau=tau/2, library='jax')\n",
    "exp_even_rnd = exp_operator_dt(Lvec_even_rnd, tau=tau, library='jax')\n",
    "approx_rnd = exp_odd_rnd @ exp_even_rnd @ exp_odd_rnd"
   ]
  },
  {
   "cell_type": "code",
   "execution_count": 164,
   "metadata": {},
   "outputs": [
    {
     "name": "stdout",
     "output_type": "stream",
     "text": [
      "normal\n",
      "63.20911532301765\n",
      "63.761046447689225\n",
      "63.68238672644092\n",
      "rnd\n",
      "64.25070889205718\n",
      "64.03109890056759\n",
      "64.12597097619738\n"
     ]
    }
   ],
   "source": [
    "print('normal')\n",
    "for op in [exp_tot, exp_odd, exp_even]:\n",
    "    print(np.linalg.norm(op))\n",
    "\n",
    "print('rnd')\n",
    "for op in [exp_tot_rnd, exp_odd_rnd, exp_even_rnd]:\n",
    "    print(np.linalg.norm(op))"
   ]
  },
  {
   "cell_type": "code",
   "execution_count": 169,
   "metadata": {},
   "outputs": [
    {
     "name": "stdout",
     "output_type": "stream",
     "text": [
      "norm difference:  1.8351809852605092e-06\n",
      "norm difference:  0.0035658268220446166\n",
      "ratio:  6.496658153584985e-06\n",
      "ratio rnd:  0.0017830387717299512\n"
     ]
    },
    {
     "data": {
      "text/plain": [
       "3.540064007726609"
      ]
     },
     "execution_count": 169,
     "metadata": {},
     "output_type": "execute_result"
    }
   ],
   "source": [
    "# now compute the norm difference for both cases\n",
    "norm_diff = frobenius_norm(exp_tot, approx)\n",
    "print('norm difference: ', norm_diff)\n",
    "norm_diff_rnd = frobenius_norm(exp_tot_rnd, approx_rnd)\n",
    "print('norm difference: ', norm_diff_rnd)\n",
    "# what are the ratios wrt to the total norm of the individual terms tho?\n",
    "ratio = norm_diff/(np.linalg.norm(Lvec_even) + np.linalg.norm(Lvec_odd))\n",
    "ratio_rnd = norm_diff_rnd/(np.linalg.norm(Lvec_even_rnd) + np.linalg.norm(Lvec_odd_rnd))\n",
    "print('ratio: ', ratio)\n",
    "print('ratio rnd: ', ratio_rnd)\n",
    "1/(0.1199999999999998 + 0.16248076809271875)\n"
   ]
  },
  {
   "cell_type": "code",
   "execution_count": 221,
   "metadata": {},
   "outputs": [
    {
     "data": {
      "text/plain": [
       "0.5882352941176471"
      ]
     },
     "execution_count": 221,
     "metadata": {},
     "output_type": "execute_result"
    }
   ],
   "source": [
    "100*300/51000"
   ]
  },
  {
   "cell_type": "code",
   "execution_count": 177,
   "metadata": {},
   "outputs": [
    {
     "name": "stdout",
     "output_type": "stream",
     "text": [
      "norm difference:  1.6495088157430632e-05\n"
     ]
    }
   ],
   "source": [
    "# NOTE: when dividing by 6, norm of even is: 0.16668983579286278 (similar for odd)\n",
    "# reduce the operators by a factor of 6\n",
    "exp_tot_rnd_red = exp_operator_dt(Lvec_rnd/6, tau=tau, library='jax')\n",
    "exp_odd_rnd_red = exp_operator_dt(Lvec_odd_rnd/6, tau=tau/2, library='jax')\n",
    "exp_even_rnd_red = exp_operator_dt(Lvec_even_rnd/6, tau=tau, library='jax')\n",
    "approx_rnd_red = exp_odd_rnd_red @ exp_even_rnd_red @ exp_odd_rnd_red\n",
    "# norm difference\n",
    "norm_diff_rnd_red = frobenius_norm(exp_tot_rnd_red, approx_rnd_red)\n",
    "print('norm difference: ', norm_diff_rnd_red)"
   ]
  },
  {
   "cell_type": "code",
   "execution_count": 178,
   "metadata": {},
   "outputs": [],
   "source": [
    "# calculating the norm for the odd and even liouvillian\n",
    "eigvals_tot= np.linalg.eigvals(Lvec)\n",
    "eigvals_odd= np.linalg.eigvals(Lvec_odd)\n",
    "eigvals_even= np.linalg.eigvals(Lvec_even)"
   ]
  },
  {
   "cell_type": "code",
   "execution_count": 208,
   "metadata": {},
   "outputs": [
    {
     "data": {
      "text/plain": [
       "0.005000000000000034"
      ]
     },
     "execution_count": 208,
     "metadata": {},
     "output_type": "execute_result"
    }
   ],
   "source": [
    "np.max(np.abs(eigvals_even))"
   ]
  },
  {
   "cell_type": "code",
   "execution_count": 186,
   "metadata": {},
   "outputs": [
    {
     "data": {
      "text/plain": [
       "0.0"
      ]
     },
     "execution_count": 186,
     "metadata": {},
     "output_type": "execute_result"
    }
   ],
   "source": [
    "np.min(np.abs(eigvals_tot))"
   ]
  },
  {
   "cell_type": "code",
   "execution_count": 190,
   "metadata": {},
   "outputs": [
    {
     "data": {
      "text/plain": [
       "4047"
      ]
     },
     "execution_count": 190,
     "metadata": {},
     "output_type": "execute_result"
    }
   ],
   "source": [
    "len([eig for eig in np.abs(eigvals_tot) if eig >=tol])"
   ]
  },
  {
   "cell_type": "code",
   "execution_count": 219,
   "metadata": {},
   "outputs": [
    {
     "data": {
      "text/plain": [
       "<matplotlib.legend.Legend at 0x7fd3c088e080>"
      ]
     },
     "execution_count": 219,
     "metadata": {},
     "output_type": "execute_result"
    },
    {
     "data": {
      "image/png": "[encoded data removed]",
      "text/plain": [
       "<Figure size 1200x800 with 1 Axes>"
      ]
     },
     "metadata": {
      "needs_background": "light"
     },
     "output_type": "display_data"
    }
   ],
   "source": [
    "tol = 1e-5\n",
    "plt.figure(dpi=200)\n",
    "plt.plot([eig for eig in np.abs(eigvals_tot) if eig >=tol], 'o', markersize=0.75, label=r'$L_{tot}$')\n",
    "plt.plot([eig for eig in np.abs(eigvals_odd) if eig >=tol], 'x', markersize=2.5,label=r'$L_{odd}$')\n",
    "plt.plot([eig for eig in np.abs(eigvals_even) if eig >=tol], 'v', markersize=2.5,label=r'$L_{even}$')\n",
    "plt.ylabel(r'Absolute value of eigenvalues |$\\lambda_i$|')\n",
    "plt.xlabel(r'$i$')\n",
    "plt.legend()"
   ]
  },
  {
   "cell_type": "code",
   "execution_count": 76,
   "metadata": {},
   "outputs": [
    {
     "name": "stdout",
     "output_type": "stream",
     "text": [
      "tau = 4.0\n",
      "frobenius norm:  0.0035658268220446166\n",
      "tau = 2.0\n",
      "frobenius norm:  0.00044545124652340686\n",
      "tau = 1.0\n",
      "frobenius norm:  5.567259813992959e-05\n",
      "tau = 0.5\n",
      "frobenius norm:  6.9587901247289e-06\n",
      "tau = 0.25\n",
      "frobenius norm:  8.698392816643911e-07\n"
     ]
    }
   ],
   "source": [
    "error_fro_rnd = []\n",
    "for tau in taus[:5]:\n",
    "    print(f'tau = {tau}')\n",
    "    exp_tot = exp_operator_dt(Lvec_rnd, tau=tau, library='jax')\n",
    "    exp_odd = exp_operator_dt(Lvec_odd_rnd, tau=tau/2, library='jax')\n",
    "    exp_even = exp_operator_dt(Lvec_even_rnd, tau=tau, library='jax')\n",
    "    approx = exp_odd @ exp_even @ exp_odd\n",
    "    fro_error =  frobenius_norm(exp_tot, approx)\n",
    "    print('frobenius norm: ', fro_error)\n",
    "    error_fro_rnd.append(fro_error)"
   ]
  },
  {
   "cell_type": "code",
   "execution_count": 99,
   "metadata": {},
   "outputs": [
    {
     "data": {
      "text/plain": [
       "array([  3.00026875, -14.13242908])"
      ]
     },
     "execution_count": 99,
     "metadata": {},
     "output_type": "execute_result"
    }
   ],
   "source": [
    "popt, pcov = curve_fit(func, np.log2(taus[:5]), np.log2(error_fro_rnd))\n",
    "popt"
   ]
  },
  {
   "cell_type": "code",
   "execution_count": 107,
   "metadata": {},
   "outputs": [
    {
     "data": {
      "text/plain": [
       "<matplotlib.legend.Legend at 0x7fd6a2e62cb0>"
      ]
     },
     "execution_count": 107,
     "metadata": {},
     "output_type": "execute_result"
    },
    {
     "data": {
      "image/png": "[encoded data removed]",
      "text/plain": [
       "<Figure size 1200x800 with 1 Axes>"
      ]
     },
     "metadata": {
      "needs_background": "light"
     },
     "output_type": "display_data"
    }
   ],
   "source": [
    "a = 0.6e-4\n",
    "fig = plt.figure(dpi=200)\n",
    "plt.loglog(taus[:5], error_fro_rnd, '--x', base=2, label='Frobenius norm difference: rnd')\n",
    "plt.plot(taus[:5], a*taus[:5]**3, label=r'$a x^3$')\n",
    "plt.gca().invert_xaxis()\n",
    "plt.ylabel(r'Frobenius Norm difference')\n",
    "plt.xlabel('tau')\n",
    "plt.legend()"
   ]
  },
  {
   "cell_type": "code",
   "execution_count": 134,
   "metadata": {},
   "outputs": [],
   "source": [
    "# let me do 5 random matrices repetition and calculate the error per realization per tau\n",
    "def get_rnd_error(reps:int=5, taus:list=None, max_taus=5, loss_fn=frobenius_norm):\n",
    "    if not taus:\n",
    "        taus = np.logspace(start=max_taus//2, stop=-(max_taus//2), num=max_taus, base=2)\n",
    "\n",
    "    error_matrix = np.empty(shape=(reps, max_taus))\n",
    "\n",
    "    for r in range(reps):\n",
    "        print(f'rep = {r}')\n",
    "        Lvec_odd_rnd = np.random.normal(size=(d**(2*N),d**(2*N))) / np.sqrt(d**(4*N))\n",
    "        Lvec_even_rnd = np.random.normal(size=(d**(2*N),d**(2*N))) / np.sqrt(d**(4*N))\n",
    "        Lvec_rnd = Lvec_even_rnd + Lvec_odd_rnd\n",
    "\n",
    "        for t, tau in enumerate(taus):\n",
    "            print(f'tau = {tau}')\n",
    "            exp_tot = exp_operator_dt(Lvec_rnd, tau=tau, library='jax')\n",
    "            exp_odd = exp_operator_dt(Lvec_odd_rnd, tau=tau/2, library='jax')\n",
    "            exp_even = exp_operator_dt(Lvec_even_rnd, tau=tau, library='jax')\n",
    "            approx = exp_odd @ exp_even @ exp_odd\n",
    "            error =  loss_fn(exp_tot, approx)\n",
    "            print('error: ', error)\n",
    "            error_matrix[r,t] = (error)\n",
    "\n",
    "    return error_matrix"
   ]
  },
  {
   "cell_type": "code",
   "execution_count": 135,
   "metadata": {},
   "outputs": [
    {
     "name": "stdout",
     "output_type": "stream",
     "text": [
      "rep = 0\n",
      "tau = 4.0\n",
      "error:  0.003568082399144354\n",
      "tau = 2.0\n",
      "error:  0.00044573924058725526\n",
      "tau = 1.0\n",
      "error:  5.5708975249910196e-05\n",
      "tau = 0.5\n",
      "error:  6.963360889608923e-06\n",
      "tau = 0.25\n",
      "error:  8.704121044141082e-07\n",
      "rep = 1\n",
      "tau = 4.0\n",
      "error:  0.0035694656313824216\n",
      "tau = 2.0\n",
      "error:  0.0004459121967206489\n",
      "tau = 1.0\n",
      "error:  5.573058803834358e-05\n",
      "tau = 0.5\n",
      "error:  6.9660617519833264e-06\n",
      "tau = 0.25\n",
      "error:  8.707496562404431e-07\n",
      "rep = 2\n",
      "tau = 4.0\n",
      "error:  0.003564441708620497\n",
      "tau = 2.0\n",
      "error:  0.00044528697976762855\n",
      "tau = 1.0\n",
      "error:  5.5652612628625525e-05\n",
      "tau = 0.5\n",
      "error:  6.956325979887737e-06\n",
      "tau = 0.25\n",
      "error:  8.69533385346189e-07\n",
      "rep = 3\n",
      "tau = 4.0\n",
      "error:  0.0035680729835967763\n",
      "tau = 2.0\n",
      "error:  0.0004457400434486545\n",
      "tau = 1.0\n",
      "error:  5.5709191957661326e-05\n",
      "tau = 0.5\n",
      "error:  6.963395013898031e-06\n",
      "tau = 0.25\n",
      "error:  8.704168022202862e-07\n",
      "rep = 4\n",
      "tau = 4.0\n",
      "error:  0.003568737467709079\n",
      "tau = 2.0\n",
      "error:  0.00044581868550908684\n",
      "tau = 1.0\n",
      "error:  5.5718772778051515e-05\n",
      "tau = 0.5\n",
      "error:  6.964577853438705e-06\n",
      "tau = 0.25\n",
      "error:  8.705637601836169e-07\n"
     ]
    }
   ],
   "source": [
    "error_matrix = get_rnd_error(reps=5)"
   ]
  },
  {
   "cell_type": "code",
   "execution_count": 218,
   "metadata": {},
   "outputs": [
    {
     "name": "stdout",
     "output_type": "stream",
     "text": [
      "[3.56776004e-03 4.45699429e-04 5.57040281e-05 6.96274430e-06\n",
      " 8.70335142e-07]\n",
      "[  3.00025911 -14.13162079]\n"
     ]
    },
    {
     "data": {
      "text/plain": [
       "<matplotlib.legend.Legend at 0x7fd3c08f2bf0>"
      ]
     },
     "execution_count": 218,
     "metadata": {},
     "output_type": "execute_result"
    },
    {
     "data": {
      "image/png": "[encoded data removed]",
      "text/plain": [
       "<Figure size 1200x800 with 1 Axes>"
      ]
     },
     "metadata": {
      "needs_background": "light"
     },
     "output_type": "display_data"
    }
   ],
   "source": [
    "error_mean_tau = np.mean(error_matrix, axis=0)\n",
    "print(error_mean_tau)\n",
    "\n",
    "max_taus = 5\n",
    "taus = np.logspace(start=max_taus//2, stop=-(max_taus//2), num=max_taus, base=2)\n",
    "\n",
    "popt, pcov = curve_fit(func, np.log2(taus), np.log2(error_mean_tau))\n",
    "print(popt)\n",
    "\n",
    "fig = plt.figure(dpi=200)\n",
    "plt.loglog(taus, error_mean_tau, '--x', base=2, label='Frobenius norm difference: rnd-average')\n",
    "plt.gca().invert_xaxis()\n",
    "plt.plot(taus, 0.55e-4*taus**3, label=r'$a x^3$')\n",
    "plt.ylabel(r'Frobenius Norm difference')\n",
    "plt.xlabel('tau')\n",
    "plt.legend()"
   ]
  },
  {
   "cell_type": "code",
   "execution_count": 216,
   "metadata": {},
   "outputs": [
    {
     "data": {
      "text/plain": [
       "array([3.56776004e-03, 4.45699429e-04, 5.57040281e-05, 6.96274430e-06,\n",
       "       8.70335142e-07])"
      ]
     },
     "execution_count": 216,
     "metadata": {},
     "output_type": "execute_result"
    }
   ],
   "source": [
    "error_mean_tau"
   ]
  },
  {
   "attachments": {},
   "cell_type": "markdown",
   "metadata": {},
   "source": [
    "# Monday 26th:\n",
    "After seeing that the norm difference makes sense for operators with norm of around 0.1, then maybe I can try the optimization again and see if this time it actually works?"
   ]
  },
  {
   "cell_type": "code",
   "execution_count": 249,
   "metadata": {},
   "outputs": [],
   "source": [
    "from opentn.optimization import gds, compute_loss, frobenius_norm, update, calculate_norms\n",
    "from opentn.transformations import factorize_psd, choi2super, super2choi"
   ]
  },
  {
   "cell_type": "code",
   "execution_count": 238,
   "metadata": {},
   "outputs": [],
   "source": [
    "# get again the X1 and X2 from Lvec_odd and Lvec_even, respectively (the liovillians exp actually)\n",
    "X1 = factorize_psd(psd=super2choi(exp_odd))\n",
    "X2 = factorize_psd(psd=super2choi(exp_even))"
   ]
  },
  {
   "cell_type": "code",
   "execution_count": 241,
   "metadata": {},
   "outputs": [],
   "source": [
    "# let me check if converting X1 back actually gives what we need\n",
    "approx_1 = X1@X1.conj().T"
   ]
  },
  {
   "cell_type": "code",
   "execution_count": 242,
   "metadata": {},
   "outputs": [
    {
     "data": {
      "text/plain": [
       "DeviceArray(True, dtype=bool)"
      ]
     },
     "execution_count": 242,
     "metadata": {},
     "output_type": "execute_result"
    }
   ],
   "source": [
    "jnp.allclose(approx_1, super2choi(exp_odd))"
   ]
  },
  {
   "cell_type": "code",
   "execution_count": 243,
   "metadata": {},
   "outputs": [
    {
     "name": "stdout",
     "output_type": "stream",
     "text": [
      "Starting iteration: 0\n",
      "* Cost function: 1.8351809853518556e-06\n",
      "Starting iteration: 1\n",
      "* Cost function: 2.013013119501657\n"
     ]
    }
   ],
   "source": [
    "cost_list_fro, grads_list_fro, xi_fro = gds(fn=compute_loss, x0=[X1, X2, X1], iter=2, loss_fn=frobenius_norm, rate=1e-2, exact= exp_tot)"
   ]
  },
  {
   "cell_type": "code",
   "execution_count": 251,
   "metadata": {},
   "outputs": [
    {
     "name": "stdout",
     "output_type": "stream",
     "text": [
      "7.9999999999999964\n",
      "7.999999999999998\n",
      "7.9999999999999964\n"
     ]
    }
   ],
   "source": [
    "calculate_norms([X1, X2, X1])"
   ]
  },
  {
   "cell_type": "code",
   "execution_count": 250,
   "metadata": {},
   "outputs": [
    {
     "name": "stdout",
     "output_type": "stream",
     "text": [
      "5.98069086135149\n",
      "6.020445869114712\n",
      "6.031741280884185\n"
     ]
    }
   ],
   "source": [
    "calculate_norms(grads_list_fro[0])"
   ]
  },
  {
   "cell_type": "code",
   "execution_count": 253,
   "metadata": {},
   "outputs": [
    {
     "name": "stdout",
     "output_type": "stream",
     "text": [
      "(1.0000000000000002+0j)\n",
      "(0.9999999999999998+0j)\n",
      "(1.0000000000000002+0j)\n",
      "(0.8770549958628684+0j)\n",
      "(0.8867571028148751+0j)\n",
      "(0.889850817787306+0j)\n"
     ]
    }
   ],
   "source": [
    "for op in [X1, X2, X1]:\n",
    "    print(jnp.max(op))\n",
    "\n",
    "for op in grads_list_fro[0]:\n",
    "    print(jnp.max(op))"
   ]
  },
  {
   "cell_type": "code",
   "execution_count": 272,
   "metadata": {},
   "outputs": [
    {
     "data": {
      "text/plain": [
       "DeviceArray(1.85667507e-06, dtype=float64)"
      ]
     },
     "execution_count": 272,
     "metadata": {},
     "output_type": "execute_result"
    }
   ],
   "source": [
    "Xi_new = update([X1, X2, X1], grads=grads_list_fro[0], rate=1e-8)\n",
    "compute_loss(*Xi_new, loss_fn=frobenius_norm, exact=exp_tot) \n",
    "#np: 59.1 s, cost: 0.20141918\n",
    "#jnp: 1m 15s 20141918\n",
    "#np: rate = 1e-4, 0.02014299\n",
    "# rate = 1e-7, 1.92190425e-05"
   ]
  },
  {
   "cell_type": "code",
   "execution_count": 274,
   "metadata": {},
   "outputs": [
    {
     "data": {
      "text/plain": [
       "DeviceArray(1.73511221e-06, dtype=float64)"
      ]
     },
     "execution_count": 274,
     "metadata": {},
     "output_type": "execute_result"
    }
   ],
   "source": [
    "compute_loss(*update([X1, X2, X1], grads=grads_list_fro[0], rate=1e-9), loss_fn=frobenius_norm, exact=exp_tot) "
   ]
  },
  {
   "cell_type": "code",
   "execution_count": 276,
   "metadata": {},
   "outputs": [
    {
     "name": "stdout",
     "output_type": "stream",
     "text": [
      "Starting iteration: 0\n",
      "* Cost function: 1.7351122076692266e-06\n",
      "Starting iteration: 1\n",
      "* Cost function: 1.665139703537312e-06\n",
      "Starting iteration: 2\n",
      "* Cost function: 1.6188998840934994e-06\n"
     ]
    }
   ],
   "source": [
    "# lets do an optimization step with this new parameters\n",
    "cost_list_fro2, grads_list_fro2, xi_fro2 = gds(fn=compute_loss, x0=update([X1, X2, X1], grads=grads_list_fro[0], rate=1e-9), iter=3, loss_fn=frobenius_norm, rate=1e-9, exact= exp_tot)"
   ]
  },
  {
   "cell_type": "code",
   "execution_count": 280,
   "metadata": {},
   "outputs": [
    {
     "name": "stdout",
     "output_type": "stream",
     "text": [
      "Starting iteration: 0\n",
      "* Cost function: 1.5896880290027847e-06\n",
      "Starting iteration: 1\n",
      "* Cost function: 1.5718060328926457e-06\n",
      "Starting iteration: 2\n",
      "* Cost function: 1.561063153296394e-06\n"
     ]
    }
   ],
   "source": [
    "cost_list_fro3, grads_list_fro3, xi_fro3 = gds(fn=compute_loss, x0=xi_fro2[-1], iter=3, loss_fn=frobenius_norm, rate=1e-9, exact= exp_tot)"
   ]
  },
  {
   "cell_type": "code",
   "execution_count": 281,
   "metadata": {},
   "outputs": [
    {
     "name": "stdout",
     "output_type": "stream",
     "text": [
      "Starting iteration: 0\n",
      "* Cost function: 1.5546582004547543e-06\n",
      "Starting iteration: 1\n",
      "* Cost function: 1.5508292726019994e-06\n",
      "Starting iteration: 2\n",
      "* Cost function: 1.5485088368040208e-06\n"
     ]
    }
   ],
   "source": [
    "cost_list_fro4, grads_list_fro4, xi_fro4 = gds(fn=compute_loss, x0=xi_fro3[-1], iter=3, loss_fn=frobenius_norm, rate=1e-9, exact= exp_tot)"
   ]
  },
  {
   "cell_type": "code",
   "execution_count": 287,
   "metadata": {},
   "outputs": [
    {
     "name": "stdout",
     "output_type": "stream",
     "text": [
      "Starting iteration: 0\n",
      "* Cost function: 1.5470644247033028e-06\n",
      "Starting iteration: 1\n",
      "* Cost function: 1.5461262577555021e-06\n",
      "Starting iteration: 2\n",
      "* Cost function: 1.545479813268905e-06\n"
     ]
    }
   ],
   "source": [
    "cost_list_fro5, grads_list_fro5, xi_fro5 = gds(fn=compute_loss, x0=xi_fro4[-1], iter=3, loss_fn=frobenius_norm, rate=1e-9, exact= exp_tot)"
   ]
  },
  {
   "cell_type": "code",
   "execution_count": 307,
   "metadata": {},
   "outputs": [
    {
     "data": {
      "text/plain": [
       "<matplotlib.legend.Legend at 0x7fd5f2afd570>"
      ]
     },
     "execution_count": 307,
     "metadata": {},
     "output_type": "execute_result"
    },
    {
     "data": {
      "image/png": "[encoded data removed]",
      "text/plain": [
       "<Figure size 1200x800 with 1 Axes>"
      ]
     },
     "metadata": {
      "needs_background": "light"
     },
     "output_type": "display_data"
    }
   ],
   "source": [
    "data = cost_list_fro[0:1] + cost_list_fro2 + cost_list_fro3 + cost_list_fro4 + cost_list_fro5\n",
    "fig = plt.figure(dpi=200)\n",
    "plt.plot(range(len(data)), np.array(data)/data[0], '--x', label=r'Loss fn: Frobenius, $\\tau = 4$')\n",
    "plt.ylabel(r'Cost function')\n",
    "plt.xlabel('iteration')\n",
    "plt.legend()"
   ]
  },
  {
   "cell_type": "code",
   "execution_count": 291,
   "metadata": {},
   "outputs": [],
   "source": [
    "# now lets do the same but for tau = 0.5\n",
    "tau = 0.5\n",
    "\n",
    "exp_tot_05 = exp_operator_dt(Lvec, tau=tau, library='jax')\n",
    "exp_odd_05 = exp_operator_dt(Lvec_odd, tau=tau/2, library='jax')\n",
    "exp_even_05 = exp_operator_dt(Lvec_even, tau=tau, library='jax')\n",
    "\n",
    "X1_05 = factorize_psd(psd=super2choi(exp_odd_05))\n",
    "X2_05 = factorize_psd(psd=super2choi(exp_even_05))"
   ]
  },
  {
   "cell_type": "code",
   "execution_count": 294,
   "metadata": {},
   "outputs": [
    {
     "name": "stdout",
     "output_type": "stream",
     "text": [
      "Starting iteration: 0\n",
      "* Cost function: 3.672076939174579e-09\n"
     ]
    }
   ],
   "source": [
    "cost_list_fro_05, grads_list_fro_05, xi_fro_05 = gds(fn=compute_loss, x0=[X1_05, X2_05, X1_05], iter=1, loss_fn=frobenius_norm, rate=1e-9, exact= exp_tot_05)"
   ]
  },
  {
   "cell_type": "code",
   "execution_count": 296,
   "metadata": {},
   "outputs": [
    {
     "name": "stdout",
     "output_type": "stream",
     "text": [
      "Starting iteration: 0\n",
      "* Cost function: 3.567650716849533e-09\n",
      "Starting iteration: 1\n",
      "* Cost function: 3.479188688627163e-09\n",
      "Starting iteration: 2\n",
      "* Cost function: 3.4052989337264625e-09\n",
      "Starting iteration: 3\n",
      "* Cost function: 3.344383347572413e-09\n",
      "Starting iteration: 4\n",
      "* Cost function: 3.294755824658927e-09\n",
      "Starting iteration: 5\n",
      "* Cost function: 3.25474426295821e-09\n",
      "Starting iteration: 6\n",
      "* Cost function: 3.222773254709786e-09\n",
      "Starting iteration: 7\n",
      "* Cost function: 3.1974193261204456e-09\n"
     ]
    }
   ],
   "source": [
    "cost_list_fro_05_2, grads_list_fro_05_2, xi_fro_05_2 = gds(fn=compute_loss, x0=update([X1_05, X2_05, X1_05], grads=grads_list_fro_05[0], rate=1e-12), iter=8, loss_fn=frobenius_norm, rate=1e-12, exact= exp_tot_05)"
   ]
  },
  {
   "cell_type": "code",
   "execution_count": 298,
   "metadata": {},
   "outputs": [
    {
     "name": "stdout",
     "output_type": "stream",
     "text": [
      "Starting iteration: 0\n",
      "* Cost function: 3.1774372304216826e-09\n",
      "Starting iteration: 1\n",
      "* Cost function: 3.1617688363584033e-09\n",
      "Starting iteration: 2\n",
      "* Cost function: 3.1495315666119767e-09\n",
      "Starting iteration: 3\n",
      "* Cost function: 3.140004542750324e-09\n"
     ]
    }
   ],
   "source": [
    "cost_list_fro_05_3, grads_list_fro_05_3, xi_fro_05_3 = gds(fn=compute_loss, x0=xi_fro_05_2[-1], iter=4, loss_fn=frobenius_norm, rate=1e-12, exact= exp_tot_05)"
   ]
  },
  {
   "cell_type": "code",
   "execution_count": 300,
   "metadata": {},
   "outputs": [
    {
     "name": "stdout",
     "output_type": "stream",
     "text": [
      "Starting iteration: 0\n",
      "* Cost function: 3.1326048798397006e-09\n",
      "Starting iteration: 1\n",
      "* Cost function: 3.12686805803476e-09\n",
      "Starting iteration: 2\n",
      "* Cost function: 3.1224259219657186e-09\n",
      "Starting iteration: 3\n",
      "* Cost function: 3.118989141822764e-09\n"
     ]
    }
   ],
   "source": [
    "cost_list_fro_05_4, grads_list_fro_05_4, xi_fro_05_4 = gds(fn=compute_loss, x0=xi_fro_05_3[-1], iter=4, loss_fn=frobenius_norm, rate=1e-12, exact= exp_tot_05)"
   ]
  },
  {
   "cell_type": "code",
   "execution_count": 302,
   "metadata": {},
   "outputs": [
    {
     "name": "stdout",
     "output_type": "stream",
     "text": [
      "Starting iteration: 0\n",
      "* Cost function: 3.1163308891136795e-09\n",
      "Starting iteration: 1\n",
      "* Cost function: 3.1142749627808394e-09\n",
      "Starting iteration: 2\n",
      "* Cost function: 3.112683810056345e-09\n",
      "Starting iteration: 3\n",
      "* Cost function: 3.11145155418053e-09\n"
     ]
    }
   ],
   "source": [
    "cost_list_fro_05_5, grads_list_fro_05_5, xi_fro_05_5 = gds(fn=compute_loss, x0=xi_fro_05_4[-1], iter=4, loss_fn=frobenius_norm, rate=1e-12, exact= exp_tot_05)"
   ]
  },
  {
   "cell_type": "code",
   "execution_count": 322,
   "metadata": {},
   "outputs": [
    {
     "name": "stdout",
     "output_type": "stream",
     "text": [
      "6.012915572544449\n",
      "6.01785773996208\n",
      "6.0193176320813695\n",
      "--\n",
      "0.5770557092214873\n",
      "0.585376719462305\n",
      "0.5834048912158369\n"
     ]
    }
   ],
   "source": [
    "calculate_norms(grads_list_fro_05[-1])\n",
    "print('--')\n",
    "calculate_norms(grads_list_fro_05_5[-1])"
   ]
  },
  {
   "cell_type": "code",
   "execution_count": 314,
   "metadata": {},
   "outputs": [
    {
     "data": {
      "text/plain": [
       "<matplotlib.legend.Legend at 0x7fd6a537f7f0>"
      ]
     },
     "execution_count": 314,
     "metadata": {},
     "output_type": "execute_result"
    },
    {
     "data": {
      "image/png": "[encoded data removed]",
      "text/plain": [
       "<Figure size 1200x800 with 1 Axes>"
      ]
     },
     "metadata": {
      "needs_background": "light"
     },
     "output_type": "display_data"
    }
   ],
   "source": [
    "data = cost_list_fro_05 + cost_list_fro_05_2 + cost_list_fro_05_3 + cost_list_fro_05_4 + cost_list_fro_05_5\n",
    "data2 = cost_list_fro[0:1] + cost_list_fro2 + cost_list_fro3 + cost_list_fro4 + cost_list_fro5\n",
    "\n",
    "fig = plt.figure(dpi=200)\n",
    "plt.plot(range(len(data2)), np.array(data2)/data2[0], '--x', label=r'Loss fn: Frobenius, $\\tau = 4$, $r=1e^{-9}$')\n",
    "plt.plot(range(len(data)), np.array(data)/data[0], '--x', label=r'Loss fn: Frobenius, $\\tau = 0.5$, $r=1e^{-12}$')\n",
    "plt.ylabel(r'$Cost_i/Cost_{0}$')\n",
    "plt.xlabel('iteration $i$')\n",
    "plt.legend()"
   ]
  },
  {
   "cell_type": "code",
   "execution_count": 319,
   "metadata": {},
   "outputs": [
    {
     "data": {
      "text/plain": [
       "DeviceArray([1.        , 0.97156208, 0.94747162, 0.92734956, 0.9107607 ,\n",
       "             0.89724586, 0.88634969, 0.87764317, 0.87073865, 0.86529702,\n",
       "             0.86103012, 0.8576976 , 0.85510315, 0.85308803, 0.85152575,\n",
       "             0.85031604, 0.84938012, 0.84865621, 0.84809633, 0.84766302,\n",
       "             0.84732744], dtype=float64)"
      ]
     },
     "execution_count": 319,
     "metadata": {},
     "output_type": "execute_result"
    }
   ],
   "source": [
    "np.array(data)/data[0]"
   ]
  },
  {
   "cell_type": "code",
   "execution_count": 256,
   "metadata": {},
   "outputs": [
    {
     "name": "stdout",
     "output_type": "stream",
     "text": [
      "14.2 s ± 1.45 s per loop (mean ± std. dev. of 7 runs, 1 loop each)\n"
     ]
    }
   ],
   "source": [
    "# small detour because I want to see what of the three methods for multiplication is faster\n",
    "%timeit jnp.dot(X1, X1.conj().T).block_until_ready()"
   ]
  },
  {
   "cell_type": "code",
   "execution_count": 257,
   "metadata": {},
   "outputs": [
    {
     "name": "stdout",
     "output_type": "stream",
     "text": [
      "15.4 s ± 1.12 s per loop (mean ± std. dev. of 7 runs, 1 loop each)\n"
     ]
    }
   ],
   "source": [
    "%timeit jnp.matmul(X1, X1.conj().T).block_until_ready()"
   ]
  },
  {
   "cell_type": "code",
   "execution_count": 260,
   "metadata": {},
   "outputs": [
    {
     "name": "stdout",
     "output_type": "stream",
     "text": [
      "9.37 s ± 767 ms per loop (mean ± std. dev. of 7 runs, 1 loop each)\n"
     ]
    }
   ],
   "source": [
    "%timeit X1@X1.conj().T"
   ]
  },
  {
   "cell_type": "code",
   "execution_count": 264,
   "metadata": {},
   "outputs": [],
   "source": [
    "from jax import device_put\n",
    "X1_device = device_put(X1)"
   ]
  },
  {
   "cell_type": "code",
   "execution_count": 265,
   "metadata": {},
   "outputs": [
    {
     "name": "stdout",
     "output_type": "stream",
     "text": [
      "16 s ± 1.02 s per loop (mean ± std. dev. of 7 runs, 1 loop each)\n"
     ]
    }
   ],
   "source": [
    "%timeit X1_device@X1_device.conj().T"
   ]
  },
  {
   "cell_type": "code",
   "execution_count": 394,
   "metadata": {},
   "outputs": [
    {
     "name": "stdout",
     "output_type": "stream",
     "text": [
      "[[0 1 2]\n",
      " [3 4 5]]\n"
     ]
    },
    {
     "data": {
      "text/plain": [
       "array([[0, 1, 2],\n",
       "       [3, 4, 5]])"
      ]
     },
     "execution_count": 394,
     "metadata": {},
     "output_type": "execute_result"
    }
   ],
   "source": [
    "# now optimize the individual tensors inside the Y.\n",
    "# remember what we learned about leg reordering\n",
    "from opentn.transformations import vectorize\n",
    "test_array = np.array(list(range(6))).reshape((2,3))\n",
    "print(test_array)\n",
    "vectorize(test_array).reshape(2,3)"
   ]
  },
  {
   "cell_type": "code",
   "execution_count": 397,
   "metadata": {},
   "outputs": [
    {
     "data": {
      "text/plain": [
       "array([[0, 1],\n",
       "       [2, 3],\n",
       "       [4, 5]])"
      ]
     },
     "execution_count": 397,
     "metadata": {},
     "output_type": "execute_result"
    }
   ],
   "source": [
    "vectorize(test_array).T.reshape(3,2)"
   ]
  },
  {
   "cell_type": "code",
   "execution_count": 390,
   "metadata": {},
   "outputs": [
    {
     "data": {
      "text/plain": [
       "array([[0, 3],\n",
       "       [1, 4],\n",
       "       [2, 5]])"
      ]
     },
     "execution_count": 390,
     "metadata": {},
     "output_type": "execute_result"
    }
   ],
   "source": [
    "test_array.T"
   ]
  },
  {
   "cell_type": "code",
   "execution_count": 402,
   "metadata": {},
   "outputs": [
    {
     "data": {
      "text/plain": [
       "array([[0, 1],\n",
       "       [2, 3],\n",
       "       [4, 5]])"
      ]
     },
     "execution_count": 402,
     "metadata": {},
     "output_type": "execute_result"
    }
   ],
   "source": [
    "# convert matrix onto row vector directly!\n",
    "test_array.reshape(1,-1).reshape((3,2))"
   ]
  },
  {
   "cell_type": "code",
   "execution_count": 403,
   "metadata": {},
   "outputs": [
    {
     "data": {
      "text/plain": [
       "False"
      ]
     },
     "execution_count": 403,
     "metadata": {},
     "output_type": "execute_result"
    }
   ],
   "source": [
    "np.allclose(vectorize(test_array).T, vectorize(test_array.T))"
   ]
  },
  {
   "cell_type": "code",
   "execution_count": 423,
   "metadata": {},
   "outputs": [
    {
     "data": {
      "text/plain": [
       "dtype('complex128')"
      ]
     },
     "execution_count": 423,
     "metadata": {},
     "output_type": "execute_result"
    }
   ],
   "source": [
    "xi_fro5[-1][0].dtype"
   ]
  },
  {
   "cell_type": "code",
   "execution_count": 425,
   "metadata": {},
   "outputs": [
    {
     "data": {
      "text/plain": [
       "finfo(resolution=1e-15, min=-1.7976931348623157e+308, max=1.7976931348623157e+308, dtype=float64)"
      ]
     },
     "execution_count": 425,
     "metadata": {},
     "output_type": "execute_result"
    }
   ],
   "source": [
    "jnp.finfo(jnp.complex128)"
   ]
  },
  {
   "cell_type": "code",
   "execution_count": 453,
   "metadata": {},
   "outputs": [],
   "source": [
    "from jax.experimental import sparse\n",
    "\n",
    "# sparse.sparsify(jnp.linalg.norm)(sparse.BCOO.fromdense(xi_fro5[-1][0]))"
   ]
  },
  {
   "cell_type": "code",
   "execution_count": 454,
   "metadata": {},
   "outputs": [],
   "source": [
    "# are the matrix sparse?\n",
    "# print(scipy.sparse.csr_matrix(xi_fro5[-1][0]))"
   ]
  },
  {
   "cell_type": "code",
   "execution_count": 419,
   "metadata": {},
   "outputs": [
    {
     "data": {
      "text/plain": [
       "6.9922092294005695"
      ]
     },
     "execution_count": 419,
     "metadata": {},
     "output_type": "execute_result"
    }
   ],
   "source": [
    "np.log2(np.sqrt(16208))"
   ]
  },
  {
   "cell_type": "code",
   "execution_count": 416,
   "metadata": {},
   "outputs": [
    {
     "data": {
      "text/plain": [
       "0.0009660720825195312"
      ]
     },
     "execution_count": 416,
     "metadata": {},
     "output_type": "execute_result"
    }
   ],
   "source": [
    "16208/(4096*4096)"
   ]
  },
  {
   "cell_type": "code",
   "execution_count": 408,
   "metadata": {},
   "outputs": [
    {
     "name": "stdout",
     "output_type": "stream",
     "text": [
      "7.999999999947055\n",
      "7.999999999947055\n",
      "7.999999999947055\n"
     ]
    }
   ],
   "source": [
    "calculate_norms(xi_fro5[-1])"
   ]
  },
  {
   "cell_type": "code",
   "execution_count": 412,
   "metadata": {},
   "outputs": [
    {
     "data": {
      "text/plain": [
       "DeviceArray(False, dtype=bool)"
      ]
     },
     "execution_count": 412,
     "metadata": {},
     "output_type": "execute_result"
    }
   ],
   "source": [
    "jnp.allclose(xi_fro5[-1][0], xi_fro5[-1][1])"
   ]
  },
  {
   "cell_type": "code",
   "execution_count": 445,
   "metadata": {},
   "outputs": [],
   "source": [
    "def test(a,b,c,d):\n",
    "    print(a,b,c,d)\n",
    "\n",
    "def test2(a, **kwargs):\n",
    "    test(a,**kwargs)\n",
    "    "
   ]
  },
  {
   "cell_type": "code",
   "execution_count": 446,
   "metadata": {},
   "outputs": [
    {
     "name": "stdout",
     "output_type": "stream",
     "text": [
      "1 2 3 4\n"
     ]
    }
   ],
   "source": [
    "test2(1,b=2,c=3,d=4)"
   ]
  },
  {
   "cell_type": "code",
   "execution_count": 450,
   "metadata": {},
   "outputs": [
    {
     "data": {
      "text/plain": [
       "array([3, 2, 1])"
      ]
     },
     "execution_count": 450,
     "metadata": {},
     "output_type": "execute_result"
    }
   ],
   "source": [
    "a = np.array([1,2,3])\n",
    "a[[2,1,0]]"
   ]
  },
  {
   "cell_type": "code",
   "execution_count": 488,
   "metadata": {},
   "outputs": [],
   "source": [
    "from opentn.optimization import model_Zs, model_Ys\n",
    "from opentn.transformations import lindbladian2super, get_indices_supertensored2liouvillianfull, create_supertensored_from_local\n",
    "superop = lindbladian2super(Li=[Lnn])\n",
    "superop = exp_operator_dt(superop, tau=4, library='jax')\n",
    "W1 = factorize_psd(super2choi(superop))"
   ]
  },
  {
   "cell_type": "code",
   "execution_count": 486,
   "metadata": {},
   "outputs": [
    {
     "name": "stdout",
     "output_type": "stream",
     "text": [
      "(65536, 65536)\n",
      "0\n"
     ]
    },
    {
     "ename": "AssertionError",
     "evalue": "65536 != 0",
     "output_type": "error",
     "traceback": [
      "\u001b[0;31m---------------------------------------------------------------------------\u001b[0m",
      "\u001b[0;31mAssertionError\u001b[0m                            Traceback (most recent call last)",
      "\u001b[1;32m/Users/emiliano_gr/Desktop/Masters/fourth_semester/Thesis/coding/purifications-code/experiments/gradient.ipynb Cell 218\u001b[0m in \u001b[0;36m<cell line: 1>\u001b[0;34m()\u001b[0m\n\u001b[0;32m----> <a href='vscode-notebook-cell:/Users/emiliano_gr/Desktop/Masters/fourth_semester/Thesis/coding/purifications-code/experiments/gradient.ipynb#Y520sZmlsZQ%3D%3D?line=0'>1</a>\u001b[0m compute_loss(xi\u001b[39m=\u001b[39;49mW1, loss_fn\u001b[39m=\u001b[39;49mfrobenius_norm, model\u001b[39m=\u001b[39;49mmodel_Zs, exact\u001b[39m=\u001b[39;49mexp_tot, Xj\u001b[39m=\u001b[39;49mxi_fro5[\u001b[39m1\u001b[39;49m], Xk\u001b[39m=\u001b[39;49mxi_fro5[\u001b[39m2\u001b[39;49m])\n",
      "File \u001b[0;32m~/Desktop/Masters/fourth_semester/Thesis/coding/purifications-code/experiments/../opentn/optimization.py:81\u001b[0m, in \u001b[0;36mcompute_loss\u001b[0;34m(xi, loss_fn, model, exact, **kwargs)\u001b[0m\n\u001b[1;32m     77\u001b[0m \u001b[39mdef\u001b[39;00m \u001b[39mcompute_loss\u001b[39m(xi, loss_fn, model, exact, \u001b[39m*\u001b[39m\u001b[39m*\u001b[39mkwargs):\n\u001b[1;32m     78\u001b[0m     \u001b[39m\"\"\"\u001b[39;00m\n\u001b[1;32m     79\u001b[0m \u001b[39m    General function to compute the loss of the input parameters in the model agains the exact value using loss_fn as measurement\u001b[39;00m\n\u001b[1;32m     80\u001b[0m \u001b[39m    \"\"\"\u001b[39;00m\n\u001b[0;32m---> 81\u001b[0m     prediction \u001b[39m=\u001b[39m model(xi, \u001b[39m*\u001b[39;49m\u001b[39m*\u001b[39;49mkwargs)\n\u001b[1;32m     82\u001b[0m     \u001b[39massert\u001b[39;00m exact\u001b[39m.\u001b[39mndim \u001b[39m==\u001b[39m prediction\u001b[39m.\u001b[39mndim \u001b[39m==\u001b[39m \u001b[39m2\u001b[39m, \u001b[39m'\u001b[39m\u001b[39mnot a matrix\u001b[39m\u001b[39m'\u001b[39m\n\u001b[1;32m     83\u001b[0m     \u001b[39mreturn\u001b[39;00m jit(loss_fn)(exact, prediction)\n",
      "    \u001b[0;31m[... skipping hidden 11 frame]\u001b[0m\n",
      "File \u001b[0;32m~/Desktop/Masters/fourth_semester/Thesis/coding/purifications-code/experiments/../opentn/optimization.py:55\u001b[0m, in \u001b[0;36mmodel_Zs\u001b[0;34m(Wi, Xj, Xk, order)\u001b[0m\n\u001b[1;32m     53\u001b[0m d \u001b[39m=\u001b[39m \u001b[39mint\u001b[39m(Wi_super\u001b[39m.\u001b[39mshape[\u001b[39m0\u001b[39m]\u001b[39m*\u001b[39m\u001b[39m*\u001b[39m(\u001b[39m-\u001b[39m\u001b[39m2\u001b[39m\u001b[39m*\u001b[39mN))\n\u001b[1;32m     54\u001b[0m \u001b[39mprint\u001b[39m(d)\n\u001b[0;32m---> 55\u001b[0m \u001b[39massert\u001b[39;00m Wi_super\u001b[39m.\u001b[39mshape[\u001b[39m0\u001b[39m] \u001b[39m==\u001b[39m d\u001b[39m*\u001b[39m\u001b[39m*\u001b[39m(\u001b[39m2\u001b[39m\u001b[39m*\u001b[39mN), \u001b[39mf\u001b[39m\u001b[39m\"\u001b[39m\u001b[39m{\u001b[39;00mWi_super\u001b[39m.\u001b[39mshape[\u001b[39m0\u001b[39m]\u001b[39m}\u001b[39;00m\u001b[39m != \u001b[39m\u001b[39m{\u001b[39;00md\u001b[39m*\u001b[39m\u001b[39m*\u001b[39m(\u001b[39m2\u001b[39m\u001b[39m*\u001b[39mN)\u001b[39m}\u001b[39;00m\u001b[39m\"\u001b[39m\n\u001b[1;32m     56\u001b[0m Xi \u001b[39m=\u001b[39m convert_supertensored2liouvillianfull(Wi_super, N\u001b[39m=\u001b[39mN, d\u001b[39m=\u001b[39md)\n\u001b[1;32m     57\u001b[0m Xs \u001b[39m=\u001b[39m [Xi, Xj, Xk]\n",
      "\u001b[0;31mAssertionError\u001b[0m: 65536 != 0"
     ]
    }
   ],
   "source": [
    "compute_loss(xi=W1, loss_fn=frobenius_norm, model=model_Zs, exact=exp_tot, Xj=xi_fro5[1], Xk=xi_fro5[2])"
   ]
  },
  {
   "cell_type": "code",
   "execution_count": 473,
   "metadata": {},
   "outputs": [
    {
     "data": {
      "text/plain": [
       "(16, 16)"
      ]
     },
     "execution_count": 473,
     "metadata": {},
     "output_type": "execute_result"
    }
   ],
   "source": [
    "W1.shape"
   ]
  },
  {
   "cell_type": "code",
   "execution_count": 489,
   "metadata": {},
   "outputs": [
    {
     "ename": "",
     "evalue": "",
     "output_type": "error",
     "traceback": [
      "\u001b[1;31mCannot execute code, session has been disposed. Please try restarting the Kernel."
     ]
    },
    {
     "ename": "",
     "evalue": "",
     "output_type": "error",
     "traceback": [
      "\u001b[1;31mThe Kernel crashed while executing code in the the current cell or a previous cell. Please review the code in the cell(s) to identify a possible cause of the failure. Click <a href='https://aka.ms/vscodeJupyterKernelCrash'>here</a> for more info. View Jupyter <a href='command:jupyter.viewOutput'>log</a> for further details."
     ]
    }
   ],
   "source": [
    "test = create_supertensored_from_local(localop=W1, N=6)\n",
    "test.shape"
   ]
  },
  {
   "cell_type": "code",
   "execution_count": 7,
   "metadata": {},
   "outputs": [],
   "source": [
    "# might be a good moment to do everything with functions and to change for 4 sites.\n",
    "from opentn.transformations import create_kitaev_liouvillians, exp_operator_dt, factorize_psd, super2choi\n",
    "Lvec, Lvec_odd, Lvec_even, Lnn = create_kitaev_liouvillians(N=4, d=2, gamma=1e-2)\n",
    "tau = 4\n",
    "superops_exp = []\n",
    "for i, op in enumerate([Lvec, Lvec_odd, Lvec_even, Lnn]):\n",
    "    if i == 1 or i == 3:\n",
    "        superops_exp.append(exp_operator_dt(op, tau/2, 'jax'))\n",
    "    else:\n",
    "        superops_exp.append(exp_operator_dt(op, tau, 'jax'))\n",
    "exp_Lvec, exp_Lvec_odd, exp_Lvec_even, exp_Lnn = superops_exp\n",
    "\n",
    "X1 = factorize_psd(psd=super2choi(exp_Lvec_odd))\n",
    "X2 = factorize_psd(psd=super2choi(exp_Lvec_even))"
   ]
  },
  {
   "cell_type": "code",
   "execution_count": 142,
   "metadata": {},
   "outputs": [],
   "source": [
    "from opentn.optimization import gds, frobenius_norm, model_Ys, compute_loss\n",
    "cost_n4, grads_n4, xi_n4 = gds(fn=compute_loss, x0=[X1, X2, X1], iter=4000, loss_fn=frobenius_norm, model=model_Ys, rate=1.5e-9, exact = exp_Lvec, show_cost=False, store_all=False)"
   ]
  },
  {
   "cell_type": "code",
   "execution_count": 180,
   "metadata": {},
   "outputs": [
    {
     "name": "stdout",
     "output_type": "stream",
     "text": [
      "0.558693340042288\n"
     ]
    },
    {
     "data": {
      "text/plain": [
       "<matplotlib.legend.Legend at 0x7f7f9c2bcac0>"
      ]
     },
     "execution_count": 180,
     "metadata": {},
     "output_type": "execute_result"
    },
    {
     "data": {
      "image/png": "[encoded data removed]",
      "text/plain": [
       "<Figure size 1200x800 with 1 Axes>"
      ]
     },
     "metadata": {
      "needs_background": "light"
     },
     "output_type": "display_data"
    }
   ],
   "source": [
    "data = cost_n4[::]\n",
    "print(data[-1]/data[0])\n",
    "fig = plt.figure(dpi=200)\n",
    "plt.plot(range(len(data)), np.array(data)/cost_n4[0], '-x', markersize=1.5,linewidth=0.5,label=r'Optimized: 3Y Layers, $\\tau = 4$')\n",
    "plt.ylabel(r'Relative Cost function')\n",
    "plt.xlabel('iteration')\n",
    "plt.legend()\n"
   ]
  },
  {
   "cell_type": "code",
   "execution_count": 151,
   "metadata": {},
   "outputs": [],
   "source": [
    "from opentn.optimization import model_Zs\n",
    "from opentn.transformations import lindbladian2super, create_supertensored_from_local\n",
    "superop = lindbladian2super(Li=[Lnn])\n",
    "superop = exp_operator_dt(superop, tau/2, 'jax')\n",
    "W1 = factorize_psd(super2choi(superop)) "
   ]
  },
  {
   "cell_type": "code",
   "execution_count": 152,
   "metadata": {},
   "outputs": [
    {
     "data": {
      "text/plain": [
       "DeviceArray(1.91967093e-07, dtype=float64)"
      ]
     },
     "execution_count": 152,
     "metadata": {},
     "output_type": "execute_result"
    }
   ],
   "source": [
    "compute_loss(xi=W1, loss_fn=frobenius_norm, model=model_Zs, exact=exp_Lvec, Xj=xi_n4[-1][1], Xk=xi_n4[-1][2], N=4)"
   ]
  },
  {
   "cell_type": "code",
   "execution_count": 148,
   "metadata": {},
   "outputs": [
    {
     "data": {
      "text/plain": [
       "DeviceArray(1.47400104e-07, dtype=float64)"
      ]
     },
     "execution_count": 148,
     "metadata": {},
     "output_type": "execute_result"
    }
   ],
   "source": [
    "cost_n4[-1]"
   ]
  },
  {
   "cell_type": "code",
   "execution_count": 172,
   "metadata": {},
   "outputs": [
    {
     "data": {
      "text/plain": [
       "DeviceArray(1.79608592e-07, dtype=float64)"
      ]
     },
     "execution_count": 172,
     "metadata": {},
     "output_type": "execute_result"
    }
   ],
   "source": [
    "# lets do an optimization \n",
    "cost_w, grads_w, xi_w = gds(fn=compute_loss, x0=W1, iter=4000, loss_fn=frobenius_norm, model=model_Zs, rate=2e-10, exact = exp_Lvec, Xj=xi_n4[-1][1], Xk=xi_n4[-1][2], N=4, show_cost=False, store_all=False)\n",
    "cost_w[-1]"
   ]
  },
  {
   "cell_type": "code",
   "execution_count": 181,
   "metadata": {},
   "outputs": [
    {
     "data": {
      "text/plain": [
       "<matplotlib.legend.Legend at 0x7f83cc10fd00>"
      ]
     },
     "execution_count": 181,
     "metadata": {},
     "output_type": "execute_result"
    },
    {
     "data": {
      "image/png": "[encoded data removed]",
      "text/plain": [
       "<Figure size 1200x800 with 1 Axes>"
      ]
     },
     "metadata": {
      "needs_background": "light"
     },
     "output_type": "display_data"
    }
   ],
   "source": [
    "data = cost_n4[::]\n",
    "fig = plt.figure(dpi=200)\n",
    "# plt.plot(range(len(data)), np.array(data)/cost_n4[0], '-x', markersize=1.5,linewidth=0.5,label=r'Optimized: 3Y Layers, $\\tau = 4$')\n",
    "data = cost_w[::]\n",
    "plt.plot(range(len(data)), np.array(data)/cost_n4[0], '-x', markersize=1.5,linewidth=0.5,label=r'Optimized: 2Z tensors, $\\tau = 4$')\n",
    "plt.ylabel(r'Cost function')\n",
    "plt.xlabel('iteration')\n",
    "plt.legend()"
   ]
  },
  {
   "cell_type": "code",
   "execution_count": 174,
   "metadata": {},
   "outputs": [
    {
     "data": {
      "text/plain": [
       "DeviceArray(0.68077377, dtype=float64)"
      ]
     },
     "execution_count": 174,
     "metadata": {},
     "output_type": "execute_result"
    }
   ],
   "source": [
    "cost_w[-1]/cost_n4[0] # for 2000 iterations: 0.68218619"
   ]
  },
  {
   "cell_type": "code",
   "execution_count": 192,
   "metadata": {},
   "outputs": [
    {
     "name": "stdout",
     "output_type": "stream",
     "text": [
      "last evaluation:  1.7960859172182258e-07\n"
     ]
    },
    {
     "data": {
      "text/plain": [
       "DeviceArray(1.79608546e-07, dtype=float64)"
      ]
     },
     "execution_count": 192,
     "metadata": {},
     "output_type": "execute_result"
    }
   ],
   "source": [
    "# now i should use the Y1 that we get from W1 and update in the same way Y2.\n",
    "# lets check first if we get the same result when updating Z1 to Y1\n",
    "from opentn.transformations import convert_supertensored2liouvillianfull\n",
    "W1_local = xi_w[-1]\n",
    "W1 = create_supertensored_from_local(W1_local, N=4)\n",
    "X1_w = convert_supertensored2liouvillianfull(W1, N=4, d=2)\n",
    "\n",
    "print('last evaluation: ',  cost_w[-1])\n",
    "\n",
    "compute_loss(xi=[X1_w, xi_n4[-1][1], xi_n4[-1][2]], loss_fn=frobenius_norm, model=model_Ys, exact=exp_Lvec)"
   ]
  }
 ],
 "metadata": {
  "kernelspec": {
   "display_name": "thesis",
   "language": "python",
   "name": "thesis"
  },
  "language_info": {
   "codemirror_mode": {
    "name": "ipython",
    "version": 3
   },
   "file_extension": ".py",
   "mimetype": "text/x-python",
   "name": "python",
   "nbconvert_exporter": "python",
   "pygments_lexer": "ipython3",
   "version": "3.10.4"
  },
  "orig_nbformat": 4
 },
 "nbformat": 4,
 "nbformat_minor": 2
}
