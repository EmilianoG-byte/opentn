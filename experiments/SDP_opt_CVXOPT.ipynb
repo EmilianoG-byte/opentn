{
 "cells": [
  {
   "cell_type": "code",
   "execution_count": 1,
   "metadata": {},
   "outputs": [],
   "source": [
    "import sys\n",
    "sys.path.append('..')\n",
    "# reload local packages automatically\n",
    "%load_ext autoreload\n",
    "%autoreload 2\n",
    "\n",
    "from jax import config\n",
    "config.update(\"jax_enable_x64\", True)\n",
    "\n",
    "# Import packages.\n",
    "import cvxpy as cp\n",
    "import numpy as np\n",
    "\n",
    "import matplotlib.pyplot as plt\n"
   ]
  },
  {
   "cell_type": "code",
   "execution_count": 2,
   "metadata": {},
   "outputs": [
    {
     "name": "stdout",
     "output_type": "stream",
     "text": [
      "2.6383007149418305e-07\n",
      "1.4977787039695335e-07\n"
     ]
    },
    {
     "data": {
      "text/plain": [
       "[<matplotlib.lines.Line2D at 0x2a146c220>]"
      ]
     },
     "execution_count": 2,
     "metadata": {},
     "output_type": "execute_result"
    },
    {
     "data": {
      "image/png": "[encoded data removed]",
      "text/plain": [
       "<Figure size 640x480 with 1 Axes>"
      ]
     },
     "metadata": {},
     "output_type": "display_data"
    }
   ],
   "source": [
    "from opentn.transformations import create_kitaev_liouvillians, exp_operator_dt, factorize_psd, super2choi\n",
    "d, N = 2, 4\n",
    "dim = d**N\n",
    "Lvec, Lvec_odd, Lvec_even, Lnn = create_kitaev_liouvillians(N=N, d=d, gamma=1e-2)\n",
    "tau = 4\n",
    "superops_exp = []\n",
    "for i, op in enumerate([Lvec, Lvec_odd, Lvec_even]):\n",
    "    if i == 1:\n",
    "        superops_exp.append(exp_operator_dt(op, tau/2, 'jax'))\n",
    "    else:\n",
    "        superops_exp.append(exp_operator_dt(op, tau, 'jax'))\n",
    "exp_Lvec, exp_Lvec_odd, exp_Lvec_even = superops_exp\n",
    "\n",
    "X1 = factorize_psd(psd=super2choi(exp_Lvec_odd), tol=1e-12)\n",
    "X2 = factorize_psd(psd=super2choi(exp_Lvec_even), tol=1e-12)\n",
    "\n",
    "from opentn.optimization import gds, frobenius_norm, model_Ys, compute_loss\n",
    "cost_n4, grads_n4, xi_n4 = gds(fn=compute_loss, x0=[X1, X2, X1], iter=int(2e3), loss_fn=frobenius_norm, model=model_Ys, rate=1.5e-9, exact = exp_Lvec, show_cost=False)\n",
    "print(cost_n4[0])\n",
    "print(cost_n4[-1])\n",
    "\n",
    "plt.plot(cost_n4)"
   ]
  },
  {
   "cell_type": "code",
   "execution_count": 3,
   "metadata": {},
   "outputs": [
    {
     "name": "stderr",
     "output_type": "stream",
     "text": [
      "/opt/miniconda3/envs/thesis/lib/python3.10/site-packages/scipy/sparse/_data.py:72: ComplexWarning: Casting complex values to real discards the imaginary part\n",
      "  self.data.astype(dtype, casting=casting, copy=True),\n"
     ]
    },
    {
     "data": {
      "text/plain": [
       "<4096x4096 sparse matrix of type '<class 'numpy.float64'>'\n",
       "\twith 59136 stored elements in Compressed Sparse Row format>"
      ]
     },
     "execution_count": 3,
     "metadata": {},
     "output_type": "execute_result"
    }
   ],
   "source": [
    "from opentn.transformations import super2choi, choi_composition, partial_transpose\n",
    "from opentn.optimization import small2zero\n",
    "from scipy import sparse\n",
    "\n",
    "# rest of matrices optimized with GSD\n",
    "X1_gds, X2_gds, X3_gds = xi_n4[-1]\n",
    "Y2 = X2_gds@X2_gds.conj().T\n",
    "Y3 = X3_gds@X3_gds.conj().T\n",
    "\n",
    "# rhs to which we want to approximate\n",
    "rhs = np.asarray(super2choi(superop=exp_Lvec, dim=dim))\n",
    "# srhs = sparse.csr_matrix(rhs) # small2zero was deleted\n",
    "srhs = sparse.csr_matrix(small2zero(rhs, tol=1e-10)) # small2zero was deleted\n",
    "srhs = srhs.astype(np.float64)\n",
    "\n",
    "# change partial transpose to A\n",
    "A = choi_composition(C1=Y2, C2=Y3, dim=dim) # small2zero was deleted\n",
    "A_tb = partial_transpose(A, dims=[dim, dim], idx=1)\n",
    "I = np.eye(dim)\n",
    "A_tbxI = np.kron(A_tb, I)\n",
    "# sA_tbxI = sparse.csr_matrix(A_tbxI)\n",
    "sA_tbxI = sparse.csr_matrix(small2zero(A_tbxI, tol=1e-10))\n",
    "sA_tbxI = sA_tbxI.astype(np.float64)\n",
    "sA_tbxI"
   ]
  },
  {
   "cell_type": "code",
   "execution_count": 4,
   "metadata": {},
   "outputs": [
    {
     "name": "stderr",
     "output_type": "stream",
     "text": [
      "/var/folders/lv/986s3mp97gv9n3rb757bg87m0000gn/T/ipykernel_35125/877660185.py:1: ComplexWarning: Casting complex values to real discards the imaginary part\n",
      "  X_initial = small2zero(X1_gds@X1_gds.conj().T, tol=1e-10).astype(np.float64)\n"
     ]
    }
   ],
   "source": [
    "X_initial = small2zero(X1_gds@X1_gds.conj().T, tol=1e-10).astype(np.float64)"
   ]
  },
  {
   "cell_type": "code",
   "execution_count": 5,
   "metadata": {},
   "outputs": [
    {
     "name": "stdout",
     "output_type": "stream",
     "text": [
      "['CVXOPT', 'ECOS', 'ECOS_BB', 'GLPK', 'GLPK_MI', 'MOSEK', 'OSQP', 'SCIPY', 'SCS']\n"
     ]
    }
   ],
   "source": [
    "X = cp.Variable((dim**2,dim**2), PSD=True)\n",
    "lhs =  cp.partial_trace(sA_tbxI @ cp.kron(I, X), dims=[dim, dim, dim], axis=1)\n",
    "cost = cp.norm(lhs - srhs, \"fro\")\n",
    "prob = cp.Problem(cp.Minimize(cost))\n",
    "X.value = X_initial\n",
    "print(cp.installed_solvers())"
   ]
  },
  {
   "cell_type": "code",
   "execution_count": 6,
   "metadata": {},
   "outputs": [
    {
     "name": "stdout",
     "output_type": "stream",
     "text": [
      "1.3.0\n"
     ]
    }
   ],
   "source": [
    "import cvxopt\n",
    "print(cvxopt.__version__)"
   ]
  },
  {
   "cell_type": "code",
   "execution_count": 32,
   "metadata": {},
   "outputs": [
    {
     "name": "stdout",
     "output_type": "stream",
     "text": [
      "===============================================================================\n",
      "                                     CVXPY                                     \n",
      "                                     v1.3.2                                    \n",
      "===============================================================================\n",
      "(CVXPY) Jul 25 02:03:04 AM: Your problem has 65536 variables, 0 constraints, and 0 parameters.\n",
      "(CVXPY) Jul 25 02:03:04 AM: It is compliant with the following grammars: DCP, DQCP\n",
      "(CVXPY) Jul 25 02:03:04 AM: (If you need to solve this problem multiple times, but with different data, consider using parameters.)\n",
      "(CVXPY) Jul 25 02:03:04 AM: CVXPY will first compile your problem; then, it will invoke a numerical solver to obtain a solution.\n",
      "-------------------------------------------------------------------------------\n",
      "                                  Compilation                                  \n",
      "-------------------------------------------------------------------------------\n",
      "(CVXPY) Jul 25 02:03:04 AM: Using cached ASA map, for faster compilation (bypassing reduction chain).\n",
      "(CVXPY) Jul 25 02:03:04 AM: Finished problem compilation (took 1.231e-02 seconds).\n",
      "-------------------------------------------------------------------------------\n",
      "                                Numerical solver                               \n",
      "-------------------------------------------------------------------------------\n",
      "(CVXPY) Jul 25 02:03:04 AM: Invoking solver SCS  to obtain a solution.\n",
      "------------------------------------------------------------------\n",
      "\t       SCS v3.2.3 - Splitting Conic Solver\n",
      "\t(c) Brendan O'Donoghue, Stanford University, 2012\n",
      "------------------------------------------------------------------\n",
      "problem:  variables n: 32897, constraints m: 98433\n",
      "cones: \t  q: soc vars: 65537, qsize: 1\n",
      "\t  s: psd vars: 32896, ssize: 1\n",
      "settings: eps_abs: 1.0e-11, eps_rel: 1.0e-11, eps_infeas: 1.0e-07\n",
      "\t  alpha: 1.50, scale: 1.00e-01, adaptive_scale: 1\n",
      "\t  max_iters: 100000, normalize: 1, rho_x: 1.00e-06\n",
      "\t  acceleration_lookback: 10, acceleration_interval: 10\n",
      "lin-sys:  sparse-direct-amd-qdldl\n",
      "\t  nnz(A): 972769, nnz(P): 0\n",
      "------------------------------------------------------------------\n",
      " iter | pri res | dua res |   gap   |   obj   |  scale  | time (s)\n",
      "------------------------------------------------------------------\n",
      "     0| 5.28e-09  5.69e-10  1.40e-08  1.03e-07  1.00e-01  2.28e-01 \n",
      "   250| 1.44e-10  7.70e-13  2.20e-10  9.52e-08  6.97e+01  2.20e+00 \n",
      "   500| 4.97e-11  6.76e-12  3.59e-10  9.53e-08  8.29e+02  4.15e+00 \n",
      "   750| 4.97e-11  5.74e-12  1.64e-10  9.50e-08  8.29e+02  6.10e+00 \n",
      "  1000| 4.97e-11  1.08e-11  9.41e-10  9.46e-08  8.29e+02  8.05e+00 \n",
      "  1250| 4.97e-11  7.09e-12  5.96e-10  9.54e-08  8.29e+02  9.99e+00 \n",
      "  1500| 4.97e-11  1.04e-11  9.07e-10  9.55e-08  8.29e+02  1.19e+01 \n",
      "  1750| 4.97e-11  1.15e-11  1.13e-09  9.57e-08  8.29e+02  1.39e+01 \n",
      "  2000| 4.97e-11  6.14e-12  4.68e-10  9.53e-08  8.29e+02  1.58e+01 \n",
      "  2250| 4.97e-11  1.68e-11  1.81e-09  9.60e-08  8.29e+02  1.78e+01 \n",
      "  2500| 2.21e-09  1.82e-06  5.63e-06  2.91e-06  8.29e+02  1.97e+01 \n",
      "  2750| 4.97e-11  1.41e-11  1.33e-09  9.44e-08  8.29e+02  2.17e+01 \n",
      "  3000| 4.97e-11  8.09e-12  5.76e-10  9.48e-08  8.29e+02  2.36e+01 \n",
      "  3250| 4.97e-11  1.65e-11  1.42e-09  9.44e-08  8.29e+02  2.56e+01 \n",
      "  3500| 4.97e-11  6.07e-12  3.35e-10  9.49e-08  8.29e+02  2.75e+01 \n",
      "  3750| 4.97e-11  1.36e-11  1.47e-09  9.58e-08  8.29e+02  2.95e+01 \n",
      "  4000| 4.97e-11  5.91e-12  2.25e-10  9.50e-08  8.29e+02  3.15e+01 \n",
      "  4250| 4.97e-11  1.24e-11  1.28e-09  9.57e-08  8.29e+02  3.34e+01 \n",
      "  4500| 4.97e-11  7.23e-12  5.56e-10  9.54e-08  8.29e+02  3.54e+01 \n",
      "  4750| 4.97e-11  7.16e-12  3.32e-10  9.49e-08  8.29e+02  3.74e+01 \n",
      "  5000| 4.97e-11  6.82e-12  3.80e-10  9.49e-08  8.29e+02  3.94e+01 \n",
      "  5250| 1.82e-09  1.61e-06  8.42e-06 -4.11e-06  8.29e+02  4.14e+01 \n",
      "  5500| 4.97e-11  5.20e-12  4.77e-10  9.53e-08  8.29e+02  4.33e+01 \n",
      "  5750| 4.97e-11  1.11e-11  8.08e-10  9.47e-08  8.29e+02  4.52e+01 \n",
      "  6000| 4.97e-11  4.13e-12  1.92e-10  9.52e-08  8.29e+02  4.72e+01 \n",
      "  6250| 4.97e-11  9.40e-12  1.01e-09  9.56e-08  8.29e+02  4.91e+01 \n",
      "  6500| 4.97e-11  5.88e-12  2.05e-10  9.50e-08  8.29e+02  5.11e+01 \n",
      "  6750| 4.97e-11  1.12e-11  5.36e-10  9.48e-08  8.29e+02  5.30e+01 \n",
      "  7000| 4.97e-11  6.74e-12  4.47e-10  9.53e-08  8.29e+02  5.50e+01 \n",
      "  7250| 4.97e-11  8.05e-12  7.00e-10  9.54e-08  8.29e+02  5.69e+01 \n",
      "  7500| 4.97e-11  5.39e-12  3.06e-10  9.52e-08  8.29e+02  5.89e+01 \n",
      "  7750| 4.97e-11  1.26e-11  1.33e-09  9.58e-08  8.29e+02  6.08e+01 \n",
      "  8000| 1.23e-09  1.24e-06  2.03e-05 -1.01e-05  8.29e+02  6.28e+01 \n",
      "  8250| 4.97e-11  7.57e-12  1.80e-10  9.50e-08  8.29e+02  6.47e+01 \n",
      "  8500| 4.97e-11  4.87e-12  1.72e-12  9.51e-08  8.29e+02  6.67e+01 \n",
      "  8750| 4.97e-11  1.00e-11  9.77e-10  9.56e-08  8.29e+02  6.86e+01 \n",
      "  9000| 4.97e-11  9.05e-12  5.78e-10  9.48e-08  8.29e+02  7.06e+01 \n",
      "  9250| 4.97e-11  7.94e-12  7.47e-10  9.55e-08  8.29e+02  7.25e+01 \n",
      "  9500| 4.97e-11  4.97e-12  3.00e-10  9.52e-08  8.29e+02  7.45e+01 \n",
      "  9750| 4.97e-11  9.77e-12  9.55e-10  9.56e-08  8.29e+02  7.64e+01 \n",
      " 10000| 4.97e-11  9.08e-12  5.45e-10  9.48e-08  8.29e+02  7.84e+01 \n",
      " 10250| 4.97e-11  7.36e-12  4.48e-10  9.49e-08  8.29e+02  8.03e+01 \n",
      " 10500| 4.97e-11  1.23e-11  8.22e-10  9.47e-08  8.29e+02  8.23e+01 \n",
      " 10750| 1.14e-09  1.67e-06  9.29e-05 -4.63e-05  8.29e+02  8.43e+01 \n",
      " 11000| 4.97e-11  1.28e-11  9.77e-10  9.46e-08  8.29e+02  8.62e+01 \n",
      " 11250| 4.97e-11  1.21e-11  1.07e-09  9.46e-08  8.29e+02  8.82e+01 \n",
      " 11500| 4.97e-11  1.29e-11  1.13e-09  9.45e-08  8.29e+02  9.01e+01 \n",
      " 11750| 4.97e-11  6.75e-12  4.62e-10  9.49e-08  8.29e+02  9.21e+01 \n",
      " 12000| 4.97e-11  4.79e-12  2.54e-12  9.51e-08  8.29e+02  9.41e+01 \n",
      " 12250| 4.97e-11  1.45e-11  1.23e-09  9.45e-08  8.29e+02  9.60e+01 \n",
      " 12500| 4.97e-11  1.31e-11  8.77e-10  9.47e-08  8.29e+02  9.80e+01 \n",
      " 12750| 4.97e-11  6.41e-12  2.15e-10  9.50e-08  8.29e+02  1.00e+02 \n",
      " 13000| 4.97e-11  9.52e-12  5.67e-10  9.48e-08  8.29e+02  1.02e+02 \n",
      " 13250| 4.97e-11  4.04e-12  7.87e-11  9.51e-08  8.29e+02  1.04e+02 \n",
      " 13500| 7.08e-10  5.86e-07  8.38e-07  5.14e-07  8.29e+02  1.06e+02 \n",
      " 13750| 4.97e-11  4.80e-12  9.73e-11  9.50e-08  8.29e+02  1.08e+02 \n",
      " 14000| 4.97e-11  1.44e-11  1.20e-09  9.45e-08  8.29e+02  1.10e+02 \n",
      " 14250| 4.97e-11  1.10e-11  7.81e-10  9.47e-08  8.29e+02  1.12e+02 \n",
      " 14500| 4.97e-11  1.24e-11  1.06e-09  9.46e-08  8.29e+02  1.14e+02 \n",
      " 14750| 4.97e-11  3.53e-12  9.26e-11  9.51e-08  8.29e+02  1.16e+02 \n",
      " 15000| 4.97e-11  1.56e-11  1.35e-09  9.44e-08  8.29e+02  1.17e+02 \n",
      " 15250| 4.97e-11  5.23e-12  5.19e-11  9.51e-08  8.29e+02  1.19e+02 \n",
      " 15500| 4.97e-11  8.63e-12  6.92e-10  9.47e-08  8.29e+02  1.21e+02 \n",
      " 15750| 4.97e-11  7.67e-12  5.14e-10  9.48e-08  8.29e+02  1.23e+02 \n",
      " 16000| 4.97e-11  4.57e-12  6.41e-11  9.51e-08  8.29e+02  1.25e+02 \n",
      " 16250| 5.03e-10  4.49e-07  1.65e-06  9.22e-07  8.29e+02  1.27e+02 \n",
      " 16500| 4.97e-11  7.88e-12  2.97e-10  9.52e-08  8.29e+02  1.29e+02 \n",
      " 16750| 4.97e-11  6.50e-12  4.31e-10  9.53e-08  8.29e+02  1.31e+02 \n",
      " 17000| 4.97e-11  3.69e-12  7.60e-12  9.51e-08  8.29e+02  1.33e+02 \n",
      " 17250| 4.97e-11  3.94e-12  1.14e-10  9.51e-08  8.29e+02  1.35e+02 \n",
      " 17500| 4.97e-11  9.07e-12  5.04e-10  9.48e-08  8.29e+02  1.37e+02 \n",
      " 17750| 4.97e-11  5.19e-12  4.36e-10  9.53e-08  8.29e+02  1.39e+02 \n",
      " 18000| 4.97e-11  8.92e-12  8.52e-10  9.55e-08  8.29e+02  1.41e+02 \n",
      " 18250| 4.97e-11  7.36e-12  2.92e-10  9.49e-08  8.29e+02  1.43e+02 \n",
      " 18500| 4.97e-11  4.51e-12  1.68e-10  9.52e-08  8.29e+02  1.45e+02 \n",
      " 18750| 4.97e-11  1.34e-11  1.24e-09  9.57e-08  8.29e+02  1.47e+02 \n",
      " 19000| 4.02e-10  3.49e-07  1.22e-07  3.40e-08  8.29e+02  1.49e+02 \n",
      " 19250| 4.97e-11  6.69e-12  4.19e-10  9.49e-08  8.29e+02  1.51e+02 \n",
      " 19500| 4.97e-11  7.54e-12  3.79e-10  9.49e-08  8.29e+02  1.52e+02 \n",
      " 19750| 4.97e-11  5.81e-12  4.17e-10  9.53e-08  8.29e+02  1.54e+02 \n",
      " 20000| 4.97e-11  7.30e-12  5.79e-10  9.48e-08  8.29e+02  1.56e+02 \n",
      " 20250| 4.97e-11  4.20e-12  1.51e-10  9.50e-08  8.29e+02  1.58e+02 \n",
      " 20500| 4.97e-11  7.38e-12  6.91e-10  9.54e-08  8.29e+02  1.60e+02 \n",
      " 20750| 4.97e-11  4.06e-12  2.93e-10  9.52e-08  8.29e+02  1.62e+02 \n",
      " 21000| 4.97e-11  3.50e-12  8.11e-11  9.51e-08  8.29e+02  1.64e+02 \n",
      " 21250| 4.97e-11  4.13e-12  2.30e-10  9.52e-08  8.29e+02  1.66e+02 \n",
      " 21500| 4.97e-11  7.73e-12  5.82e-10  9.54e-08  8.29e+02  1.68e+02 \n",
      " 21750| 3.12e-10  2.58e-07  1.61e-06 -7.11e-07  8.29e+02  1.70e+02 \n",
      " 22000| 4.97e-11  5.23e-12  9.43e-11  9.51e-08  8.29e+02  1.72e+02 \n",
      " 22250| 4.97e-11  4.14e-12  1.38e-10  9.52e-08  8.29e+02  1.74e+02 \n",
      " 22500| 4.97e-11  6.60e-12  2.45e-10  9.52e-08  8.29e+02  1.76e+02 \n",
      " 22750| 4.97e-11  3.96e-12  2.54e-10  9.52e-08  8.29e+02  1.78e+02 \n",
      " 23000| 4.97e-11  8.16e-12  4.61e-10  9.49e-08  8.29e+02  1.80e+02 \n",
      " 23250| 4.97e-11  5.65e-12  4.58e-10  9.53e-08  8.29e+02  1.82e+02 \n",
      " 23500| 4.97e-11  6.36e-12  4.77e-10  9.53e-08  8.29e+02  1.84e+02 \n",
      " 23750| 4.97e-11  1.02e-11  1.02e-09  9.56e-08  8.29e+02  1.86e+02 \n",
      " 24000| 4.97e-11  1.04e-11  7.71e-10  9.47e-08  8.29e+02  1.88e+02 \n",
      " 24250| 4.97e-11  4.21e-12  1.26e-10  9.52e-08  8.29e+02  1.90e+02 \n",
      " 24500| 2.50e-10  1.99e-07  4.48e-07 -1.29e-07  8.29e+02  1.92e+02 \n",
      " 24750| 4.97e-11  1.14e-11  1.15e-09  9.57e-08  8.29e+02  1.94e+02 \n",
      " 25000| 4.97e-11  6.81e-12  5.07e-10  9.53e-08  8.29e+02  1.96e+02 \n",
      " 25250| 4.97e-11  5.79e-12  3.96e-10  9.53e-08  8.29e+02  1.98e+02 \n",
      " 25500| 4.97e-11  9.57e-12  5.61e-10  9.48e-08  8.29e+02  2.00e+02 \n",
      " 25750| 4.97e-11  6.08e-12  4.08e-10  9.53e-08  8.29e+02  2.02e+02 \n",
      " 26000| 4.97e-11  1.07e-11  1.03e-09  9.56e-08  8.29e+02  2.04e+02 \n",
      " 26250| 4.97e-11  1.04e-11  1.00e-09  9.56e-08  8.29e+02  2.06e+02 \n",
      " 26500| 4.97e-11  5.41e-12  3.76e-10  9.53e-08  8.29e+02  2.08e+02 \n",
      " 26750| 4.97e-11  1.41e-11  1.49e-09  9.58e-08  8.29e+02  2.10e+02 \n",
      " 27000| 4.97e-11  5.89e-12  8.33e-11  9.51e-08  8.29e+02  2.12e+02 \n",
      " 27250| 1.98e-10  1.48e-07  1.93e-06 -8.71e-07  8.29e+02  2.13e+02 \n",
      " 27500| 4.97e-11  3.79e-12  2.41e-10  9.52e-08  8.29e+02  2.15e+02 \n",
      " 27750| 4.97e-11  6.28e-12  2.86e-10  9.49e-08  8.29e+02  2.17e+02 \n",
      " 28000| 4.97e-11  1.08e-11  5.21e-10  9.48e-08  8.29e+02  2.19e+02 \n",
      " 28250| 4.97e-11  6.91e-12  5.69e-10  9.54e-08  8.29e+02  2.21e+02 \n",
      " 28500| 4.97e-11  4.78e-12  2.19e-10  9.52e-08  8.29e+02  2.23e+02 \n",
      " 28750| 4.97e-11  8.31e-12  7.10e-10  9.54e-08  8.29e+02  2.25e+02 \n",
      " 29000| 4.97e-11  7.63e-12  6.46e-10  9.54e-08  8.29e+02  2.27e+02 \n",
      " 29250| 4.97e-11  6.20e-12  3.46e-10  9.53e-08  8.29e+02  2.29e+02 \n",
      " 29500| 4.97e-11  5.40e-12  1.23e-10  9.50e-08  8.29e+02  2.31e+02 \n",
      " 29750| 4.97e-11  1.06e-11  1.05e-09  9.56e-08  8.29e+02  2.33e+02 \n",
      " 30000| 1.62e-10  1.11e-07  9.48e-07  5.69e-07  8.29e+02  2.35e+02 \n",
      " 30250| 4.97e-11  8.60e-12  8.90e-10  9.55e-08  8.29e+02  2.37e+02 \n",
      " 30500| 4.97e-11  8.76e-12  5.02e-10  9.48e-08  8.29e+02  2.39e+02 \n",
      " 30750| 4.97e-11  9.38e-12  8.79e-10  9.55e-08  8.29e+02  2.41e+02 \n",
      " 31000| 4.97e-11  6.32e-12  4.22e-10  9.53e-08  8.29e+02  2.43e+02 \n",
      " 31250| 4.97e-11  1.07e-11  8.01e-10  9.47e-08  8.29e+02  2.45e+02 \n",
      " 31500| 4.97e-11  1.24e-11  9.11e-10  9.46e-08  8.29e+02  2.47e+02 \n",
      " 31750| 4.97e-11  5.02e-12  4.94e-10  9.53e-08  8.29e+02  2.49e+02 \n",
      " 32000| 4.97e-11  5.18e-12  1.12e-10  9.51e-08  8.29e+02  2.51e+02 \n",
      " 32250| 4.97e-11  4.59e-12  3.64e-10  9.53e-08  8.29e+02  2.53e+02 \n",
      " 32500| 4.97e-11  8.25e-12  3.17e-10  9.49e-08  8.29e+02  2.54e+02 \n",
      " 32750| 1.35e-10  8.43e-08  4.04e-07  2.97e-07  8.29e+02  2.56e+02 \n",
      " 33000| 4.97e-11  1.05e-11  9.78e-10  9.56e-08  8.29e+02  2.58e+02 \n",
      " 33250| 4.97e-11  7.13e-12  3.46e-10  9.49e-08  8.29e+02  2.60e+02 \n",
      " 33500| 4.97e-11  5.79e-12  4.96e-10  9.53e-08  8.29e+02  2.62e+02 \n",
      " 33750| 4.97e-11  4.28e-12  1.24e-10  9.52e-08  8.29e+02  2.64e+02 \n",
      " 34000| 4.97e-11  4.50e-12  7.07e-11  9.51e-08  8.29e+02  2.66e+02 \n",
      " 34250| 4.97e-11  3.60e-12  1.25e-10  9.52e-08  8.29e+02  2.68e+02 \n",
      " 34500| 4.97e-11  5.80e-12  5.16e-10  9.53e-08  8.29e+02  2.70e+02 \n",
      " 34750| 4.97e-11  6.91e-12  1.23e-10  9.50e-08  8.29e+02  2.72e+02 \n",
      " 35000| 4.97e-11  9.86e-12  9.88e-10  9.56e-08  8.29e+02  2.74e+02 \n",
      " 35250| 4.97e-11  4.60e-12  8.85e-11  9.51e-08  8.29e+02  2.76e+02 \n",
      " 35500| 1.13e-10  6.27e-08  9.62e-07  5.76e-07  8.29e+02  2.78e+02 \n",
      " 35750| 4.97e-11  8.64e-12  3.64e-10  9.49e-08  8.29e+02  2.80e+02 \n",
      " 36000| 4.97e-11  8.74e-12  6.38e-10  9.48e-08  8.29e+02  2.82e+02 \n",
      " 36250| 4.97e-11  6.94e-12  3.96e-10  9.49e-08  8.29e+02  2.84e+02 \n",
      " 36500| 4.97e-11  1.05e-11  8.73e-10  9.47e-08  8.29e+02  2.86e+02 \n",
      " 36750| 4.97e-11  3.63e-12  1.82e-10  9.52e-08  8.29e+02  2.88e+02 \n",
      " 37000| 4.97e-11  6.19e-12  1.58e-10  9.50e-08  8.29e+02  2.90e+02 \n",
      " 37250| 4.97e-11  6.97e-12  1.31e-10  9.50e-08  8.29e+02  2.92e+02 \n",
      " 37500| 4.97e-11  1.19e-11  9.70e-10  9.46e-08  8.29e+02  2.94e+02 \n",
      " 37750| 4.97e-11  7.27e-12  1.98e-10  9.50e-08  8.29e+02  2.96e+02 \n",
      " 38000| 4.97e-11  7.56e-12  7.97e-10  9.55e-08  8.29e+02  2.98e+02 \n",
      " 38250| 9.77e-11  4.74e-08  1.34e-07  1.62e-07  8.29e+02  3.00e+02 \n",
      " 38500| 4.97e-11  9.33e-12  5.74e-10  9.48e-08  8.29e+02  3.02e+02 \n",
      " 38750| 4.97e-11  9.99e-12  8.35e-10  9.55e-08  8.29e+02  3.04e+02 \n",
      " 39000| 4.97e-11  6.18e-12  1.60e-10  9.50e-08  8.29e+02  3.06e+02 \n",
      " 39250| 4.97e-11  1.24e-11  1.25e-09  9.57e-08  8.29e+02  3.08e+02 \n",
      " 39500| 4.97e-11  8.88e-12  5.61e-10  9.48e-08  8.29e+02  3.10e+02 \n",
      " 39750| 4.97e-11  1.08e-11  1.01e-09  9.46e-08  8.29e+02  3.12e+02 \n",
      " 40000| 4.97e-11  5.69e-12  1.04e-10  9.51e-08  8.29e+02  3.13e+02 \n",
      " 40250| 4.97e-11  5.80e-12  6.14e-10  9.54e-08  8.29e+02  3.15e+02 \n",
      " 40500| 4.97e-11  9.03e-12  6.25e-10  9.48e-08  8.29e+02  3.17e+02 \n",
      " 40750| 4.97e-11  3.87e-12  9.62e-11  9.51e-08  8.29e+02  3.19e+02 \n",
      " 41000| 8.55e-11  3.55e-08  2.39e-08  1.07e-07  8.29e+02  3.21e+02 \n",
      " 41250| 4.97e-11  7.73e-12  2.54e-10  9.50e-08  8.29e+02  3.23e+02 \n",
      " 41500| 4.97e-11  8.08e-12  6.31e-10  9.54e-08  8.29e+02  3.25e+02 \n",
      " 41750| 4.97e-11  4.64e-12  6.24e-11  9.51e-08  8.29e+02  3.27e+02 \n",
      " 42000| 4.97e-11  8.65e-12  4.88e-10  9.48e-08  8.29e+02  3.29e+02 \n",
      " 42250| 4.97e-11  1.08e-11  8.62e-10  9.47e-08  8.29e+02  3.31e+02 \n",
      " 42500| 4.97e-11  8.27e-12  3.96e-10  9.49e-08  8.29e+02  3.33e+02 \n",
      " 42750| 4.97e-11  1.22e-11  1.04e-09  9.46e-08  8.29e+02  3.35e+02 \n",
      " 43000| 4.97e-11  1.04e-11  7.32e-10  9.47e-08  8.29e+02  3.37e+02 \n",
      " 43250| 4.97e-11  1.33e-11  1.22e-09  9.45e-08  8.29e+02  3.39e+02 \n",
      " 43500| 4.97e-11  6.23e-12  2.86e-10  9.49e-08  8.29e+02  3.41e+02 \n",
      " 43750| 7.68e-11  2.68e-08  4.00e-09  9.31e-08  8.29e+02  3.43e+02 \n",
      " 44000| 4.97e-11  4.07e-12  3.35e-11  9.51e-08  8.29e+02  3.45e+02 \n",
      " 44250| 4.97e-11  8.88e-12  7.35e-10  9.55e-08  8.29e+02  3.47e+02 \n",
      " 44500| 4.97e-11  9.65e-12  6.59e-10  9.48e-08  8.29e+02  3.49e+02 \n",
      " 44750| 4.97e-11  5.52e-12  7.43e-11  9.51e-08  8.29e+02  3.51e+02 \n",
      " 45000| 4.97e-11  7.18e-12  2.94e-10  9.49e-08  8.29e+02  3.53e+02 \n",
      " 45250| 4.97e-11  6.99e-12  2.55e-10  9.50e-08  8.29e+02  3.55e+02 \n",
      " 45500| 4.97e-11  5.84e-12  2.04e-10  9.50e-08  8.29e+02  3.57e+02 \n",
      " 45750| 4.97e-11  6.33e-12  1.72e-10  9.52e-08  8.29e+02  3.59e+02 \n",
      " 46000| 4.97e-11  9.98e-12  7.10e-10  9.47e-08  8.29e+02  3.61e+02 \n",
      " 46250| 4.97e-11  6.44e-12  4.55e-10  9.49e-08  8.29e+02  3.63e+02 \n",
      " 46500| 7.01e-11  2.02e-08  6.02e-07 -2.06e-07  8.29e+02  3.65e+02 \n",
      " 46750| 4.97e-11  6.46e-12  5.57e-10  9.54e-08  8.29e+02  3.67e+02 \n",
      " 47000| 4.97e-11  4.73e-12  5.30e-11  9.51e-08  8.29e+02  3.69e+02 \n",
      " 47250| 4.97e-11  1.02e-11  5.57e-10  9.48e-08  8.29e+02  3.71e+02 \n",
      " 47500| 4.97e-11  5.88e-12  3.60e-10  9.53e-08  8.29e+02  3.73e+02 \n",
      " 47750| 4.97e-11  9.50e-12  6.30e-10  9.48e-08  8.29e+02  3.75e+02 \n",
      " 48000| 4.97e-11  4.09e-12  6.54e-11  9.51e-08  8.29e+02  3.77e+02 \n",
      " 48250| 4.97e-11  3.77e-12  3.12e-10  9.52e-08  8.29e+02  3.79e+02 \n",
      " 48500| 4.97e-11  5.63e-12  4.96e-11  9.51e-08  8.29e+02  3.81e+02 \n",
      " 48750| 4.97e-11  1.33e-11  1.18e-09  9.45e-08  8.29e+02  3.83e+02 \n",
      " 49000| 4.97e-11  7.15e-12  1.77e-10  9.50e-08  8.29e+02  3.84e+02 \n",
      " 49250| 6.46e-11  1.69e-08  6.02e-07  3.96e-07  8.29e+02  3.86e+02 \n",
      " 49500| 4.97e-11  7.22e-12  1.93e-10  9.50e-08  8.29e+02  3.88e+02 \n",
      " 49750| 4.97e-11  6.10e-12  2.30e-11  9.51e-08  8.29e+02  3.90e+02 \n",
      " 50000| 4.97e-11  4.05e-12  1.16e-10  9.51e-08  8.29e+02  3.92e+02 \n",
      " 50250| 4.97e-11  5.81e-12  3.33e-11  9.51e-08  8.29e+02  3.94e+02 \n",
      " 50500| 4.97e-11  1.12e-11  8.04e-10  9.47e-08  8.29e+02  3.96e+02 \n",
      " 50750| 4.97e-11  4.67e-12  7.56e-11  9.51e-08  8.29e+02  3.98e+02 \n",
      " 51000| 4.97e-11  9.52e-12  1.02e-09  9.56e-08  8.29e+02  4.00e+02 \n",
      " 51250| 4.97e-11  6.21e-12  6.06e-10  9.54e-08  8.29e+02  4.02e+02 \n",
      " 51500| 4.97e-11  6.61e-12  4.14e-10  9.53e-08  8.29e+02  4.04e+02 \n",
      " 51750| 4.97e-11  1.20e-11  1.11e-09  9.56e-08  8.29e+02  4.06e+02 \n",
      " 52000| 6.12e-11  1.13e-08  1.39e-07  1.65e-07  8.29e+02  4.08e+02 \n",
      " 52250| 4.97e-11  6.31e-12  2.23e-10  9.50e-08  8.29e+02  4.10e+02 \n",
      " 52500| 4.97e-11  8.84e-12  6.40e-10  9.54e-08  8.29e+02  4.12e+02 \n",
      " 52750| 4.97e-11  8.92e-12  4.54e-10  9.49e-08  8.29e+02  4.14e+02 \n",
      " 53000| 4.97e-11  8.34e-12  3.82e-10  9.49e-08  8.29e+02  4.16e+02 \n",
      " 53250| 4.97e-11  1.21e-11  1.28e-09  9.57e-08  8.29e+02  4.18e+02 \n",
      " 53500| 4.97e-11  3.77e-12  6.59e-11  9.51e-08  8.29e+02  4.20e+02 \n",
      " 53750| 4.97e-11  3.91e-12  5.19e-11  9.51e-08  8.29e+02  4.22e+02 \n",
      " 54000| 4.97e-11  7.11e-12  3.15e-10  9.49e-08  8.29e+02  4.24e+02 \n",
      " 54250| 4.97e-11  5.60e-12  3.39e-10  9.53e-08  8.29e+02  4.26e+02 \n",
      " 54500| 4.97e-11  7.11e-12  4.80e-10  9.53e-08  8.29e+02  4.28e+02 \n",
      " 54750| 5.82e-11  8.42e-09  1.91e-08  1.05e-07  8.29e+02  4.30e+02 \n",
      " 55000| 4.97e-11  3.99e-12  1.64e-10  9.52e-08  8.29e+02  4.32e+02 \n",
      " 55250| 4.97e-11  4.49e-12  6.01e-11  9.51e-08  8.29e+02  4.34e+02 \n",
      " 55500| 4.97e-11  5.19e-12  2.45e-11  9.51e-08  8.29e+02  4.36e+02 \n",
      " 55750| 4.97e-11  1.25e-11  8.87e-10  9.46e-08  8.29e+02  4.38e+02 \n",
      " 56000| 4.97e-11  4.27e-12  2.03e-10  9.52e-08  8.29e+02  4.40e+02 \n",
      " 56250| 4.97e-11  4.92e-12  6.65e-11  9.51e-08  8.29e+02  4.42e+02 \n",
      " 56500| 4.97e-11  7.64e-12  4.68e-10  9.49e-08  8.29e+02  4.44e+02 \n",
      " 56750| 4.97e-11  1.26e-11  9.36e-10  9.46e-08  8.29e+02  4.46e+02 \n",
      " 57000| 4.97e-11  6.07e-12  2.89e-10  9.49e-08  8.29e+02  4.48e+02 \n",
      " 57250| 4.97e-11  6.87e-12  4.70e-10  9.53e-08  8.29e+02  4.50e+02 \n",
      " 57500| 5.72e-11  4.52e-08  3.39e-06  1.79e-06  8.29e+02  4.52e+02 \n",
      " 57750| 4.97e-11  9.24e-12  4.45e-10  9.49e-08  8.29e+02  4.54e+02 \n",
      " 58000| 4.97e-11  7.44e-12  3.36e-10  9.49e-08  8.29e+02  4.56e+02 \n",
      " 58250| 4.97e-11  4.06e-12  1.51e-10  9.52e-08  8.29e+02  4.58e+02 \n",
      " 58500| 4.97e-11  5.84e-12  1.51e-10  9.50e-08  8.29e+02  4.60e+02 \n",
      " 58750| 4.97e-11  5.21e-12  3.72e-10  9.53e-08  8.29e+02  4.62e+02 \n",
      " 59000| 4.97e-11  8.61e-12  4.19e-10  9.49e-08  8.29e+02  4.64e+02 \n",
      " 59250| 4.97e-11  9.10e-12  6.23e-10  9.48e-08  8.29e+02  4.66e+02 \n",
      " 59500| 4.97e-11  8.38e-12  1.40e-10  9.50e-08  8.29e+02  4.68e+02 \n",
      " 59750| 4.97e-11  5.20e-12  2.31e-10  9.52e-08  8.29e+02  4.70e+02 \n",
      " 60000| 4.97e-11  5.29e-12  2.12e-10  9.52e-08  8.29e+02  4.72e+02 \n",
      " 60250| 5.45e-11  4.71e-09  4.96e-08  1.20e-07  8.29e+02  4.74e+02 \n",
      " 60500| 4.97e-11  9.93e-12  6.33e-10  9.48e-08  8.29e+02  4.76e+02 \n",
      " 60750| 4.97e-11  1.10e-11  9.41e-10  9.46e-08  8.29e+02  4.78e+02 \n",
      " 61000| 4.97e-11  7.08e-12  5.28e-10  9.54e-08  8.29e+02  4.80e+02 \n",
      " 61250| 4.97e-11  9.06e-12  6.68e-10  9.48e-08  8.29e+02  4.82e+02 \n",
      " 61500| 4.97e-11  7.99e-12  3.65e-10  9.49e-08  8.29e+02  4.84e+02 \n",
      " 61750| 4.97e-11  5.51e-12  1.70e-10  9.52e-08  8.29e+02  4.86e+02 \n",
      " 62000| 4.97e-11  7.86e-12  6.87e-10  9.54e-08  8.29e+02  4.88e+02 \n",
      " 62250| 4.97e-11  1.22e-11  1.13e-09  9.57e-08  8.29e+02  4.90e+02 \n",
      " 62500| 4.97e-11  4.97e-12  1.06e-10  9.51e-08  8.29e+02  4.92e+02 \n",
      " 62750| 4.97e-11  7.45e-12  3.16e-10  9.49e-08  8.29e+02  4.94e+02 \n",
      " 63000| 5.33e-11  3.52e-09  2.62e-08  8.20e-08  8.29e+02  4.96e+02 \n",
      " 63250| 4.97e-11  1.22e-11  1.07e-09  9.46e-08  8.29e+02  4.98e+02 \n",
      " 63500| 4.97e-11  1.07e-11  7.13e-10  9.47e-08  8.29e+02  5.00e+02 \n",
      " 63750| 4.97e-11  6.74e-12  2.84e-10  9.52e-08  8.29e+02  5.02e+02 \n",
      " 64000| 4.97e-11  4.25e-12  1.80e-10  9.52e-08  8.29e+02  5.04e+02 \n",
      " 64250| 4.97e-11  8.24e-12  7.92e-10  9.55e-08  8.29e+02  5.06e+02 \n",
      " 64500| 4.97e-11  1.15e-11  1.07e-09  9.56e-08  8.29e+02  5.08e+02 \n",
      " 64750| 4.97e-11  7.61e-12  7.19e-10  9.55e-08  8.29e+02  5.10e+02 \n",
      " 65000| 4.97e-11  6.85e-12  5.54e-10  9.54e-08  8.29e+02  5.12e+02 \n",
      " 65250| 4.97e-11  1.47e-11  1.50e-09  9.58e-08  8.29e+02  5.14e+02 \n",
      " 65500| 4.97e-11  1.48e-11  1.47e-09  9.58e-08  8.29e+02  5.16e+02 \n",
      " 65750| 5.24e-11  2.66e-09  5.27e-08  1.21e-07  8.29e+02  5.18e+02 \n",
      " 66000| 4.97e-11  1.49e-11  1.53e-09  9.59e-08  8.29e+02  5.20e+02 \n",
      " 66250| 4.97e-11  4.28e-12  2.12e-11  9.51e-08  8.29e+02  5.21e+02 \n",
      " 66500| 4.97e-11  1.34e-11  1.36e-09  9.58e-08  8.29e+02  5.23e+02 \n",
      " 66750| 4.97e-11  6.80e-12  3.78e-10  9.53e-08  8.29e+02  5.25e+02 \n",
      " 67000| 4.97e-11  4.96e-12  4.60e-10  9.53e-08  8.29e+02  5.27e+02 \n",
      " 67250| 4.97e-11  5.49e-12  2.39e-11  9.51e-08  8.29e+02  5.29e+02 \n",
      " 67500| 4.97e-11  5.00e-12  1.31e-10  9.50e-08  8.29e+02  5.31e+02 \n",
      " 67750| 4.97e-11  5.83e-12  2.04e-10  9.50e-08  8.29e+02  5.33e+02 \n",
      " 68000| 4.97e-11  5.39e-12  1.38e-10  9.52e-08  8.29e+02  5.35e+02 \n",
      " 68250| 4.97e-11  8.89e-12  7.21e-10  9.55e-08  8.29e+02  5.37e+02 \n",
      " 68500| 5.17e-11  1.98e-09  1.43e-08  8.79e-08  8.29e+02  5.39e+02 \n",
      " 68750| 4.97e-11  7.18e-12  5.44e-10  9.54e-08  8.29e+02  5.41e+02 \n",
      " 69000| 4.97e-11  5.02e-12  4.06e-10  9.53e-08  8.29e+02  5.43e+02 \n",
      " 69250| 4.97e-11  7.75e-12  5.99e-10  9.54e-08  8.29e+02  5.45e+02 \n",
      " 69500| 4.97e-11  6.02e-12  4.39e-10  9.53e-08  8.29e+02  5.47e+02 \n",
      " 69750| 4.97e-11  8.61e-12  7.45e-10  9.55e-08  8.29e+02  5.49e+02 \n",
      " 70000| 4.97e-11  1.18e-11  1.19e-09  9.57e-08  8.29e+02  5.51e+02 \n",
      " 70250| 4.97e-11  6.42e-12  6.54e-10  9.54e-08  8.29e+02  5.53e+02 \n",
      " 70500| 4.97e-11  5.84e-12  4.80e-10  9.53e-08  8.29e+02  5.55e+02 \n",
      " 70750| 4.97e-11  5.80e-12  4.18e-10  9.53e-08  8.29e+02  5.57e+02 \n",
      " 71000| 4.97e-11  5.75e-12  5.11e-10  9.53e-08  8.29e+02  5.59e+02 \n",
      " 71250| 5.13e-11  1.49e-09  9.48e-09  9.98e-08  8.29e+02  5.61e+02 \n",
      " 71500| 4.97e-11  4.32e-12  2.70e-10  9.52e-08  8.29e+02  5.63e+02 \n",
      " 71750| 4.97e-11  4.26e-12  7.07e-11  9.51e-08  8.29e+02  5.65e+02 \n",
      " 72000| 4.97e-11  8.01e-12  4.71e-10  9.49e-08  8.29e+02  5.67e+02 \n",
      " 72250| 4.97e-11  8.31e-12  4.55e-10  9.49e-08  8.29e+02  5.69e+02 \n",
      " 72500| 4.97e-11  8.37e-12  5.37e-10  9.48e-08  8.29e+02  5.71e+02 \n",
      " 72750| 4.97e-11  5.15e-12  1.34e-10  9.50e-08  8.29e+02  5.73e+02 \n",
      " 73000| 4.97e-11  8.02e-12  5.72e-10  9.54e-08  8.29e+02  5.75e+02 \n",
      " 73250| 4.97e-11  4.73e-12  2.68e-10  9.52e-08  8.29e+02  5.77e+02 \n",
      " 73500| 4.97e-11  3.92e-12  1.36e-10  9.52e-08  8.29e+02  5.79e+02 \n",
      " 73750| 4.97e-11  5.08e-12  3.64e-10  9.53e-08  8.29e+02  5.81e+02 \n",
      " 74000| 5.17e-11  2.36e-08  1.52e-06  8.54e-07  8.29e+02  5.83e+02 \n",
      " 74250| 4.97e-11  3.76e-12  1.15e-10  9.51e-08  8.29e+02  5.85e+02 \n",
      " 74500| 4.97e-11  3.84e-12  2.54e-11  9.51e-08  8.29e+02  5.87e+02 \n",
      " 74750| 4.97e-11  7.51e-12  4.30e-10  9.49e-08  8.29e+02  5.89e+02 \n",
      " 75000| 4.97e-11  9.87e-12  5.88e-10  9.48e-08  8.29e+02  5.91e+02 \n",
      " 75250| 4.97e-11  7.90e-12  3.35e-10  9.49e-08  8.29e+02  5.93e+02 \n",
      " 75500| 4.97e-11  1.01e-11  6.34e-10  9.48e-08  8.29e+02  5.95e+02 \n",
      " 75750| 4.97e-11  5.68e-12  5.10e-11  9.51e-08  8.29e+02  5.97e+02 \n",
      " 76000| 4.97e-11  7.88e-12  3.19e-10  9.49e-08  8.29e+02  5.99e+02 \n",
      " 76250| 4.97e-11  5.84e-12  2.47e-10  9.50e-08  8.29e+02  6.01e+02 \n",
      " 76500| 4.97e-11  1.05e-11  7.81e-10  9.47e-08  8.29e+02  6.03e+02 \n",
      " 76750| 5.06e-11  9.86e-10  6.41e-08  1.27e-07  8.29e+02  6.05e+02 \n",
      " 77000| 4.97e-11  6.46e-12  6.45e-10  9.54e-08  8.29e+02  6.07e+02 \n",
      " 77250| 4.97e-11  6.52e-12  1.52e-10  9.50e-08  8.29e+02  6.08e+02 \n",
      " 77500| 4.97e-11  4.94e-12  8.02e-11  9.51e-08  8.29e+02  6.10e+02 \n",
      " 77750| 4.97e-11  5.05e-12  3.30e-10  9.53e-08  8.29e+02  6.12e+02 \n",
      " 78000| 4.97e-11  4.52e-12  1.62e-10  9.52e-08  8.29e+02  6.14e+02 \n",
      " 78250| 4.97e-11  1.03e-11  1.03e-09  9.56e-08  8.29e+02  6.16e+02 \n",
      " 78500| 4.97e-11  6.02e-12  2.40e-10  9.50e-08  8.29e+02  6.18e+02 \n",
      " 78750| 4.97e-11  9.41e-12  6.47e-10  9.48e-08  8.29e+02  6.20e+02 \n",
      " 79000| 4.97e-11  9.42e-12  4.87e-10  9.48e-08  8.29e+02  6.22e+02 \n",
      " 79250| 4.97e-11  6.57e-12  2.00e-10  9.50e-08  8.29e+02  6.24e+02 \n",
      " 79500| 4.97e-11  6.13e-12  6.42e-11  9.51e-08  8.29e+02  6.26e+02 \n",
      " 79750| 4.97e-11  4.79e-10  2.42e-09  9.39e-08  8.29e+02  6.28e+02 \n",
      " 80000| 4.97e-11  6.65e-12  5.55e-10  9.54e-08  8.29e+02  6.30e+02 \n",
      " 80250| 4.97e-11  4.47e-12  2.86e-10  9.52e-08  8.29e+02  6.32e+02 \n",
      " 80500| 4.97e-11  5.18e-12  4.43e-10  9.53e-08  8.29e+02  6.34e+02 \n",
      " 80750| 4.97e-11  4.08e-12  3.30e-10  9.53e-08  8.29e+02  6.36e+02 \n",
      " 81000| 4.97e-11  6.25e-12  1.86e-10  9.50e-08  8.29e+02  6.38e+02 \n",
      " 81250| 4.97e-11  4.53e-12  2.30e-11  9.51e-08  8.29e+02  6.40e+02 \n",
      " 81500| 4.97e-11  3.67e-12  1.28e-10  9.50e-08  8.29e+02  6.42e+02 \n",
      " 81750| 4.97e-11  5.76e-12  3.47e-10  9.53e-08  8.29e+02  6.44e+02 \n",
      " 82000| 4.97e-11  4.64e-12  3.38e-10  9.53e-08  8.29e+02  6.46e+02 \n",
      " 82250| 4.97e-11  5.91e-12  1.41e-10  9.50e-08  8.29e+02  6.48e+02 \n",
      " 82500| 4.97e-11  6.83e-10  1.08e-08  1.00e-07  8.29e+02  6.50e+02 \n",
      " 82750| 4.97e-11  7.06e-12  6.27e-10  9.54e-08  8.29e+02  6.52e+02 \n",
      " 83000| 4.97e-11  5.57e-12  9.55e-11  9.51e-08  8.29e+02  6.54e+02 \n",
      " 83250| 4.97e-11  6.88e-12  5.08e-10  9.53e-08  8.29e+02  6.56e+02 \n",
      " 83500| 4.97e-11  6.89e-12  1.73e-10  9.52e-08  8.29e+02  6.58e+02 \n",
      " 83750| 4.97e-11  6.48e-12  5.35e-10  9.54e-08  8.29e+02  6.60e+02 \n",
      " 84000| 4.97e-11  7.68e-12  6.72e-10  9.54e-08  8.29e+02  6.62e+02 \n",
      " 84250| 4.97e-11  5.21e-12  3.70e-10  9.53e-08  8.29e+02  6.64e+02 \n",
      " 84500| 4.97e-11  6.25e-12  5.22e-10  9.54e-08  8.29e+02  6.66e+02 \n",
      " 84750| 4.97e-11  4.94e-12  2.42e-10  9.52e-08  8.29e+02  6.68e+02 \n",
      " 85000| 4.97e-11  5.10e-12  4.07e-10  9.53e-08  8.29e+02  6.70e+02 \n",
      " 85250| 4.97e-11  5.95e-10  4.06e-09  9.31e-08  8.29e+02  6.72e+02 \n",
      " 85500| 4.97e-11  2.62e-12  8.72e-11  9.51e-08  8.29e+02  6.74e+02 \n",
      " 85750| 4.97e-11  4.68e-12  2.34e-10  9.52e-08  8.29e+02  6.76e+02 \n",
      " 86000| 4.97e-11  3.75e-12  1.02e-10  9.51e-08  8.29e+02  6.78e+02 \n",
      " 86250| 4.97e-11  7.39e-12  3.66e-10  9.49e-08  8.29e+02  6.80e+02 \n",
      " 86500| 4.97e-11  5.25e-12  3.75e-10  9.53e-08  8.29e+02  6.82e+02 \n",
      " 86750| 4.97e-11  2.91e-12  2.67e-11  9.51e-08  8.29e+02  6.84e+02 \n",
      " 87000| 4.97e-11  4.52e-12  1.99e-10  9.52e-08  8.29e+02  6.86e+02 \n",
      " 87250| 4.97e-11  6.27e-12  4.61e-10  9.53e-08  8.29e+02  6.88e+02 \n",
      " 87500| 4.97e-11  6.35e-12  4.13e-10  9.53e-08  8.29e+02  6.90e+02 \n",
      " 87750| 4.97e-11  5.22e-12  1.96e-10  9.52e-08  8.29e+02  6.92e+02 \n",
      " 88000| 4.97e-11  1.11e-09  7.13e-08  5.94e-08  8.29e+02  6.94e+02 \n",
      " 88250| 4.97e-11  4.81e-12  1.72e-10  9.52e-08  8.29e+02  6.96e+02 \n",
      " 88500| 4.97e-11  6.45e-12  3.62e-10  9.53e-08  8.29e+02  6.98e+02 \n",
      " 88750| 4.97e-11  7.76e-12  5.62e-10  9.54e-08  8.29e+02  7.00e+02 \n",
      " 89000| 4.97e-11  4.03e-12  3.11e-10  9.52e-08  8.29e+02  7.01e+02 \n",
      " 89250| 4.97e-11  7.89e-12  2.28e-10  9.50e-08  8.29e+02  7.03e+02 \n",
      " 89500| 4.97e-11  6.81e-12  3.40e-10  9.49e-08  8.29e+02  7.05e+02 \n",
      " 89750| 4.97e-11  3.82e-12  1.97e-10  9.52e-08  8.29e+02  7.07e+02 \n",
      " 90000| 4.97e-11  7.06e-12  1.61e-12  9.51e-08  8.29e+02  7.09e+02 \n",
      " 90250| 4.97e-11  3.59e-12  1.98e-10  9.52e-08  8.29e+02  7.11e+02 \n",
      " 90500| 4.97e-11  5.52e-12  7.91e-11  9.51e-08  8.29e+02  7.13e+02 \n",
      " 90750| 4.98e-11  3.33e-09  2.49e-07 -2.95e-08  8.29e+02  7.15e+02 \n",
      " 91000| 4.97e-11  4.26e-12  2.28e-10  9.52e-08  8.29e+02  7.17e+02 \n",
      " 91250| 4.97e-11  4.48e-12  1.45e-10  9.52e-08  8.29e+02  7.19e+02 \n",
      " 91500| 4.97e-11  6.54e-12  3.51e-11  9.51e-08  8.29e+02  7.21e+02 \n",
      " 91750| 4.97e-11  6.43e-12  1.53e-10  9.50e-08  8.29e+02  7.23e+02 \n",
      " 92000| 4.97e-11  4.69e-12  3.27e-10  9.53e-08  8.29e+02  7.25e+02 \n",
      " 92250| 4.97e-11  5.33e-12  2.63e-10  9.52e-08  8.29e+02  7.27e+02 \n",
      " 92500| 4.97e-11  6.35e-12  3.77e-10  9.53e-08  8.29e+02  7.29e+02 \n",
      " 92750| 4.97e-11  4.10e-12  9.34e-11  9.51e-08  8.29e+02  7.31e+02 \n",
      " 93000| 4.97e-11  5.63e-12  1.82e-10  9.52e-08  8.29e+02  7.33e+02 \n",
      " 93250| 4.97e-11  4.96e-12  3.89e-12  9.51e-08  8.29e+02  7.35e+02 \n",
      " 93500| 4.97e-11  2.70e-10  6.82e-09  9.85e-08  8.29e+02  7.37e+02 \n",
      " 93750| 4.97e-11  5.47e-12  6.94e-11  9.51e-08  8.29e+02  7.39e+02 \n",
      " 94000| 4.97e-11  5.98e-12  1.20e-10  9.50e-08  8.29e+02  7.41e+02 \n",
      " 94250| 4.97e-11  6.53e-12  3.29e-10  9.49e-08  8.29e+02  7.43e+02 \n",
      " 94500| 4.97e-11  5.17e-12  7.10e-11  9.51e-08  8.29e+02  7.45e+02 \n",
      " 94750| 4.97e-11  5.21e-12  1.88e-10  9.52e-08  8.29e+02  7.47e+02 \n",
      " 95000| 4.97e-11  6.10e-12  7.38e-12  9.51e-08  8.29e+02  7.49e+02 \n",
      " 95250| 4.97e-11  7.10e-12  2.39e-10  9.50e-08  8.29e+02  7.51e+02 \n",
      " 95500| 4.97e-11  4.17e-12  1.54e-11  9.51e-08  8.29e+02  7.53e+02 \n",
      " 95750| 4.97e-11  5.46e-12  2.50e-10  9.50e-08  8.29e+02  7.55e+02 \n",
      " 96000| 4.97e-11  7.74e-12  3.46e-10  9.49e-08  8.29e+02  7.57e+02 \n",
      " 96250| 4.95e-11  2.35e-08  3.52e-09  9.33e-08  8.29e+02  7.59e+02 \n",
      " 96500| 4.97e-11  6.48e-12  3.25e-10  9.49e-08  8.29e+02  7.61e+02 \n",
      " 96750| 4.97e-11  6.25e-12  3.57e-10  9.49e-08  8.29e+02  7.63e+02 \n",
      " 97000| 4.97e-11  6.34e-12  3.30e-10  9.49e-08  8.29e+02  7.65e+02 \n",
      " 97250| 4.97e-11  4.77e-12  1.45e-12  9.51e-08  8.29e+02  7.67e+02 \n",
      " 97500| 4.97e-11  3.50e-12  1.30e-11  9.51e-08  8.29e+02  7.69e+02 \n",
      " 97750| 4.97e-11  5.15e-12  1.70e-10  9.52e-08  8.29e+02  7.71e+02 \n",
      " 98000| 4.97e-11  6.06e-12  2.41e-10  9.52e-08  8.29e+02  7.73e+02 \n",
      " 98250| 4.97e-11  7.44e-12  1.94e-10  9.50e-08  8.29e+02  7.75e+02 \n",
      " 98500| 4.97e-11  5.60e-12  9.41e-11  9.51e-08  8.29e+02  7.77e+02 \n",
      " 98750| 4.97e-11  4.08e-12  1.09e-10  9.51e-08  8.29e+02  7.79e+02 \n",
      " 99000| 4.97e-11  3.69e-10  2.85e-09  9.65e-08  8.29e+02  7.81e+02 \n",
      " 99250| 4.97e-11  7.31e-12  3.70e-10  9.49e-08  8.29e+02  7.83e+02 \n",
      " 99500| 4.97e-11  6.46e-12  3.87e-10  9.49e-08  8.29e+02  7.85e+02 \n",
      " 99750| 4.97e-11  4.90e-12  1.74e-12  9.51e-08  8.29e+02  7.87e+02 \n",
      "100000| 4.97e-11  4.51e-12  2.06e-12  9.51e-08  8.29e+02  7.89e+02 \n",
      "------------------------------------------------------------------\n",
      "status:  solved (inaccurate - reached max_iters)\n",
      "timings: total: 7.89e+02s = setup: 2.13e-01s + solve: 7.89e+02s\n",
      "\t lin-sys: 2.78e+02s, cones: 4.74e+02s, accel: 5.56e+00s\n",
      "------------------------------------------------------------------\n",
      "objective = 0.000000 (inaccurate)\n",
      "------------------------------------------------------------------\n"
     ]
    },
    {
     "name": "stderr",
     "output_type": "stream",
     "text": [
      "/opt/miniconda3/envs/thesis/lib/python3.10/site-packages/cvxpy/problems/problem.py:1387: UserWarning: Solution may be inaccurate. Try another solver, adjusting the solver settings, or solve with verbose=True for more information.\n",
      "  warnings.warn(\n"
     ]
    },
    {
     "name": "stdout",
     "output_type": "stream",
     "text": [
      "-------------------------------------------------------------------------------\n",
      "                                    Summary                                    \n",
      "-------------------------------------------------------------------------------\n",
      "(CVXPY) Jul 25 02:16:14 AM: Problem status: optimal_inaccurate\n",
      "(CVXPY) Jul 25 02:16:14 AM: Optimal value: 9.514e-08\n",
      "(CVXPY) Jul 25 02:16:14 AM: Compilation took 1.231e-02 seconds\n",
      "(CVXPY) Jul 25 02:16:14 AM: Solver (including time spent in interface) took 7.888e+02 seconds\n"
     ]
    },
    {
     "data": {
      "text/plain": [
       "9.514170612735704e-08"
      ]
     },
     "execution_count": 32,
     "metadata": {},
     "output_type": "execute_result"
    }
   ],
   "source": [
    "prob.solve(solver=cp.SCS, verbose=True, canon_backend=cp.SCIPY_CANON_BACKEND, eps=1e-11)"
   ]
  },
  {
   "cell_type": "code",
   "execution_count": 35,
   "metadata": {},
   "outputs": [
    {
     "name": "stdout",
     "output_type": "stream",
     "text": [
      "0.3606173685529048\n",
      "0.5677058325788903\n"
     ]
    }
   ],
   "source": [
    "print(9.514170612735704e-08/(2.6383007149418305e-07)) # with CVXPY\n",
    "print(1.4977787039695335e-07/(2.6383007149418305e-07)) # with GDS"
   ]
  },
  {
   "cell_type": "code",
   "execution_count": null,
   "metadata": {},
   "outputs": [],
   "source": [
    "# 2.5956537800015633e-07: with warm start of GDS after 2000 steps"
   ]
  },
  {
   "cell_type": "code",
   "execution_count": 5,
   "metadata": {},
   "outputs": [
    {
     "name": "stdout",
     "output_type": "stream",
     "text": [
      "===============================================================================\n",
      "                                     CVXPY                                     \n",
      "                                     v1.3.2                                    \n",
      "===============================================================================\n",
      "(CVXPY) Jul 24 08:45:45 PM: Your problem has 65536 variables, 0 constraints, and 0 parameters.\n",
      "(CVXPY) Jul 24 08:45:45 PM: It is compliant with the following grammars: DCP, DQCP\n",
      "(CVXPY) Jul 24 08:45:45 PM: (If you need to solve this problem multiple times, but with different data, consider using parameters.)\n",
      "(CVXPY) Jul 24 08:45:45 PM: CVXPY will first compile your problem; then, it will invoke a numerical solver to obtain a solution.\n",
      "-------------------------------------------------------------------------------\n",
      "                                  Compilation                                  \n",
      "-------------------------------------------------------------------------------\n",
      "(CVXPY) Jul 24 08:45:45 PM: Compiling problem (target solver=CVXOPT).\n",
      "(CVXPY) Jul 24 08:45:45 PM: Reduction chain: Dcp2Cone -> CvxAttr2Constr -> ConeMatrixStuffing -> CVXOPT\n",
      "(CVXPY) Jul 24 08:45:45 PM: Applying reduction Dcp2Cone\n",
      "(CVXPY) Jul 24 08:45:45 PM: Applying reduction CvxAttr2Constr\n",
      "(CVXPY) Jul 24 08:45:45 PM: Applying reduction ConeMatrixStuffing\n",
      "(CVXPY) Jul 24 08:56:01 PM: Applying reduction CVXOPT\n",
      "(CVXPY) Jul 24 08:56:01 PM: Finished problem compilation (took 6.163e+02 seconds).\n",
      "-------------------------------------------------------------------------------\n",
      "                                Numerical solver                               \n",
      "-------------------------------------------------------------------------------\n",
      "(CVXPY) Jul 24 08:56:01 PM: Invoking solver CVXOPT  to obtain a solution.\n"
     ]
    },
    {
     "ename": "OverflowError",
     "evalue": "number of elements exceeds INT_MAX",
     "output_type": "error",
     "traceback": [
      "\u001b[0;31m---------------------------------------------------------------------------\u001b[0m",
      "\u001b[0;31mOverflowError\u001b[0m                             Traceback (most recent call last)",
      "Cell \u001b[0;32mIn[5], line 1\u001b[0m\n\u001b[0;32m----> 1\u001b[0m prob\u001b[39m.\u001b[39;49msolve(solver\u001b[39m=\u001b[39;49mcp\u001b[39m.\u001b[39;49mCVXOPT, verbose\u001b[39m=\u001b[39;49m\u001b[39mTrue\u001b[39;49;00m, canon_backend\u001b[39m=\u001b[39;49mcp\u001b[39m.\u001b[39;49mSCIPY_CANON_BACKEND)\n",
      "File \u001b[0;32m/opt/miniconda3/envs/thesis/lib/python3.10/site-packages/cvxpy/problems/problem.py:495\u001b[0m, in \u001b[0;36mProblem.solve\u001b[0;34m(self, *args, **kwargs)\u001b[0m\n\u001b[1;32m    493\u001b[0m \u001b[39melse\u001b[39;00m:\n\u001b[1;32m    494\u001b[0m     solve_func \u001b[39m=\u001b[39m Problem\u001b[39m.\u001b[39m_solve\n\u001b[0;32m--> 495\u001b[0m \u001b[39mreturn\u001b[39;00m solve_func(\u001b[39mself\u001b[39;49m, \u001b[39m*\u001b[39;49margs, \u001b[39m*\u001b[39;49m\u001b[39m*\u001b[39;49mkwargs)\n",
      "File \u001b[0;32m/opt/miniconda3/envs/thesis/lib/python3.10/site-packages/cvxpy/problems/problem.py:1066\u001b[0m, in \u001b[0;36mProblem._solve\u001b[0;34m(self, solver, warm_start, verbose, gp, qcp, requires_grad, enforce_dpp, ignore_dpp, canon_backend, **kwargs)\u001b[0m\n\u001b[1;32m   1062\u001b[0m     s\u001b[39m.\u001b[39mLOGGER\u001b[39m.\u001b[39minfo(\n\u001b[1;32m   1063\u001b[0m             \u001b[39m'\u001b[39m\u001b[39mInvoking solver \u001b[39m\u001b[39m%s\u001b[39;00m\u001b[39m  to obtain a solution.\u001b[39m\u001b[39m'\u001b[39m,\n\u001b[1;32m   1064\u001b[0m             solving_chain\u001b[39m.\u001b[39mreductions[\u001b[39m-\u001b[39m\u001b[39m1\u001b[39m]\u001b[39m.\u001b[39mname())\n\u001b[1;32m   1065\u001b[0m start \u001b[39m=\u001b[39m time\u001b[39m.\u001b[39mtime()\n\u001b[0;32m-> 1066\u001b[0m solution \u001b[39m=\u001b[39m solving_chain\u001b[39m.\u001b[39;49msolve_via_data(\n\u001b[1;32m   1067\u001b[0m     \u001b[39mself\u001b[39;49m, data, warm_start, verbose, kwargs)\n\u001b[1;32m   1068\u001b[0m end \u001b[39m=\u001b[39m time\u001b[39m.\u001b[39mtime()\n\u001b[1;32m   1069\u001b[0m \u001b[39mself\u001b[39m\u001b[39m.\u001b[39m_solve_time \u001b[39m=\u001b[39m end \u001b[39m-\u001b[39m start\n",
      "File \u001b[0;32m/opt/miniconda3/envs/thesis/lib/python3.10/site-packages/cvxpy/reductions/solvers/solving_chain.py:423\u001b[0m, in \u001b[0;36mSolvingChain.solve_via_data\u001b[0;34m(self, problem, data, warm_start, verbose, solver_opts)\u001b[0m\n\u001b[1;32m    387\u001b[0m \u001b[39mdef\u001b[39;00m \u001b[39msolve_via_data\u001b[39m(\u001b[39mself\u001b[39m, problem, data, warm_start: \u001b[39mbool\u001b[39m \u001b[39m=\u001b[39m \u001b[39mFalse\u001b[39;00m, verbose: \u001b[39mbool\u001b[39m \u001b[39m=\u001b[39m \u001b[39mFalse\u001b[39;00m,\n\u001b[1;32m    388\u001b[0m                    solver_opts\u001b[39m=\u001b[39m{}):\n\u001b[1;32m    389\u001b[0m \u001b[39m    \u001b[39m\u001b[39m\"\"\"Solves the problem using the data output by the an apply invocation.\u001b[39;00m\n\u001b[1;32m    390\u001b[0m \n\u001b[1;32m    391\u001b[0m \u001b[39m    The semantics are:\u001b[39;00m\n\u001b[0;32m   (...)\u001b[0m\n\u001b[1;32m    421\u001b[0m \u001b[39m        a Solution object.\u001b[39;00m\n\u001b[1;32m    422\u001b[0m \u001b[39m    \"\"\"\u001b[39;00m\n\u001b[0;32m--> 423\u001b[0m     \u001b[39mreturn\u001b[39;00m \u001b[39mself\u001b[39;49m\u001b[39m.\u001b[39;49msolver\u001b[39m.\u001b[39;49msolve_via_data(data, warm_start, verbose,\n\u001b[1;32m    424\u001b[0m                                       solver_opts, problem\u001b[39m.\u001b[39;49m_solver_cache)\n",
      "File \u001b[0;32m/opt/miniconda3/envs/thesis/lib/python3.10/site-packages/cvxpy/reductions/solvers/conic_solvers/cvxopt_conif.py:201\u001b[0m, in \u001b[0;36mCVXOPT.solve_via_data\u001b[0;34m(self, data, warm_start, verbose, solver_opts, solver_cache)\u001b[0m\n\u001b[1;32m    198\u001b[0m     kktsolver \u001b[39m=\u001b[39m kktsolver(c, G, h, dims, A, b)\n\u001b[1;32m    200\u001b[0m \u001b[39mtry\u001b[39;00m:\n\u001b[0;32m--> 201\u001b[0m     results_dict \u001b[39m=\u001b[39m cvxopt\u001b[39m.\u001b[39;49msolvers\u001b[39m.\u001b[39;49mconelp(c, G, h, dims, A, b,\n\u001b[1;32m    202\u001b[0m                                          kktsolver\u001b[39m=\u001b[39;49mkktsolver)\n\u001b[1;32m    203\u001b[0m \u001b[39m# Catch exceptions in CVXOPT and convert them to solver errors.\u001b[39;00m\n\u001b[1;32m    204\u001b[0m \u001b[39mexcept\u001b[39;00m \u001b[39mValueError\u001b[39;00m:\n",
      "File \u001b[0;32m/opt/miniconda3/envs/thesis/lib/python3.10/site-packages/cvxopt/coneprog.py:581\u001b[0m, in \u001b[0;36mconelp\u001b[0;34m(c, G, h, dims, A, b, primalstart, dualstart, kktsolver, xnewcopy, xdot, xaxpy, xscal, ynewcopy, ydot, yaxpy, yscal, **kwargs)\u001b[0m\n\u001b[1;32m    579\u001b[0m     factor \u001b[39m=\u001b[39m misc\u001b[39m.\u001b[39mkkt_qr(G, dims, A)\n\u001b[1;32m    580\u001b[0m \u001b[39melif\u001b[39;00m kktsolver \u001b[39m==\u001b[39m \u001b[39m'\u001b[39m\u001b[39mchol\u001b[39m\u001b[39m'\u001b[39m:\n\u001b[0;32m--> 581\u001b[0m     factor \u001b[39m=\u001b[39m misc\u001b[39m.\u001b[39;49mkkt_chol(G, dims, A)\n\u001b[1;32m    582\u001b[0m \u001b[39melse\u001b[39;00m:\n\u001b[1;32m    583\u001b[0m     factor \u001b[39m=\u001b[39m misc\u001b[39m.\u001b[39mkkt_chol2(G, dims, A)\n",
      "File \u001b[0;32m/opt/miniconda3/envs/thesis/lib/python3.10/site-packages/cvxopt/misc.py:1252\u001b[0m, in \u001b[0;36mkkt_chol\u001b[0;34m(G, dims, A, mnl)\u001b[0m\n\u001b[1;32m   1249\u001b[0m tauA \u001b[39m=\u001b[39m matrix(\u001b[39m0.0\u001b[39m, (p,\u001b[39m1\u001b[39m))\n\u001b[1;32m   1250\u001b[0m lapack\u001b[39m.\u001b[39mgeqrf(QA, tauA)\n\u001b[0;32m-> 1252\u001b[0m Gs \u001b[39m=\u001b[39m matrix(\u001b[39m0.0\u001b[39;49m, (cdim, n))\n\u001b[1;32m   1253\u001b[0m K \u001b[39m=\u001b[39m matrix(\u001b[39m0.0\u001b[39m, (n,n)) \n\u001b[1;32m   1254\u001b[0m bzp \u001b[39m=\u001b[39m matrix(\u001b[39m0.0\u001b[39m, (cdim_pckd, \u001b[39m1\u001b[39m))\n",
      "\u001b[0;31mOverflowError\u001b[0m: number of elements exceeds INT_MAX"
     ]
    }
   ],
   "source": [
    "prob.solve(solver=cp.CVXOPT, verbose=True, canon_backend=cp.SCIPY_CANON_BACKEND)"
   ]
  },
  {
   "cell_type": "code",
   "execution_count": 9,
   "metadata": {},
   "outputs": [],
   "source": [
    "# we need to check that the cost function created through cvxpy is the same as with compute_loss, model_Ys, frobenius_norm**2\n",
    "def cost_cvxpy(C1, C2, rhs, dim):\n",
    "    I = np.eye(dim)\n",
    "    C2_tb = partial_transpose(C2, dims=[dim, dim], idx=1)\n",
    "    C2_tbxI = np.kron(C2_tb, I)\n",
    "    C2_tbxI = sparse.csr_matrix(C2_tbxI)\n",
    "    C2_tbxI = C2_tbxI.astype(np.float64)\n",
    "\n",
    "    srhs = sparse.csr_matrix(rhs) # small2zero was deleted\n",
    "    srhs = srhs.astype(np.float64)\n",
    "\n",
    "    lhs =  cp.partial_trace(C2_tbxI @ cp.kron(I, C1), dims=[dim, dim, dim], axis=1)\n",
    "    cost = cp.norm(lhs - srhs, \"fro\")\n",
    "    return cost.value \n",
    "\n",
    "# cost_cvxpy(X.value, A, rhs, dim) # it gives the same result but we just have to add the small2zero thing\n",
    "# would it help not adding the small2zero thing? "
   ]
  },
  {
   "cell_type": "code",
   "execution_count": 12,
   "metadata": {},
   "outputs": [
    {
     "name": "stdout",
     "output_type": "stream",
     "text": [
      "1.4978851472454577e-07\n"
     ]
    }
   ],
   "source": [
    "from opentn.transformations import choi2super\n",
    "print(frobenius_norm(choi_composition(X_initial, A), rhs))\n",
    "# print(cost_cvxpy(X1opt@X1opt.conj().T, A, rhs, dim))\n",
    "# check if the cost function would be the same if we used superoperators instead of choi matrices.\n",
    "# this includes not using sparse matrices\n",
    "# print(frobenius_norm(choi2super(A)@choi2super(X1opt@X1opt.conj().T), exp_Lvec))"
   ]
  },
  {
   "cell_type": "code",
   "execution_count": 48,
   "metadata": {},
   "outputs": [
    {
     "name": "stdout",
     "output_type": "stream",
     "text": [
      "9.514363971597552e-08\n"
     ]
    }
   ],
   "source": [
    "# now we do the same calculations but with the optimal value obtained from cvxpy\n",
    "tol = 1e-10\n",
    "print(frobenius_norm(choi_composition(small2zero(X.value, tol=tol), small2zero(A,tol=tol)), small2zero(rhs, tol=tol))) # value when small2zero was used on A and rhs: 2.6522855638959974e-07\n",
    "# print(cost_cvxpy(X.value, A, rhs, dim))\n",
    "# similar to above, we use only the superoperators\n",
    "# print(frobenius_norm(choi2super(A)@choi2super(X.value), exp_Lvec))\n",
    "\n",
    "# value after warm start and second optimization (using 1e-9): 9.518842518802564e-08"
   ]
  },
  {
   "cell_type": "code",
   "execution_count": 40,
   "metadata": {},
   "outputs": [
    {
     "name": "stdout",
     "output_type": "stream",
     "text": [
      "2.750144871171991e-07\n"
     ]
    }
   ],
   "source": [
    "# just out of curiosity what happens if we use the third layer to be the same:\n",
    "print(frobenius_norm(choi2super(X.value)@choi2super(Y2)@choi2super(X.value), exp_Lvec)) # by setting the third layer equal to the first, we loose our gain again, we should optimize over it"
   ]
  },
  {
   "cell_type": "code",
   "execution_count": 230,
   "metadata": {},
   "outputs": [
    {
     "name": "stdout",
     "output_type": "stream",
     "text": [
      "complex128\n",
      "float64\n"
     ]
    }
   ],
   "source": [
    "print(rhs.dtype)\n",
    "print(X.value.dtype)"
   ]
  },
  {
   "cell_type": "code",
   "execution_count": 80,
   "metadata": {},
   "outputs": [
    {
     "data": {
      "text/plain": [
       "3.118308142720801e-07"
      ]
     },
     "execution_count": 80,
     "metadata": {},
     "output_type": "execute_result"
    }
   ],
   "source": [
    "np.linalg.norm(X.value - X1opt@X1opt.conj().T)"
   ]
  },
  {
   "cell_type": "code",
   "execution_count": 218,
   "metadata": {},
   "outputs": [
    {
     "data": {
      "text/plain": [
       "True"
      ]
     },
     "execution_count": 218,
     "metadata": {},
     "output_type": "execute_result"
    }
   ],
   "source": [
    "cost.is_convex()"
   ]
  },
  {
   "cell_type": "code",
   "execution_count": 41,
   "metadata": {},
   "outputs": [
    {
     "data": {
      "text/plain": [
       "12"
      ]
     },
     "execution_count": 41,
     "metadata": {},
     "output_type": "execute_result"
    }
   ],
   "source": [
    "np.linalg.matrix_rank(X.value, tol=1e-9) # 12 up to second optimization with 1e-9 on scs optimizer"
   ]
  },
  {
   "cell_type": "code",
   "execution_count": 42,
   "metadata": {},
   "outputs": [
    {
     "data": {
      "text/plain": [
       "4"
      ]
     },
     "execution_count": 42,
     "metadata": {},
     "output_type": "execute_result"
    }
   ],
   "source": [
    "np.linalg.matrix_rank(X1_gds)"
   ]
  },
  {
   "cell_type": "code",
   "execution_count": 17,
   "metadata": {},
   "outputs": [
    {
     "data": {
      "text/plain": [
       "True"
      ]
     },
     "execution_count": 17,
     "metadata": {},
     "output_type": "execute_result"
    }
   ],
   "source": [
    "X1_gds.shape == X.value.shape == (256, 256)"
   ]
  },
  {
   "cell_type": "code",
   "execution_count": 18,
   "metadata": {},
   "outputs": [
    {
     "name": "stdout",
     "output_type": "stream",
     "text": [
      "0.0\n",
      "0.0\n",
      "0.0\n",
      "0.0\n",
      "0.0\n",
      "0.0\n",
      "0.0\n"
     ]
    }
   ],
   "source": [
    "# checking if the matrices we obtained are actually purely real:\n",
    "# (OLD): if any(x == True for x in np.iscomplex(rhs).flatten())\n",
    "for op in [X2_gds, X3_gds, Y2, Y3, X1_gds, rhs, A]:\n",
    "    print(np.linalg.norm(op.imag.flatten()))"
   ]
  },
  {
   "cell_type": "code",
   "execution_count": 44,
   "metadata": {},
   "outputs": [
    {
     "name": "stdout",
     "output_type": "stream",
     "text": [
      "[1.59601248e+01 1.99251812e-02 1.99251787e-02 2.48753821e-05\n",
      " 7.40452593e-15 6.23416821e-15 5.78733966e-15 5.45129161e-15\n",
      " 5.02854100e-15 4.95731989e-15 4.56542003e-15 4.34589312e-15\n",
      " 4.19879763e-15 4.02361484e-15 3.80645554e-15 3.57183712e-15]\n",
      "----\n",
      "[1.59601248e+01 1.99251773e-02 1.99251750e-02 2.48854583e-05\n",
      " 5.53631608e-08 4.75044410e-08 4.46950564e-08 4.04994852e-08\n",
      " 3.85242789e-08 1.87577181e-08 1.34711254e-08 8.16661506e-09\n",
      " 2.70314397e-10 2.04200850e-10 1.39371188e-10 6.86558966e-11]\n",
      "----\n",
      "[1.59601247e+01 1.99252079e-02 1.99252079e-02 2.48753638e-05\n",
      " 7.95281221e-15 4.45619364e-15 4.15294601e-15 3.74630065e-15\n",
      " 3.38415367e-15 3.00980011e-15 2.78457911e-15 2.75926410e-15\n",
      " 2.62875443e-15 2.57327522e-15 2.56723560e-15 2.12727961e-15]\n"
     ]
    }
   ],
   "source": [
    "max_idx = 16\n",
    "print(np.sort(np.linalg.svd(X1_gds@X1_gds.conj().T, compute_uv=False))[::-1][:max_idx])\n",
    "print('----')\n",
    "print(np.sort(np.linalg.svd(X.value, compute_uv=False))[::-1][:max_idx])\n",
    "print('----')\n",
    "print(np.sort(np.linalg.svd(X1@X1.conj().T, compute_uv=False))[::-1][:max_idx])"
   ]
  },
  {
   "cell_type": "code",
   "execution_count": 31,
   "metadata": {},
   "outputs": [
    {
     "data": {
      "text/plain": [
       "<matplotlib.legend.Legend at 0x2a4937490>"
      ]
     },
     "execution_count": 31,
     "metadata": {},
     "output_type": "execute_result"
    },
    {
     "data": {
      "image/png": "[encoded data removed]",
      "text/plain": [
       "<Figure size 1280x960 with 1 Axes>"
      ]
     },
     "metadata": {},
     "output_type": "display_data"
    }
   ],
   "source": [
    "plt.figure(dpi=200)\n",
    "plt.title('SDP: SCS, warm-start, second optimization, eps=1e-9')\n",
    "plt.ylabel(f'$log$(singular values)')\n",
    "plt.semilogy(np.sort(np.linalg.svd(X1_gds@X1_gds.conj().T, compute_uv=False))[::-1][:max_idx], 'x', label='GDS')\n",
    "plt.semilogy(np.sort(np.linalg.svd(X.value, compute_uv=False))[::-1][:max_idx], 'v', label='SDP')\n",
    "plt.semilogy(np.sort(np.linalg.svd(X1@X1.conj().T, compute_uv=False))[::-1][:max_idx], 'o', label='non optimized')\n",
    "plt.legend()\n"
   ]
  },
  {
   "cell_type": "code",
   "execution_count": 46,
   "metadata": {},
   "outputs": [],
   "source": [
    "with open('x_scs_warm_gds_eps_e-11.npy', 'wb') as f:\n",
    "    np.save(f, X.value)"
   ]
  },
  {
   "attachments": {},
   "cell_type": "markdown",
   "metadata": {},
   "source": [
    "# 24th July:\n",
    "IDEA: is the configuration of the solver not good enough??\n",
    "NOTE from workcomputer: random matrices (real and sparse) where taking \n",
    "- SCS: 235 min\n",
    "- MOSEK: 289 min"
   ]
  },
  {
   "attachments": {},
   "cell_type": "markdown",
   "metadata": {},
   "source": []
  }
 ],
 "metadata": {
  "kernelspec": {
   "display_name": "Python 3.10.4 ('thesis')",
   "language": "python",
   "name": "python3"
  },
  "language_info": {
   "codemirror_mode": {
    "name": "ipython",
    "version": 3
   },
   "file_extension": ".py",
   "mimetype": "text/x-python",
   "name": "python",
   "nbconvert_exporter": "python",
   "pygments_lexer": "ipython3",
   "version": "3.10.4"
  },
  "orig_nbformat": 4,
  "vscode": {
   "interpreter": {
    "hash": "7a5e335ff2d0165f97b24ec78505e76f6491bb7656bd1655dc8df4969b2c8e72"
   }
  }
 },
 "nbformat": 4,
 "nbformat_minor": 2
}
