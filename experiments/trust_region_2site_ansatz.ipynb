{
 "cells": [
  {
   "cell_type": "code",
   "execution_count": 2,
   "metadata": {},
   "outputs": [],
   "source": [
    "import numpy as np\n",
    "import rqcopt as oc\n",
    "import sys\n",
    "sys.path.append('..')\n",
    "%load_ext autoreload\n",
    "%autoreload 2\n",
    "import jax\n",
    "from jax import config\n",
    "config.update(\"jax_enable_x64\", True)\n",
    "import jax.numpy as jnp\n",
    "import scipy"
   ]
  },
  {
   "cell_type": "code",
   "execution_count": 3,
   "metadata": {},
   "outputs": [],
   "source": [
    "# setup for problem\n",
    "# get the setup for the problem\n",
    "from opentn.transformations import create_kitaev_liouvillians, exp_operator_dt, factorize_psd, super2choi\n",
    "d, N, gamma = 2, 4, 1\n",
    "tau = 4\n",
    "dim = d**N\n",
    "Lvec, Lvec_odd, Lvec_even, Lnn = create_kitaev_liouvillians(N=N, d=d, gamma=gamma)\n",
    "superops_exp = []\n",
    "for i, op in enumerate([Lvec, Lvec_odd, Lvec_even]):\n",
    "    if i == 1:\n",
    "        superops_exp.append(exp_operator_dt(op, tau/2, 'jax'))\n",
    "    else:\n",
    "        superops_exp.append(exp_operator_dt(op, tau, 'jax'))\n",
    "exp_Lvec, exp_Lvec_odd, exp_Lvec_even = superops_exp\n",
    "\n",
    "# 2 site superoperator ansatz\n",
    "from opentn.transformations import lindbladian2super, create_supertensored_from_local\n",
    "superop_nn = lindbladian2super(Li=[Lnn])\n",
    "exp_nn_odd = exp_operator_dt(superop_nn, tau=tau/2, library='jax')\n",
    "exp_nn_even = exp_operator_dt(superop_nn, tau=tau, library='jax')"
   ]
  },
  {
   "cell_type": "code",
   "execution_count": 4,
   "metadata": {},
   "outputs": [],
   "source": [
    "# TODO: missing to create the model that takes 3 ws and turns them into 3 full Ys.\n",
    "# TODO: model Zs does something similar but only for 1 layer.\n",
    "# the one for the middle layer should somehow look different in any case, because it needs to be shifted with the periodic boundary condition.\n",
    "# since the exp is anyways left without the BC, for now I think I can just ommit it (as usual\n",
    "# TODO: the cost function should have the input as isometries."
   ]
  },
  {
   "cell_type": "code",
   "execution_count": 5,
   "metadata": {},
   "outputs": [
    {
     "data": {
      "text/plain": [
       "array([[0.+0.j, 0.+0.j, 1.+0.j, 0.+0.j],\n",
       "       [0.+0.j, 0.+0.j, 0.+0.j, 1.+0.j],\n",
       "       [1.+0.j, 0.+0.j, 0.+0.j, 0.+0.j],\n",
       "       [0.+0.j, 1.+0.j, 0.+0.j, 0.+0.j]])"
      ]
     },
     "execution_count": 5,
     "metadata": {},
     "output_type": "execute_result"
    }
   ],
   "source": [
    "from opentn.states.qubits import X\n",
    "def permute_operation(U: np.ndarray, perm):\n",
    "    \"\"\"\n",
    "    Find the representation of a matrix after permuting lattice sites.\n",
    "    \"\"\"\n",
    "    nsites = len(perm)\n",
    "    assert U.shape == (2**nsites, 2**nsites)\n",
    "    perm = list(perm)\n",
    "    U = np.reshape(U, (2*nsites) * (2,))\n",
    "    U = np.transpose(U, perm + [nsites + p for p in perm])\n",
    "    U = np.reshape(U, (2**nsites, 2**nsites))\n",
    "    return U\n",
    "permute_operation(np.kron(np.eye(2),X), [1,0])\n"
   ]
  },
  {
   "cell_type": "code",
   "execution_count": 6,
   "metadata": {},
   "outputs": [
    {
     "name": "stdout",
     "output_type": "stream",
     "text": [
      "True True\n",
      "(256, 256)\n"
     ]
    }
   ],
   "source": [
    "# how would we vectorize the identity?\n",
    "from opentn.transformations import vectorize_dissipative, vectorize_hamiltonian, dissipative2liouvillian_full\n",
    "Inn = np.eye(d**2)\n",
    "print(np.allclose(vectorize_dissipative(Inn), np.zeros((d**4,d**4))), np.allclose(vectorize_hamiltonian(Inn), np.zeros((d**4,d**4))))\n",
    "# as wrote out on paper, the identity \"vectorized\" is just zero\n",
    "print(dissipative2liouvillian_full(L=Lnn, i=1, N=N, num_sites=2).shape)"
   ]
  },
  {
   "cell_type": "code",
   "execution_count": 10,
   "metadata": {},
   "outputs": [
    {
     "name": "stdout",
     "output_type": "stream",
     "text": [
      "(256, 256)\n"
     ]
    },
    {
     "data": {
      "text/plain": [
       "True"
      ]
     },
     "execution_count": 10,
     "metadata": {},
     "output_type": "execute_result"
    }
   ],
   "source": [
    "from opentn.transformations import convert_supertensored2liouvillianfull\n",
    "I_rest = np.eye(d**4,d**4)\n",
    "# corresponds to site order: (N-1, 0), (1, 2)\n",
    "even_full_test = np.kron(I_rest, exp_nn_even) \n",
    "swaped_test = convert_supertensored2liouvillianfull(even_full_test, N, d, pbc=True)\n",
    "np.allclose(swaped_test, exp_Lvec_even)"
   ]
  },
  {
   "cell_type": "code",
   "execution_count": 11,
   "metadata": {},
   "outputs": [
    {
     "name": "stdout",
     "output_type": "stream",
     "text": [
      "True\n",
      "True\n"
     ]
    }
   ],
   "source": [
    "# now another question I have is even the components I am using would make isometries. CHECK\n",
    "from opentn.transformations import factorize_psd_truncated, choi2ortho\n",
    "from opentn.stiefel import is_isometry_2\n",
    "print(is_isometry_2(choi2ortho(factorize_psd_truncated(super2choi(exp_nn_even.real), chi_max=2))))\n",
    "print(is_isometry_2(choi2ortho(factorize_psd_truncated(super2choi(I_rest), chi_max=d**4))))"
   ]
  },
  {
   "cell_type": "code",
   "execution_count": 12,
   "metadata": {},
   "outputs": [
    {
     "data": {
      "text/plain": [
       "True"
      ]
     },
     "execution_count": 12,
     "metadata": {},
     "output_type": "execute_result"
    }
   ],
   "source": [
    "from opentn.transformations import convert_supertensored2liouvillianfull\n",
    "test_odd = create_supertensored_from_local(exp_nn_odd, N)\n",
    "test_odd = convert_supertensored2liouvillianfull(test_odd, N, d)\n",
    "np.allclose(test_odd@swaped_test@test_odd, exp_Lvec_odd@exp_Lvec_even@exp_Lvec_odd) # AMAZING"
   ]
  },
  {
   "cell_type": "markdown",
   "metadata": {},
   "source": [
    "# Next steps:\n",
    "(18 OCT 2023)\n",
    "\n",
    "1. I want the above functions to be a comprehensible framework. What does this mean?\n",
    "    a. Their should be one \"factory\" that takes superop_local -> super_full_liouvillian that takes as argument the parity and shifts (PBC) for the even layer.\n",
    "    b. I need to try this out fully when also changing the exp(L_full) to include the PBC for the term [N-1,0].\n",
    "    c. Include a special case for the non PBC such that this old comparison still works\n",
    "    c. Add even layer to unit tests \n",
    "2. Try optimization with the PBC case for St(N)"
   ]
  },
  {
   "cell_type": "code",
   "execution_count": null,
   "metadata": {},
   "outputs": [],
   "source": []
  }
 ],
 "metadata": {
  "kernelspec": {
   "display_name": "thesis",
   "language": "python",
   "name": "python3"
  },
  "language_info": {
   "codemirror_mode": {
    "name": "ipython",
    "version": 3
   },
   "file_extension": ".py",
   "mimetype": "text/x-python",
   "name": "python",
   "nbconvert_exporter": "python",
   "pygments_lexer": "ipython3",
   "version": "3.10.4"
  },
  "orig_nbformat": 4
 },
 "nbformat": 4,
 "nbformat_minor": 2
}
