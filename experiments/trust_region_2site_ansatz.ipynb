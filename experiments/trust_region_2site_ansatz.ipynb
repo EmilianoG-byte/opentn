{
 "cells": [
  {
   "cell_type": "code",
   "execution_count": 42,
   "metadata": {},
   "outputs": [
    {
     "name": "stdout",
     "output_type": "stream",
     "text": [
      "The autoreload extension is already loaded. To reload it, use:\n",
      "  %reload_ext autoreload\n"
     ]
    }
   ],
   "source": [
    "import numpy as np\n",
    "import sys\n",
    "sys.path.append('..')\n",
    "%load_ext autoreload\n",
    "%autoreload 2\n",
    "import jax\n",
    "from jax import config\n",
    "config.update(\"jax_enable_x64\", True)\n",
    "import jax.numpy as jnp"
   ]
  },
  {
   "cell_type": "code",
   "execution_count": 87,
   "metadata": {},
   "outputs": [
    {
     "name": "stdout",
     "output_type": "stream",
     "text": [
      "55\n",
      "0.0959176702323516\n"
     ]
    }
   ],
   "source": [
    "# setup for problem\n",
    "# get the setup for the problem\n",
    "from opentn.transformations import create_kitaev_liouvillians, exp_operator_dt, super2choi\n",
    "from opentn.optimization import compose_superops_list, frobenius_norm\n",
    "d, N, gamma = 2, 4, 1\n",
    "tau = 4\n",
    "dim = d**N\n",
    "Lvec, Lvec_odd, Lvec_even, Lnn = create_kitaev_liouvillians(N=N, d=d, gamma=gamma)\n",
    "superops_exp = []\n",
    "for i, op in enumerate([Lvec, Lvec_odd, Lvec_even]):\n",
    "    if i == 1:\n",
    "        superops_exp.append(exp_operator_dt(op, tau/2, 'jax'))\n",
    "    else:\n",
    "        superops_exp.append(exp_operator_dt(op, tau, 'jax'))\n",
    "exp_Lvec, exp_Lvec_odd, exp_Lvec_even = superops_exp\n",
    "\n",
    "# 2 site superoperator ansatz\n",
    "from opentn.transformations import lindbladian2super, create_supertensored_from_local\n",
    "superop_nn = lindbladian2super(Li=[Lnn])\n",
    "exp_nn_odd = exp_operator_dt(superop_nn, tau=tau/2, backend='jax')\n",
    "exp_nn_even = exp_operator_dt(superop_nn, tau=tau, backend='jax')\n",
    "\n",
    "print(np.linalg.matrix_rank(super2choi(exp_Lvec)))\n",
    "print(frobenius_norm(compose_superops_list([exp_Lvec_odd, exp_Lvec_even, exp_Lvec_odd]), exp_Lvec))"
   ]
  },
  {
   "cell_type": "code",
   "execution_count": 88,
   "metadata": {},
   "outputs": [
    {
     "name": "stdout",
     "output_type": "stream",
     "text": [
      "True True\n",
      "(256, 256)\n"
     ]
    }
   ],
   "source": [
    "# how would we vectorize the identity?\n",
    "from opentn.transformations import vectorize_dissipative, vectorize_hamiltonian, dissipative2liouvillian_full\n",
    "Inn = np.eye(d**2)\n",
    "print(np.allclose(vectorize_dissipative(Inn), np.zeros((d**4,d**4))), np.allclose(vectorize_hamiltonian(Inn), np.zeros((d**4,d**4))))\n",
    "# as wrote out on paper, the identity \"vectorized\" is just zero\n",
    "print(dissipative2liouvillian_full(L=Lnn, i=1, N=N, num_sites=2).shape)"
   ]
  },
  {
   "cell_type": "code",
   "execution_count": 89,
   "metadata": {},
   "outputs": [
    {
     "data": {
      "text/plain": [
       "True"
      ]
     },
     "execution_count": 89,
     "metadata": {},
     "output_type": "execute_result"
    }
   ],
   "source": [
    "from opentn.transformations import convert_supertensored2liouvillianfull\n",
    "# corresponds to site order: (N-1, 0), (1, 2)\n",
    "even_full_test = create_supertensored_from_local(exp_nn_even, N=N, pbc=False, layer=1)\n",
    "swaped_test = convert_supertensored2liouvillianfull(even_full_test, N, d, shift_pbc=True)\n",
    "np.allclose(swaped_test, exp_Lvec_even)"
   ]
  },
  {
   "cell_type": "code",
   "execution_count": 90,
   "metadata": {},
   "outputs": [
    {
     "name": "stdout",
     "output_type": "stream",
     "text": [
      "True\n",
      "True\n",
      "True\n",
      "0.09591767023235137\n"
     ]
    }
   ],
   "source": [
    "# now another question I have is even the components I am using would make isometries. CHECK\n",
    "from opentn.transformations import factorize_psd_truncated, choi2ortho\n",
    "from opentn.stiefel import is_isometry_2\n",
    "print(is_isometry_2(choi2ortho(factorize_psd_truncated(super2choi(exp_nn_even.real), chi_max=2))))\n",
    "print(is_isometry_2(choi2ortho(factorize_psd_truncated(super2choi(np.eye(d**4,d**4)), chi_max=d**4))))\n",
    "\n",
    "test_odd = create_supertensored_from_local(exp_nn_odd, N)\n",
    "test_odd = convert_supertensored2liouvillianfull(test_odd, N, d)\n",
    "print(np.allclose(test_odd@swaped_test@test_odd, exp_Lvec_odd@exp_Lvec_even@exp_Lvec_odd)) # AMAZING\n",
    "print(frobenius_norm(test_odd@swaped_test@test_odd, exp_Lvec))"
   ]
  },
  {
   "cell_type": "markdown",
   "metadata": {},
   "source": [
    "# Next steps:\n",
    "(18 OCT 2023)\n",
    "\n",
    "1. I want the above functions to be a comprehensible framework. What does this mean?\n",
    "    a. Their should be one \"factory\" that takes superop_local -> super_full_liouvillian that takes as argument the parity and shifts (PBC) for the even layer.\n",
    "    b. I need to try this out fully when also changing the exp(L_full) to include the PBC for the term [N-1,0].\n",
    "    c. Include a special case for the non PBC such that this old comparison still works\n",
    "    c. Add even layer to unit tests \n",
    "2. Try optimization with the PBC case for St(N)\n",
    "3. EXTRA: finish creation of identity maps!"
   ]
  },
  {
   "cell_type": "code",
   "execution_count": 92,
   "metadata": {},
   "outputs": [
    {
     "name": "stdout",
     "output_type": "stream",
     "text": [
      "0.14312675894435653\n"
     ]
    }
   ],
   "source": [
    "# trying out again things but with pbc=True!\n",
    "from opentn.transformations import create_trotter_layers\n",
    "\n",
    "d, N, gamma = 2, 4, 1\n",
    "tau = 4\n",
    "\n",
    "Lvec, Lvec_odd, Lvec_even, Lnn = create_kitaev_liouvillians(N=N, d=d, gamma=gamma, pbc=True)\n",
    "exp_Lvec, exp_Lvec_odd, exp_Lvec_even = create_trotter_layers(liouvillians=[Lvec, Lvec_odd, Lvec_even], tau=tau)\n",
    "\n",
    "print(frobenius_norm(compose_superops_list([exp_Lvec_odd, exp_Lvec_even, exp_Lvec_odd]), exp_Lvec))\n",
    "\n",
    "superop_nn = lindbladian2super(Li=[Lnn])\n",
    "\n",
    "exp_nn_odd = exp_operator_dt(superop_nn, tau=tau/2, backend='jax')\n",
    "exp_nn_even = exp_operator_dt(superop_nn, tau=tau, backend='jax')\n",
    "\n",
    "test_even_pbc = create_supertensored_from_local(exp_nn_even, N, pbc=True, layer=1)\n",
    "test_even_pbc = convert_supertensored2liouvillianfull(test_even_pbc, N, d, shift_pbc=True)\n",
    "\n",
    "test_odd = create_supertensored_from_local(exp_nn_odd, N)\n",
    "test_odd = convert_supertensored2liouvillianfull(test_odd, N, d)"
   ]
  },
  {
   "cell_type": "code",
   "execution_count": 94,
   "metadata": {},
   "outputs": [
    {
     "name": "stdout",
     "output_type": "stream",
     "text": [
      "False\n",
      "True\n",
      "True\n"
     ]
    },
    {
     "data": {
      "text/plain": [
       "(45, 64, 16)"
      ]
     },
     "execution_count": 94,
     "metadata": {},
     "output_type": "execute_result"
    }
   ],
   "source": [
    "# these is supposed to fail \n",
    "print(np.allclose(create_supertensored_from_local(exp_nn_even, N, layer=1), create_supertensored_from_local(exp_nn_even, N, pbc=True, layer=1)))\n",
    "# these are supposed to pass\n",
    "print(np.allclose(test_odd@test_even_pbc@test_odd, exp_Lvec_odd@exp_Lvec_even@exp_Lvec_odd)) # AMAZING\n",
    "print(np.allclose(Lvec, Lvec_odd+Lvec_even))\n",
    "\n",
    "np.linalg.matrix_rank(super2choi(exp_Lvec)), 4**3, 2**4 # NOTE: the 2 comes from the fact that 2 kraus operators come out from the liouvillian acting on 2 sites."
   ]
  },
  {
   "cell_type": "code",
   "execution_count": 84,
   "metadata": {},
   "outputs": [
    {
     "name": "stdout",
     "output_type": "stream",
     "text": [
      "[True, True, True] [(8, 4), (8, 4), (8, 4)]\n",
      "0.14312675894435722\n"
     ]
    }
   ],
   "source": [
    "# I want to create a utility function that converts the superoperator to orthogonal directly\n",
    "from opentn.transformations import super2ortho\n",
    "from opentn.stiefel import check_isometries\n",
    "from opentn.optimization import model_stiefel_local\n",
    "xs_pbc_stiefel = [super2ortho(x.real) for x in [exp_nn_odd, exp_nn_even, exp_nn_odd]] # all have (8,4) = (4*2,4) = (out*rank, in)\n",
    "print(check_isometries(xs_pbc_stiefel), [op.shape for op in xs_pbc_stiefel]) \n",
    "print(frobenius_norm(model_stiefel_local(xs_pbc_stiefel, N=N, d=d), exp_Lvec))"
   ]
  },
  {
   "cell_type": "code",
   "execution_count": 15,
   "metadata": {},
   "outputs": [],
   "source": [
    "# now it is time to define the elements for the optimization!\n",
    "from opentn.stiefel import retract_stiefel, gradient_stiefel_vec, riemannian_hessian_vec\n",
    "f_stiefel = lambda xi: frobenius_norm(model_stiefel_local(xi, N=N, d=d), exp_Lvec)\n",
    "grad_stiefel = lambda xi: gradient_stiefel_vec(xi, f_stiefel)\n",
    "hessian_stiefel = lambda xi: riemannian_hessian_vec(xi, f_stiefel)"
   ]
  },
  {
   "cell_type": "code",
   "execution_count": 19,
   "metadata": {},
   "outputs": [
    {
     "name": "stdout",
     "output_type": "stream",
     "text": [
      "iteration: 0\n",
      "column : 0\n",
      "column : 1\n",
      "column : 2\n",
      "radius 0.01\n",
      "iteration: 1\n",
      "column : 0\n",
      "column : 1\n",
      "column : 2\n",
      "radius 0.0025\n",
      "iteration: 2\n",
      "column : 0\n",
      "column : 1\n",
      "column : 2\n",
      "radius 0.0025\n",
      "iteration: 3\n",
      "column : 0\n",
      "column : 1\n",
      "column : 2\n",
      "radius 0.0025\n",
      "iteration: 4\n",
      "column : 0\n",
      "column : 1\n",
      "column : 2\n",
      "radius 0.000625\n",
      "iteration: 5\n",
      "column : 0\n",
      "column : 1\n",
      "column : 2\n",
      "radius 0.000625\n",
      "iteration: 6\n",
      "column : 0\n",
      "column : 1\n",
      "column : 2\n",
      "radius 0.00125\n",
      "iteration: 7\n",
      "column : 0\n",
      "column : 1\n",
      "column : 2\n",
      "radius 0.0025\n",
      "iteration: 8\n",
      "column : 0\n",
      "column : 1\n",
      "column : 2\n",
      "radius 0.005\n",
      "iteration: 9\n",
      "column : 0\n",
      "column : 1\n",
      "column : 2\n",
      "radius 0.00125\n",
      "iteration: 10\n",
      "column : 0\n",
      "column : 1\n",
      "column : 2\n",
      "radius 0.00125\n",
      "iteration: 11\n",
      "column : 0\n",
      "column : 1\n",
      "column : 2\n",
      "radius 0.0003125\n",
      "iteration: 12\n",
      "column : 0\n",
      "column : 1\n",
      "column : 2\n",
      "radius 0.000625\n",
      "iteration: 13\n",
      "column : 0\n",
      "column : 1\n",
      "column : 2\n",
      "radius 0.000625\n",
      "iteration: 14\n",
      "column : 0\n",
      "column : 1\n",
      "column : 2\n",
      "radius 0.000625\n",
      "iteration: 15\n",
      "column : 0\n",
      "column : 1\n",
      "column : 2\n",
      "radius 0.000625\n",
      "iteration: 16\n",
      "column : 0\n",
      "column : 1\n",
      "column : 2\n",
      "radius 0.000625\n",
      "iteration: 17\n",
      "column : 0\n",
      "column : 1\n",
      "column : 2\n",
      "radius 0.000625\n",
      "iteration: 18\n",
      "column : 0\n",
      "column : 1\n",
      "column : 2\n",
      "radius 0.000625\n",
      "iteration: 19\n",
      "column : 0\n",
      "column : 1\n",
      "column : 2\n",
      "radius 0.00015625\n"
     ]
    }
   ],
   "source": [
    "from opentn.trust_region_rcopt import riemannian_trust_region_optimize\n",
    "xs_pbc_1, f_pbc_1, err_pbc_1, radius_pbc_1 = riemannian_trust_region_optimize(\n",
    "    f_stiefel, retract_stiefel, grad_stiefel, hessian_stiefel, xs_pbc_stiefel, niter=20\n",
    ")"
   ]
  },
  {
   "cell_type": "code",
   "execution_count": 20,
   "metadata": {},
   "outputs": [
    {
     "name": "stdout",
     "output_type": "stream",
     "text": [
      "iteration: 0\n",
      "column : 0\n",
      "column : 1\n",
      "column : 2\n",
      "radius 0.00015625\n",
      "iteration: 1\n",
      "column : 0\n",
      "column : 1\n",
      "column : 2\n",
      "radius 0.00015625\n",
      "iteration: 2\n",
      "column : 0\n",
      "column : 1\n",
      "column : 2\n",
      "radius 3.90625e-05\n",
      "iteration: 3\n",
      "column : 0\n",
      "column : 1\n",
      "column : 2\n",
      "radius 3.90625e-05\n",
      "iteration: 4\n",
      "column : 0\n",
      "column : 1\n",
      "column : 2\n",
      "radius 3.90625e-05\n",
      "iteration: 5\n",
      "column : 0\n",
      "column : 1\n",
      "column : 2\n",
      "radius 7.8125e-05\n",
      "iteration: 6\n",
      "column : 0\n",
      "column : 1\n",
      "column : 2\n",
      "radius 0.00015625\n",
      "iteration: 7\n",
      "column : 0\n",
      "column : 1\n",
      "column : 2\n",
      "radius 0.0003125\n",
      "iteration: 8\n",
      "column : 0\n",
      "column : 1\n",
      "column : 2\n",
      "radius 0.000625\n",
      "iteration: 9\n",
      "column : 0\n",
      "column : 1\n",
      "column : 2\n",
      "radius 0.00015625\n",
      "iteration: 10\n",
      "column : 0\n",
      "column : 1\n",
      "column : 2\n",
      "radius 0.00015625\n",
      "iteration: 11\n",
      "column : 0\n",
      "column : 1\n",
      "column : 2\n",
      "radius 0.00015625\n",
      "iteration: 12\n",
      "column : 0\n",
      "column : 1\n",
      "column : 2\n",
      "radius 3.90625e-05\n",
      "iteration: 13\n",
      "column : 0\n",
      "column : 1\n",
      "column : 2\n",
      "radius 3.90625e-05\n",
      "iteration: 14\n",
      "column : 0\n",
      "column : 1\n",
      "column : 2\n",
      "radius 7.8125e-05\n",
      "iteration: 15\n",
      "column : 0\n",
      "column : 1\n",
      "column : 2\n",
      "radius 0.00015625\n",
      "iteration: 16\n",
      "column : 0\n",
      "column : 1\n",
      "column : 2\n",
      "radius 0.0003125\n",
      "iteration: 17\n",
      "column : 0\n",
      "column : 1\n",
      "column : 2\n",
      "radius 7.8125e-05\n",
      "iteration: 18\n",
      "column : 0\n",
      "column : 1\n",
      "column : 2\n",
      "radius 7.8125e-05\n",
      "iteration: 19\n",
      "column : 0\n",
      "column : 1\n",
      "column : 2\n",
      "radius 7.8125e-05\n"
     ]
    }
   ],
   "source": [
    "xs_pbc_2, f_pbc_2, err_pbc_2, radius_pbc_2 = riemannian_trust_region_optimize(\n",
    "    f_stiefel, retract_stiefel, grad_stiefel, hessian_stiefel, xs_pbc_1, niter=20, radius_init=radius_pbc_1\n",
    ")"
   ]
  },
  {
   "cell_type": "code",
   "execution_count": 95,
   "metadata": {},
   "outputs": [
    {
     "name": "stdout",
     "output_type": "stream",
     "text": [
      "0.8853557271233199 [True, True, True]\n"
     ]
    },
    {
     "data": {
      "image/png": "[encoded data removed]",
      "text/plain": [
       "<Figure size 1200x800 with 1 Axes>"
      ]
     },
     "metadata": {
      "needs_background": "light"
     },
     "output_type": "display_data"
    }
   ],
   "source": [
    "import matplotlib.pyplot as plt\n",
    "plt.figure(dpi=200)\n",
    "plt.plot(f_pbc_1 + f_pbc_2, '--', label='pbc')\n",
    "plt.legend()\n",
    "print(f_pbc_2[-1]/f_pbc_1[0], check_isometries(xs_pbc_2))"
   ]
  },
  {
   "cell_type": "code",
   "execution_count": 71,
   "metadata": {},
   "outputs": [],
   "source": [
    "# just to be sure that everything is right: TODO: I need to check that the error of this model decreases with tau**3\n",
    "taus = np.logspace(start=2, stop=-9, num=12, base=2)[::-1]\n",
    "error_fro = []\n",
    "for tau in taus:\n",
    "    exp_tot_tau = exp_operator_dt(Lvec, tau=tau, backend='jax')\n",
    "    exp_odd_tau = exp_operator_dt(Lvec_odd, tau=tau/2, backend='jax')\n",
    "    exp_even_tau = exp_operator_dt(Lvec_even, tau=tau, backend='jax')\n",
    "    error_fro.append(frobenius_norm(exp_odd_tau@exp_even_tau@exp_odd_tau,exp_tot_tau))"
   ]
  },
  {
   "cell_type": "code",
   "execution_count": 72,
   "metadata": {},
   "outputs": [
    {
     "name": "stdout",
     "output_type": "stream",
     "text": [
      "[1.953125e-03 3.906250e-03 7.812500e-03 1.562500e-02 3.125000e-02\n",
      " 6.250000e-02 1.250000e-01 2.500000e-01 5.000000e-01 1.000000e+00\n",
      " 2.000000e+00 4.000000e+00]\n"
     ]
    },
    {
     "data": {
      "image/png": "[encoded data removed]",
      "text/plain": [
       "<Figure size 1200x800 with 1 Axes>"
      ]
     },
     "metadata": {
      "needs_background": "light"
     },
     "output_type": "display_data"
    }
   ],
   "source": [
    "a = 0.0075\n",
    "fig = plt.figure(dpi=200)\n",
    "plt.loglog(taus, error_fro, '--x', base=2, label='Frobenius norm difference')\n",
    "plt.plot(taus, a*taus**3, label=r'$a x^3$')\n",
    "plt.gca().invert_xaxis()\n",
    "plt.ylabel(r'Frobenius Norm difference')\n",
    "plt.xlabel('tau')\n",
    "plt.legend()\n",
    "print(taus)"
   ]
  },
  {
   "cell_type": "code",
   "execution_count": 354,
   "metadata": {},
   "outputs": [
    {
     "name": "stdout",
     "output_type": "stream",
     "text": [
      "[True, True, True]\n",
      "[True, True, True]\n"
     ]
    }
   ],
   "source": [
    "# after checking that this works as it is supposed to (based on error behaviour and unittests)\n",
    "# so the next thing is to try canonical metric!\n",
    "# 1. Start with the gradients\n",
    "from opentn.stiefel import gradient_ambient2riemannian, gradient_stiefel, gradient_canonical\n",
    "gradients_ambient = jax.grad(f_stiefel)(xs_pbc_stiefel)\n",
    "gradients_euclidean = [gradient_ambient2riemannian(x,z) for x,z in zip(xs_pbc_stiefel, gradients_ambient)]\n",
    "print([np.allclose(g1, g2) for g1, g2 in zip(gradients_euclidean,  gradient_stiefel(xs_pbc_stiefel, f_stiefel))])\n",
    "\n",
    "gradients_canonical = [gradient_ambient2riemannian(x,z, 1, 1/2) for x,z in zip(xs_pbc_stiefel, gradients_ambient)]\n",
    "print([np.allclose(g1, g2) for g1, g2 in zip(gradients_canonical, gradient_canonical(xs_pbc_stiefel, f_stiefel))])"
   ]
  },
  {
   "cell_type": "code",
   "execution_count": 359,
   "metadata": {},
   "outputs": [
    {
     "name": "stdout",
     "output_type": "stream",
     "text": [
      "[True, True, True]\n",
      "[True, True, True]\n"
     ]
    }
   ],
   "source": [
    "from opentn.stiefel import gradient_stiefel_general\n",
    "# TODO: make a unittest of this\n",
    "print([np.allclose(g1, g2) for g1, g2 in zip(gradient_stiefel_general(xs_pbc_stiefel, f_stiefel, alpha0=1, alpha1=1),  gradient_stiefel(xs_pbc_stiefel, f_stiefel))])\n",
    "print([np.allclose(g1, g2) for g1, g2 in zip(gradient_stiefel_general(xs_pbc_stiefel, f_stiefel, alpha0=1, alpha1=1/2), gradient_canonical(xs_pbc_stiefel, f_stiefel))])"
   ]
  },
  {
   "cell_type": "code",
   "execution_count": 172,
   "metadata": {},
   "outputs": [
    {
     "data": {
      "text/plain": [
       "[False, False, False]"
      ]
     },
     "execution_count": 172,
     "metadata": {},
     "output_type": "execute_result"
    }
   ],
   "source": [
    "# now, there seems to be an issue with the riemannian connection.\n",
    "from opentn.stiefel import project, get_unit_matrices, is_in_tangent_space\n",
    "# let me calculate D_eta(nu):\n",
    "grad_func = lambda xi: gradient_stiefel(xi, f_stiefel)\n",
    "x = xs_pbc_stiefel\n",
    "unit_matrices = get_unit_matrices(x)\n",
    "k = 1\n",
    "grads = grad_func(x)\n",
    "_, jvp_eval = jax.jvp(grad_func, (x,), ([jnp.zeros_like(op, dtype=np.float64) if l!=i else project(X=op, Z=jnp.roll(unit_matrices[l],k)) for l,op in enumerate(x)],))\n",
    "[np.allclose(op, np.zeros_like(op)) for op in jvp_eval]"
   ]
  },
  {
   "cell_type": "code",
   "execution_count": 173,
   "metadata": {},
   "outputs": [
    {
     "data": {
      "text/plain": [
       "[True, True, True]"
      ]
     },
     "execution_count": 173,
     "metadata": {},
     "output_type": "execute_result"
    }
   ],
   "source": [
    "[is_in_tangent_space(x, grad) for x,grad in zip(x, jvp_eval)]"
   ]
  },
  {
   "cell_type": "code",
   "execution_count": 174,
   "metadata": {},
   "outputs": [
    {
     "data": {
      "text/plain": [
       "[True, True, True]"
      ]
     },
     "execution_count": 174,
     "metadata": {},
     "output_type": "execute_result"
    }
   ],
   "source": [
    "[np.allclose(project(x, grad), grad) for x,grad in zip(x, jvp_eval)]"
   ]
  },
  {
   "cell_type": "code",
   "execution_count": 185,
   "metadata": {},
   "outputs": [
    {
     "name": "stdout",
     "output_type": "stream",
     "text": [
      "False\n",
      "True\n",
      "True\n"
     ]
    }
   ],
   "source": [
    "from opentn.stiefel import riemannian_connection\n",
    "hessian_metric = riemannian_connection(D_nu=jvp_eval[k], nu=grads[k], eta=project(X=x[k], Z=unit_matrices[k]), x=x[k], alpha0=1, alpha1=1/2)\n",
    "print(np.allclose(hessian_metric, np.zeros_like(hessian_metric)))\n",
    "print(np.allclose(hessian_metric, jvp_eval[k]))\n",
    "print(np.allclose(project(x[k], jvp_eval[k]), jvp_eval[k]))"
   ]
  },
  {
   "cell_type": "code",
   "execution_count": 182,
   "metadata": {},
   "outputs": [
    {
     "name": "stdout",
     "output_type": "stream",
     "text": [
      "True\n",
      "True\n"
     ]
    }
   ],
   "source": [
    "nu=grads[k]\n",
    "# eta=project(X=x[k], Z=unit_matrices[k])\n",
    "eta = project(x[k], unit_matrices[k])         \n",
    "print(np.allclose((eta.T @ nu + nu.T @ eta), np.zeros_like(eta.T @ nu + nu.T @ eta)))\n",
    "print(np.allclose((eta @ nu.T + nu @ eta.T), np.zeros_like(eta @ nu.T + nu @ eta.T)))\n",
    "\n",
    "# This sort of gives me the idea that the hessian would not change. What could be wrong is me assuming that I should\n",
    "# project the Ei and that is why the whole thing is in the tangent space by default."
   ]
  },
  {
   "cell_type": "code",
   "execution_count": 355,
   "metadata": {},
   "outputs": [
    {
     "name": "stdout",
     "output_type": "stream",
     "text": [
      "iteration: 0\n",
      "column : 0\n",
      "column : 1\n",
      "column : 2\n",
      "radius 0.01\n",
      "iteration: 1\n",
      "column : 0\n",
      "column : 1\n",
      "column : 2\n",
      "radius 0.0025\n",
      "iteration: 2\n",
      "column : 0\n",
      "column : 1\n",
      "column : 2\n",
      "radius 0.0025\n",
      "iteration: 3\n",
      "column : 0\n",
      "column : 1\n",
      "column : 2\n",
      "radius 0.005\n",
      "iteration: 4\n",
      "column : 0\n",
      "column : 1\n",
      "column : 2\n",
      "radius 0.00125\n",
      "iteration: 5\n",
      "column : 0\n",
      "column : 1\n",
      "column : 2\n",
      "radius 0.00125\n",
      "iteration: 6\n",
      "column : 0\n",
      "column : 1\n",
      "column : 2\n",
      "radius 0.00125\n",
      "iteration: 7\n",
      "column : 0\n",
      "column : 1\n",
      "column : 2\n",
      "radius 0.00125\n",
      "iteration: 8\n",
      "column : 0\n",
      "column : 1\n",
      "column : 2\n",
      "radius 0.00125\n",
      "iteration: 9\n",
      "column : 0\n",
      "column : 1\n",
      "column : 2\n",
      "radius 0.00125\n",
      "iteration: 10\n",
      "column : 0\n",
      "column : 1\n",
      "column : 2\n",
      "radius 0.0003125\n",
      "iteration: 11\n",
      "column : 0\n",
      "column : 1\n",
      "column : 2\n",
      "radius 0.000625\n",
      "iteration: 12\n",
      "column : 0\n",
      "column : 1\n",
      "column : 2\n",
      "radius 0.000625\n",
      "iteration: 13\n",
      "column : 0\n",
      "column : 1\n",
      "column : 2\n",
      "radius 0.000625\n",
      "iteration: 14\n",
      "column : 0\n",
      "column : 1\n",
      "column : 2\n",
      "radius 0.00015625\n",
      "iteration: 15\n",
      "column : 0\n",
      "column : 1\n",
      "column : 2\n",
      "radius 0.00015625\n",
      "iteration: 16\n",
      "column : 0\n",
      "column : 1\n",
      "column : 2\n",
      "radius 3.90625e-05\n",
      "iteration: 17\n",
      "column : 0\n",
      "column : 1\n",
      "column : 2\n",
      "radius 3.90625e-05\n",
      "iteration: 18\n",
      "column : 0\n",
      "column : 1\n",
      "column : 2\n",
      "radius 3.90625e-05\n",
      "iteration: 19\n",
      "column : 0\n",
      "column : 1\n",
      "column : 2\n",
      "radius 7.8125e-05\n"
     ]
    }
   ],
   "source": [
    "# lets try to quickly run an optimization with the canonical gradient instead\n",
    "grad_stiefel_canon = lambda xi: gradient_stiefel_vec(xi, f_stiefel, metric='canonical')\n",
    "\n",
    "xs_pbc_canon_1, f_pbc_canon_1, err_pbc_canon_1, radius_pbc_canon_1 = riemannian_trust_region_optimize(\n",
    "    f_stiefel, retract_stiefel, grad_stiefel_canon, hessian_stiefel, xs_pbc_stiefel, niter=20\n",
    ")"
   ]
  },
  {
   "cell_type": "code",
   "execution_count": 180,
   "metadata": {},
   "outputs": [
    {
     "name": "stdout",
     "output_type": "stream",
     "text": [
      "iteration: 0\n",
      "column : 0\n",
      "column : 1\n",
      "column : 2\n",
      "radius 0.00015625\n",
      "iteration: 1\n",
      "column : 0\n",
      "column : 1\n",
      "column : 2\n",
      "radius 0.0003125\n",
      "iteration: 2\n",
      "column : 0\n",
      "column : 1\n",
      "column : 2\n",
      "radius 0.000625\n",
      "iteration: 3\n",
      "column : 0\n",
      "column : 1\n",
      "column : 2\n",
      "radius 0.00015625\n",
      "iteration: 4\n",
      "column : 0\n",
      "column : 1\n",
      "column : 2\n",
      "radius 3.90625e-05\n",
      "iteration: 5\n",
      "column : 0\n",
      "column : 1\n",
      "column : 2\n",
      "radius 3.90625e-05\n",
      "iteration: 6\n",
      "column : 0\n",
      "column : 1\n",
      "column : 2\n",
      "radius 3.90625e-05\n",
      "iteration: 7\n",
      "column : 0\n",
      "column : 1\n",
      "column : 2\n",
      "radius 7.8125e-05\n",
      "iteration: 8\n",
      "column : 0\n",
      "column : 1\n",
      "column : 2\n",
      "radius 0.00015625\n",
      "iteration: 9\n",
      "column : 0\n",
      "column : 1\n",
      "column : 2\n",
      "radius 0.0003125\n",
      "iteration: 10\n",
      "column : 0\n",
      "column : 1\n",
      "column : 2\n",
      "radius 0.0003125\n",
      "iteration: 11\n",
      "column : 0\n",
      "column : 1\n",
      "column : 2\n",
      "radius 7.8125e-05\n",
      "iteration: 12\n",
      "column : 0\n",
      "column : 1\n",
      "column : 2\n",
      "radius 7.8125e-05\n",
      "iteration: 13\n",
      "column : 0\n",
      "column : 1\n",
      "column : 2\n",
      "radius 0.00015625\n",
      "iteration: 14\n",
      "column : 0\n",
      "column : 1\n",
      "column : 2\n",
      "radius 0.00015625\n",
      "iteration: 15\n",
      "column : 0\n",
      "column : 1\n",
      "column : 2\n",
      "radius 3.90625e-05\n",
      "iteration: 16\n",
      "column : 0\n",
      "column : 1\n",
      "column : 2\n",
      "radius 3.90625e-05\n",
      "iteration: 17\n",
      "column : 0\n",
      "column : 1\n",
      "column : 2\n",
      "radius 7.8125e-05\n",
      "iteration: 18\n",
      "column : 0\n",
      "column : 1\n",
      "column : 2\n",
      "radius 0.00015625\n",
      "iteration: 19\n",
      "column : 0\n",
      "column : 1\n",
      "column : 2\n",
      "radius 0.00015625\n"
     ]
    }
   ],
   "source": [
    "xs_pbc_canon_2, f_pbc_canon_2, err_pbc_canon_2, radius_pbc_canon_2 = riemannian_trust_region_optimize(\n",
    "    f_stiefel, retract_stiefel, grad_stiefel_canon, hessian_stiefel, xs_pbc_canon_1, niter=20, radius_init=radius_pbc_2\n",
    ")"
   ]
  },
  {
   "cell_type": "code",
   "execution_count": 385,
   "metadata": {},
   "outputs": [
    {
     "name": "stdout",
     "output_type": "stream",
     "text": [
      "iteration: 0\n",
      "column : 0\n",
      "column : 1\n",
      "column : 2\n",
      "radius 0.02\n",
      "iteration: 1\n",
      "column : 0\n",
      "column : 1\n",
      "column : 2\n",
      "radius 0.02\n",
      "iteration: 2\n",
      "column : 0\n",
      "column : 1\n",
      "column : 2\n",
      "radius 0.02\n",
      "iteration: 3\n",
      "column : 0\n",
      "column : 1\n",
      "column : 2\n",
      "radius 0.02\n",
      "iteration: 4\n",
      "column : 0\n",
      "column : 1\n",
      "column : 2\n",
      "radius 0.005\n",
      "iteration: 5\n",
      "column : 0\n",
      "column : 1\n",
      "column : 2\n",
      "radius 0.00125\n",
      "iteration: 6\n",
      "column : 0\n",
      "column : 1\n",
      "column : 2\n",
      "radius 0.0003125\n",
      "iteration: 7\n",
      "column : 0\n",
      "column : 1\n",
      "column : 2\n",
      "radius 7.8125e-05\n",
      "iteration: 8\n",
      "column : 0\n",
      "column : 1\n",
      "column : 2\n",
      "radius 1.953125e-05\n",
      "iteration: 9\n",
      "column : 0\n",
      "column : 1\n",
      "column : 2\n",
      "radius 4.8828125e-06\n",
      "iteration: 10\n",
      "column : 0\n",
      "column : 1\n",
      "column : 2\n",
      "radius 1.220703125e-06\n",
      "iteration: 11\n",
      "column : 0\n",
      "column : 1\n",
      "column : 2\n",
      "radius 3.0517578125e-07\n",
      "iteration: 12\n",
      "column : 0\n",
      "column : 1\n",
      "column : 2\n",
      "radius 7.62939453125e-08\n",
      "iteration: 13\n",
      "column : 0\n",
      "column : 1\n",
      "column : 2\n",
      "radius 1.9073486328125e-08\n",
      "iteration: 14\n",
      "column : 0\n",
      "column : 1\n",
      "column : 2\n",
      "radius 4.76837158203125e-09\n",
      "iteration: 15\n",
      "column : 0\n",
      "column : 1\n",
      "column : 2\n",
      "radius 1.1920928955078125e-09\n",
      "iteration: 16\n",
      "column : 0\n",
      "column : 1\n",
      "column : 2\n",
      "radius 2.9802322387695313e-10\n",
      "iteration: 17\n",
      "column : 0\n",
      "column : 1\n",
      "column : 2\n",
      "radius 7.450580596923828e-11\n",
      "iteration: 18\n",
      "column : 0\n",
      "column : 1\n",
      "column : 2\n",
      "radius 1.862645149230957e-11\n",
      "iteration: 19\n",
      "column : 0\n",
      "column : 1\n",
      "column : 2\n",
      "radius 4.656612873077393e-12\n"
     ]
    }
   ],
   "source": [
    "grad_stiefel_euclidean = lambda xi: gradient_stiefel_vec(xi, f_stiefel, metric='euclidean')\n",
    "hessian_stiefel_euclidean = lambda xi: riemannian_hessian_vec(xi, f_stiefel, metric='euclidean')\n",
    "\n",
    "\n",
    "xs_pbc_euclidean_1, f_pbc_euclidean_1, err_pbc_euclidean_1, radius_pbc_euclidean_1 = riemannian_trust_region_optimize(\n",
    "    f_stiefel, retract_stiefel, grad_stiefel_euclidean, hessian_stiefel_euclidean, xs_pbc_stiefel, niter=20\n",
    ")"
   ]
  },
  {
   "cell_type": "code",
   "execution_count": 373,
   "metadata": {},
   "outputs": [
    {
     "name": "stdout",
     "output_type": "stream",
     "text": [
      "iteration: 0\n",
      "column : 0\n",
      "column : 1\n",
      "column : 2\n",
      "radius 0.02\n",
      "iteration: 1\n",
      "column : 0\n",
      "column : 1\n",
      "column : 2\n",
      "radius 0.02\n",
      "iteration: 2\n",
      "column : 0\n",
      "column : 1\n",
      "column : 2\n",
      "radius 0.02\n",
      "iteration: 3\n",
      "column : 0\n",
      "column : 1\n",
      "column : 2\n",
      "radius 0.02\n",
      "iteration: 4\n",
      "column : 0\n",
      "column : 1\n",
      "column : 2\n",
      "radius 0.02\n",
      "iteration: 5\n",
      "column : 0\n",
      "column : 1\n",
      "column : 2\n",
      "radius 0.005\n",
      "iteration: 6\n",
      "column : 0\n",
      "column : 1\n",
      "column : 2\n",
      "radius 0.00125\n",
      "iteration: 7\n",
      "column : 0\n",
      "column : 1\n",
      "column : 2\n",
      "radius 0.0003125\n",
      "iteration: 8\n",
      "column : 0\n",
      "column : 1\n",
      "column : 2\n",
      "radius 7.8125e-05\n",
      "iteration: 9\n",
      "column : 0\n",
      "column : 1\n",
      "column : 2\n",
      "radius 1.953125e-05\n",
      "iteration: 10\n",
      "column : 0\n",
      "column : 1\n",
      "column : 2\n",
      "radius 4.8828125e-06\n",
      "iteration: 11\n",
      "column : 0\n",
      "column : 1\n",
      "column : 2\n",
      "radius 1.220703125e-06\n",
      "iteration: 12\n",
      "column : 0\n",
      "column : 1\n",
      "column : 2\n",
      "radius 3.0517578125e-07\n",
      "iteration: 13\n",
      "column : 0\n",
      "column : 1\n",
      "column : 2\n",
      "radius 7.62939453125e-08\n",
      "iteration: 14\n",
      "column : 0\n",
      "column : 1\n",
      "column : 2\n",
      "radius 1.9073486328125e-08\n",
      "iteration: 15\n",
      "column : 0\n",
      "column : 1\n",
      "column : 2\n",
      "radius 4.76837158203125e-09\n",
      "iteration: 16\n",
      "column : 0\n",
      "column : 1\n",
      "column : 2\n",
      "radius 1.1920928955078125e-09\n",
      "iteration: 17\n",
      "column : 0\n",
      "column : 1\n",
      "column : 2\n",
      "radius 2.9802322387695313e-10\n",
      "iteration: 18\n",
      "column : 0\n",
      "column : 1\n",
      "column : 2\n",
      "radius 7.450580596923828e-11\n",
      "iteration: 19\n",
      "column : 0\n",
      "column : 1\n",
      "column : 2\n",
      "radius 1.862645149230957e-11\n"
     ]
    }
   ],
   "source": [
    "hessian_stiefel_canon = lambda xi: riemannian_hessian_vec(xi, f_stiefel, metric='canonical')\n",
    "xs_pbc_canon_upd_1, f_pbc_canon_upd_1, err_pbc_canon_upd_1, radius_pbc_canon_upd_1 = riemannian_trust_region_optimize(\n",
    "    f_stiefel, retract_stiefel, grad_stiefel_canon, hessian_stiefel_canon, xs_pbc_stiefel, niter=20\n",
    ")\n",
    "# NOTE: attempt without the projection gave worst results"
   ]
  },
  {
   "cell_type": "code",
   "execution_count": 380,
   "metadata": {},
   "outputs": [
    {
     "name": "stdout",
     "output_type": "stream",
     "text": [
      "iteration: 0\n",
      "column : 0\n",
      "column : 1\n",
      "column : 2\n",
      "radius 4.656612873077393e-12\n",
      "iteration: 1\n",
      "column : 0\n",
      "column : 1\n",
      "column : 2\n",
      "radius 1.1641532182693482e-12\n",
      "iteration: 2\n",
      "column : 0\n",
      "column : 1\n",
      "column : 2\n",
      "radius 2.9103830456733704e-13\n",
      "iteration: 3\n",
      "column : 0\n",
      "column : 1\n",
      "column : 2\n",
      "radius 7.275957614183426e-14\n",
      "iteration: 4\n",
      "column : 0\n",
      "column : 1\n",
      "column : 2\n",
      "radius 1.4551915228366852e-13\n",
      "iteration: 5\n",
      "column : 0\n",
      "column : 1\n",
      "column : 2\n",
      "radius 3.637978807091713e-14\n",
      "iteration: 6\n",
      "column : 0\n",
      "column : 1\n",
      "column : 2\n",
      "radius 9.094947017729283e-15\n",
      "iteration: 7\n",
      "column : 0\n",
      "column : 1\n",
      "column : 2\n",
      "radius 2.2737367544323206e-15\n",
      "iteration: 8\n",
      "column : 0\n",
      "column : 1\n",
      "column : 2\n",
      "radius 5.684341886080802e-16\n",
      "iteration: 9\n",
      "column : 0\n",
      "column : 1\n",
      "column : 2\n",
      "radius 1.4210854715202004e-16\n",
      "iteration: 10\n",
      "column : 0\n",
      "column : 1\n",
      "column : 2\n",
      "radius 3.552713678800501e-17\n",
      "iteration: 11\n",
      "column : 0\n",
      "column : 1\n",
      "column : 2\n",
      "radius 8.881784197001253e-18\n",
      "iteration: 12\n",
      "column : 0\n",
      "column : 1\n",
      "column : 2\n",
      "radius 2.220446049250313e-18\n",
      "iteration: 13\n",
      "column : 0\n",
      "column : 1\n",
      "column : 2\n",
      "radius 5.551115123125783e-19\n",
      "iteration: 14\n",
      "column : 0\n",
      "column : 1\n",
      "column : 2\n",
      "radius 1.3877787807814457e-19\n",
      "iteration: 15\n",
      "column : 0\n",
      "column : 1\n",
      "column : 2\n",
      "radius 3.469446951953614e-20\n",
      "iteration: 16\n",
      "column : 0\n",
      "column : 1\n",
      "column : 2\n",
      "radius 8.673617379884036e-21\n",
      "iteration: 17\n",
      "column : 0\n",
      "column : 1\n",
      "column : 2\n",
      "radius 2.168404344971009e-21\n",
      "iteration: 18\n",
      "column : 0\n",
      "column : 1\n",
      "column : 2\n",
      "radius 5.421010862427522e-22\n",
      "iteration: 19\n",
      "column : 0\n",
      "column : 1\n",
      "column : 2\n",
      "radius 1.3552527156068806e-22\n"
     ]
    }
   ],
   "source": [
    "xs_pbc_canon_upd_2, f_pbc_canon_upd_2, err_pbc_canon_upd_2, radius_pbc_canon_upd_2 = riemannian_trust_region_optimize(\n",
    "    f_stiefel, retract_stiefel, grad_stiefel_canon, hessian_stiefel_canon, xs_pbc_canon_upd_1, niter=20, radius_init=radius_pbc_canon_upd_1\n",
    ")"
   ]
  },
  {
   "cell_type": "code",
   "execution_count": 438,
   "metadata": {},
   "outputs": [
    {
     "data": {
      "text/plain": [
       "(2, 2)"
      ]
     },
     "execution_count": 438,
     "metadata": {},
     "output_type": "execute_result"
    }
   ],
   "source": [
    "from opentn.transformations import ortho2choi\n",
    "np.linalg.matrix_rank(ortho2choi(xs_pbc_stiefel[0])), np.linalg.matrix_rank(ortho2choi(xs_pbc_canon_upd_2[0]))"
   ]
  },
  {
   "cell_type": "code",
   "execution_count": 441,
   "metadata": {},
   "outputs": [
    {
     "name": "stdout",
     "output_type": "stream",
     "text": [
      "[[-1.00000000e+00  0.00000000e+00  0.00000000e+00  0.00000000e+00]\n",
      " [-2.16214860e-16 -8.70513862e-17  0.00000000e+00  0.00000000e+00]\n",
      " [ 0.00000000e+00 -8.89400392e-01 -1.10599608e-01  0.00000000e+00]\n",
      " [ 0.00000000e+00  3.13635673e-01 -3.13635673e-01  0.00000000e+00]\n",
      " [ 0.00000000e+00 -1.10599608e-01 -8.89400392e-01  0.00000000e+00]\n",
      " [ 0.00000000e+00  3.13635673e-01 -3.13635673e-01  0.00000000e+00]\n",
      " [ 0.00000000e+00  0.00000000e+00  0.00000000e+00 -1.00000000e+00]\n",
      " [ 0.00000000e+00  0.00000000e+00  0.00000000e+00  4.85302597e-17]]\n",
      "[[-1.00000000e+00 -1.99926276e-12  1.73728669e-12  5.12690018e-14]\n",
      " [ 4.35837690e-13 -3.08642001e-14 -3.46389584e-14  3.73980013e-17]\n",
      " [ 1.31575975e-12 -8.86707371e-01 -1.13246904e-01 -8.11547878e-13]\n",
      " [-1.50425679e-12  3.21703741e-01 -3.12140804e-01 -6.49702514e-13]\n",
      " [-1.05381932e-12 -1.13246904e-01 -8.86707371e-01  1.10161880e-12]\n",
      " [-1.49927734e-12  3.12140804e-01 -3.21703741e-01 -6.43832210e-13]\n",
      " [-5.12690018e-14  1.84997850e-13 -4.74897899e-13 -1.00000000e+00]\n",
      " [ 5.96391864e-21 -7.92970404e-14 -8.26239126e-14  4.39281894e-13]]\n"
     ]
    },
    {
     "data": {
      "text/plain": [
       "[True, True, True]"
      ]
     },
     "execution_count": 441,
     "metadata": {},
     "output_type": "execute_result"
    }
   ],
   "source": [
    "print(xs_pbc_stiefel[0])\n",
    "print(xs_pbc_canon_upd_2[0])\n",
    "check_isometries(xs_pbc_canon_upd_2)"
   ]
  },
  {
   "cell_type": "code",
   "execution_count": 409,
   "metadata": {},
   "outputs": [
    {
     "data": {
      "text/plain": [
       "<matplotlib.legend.Legend at 0x7fac69f7d7e0>"
      ]
     },
     "execution_count": 409,
     "metadata": {},
     "output_type": "execute_result"
    },
    {
     "data": {
      "image/png": "[encoded data removed]",
      "text/plain": [
       "<Figure size 1200x800 with 1 Axes>"
      ]
     },
     "metadata": {
      "needs_background": "light"
     },
     "output_type": "display_data"
    }
   ],
   "source": [
    "import matplotlib.pyplot as plt\n",
    "plt.figure(dpi=200)\n",
    "plt.ylabel('cost function')\n",
    "plt.xlabel('iterations')\n",
    "# plt.plot(f_pbc_1 + f_pbc_2, '--', label='euclidean')\n",
    "# plt.plot(f_pbc_euclidean_1, '--', label='euclidean (grad and hess) (metric)')\n",
    "plt.plot(f_pbc_canon_1 + f_pbc_canon_2, '--', label=r'canonical: $P_x(E_{i,j})$')\n",
    "plt.plot(f_pbc_canon_upd_1 + f_pbc_canon_upd_2, '--', label='canonical: \\n' + r'$X(E_{i,j} - E_{j,i})$' + '\\n' + r'$X_\\perp E_{i,j} $')\n",
    "plt.legend()"
   ]
  },
  {
   "cell_type": "code",
   "execution_count": 389,
   "metadata": {},
   "outputs": [
    {
     "data": {
      "text/plain": [
       "(DeviceArray(0.12651185, dtype=float64),\n",
       " DeviceArray(0.12651185, dtype=float64))"
      ]
     },
     "execution_count": 389,
     "metadata": {},
     "output_type": "execute_result"
    }
   ],
   "source": [
    "f_pbc_euclidean_1[-1], f_pbc_canon_upd_1[-1]"
   ]
  },
  {
   "cell_type": "markdown",
   "metadata": {},
   "source": [
    "# Checking the coordinates vector field"
   ]
  },
  {
   "cell_type": "code",
   "execution_count": 383,
   "metadata": {},
   "outputs": [
    {
     "name": "stdout",
     "output_type": "stream",
     "text": [
      "[[ 0.  1.  0.  0.]\n",
      " [-1.  0.  0.  0.]\n",
      " [ 0.  0.  0.  0.]\n",
      " [ 0.  0.  0.  0.]]\n",
      "[[ 0.00000000e+00 -1.00000000e+00  0.00000000e+00  0.00000000e+00]\n",
      " [ 8.70513862e-17 -2.16214860e-16  0.00000000e+00  0.00000000e+00]\n",
      " [ 8.89400392e-01  0.00000000e+00  0.00000000e+00  0.00000000e+00]\n",
      " [-3.13635673e-01  0.00000000e+00  0.00000000e+00  0.00000000e+00]\n",
      " [ 1.10599608e-01  0.00000000e+00  0.00000000e+00  0.00000000e+00]\n",
      " [-3.13635673e-01  0.00000000e+00  0.00000000e+00  0.00000000e+00]\n",
      " [ 0.00000000e+00  0.00000000e+00  0.00000000e+00  0.00000000e+00]\n",
      " [ 0.00000000e+00  0.00000000e+00  0.00000000e+00  0.00000000e+00]]\n"
     ]
    }
   ],
   "source": [
    "from opentn.stiefel import get_elementary_tangent_direction, get_k_unit_matrix\n",
    "x = xs_pbc_stiefel[0]\n",
    "p = x.shape[1]\n",
    "k = 1\n",
    "Eij = get_k_unit_matrix(dim0=p, dim1=p, k=k)\n",
    "print(Eij - Eij.T)\n",
    "print(get_elementary_tangent_direction(k,x))\n"
   ]
  },
  {
   "cell_type": "markdown",
   "metadata": {},
   "source": [
    "### Note:\n",
    "\n",
    "As expected from the theory, if i = j, we have the whole antisymmetric matrix to be zero. \n",
    "\n",
    "Is this a mere consequence of the number of real parameters that parametrize the tangent spaces of the stiefel manifold? \n",
    "\n",
    "the antisymmetric component only has p(p-1)/2 free parameters for real matrices (p^2 for complex matrices) while there are p^2 total parameters (2*p^2 for complex matrices)\n",
    "\n",
    "So does this mean that the k for antisymmetric elementary tangent directions would only have to traverse the upper diagonal?\n",
    "\n",
    "> I think it should be fine as long as we are consistently \"over paramtrizing\" everywhere, meaning in the gradient, hessian, and retraction! (???) "
   ]
  },
  {
   "cell_type": "markdown",
   "metadata": {},
   "source": [
    "## What happens for other values of (i,j)"
   ]
  },
  {
   "cell_type": "code",
   "execution_count": 341,
   "metadata": {},
   "outputs": [
    {
     "name": "stdout",
     "output_type": "stream",
     "text": [
      "[[ 0.  1.  0.  0.]\n",
      " [-1.  0.  0.  0.]\n",
      " [ 0.  0.  0.  0.]\n",
      " [ 0.  0.  0.  0.]]\n",
      "[[ 0. -1.  0.  0.]\n",
      " [ 1.  0.  0.  0.]\n",
      " [ 0.  0.  0.  0.]\n",
      " [ 0.  0.  0.  0.]]\n"
     ]
    }
   ],
   "source": [
    "Eij = get_k_unit_matrix(dim0=p, dim1=p, k=1)\n",
    "Eji = get_k_unit_matrix(dim0=p, dim1=p, k=4)\n",
    "\n",
    "print(Eij - Eij.T)\n",
    "print(Eji - Eji.T)"
   ]
  },
  {
   "cell_type": "code",
   "execution_count": 342,
   "metadata": {},
   "outputs": [
    {
     "data": {
      "text/plain": [
       "-0.9999999999999999"
      ]
     },
     "execution_count": 342,
     "metadata": {},
     "output_type": "execute_result"
    }
   ],
   "source": [
    "from opentn.stiefel import canonical_metric\n",
    "delta1 = x @ (Eij - Eij.T)\n",
    "delta2 = x @ (Eji - Eji.T)\n",
    "canonical_metric(delta1, delta2, x)\n",
    "# -1 is the result, which shows that they are the negative of each other, and therefore not orthogonal"
   ]
  },
  {
   "cell_type": "code",
   "execution_count": 442,
   "metadata": {},
   "outputs": [
    {
     "name": "stdout",
     "output_type": "stream",
     "text": [
      "-1.0263416486754031e-48\n",
      "0.0\n"
     ]
    }
   ],
   "source": [
    "# would the elements in the upper diagonal be orthogonal?\n",
    "# 1: (0,1)\n",
    "# 6: (1,2)\n",
    "print(canonical_metric(get_elementary_tangent_direction(1,x), get_elementary_tangent_direction(6,x), x)) # so yes, basically orthogonal\n",
    "print(canonical_metric(get_elementary_tangent_direction(1,x), get_elementary_tangent_direction(5,x), x)) # this is also zero, but for the wrong reasons?\n",
    "# the element at the main diagonal for real values is all zero, so is this really something meaningful??\n"
   ]
  },
  {
   "cell_type": "markdown",
   "metadata": {},
   "source": [
    "\n",
    "Similarly, we see that the element (i,j) and (j,i) are not linearly independent, as these are the negative of each other. So the only linearly independent are the UPPER DIAGONAL! This correspondents to the idea of unit vector being orthogonal to each other, and therefore spanning the whole space! So this means, that we only need the UPPER DIAGONAL to span the antisymmetric part of the tangent space!!!"
   ]
  },
  {
   "cell_type": "code",
   "execution_count": 343,
   "metadata": {},
   "outputs": [
    {
     "name": "stdout",
     "output_type": "stream",
     "text": [
      "[[ 0. +0.j  -0.5+0.5j  0. +0.j   0. +0.j ]\n",
      " [ 0.5+0.5j  0. +0.j   0. +0.j   0. +0.j ]\n",
      " [ 0. +0.j   0. +0.j   0. +0.j   0. +0.j ]\n",
      " [ 0. +0.j   0. +0.j   0. +0.j   0. +0.j ]]\n",
      "[[ 0. +0.j   0.5+0.5j  0. +0.j   0. +0.j ]\n",
      " [-0.5+0.5j  0. +0.j   0. +0.j   0. +0.j ]\n",
      " [ 0. +0.j   0. +0.j   0. +0.j   0. +0.j ]\n",
      " [ 0. +0.j   0. +0.j   0. +0.j   0. +0.j ]]\n"
     ]
    },
    {
     "data": {
      "text/plain": [
       "0.0"
      ]
     },
     "execution_count": 343,
     "metadata": {},
     "output_type": "execute_result"
    }
   ],
   "source": [
    "from rqcopt.util import real_to_antisymm\n",
    "print(real_to_antisymm(Eji)), print(real_to_antisymm(Eij)) # only for squared matrices!\n",
    "\n",
    "canonical_metric(x@real_to_antisymm(Eji), x@real_to_antisymm(Eij), x)"
   ]
  },
  {
   "cell_type": "markdown",
   "metadata": {},
   "source": [
    "this does not look like \"just\" the negative of the Eij one tho! This is confirmed by the inner product being zero, which means that they are orthogonal!! (which does not happen for the real case). NOTE, however, that this is because we are trying to span the complex antisymmetric space. So in theory all the p^2 elements should count. If this is true, this should also be the case for the main diagonal terms, lets try:"
   ]
  },
  {
   "cell_type": "code",
   "execution_count": 348,
   "metadata": {},
   "outputs": [
    {
     "name": "stdout",
     "output_type": "stream",
     "text": [
      "[[0.+1.j 0.+0.j 0.+0.j 0.+0.j]\n",
      " [0.+0.j 0.+0.j 0.+0.j 0.+0.j]\n",
      " [0.+0.j 0.+0.j 0.+0.j 0.+0.j]\n",
      " [0.+0.j 0.+0.j 0.+0.j 0.+0.j]]\n"
     ]
    },
    {
     "data": {
      "text/plain": [
       "-2.8224395338573586e-48"
      ]
     },
     "execution_count": 348,
     "metadata": {},
     "output_type": "execute_result"
    }
   ],
   "source": [
    "E00 = get_k_unit_matrix(dim0=p, dim1=p, k=0)\n",
    "print(real_to_antisymm(E00))\n",
    "canonical_metric(x@real_to_antisymm(E00), x@real_to_antisymm(Eij), x)\n",
    "# it is numerically zero, as expected."
   ]
  },
  {
   "cell_type": "markdown",
   "metadata": {},
   "source": [
    "# Next: increase rank with non zero elements??"
   ]
  },
  {
   "cell_type": "markdown",
   "metadata": {},
   "source": [
    "## rank 4"
   ]
  },
  {
   "cell_type": "code",
   "execution_count": 443,
   "metadata": {},
   "outputs": [
    {
     "data": {
      "text/plain": [
       "(2,\n",
       " array([3.60653066e+00, 3.93469340e-01, 1.44707238e-16, 5.22606002e-17,\n",
       "        3.33041711e-17, 1.67385555e-17, 7.66005602e-18, 4.38715177e-18,\n",
       "        1.09656020e-32, 4.48415516e-34, 5.48225984e-50, 0.00000000e+00,\n",
       "        0.00000000e+00, 0.00000000e+00, 0.00000000e+00, 0.00000000e+00]))"
      ]
     },
     "execution_count": 443,
     "metadata": {},
     "output_type": "execute_result"
    }
   ],
   "source": [
    "from opentn.transformations import super2choi\n",
    "np.linalg.matrix_rank(super2choi(exp_nn_odd)), np.linalg.svd(super2choi(exp_nn_odd), compute_uv=False)"
   ]
  },
  {
   "cell_type": "code",
   "execution_count": 454,
   "metadata": {},
   "outputs": [
    {
     "name": "stdout",
     "output_type": "stream",
     "text": [
      "[(16, 4), (16, 4), (16, 4)]\n",
      "0.14312675894435714\n"
     ]
    }
   ],
   "source": [
    "xs_stiefel_rank4 = [super2ortho(x.real, rank=4) for x in [exp_nn_odd, exp_nn_even, exp_nn_odd]]\n",
    "print([op.shape for op in xs_stiefel_rank4])\n",
    "print(f_stiefel(xs_stiefel_rank4))"
   ]
  },
  {
   "cell_type": "code",
   "execution_count": 549,
   "metadata": {},
   "outputs": [
    {
     "name": "stdout",
     "output_type": "stream",
     "text": [
      "iteration: 0\n",
      "column : 0\n",
      "column : 1\n",
      "column : 2\n",
      "radius 0.02\n",
      "iteration: 1\n",
      "column : 0\n",
      "column : 1\n",
      "column : 2\n",
      "radius 0.02\n",
      "iteration: 2\n",
      "column : 0\n",
      "column : 1\n",
      "column : 2\n",
      "radius 0.02\n",
      "iteration: 3\n",
      "column : 0\n",
      "column : 1\n",
      "column : 2\n",
      "radius 0.04\n",
      "iteration: 4\n",
      "column : 0\n",
      "column : 1\n",
      "column : 2\n",
      "radius 0.01\n",
      "iteration: 5\n",
      "column : 0\n",
      "column : 1\n",
      "column : 2\n",
      "radius 0.02\n",
      "iteration: 6\n",
      "column : 0\n",
      "column : 1\n",
      "column : 2\n",
      "radius 0.04\n",
      "iteration: 7\n",
      "column : 0\n",
      "column : 1\n",
      "column : 2\n",
      "radius 0.01\n",
      "iteration: 8\n",
      "column : 0\n",
      "column : 1\n",
      "column : 2\n",
      "radius 0.02\n",
      "iteration: 9\n",
      "column : 0\n",
      "column : 1\n",
      "column : 2\n",
      "radius 0.04\n",
      "iteration: 10\n",
      "column : 0\n",
      "column : 1\n",
      "column : 2\n",
      "radius 0.04\n",
      "iteration: 11\n",
      "column : 0\n",
      "column : 1\n",
      "column : 2\n",
      "radius 0.04\n",
      "iteration: 12\n",
      "column : 0\n",
      "column : 1\n",
      "column : 2\n",
      "radius 0.01\n",
      "iteration: 13\n",
      "column : 0\n",
      "column : 1\n",
      "column : 2\n",
      "radius 0.02\n",
      "iteration: 14\n",
      "column : 0\n",
      "column : 1\n",
      "column : 2\n",
      "radius 0.02\n",
      "iteration: 15\n",
      "column : 0\n",
      "column : 1\n",
      "column : 2\n",
      "radius 0.02\n",
      "iteration: 16\n",
      "column : 0\n",
      "column : 1\n",
      "column : 2\n",
      "radius 0.005\n",
      "iteration: 17\n",
      "column : 0\n",
      "column : 1\n",
      "column : 2\n",
      "radius 0.01\n",
      "iteration: 18\n",
      "column : 0\n",
      "column : 1\n",
      "column : 2\n",
      "radius 0.0025\n",
      "iteration: 19\n",
      "column : 0\n",
      "column : 1\n",
      "column : 2\n",
      "radius 0.0025\n",
      "iteration: 20\n",
      "column : 0\n",
      "column : 1\n",
      "column : 2\n",
      "radius 0.005\n",
      "iteration: 21\n",
      "column : 0\n",
      "column : 1\n",
      "column : 2\n",
      "radius 0.00125\n",
      "iteration: 22\n",
      "column : 0\n",
      "column : 1\n",
      "column : 2\n",
      "radius 0.0025\n",
      "iteration: 23\n",
      "column : 0\n",
      "column : 1\n",
      "column : 2\n",
      "radius 0.0025\n",
      "iteration: 24\n",
      "column : 0\n",
      "column : 1\n",
      "column : 2\n",
      "radius 0.0025\n",
      "iteration: 25\n",
      "column : 0\n",
      "column : 1\n",
      "column : 2\n",
      "radius 0.005\n",
      "iteration: 26\n",
      "column : 0\n",
      "column : 1\n",
      "column : 2\n",
      "radius 0.005\n",
      "iteration: 27\n",
      "column : 0\n",
      "column : 1\n",
      "column : 2\n",
      "radius 0.00125\n",
      "iteration: 28\n",
      "column : 0\n",
      "column : 1\n",
      "column : 2\n",
      "radius 0.0025\n",
      "iteration: 29\n",
      "column : 0\n",
      "column : 1\n",
      "column : 2\n",
      "radius 0.0025\n",
      "iteration: 30\n",
      "column : 0\n",
      "column : 1\n",
      "column : 2\n",
      "radius 0.000625\n",
      "iteration: 31\n",
      "column : 0\n",
      "column : 1\n",
      "column : 2\n",
      "radius 0.00015625\n",
      "iteration: 32\n",
      "column : 0\n",
      "column : 1\n",
      "column : 2\n",
      "radius 0.0003125\n",
      "iteration: 33\n",
      "column : 0\n",
      "column : 1\n",
      "column : 2\n",
      "radius 0.000625\n",
      "iteration: 34\n",
      "column : 0\n",
      "column : 1\n",
      "column : 2\n",
      "radius 0.00015625\n",
      "iteration: 35\n",
      "column : 0\n",
      "column : 1\n",
      "column : 2\n",
      "radius 0.0003125\n",
      "iteration: 36\n",
      "column : 0\n",
      "column : 1\n",
      "column : 2\n",
      "radius 0.000625\n",
      "iteration: 37\n",
      "column : 0\n",
      "column : 1\n",
      "column : 2\n",
      "radius 0.000625\n",
      "iteration: 38\n",
      "column : 0\n",
      "column : 1\n",
      "column : 2\n",
      "radius 0.000625\n",
      "iteration: 39\n",
      "column : 0\n",
      "column : 1\n",
      "column : 2\n",
      "radius 0.000625\n"
     ]
    }
   ],
   "source": [
    "# optimization with twice the rank as before to see if we can achieve a better result\n",
    "xs_canon_rank4_1, f_canon_rank4_1, err_canon_rank4_1, radius_canon_rank4_1 = riemannian_trust_region_optimize(\n",
    "    f_stiefel, retract_stiefel, grad_stiefel_canon, hessian_stiefel_canon, xs_stiefel_rank4, save_x=True, niter=40\n",
    ")\n",
    "\n",
    "# we see from this that it actually improves, but not that much, it also shows a fast saturation after the 10th iteration.\n",
    "# what we can try however, is to keep increasing the rank and if not to fill those zeros with \"small numbers.\""
   ]
  },
  {
   "cell_type": "markdown",
   "metadata": {},
   "source": [
    "## rank 8"
   ]
  },
  {
   "cell_type": "code",
   "execution_count": 456,
   "metadata": {},
   "outputs": [
    {
     "name": "stdout",
     "output_type": "stream",
     "text": [
      "[(32, 4), (32, 4), (32, 4)]\n",
      "0.14312675894435717\n"
     ]
    }
   ],
   "source": [
    "xs_stiefel_rank8 = [super2ortho(x.real, rank=8, eps=1e-50) for x in [exp_nn_odd, exp_nn_even, exp_nn_odd]]\n",
    "print([op.shape for op in xs_stiefel_rank8])\n",
    "print(f_stiefel(xs_stiefel_rank8))"
   ]
  },
  {
   "cell_type": "code",
   "execution_count": 460,
   "metadata": {},
   "outputs": [
    {
     "name": "stdout",
     "output_type": "stream",
     "text": [
      "iteration: 0\n",
      "column : 0\n",
      "column : 1\n",
      "column : 2\n",
      "radius 0.02\n",
      "iteration: 1\n",
      "column : 0\n",
      "column : 1\n",
      "column : 2\n",
      "radius 0.02\n",
      "iteration: 2\n",
      "column : 0\n",
      "column : 1\n",
      "column : 2\n",
      "radius 0.02\n",
      "iteration: 3\n",
      "column : 0\n",
      "column : 1\n",
      "column : 2\n",
      "radius 0.04\n",
      "iteration: 4\n",
      "column : 0\n",
      "column : 1\n",
      "column : 2\n",
      "radius 0.01\n",
      "iteration: 5\n",
      "column : 0\n",
      "column : 1\n",
      "column : 2\n",
      "radius 0.02\n",
      "iteration: 6\n",
      "column : 0\n",
      "column : 1\n",
      "column : 2\n",
      "radius 0.02\n",
      "iteration: 7\n",
      "column : 0\n",
      "column : 1\n",
      "column : 2\n",
      "radius 0.04\n",
      "iteration: 8\n",
      "column : 0\n",
      "column : 1\n",
      "column : 2\n",
      "radius 0.01\n",
      "iteration: 9\n",
      "column : 0\n",
      "column : 1\n",
      "column : 2\n",
      "radius 0.02\n",
      "iteration: 10\n",
      "column : 0\n",
      "column : 1\n",
      "column : 2\n",
      "radius 0.02\n",
      "iteration: 11\n",
      "column : 0\n",
      "column : 1\n",
      "column : 2\n",
      "radius 0.04\n",
      "iteration: 12\n",
      "column : 0\n",
      "column : 1\n",
      "column : 2\n",
      "radius 0.01\n",
      "iteration: 13\n",
      "column : 0\n",
      "column : 1\n",
      "column : 2\n",
      "radius 0.02\n",
      "iteration: 14\n",
      "column : 0\n",
      "column : 1\n",
      "column : 2\n",
      "radius 0.005\n",
      "iteration: 15\n",
      "column : 0\n",
      "column : 1\n",
      "column : 2\n",
      "radius 0.01\n",
      "iteration: 16\n",
      "column : 0\n",
      "column : 1\n",
      "column : 2\n",
      "radius 0.02\n",
      "iteration: 17\n",
      "column : 0\n",
      "column : 1\n",
      "column : 2\n",
      "radius 0.005\n",
      "iteration: 18\n",
      "column : 0\n",
      "column : 1\n",
      "column : 2\n",
      "radius 0.01\n",
      "iteration: 19\n",
      "column : 0\n",
      "column : 1\n",
      "column : 2\n",
      "radius 0.0025\n"
     ]
    }
   ],
   "source": [
    "xs_canon_rank8_1, f_canon_rank8_1, err_canon_rank8_1, radius_canon_rank8_1 = riemannian_trust_region_optimize(\n",
    "    f_stiefel, retract_stiefel, grad_stiefel_canon, hessian_stiefel_canon, xs_stiefel_rank8, niter=20\n",
    ")"
   ]
  },
  {
   "cell_type": "code",
   "execution_count": 550,
   "metadata": {},
   "outputs": [
    {
     "data": {
      "text/plain": [
       "<matplotlib.legend.Legend at 0x7fac92f2f040>"
      ]
     },
     "execution_count": 550,
     "metadata": {},
     "output_type": "execute_result"
    },
    {
     "data": {
      "image/png": "[encoded data removed]",
      "text/plain": [
       "<Figure size 1200x800 with 1 Axes>"
      ]
     },
     "metadata": {
      "needs_background": "light"
     },
     "output_type": "display_data"
    }
   ],
   "source": [
    "plt.figure(dpi=200)\n",
    "plt.ylabel('cost function')\n",
    "plt.xlabel('iterations')\n",
    "plt.plot(f_pbc_canon_1 + f_pbc_canon_2, '--', label='canonical + PTD + rank2')\n",
    "plt.plot(f_pbc_canon_upd_1 + f_pbc_canon_upd_2, '--', label='canonical + ETD + rank2')\n",
    "plt.plot(f_canon_rank4_1, '--', label='canonical + ETD + rank4')\n",
    "plt.plot(f_canon_rank8_1, '--', label='canonical + ETD + rank8')\n",
    "plt.legend()"
   ]
  },
  {
   "cell_type": "markdown",
   "metadata": {},
   "source": [
    "## NOTE:\n",
    "increasing the rank does improve the optimization, but not as much as one would expect. Eventho the rank 8 decreases faster, it ends up in the same position as the rank 4 at iteration 20.\n",
    "\n",
    "## NEXT:\n",
    "let's see again what are the rank of the full thing, the odd, even layer, and see what kind of elements are in the spaces we \"add\" when increasing the rank, and what is the general trend (whether they increase, how much, are the x's getting significantly farther from the original ansatz? Constantly?)"
   ]
  },
  {
   "cell_type": "code",
   "execution_count": 465,
   "metadata": {},
   "outputs": [
    {
     "data": {
      "text/plain": [
       "[45, 4, 4]"
      ]
     },
     "execution_count": 465,
     "metadata": {},
     "output_type": "execute_result"
    }
   ],
   "source": [
    "[np.linalg.matrix_rank(super2choi(op)) for op in [exp_Lvec, exp_Lvec_odd, exp_Lvec_even]]\n",
    "# this is really interesting. The odd and even layer rank matches what we expect\n",
    "# but the full one has a lower rank than in the full-layer nopbc. Does this make sense?"
   ]
  },
  {
   "cell_type": "code",
   "execution_count": 470,
   "metadata": {},
   "outputs": [
    {
     "data": {
      "text/plain": [
       "((256, 256),\n",
       " array([8.06965294e+00, 1.97212888e+00, 1.62365416e+00, 1.62365416e+00,\n",
       "        6.22680898e-01, 4.61525866e-01, 2.82932950e-01, 2.37880446e-01,\n",
       "        1.60479645e-01, 1.60479645e-01, 1.46943462e-01, 1.09316489e-01,\n",
       "        9.45388657e-02, 9.45388657e-02, 5.09576643e-02, 3.55505995e-02,\n",
       "        3.47648401e-02, 3.33687580e-02, 3.33687580e-02, 2.25329114e-02,\n",
       "        2.25329114e-02, 1.58359837e-02, 1.58359837e-02, 1.52212026e-02,\n",
       "        1.31542701e-02, 7.10473720e-03, 6.41803007e-03, 5.88867647e-03,\n",
       "        2.72449770e-03, 2.72449770e-03, 2.37015931e-03, 2.37015931e-03,\n",
       "        2.26224513e-03, 1.95115184e-03, 1.89145766e-03, 1.67185792e-03,\n",
       "        1.67185792e-03, 1.45312873e-03, 1.12308860e-03, 1.08955498e-03,\n",
       "        1.01331907e-03, 7.89787715e-04, 7.89787715e-04, 5.80422127e-04,\n",
       "        5.80422127e-04, 3.56954953e-15, 1.19137712e-15, 9.93966135e-16]))"
      ]
     },
     "execution_count": 470,
     "metadata": {},
     "output_type": "execute_result"
    }
   ],
   "source": [
    "exp_Lvec.shape, np.linalg.svd(super2choi(exp_Lvec),compute_uv=False)[:48]"
   ]
  },
  {
   "cell_type": "code",
   "execution_count": 482,
   "metadata": {},
   "outputs": [
    {
     "data": {
      "text/plain": [
       "True"
      ]
     },
     "execution_count": 482,
     "metadata": {},
     "output_type": "execute_result"
    }
   ],
   "source": [
    "# I re-ran the optimization with the updated trust region method so we can access to all the x's. Let's see\n",
    "np.allclose(xs_canon_rank4_1[0][0], xs_stiefel_rank4[0])"
   ]
  },
  {
   "cell_type": "code",
   "execution_count": 497,
   "metadata": {},
   "outputs": [
    {
     "data": {
      "text/plain": [
       "array([[-1.00000000e+00, -2.16214860e-16],\n",
       "       [ 0.00000000e+00, -8.70513862e-17],\n",
       "       [ 0.00000000e+00,  0.00000000e+00],\n",
       "       [ 0.00000000e+00,  0.00000000e+00],\n",
       "       [ 0.00000000e+00,  0.00000000e+00],\n",
       "       [-8.89400392e-01,  3.13635673e-01],\n",
       "       [-1.10599608e-01, -3.13635673e-01],\n",
       "       [ 0.00000000e+00,  0.00000000e+00],\n",
       "       [ 0.00000000e+00,  0.00000000e+00],\n",
       "       [-1.10599608e-01,  3.13635673e-01],\n",
       "       [-8.89400392e-01, -3.13635673e-01],\n",
       "       [ 0.00000000e+00,  0.00000000e+00],\n",
       "       [ 0.00000000e+00,  0.00000000e+00],\n",
       "       [ 0.00000000e+00,  0.00000000e+00],\n",
       "       [ 0.00000000e+00,  0.00000000e+00],\n",
       "       [-1.00000000e+00,  4.85302597e-17]])"
      ]
     },
     "execution_count": 497,
     "metadata": {},
     "output_type": "execute_result"
    }
   ],
   "source": [
    "# 1. how does the elements that are added when increasing the rank to 4 look like:\n",
    "from opentn.transformations import find_nonzero\n",
    "([ortho2choi(op) for op in xs_pbc_stiefel][0]) # each of them as shape (16,2) = (in*out, rank)"
   ]
  },
  {
   "cell_type": "code",
   "execution_count": 535,
   "metadata": {},
   "outputs": [
    {
     "name": "stdout",
     "output_type": "stream",
     "text": [
      "[[-1.00000000e+00 -2.16214860e-16 -1.01383636e-08 -3.84255121e-09]\n",
      " [ 0.00000000e+00 -8.70513862e-17  7.81419281e-10  6.57852571e-10]\n",
      " [ 0.00000000e+00  0.00000000e+00 -1.35558665e-23  4.72807967e-24]\n",
      " [ 0.00000000e+00  0.00000000e+00  0.00000000e+00 -1.99077039e-24]\n",
      " [ 0.00000000e+00  0.00000000e+00  0.00000000e+00  0.00000000e+00]\n",
      " [-8.89400392e-01  3.13635673e-01  6.57490500e-09 -2.23779759e-09]\n",
      " [-1.10599608e-01 -3.13635673e-01  1.03807694e-09 -1.81869313e-09]\n",
      " [ 0.00000000e+00  0.00000000e+00  0.00000000e+00  0.00000000e+00]\n",
      " [ 0.00000000e+00  0.00000000e+00  0.00000000e+00  0.00000000e+00]\n",
      " [-1.10599608e-01  3.13635673e-01  1.01244101e-09 -9.48477032e-10]\n",
      " [-8.89400392e-01 -3.13635673e-01  6.54926907e-09 -1.36758150e-09]\n",
      " [ 0.00000000e+00  0.00000000e+00  0.00000000e+00  0.00000000e+00]\n",
      " [ 0.00000000e+00  0.00000000e+00  0.00000000e+00  0.00000000e+00]\n",
      " [ 0.00000000e+00  0.00000000e+00  0.00000000e+00  0.00000000e+00]\n",
      " [ 0.00000000e+00  0.00000000e+00  0.00000000e+00  0.00000000e+00]\n",
      " [-1.00000000e+00  4.85302597e-17 -1.76106841e-09  7.35522472e-09]]\n"
     ]
    }
   ],
   "source": [
    "print([ortho2choi(op) for op in xs_stiefel_rank4][2])\n",
    "# some of teh values are really small (e-23) but others are (only one) in 1e-8 order."
   ]
  },
  {
   "cell_type": "code",
   "execution_count": 503,
   "metadata": {},
   "outputs": [
    {
     "name": "stdout",
     "output_type": "stream",
     "text": [
      "[[-9.99989437e-01  7.18349736e-04  3.95470993e-03 -2.13339849e-03]\n",
      " [ 4.75133004e-06 -1.90232008e-04 -2.64374015e-05  6.40985081e-06]\n",
      " [ 5.61937369e-04  1.97977563e-04 -2.08502141e-06  4.07291877e-06]\n",
      " [ 5.67992119e-07 -2.29714046e-09  2.52127375e-07  1.74972128e-07]\n",
      " [ 7.53438389e-05 -2.52458832e-07 -3.71063725e-06 -5.58891154e-07]\n",
      " [-8.86032491e-01  3.22325647e-01  2.58035926e-02 -1.15869981e-02]\n",
      " [-1.12029391e-01 -3.10880158e-01  2.96440103e-02 -1.32653796e-02]\n",
      " [ 6.45405038e-04 -8.61331719e-07 -2.19990619e-06  1.04255043e-06]\n",
      " [-6.43106894e-04 -1.11548935e-07  4.25495452e-06 -2.65767780e-06]\n",
      " [-1.11613444e-01  3.10398785e-01  3.48186202e-02 -1.53238662e-02]\n",
      " [-8.86513510e-01 -3.21455815e-01  2.04579944e-02 -9.44664405e-03]\n",
      " [-7.53099500e-05 -1.12985997e-06 -2.83480819e-06  6.81360798e-08]\n",
      " [-4.68303764e-07 -8.75507666e-09  4.33941307e-07 -1.38844853e-07]\n",
      " [-5.64058862e-04  1.98371960e-04  9.25648732e-06 -4.27910428e-06]\n",
      " [-5.09856765e-06 -1.90250010e-04  1.70830476e-05 -8.56339404e-06]\n",
      " [-9.99989487e-01  7.18629992e-04  3.99784148e-03 -2.02574363e-03]]\n"
     ]
    }
   ],
   "source": [
    "print(ortho2choi(xs_canon_rank4_1[-1][0]))"
   ]
  },
  {
   "cell_type": "code",
   "execution_count": 551,
   "metadata": {},
   "outputs": [],
   "source": [
    "# lets to a proper graph of the norm difference for x1, x2, x3 over the 20 iterations:\n",
    "diff_xs = [[] for _ in range(3)] # NOTE: doing [[]]*3 wont work because it points to the same empty list object in memory and modifies all of them\n",
    "for x_iter in xs_canon_rank4_1:\n",
    "    for j, x in enumerate(x_iter):\n",
    "        diff_xs[j].append(np.linalg.norm(x - xs_stiefel_rank4[j])/np.linalg.norm(xs_stiefel_rank4[j]))"
   ]
  },
  {
   "cell_type": "code",
   "execution_count": 552,
   "metadata": {},
   "outputs": [
    {
     "data": {
      "text/plain": [
       "<matplotlib.legend.Legend at 0x7fac92f2fa30>"
      ]
     },
     "execution_count": 552,
     "metadata": {},
     "output_type": "execute_result"
    },
    {
     "data": {
      "image/png": "[encoded data removed]",
      "text/plain": [
       "<Figure size 1200x800 with 1 Axes>"
      ]
     },
     "metadata": {
      "needs_background": "light"
     },
     "output_type": "display_data"
    }
   ],
   "source": [
    "plt.figure(dpi=200)\n",
    "plt.ylabel('relative norm difference')\n",
    "plt.xlabel('iterations')\n",
    "for i, diff_xi in enumerate(diff_xs):\n",
    "    plt.plot(diff_xi, '--', label=f'{i}-th layer')\n",
    "plt.legend()"
   ]
  },
  {
   "cell_type": "markdown",
   "metadata": {},
   "source": [
    "# More layers\n",
    "(12.11.23)\n",
    "\n",
    "- see how the error changes as the number of layers increases \n",
    "    1. for the second order trotterization (odd-even-odd)\n",
    "    2. For the optimized one\n",
    "- change to parametrize the tangent space only using the upper diagonal of the antisymmetric matrix."
   ]
  },
  {
   "cell_type": "code",
   "execution_count": 576,
   "metadata": {},
   "outputs": [
    {
     "name": "stdout",
     "output_type": "stream",
     "text": [
      "0.004068275368499596\n"
     ]
    }
   ],
   "source": [
    "# local dimension, number of sites, noise strength\n",
    "d, N, gamma = 2, 4, 1\n",
    "# final time. Choosen this high to get a considerable error (to avoid optimizing near the numerical-zero regime)\n",
    "tau = 4\n",
    "from opentn.optimization import compute_kitaev_approximation_error\n",
    "print(compute_kitaev_approximation_error(d, N, gamma, tau, n=6))\n"
   ]
  },
  {
   "cell_type": "code",
   "execution_count": 577,
   "metadata": {},
   "outputs": [
    {
     "name": "stdout",
     "output_type": "stream",
     "text": [
      "0.004068275368499596\n"
     ]
    }
   ],
   "source": []
  },
  {
   "cell_type": "code",
   "execution_count": null,
   "metadata": {},
   "outputs": [],
   "source": []
  }
 ],
 "metadata": {
  "kernelspec": {
   "display_name": "thesis",
   "language": "python",
   "name": "python3"
  },
  "language_info": {
   "codemirror_mode": {
    "name": "ipython",
    "version": 3
   },
   "file_extension": ".py",
   "mimetype": "text/x-python",
   "name": "python",
   "nbconvert_exporter": "python",
   "pygments_lexer": "ipython3",
   "version": "3.10.4"
  },
  "orig_nbformat": 4
 },
 "nbformat": 4,
 "nbformat_minor": 2
}
