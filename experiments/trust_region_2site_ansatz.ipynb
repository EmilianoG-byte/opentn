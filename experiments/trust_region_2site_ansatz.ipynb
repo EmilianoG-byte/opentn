{
 "cells": [
  {
   "cell_type": "code",
   "execution_count": 1,
   "metadata": {},
   "outputs": [],
   "source": [
    "import numpy as np\n",
    "import rqcopt as oc\n",
    "import sys\n",
    "sys.path.append('..')\n",
    "%load_ext autoreload\n",
    "%autoreload 2\n",
    "import jax\n",
    "from jax import config\n",
    "config.update(\"jax_enable_x64\", True)\n",
    "import jax.numpy as jnp\n",
    "import scipy"
   ]
  },
  {
   "cell_type": "code",
   "execution_count": 105,
   "metadata": {},
   "outputs": [],
   "source": [
    "# setup for problem\n",
    "# get the setup for the problem\n",
    "from opentn.transformations import create_kitaev_liouvillians, exp_operator_dt, factorize_psd, super2choi\n",
    "d, N, gamma = 2, 4, 1\n",
    "tau = 1\n",
    "dim = d**N\n",
    "Lvec, Lvec_odd, Lvec_even, Lnn = create_kitaev_liouvillians(N=N, d=d, gamma=gamma)\n",
    "superops_exp = []\n",
    "for i, op in enumerate([Lvec, Lvec_odd, Lvec_even]):\n",
    "    if i == 1:\n",
    "        superops_exp.append(exp_operator_dt(op, tau/2, 'jax'))\n",
    "    else:\n",
    "        superops_exp.append(exp_operator_dt(op, tau, 'jax'))\n",
    "exp_Lvec, exp_Lvec_odd, exp_Lvec_even = superops_exp\n",
    "\n",
    "# 2 site superoperator ansatz\n",
    "from opentn.transformations import lindbladian2super, create_supertensored_from_local\n",
    "superop_nn = lindbladian2super(Li=[Lnn])\n",
    "exp_nn_odd = exp_operator_dt(superop_nn, tau=tau/2, library='jax')\n",
    "exp_nn_even = exp_operator_dt(superop_nn, tau=tau, library='jax')"
   ]
  },
  {
   "cell_type": "code",
   "execution_count": 71,
   "metadata": {},
   "outputs": [],
   "source": [
    "# TODO: missing to create the model that takes 3 ws and turns them into 3 full Ys.\n",
    "# TODO: model Zs does something similar but only for 1 layer.\n",
    "# the one for the middle layer should somehow look different in any case, because it needs to be shifted with the periodic boundary condition.\n",
    "# since the exp is anyways left without the BC, for now I think I can just ommit it (as usual\n",
    "# TODO: the cost function should have the input as isometries."
   ]
  },
  {
   "cell_type": "code",
   "execution_count": 72,
   "metadata": {},
   "outputs": [
    {
     "name": "stdout",
     "output_type": "stream",
     "text": [
      "False\n"
     ]
    },
    {
     "data": {
      "text/plain": [
       "array([[0.+0.j, 0.+0.j, 1.+0.j, 0.+0.j],\n",
       "       [0.+0.j, 0.+0.j, 0.+0.j, 1.+0.j],\n",
       "       [1.+0.j, 0.+0.j, 0.+0.j, 0.+0.j],\n",
       "       [0.+0.j, 1.+0.j, 0.+0.j, 0.+0.j]])"
      ]
     },
     "execution_count": 72,
     "metadata": {},
     "output_type": "execute_result"
    }
   ],
   "source": [
    "from opentn.states.qubits import X\n",
    "\n",
    "Inn = np.eye(d**2)\n",
    "I_vec = lindbladian2super(Li=[Inn]) # this is all zeros\n",
    "even_test = np.kron(I_vec, exp_nn_even)\n",
    "print(np.allclose(even_test, exp_Lvec_even)) # as expected they are not the same, but how about after permutation? NO! since the first thing is all zeros\n",
    "def permute_operation(U: np.ndarray, perm):\n",
    "    \"\"\"\n",
    "    Find the representation of a matrix after permuting lattice sites.\n",
    "    \"\"\"\n",
    "    nsites = len(perm)\n",
    "    assert U.shape == (2**nsites, 2**nsites)\n",
    "    perm = list(perm)\n",
    "    U = np.reshape(U, (2*nsites) * (2,))\n",
    "    U = np.transpose(U, perm + [nsites + p for p in perm])\n",
    "    U = np.reshape(U, (2**nsites, 2**nsites))\n",
    "    return U\n",
    "\n",
    "\n",
    "permute_operation(np.kron(np.eye(2),X), [1,0])\n"
   ]
  },
  {
   "cell_type": "code",
   "execution_count": 77,
   "metadata": {},
   "outputs": [
    {
     "name": "stdout",
     "output_type": "stream",
     "text": [
      "True True\n",
      "(256, 256)\n"
     ]
    }
   ],
   "source": [
    "# how would we vectorize the identity?\n",
    "from opentn.transformations import vectorize_dissipative, vectorize_hamiltonian, dissipative2liouvillian_full\n",
    "print(np.allclose(vectorize_dissipative(Inn), np.zeros((d**4,d**4))), np.allclose(vectorize_hamiltonian(Inn), np.zeros((d**4,d**4))))\n",
    "# as wrote out on paper, the identity \"vectorized\" is just zero\n",
    "# instead maybe I should write it like just a big identity, reshufle and see if this is e\n",
    "print(dissipative2liouvillian_full(L=Lnn, i=1, N=N, num_sites=2).shape)"
   ]
  },
  {
   "cell_type": "code",
   "execution_count": 106,
   "metadata": {},
   "outputs": [
    {
     "name": "stdout",
     "output_type": "stream",
     "text": [
      "(256, 256)\n"
     ]
    },
    {
     "data": {
      "text/plain": [
       "True"
      ]
     },
     "execution_count": 106,
     "metadata": {},
     "output_type": "execute_result"
    }
   ],
   "source": [
    "from opentn.transformations import get_indices_supertensored2liouvillianfull\n",
    "I_rest = np.eye(d**4,d**4)\n",
    "# corresponds to site order: (N-1, 0), (1, 2)\n",
    "even_full_test = np.kron(I_rest, exp_nn_even) \n",
    "print(even_full_test.shape)\n",
    "source_indices, destination_indices = get_indices_supertensored2liouvillianfull(N)\n",
    "swaped_test = np.reshape(even_full_test, newshape=[d]*4*N) # 2 for each side (normal and conjugate -> from vectorization)\n",
    "swaped_test = np.moveaxis(swaped_test, source=source_indices, destination=destination_indices)\n",
    "# extra step to enforce PBC\n",
    "idx_permuted = permute_cyclic(list(range(N)), 1) + permute_cyclic(list(range(N,2*N)), 1)\n",
    "swaped_test = np.transpose(swaped_test, idx_permuted + list(np.array(idx_permuted) + 2*N))\n",
    "swaped_test = np.reshape(swaped_test, newshape=even_full_test.shape)\n",
    "np.allclose(swaped_test, exp_Lvec_even)"
   ]
  },
  {
   "cell_type": "code",
   "execution_count": null,
   "metadata": {},
   "outputs": [],
   "source": []
  }
 ],
 "metadata": {
  "kernelspec": {
   "display_name": "thesis",
   "language": "python",
   "name": "python3"
  },
  "language_info": {
   "codemirror_mode": {
    "name": "ipython",
    "version": 3
   },
   "file_extension": ".py",
   "mimetype": "text/x-python",
   "name": "python",
   "nbconvert_exporter": "python",
   "pygments_lexer": "ipython3",
   "version": "3.10.4"
  },
  "orig_nbformat": 4
 },
 "nbformat": 4,
 "nbformat_minor": 2
}
