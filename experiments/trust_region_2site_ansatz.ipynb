{
 "cells": [
  {
   "cell_type": "code",
   "execution_count": 42,
   "metadata": {},
   "outputs": [
    {
     "name": "stdout",
     "output_type": "stream",
     "text": [
      "The autoreload extension is already loaded. To reload it, use:\n",
      "  %reload_ext autoreload\n"
     ]
    }
   ],
   "source": [
    "import numpy as np\n",
    "import rqcopt as oc\n",
    "import sys\n",
    "sys.path.append('..')\n",
    "%load_ext autoreload\n",
    "%autoreload 2\n",
    "import jax\n",
    "from jax import config\n",
    "config.update(\"jax_enable_x64\", True)\n",
    "import jax.numpy as jnp\n",
    "import scipy"
   ]
  },
  {
   "cell_type": "code",
   "execution_count": 74,
   "metadata": {},
   "outputs": [
    {
     "name": "stdout",
     "output_type": "stream",
     "text": [
      "55\n",
      "0.0959176702323516\n"
     ]
    }
   ],
   "source": [
    "# setup for problem\n",
    "# get the setup for the problem\n",
    "from opentn.transformations import create_kitaev_liouvillians, exp_operator_dt, super2choi\n",
    "from opentn.optimization import compose_superops_list, frobenius_norm\n",
    "d, N, gamma = 2, 4, 1\n",
    "tau = 4\n",
    "dim = d**N\n",
    "Lvec, Lvec_odd, Lvec_even, Lnn = create_kitaev_liouvillians(N=N, d=d, gamma=gamma)\n",
    "superops_exp = []\n",
    "for i, op in enumerate([Lvec, Lvec_odd, Lvec_even]):\n",
    "    if i == 1:\n",
    "        superops_exp.append(exp_operator_dt(op, tau/2, 'jax'))\n",
    "    else:\n",
    "        superops_exp.append(exp_operator_dt(op, tau, 'jax'))\n",
    "exp_Lvec, exp_Lvec_odd, exp_Lvec_even = superops_exp\n",
    "\n",
    "# 2 site superoperator ansatz\n",
    "from opentn.transformations import lindbladian2super, create_supertensored_from_local\n",
    "superop_nn = lindbladian2super(Li=[Lnn])\n",
    "exp_nn_odd = exp_operator_dt(superop_nn, tau=tau/2, backend='jax')\n",
    "exp_nn_even = exp_operator_dt(superop_nn, tau=tau, backend='jax')\n",
    "\n",
    "print(np.linalg.matrix_rank(super2choi(exp_Lvec)))\n",
    "print(frobenius_norm(compose_superops_list([exp_Lvec_odd, exp_Lvec_even, exp_Lvec_odd]), exp_Lvec))"
   ]
  },
  {
   "cell_type": "code",
   "execution_count": 75,
   "metadata": {},
   "outputs": [
    {
     "name": "stdout",
     "output_type": "stream",
     "text": [
      "True True\n",
      "(256, 256)\n"
     ]
    }
   ],
   "source": [
    "# how would we vectorize the identity?\n",
    "from opentn.transformations import vectorize_dissipative, vectorize_hamiltonian, dissipative2liouvillian_full\n",
    "Inn = np.eye(d**2)\n",
    "print(np.allclose(vectorize_dissipative(Inn), np.zeros((d**4,d**4))), np.allclose(vectorize_hamiltonian(Inn), np.zeros((d**4,d**4))))\n",
    "# as wrote out on paper, the identity \"vectorized\" is just zero\n",
    "print(dissipative2liouvillian_full(L=Lnn, i=1, N=N, num_sites=2).shape)"
   ]
  },
  {
   "cell_type": "code",
   "execution_count": 76,
   "metadata": {},
   "outputs": [
    {
     "data": {
      "text/plain": [
       "True"
      ]
     },
     "execution_count": 76,
     "metadata": {},
     "output_type": "execute_result"
    }
   ],
   "source": [
    "from opentn.transformations import convert_supertensored2liouvillianfull\n",
    "# corresponds to site order: (N-1, 0), (1, 2)\n",
    "even_full_test = create_supertensored_from_local(exp_nn_even, N=N, pbc=False, layer=1)\n",
    "swaped_test = convert_supertensored2liouvillianfull(even_full_test, N, d, shift_pbc=True)\n",
    "np.allclose(swaped_test, exp_Lvec_even)"
   ]
  },
  {
   "cell_type": "code",
   "execution_count": 77,
   "metadata": {},
   "outputs": [
    {
     "name": "stdout",
     "output_type": "stream",
     "text": [
      "True\n",
      "True\n"
     ]
    }
   ],
   "source": [
    "# now another question I have is even the components I am using would make isometries. CHECK\n",
    "from opentn.transformations import factorize_psd_truncated, choi2ortho\n",
    "from opentn.stiefel import is_isometry_2\n",
    "print(is_isometry_2(choi2ortho(factorize_psd_truncated(super2choi(exp_nn_even.real), chi_max=2))))\n",
    "print(is_isometry_2(choi2ortho(factorize_psd_truncated(super2choi(I_rest), chi_max=d**4))))"
   ]
  },
  {
   "cell_type": "code",
   "execution_count": 78,
   "metadata": {},
   "outputs": [
    {
     "name": "stdout",
     "output_type": "stream",
     "text": [
      "True\n",
      "0.09591767023235137\n"
     ]
    }
   ],
   "source": [
    "test_odd = create_supertensored_from_local(exp_nn_odd, N)\n",
    "test_odd = convert_supertensored2liouvillianfull(test_odd, N, d)\n",
    "print(np.allclose(test_odd@swaped_test@test_odd, exp_Lvec_odd@exp_Lvec_even@exp_Lvec_odd)) # AMAZING\n",
    "print(frobenius_norm(test_odd@swaped_test@test_odd, exp_Lvec))"
   ]
  },
  {
   "cell_type": "markdown",
   "metadata": {},
   "source": [
    "# Next steps:\n",
    "(18 OCT 2023)\n",
    "\n",
    "1. I want the above functions to be a comprehensible framework. What does this mean?\n",
    "    a. Their should be one \"factory\" that takes superop_local -> super_full_liouvillian that takes as argument the parity and shifts (PBC) for the even layer.\n",
    "    b. I need to try this out fully when also changing the exp(L_full) to include the PBC for the term [N-1,0].\n",
    "    c. Include a special case for the non PBC such that this old comparison still works\n",
    "    c. Add even layer to unit tests \n",
    "2. Try optimization with the PBC case for St(N)\n",
    "3. EXTRA: finish creation of identity maps!"
   ]
  },
  {
   "cell_type": "code",
   "execution_count": 79,
   "metadata": {},
   "outputs": [
    {
     "data": {
      "text/plain": [
       "[5, 0, 1, 2, 3, 4]"
      ]
     },
     "execution_count": 79,
     "metadata": {},
     "output_type": "execute_result"
    }
   ],
   "source": [
    "# I need to change now create_2local_liouvillians to include pbc condition\n",
    "from opentn.transformations import permute_cyclic\n",
    "permute_cyclic(list(range(6)), direction='right')\n",
    "# NOTE: a unittest I can write is constructing the same operator once with left and once with right!"
   ]
  },
  {
   "cell_type": "code",
   "execution_count": 80,
   "metadata": {},
   "outputs": [
    {
     "name": "stdout",
     "output_type": "stream",
     "text": [
      "0.14312675894435653\n"
     ]
    }
   ],
   "source": [
    "# trying out again things but with pbc=True!\n",
    "from opentn.transformations import create_trotter_layers\n",
    "\n",
    "d, N, gamma = 2, 4, 1\n",
    "tau = 4\n",
    "\n",
    "Lvec, Lvec_odd, Lvec_even, Lnn = create_kitaev_liouvillians(N=N, d=d, gamma=gamma, pbc=True)\n",
    "exp_Lvec, exp_Lvec_odd, exp_Lvec_even = create_trotter_layers(liouvillians=[Lvec, Lvec_odd, Lvec_even], tau=tau)\n",
    "\n",
    "print(frobenius_norm(compose_superops_list([exp_Lvec_odd, exp_Lvec_even, exp_Lvec_odd]), exp_Lvec))\n",
    "\n",
    "superop_nn = lindbladian2super(Li=[Lnn])\n",
    "\n",
    "exp_nn_odd = exp_operator_dt(superop_nn, tau=tau/2, backend='jax')\n",
    "exp_nn_even = exp_operator_dt(superop_nn, tau=tau, backend='jax')\n",
    "\n",
    "test_even_pbc = create_supertensored_from_local(exp_nn_even, N, pbc=True, layer=1)\n",
    "test_even_pbc = convert_supertensored2liouvillianfull(test_even_pbc, N, d, shift_pbc=True)\n",
    "\n",
    "test_odd = create_supertensored_from_local(exp_nn_odd, N)\n",
    "test_odd = convert_supertensored2liouvillianfull(test_odd, N, d)"
   ]
  },
  {
   "cell_type": "code",
   "execution_count": 81,
   "metadata": {},
   "outputs": [
    {
     "name": "stdout",
     "output_type": "stream",
     "text": [
      "False\n"
     ]
    }
   ],
   "source": [
    "# these are supposed to fail \n",
    "print(np.allclose(create_supertensored_from_local(exp_nn_even, N, layer=1), create_supertensored_from_local(exp_nn_even, N, pbc=True, layer=1)))"
   ]
  },
  {
   "cell_type": "code",
   "execution_count": 82,
   "metadata": {},
   "outputs": [
    {
     "name": "stdout",
     "output_type": "stream",
     "text": [
      "True\n",
      "True\n"
     ]
    }
   ],
   "source": [
    "print(np.allclose(test_odd@test_even_pbc@test_odd, exp_Lvec_odd@exp_Lvec_even@exp_Lvec_odd)) # AMAZING\n",
    "print(np.allclose(Lvec, Lvec_odd+Lvec_even))"
   ]
  },
  {
   "cell_type": "code",
   "execution_count": 83,
   "metadata": {},
   "outputs": [
    {
     "data": {
      "text/plain": [
       "(45, 64, 16)"
      ]
     },
     "execution_count": 83,
     "metadata": {},
     "output_type": "execute_result"
    }
   ],
   "source": [
    "np.linalg.matrix_rank(super2choi(exp_Lvec)), 4**3, 2**4 # NOTE: the 2 comes from the fact that 2 kraus operators come out from the liouvillian acting on 2 sites."
   ]
  },
  {
   "cell_type": "code",
   "execution_count": 84,
   "metadata": {},
   "outputs": [
    {
     "name": "stdout",
     "output_type": "stream",
     "text": [
      "[True, True, True] [(8, 4), (8, 4), (8, 4)]\n",
      "0.14312675894435722\n"
     ]
    }
   ],
   "source": [
    "# I want to create a utility function that converts the superoperator to orthogonal directly\n",
    "from opentn.transformations import super2ortho\n",
    "from opentn.stiefel import check_isometries\n",
    "from opentn.optimization import model_stiefel_local\n",
    "xs_pbc_stiefel = [super2ortho(x.real) for x in [exp_nn_odd, exp_nn_even, exp_nn_odd]]\n",
    "print(check_isometries(xs_pbc_stiefel), [op.shape for op in xs_pbc_stiefel])\n",
    "print(frobenius_norm(model_stiefel_local(xs_pbc_stiefel, N=N, d=d), exp_Lvec))"
   ]
  },
  {
   "cell_type": "code",
   "execution_count": 15,
   "metadata": {},
   "outputs": [],
   "source": [
    "# now it is time to define the elements for the optimization!\n",
    "from opentn.stiefel import retract_stiefel, gradient_stiefel_vec, riemannian_hessian_vec\n",
    "f_stiefel = lambda xi: frobenius_norm(model_stiefel_local(xi, N=N, d=d), exp_Lvec)\n",
    "grad_stiefel = lambda xi: gradient_stiefel_vec(xi, f_stiefel)\n",
    "hessian_stiefel = lambda xi: riemannian_hessian_vec(xi, f_stiefel)"
   ]
  },
  {
   "cell_type": "code",
   "execution_count": 19,
   "metadata": {},
   "outputs": [
    {
     "name": "stdout",
     "output_type": "stream",
     "text": [
      "iteration: 0\n",
      "column : 0\n",
      "column : 1\n",
      "column : 2\n",
      "radius 0.01\n",
      "iteration: 1\n",
      "column : 0\n",
      "column : 1\n",
      "column : 2\n",
      "radius 0.0025\n",
      "iteration: 2\n",
      "column : 0\n",
      "column : 1\n",
      "column : 2\n",
      "radius 0.0025\n",
      "iteration: 3\n",
      "column : 0\n",
      "column : 1\n",
      "column : 2\n",
      "radius 0.0025\n",
      "iteration: 4\n",
      "column : 0\n",
      "column : 1\n",
      "column : 2\n",
      "radius 0.000625\n",
      "iteration: 5\n",
      "column : 0\n",
      "column : 1\n",
      "column : 2\n",
      "radius 0.000625\n",
      "iteration: 6\n",
      "column : 0\n",
      "column : 1\n",
      "column : 2\n",
      "radius 0.00125\n",
      "iteration: 7\n",
      "column : 0\n",
      "column : 1\n",
      "column : 2\n",
      "radius 0.0025\n",
      "iteration: 8\n",
      "column : 0\n",
      "column : 1\n",
      "column : 2\n",
      "radius 0.005\n",
      "iteration: 9\n",
      "column : 0\n",
      "column : 1\n",
      "column : 2\n",
      "radius 0.00125\n",
      "iteration: 10\n",
      "column : 0\n",
      "column : 1\n",
      "column : 2\n",
      "radius 0.00125\n",
      "iteration: 11\n",
      "column : 0\n",
      "column : 1\n",
      "column : 2\n",
      "radius 0.0003125\n",
      "iteration: 12\n",
      "column : 0\n",
      "column : 1\n",
      "column : 2\n",
      "radius 0.000625\n",
      "iteration: 13\n",
      "column : 0\n",
      "column : 1\n",
      "column : 2\n",
      "radius 0.000625\n",
      "iteration: 14\n",
      "column : 0\n",
      "column : 1\n",
      "column : 2\n",
      "radius 0.000625\n",
      "iteration: 15\n",
      "column : 0\n",
      "column : 1\n",
      "column : 2\n",
      "radius 0.000625\n",
      "iteration: 16\n",
      "column : 0\n",
      "column : 1\n",
      "column : 2\n",
      "radius 0.000625\n",
      "iteration: 17\n",
      "column : 0\n",
      "column : 1\n",
      "column : 2\n",
      "radius 0.000625\n",
      "iteration: 18\n",
      "column : 0\n",
      "column : 1\n",
      "column : 2\n",
      "radius 0.000625\n",
      "iteration: 19\n",
      "column : 0\n",
      "column : 1\n",
      "column : 2\n",
      "radius 0.00015625\n"
     ]
    }
   ],
   "source": [
    "from opentn.trust_region_rcopt import riemannian_trust_region_optimize\n",
    "xs_pbc_1, f_pbc_1, err_pbc_1, radius_pbc_1 = riemannian_trust_region_optimize(\n",
    "    f_stiefel, retract_stiefel, grad_stiefel, hessian_stiefel, xs_pbc_stiefel, niter=20\n",
    ")"
   ]
  },
  {
   "cell_type": "code",
   "execution_count": 20,
   "metadata": {},
   "outputs": [
    {
     "name": "stdout",
     "output_type": "stream",
     "text": [
      "iteration: 0\n",
      "column : 0\n",
      "column : 1\n",
      "column : 2\n",
      "radius 0.00015625\n",
      "iteration: 1\n",
      "column : 0\n",
      "column : 1\n",
      "column : 2\n",
      "radius 0.00015625\n",
      "iteration: 2\n",
      "column : 0\n",
      "column : 1\n",
      "column : 2\n",
      "radius 3.90625e-05\n",
      "iteration: 3\n",
      "column : 0\n",
      "column : 1\n",
      "column : 2\n",
      "radius 3.90625e-05\n",
      "iteration: 4\n",
      "column : 0\n",
      "column : 1\n",
      "column : 2\n",
      "radius 3.90625e-05\n",
      "iteration: 5\n",
      "column : 0\n",
      "column : 1\n",
      "column : 2\n",
      "radius 7.8125e-05\n",
      "iteration: 6\n",
      "column : 0\n",
      "column : 1\n",
      "column : 2\n",
      "radius 0.00015625\n",
      "iteration: 7\n",
      "column : 0\n",
      "column : 1\n",
      "column : 2\n",
      "radius 0.0003125\n",
      "iteration: 8\n",
      "column : 0\n",
      "column : 1\n",
      "column : 2\n",
      "radius 0.000625\n",
      "iteration: 9\n",
      "column : 0\n",
      "column : 1\n",
      "column : 2\n",
      "radius 0.00015625\n",
      "iteration: 10\n",
      "column : 0\n",
      "column : 1\n",
      "column : 2\n",
      "radius 0.00015625\n",
      "iteration: 11\n",
      "column : 0\n",
      "column : 1\n",
      "column : 2\n",
      "radius 0.00015625\n",
      "iteration: 12\n",
      "column : 0\n",
      "column : 1\n",
      "column : 2\n",
      "radius 3.90625e-05\n",
      "iteration: 13\n",
      "column : 0\n",
      "column : 1\n",
      "column : 2\n",
      "radius 3.90625e-05\n",
      "iteration: 14\n",
      "column : 0\n",
      "column : 1\n",
      "column : 2\n",
      "radius 7.8125e-05\n",
      "iteration: 15\n",
      "column : 0\n",
      "column : 1\n",
      "column : 2\n",
      "radius 0.00015625\n",
      "iteration: 16\n",
      "column : 0\n",
      "column : 1\n",
      "column : 2\n",
      "radius 0.0003125\n",
      "iteration: 17\n",
      "column : 0\n",
      "column : 1\n",
      "column : 2\n",
      "radius 7.8125e-05\n",
      "iteration: 18\n",
      "column : 0\n",
      "column : 1\n",
      "column : 2\n",
      "radius 7.8125e-05\n",
      "iteration: 19\n",
      "column : 0\n",
      "column : 1\n",
      "column : 2\n",
      "radius 7.8125e-05\n"
     ]
    }
   ],
   "source": [
    "xs_pbc_2, f_pbc_2, err_pbc_2, radius_pbc_2 = riemannian_trust_region_optimize(\n",
    "    f_stiefel, retract_stiefel, grad_stiefel, hessian_stiefel, xs_pbc_1, niter=20, radius_init=radius_pbc_1\n",
    ")"
   ]
  },
  {
   "cell_type": "code",
   "execution_count": 25,
   "metadata": {},
   "outputs": [
    {
     "data": {
      "text/plain": [
       "[True, True, True]"
      ]
     },
     "execution_count": 25,
     "metadata": {},
     "output_type": "execute_result"
    }
   ],
   "source": [
    "check_isometries(xs_pbc_2)"
   ]
  },
  {
   "cell_type": "code",
   "execution_count": 24,
   "metadata": {},
   "outputs": [
    {
     "name": "stdout",
     "output_type": "stream",
     "text": [
      "0.8853557271233199\n"
     ]
    },
    {
     "data": {
      "image/png": "[encoded data removed]",
      "text/plain": [
       "<Figure size 1200x800 with 1 Axes>"
      ]
     },
     "metadata": {
      "needs_background": "light"
     },
     "output_type": "display_data"
    }
   ],
   "source": [
    "import matplotlib.pyplot as plt\n",
    "plt.figure(dpi=200)\n",
    "plt.plot(f_pbc_1 + f_pbc_2, '--', label='pbc')\n",
    "plt.legend()\n",
    "print(f_pbc_2[-1]/f_pbc_1[0])"
   ]
  },
  {
   "cell_type": "code",
   "execution_count": 71,
   "metadata": {},
   "outputs": [],
   "source": [
    "# just to be sure that everything is right: TODO: I need to check that the error of this model decreases with tau**3\n",
    "taus = np.logspace(start=2, stop=-9, num=12, base=2)[::-1]\n",
    "error_fro = []\n",
    "for tau in taus:\n",
    "    exp_tot_tau = exp_operator_dt(Lvec, tau=tau, backend='jax')\n",
    "    exp_odd_tau = exp_operator_dt(Lvec_odd, tau=tau/2, backend='jax')\n",
    "    exp_even_tau = exp_operator_dt(Lvec_even, tau=tau, backend='jax')\n",
    "    error_fro.append(frobenius_norm(exp_odd_tau@exp_even_tau@exp_odd_tau,exp_tot_tau))"
   ]
  },
  {
   "cell_type": "code",
   "execution_count": 72,
   "metadata": {},
   "outputs": [
    {
     "name": "stdout",
     "output_type": "stream",
     "text": [
      "[1.953125e-03 3.906250e-03 7.812500e-03 1.562500e-02 3.125000e-02\n",
      " 6.250000e-02 1.250000e-01 2.500000e-01 5.000000e-01 1.000000e+00\n",
      " 2.000000e+00 4.000000e+00]\n"
     ]
    },
    {
     "data": {
      "image/png": "[encoded data removed]",
      "text/plain": [
       "<Figure size 1200x800 with 1 Axes>"
      ]
     },
     "metadata": {
      "needs_background": "light"
     },
     "output_type": "display_data"
    }
   ],
   "source": [
    "a = 0.0075\n",
    "fig = plt.figure(dpi=200)\n",
    "plt.loglog(taus, error_fro, '--x', base=2, label='Frobenius norm difference')\n",
    "plt.plot(taus, a*taus**3, label=r'$a x^3$')\n",
    "plt.gca().invert_xaxis()\n",
    "plt.ylabel(r'Frobenius Norm difference')\n",
    "plt.xlabel('tau')\n",
    "plt.legend()\n",
    "print(taus)"
   ]
  },
  {
   "cell_type": "code",
   "execution_count": null,
   "metadata": {},
   "outputs": [],
   "source": [
    "# more checks? I don't know. \n",
    "# the check that Lvec = Leven + Lodd is already happening inside the creation."
   ]
  }
 ],
 "metadata": {
  "kernelspec": {
   "display_name": "thesis",
   "language": "python",
   "name": "python3"
  },
  "language_info": {
   "codemirror_mode": {
    "name": "ipython",
    "version": 3
   },
   "file_extension": ".py",
   "mimetype": "text/x-python",
   "name": "python",
   "nbconvert_exporter": "python",
   "pygments_lexer": "ipython3",
   "version": "3.10.4"
  },
  "orig_nbformat": 4
 },
 "nbformat": 4,
 "nbformat_minor": 2
}
