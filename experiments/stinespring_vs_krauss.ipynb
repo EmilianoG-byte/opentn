{
 "cells": [
  {
   "attachments": {},
   "cell_type": "markdown",
   "metadata": {},
   "source": [
    "# <center> Stinespring vs Krauss \n",
    "### <center> a comparison for the representation of open quantum system between\n",
    "### <center> the stinespring dilation: $\\mathcal{E}(\\rho_A) = tr_E\\left[ U_{AE} \\left( \\rho_A \\otimes \\ket{e_0}\\bra{e_0} \\right) U_{AE}^\\dagger \\right]$\n",
    "### <center> and krauss representation: $\\mathcal{E}(\\rho_A) = \\sum_k = E_k \\rho_A E^\\dagger_k$"
   ]
  },
  {
   "attachments": {},
   "cell_type": "markdown",
   "metadata": {},
   "source": [
    "## Amplitude Damping Channel"
   ]
  },
  {
   "cell_type": "code",
   "execution_count": 1,
   "metadata": {},
   "outputs": [],
   "source": [
    "sys.path.append('..')\n",
    "# reload local packages automatically\n",
    "%load_ext autoreload\n",
    "%autoreload 2"
   ]
  },
  {
   "cell_type": "code",
   "execution_count": 3,
   "metadata": {},
   "outputs": [],
   "source": [
    "# import the necessary classes and methods from circuit and channel modules\n",
    "from opentn.channels import get_krauss_from_unitary, quantum_channel, test_trace_preserving\n",
    "from opentn.circuits import get_unitary_adchannel, quantum_circuit, get_unitary_beamsplitter\n",
    "from opentn.states.qubits import plus, up, down\n",
    "import numpy as np"
   ]
  },
  {
   "attachments": {},
   "cell_type": "markdown",
   "metadata": {},
   "source": [
    "# 1. $\\ket{e_0} = \\ket{0}$"
   ]
  },
  {
   "cell_type": "code",
   "execution_count": 38,
   "metadata": {},
   "outputs": [],
   "source": [
    "# define global parameters\n",
    "gamma = 0.5 # gamma parameters of amplitude damping channel\n",
    "phys_init = plus # initial state of physical system\n",
    "env_init = up # initial state of environment\n",
    "# obtain U_AE from the circuit representation\n",
    "U_AE = get_unitary_adchannel(gamma=gamma) \n",
    "# obtain U_AE from beam splitter\n",
    "U_AE_BS = get_unitary_beamsplitter(gamma=gamma)"
   ]
  },
  {
   "attachments": {},
   "cell_type": "markdown",
   "metadata": {},
   "source": [
    "### From unitary of quantum circuit "
   ]
  },
  {
   "cell_type": "code",
   "execution_count": 39,
   "metadata": {},
   "outputs": [
    {
     "data": {
      "text/plain": [
       "(array([[0.75      +0.j, 0.35355339+0.j],\n",
       "        [0.35355339+0.j, 0.25      +0.j]]),\n",
       " array([[0.75      +0.j, 0.35355339+0.j],\n",
       "        [0.35355339+0.j, 0.25      +0.j]]))"
      ]
     },
     "execution_count": 39,
     "metadata": {},
     "output_type": "execute_result"
    }
   ],
   "source": [
    "quantum_circuit(initial_state=[phys_init, env_init], U=U_AE)\n"
   ]
  },
  {
   "attachments": {},
   "cell_type": "markdown",
   "metadata": {},
   "source": [
    "### From general unitary of beamsplitter"
   ]
  },
  {
   "cell_type": "code",
   "execution_count": 40,
   "metadata": {},
   "outputs": [
    {
     "data": {
      "text/plain": [
       "(array([[0.75      +0.j, 0.35355339+0.j],\n",
       "        [0.35355339+0.j, 0.25      +0.j]]),\n",
       " array([[0.75      +0.j, 0.35355339+0.j],\n",
       "        [0.35355339+0.j, 0.25      +0.j]]))"
      ]
     },
     "execution_count": 40,
     "metadata": {},
     "output_type": "execute_result"
    }
   ],
   "source": [
    "quantum_circuit(initial_state=[phys_init, env_init], U=U_AE_BS)\n"
   ]
  },
  {
   "attachments": {},
   "cell_type": "markdown",
   "metadata": {},
   "source": [
    "### From known amplitude damping channel krauss operators"
   ]
  },
  {
   "cell_type": "code",
   "execution_count": 7,
   "metadata": {},
   "outputs": [
    {
     "data": {
      "text/plain": [
       "array([[0.75      +0.j, 0.35355339+0.j],\n",
       "       [0.35355339+0.j, 0.25      +0.j]])"
      ]
     },
     "execution_count": 7,
     "metadata": {},
     "output_type": "execute_result"
    }
   ],
   "source": [
    "E0 = np.outer(up,up) + np.sqrt(1-gamma)*np.outer(down,down)\n",
    "E1 = np.sqrt(gamma)*np.outer(up,down)\n",
    "krauss_list = [E0, E1]\n",
    "\n",
    "quantum_channel(state=phys_init, krauss_list=krauss_list)"
   ]
  },
  {
   "attachments": {},
   "cell_type": "markdown",
   "metadata": {},
   "source": [
    "### From krauss operators calculated using $U_{AE}$"
   ]
  },
  {
   "cell_type": "code",
   "execution_count": 10,
   "metadata": {},
   "outputs": [
    {
     "data": {
      "text/plain": [
       "array([[0.75      +0.j, 0.35355339+0.j],\n",
       "       [0.35355339+0.j, 0.25      +0.j]])"
      ]
     },
     "execution_count": 10,
     "metadata": {},
     "output_type": "execute_result"
    }
   ],
   "source": [
    "krauss_list_from_unitary = get_krauss_from_unitary(U_AE)\n",
    "quantum_channel(state=phys_init, krauss_list=krauss_list_from_unitary)"
   ]
  },
  {
   "attachments": {},
   "cell_type": "markdown",
   "metadata": {},
   "source": [
    "# 2. $\\ket{e_0} = \\ket{1}$"
   ]
  },
  {
   "cell_type": "code",
   "execution_count": 58,
   "metadata": {},
   "outputs": [],
   "source": [
    "# define global parameters\n",
    "gamma = 0.50 # gamma parameters of amplitude damping channel\n",
    "phys_init = plus # initial state of physical system\n",
    "env_init = down # initial state of environment\n",
    "# obtain U_AE from the circuit representation\n",
    "U_AE = get_unitary_adchannel(gamma=gamma) \n",
    "# obtain U_AE from beam splitter\n",
    "U_AE_BS = get_unitary_beamsplitter(gamma=gamma)"
   ]
  },
  {
   "attachments": {},
   "cell_type": "markdown",
   "metadata": {},
   "source": [
    "### From unitary of quantum circuit "
   ]
  },
  {
   "cell_type": "code",
   "execution_count": 59,
   "metadata": {},
   "outputs": [
    {
     "data": {
      "text/plain": [
       "(array([[0.25      +0.j, 0.35355339+0.j],\n",
       "        [0.35355339+0.j, 0.75      +0.j]]),\n",
       " array([[ 0.25      +0.j, -0.35355339+0.j],\n",
       "        [-0.35355339+0.j,  0.75      +0.j]]))"
      ]
     },
     "execution_count": 59,
     "metadata": {},
     "output_type": "execute_result"
    }
   ],
   "source": [
    "quantum_circuit(initial_state=[phys_init, env_init], U=U_AE)"
   ]
  },
  {
   "cell_type": "code",
   "execution_count": 60,
   "metadata": {},
   "outputs": [
    {
     "name": "stdout",
     "output_type": "stream",
     "text": [
      "[[ 1.        +0.j  0.        +0.j  0.        +0.j  0.        +0.j]\n",
      " [ 0.        +0.j  0.        +0.j  0.70710678+0.j  0.70710678+0.j]\n",
      " [ 0.        +0.j  0.        +0.j  0.70710678+0.j -0.70710678+0.j]\n",
      " [ 0.        +0.j  1.        +0.j  0.        +0.j  0.        +0.j]]\n"
     ]
    }
   ],
   "source": [
    "print(U_AE)"
   ]
  },
  {
   "cell_type": "markdown",
   "metadata": {},
   "source": [
    "### From general unitary of beamsplitter"
   ]
  },
  {
   "cell_type": "code",
   "execution_count": 61,
   "metadata": {},
   "outputs": [
    {
     "data": {
      "text/plain": [
       "(array([[0.25      +0.j, 0.35355339+0.j],\n",
       "        [0.35355339+0.j, 0.75      +0.j]]),\n",
       " array([[ 0.25      +0.j, -0.35355339+0.j],\n",
       "        [-0.35355339+0.j,  0.75      +0.j]]))"
      ]
     },
     "execution_count": 61,
     "metadata": {},
     "output_type": "execute_result"
    }
   ],
   "source": [
    "quantum_circuit(initial_state=[phys_init, env_init], U=U_AE_BS)"
   ]
  },
  {
   "cell_type": "code",
   "execution_count": 62,
   "metadata": {},
   "outputs": [
    {
     "name": "stdout",
     "output_type": "stream",
     "text": [
      "[[ 1.        +0.j  0.        +0.j  0.        +0.j  0.        +0.j]\n",
      " [ 0.        +0.j  0.70710678+0.j  0.70710678+0.j  0.        +0.j]\n",
      " [ 0.        +0.j -0.70710678+0.j  0.70710678+0.j  0.        +0.j]\n",
      " [ 0.        +0.j  0.        +0.j  0.        +0.j  1.        +0.j]]\n"
     ]
    }
   ],
   "source": [
    "print(U_AE_BS)"
   ]
  },
  {
   "cell_type": "markdown",
   "metadata": {},
   "source": [
    "### From krauss operators calculated using $U_{AE}$"
   ]
  },
  {
   "cell_type": "code",
   "execution_count": 63,
   "metadata": {},
   "outputs": [
    {
     "data": {
      "text/plain": [
       "[array([[ 0.        +0.j,  0.        +0.j],\n",
       "        [ 0.        +0.j, -0.70710678+0.j]]),\n",
       " array([[0.        +0.j, 0.70710678+0.j],\n",
       "        [1.        +0.j, 0.        +0.j]])]"
      ]
     },
     "execution_count": 63,
     "metadata": {},
     "output_type": "execute_result"
    }
   ],
   "source": [
    "krauss_list_one_circuit = get_krauss_from_unitary(U_AE, env_init=env_init)\n",
    "krauss_list_one_circuit"
   ]
  },
  {
   "cell_type": "code",
   "execution_count": 64,
   "metadata": {},
   "outputs": [
    {
     "name": "stdout",
     "output_type": "stream",
     "text": [
      "Trace Preserving\n"
     ]
    },
    {
     "data": {
      "text/plain": [
       "array([[1.+0.j, 0.+0.j],\n",
       "       [0.+0.j, 1.+0.j]])"
      ]
     },
     "execution_count": 64,
     "metadata": {},
     "output_type": "execute_result"
    }
   ],
   "source": [
    "test_trace_preserving(krauss_list_one_circuit)"
   ]
  },
  {
   "cell_type": "code",
   "execution_count": 65,
   "metadata": {},
   "outputs": [
    {
     "data": {
      "text/plain": [
       "[array([[ 0.        +0.j,  0.        +0.j],\n",
       "        [-0.70710678+0.j,  0.        +0.j]]),\n",
       " array([[0.70710678+0.j, 0.        +0.j],\n",
       "        [0.        +0.j, 1.        +0.j]])]"
      ]
     },
     "execution_count": 65,
     "metadata": {},
     "output_type": "execute_result"
    }
   ],
   "source": [
    "krauss_list_one_bs = get_krauss_from_unitary(U_AE_BS, env_init=env_init)\n",
    "krauss_list_one_bs"
   ]
  },
  {
   "cell_type": "code",
   "execution_count": 66,
   "metadata": {},
   "outputs": [
    {
     "name": "stdout",
     "output_type": "stream",
     "text": [
      "Trace Preserving\n"
     ]
    },
    {
     "data": {
      "text/plain": [
       "array([[1.+0.j, 0.+0.j],\n",
       "       [0.+0.j, 1.+0.j]])"
      ]
     },
     "execution_count": 66,
     "metadata": {},
     "output_type": "execute_result"
    }
   ],
   "source": [
    "test_trace_preserving(krauss_list_one_bs)"
   ]
  },
  {
   "cell_type": "code",
   "execution_count": 67,
   "metadata": {},
   "outputs": [
    {
     "data": {
      "text/plain": [
       "array([[0.25      +0.j, 0.35355339+0.j],\n",
       "       [0.35355339+0.j, 0.75      +0.j]])"
      ]
     },
     "execution_count": 67,
     "metadata": {},
     "output_type": "execute_result"
    }
   ],
   "source": [
    "quantum_channel(state=phys_init, krauss_list=krauss_list_one_bs)"
   ]
  },
  {
   "cell_type": "code",
   "execution_count": 68,
   "metadata": {},
   "outputs": [
    {
     "data": {
      "text/plain": [
       "array([[0.25      +0.j, 0.35355339+0.j],\n",
       "       [0.35355339+0.j, 0.75      +0.j]])"
      ]
     },
     "execution_count": 68,
     "metadata": {},
     "output_type": "execute_result"
    }
   ],
   "source": [
    "quantum_channel(state=phys_init, krauss_list=krauss_list_one_circuit)"
   ]
  },
  {
   "attachments": {},
   "cell_type": "markdown",
   "metadata": {},
   "source": [
    "# My conclusions:\n",
    "- we can see how changing the environment system from $\\ket{0} \\rightarrow \\ket{1}$, also changes the final density matrix.\n",
    "    > I think this is due to the fact that starting in $\\ket{+1}$ makes us end up in a state that has $\\ket{02}$ and $\\ket{20}$, which means we would need to take into account higher energy states not only on circuit, but also in kets. Also would need a third krauss operator\n",
    "- unitary from amplitude damping channel circuit and beam splitter differ (and therefore produce different krauss operators), yet they yield the same output density matrix\n",
    "    > this is as expected as $U_AE$ and $E_k$ are only unique up to unitary transformations"
   ]
  }
 ],
 "metadata": {
  "kernelspec": {
   "display_name": "thesis",
   "language": "python",
   "name": "python3"
  },
  "language_info": {
   "codemirror_mode": {
    "name": "ipython",
    "version": 3
   },
   "file_extension": ".py",
   "mimetype": "text/x-python",
   "name": "python",
   "nbconvert_exporter": "python",
   "pygments_lexer": "ipython3",
   "version": "3.10.4"
  },
  "orig_nbformat": 4,
  "vscode": {
   "interpreter": {
    "hash": "e54f0141033c6754df365506067ddbc1ca599da691a7e6c277f1d7678b6ffe7f"
   }
  }
 },
 "nbformat": 4,
 "nbformat_minor": 2
}
