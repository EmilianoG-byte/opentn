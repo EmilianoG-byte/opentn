{
 "cells": [
  {
   "cell_type": "code",
   "execution_count": 1,
   "metadata": {},
   "outputs": [
    {
     "name": "stdout",
     "output_type": "stream",
     "text": [
      "2.6383007149418305e-07\n",
      "1.4977787039695335e-07\n"
     ]
    }
   ],
   "source": [
    "import sys\n",
    "sys.path.append('..')\n",
    "# reload local packages automatically\n",
    "%load_ext autoreload\n",
    "%autoreload 2\n",
    "\n",
    "from jax import config\n",
    "config.update(\"jax_enable_x64\", True)\n",
    "\n",
    "# Import packages.\n",
    "import cvxpy as cp\n",
    "import numpy as np\n",
    "\n",
    "import matplotlib.pyplot as plt\n",
    "\n",
    "\n",
    "from opentn.transformations import create_kitaev_liouvillians, exp_operator_dt, factorize_psd, super2choi\n",
    "d, N = 2, 4\n",
    "dim = d**N\n",
    "Lvec, Lvec_odd, Lvec_even, Lnn = create_kitaev_liouvillians(N=N, d=d, gamma=1e-2)\n",
    "tau = 4\n",
    "superops_exp = []\n",
    "for i, op in enumerate([Lvec, Lvec_odd, Lvec_even]):\n",
    "    if i == 1:\n",
    "        superops_exp.append(exp_operator_dt(op, tau/2, 'jax'))\n",
    "    else:\n",
    "        superops_exp.append(exp_operator_dt(op, tau, 'jax'))\n",
    "exp_Lvec, exp_Lvec_odd, exp_Lvec_even = superops_exp\n",
    "\n",
    "X1 = factorize_psd(psd=super2choi(exp_Lvec_odd), tol=1e-12)\n",
    "X2 = factorize_psd(psd=super2choi(exp_Lvec_even), tol=1e-12)\n",
    "\n",
    "from opentn.optimization import gds, frobenius_norm, model_Ys, compute_loss\n",
    "cost_n4, grads_n4, xi_n4 = gds(fn=compute_loss, x0=[X1, X2, X1], iter=int(2e3), loss_fn=frobenius_norm, model=model_Ys, rate=1.5e-9, exact = exp_Lvec, show_cost=False)\n",
    "print(cost_n4[0])\n",
    "print(cost_n4[-1])"
   ]
  },
  {
   "cell_type": "code",
   "execution_count": 2,
   "metadata": {},
   "outputs": [
    {
     "name": "stderr",
     "output_type": "stream",
     "text": [
      "/opt/miniconda3/envs/thesis/lib/python3.10/site-packages/scipy/sparse/_data.py:72: ComplexWarning: Casting complex values to real discards the imaginary part\n",
      "  self.data.astype(dtype, casting=casting, copy=True),\n"
     ]
    }
   ],
   "source": [
    "from opentn.transformations import super2choi, choi_composition\n",
    "from opentn.optimization import small2zero\n",
    "from scipy import sparse\n",
    "\n",
    "# rest of matrices optimized with GSD\n",
    "X1_gds, X2_gds, X3_gds = xi_n4[-1]\n",
    "Y1_gds = X1_gds@X1_gds.conj().T\n",
    "Y2_gds = X2_gds@X2_gds.conj().T\n",
    "Y3_gds = X3_gds@X3_gds.conj().T\n",
    "\n",
    "tol = 1e-10\n",
    "\n",
    "# rhs to which we want to approximate\n",
    "rhs = np.asarray(super2choi(superop=exp_Lvec, dim=dim))\n",
    "# srhs = sparse.csr_matrix(rhs) # small2zero was deleted\n",
    "srhs = sparse.csr_matrix(small2zero(rhs, tol=tol)) # small2zero was deleted\n",
    "srhs = srhs.astype(np.float64)"
   ]
  },
  {
   "cell_type": "code",
   "execution_count": 5,
   "metadata": {},
   "outputs": [
    {
     "name": "stderr",
     "output_type": "stream",
     "text": [
      "/opt/miniconda3/envs/thesis/lib/python3.10/site-packages/scipy/sparse/_data.py:72: ComplexWarning: Casting complex values to real discards the imaginary part\n",
      "  self.data.astype(dtype, casting=casting, copy=True),\n",
      "/var/folders/lv/986s3mp97gv9n3rb757bg87m0000gn/T/ipykernel_9055/826646750.py:7: ComplexWarning: Casting complex values to real discards the imaginary part\n",
      "  Y1_cvxpy.value = small2zero(Y1_gds, tol=tol).astype(np.float64)\n"
     ]
    },
    {
     "data": {
      "text/plain": [
       "1.498151455427664e-07"
      ]
     },
     "execution_count": 5,
     "metadata": {},
     "output_type": "execute_result"
    }
   ],
   "source": [
    "from opentn.transformations import link_product_cvxpy\n",
    "Y1_cvxpy = cp.Variable((dim**2,dim**2), PSD=True)\n",
    "C2 = choi_composition(small2zero(Y2_gds, tol), small2zero(Y3_gds, tol))\n",
    "lhs = link_product_cvxpy(C1=Y1_cvxpy, C2=C2, dim=dim, transpose=1, optimization=True)\n",
    "cost = cp.norm(lhs - srhs, \"fro\")\n",
    "prob = cp.Problem(cp.Minimize(cost))\n",
    "Y1_cvxpy.value = small2zero(Y1_gds, tol=tol).astype(np.float64) \n",
    "cost.value"
   ]
  },
  {
   "cell_type": "code",
   "execution_count": 6,
   "metadata": {},
   "outputs": [
    {
     "name": "stdout",
     "output_type": "stream",
     "text": [
      "===============================================================================\n",
      "                                     CVXPY                                     \n",
      "                                     v1.3.2                                    \n",
      "===============================================================================\n",
      "(CVXPY) Jul 27 02:58:17 PM: Your problem has 65536 variables, 0 constraints, and 0 parameters.\n",
      "(CVXPY) Jul 27 02:58:17 PM: It is compliant with the following grammars: DCP, DQCP\n",
      "(CVXPY) Jul 27 02:58:17 PM: (If you need to solve this problem multiple times, but with different data, consider using parameters.)\n",
      "(CVXPY) Jul 27 02:58:17 PM: CVXPY will first compile your problem; then, it will invoke a numerical solver to obtain a solution.\n",
      "-------------------------------------------------------------------------------\n",
      "                                  Compilation                                  \n",
      "-------------------------------------------------------------------------------\n",
      "(CVXPY) Jul 27 02:58:17 PM: Compiling problem (target solver=SCS).\n",
      "(CVXPY) Jul 27 02:58:17 PM: Reduction chain: Dcp2Cone -> CvxAttr2Constr -> ConeMatrixStuffing -> SCS\n",
      "(CVXPY) Jul 27 02:58:17 PM: Applying reduction Dcp2Cone\n",
      "(CVXPY) Jul 27 02:58:17 PM: Applying reduction CvxAttr2Constr\n",
      "(CVXPY) Jul 27 02:58:17 PM: Applying reduction ConeMatrixStuffing\n",
      "(CVXPY) Jul 27 03:09:29 PM: Applying reduction SCS\n",
      "(CVXPY) Jul 27 03:09:29 PM: Finished problem compilation (took 6.721e+02 seconds).\n",
      "-------------------------------------------------------------------------------\n",
      "                                Numerical solver                               \n",
      "-------------------------------------------------------------------------------\n",
      "(CVXPY) Jul 27 03:09:29 PM: Invoking solver SCS  to obtain a solution.\n",
      "------------------------------------------------------------------\n",
      "\t       SCS v3.2.3 - Splitting Conic Solver\n",
      "\t(c) Brendan O'Donoghue, Stanford University, 2012\n",
      "------------------------------------------------------------------\n",
      "problem:  variables n: 32897, constraints m: 98433\n",
      "cones: \t  q: soc vars: 65537, qsize: 1\n",
      "\t  s: psd vars: 32896, ssize: 1\n",
      "settings: eps_abs: 1.0e-10, eps_rel: 1.0e-10, eps_infeas: 1.0e-07\n",
      "\t  alpha: 1.50, scale: 1.00e-01, adaptive_scale: 1\n",
      "\t  max_iters: 100000, normalize: 1, rho_x: 1.00e-06\n",
      "\t  acceleration_lookback: 10, acceleration_interval: 10\n",
      "lin-sys:  sparse-direct-amd-qdldl\n",
      "\t  nnz(A): 1259393, nnz(P): 0\n",
      "------------------------------------------------------------------\n",
      " iter | pri res | dua res |   gap   |   obj   |  scale  | time (s)\n",
      "------------------------------------------------------------------\n",
      "     0| 1.67e+01  1.00e+00  3.93e+01  2.91e+00  1.00e-01  2.27e-01 \n",
      "   250| 1.05e-08  8.18e-11  4.30e-11  2.83e-11  9.61e+00  2.51e+00 \n",
      "   500| 1.00e-08  1.73e-09  4.40e-10 -3.37e-10  2.82e+02  4.76e+00 \n",
      "   750| 9.66e-09  4.86e-10  6.24e-10  1.95e-10  2.82e+02  6.93e+00 \n",
      "  1000| 9.51e-09  1.28e-10  2.09e-10 -2.21e-10  2.82e+02  9.13e+00 \n",
      "  1250| 9.39e-09  3.10e-10  9.94e-09  5.06e-09  3.09e+03  1.14e+01 \n",
      "  1500| 9.38e-09  7.26e-10  3.08e-08  1.56e-08  3.18e+04  1.36e+01 \n",
      "  1750| 9.38e-09  5.40e-10  2.68e-08  1.36e-08  3.18e+04  1.58e+01 \n",
      "  2000| 1.17e-10  1.84e-09  8.27e-11  9.53e-08  1.93e+02  1.81e+01 \n",
      "  2025| 1.95e-11  4.53e-11  1.95e-11  9.52e-08  1.44e+01  1.84e+01 \n",
      "------------------------------------------------------------------\n",
      "status:  solved\n",
      "timings: total: 1.84e+01s = setup: 2.12e-01s + solve: 1.81e+01s\n",
      "\t lin-sys: 7.69e+00s, cones: 9.35e+00s, accel: 9.96e-02s\n",
      "------------------------------------------------------------------\n",
      "objective = 0.000000\n",
      "------------------------------------------------------------------\n",
      "-------------------------------------------------------------------------------\n",
      "                                    Summary                                    \n",
      "-------------------------------------------------------------------------------\n",
      "(CVXPY) Jul 27 03:09:50 PM: Problem status: optimal\n",
      "(CVXPY) Jul 27 03:09:50 PM: Optimal value: 9.518e-08\n",
      "(CVXPY) Jul 27 03:09:50 PM: Compilation took 6.721e+02 seconds\n",
      "(CVXPY) Jul 27 03:09:50 PM: Solver (including time spent in interface) took 1.837e+01 seconds\n"
     ]
    },
    {
     "data": {
      "text/plain": [
       "9.517953777109907e-08"
      ]
     },
     "execution_count": 6,
     "metadata": {},
     "output_type": "execute_result"
    }
   ],
   "source": [
    "prob.solve(solver=cp.SCS, verbose=True, canon_backend=cp.SCIPY_CANON_BACKEND, eps=tol)"
   ]
  },
  {
   "cell_type": "code",
   "execution_count": 12,
   "metadata": {},
   "outputs": [
    {
     "name": "stdout",
     "output_type": "stream",
     "text": [
      "9.517953776939443e-08\n",
      "9.518249209451488e-08\n",
      "9.521364641951719e-08\n"
     ]
    }
   ],
   "source": [
    "# checking if the solution with and without approximation coincide\n",
    "# 1. all have small2zero except solution. (should coincide with the output of solver)\n",
    "print(frobenius_norm(choi_composition(Y1_cvxpy.value, C2), small2zero(rhs, tol=tol)))\n",
    "# 2. all have small2zero including solution. Due to approximation here, the value increases a bit\n",
    "print(frobenius_norm(choi_composition(small2zero(Y1_cvxpy.value, tol=tol), C2), small2zero(rhs, tol=tol)))\n",
    "# 3. none of them have small2zero\n",
    "print(frobenius_norm(choi_composition(Y1_cvxpy.value, choi_composition(Y2_gds, Y3_gds)), rhs))"
   ]
  },
  {
   "cell_type": "code",
   "execution_count": 15,
   "metadata": {},
   "outputs": [
    {
     "name": "stdout",
     "output_type": "stream",
     "text": [
      "4\n",
      "[3.99501248e+00 1.41156678e-01 1.41156678e-01 4.98752081e-03\n",
      " 1.68086221e-15 1.54951812e-15 1.30661439e-15 1.16206956e-15\n",
      " 1.04950910e-15 9.51159912e-16 9.49231710e-16 8.98450268e-16\n",
      " 8.07706366e-16 7.89423078e-16 6.88379074e-16 6.77265483e-16\n",
      " 6.22736767e-16 6.08753246e-16 5.78770075e-16 5.48590551e-16]\n",
      "----\n",
      "4\n",
      "[1.59601248e+01 1.99251812e-02 1.99251787e-02 2.48753821e-05\n",
      " 7.40452593e-15 6.23416821e-15 5.78733966e-15 5.45129161e-15\n",
      " 5.02854100e-15 4.95731989e-15 4.56542003e-15 4.34589312e-15\n",
      " 4.19879763e-15 4.02361484e-15 3.80645554e-15 3.57183712e-15\n",
      " 3.04235402e-15 2.81870941e-15 2.70461589e-15 2.24288391e-15]\n",
      "----\n",
      "16\n",
      "[1.59601248e+01 1.99251773e-02 1.99251750e-02 2.48854571e-05\n",
      " 5.53564209e-08 4.75268505e-08 4.47013493e-08 4.04359112e-08\n",
      " 3.85099712e-08 1.87179267e-08 1.34944648e-08 8.18230425e-09\n",
      " 2.93693059e-10 2.37246938e-10 1.88128013e-10 1.09482978e-10\n",
      " 8.39013459e-11 7.73763815e-11 6.18413108e-11 6.15472486e-11]\n",
      "----\n",
      "27\n",
      "[1.59601248e+01 1.99251773e-02 1.99251750e-02 2.48854571e-05\n",
      " 5.53524987e-08 4.75309334e-08 4.47086255e-08 4.03351946e-08\n",
      " 3.85999447e-08 1.87120794e-08 1.35082975e-08 8.17115133e-09\n",
      " 3.95067475e-10 3.09899285e-10 2.61507864e-10 2.34883828e-10\n",
      " 1.68661510e-10 1.53046950e-10 1.48644646e-10 1.30468655e-10]\n",
      "----\n"
     ]
    }
   ],
   "source": [
    "# verying the rank of: initial_guess, gds_sol, cvx solution w/and without small2zero\n",
    "max_idx = 20\n",
    "for op in [X1, Y1_gds, Y1_cvxpy.value, small2zero(Y1_cvxpy.value, tol=tol)]:\n",
    "    print(np.linalg.matrix_rank(op, tol=tol))\n",
    "    print(np.sort(np.linalg.svd(op, compute_uv=False))[::-1][:max_idx])\n",
    "    print('----')\n"
   ]
  },
  {
   "cell_type": "code",
   "execution_count": null,
   "metadata": {},
   "outputs": [],
   "source": []
  }
 ],
 "metadata": {
  "kernelspec": {
   "display_name": "Python 3.10.4 ('thesis')",
   "language": "python",
   "name": "python3"
  },
  "language_info": {
   "codemirror_mode": {
    "name": "ipython",
    "version": 3
   },
   "file_extension": ".py",
   "mimetype": "text/x-python",
   "name": "python",
   "nbconvert_exporter": "python",
   "pygments_lexer": "ipython3",
   "version": "3.10.4"
  },
  "orig_nbformat": 4,
  "vscode": {
   "interpreter": {
    "hash": "7a5e335ff2d0165f97b24ec78505e76f6491bb7656bd1655dc8df4969b2c8e72"
   }
  }
 },
 "nbformat": 4,
 "nbformat_minor": 2
}
