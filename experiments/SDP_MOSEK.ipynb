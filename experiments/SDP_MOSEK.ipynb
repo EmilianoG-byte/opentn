{
 "cells": [
  {
   "cell_type": "code",
   "execution_count": 1,
   "metadata": {},
   "outputs": [
    {
     "name": "stdout",
     "output_type": "stream",
     "text": [
      "2.638300722408311e-07\n",
      "1.4977787041165522e-07\n"
     ]
    },
    {
     "data": {
      "text/plain": [
       "[<matplotlib.lines.Line2D at 0x7fef3db979a0>]"
      ]
     },
     "execution_count": 1,
     "metadata": {},
     "output_type": "execute_result"
    },
    {
     "data": {
      "image/png": "[encoded data removed]",
      "text/plain": [
       "<Figure size 432x288 with 1 Axes>"
      ]
     },
     "metadata": {
      "needs_background": "light"
     },
     "output_type": "display_data"
    }
   ],
   "source": [
    "import sys\n",
    "sys.path.append('..')\n",
    "# reload local packages automatically\n",
    "%load_ext autoreload\n",
    "%autoreload 2\n",
    "\n",
    "from jax import config\n",
    "config.update(\"jax_enable_x64\", True)\n",
    "\n",
    "# Import packages.\n",
    "import cvxpy as cp\n",
    "import numpy as np\n",
    "\n",
    "import matplotlib.pyplot as plt\n",
    "\n",
    "from opentn.transformations import create_kitaev_liouvillians, exp_operator_dt, factorize_psd, super2choi\n",
    "d, N = 2, 4\n",
    "dim = d**N\n",
    "Lvec, Lvec_odd, Lvec_even, Lnn = create_kitaev_liouvillians(N=N, d=d, gamma=1e-2)\n",
    "tau = 4\n",
    "superops_exp = []\n",
    "for i, op in enumerate([Lvec, Lvec_odd, Lvec_even]):\n",
    "    if i == 1:\n",
    "        superops_exp.append(exp_operator_dt(op, tau/2, 'jax'))\n",
    "    else:\n",
    "        superops_exp.append(exp_operator_dt(op, tau, 'jax'))\n",
    "exp_Lvec, exp_Lvec_odd, exp_Lvec_even = superops_exp\n",
    "\n",
    "X1 = factorize_psd(psd=super2choi(exp_Lvec_odd), tol=1e-12)\n",
    "X2 = factorize_psd(psd=super2choi(exp_Lvec_even), tol=1e-12)\n",
    "\n",
    "from opentn.optimization import gds, frobenius_norm, model_Ys, compute_loss\n",
    "cost_n4, grads_n4, xi_n4 = gds(fn=compute_loss, x0=[X1, X2, X1], iter=int(2e3), loss_fn=frobenius_norm, model=model_Ys, rate=1.5e-9, exact = exp_Lvec, show_cost=False)\n",
    "print(cost_n4[0])\n",
    "print(cost_n4[-1])\n",
    "\n",
    "plt.plot(cost_n4)"
   ]
  },
  {
   "cell_type": "code",
   "execution_count": 2,
   "metadata": {},
   "outputs": [
    {
     "name": "stderr",
     "output_type": "stream",
     "text": [
      "/Users/emiliano_gr/opt/anaconda3/envs/thesis/lib/python3.10/site-packages/scipy/sparse/_data.py:72: ComplexWarning: Casting complex values to real discards the imaginary part\n",
      "  self._deduped_data().astype(dtype, casting=casting, copy=copy),\n",
      "/var/folders/_n/xw2mchz92t9_fcbxg7lwsdwh0000gn/T/ipykernel_15804/2257793326.py:25: ComplexWarning: Casting complex values to real discards the imaginary part\n",
      "  X_initial = small2zero(X1_gds@X1_gds.conj().T, tol=tol).astype(np.float64)\n"
     ]
    }
   ],
   "source": [
    "from opentn.transformations import super2choi, choi_composition, partial_transpose\n",
    "from opentn.optimization import small2zero\n",
    "from scipy import sparse\n",
    "\n",
    "# rest of matrices optimized with GSD\n",
    "X1_gds, X2_gds, X3_gds = xi_n4[-1]\n",
    "Y2 = X2_gds@X2_gds.conj().T\n",
    "Y3 = X3_gds@X3_gds.conj().T\n",
    "\n",
    "tol = 1e-10\n",
    "# rhs to which we want to approximate\n",
    "rhs = np.asarray(super2choi(superop=exp_Lvec, dim=dim))\n",
    "srhs = sparse.csr_matrix(small2zero(rhs, tol=tol)) # small2zero was deleted\n",
    "srhs = srhs.astype(np.float64)\n",
    "\n",
    "# change partial transpose to A\n",
    "A = choi_composition(C1=Y2, C2=Y3, dim=dim) # small2zero was deleted\n",
    "A_tb = partial_transpose(A, dims=[dim, dim], idx=1)\n",
    "I = np.eye(dim)\n",
    "A_tbxI = np.kron(A_tb, I)\n",
    "sA_tbxI = sparse.csr_matrix(small2zero(A_tbxI, tol=tol))\n",
    "sA_tbxI = sA_tbxI.astype(np.float64)\n",
    "sA_tbxI\n",
    "\n",
    "X_initial = small2zero(X1_gds@X1_gds.conj().T, tol=tol).astype(np.float64)"
   ]
  },
  {
   "cell_type": "code",
   "execution_count": 12,
   "metadata": {},
   "outputs": [],
   "source": [
    "X = cp.Variable((dim**2,dim**2), PSD=True)\n",
    "lhs =  cp.partial_trace(sA_tbxI @ cp.kron(I, X), dims=[dim, dim, dim], axis=1)\n",
    "cost = cp.norm(lhs - srhs, \"fro\")\n",
    "prob = cp.Problem(cp.Minimize(cost))\n",
    "X.value = X_initial"
   ]
  },
  {
   "cell_type": "code",
   "execution_count": 13,
   "metadata": {},
   "outputs": [
    {
     "name": "stdout",
     "output_type": "stream",
     "text": [
      "['CLARABEL', 'COPT', 'ECOS', 'ECOS_BB', 'MOSEK', 'OSQP', 'SCIPY', 'SCS']\n"
     ]
    }
   ],
   "source": [
    "print(cp.installed_solvers())"
   ]
  },
  {
   "cell_type": "code",
   "execution_count": 14,
   "metadata": {},
   "outputs": [
    {
     "name": "stdout",
     "output_type": "stream",
     "text": [
      "===============================================================================\n",
      "                                     CVXPY                                     \n",
      "                                     v1.3.1                                    \n",
      "===============================================================================\n",
      "(CVXPY) Jul 27 12:17:33 AM: Your problem has 65536 variables, 0 constraints, and 0 parameters.\n",
      "(CVXPY) Jul 27 12:17:33 AM: It is compliant with the following grammars: DCP, DQCP\n",
      "(CVXPY) Jul 27 12:17:33 AM: (If you need to solve this problem multiple times, but with different data, consider using parameters.)\n",
      "(CVXPY) Jul 27 12:17:33 AM: CVXPY will first compile your problem; then, it will invoke a numerical solver to obtain a solution.\n",
      "-------------------------------------------------------------------------------\n",
      "                                  Compilation                                  \n",
      "-------------------------------------------------------------------------------\n",
      "(CVXPY) Jul 27 12:17:33 AM: Compiling problem (target solver=MOSEK).\n",
      "(CVXPY) Jul 27 12:17:33 AM: Reduction chain: Dcp2Cone -> CvxAttr2Constr -> ConeMatrixStuffing -> MOSEK\n",
      "(CVXPY) Jul 27 12:17:33 AM: Applying reduction Dcp2Cone\n",
      "(CVXPY) Jul 27 12:17:33 AM: Applying reduction CvxAttr2Constr\n",
      "(CVXPY) Jul 27 12:17:33 AM: Applying reduction ConeMatrixStuffing\n",
      "(CVXPY) Jul 27 12:38:00 AM: Applying reduction MOSEK\n",
      "(CVXPY) Jul 27 12:38:04 AM: Finished problem compilation (took 1.231e+03 seconds).\n",
      "-------------------------------------------------------------------------------\n",
      "                                Numerical solver                               \n",
      "-------------------------------------------------------------------------------\n",
      "(CVXPY) Jul 27 12:38:04 AM: Invoking solver MOSEK  to obtain a solution.\n",
      "\n",
      "\n",
      "(CVXPY) Jul 27 12:38:04 AM: Problem\n",
      "(CVXPY) Jul 27 12:38:04 AM:   Name                   :                 \n",
      "(CVXPY) Jul 27 12:38:04 AM:   Objective sense        : maximize        \n",
      "(CVXPY) Jul 27 12:38:04 AM:   Type                   : CONIC (conic optimization problem)\n",
      "(CVXPY) Jul 27 12:38:04 AM:   Constraints            : 32897           \n",
      "(CVXPY) Jul 27 12:38:04 AM:   Affine conic cons.     : 0               \n",
      "(CVXPY) Jul 27 12:38:04 AM:   Disjunctive cons.      : 0               \n",
      "(CVXPY) Jul 27 12:38:04 AM:   Cones                  : 1               \n",
      "(CVXPY) Jul 27 12:38:04 AM:   Scalar variables       : 65537           \n",
      "(CVXPY) Jul 27 12:38:04 AM:   Matrix variables       : 1 (scalarized: 32896)\n",
      "(CVXPY) Jul 27 12:38:04 AM:   Integer variables      : 0               \n",
      "(CVXPY) Jul 27 12:38:04 AM: \n",
      "(CVXPY) Jul 27 12:38:04 AM: Optimizer started.\n",
      "(CVXPY) Jul 27 12:38:04 AM: Presolve started.\n",
      "(CVXPY) Jul 27 12:38:04 AM: Linear dependency checker started.\n",
      "(CVXPY) Jul 27 12:38:04 AM: Linear dependency checker terminated.\n",
      "(CVXPY) Jul 27 12:38:04 AM: Eliminator started.\n",
      "(CVXPY) Jul 27 12:38:05 AM: Freed constraints in eliminator : 0\n",
      "(CVXPY) Jul 27 12:38:05 AM: Eliminator terminated.\n",
      "(CVXPY) Jul 27 12:38:05 AM: Eliminator - tries                  : 1                 time                   : 0.00            \n",
      "(CVXPY) Jul 27 12:38:05 AM: Lin. dep.  - tries                  : 1                 time                   : 0.01            \n",
      "(CVXPY) Jul 27 12:38:05 AM: Lin. dep.  - primal attempts        : 1                 successes              : 1               \n",
      "(CVXPY) Jul 27 12:38:05 AM: Lin. dep.  - dual attempts          : 0                 successes              : 0               \n",
      "(CVXPY) Jul 27 12:38:05 AM: Lin. dep.  - primal deps.           : 0                 dual deps.             : 0               \n",
      "(CVXPY) Jul 27 12:38:05 AM: Presolve terminated. Time: 0.06    \n",
      "(CVXPY) Jul 27 12:39:32 AM: GP based matrix reordering started.\n",
      "(CVXPY) Jul 27 12:39:32 AM: GP based matrix reordering terminated.\n",
      "(CVXPY) Jul 27 12:39:40 AM: Optimizer  - threads                : 8               \n",
      "(CVXPY) Jul 27 12:39:40 AM: Optimizer  - solved problem         : \n",
      "(CVXPY) Jul 27 12:39:40 AM: the primal      \n",
      "(CVXPY) Jul 27 12:39:40 AM: \n",
      "(CVXPY) Jul 27 12:39:40 AM: Optimizer  - Constraints            : 32896           \n",
      "(CVXPY) Jul 27 12:39:40 AM: Optimizer  - Cones                  : 1               \n",
      "(CVXPY) Jul 27 12:39:40 AM: Optimizer  - Scalar variables       : 65041             conic                  : 65041           \n",
      "(CVXPY) Jul 27 12:39:40 AM: Optimizer  - Semi-definite variables: 1                 scalarized             : 32896           \n",
      "(CVXPY) Jul 27 12:39:40 AM: Factor     - setup time             : 95.74           \n",
      "(CVXPY) Jul 27 12:39:40 AM: Factor     - dense det. time        : 75.53             GP order time          : 0.05            \n",
      "(CVXPY) Jul 27 12:39:40 AM: Factor     - nonzeros before factor : 5.41e+08          after factor           : 5.41e+08        \n",
      "(CVXPY) Jul 27 12:39:40 AM: Factor     - dense dim.             : 0                 flops                  : 1.19e+13        \n",
      "(CVXPY) Jul 27 12:39:40 AM: ITE PFEAS    DFEAS    GFEAS    PRSTATUS   POBJ              DOBJ              MU       TIME  \n",
      "(CVXPY) Jul 27 12:39:40 AM: 0   1.0e+00  1.4e+00  2.0e+00  0.00e+00   -0.000000000e+00  1.000000000e+00   1.0e+00  95.93 \n",
      "(CVXPY) Jul 27 12:42:00 AM: 1   8.2e-01  1.2e+00  2.8e-01  -8.45e-01  6.743090185e+00   7.649887475e+00   8.2e-01  236.00\n",
      "(CVXPY) Jul 27 12:44:50 AM: 2   7.2e-01  1.0e+00  1.8e-01  6.63e-01   4.645379694e+00   5.215585420e+00   7.2e-01  405.78\n",
      "(CVXPY) Jul 27 12:47:49 AM: 3   1.1e-01  1.5e-01  5.4e-03  1.38e+00   2.743350077e-01   3.089543061e-01   1.1e-01  584.60\n",
      "(CVXPY) Jul 27 12:50:52 AM: 4   1.6e-03  2.3e-03  2.8e-05  1.55e+00   2.605568342e-03   2.952758853e-03   1.6e-03  767.55\n",
      "(CVXPY) Jul 27 12:53:58 AM: 5   1.8e-05  2.6e-05  3.2e-08  1.01e+00   2.837076609e-05   3.224389847e-05   1.8e-05  954.00\n",
      "(CVXPY) Jul 27 12:57:11 AM: 6   2.3e-07  3.3e-07  3.9e-11  1.00e+00   4.037475575e-07   4.556585628e-07   2.3e-07  1146.96\n",
      "(CVXPY) Jul 27 01:00:17 AM: 7   4.3e-08  5.2e-08  1.0e-12  1.00e+00   1.304227302e-07   1.393737468e-07   3.8e-08  1332.73\n",
      "(CVXPY) Jul 27 01:00:17 AM: Optimizer terminated. Time: 1333.00 \n",
      "(CVXPY) Jul 27 01:00:17 AM: \n",
      "(CVXPY) Jul 27 01:00:17 AM: Interior-point solution summary\n",
      "(CVXPY) Jul 27 01:00:17 AM:   Problem status  : PRIMAL_AND_DUAL_FEASIBLE\n",
      "(CVXPY) Jul 27 01:00:17 AM:   Solution status : OPTIMAL\n",
      "(CVXPY) Jul 27 01:00:17 AM:   Primal.  obj: 1.3042273022e-07    nrm: 1e+00    Viol.\n",
      "(CVXPY) Jul 27 01:00:17 AM:   con: 5e-09  \n",
      "(CVXPY) Jul 27 01:00:17 AM:   var: 0e+00  \n",
      "(CVXPY) Jul 27 01:00:17 AM:   barvar: 0e+00  \n",
      "(CVXPY) Jul 27 01:00:17 AM:   cones: 0e+00  \n",
      "(CVXPY) Jul 27 01:00:17 AM: \n",
      "(CVXPY) Jul 27 01:00:17 AM:   Dual.    obj: 1.3937374520e-07    nrm: 1e+00    Viol.\n",
      "(CVXPY) Jul 27 01:00:17 AM:   con: 0e+00  \n",
      "(CVXPY) Jul 27 01:00:17 AM:   var: 5e-09  \n",
      "(CVXPY) Jul 27 01:00:17 AM:   barvar: 5e-09  \n",
      "(CVXPY) Jul 27 01:00:17 AM:   cones: 0e+00  \n",
      "(CVXPY) Jul 27 01:00:17 AM: \n",
      "-------------------------------------------------------------------------------\n",
      "                                    Summary                                    \n",
      "-------------------------------------------------------------------------------\n",
      "(CVXPY) Jul 27 01:00:20 AM: Problem status: optimal\n",
      "(CVXPY) Jul 27 01:00:20 AM: Optimal value: 1.568e-07\n",
      "(CVXPY) Jul 27 01:00:20 AM: Compilation took 1.231e+03 seconds\n",
      "(CVXPY) Jul 27 01:00:20 AM: Solver (including time spent in interface) took 1.334e+03 seconds\n"
     ]
    },
    {
     "data": {
      "text/plain": [
       "1.5679303929926725e-07"
      ]
     },
     "execution_count": 14,
     "metadata": {},
     "output_type": "execute_result"
    }
   ],
   "source": [
    "mosek_params = {'MSK_DPAR_INTPNT_CO_TOL_REL_GAP':1e-10, 'MSK_DPAR_INTPNT_CO_TOL_DFEAS':1e-10, 'MSK_DPAR_INTPNT_CO_TOL_MU_RED':1e-10, 'MSK_DPAR_INTPNT_CO_TOL_PFEAS':1e-10}\n",
    "prob.solve(solver=cp.MOSEK, verbose=True, canon_backend=cp.SCIPY_CANON_BACKEND, mosek_params=mosek_params)"
   ]
  },
  {
   "cell_type": "code",
   "execution_count": 20,
   "metadata": {},
   "outputs": [
    {
     "name": "stdout",
     "output_type": "stream",
     "text": [
      "[1.59601247e+01 1.99251776e-02 1.99251753e-02 2.48857364e-05\n",
      " 5.69463410e-08 4.94522997e-08 4.67828288e-08 4.28095430e-08\n",
      " 4.09429693e-08 2.28724141e-08 1.82394528e-08 1.37084434e-08\n",
      " 7.30374788e-09 7.27442924e-09 7.22211465e-09 7.17190953e-09\n",
      " 7.16522009e-09 7.16300467e-09 7.16300467e-09 7.16300467e-09\n",
      " 7.16300467e-09 7.16300467e-09 7.16300467e-09 7.16300467e-09\n",
      " 7.16300467e-09 7.16300467e-09 7.16300467e-09 7.16215750e-09\n",
      " 7.16124060e-09 7.15418102e-09 7.15126386e-09 7.15126385e-09]\n"
     ]
    },
    {
     "data": {
      "text/plain": [
       "12"
      ]
     },
     "execution_count": 20,
     "metadata": {},
     "output_type": "execute_result"
    }
   ],
   "source": [
    "max_idx = 32\n",
    "print(np.sort(np.linalg.svd(X.value, compute_uv=False))[::-1][:max_idx])\n",
    "np.linalg.matrix_rank(X.value, tol=1e-8)"
   ]
  },
  {
   "cell_type": "code",
   "execution_count": 19,
   "metadata": {},
   "outputs": [
    {
     "data": {
      "text/plain": [
       "[<matplotlib.lines.Line2D at 0x7fedc3f40e20>]"
      ]
     },
     "execution_count": 19,
     "metadata": {},
     "output_type": "execute_result"
    },
    {
     "data": {
      "image/png": "[encoded data removed]",
      "text/plain": [
       "<Figure size 1200x800 with 1 Axes>"
      ]
     },
     "metadata": {
      "needs_background": "light"
     },
     "output_type": "display_data"
    }
   ],
   "source": [
    "plt.figure(dpi=200)\n",
    "plt.semilogy(np.linalg.svd(X.value, compute_uv=False), 'x')"
   ]
  },
  {
   "cell_type": "code",
   "execution_count": null,
   "metadata": {},
   "outputs": [],
   "source": []
  }
 ],
 "metadata": {
  "kernelspec": {
   "display_name": "thesis",
   "language": "python",
   "name": "thesis"
  },
  "language_info": {
   "codemirror_mode": {
    "name": "ipython",
    "version": 3
   },
   "file_extension": ".py",
   "mimetype": "text/x-python",
   "name": "python",
   "nbconvert_exporter": "python",
   "pygments_lexer": "ipython3",
   "version": "3.10.4"
  },
  "orig_nbformat": 4
 },
 "nbformat": 4,
 "nbformat_minor": 2
}
