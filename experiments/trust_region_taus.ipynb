{
 "cells": [
  {
   "cell_type": "code",
   "execution_count": 1,
   "metadata": {},
   "outputs": [],
   "source": [
    "import numpy as np\n",
    "import sys\n",
    "sys.path.append('..')\n",
    "%load_ext autoreload\n",
    "%autoreload 2\n",
    "from jax import config\n",
    "config.update(\"jax_enable_x64\", True)"
   ]
  },
  {
   "cell_type": "markdown",
   "metadata": {},
   "source": [
    "# Is there a sweet spot for the final time $\\tau$ so that the error is not so small that is close to machine precision but not that big either?"
   ]
  },
  {
   "cell_type": "code",
   "execution_count": 2,
   "metadata": {},
   "outputs": [],
   "source": [
    "from opentn.transformations import create_kitaev_liouvillians, exp_operator_dt, super2ortho, create_trotter_layers\n",
    "d, N, gamma = 2, 4, 1\n",
    "tau = 4\n",
    "Lvec, Lvec_odd, Lvec_even, Lnn = create_kitaev_liouvillians(N=N, d=d, gamma=gamma, pbc=True)\n",
    "exp_Lvec, exp_Lvec_odd, exp_Lvec_even = create_trotter_layers([Lvec, Lvec_odd, Lvec_even], tau=tau)"
   ]
  },
  {
   "cell_type": "code",
   "execution_count": 3,
   "metadata": {},
   "outputs": [],
   "source": [
    "from opentn.optimization import frobenius_norm, model_stiefel_local, get_kitaev_trotter_local_ansatz\n",
    "from opentn.stiefel import gradient_stiefel_vec, riemannian_hessian_vec\n",
    "\n",
    "xs_timestep_1_tau_4 = [super2ortho(x.real, rank=2) for x in get_kitaev_trotter_local_ansatz(gamma, tau, n=1)]\n",
    "\n",
    "f_stiefel = lambda xi: frobenius_norm(model_stiefel_local(xi, N, d, ), exp_Lvec)\n",
    "grad_stiefel = lambda xi: gradient_stiefel_vec(xi, f_stiefel, metric='canonical')\n",
    "hessian_stiefel = lambda xi: riemannian_hessian_vec(xi, f_stiefel, metric='canonical')"
   ]
  },
  {
   "cell_type": "code",
   "execution_count": 4,
   "metadata": {},
   "outputs": [
    {
     "data": {
      "text/plain": [
       "DeviceArray(0.14312676, dtype=float64)"
      ]
     },
     "execution_count": 4,
     "metadata": {},
     "output_type": "execute_result"
    }
   ],
   "source": [
    "# initial cost function with stiefel ansatz for two sites\n",
    "f_stiefel(xs_timestep_1_tau_4)"
   ]
  },
  {
   "cell_type": "code",
   "execution_count": null,
   "metadata": {},
   "outputs": [],
   "source": [
    "# trust rergion optimization functions\n",
    "from opentn.trust_region_rcopt import riemannian_trust_region_optimize\n",
    "from opentn.stiefel import retract_stiefel"
   ]
  }
 ],
 "metadata": {
  "kernelspec": {
   "display_name": "thesis",
   "language": "python",
   "name": "python3"
  },
  "language_info": {
   "codemirror_mode": {
    "name": "ipython",
    "version": 3
   },
   "file_extension": ".py",
   "mimetype": "text/x-python",
   "name": "python",
   "nbconvert_exporter": "python",
   "pygments_lexer": "ipython3",
   "version": "3.10.4"
  },
  "orig_nbformat": 4
 },
 "nbformat": 4,
 "nbformat_minor": 2
}
