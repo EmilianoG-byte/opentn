{
 "cells": [
  {
   "cell_type": "code",
   "execution_count": 1,
   "metadata": {},
   "outputs": [],
   "source": [
    "import numpy as np\n",
    "import sys\n",
    "sys.path.append('..')\n",
    "%load_ext autoreload\n",
    "%autoreload 2\n",
    "import jax\n",
    "from jax import config\n",
    "config.update(\"jax_enable_x64\", True)\n",
    "import jax.numpy as jnp"
   ]
  },
  {
   "cell_type": "code",
   "execution_count": 3,
   "metadata": {},
   "outputs": [
    {
     "name": "stdout",
     "output_type": "stream",
     "text": [
      "0.0959176702323516\n"
     ]
    }
   ],
   "source": [
    "# setup for problem\n",
    "# get the setup for the problem\n",
    "from opentn.transformations import create_trotter_layers, create_kitaev_liouvillians\n",
    "from opentn.optimization import frobenius_norm, compose_superops_list\n",
    "d, N, gamma = 2, 4, 1\n",
    "tau = 4\n",
    "pbc = False \n",
    "\n",
    "Lvec, Lvec_odd, Lvec_even, Lnn = create_kitaev_liouvillians(N=N, d=d, gamma=gamma, pbc=pbc)\n",
    "exp_Lvec, exp_Lvec_odd, exp_Lvec_even = create_trotter_layers(liouvillians=[Lvec, Lvec_odd, Lvec_even], tau=tau)\n",
    "print(frobenius_norm(compose_superops_list([exp_Lvec_odd, exp_Lvec_even, exp_Lvec_odd]), exp_Lvec))"
   ]
  },
  {
   "cell_type": "code",
   "execution_count": 11,
   "metadata": {},
   "outputs": [
    {
     "name": "stdout",
     "output_type": "stream",
     "text": [
      "[(64, 16), (64, 16), (64, 16)]\n"
     ]
    }
   ],
   "source": [
    "from opentn.transformations import super2ortho\n",
    "xs_nopbc_stiefel = [super2ortho(x.real, rank=4) for x in [exp_Lvec_odd, exp_Lvec_even, exp_Lvec_odd]]\n",
    "print([op.shape for op in xs_nopbc_stiefel])"
   ]
  },
  {
   "cell_type": "code",
   "execution_count": 12,
   "metadata": {},
   "outputs": [
    {
     "data": {
      "text/plain": [
       "DeviceArray(0.09591767, dtype=float64)"
      ]
     },
     "execution_count": 12,
     "metadata": {},
     "output_type": "execute_result"
    }
   ],
   "source": [
    "from opentn.optimization import model_Ys_stiefel\n",
    "from opentn.stiefel import retract_stiefel, gradient_stiefel_vec, riemannian_hessian_vec\n",
    "f_stiefel = lambda xi: frobenius_norm(model_Ys_stiefel(xi), exp_Lvec)\n",
    "grad_stiefel_euclidean = lambda xi: gradient_stiefel_vec(xi, f_stiefel, metric='euclidean')\n",
    "hessian_stiefel_euclidean = lambda xi: riemannian_hessian_vec(xi, f_stiefel, metric='euclidean')\n",
    "f_stiefel(xs_nopbc_stiefel)"
   ]
  },
  {
   "cell_type": "code",
   "execution_count": 13,
   "metadata": {},
   "outputs": [
    {
     "name": "stdout",
     "output_type": "stream",
     "text": [
      "iteration: 0\n",
      "column : 0\n",
      "column : 1\n",
      "column : 2\n",
      "radius 0.02\n",
      "iteration: 1\n",
      "column : 0\n",
      "column : 1\n",
      "column : 2\n",
      "radius 0.005\n",
      "iteration: 2\n",
      "column : 0\n",
      "column : 1\n",
      "column : 2\n",
      "radius 0.01\n",
      "iteration: 3\n",
      "column : 0\n",
      "column : 1\n",
      "column : 2\n",
      "radius 0.01\n",
      "iteration: 4\n",
      "column : 0\n",
      "column : 1\n",
      "column : 2\n",
      "radius 0.0025\n",
      "iteration: 5\n",
      "column : 0\n",
      "column : 1\n",
      "column : 2\n",
      "radius 0.0025\n",
      "iteration: 6\n",
      "column : 0\n",
      "column : 1\n",
      "column : 2\n",
      "radius 0.0025\n",
      "iteration: 7\n",
      "column : 0\n",
      "column : 1\n",
      "column : 2\n",
      "radius 0.000625\n",
      "iteration: 8\n",
      "column : 0\n",
      "column : 1\n",
      "column : 2\n",
      "radius 0.00125\n",
      "iteration: 9\n",
      "column : 0\n",
      "column : 1\n",
      "column : 2\n",
      "radius 0.00125\n"
     ]
    }
   ],
   "source": [
    "from opentn.trust_region_rcopt import riemannian_trust_region_optimize\n",
    "xs_nopbc_1, f_nopbc_1, err_nopbc_1, radius_nopbc_1 = riemannian_trust_region_optimize(\n",
    "    f_stiefel, retract_stiefel, grad_stiefel_euclidean, hessian_stiefel_euclidean, xs_nopbc_stiefel, niter=10\n",
    ")"
   ]
  },
  {
   "cell_type": "code",
   "execution_count": 21,
   "metadata": {},
   "outputs": [
    {
     "name": "stdout",
     "output_type": "stream",
     "text": [
      "iteration: 0\n",
      "column : 0\n",
      "column : 1\n",
      "column : 2\n",
      "radius 0.00125\n",
      "iteration: 1\n",
      "column : 0\n",
      "column : 1\n",
      "column : 2\n",
      "radius 0.00125\n",
      "iteration: 2\n",
      "column : 0\n",
      "column : 1\n",
      "column : 2\n",
      "radius 0.00125\n",
      "iteration: 3\n",
      "column : 0\n",
      "column : 1\n",
      "column : 2\n",
      "radius 0.00125\n",
      "iteration: 4\n",
      "column : 0\n",
      "column : 1\n",
      "column : 2\n",
      "radius 0.00125\n",
      "iteration: 5\n",
      "column : 0\n",
      "column : 1\n",
      "column : 2\n",
      "radius 0.00125\n",
      "iteration: 6\n",
      "column : 0\n",
      "column : 1\n",
      "column : 2\n",
      "radius 0.00125\n",
      "iteration: 7\n",
      "column : 0\n",
      "column : 1\n",
      "column : 2\n",
      "radius 0.00125\n",
      "iteration: 8\n",
      "column : 0\n",
      "column : 1\n",
      "column : 2\n",
      "radius 0.00125\n",
      "iteration: 9\n",
      "column : 0\n",
      "column : 1\n",
      "column : 2\n",
      "radius 0.00125\n"
     ]
    }
   ],
   "source": [
    "xs_nopbc_2, f_nopbc_2, err_nopbc_2, radius_nopbc_2 = riemannian_trust_region_optimize(\n",
    "    f_stiefel, retract_stiefel, grad_stiefel_euclidean, hessian_stiefel_euclidean, xs_nopbc_1, niter=10, radius_init=radius_nopbc_1\n",
    ")"
   ]
  },
  {
   "cell_type": "code",
   "execution_count": 25,
   "metadata": {},
   "outputs": [
    {
     "name": "stdout",
     "output_type": "stream",
     "text": [
      "iteration: 0\n",
      "column : 0\n",
      "column : 1\n",
      "column : 2\n",
      "radius 0.00125\n",
      "iteration: 1\n",
      "column : 0\n",
      "column : 1\n",
      "column : 2\n",
      "radius 0.00125\n",
      "iteration: 2\n",
      "column : 0\n",
      "column : 1\n",
      "column : 2\n",
      "radius 0.00125\n",
      "iteration: 3\n",
      "column : 0\n",
      "column : 1\n",
      "column : 2\n",
      "radius 0.00125\n",
      "iteration: 4\n",
      "column : 0\n",
      "column : 1\n",
      "column : 2\n",
      "radius 0.0003125\n",
      "iteration: 5\n",
      "column : 0\n",
      "column : 1\n",
      "column : 2\n",
      "radius 0.000625\n",
      "iteration: 6\n",
      "column : 0\n",
      "column : 1\n",
      "column : 2\n",
      "radius 0.000625\n",
      "iteration: 7\n",
      "column : 0\n",
      "column : 1\n",
      "column : 2\n",
      "radius 0.00125\n",
      "iteration: 8\n",
      "column : 0\n",
      "column : 1\n",
      "column : 2\n",
      "radius 0.0025\n",
      "iteration: 9\n",
      "column : 0\n",
      "column : 1\n",
      "column : 2\n",
      "radius 0.000625\n"
     ]
    }
   ],
   "source": [
    "xs_nopbc_3, f_nopbc_3, err_nopbc_3, radius_nopbc_3 = riemannian_trust_region_optimize(\n",
    "    f_stiefel, retract_stiefel, grad_stiefel_euclidean, hessian_stiefel_euclidean, xs_nopbc_2, niter=10, radius_init=radius_nopbc_2\n",
    ")"
   ]
  },
  {
   "cell_type": "code",
   "execution_count": 15,
   "metadata": {},
   "outputs": [],
   "source": [
    "grad_stiefel_canonical = lambda xi: gradient_stiefel_vec(xi, f_stiefel, metric='canonical')\n",
    "hessian_stiefel_canonical = lambda xi: riemannian_hessian_vec(xi, f_stiefel, metric='canonical')"
   ]
  },
  {
   "cell_type": "code",
   "execution_count": 16,
   "metadata": {},
   "outputs": [
    {
     "name": "stdout",
     "output_type": "stream",
     "text": [
      "iteration: 0\n",
      "column : 0\n",
      "column : 1\n",
      "column : 2\n",
      "radius 0.01\n",
      "iteration: 1\n",
      "column : 0\n",
      "column : 1\n",
      "column : 2\n",
      "radius 0.0025\n",
      "iteration: 2\n",
      "column : 0\n",
      "column : 1\n",
      "column : 2\n",
      "radius 0.0025\n",
      "iteration: 3\n",
      "column : 0\n",
      "column : 1\n",
      "column : 2\n",
      "radius 0.0025\n",
      "iteration: 4\n",
      "column : 0\n",
      "column : 1\n",
      "column : 2\n",
      "radius 0.0025\n",
      "iteration: 5\n",
      "column : 0\n",
      "column : 1\n",
      "column : 2\n",
      "radius 0.000625\n",
      "iteration: 6\n",
      "column : 0\n",
      "column : 1\n",
      "column : 2\n",
      "radius 0.000625\n",
      "iteration: 7\n",
      "column : 0\n",
      "column : 1\n",
      "column : 2\n",
      "radius 0.000625\n",
      "iteration: 8\n",
      "column : 0\n",
      "column : 1\n",
      "column : 2\n",
      "radius 0.00125\n",
      "iteration: 9\n",
      "column : 0\n",
      "column : 1\n",
      "column : 2\n",
      "radius 0.0025\n"
     ]
    }
   ],
   "source": [
    "xs_nopbc_1_canonical, f_nopbc_1_canonical, err_nopbc_1_canonical, radius_nopbc_1_canonical = riemannian_trust_region_optimize(\n",
    "    f_stiefel, retract_stiefel, grad_stiefel_canonical, hessian_stiefel_canonical, xs_nopbc_stiefel, niter=10\n",
    ")"
   ]
  },
  {
   "cell_type": "code",
   "execution_count": 18,
   "metadata": {},
   "outputs": [
    {
     "name": "stdout",
     "output_type": "stream",
     "text": [
      "iteration: 0\n",
      "column : 0\n",
      "column : 1\n",
      "column : 2\n",
      "radius 0.0025\n",
      "iteration: 1\n",
      "column : 0\n",
      "column : 1\n",
      "column : 2\n",
      "radius 0.000625\n",
      "iteration: 2\n",
      "column : 0\n",
      "column : 1\n",
      "column : 2\n",
      "radius 0.000625\n",
      "iteration: 3\n",
      "column : 0\n",
      "column : 1\n",
      "column : 2\n",
      "radius 0.00125\n",
      "iteration: 4\n",
      "column : 0\n",
      "column : 1\n",
      "column : 2\n",
      "radius 0.0025\n",
      "iteration: 5\n",
      "column : 0\n",
      "column : 1\n",
      "column : 2\n",
      "radius 0.005\n",
      "iteration: 6\n",
      "column : 0\n",
      "column : 1\n",
      "column : 2\n",
      "radius 0.00125\n",
      "iteration: 7\n",
      "column : 0\n",
      "column : 1\n",
      "column : 2\n",
      "radius 0.0003125\n",
      "iteration: 8\n",
      "column : 0\n",
      "column : 1\n",
      "column : 2\n",
      "radius 0.0003125\n",
      "iteration: 9\n",
      "column : 0\n",
      "column : 1\n",
      "column : 2\n",
      "radius 0.0003125\n"
     ]
    }
   ],
   "source": [
    "xs_nopbc_2_canonical, f_nopbc_2_canonical, err_nopbc_2_canonical, radius_nopbc_2_canonical = riemannian_trust_region_optimize(\n",
    "    f_stiefel, retract_stiefel, grad_stiefel_canonical, hessian_stiefel_canonical, xs_nopbc_1_canonical, niter=10, radius_init=radius_nopbc_1_canonical\n",
    ")"
   ]
  },
  {
   "cell_type": "code",
   "execution_count": 23,
   "metadata": {},
   "outputs": [
    {
     "name": "stdout",
     "output_type": "stream",
     "text": [
      "iteration: 0\n",
      "column : 0\n",
      "column : 1\n",
      "column : 2\n",
      "radius 0.000625\n",
      "iteration: 1\n",
      "column : 0\n",
      "column : 1\n",
      "column : 2\n",
      "radius 0.00125\n",
      "iteration: 2\n",
      "column : 0\n",
      "column : 1\n",
      "column : 2\n",
      "radius 0.0025\n",
      "iteration: 3\n",
      "column : 0\n",
      "column : 1\n",
      "column : 2\n",
      "radius 0.0025\n",
      "iteration: 4\n",
      "column : 0\n",
      "column : 1\n",
      "column : 2\n",
      "radius 0.000625\n",
      "iteration: 5\n",
      "column : 0\n",
      "column : 1\n",
      "column : 2\n",
      "radius 0.000625\n",
      "iteration: 6\n",
      "column : 0\n",
      "column : 1\n",
      "column : 2\n",
      "radius 0.00125\n",
      "iteration: 7\n",
      "column : 0\n",
      "column : 1\n",
      "column : 2\n",
      "radius 0.0025\n",
      "iteration: 8\n",
      "column : 0\n",
      "column : 1\n",
      "column : 2\n",
      "radius 0.0025\n",
      "iteration: 9\n",
      "column : 0\n",
      "column : 1\n",
      "column : 2\n",
      "radius 0.000625\n"
     ]
    }
   ],
   "source": [
    "xs_nopbc_3_canonical, f_nopbc_3_canonical, err_nopbc_3_canonical, radius_nopbc_3_canonical = riemannian_trust_region_optimize(\n",
    "    f_stiefel, retract_stiefel, grad_stiefel_canonical, hessian_stiefel_canonical, xs_nopbc_2_canonical, niter=10, radius_init=radius_nopbc_2_canonical\n",
    ")"
   ]
  },
  {
   "cell_type": "code",
   "execution_count": 28,
   "metadata": {},
   "outputs": [
    {
     "data": {
      "text/plain": [
       "([True, True, True], [True, True, True])"
      ]
     },
     "execution_count": 28,
     "metadata": {},
     "output_type": "execute_result"
    }
   ],
   "source": [
    "from opentn.stiefel import check_isometries\n",
    "check_isometries(xs_nopbc_3_canonical), check_isometries(xs_nopbc_3)"
   ]
  },
  {
   "cell_type": "code",
   "execution_count": 26,
   "metadata": {},
   "outputs": [
    {
     "data": {
      "text/plain": [
       "<matplotlib.legend.Legend at 0x7fe25aec14b0>"
      ]
     },
     "execution_count": 26,
     "metadata": {},
     "output_type": "execute_result"
    },
    {
     "data": {
      "image/png": "[encoded data removed]",
      "text/plain": [
       "<Figure size 1200x800 with 1 Axes>"
      ]
     },
     "metadata": {
      "needs_background": "light"
     },
     "output_type": "display_data"
    }
   ],
   "source": [
    "import matplotlib.pyplot as plt\n",
    "plt.figure(dpi=200)\n",
    "plt.plot(f_nopbc_1 + f_nopbc_2 + f_nopbc_3, '--', label='euclidean (grad and hess)')\n",
    "plt.plot(f_nopbc_1_canonical + f_nopbc_2_canonical + f_nopbc_3_canonical, '--', label='canonical (grad and hess)')\n",
    "plt.legend()"
   ]
  }
 ],
 "metadata": {
  "kernelspec": {
   "display_name": "thesis",
   "language": "python",
   "name": "python3"
  },
  "language_info": {
   "codemirror_mode": {
    "name": "ipython",
    "version": 3
   },
   "file_extension": ".py",
   "mimetype": "text/x-python",
   "name": "python",
   "nbconvert_exporter": "python",
   "pygments_lexer": "ipython3",
   "version": "3.10.4"
  },
  "orig_nbformat": 4
 },
 "nbformat": 4,
 "nbformat_minor": 2
}
