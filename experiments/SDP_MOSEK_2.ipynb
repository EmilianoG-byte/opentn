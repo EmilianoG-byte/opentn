{
 "cells": [
  {
   "cell_type": "code",
   "execution_count": 1,
   "metadata": {},
   "outputs": [
    {
     "name": "stdout",
     "output_type": "stream",
     "text": [
      "2.6383007149418305e-07\n",
      "1.4977787039695335e-07\n"
     ]
    }
   ],
   "source": [
    "import sys\n",
    "sys.path.append('..')\n",
    "# reload local packages automatically\n",
    "%load_ext autoreload\n",
    "%autoreload 2\n",
    "\n",
    "from jax import config\n",
    "config.update(\"jax_enable_x64\", True)\n",
    "\n",
    "# Import packages.\n",
    "import cvxpy as cp\n",
    "import numpy as np\n",
    "\n",
    "import matplotlib.pyplot as plt\n",
    "\n",
    "\n",
    "from opentn.transformations import create_kitaev_liouvillians, exp_operator_dt, factorize_psd, super2choi\n",
    "d, N = 2, 4\n",
    "dim = d**N\n",
    "Lvec, Lvec_odd, Lvec_even, Lnn = create_kitaev_liouvillians(N=N, d=d, gamma=1e-2)\n",
    "tau = 4\n",
    "superops_exp = []\n",
    "for i, op in enumerate([Lvec, Lvec_odd, Lvec_even]):\n",
    "    if i == 1:\n",
    "        superops_exp.append(exp_operator_dt(op, tau/2, 'jax'))\n",
    "    else:\n",
    "        superops_exp.append(exp_operator_dt(op, tau, 'jax'))\n",
    "exp_Lvec, exp_Lvec_odd, exp_Lvec_even = superops_exp\n",
    "\n",
    "X1 = factorize_psd(psd=super2choi(exp_Lvec_odd), tol=1e-12)\n",
    "X2 = factorize_psd(psd=super2choi(exp_Lvec_even), tol=1e-12)\n",
    "\n",
    "from opentn.optimization import gds, frobenius_norm, model_Ys, compute_loss\n",
    "cost_n4, grads_n4, xi_n4 = gds(fn=compute_loss, x0=[X1, X2, X1], iter=int(2e3), loss_fn=frobenius_norm, model=model_Ys, rate=1.5e-9, exact = exp_Lvec, show_cost=False)\n",
    "print(cost_n4[0])\n",
    "print(cost_n4[-1])"
   ]
  },
  {
   "cell_type": "code",
   "execution_count": 2,
   "metadata": {},
   "outputs": [
    {
     "name": "stderr",
     "output_type": "stream",
     "text": [
      "/opt/miniconda3/envs/thesis/lib/python3.10/site-packages/scipy/sparse/_data.py:72: ComplexWarning: Casting complex values to real discards the imaginary part\n",
      "  self.data.astype(dtype, casting=casting, copy=True),\n",
      "/var/folders/lv/986s3mp97gv9n3rb757bg87m0000gn/T/ipykernel_17592/3121483849.py:25: ComplexWarning: Casting complex values to real discards the imaginary part\n",
      "  Y1_cvxpy.value = small2zero(Y1_gds, tol=tol).astype(np.float64)\n"
     ]
    },
    {
     "data": {
      "text/plain": [
       "1.4977447043603566e-07"
      ]
     },
     "execution_count": 2,
     "metadata": {},
     "output_type": "execute_result"
    }
   ],
   "source": [
    "from opentn.transformations import super2choi, choi_composition\n",
    "from opentn.optimization import small2zero\n",
    "from scipy import sparse\n",
    "\n",
    "# rest of matrices optimized with GSD\n",
    "X1_gds, X2_gds, X3_gds = xi_n4[-1]\n",
    "Y1_gds = X1_gds@X1_gds.conj().T\n",
    "Y2_gds = X2_gds@X2_gds.conj().T\n",
    "Y3_gds = X3_gds@X3_gds.conj().T\n",
    "\n",
    "tol = 1e-12\n",
    "\n",
    "# rhs to which we want to approximate\n",
    "rhs = np.asarray(super2choi(superop=exp_Lvec, dim=dim))\n",
    "# srhs = sparse.csr_matrix(rhs) # small2zero was deleted\n",
    "srhs = sparse.csr_matrix(small2zero(rhs, tol=tol)) # small2zero was deleted\n",
    "srhs = srhs.astype(np.float64)\n",
    "\n",
    "from opentn.transformations import link_product_cvxpy\n",
    "Y1_cvxpy = cp.Variable((dim**2,dim**2), PSD=True)\n",
    "C2 = choi_composition(small2zero(Y2_gds, tol), small2zero(Y3_gds, tol))\n",
    "lhs = link_product_cvxpy(C1=Y1_cvxpy, C2=C2, dim=dim, transpose=1, optimization=True)\n",
    "cost = cp.norm(lhs - srhs, \"fro\")\n",
    "prob = cp.Problem(cp.Minimize(cost))\n",
    "Y1_cvxpy.value = small2zero(Y1_gds, tol=tol).astype(np.float64) \n",
    "cost.value"
   ]
  },
  {
   "cell_type": "code",
   "execution_count": 3,
   "metadata": {},
   "outputs": [
    {
     "name": "stdout",
     "output_type": "stream",
     "text": [
      "['CVXOPT', 'ECOS', 'ECOS_BB', 'GLPK', 'GLPK_MI', 'MOSEK', 'OSQP', 'SCIPY', 'SCS']\n"
     ]
    }
   ],
   "source": [
    "print(cp.installed_solvers())"
   ]
  },
  {
   "cell_type": "code",
   "execution_count": 4,
   "metadata": {},
   "outputs": [
    {
     "name": "stdout",
     "output_type": "stream",
     "text": [
      "===============================================================================\n",
      "                                     CVXPY                                     \n",
      "                                     v1.3.2                                    \n",
      "===============================================================================\n",
      "(CVXPY) Jul 29 11:16:44 PM: Your problem has 65536 variables, 0 constraints, and 0 parameters.\n",
      "(CVXPY) Jul 29 11:16:44 PM: It is compliant with the following grammars: DCP, DQCP\n",
      "(CVXPY) Jul 29 11:16:44 PM: (If you need to solve this problem multiple times, but with different data, consider using parameters.)\n",
      "(CVXPY) Jul 29 11:16:44 PM: CVXPY will first compile your problem; then, it will invoke a numerical solver to obtain a solution.\n",
      "-------------------------------------------------------------------------------\n",
      "                                  Compilation                                  \n",
      "-------------------------------------------------------------------------------\n",
      "(CVXPY) Jul 29 11:16:44 PM: Compiling problem (target solver=MOSEK).\n",
      "(CVXPY) Jul 29 11:16:44 PM: Reduction chain: Dcp2Cone -> CvxAttr2Constr -> ConeMatrixStuffing -> MOSEK\n",
      "(CVXPY) Jul 29 11:16:44 PM: Applying reduction Dcp2Cone\n",
      "(CVXPY) Jul 29 11:16:44 PM: Applying reduction CvxAttr2Constr\n",
      "(CVXPY) Jul 29 11:16:44 PM: Applying reduction ConeMatrixStuffing\n",
      "(CVXPY) Jul 29 11:27:50 PM: Applying reduction MOSEK\n",
      "(CVXPY) Jul 29 11:27:52 PM: Finished problem compilation (took 6.680e+02 seconds).\n",
      "-------------------------------------------------------------------------------\n",
      "                                Numerical solver                               \n",
      "-------------------------------------------------------------------------------\n",
      "(CVXPY) Jul 29 11:27:52 PM: Invoking solver MOSEK  to obtain a solution.\n",
      "\n",
      "\n",
      "(CVXPY) Jul 29 11:27:53 PM: Problem\n",
      "(CVXPY) Jul 29 11:27:53 PM:   Name                   :                 \n",
      "(CVXPY) Jul 29 11:27:53 PM:   Objective sense        : maximize        \n",
      "(CVXPY) Jul 29 11:27:53 PM:   Type                   : CONIC (conic optimization problem)\n",
      "(CVXPY) Jul 29 11:27:53 PM:   Constraints            : 32897           \n",
      "(CVXPY) Jul 29 11:27:53 PM:   Affine conic cons.     : 0               \n",
      "(CVXPY) Jul 29 11:27:53 PM:   Disjunctive cons.      : 0               \n",
      "(CVXPY) Jul 29 11:27:53 PM:   Cones                  : 1               \n",
      "(CVXPY) Jul 29 11:27:53 PM:   Scalar variables       : 65537           \n",
      "(CVXPY) Jul 29 11:27:53 PM:   Matrix variables       : 1               \n",
      "(CVXPY) Jul 29 11:27:53 PM:   Integer variables      : 0               \n",
      "(CVXPY) Jul 29 11:27:53 PM: \n",
      "(CVXPY) Jul 29 11:27:53 PM: Optimizer started.\n",
      "(CVXPY) Jul 29 11:27:53 PM: Presolve started.\n",
      "(CVXPY) Jul 29 11:27:53 PM: Linear dependency checker started.\n",
      "(CVXPY) Jul 29 11:27:53 PM: Linear dependency checker terminated.\n",
      "(CVXPY) Jul 29 11:27:53 PM: Eliminator started.\n",
      "(CVXPY) Jul 29 11:27:53 PM: Freed constraints in eliminator : 0\n",
      "(CVXPY) Jul 29 11:27:53 PM: Eliminator terminated.\n",
      "(CVXPY) Jul 29 11:27:53 PM: Eliminator - tries                  : 1                 time                   : 0.00            \n",
      "(CVXPY) Jul 29 11:27:53 PM: Lin. dep.  - tries                  : 1                 time                   : 0.01            \n",
      "(CVXPY) Jul 29 11:27:53 PM: Lin. dep.  - number                 : 0               \n",
      "(CVXPY) Jul 29 11:27:53 PM: Presolve terminated. Time: 0.05    \n",
      "(CVXPY) Jul 29 11:28:29 PM: GP based matrix reordering started.\n",
      "(CVXPY) Jul 29 11:28:31 PM: GP based matrix reordering terminated.\n",
      "(CVXPY) Jul 29 11:28:37 PM: Problem\n",
      "(CVXPY) Jul 29 11:28:37 PM:   Name                   :                 \n",
      "(CVXPY) Jul 29 11:28:37 PM:   Objective sense        : maximize        \n",
      "(CVXPY) Jul 29 11:28:37 PM:   Type                   : CONIC (conic optimization problem)\n",
      "(CVXPY) Jul 29 11:28:37 PM:   Constraints            : 32897           \n",
      "(CVXPY) Jul 29 11:28:37 PM:   Affine conic cons.     : 0               \n",
      "(CVXPY) Jul 29 11:28:37 PM:   Disjunctive cons.      : 0               \n",
      "(CVXPY) Jul 29 11:28:37 PM:   Cones                  : 1               \n",
      "(CVXPY) Jul 29 11:28:37 PM:   Scalar variables       : 65537           \n",
      "(CVXPY) Jul 29 11:28:37 PM:   Matrix variables       : 1               \n",
      "(CVXPY) Jul 29 11:28:37 PM:   Integer variables      : 0               \n",
      "(CVXPY) Jul 29 11:28:37 PM: \n",
      "(CVXPY) Jul 29 11:28:37 PM: Optimizer  - threads                : 8               \n",
      "(CVXPY) Jul 29 11:28:37 PM: Optimizer  - solved problem         : the primal      \n",
      "(CVXPY) Jul 29 11:28:37 PM: Optimizer  - Constraints            : 32896\n",
      "(CVXPY) Jul 29 11:28:37 PM: Optimizer  - Cones                  : 1\n",
      "(CVXPY) Jul 29 11:28:37 PM: Optimizer  - Scalar variables       : 65041             conic                  : 65041           \n",
      "(CVXPY) Jul 29 11:28:37 PM: Optimizer  - Semi-definite variables: 1                 scalarized             : 32896           \n",
      "(CVXPY) Jul 29 11:28:37 PM: Factor     - setup time             : 44.06             dense det. time        : 28.66           \n",
      "(CVXPY) Jul 29 11:28:37 PM: Factor     - ML order time          : 0.01              GP order time          : 2.81            \n",
      "(CVXPY) Jul 29 11:28:37 PM: Factor     - nonzeros before factor : 5.41e+08          after factor           : 5.41e+08        \n",
      "(CVXPY) Jul 29 11:28:37 PM: Factor     - dense dim.             : 0                 flops                  : 1.19e+13        \n",
      "(CVXPY) Jul 29 11:28:37 PM: ITE PFEAS    DFEAS    GFEAS    PRSTATUS   POBJ              DOBJ              MU       TIME  \n",
      "(CVXPY) Jul 29 11:28:37 PM: 0   1.0e+00  1.4e+00  2.0e+00  0.00e+00   0.000000000e+00   1.000000000e+00   1.0e+00  44.25 \n",
      "(CVXPY) Jul 29 11:29:41 PM: 1   8.2e-01  1.2e+00  2.8e-01  -8.45e-01  6.743090185e+00   7.649887475e+00   8.2e-01  108.00\n",
      "(CVXPY) Jul 29 11:30:49 PM: 2   7.2e-01  1.0e+00  1.8e-01  6.63e-01   4.645379694e+00   5.215585420e+00   7.2e-01  175.58\n",
      "(CVXPY) Jul 29 11:32:48 PM: 3   1.1e-01  1.5e-01  5.4e-03  1.38e+00   2.743350077e-01   3.089543061e-01   1.1e-01  295.10\n",
      "(CVXPY) Jul 29 11:34:43 PM: 4   1.6e-03  2.3e-03  2.8e-05  1.55e+00   2.605568341e-03   2.952758853e-03   1.6e-03  410.48\n",
      "(CVXPY) Jul 29 11:36:35 PM: 5   1.8e-05  2.6e-05  3.2e-08  1.01e+00   2.837073929e-05   3.224386819e-05   1.8e-05  521.78\n",
      "(CVXPY) Jul 29 11:38:30 PM: 6   2.3e-07  3.3e-07  3.9e-11  1.00e+00   4.042085123e-07   4.561873959e-07   2.3e-07  637.55\n",
      "(CVXPY) Jul 29 11:40:28 PM: 7   5.2e-08  7.3e-08  2.7e-12  1.00e+00   1.399288786e-07   1.520958786e-07   5.1e-08  755.39\n",
      "(CVXPY) Jul 29 11:42:29 PM: 8   1.5e-08  2.0e-08  3.8e-13  1.04e+00   1.086475433e-07   1.119768999e-07   1.5e-08  875.88\n",
      "(CVXPY) Jul 29 11:44:25 PM: 9   2.6e-09  3.4e-09  2.2e-14  1.01e+00   9.836693629e-08   9.893576967e-08   2.6e-09  991.79\n",
      "(CVXPY) Jul 29 11:46:20 PM: 10  8.6e-10  1.1e-09  4.6e-15  1.12e+00   9.607455844e-08   9.624664489e-08   8.3e-10  1106.86\n",
      "(CVXPY) Jul 29 11:48:10 PM: 11  3.5e-10  4.6e-10  1.3e-15  1.00e+00   9.565412265e-08   9.572497430e-08   3.4e-10  1217.36\n",
      "(CVXPY) Jul 29 11:50:03 PM: 12  1.6e-10  3.9e-08  3.9e-16  1.00e+00   9.528815237e-08   9.531980139e-08   1.5e-10  1329.88\n",
      "(CVXPY) Jul 29 11:51:55 PM: 13  6.3e-11  1.5e-08  9.4e-17  1.00e+00   9.528239246e-08   9.529455671e-08   5.7e-11  1442.15\n",
      "(CVXPY) Jul 29 11:53:46 PM: 14  2.0e-11  4.8e-09  1.7e-17  1.00e+00   9.519777033e-08   9.520165591e-08   1.8e-11  1552.90\n",
      "(CVXPY) Jul 29 11:55:38 PM: 15  6.0e-12  1.4e-09  2.8e-18  1.00e+00   9.519329189e-08   9.519443923e-08   5.3e-12  1664.62\n",
      "(CVXPY) Jul 29 11:57:30 PM: 16  1.8e-12  4.3e-10  4.6e-19  1.00e+00   9.518620667e-08   9.518654944e-08   1.6e-12  1777.13\n",
      "(CVXPY) Jul 29 11:57:30 PM: Optimizer terminated. Time: 1777.26 \n",
      "(CVXPY) Jul 29 11:57:30 PM: \n",
      "(CVXPY) Jul 29 11:57:30 PM: \n",
      "(CVXPY) Jul 29 11:57:30 PM: Interior-point solution summary\n",
      "(CVXPY) Jul 29 11:57:30 PM:   Problem status  : PRIMAL_AND_DUAL_FEASIBLE\n",
      "(CVXPY) Jul 29 11:57:30 PM:   Solution status : OPTIMAL\n",
      "(CVXPY) Jul 29 11:57:30 PM:   Primal.  obj: 9.5186206559e-08    nrm: 1e+00    Viol.  con: 2e-13    var: 0e+00    barvar: 0e+00    cones: 0e+00  \n",
      "(CVXPY) Jul 29 11:57:30 PM:   Dual.    obj: 9.5186549435e-08    nrm: 1e+00    Viol.  con: 0e+00    var: 4e-16    barvar: 4e-14    cones: 0e+00  \n",
      "-------------------------------------------------------------------------------\n",
      "                                    Summary                                    \n",
      "-------------------------------------------------------------------------------\n",
      "(CVXPY) Jul 29 11:57:33 PM: Problem status: optimal\n",
      "(CVXPY) Jul 29 11:57:33 PM: Optimal value: 9.519e-08\n",
      "(CVXPY) Jul 29 11:57:33 PM: Compilation took 6.680e+02 seconds\n",
      "(CVXPY) Jul 29 11:57:33 PM: Solver (including time spent in interface) took 1.778e+03 seconds\n"
     ]
    },
    {
     "data": {
      "text/plain": [
       "9.518657747960218e-08"
      ]
     },
     "execution_count": 4,
     "metadata": {},
     "output_type": "execute_result"
    }
   ],
   "source": [
    "mosek_params = {'MSK_DPAR_INTPNT_CO_TOL_REL_GAP':tol, 'MSK_DPAR_INTPNT_CO_TOL_DFEAS':tol, 'MSK_DPAR_INTPNT_CO_TOL_MU_RED':tol, 'MSK_DPAR_INTPNT_CO_TOL_PFEAS':tol}\n",
    "prob.solve(solver=cp.MOSEK, verbose=True, canon_backend=cp.SCIPY_CANON_BACKEND, mosek_params=mosek_params)"
   ]
  },
  {
   "cell_type": "code",
   "execution_count": 6,
   "metadata": {},
   "outputs": [
    {
     "name": "stdout",
     "output_type": "stream",
     "text": [
      "247\n",
      "[1.59601248e+01 1.99251772e-02 1.99251750e-02 2.48854408e-05\n",
      " 5.53045544e-08 4.73920770e-08 4.47699786e-08 4.04547423e-08\n",
      " 3.85094399e-08 1.87516898e-08 1.35362344e-08 8.17214997e-09\n",
      " 3.82400715e-11 3.79075768e-11 3.73607426e-11 3.70695268e-11\n",
      " 3.70429160e-11 3.70429160e-11 3.70429160e-11 3.70429160e-11\n",
      " 3.70429160e-11 3.70429160e-11 3.70429160e-11 3.70429160e-11]\n"
     ]
    }
   ],
   "source": [
    "print(np.linalg.matrix_rank(Y1_cvxpy.value))\n",
    "print(np.linalg.svd(Y1_cvxpy.value, compute_uv=False)[:24])"
   ]
  },
  {
   "cell_type": "code",
   "execution_count": 5,
   "metadata": {},
   "outputs": [
    {
     "name": "stdout",
     "output_type": "stream",
     "text": [
      "===============================================================================\n",
      "                                     CVXPY                                     \n",
      "                                     v1.3.2                                    \n",
      "===============================================================================\n",
      "(CVXPY) Jul 27 12:43:34 PM: Your problem has 65536 variables, 0 constraints, and 0 parameters.\n",
      "(CVXPY) Jul 27 12:43:34 PM: It is compliant with the following grammars: DCP, DQCP\n",
      "(CVXPY) Jul 27 12:43:34 PM: (If you need to solve this problem multiple times, but with different data, consider using parameters.)\n",
      "(CVXPY) Jul 27 12:43:34 PM: CVXPY will first compile your problem; then, it will invoke a numerical solver to obtain a solution.\n",
      "-------------------------------------------------------------------------------\n",
      "                                  Compilation                                  \n",
      "-------------------------------------------------------------------------------\n",
      "(CVXPY) Jul 27 12:43:34 PM: Compiling problem (target solver=MOSEK).\n",
      "(CVXPY) Jul 27 12:43:34 PM: Reduction chain: Dcp2Cone -> CvxAttr2Constr -> ConeMatrixStuffing -> MOSEK\n",
      "(CVXPY) Jul 27 12:43:34 PM: Applying reduction Dcp2Cone\n",
      "(CVXPY) Jul 27 12:43:34 PM: Applying reduction CvxAttr2Constr\n",
      "(CVXPY) Jul 27 12:43:34 PM: Applying reduction ConeMatrixStuffing\n",
      "(CVXPY) Jul 27 12:53:37 PM: Applying reduction MOSEK\n",
      "(CVXPY) Jul 27 12:53:40 PM: Finished problem compilation (took 6.061e+02 seconds).\n",
      "-------------------------------------------------------------------------------\n",
      "                                Numerical solver                               \n",
      "-------------------------------------------------------------------------------\n",
      "(CVXPY) Jul 27 12:53:40 PM: Invoking solver MOSEK  to obtain a solution.\n",
      "\n",
      "\n",
      "(CVXPY) Jul 27 12:53:40 PM: Problem\n",
      "(CVXPY) Jul 27 12:53:40 PM:   Name                   :                 \n",
      "(CVXPY) Jul 27 12:53:40 PM:   Objective sense        : maximize        \n",
      "(CVXPY) Jul 27 12:53:40 PM:   Type                   : CONIC (conic optimization problem)\n",
      "(CVXPY) Jul 27 12:53:40 PM:   Constraints            : 32897           \n",
      "(CVXPY) Jul 27 12:53:40 PM:   Affine conic cons.     : 0               \n",
      "(CVXPY) Jul 27 12:53:40 PM:   Disjunctive cons.      : 0               \n",
      "(CVXPY) Jul 27 12:53:40 PM:   Cones                  : 1               \n",
      "(CVXPY) Jul 27 12:53:40 PM:   Scalar variables       : 65537           \n",
      "(CVXPY) Jul 27 12:53:40 PM:   Matrix variables       : 1               \n",
      "(CVXPY) Jul 27 12:53:40 PM:   Integer variables      : 0               \n",
      "(CVXPY) Jul 27 12:53:40 PM: \n",
      "(CVXPY) Jul 27 12:53:40 PM: Optimizer started.\n",
      "(CVXPY) Jul 27 12:53:40 PM: Presolve started.\n",
      "(CVXPY) Jul 27 12:53:40 PM: Linear dependency checker started.\n",
      "(CVXPY) Jul 27 12:53:40 PM: Linear dependency checker terminated.\n",
      "(CVXPY) Jul 27 12:53:40 PM: Eliminator started.\n",
      "(CVXPY) Jul 27 12:53:40 PM: Freed constraints in eliminator : 0\n",
      "(CVXPY) Jul 27 12:53:40 PM: Eliminator terminated.\n",
      "(CVXPY) Jul 27 12:53:40 PM: Eliminator - tries                  : 1                 time                   : 0.00            \n",
      "(CVXPY) Jul 27 12:53:40 PM: Lin. dep.  - tries                  : 1                 time                   : 0.01            \n",
      "(CVXPY) Jul 27 12:53:40 PM: Lin. dep.  - number                 : 0               \n",
      "(CVXPY) Jul 27 12:53:40 PM: Presolve terminated. Time: 0.04    \n",
      "(CVXPY) Jul 27 12:54:20 PM: GP based matrix reordering started.\n",
      "(CVXPY) Jul 27 12:54:24 PM: GP based matrix reordering terminated.\n",
      "(CVXPY) Jul 27 12:54:29 PM: Problem\n",
      "(CVXPY) Jul 27 12:54:29 PM:   Name                   :                 \n",
      "(CVXPY) Jul 27 12:54:29 PM:   Objective sense        : maximize        \n",
      "(CVXPY) Jul 27 12:54:29 PM:   Type                   : CONIC (conic optimization problem)\n",
      "(CVXPY) Jul 27 12:54:29 PM:   Constraints            : 32897           \n",
      "(CVXPY) Jul 27 12:54:29 PM:   Affine conic cons.     : 0               \n",
      "(CVXPY) Jul 27 12:54:29 PM:   Disjunctive cons.      : 0               \n",
      "(CVXPY) Jul 27 12:54:29 PM:   Cones                  : 1               \n",
      "(CVXPY) Jul 27 12:54:29 PM:   Scalar variables       : 65537           \n",
      "(CVXPY) Jul 27 12:54:29 PM:   Matrix variables       : 1               \n",
      "(CVXPY) Jul 27 12:54:29 PM:   Integer variables      : 0               \n",
      "(CVXPY) Jul 27 12:54:29 PM: \n",
      "(CVXPY) Jul 27 12:54:29 PM: Optimizer  - threads                : 8               \n",
      "(CVXPY) Jul 27 12:54:29 PM: Optimizer  - solved problem         : the primal      \n",
      "(CVXPY) Jul 27 12:54:29 PM: Optimizer  - Constraints            : 32896\n",
      "(CVXPY) Jul 27 12:54:29 PM: Optimizer  - Cones                  : 1\n",
      "(CVXPY) Jul 27 12:54:29 PM: Optimizer  - Scalar variables       : 65041             conic                  : 65041           \n",
      "(CVXPY) Jul 27 12:54:29 PM: Optimizer  - Semi-definite variables: 1                 scalarized             : 32896           \n",
      "(CVXPY) Jul 27 12:54:29 PM: Factor     - setup time             : 49.17             dense det. time        : 33.07           \n",
      "(CVXPY) Jul 27 12:54:29 PM: Factor     - ML order time          : 0.01              GP order time          : 3.51            \n",
      "(CVXPY) Jul 27 12:54:29 PM: Factor     - nonzeros before factor : 5.41e+08          after factor           : 5.41e+08        \n",
      "(CVXPY) Jul 27 12:54:29 PM: Factor     - dense dim.             : 0                 flops                  : 1.19e+13        \n",
      "(CVXPY) Jul 27 12:54:29 PM: ITE PFEAS    DFEAS    GFEAS    PRSTATUS   POBJ              DOBJ              MU       TIME  \n",
      "(CVXPY) Jul 27 12:54:29 PM: 0   1.0e+00  1.4e+00  2.0e+00  0.00e+00   0.000000000e+00   1.000000000e+00   1.0e+00  49.31 \n",
      "(CVXPY) Jul 27 12:55:34 PM: 1   8.2e-01  1.2e+00  2.8e-01  -8.45e-01  6.743090185e+00   7.649887475e+00   8.2e-01  113.95\n",
      "(CVXPY) Jul 27 12:56:43 PM: 2   7.2e-01  1.0e+00  1.8e-01  6.63e-01   4.645379694e+00   5.215585420e+00   7.2e-01  183.12\n",
      "(CVXPY) Jul 27 12:58:50 PM: 3   1.1e-01  1.5e-01  5.4e-03  1.38e+00   2.743350077e-01   3.089543061e-01   1.1e-01  310.34\n",
      "(CVXPY) Jul 27 01:00:50 PM: 4   1.6e-03  2.3e-03  2.8e-05  1.55e+00   2.605568342e-03   2.952758853e-03   1.6e-03  430.20\n",
      "(CVXPY) Jul 27 01:02:56 PM: 5   1.8e-05  2.6e-05  3.2e-08  1.01e+00   2.837076607e-05   3.224389846e-05   1.8e-05  556.02\n",
      "(CVXPY) Jul 27 01:05:01 PM: 6   2.3e-07  3.3e-07  3.9e-11  1.00e+00   4.037077191e-07   4.556180219e-07   2.3e-07  681.40\n",
      "(CVXPY) Jul 27 01:06:58 PM: 7   5.4e-08  7.3e-08  2.6e-12  1.00e+00   1.399018842e-07   1.520084397e-07   5.1e-08  797.64\n",
      "(CVXPY) Jul 27 01:09:03 PM: 8   2.3e-08  2.2e-08  4.2e-13  1.06e+00   1.083353626e-07   1.118579399e-07   1.6e-08  923.25\n",
      "(CVXPY) Jul 27 01:11:01 PM: 9   7.2e-09  3.1e-09  1.8e-14  1.04e+00   9.815242978e-08   9.865544000e-08   2.4e-09  1040.66\n",
      "(CVXPY) Jul 27 01:13:02 PM: 10  3.8e-09  1.6e-09  7.7e-15  1.00e+00   9.634092659e-08   9.660399266e-08   1.2e-09  1161.84\n",
      "(CVXPY) Jul 27 01:14:58 PM: 11  2.1e-09  8.3e-10  3.0e-15  1.00e+00   9.626318752e-08   9.639798363e-08   6.2e-10  1277.60\n",
      "(CVXPY) Jul 27 01:16:52 PM: 12  8.9e-10  3.5e-10  8.7e-16  1.00e+00   9.530401646e-08   9.536081445e-08   2.6e-10  1391.97\n",
      "(CVXPY) Jul 27 01:16:52 PM: Optimizer terminated. Time: 1392.15 \n",
      "(CVXPY) Jul 27 01:16:52 PM: \n",
      "(CVXPY) Jul 27 01:16:52 PM: \n",
      "(CVXPY) Jul 27 01:16:52 PM: Interior-point solution summary\n",
      "(CVXPY) Jul 27 01:16:52 PM:   Problem status  : PRIMAL_AND_DUAL_FEASIBLE\n",
      "(CVXPY) Jul 27 01:16:52 PM:   Solution status : OPTIMAL\n",
      "(CVXPY) Jul 27 01:16:52 PM:   Primal.  obj: 9.5304016713e-08    nrm: 1e+00    Viol.  con: 1e-10    var: 0e+00    barvar: 0e+00    cones: 0e+00  \n",
      "(CVXPY) Jul 27 01:16:52 PM:   Dual.    obj: 9.5360814472e-08    nrm: 1e+00    Viol.  con: 0e+00    var: 3e-11    barvar: 3e-11    cones: 0e+00  \n",
      "-------------------------------------------------------------------------------\n",
      "                                    Summary                                    \n",
      "-------------------------------------------------------------------------------\n",
      "(CVXPY) Jul 27 01:16:54 PM: Problem status: optimal\n",
      "(CVXPY) Jul 27 01:16:54 PM: Optimal value: 9.534e-08\n",
      "(CVXPY) Jul 27 01:16:54 PM: Compilation took 6.061e+02 seconds\n",
      "(CVXPY) Jul 27 01:16:54 PM: Solver (including time spent in interface) took 1.393e+03 seconds\n"
     ]
    },
    {
     "data": {
      "text/plain": [
       "9.533533139743189e-08"
      ]
     },
     "execution_count": 5,
     "metadata": {},
     "output_type": "execute_result"
    }
   ],
   "source": [
    "mosek_params = {'MSK_DPAR_INTPNT_CO_TOL_REL_GAP':tol, 'MSK_DPAR_INTPNT_CO_TOL_DFEAS':1e-10, 'MSK_DPAR_INTPNT_CO_TOL_MU_RED':tol, 'MSK_DPAR_INTPNT_CO_TOL_PFEAS':tol}\n",
    "prob.solve(solver=cp.MOSEK, verbose=True, canon_backend=cp.SCIPY_CANON_BACKEND, mosek_params=mosek_params)"
   ]
  },
  {
   "cell_type": "code",
   "execution_count": 13,
   "metadata": {},
   "outputs": [
    {
     "name": "stdout",
     "output_type": "stream",
     "text": [
      "4\n",
      "[1.59601247e+01 1.99252079e-02 1.99252079e-02 2.48753638e-05\n",
      " 9.14980688e-15 8.31005402e-15 8.28778104e-15 7.68898909e-15\n",
      " 5.05313981e-15 4.30617828e-15 4.16892000e-15 3.72903726e-15\n",
      " 3.42133722e-15 3.09273854e-15 2.96987622e-15 2.80821003e-15\n",
      " 2.49762950e-15 2.44857257e-15 2.02103883e-15 2.00628044e-15]\n",
      "----\n",
      "4\n",
      "[1.59601247e+01 1.99252079e-02 1.99252079e-02 2.48753638e-05\n",
      " 7.95281221e-15 4.45619364e-15 4.15294601e-15 3.74630065e-15\n",
      " 3.38415367e-15 3.00980011e-15 2.78457911e-15 2.75926410e-15\n",
      " 2.62875443e-15 2.57327522e-15 2.56723560e-15 2.12727961e-15\n",
      " 2.10294136e-15 1.91221566e-15 1.87243128e-15 1.76943050e-15]\n",
      "----\n",
      "4\n",
      "[1.59601248e+01 1.99251812e-02 1.99251787e-02 2.48753821e-05\n",
      " 7.40452593e-15 6.23416821e-15 5.78733966e-15 5.45129161e-15\n",
      " 5.02854100e-15 4.95731989e-15 4.56542003e-15 4.34589312e-15\n",
      " 4.19879763e-15 4.02361484e-15 3.80645554e-15 3.57183712e-15\n",
      " 3.04235402e-15 2.81870941e-15 2.70461589e-15 2.24288391e-15]\n",
      "----\n",
      "247\n",
      "[1.59601248e+01 1.99251772e-02 1.99251750e-02 2.48854408e-05\n",
      " 5.53045544e-08 4.73920770e-08 4.47699786e-08 4.04547423e-08\n",
      " 3.85094399e-08 1.87516898e-08 1.35362344e-08 8.17214997e-09\n",
      " 3.82400715e-11 3.79075768e-11 3.73607426e-11 3.70695268e-11\n",
      " 3.70429160e-11 3.70429160e-11 3.70429160e-11 3.70429160e-11]\n",
      "----\n",
      "247\n",
      "[1.59601248e+01 1.99251772e-02 1.99251750e-02 2.48854408e-05\n",
      " 5.53045543e-08 4.73920770e-08 4.47699787e-08 4.04547424e-08\n",
      " 3.85094399e-08 1.87516891e-08 1.35362345e-08 8.17214988e-09\n",
      " 3.82401734e-11 3.81230714e-11 3.79527023e-11 3.73136517e-11\n",
      " 3.71738306e-11 3.69862463e-11 3.69527481e-11 3.69492469e-11]\n",
      "----\n"
     ]
    }
   ],
   "source": [
    "max_idx = 20\n",
    "for op in [super2choi(exp_Lvec_odd), X1@X1.conj().T, Y1_gds, Y1_cvxpy.value, small2zero(Y1_cvxpy.value, tol=tol)]:\n",
    "    print(np.linalg.matrix_rank(op, tol=tol))\n",
    "    print(np.sort(np.linalg.svd(op, compute_uv=False))[::-1][:max_idx])\n",
    "    print('----')"
   ]
  },
  {
   "cell_type": "code",
   "execution_count": 10,
   "metadata": {},
   "outputs": [
    {
     "data": {
      "text/plain": [
       "[<matplotlib.lines.Line2D at 0x2a6760bb0>]"
      ]
     },
     "execution_count": 10,
     "metadata": {},
     "output_type": "execute_result"
    },
    {
     "data": {
      "image/png": "[encoded data removed]",
      "text/plain": [
       "<Figure size 1280x960 with 1 Axes>"
      ]
     },
     "metadata": {},
     "output_type": "display_data"
    }
   ],
   "source": [
    "plt.figure(dpi=200)\n",
    "plt.semilogy(np.linalg.svd(Y1_cvxpy.value, compute_uv=False), 'x')"
   ]
  },
  {
   "cell_type": "code",
   "execution_count": 14,
   "metadata": {},
   "outputs": [],
   "source": [
    "with open(f'Y1_mosek_warm_gds_eps_{tol}.npy', 'wb') as f:\n",
    "    np.save(f, Y1_cvxpy.value)"
   ]
  },
  {
   "cell_type": "code",
   "execution_count": null,
   "metadata": {},
   "outputs": [],
   "source": []
  }
 ],
 "metadata": {
  "kernelspec": {
   "display_name": "Python 3.10.4 ('thesis')",
   "language": "python",
   "name": "python3"
  },
  "language_info": {
   "codemirror_mode": {
    "name": "ipython",
    "version": 3
   },
   "file_extension": ".py",
   "mimetype": "text/x-python",
   "name": "python",
   "nbconvert_exporter": "python",
   "pygments_lexer": "ipython3",
   "version": "3.10.4"
  },
  "orig_nbformat": 4,
  "vscode": {
   "interpreter": {
    "hash": "7a5e335ff2d0165f97b24ec78505e76f6491bb7656bd1655dc8df4969b2c8e72"
   }
  }
 },
 "nbformat": 4,
 "nbformat_minor": 2
}
