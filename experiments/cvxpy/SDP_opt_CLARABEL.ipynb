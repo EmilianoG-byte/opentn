{
 "cells": [
  {
   "cell_type": "code",
   "execution_count": 1,
   "metadata": {},
   "outputs": [
    {
     "name": "stdout",
     "output_type": "stream",
     "text": [
      "2.638300722408311e-07\n",
      "1.4977787041165522e-07\n"
     ]
    }
   ],
   "source": [
    "import sys\n",
    "sys.path.append('..')\n",
    "# reload local packages automatically\n",
    "%load_ext autoreload\n",
    "%autoreload 2\n",
    "\n",
    "from jax import config\n",
    "config.update(\"jax_enable_x64\", True)\n",
    "\n",
    "# Import packages.\n",
    "import cvxpy as cp\n",
    "import numpy as np\n",
    "\n",
    "import matplotlib.pyplot as plt\n",
    "\n",
    "\n",
    "from opentn.transformations import create_kitaev_liouvillians, exp_operator_dt, factorize_psd, super2choi\n",
    "d, N = 2, 4\n",
    "dim = d**N\n",
    "Lvec, Lvec_odd, Lvec_even, Lnn = create_kitaev_liouvillians(N=N, d=d, gamma=1e-2)\n",
    "tau = 4\n",
    "superops_exp = []\n",
    "for i, op in enumerate([Lvec, Lvec_odd, Lvec_even]):\n",
    "    if i == 1:\n",
    "        superops_exp.append(exp_operator_dt(op, tau/2, 'jax'))\n",
    "    else:\n",
    "        superops_exp.append(exp_operator_dt(op, tau, 'jax'))\n",
    "exp_Lvec, exp_Lvec_odd, exp_Lvec_even = superops_exp\n",
    "\n",
    "X1 = factorize_psd(psd=super2choi(exp_Lvec_odd), tol=1e-12)\n",
    "X2 = factorize_psd(psd=super2choi(exp_Lvec_even), tol=1e-12)\n",
    "\n",
    "from opentn.optimization import gds, frobenius_norm, model_Ys, compute_loss\n",
    "cost_n4, grads_n4, xi_n4 = gds(fn=compute_loss, x0=[X1, X2, X1], iter=int(2e3), loss_fn=frobenius_norm, model=model_Ys, rate=1.5e-9, exact = exp_Lvec, show_cost=False)\n",
    "print(cost_n4[0])\n",
    "print(cost_n4[-1])"
   ]
  },
  {
   "cell_type": "code",
   "execution_count": 2,
   "metadata": {},
   "outputs": [
    {
     "name": "stderr",
     "output_type": "stream",
     "text": [
      "/Users/emiliano_gr/opt/anaconda3/envs/cvxpy-env/lib/python3.10/site-packages/scipy/sparse/_data.py:72: ComplexWarning: Casting complex values to real discards the imaginary part\n",
      "  self.data.astype(dtype, casting=casting, copy=True),\n"
     ]
    }
   ],
   "source": [
    "from opentn.transformations import super2choi, choi_composition\n",
    "from opentn.optimization import small2zero\n",
    "from scipy import sparse\n",
    "\n",
    "# rest of matrices optimized with GSD\n",
    "X1_gds, X2_gds, X3_gds = xi_n4[-1]\n",
    "Y1_gds = X1_gds@X1_gds.conj().T\n",
    "Y2_gds = X2_gds@X2_gds.conj().T\n",
    "Y3_gds = X3_gds@X3_gds.conj().T\n",
    "\n",
    "tol = 1e-12\n",
    "\n",
    "# rhs to which we want to approximate\n",
    "rhs = np.asarray(super2choi(superop=exp_Lvec, dim=dim))\n",
    "# srhs = sparse.csr_matrix(rhs) # small2zero was deleted\n",
    "srhs = sparse.csr_matrix(small2zero(rhs, tol=tol)) # small2zero was deleted\n",
    "srhs = srhs.astype(np.float64)"
   ]
  },
  {
   "cell_type": "code",
   "execution_count": 3,
   "metadata": {},
   "outputs": [
    {
     "name": "stderr",
     "output_type": "stream",
     "text": [
      "/var/folders/_n/xw2mchz92t9_fcbxg7lwsdwh0000gn/T/ipykernel_45846/826646750.py:7: ComplexWarning: Casting complex values to real discards the imaginary part\n",
      "  Y1_cvxpy.value = small2zero(Y1_gds, tol=tol).astype(np.float64)\n"
     ]
    },
    {
     "data": {
      "text/plain": [
       "1.4977447039683222e-07"
      ]
     },
     "execution_count": 3,
     "metadata": {},
     "output_type": "execute_result"
    }
   ],
   "source": [
    "from opentn.transformations import link_product_cvxpy\n",
    "Y1_cvxpy = cp.Variable((dim**2,dim**2), PSD=True)\n",
    "C2 = choi_composition(small2zero(Y2_gds, tol), small2zero(Y3_gds, tol))\n",
    "lhs = link_product_cvxpy(C1=Y1_cvxpy, C2=C2, dim=dim, transpose=1, optimization=True)\n",
    "cost = cp.norm(lhs - srhs, \"fro\")\n",
    "prob = cp.Problem(cp.Minimize(cost))\n",
    "Y1_cvxpy.value = small2zero(Y1_gds, tol=tol).astype(np.float64) \n",
    "cost.value"
   ]
  },
  {
   "cell_type": "code",
   "execution_count": 4,
   "metadata": {},
   "outputs": [
    {
     "name": "stdout",
     "output_type": "stream",
     "text": [
      "===============================================================================\n",
      "                                     CVXPY                                     \n",
      "                             v1.4.0.dev0+0.ec21400                             \n",
      "===============================================================================\n",
      "(CVXPY) Jul 29 09:26:37 PM: Your problem has 65536 variables, 0 constraints, and 0 parameters.\n",
      "(CVXPY) Jul 29 09:26:37 PM: It is compliant with the following grammars: DCP, DQCP\n",
      "(CVXPY) Jul 29 09:26:37 PM: (If you need to solve this problem multiple times, but with different data, consider using parameters.)\n",
      "(CVXPY) Jul 29 09:26:37 PM: CVXPY will first compile your problem; then, it will invoke a numerical solver to obtain a solution.\n",
      "-------------------------------------------------------------------------------\n",
      "                                  Compilation                                  \n",
      "-------------------------------------------------------------------------------\n",
      "(CVXPY) Jul 29 09:26:37 PM: Compiling problem (target solver=CLARABEL).\n",
      "(CVXPY) Jul 29 09:26:37 PM: Reduction chain: Dcp2Cone -> CvxAttr2Constr -> ConeMatrixStuffing -> CLARABEL\n"
     ]
    },
    {
     "name": "stdout",
     "output_type": "stream",
     "text": [
      "(CVXPY) Jul 29 09:26:37 PM: Applying reduction Dcp2Cone\n",
      "(CVXPY) Jul 29 09:26:37 PM: Applying reduction CvxAttr2Constr\n",
      "(CVXPY) Jul 29 09:26:37 PM: Applying reduction ConeMatrixStuffing\n",
      "(CVXPY) Jul 29 09:47:31 PM: Applying reduction CLARABEL\n",
      "(CVXPY) Jul 29 09:47:31 PM: Finished problem compilation (took 1.254e+03 seconds).\n",
      "-------------------------------------------------------------------------------\n",
      "                                Numerical solver                               \n",
      "-------------------------------------------------------------------------------\n",
      "(CVXPY) Jul 29 09:47:31 PM: Invoking solver CLARABEL  to obtain a solution.\n"
     ]
    },
    {
     "ename": "",
     "evalue": "",
     "output_type": "error",
     "traceback": [
      "\u001b[1;31mCannot execute code, session has been disposed. Please try restarting the Kernel."
     ]
    },
    {
     "ename": "",
     "evalue": "",
     "output_type": "error",
     "traceback": [
      "\u001b[1;31mThe Kernel crashed while executing code in the the current cell or a previous cell. Please review the code in the cell(s) to identify a possible cause of the failure. Click <a href='https://aka.ms/vscodeJupyterKernelCrash'>here</a> for more info. View Jupyter <a href='command:jupyter.viewOutput'>log</a> for further details."
     ]
    }
   ],
   "source": [
    "prob.solve(solver=cp.CLARABEL, verbose=True, canon_backend=cp.SCIPY_CANON_BACKEND, tol_feas=tol, tol_gap_abs=tol)"
   ]
  }
 ],
 "metadata": {
  "kernelspec": {
   "display_name": "cvxpy-env",
   "language": "python",
   "name": "python3"
  },
  "language_info": {
   "codemirror_mode": {
    "name": "ipython",
    "version": 3
   },
   "file_extension": ".py",
   "mimetype": "text/x-python",
   "name": "python",
   "nbconvert_exporter": "python",
   "pygments_lexer": "ipython3",
   "version": "3.10.12"
  },
  "orig_nbformat": 4
 },
 "nbformat": 4,
 "nbformat_minor": 2
}
