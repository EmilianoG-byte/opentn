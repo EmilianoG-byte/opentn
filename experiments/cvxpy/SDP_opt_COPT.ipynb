{
 "cells": [
  {
   "cell_type": "code",
   "execution_count": 1,
   "metadata": {},
   "outputs": [],
   "source": [
    "import sys\n",
    "sys.path.append('..')\n",
    "# reload local packages automatically\n",
    "%load_ext autoreload\n",
    "%autoreload 2\n",
    "\n",
    "from jax import config\n",
    "config.update(\"jax_enable_x64\", True)\n",
    "\n",
    "# Import packages.\n",
    "import cvxpy as cp\n",
    "import numpy as np\n",
    "\n",
    "import matplotlib.pyplot as plt\n"
   ]
  },
  {
   "cell_type": "code",
   "execution_count": 2,
   "metadata": {},
   "outputs": [
    {
     "name": "stdout",
     "output_type": "stream",
     "text": [
      "2.638300722408311e-07\n",
      "1.4977787041165522e-07\n"
     ]
    },
    {
     "data": {
      "text/plain": [
       "[<matplotlib.lines.Line2D at 0x7fd26ae9a410>]"
      ]
     },
     "execution_count": 2,
     "metadata": {},
     "output_type": "execute_result"
    },
    {
     "data": {
      "image/png": "[encoded data removed]",
      "text/plain": [
       "<Figure size 432x288 with 1 Axes>"
      ]
     },
     "metadata": {
      "needs_background": "light"
     },
     "output_type": "display_data"
    }
   ],
   "source": [
    "from opentn.transformations import create_kitaev_liouvillians, exp_operator_dt, factorize_psd, super2choi\n",
    "d, N = 2, 4\n",
    "dim = d**N\n",
    "Lvec, Lvec_odd, Lvec_even, Lnn = create_kitaev_liouvillians(N=N, d=d, gamma=1e-2)\n",
    "tau = 4\n",
    "superops_exp = []\n",
    "for i, op in enumerate([Lvec, Lvec_odd, Lvec_even]):\n",
    "    if i == 1:\n",
    "        superops_exp.append(exp_operator_dt(op, tau/2, 'jax'))\n",
    "    else:\n",
    "        superops_exp.append(exp_operator_dt(op, tau, 'jax'))\n",
    "exp_Lvec, exp_Lvec_odd, exp_Lvec_even = superops_exp\n",
    "\n",
    "X1 = factorize_psd(psd=super2choi(exp_Lvec_odd), tol=1e-12)\n",
    "X2 = factorize_psd(psd=super2choi(exp_Lvec_even), tol=1e-12)\n",
    "\n",
    "from opentn.optimization import gds, frobenius_norm, model_Ys, compute_loss\n",
    "cost_n4, grads_n4, xi_n4 = gds(fn=compute_loss, x0=[X1, X2, X1], iter=int(2e3), loss_fn=frobenius_norm, model=model_Ys, rate=1.5e-9, exact = exp_Lvec, show_cost=False)\n",
    "print(cost_n4[0])\n",
    "print(cost_n4[-1])\n",
    "\n",
    "plt.plot(cost_n4)"
   ]
  },
  {
   "cell_type": "code",
   "execution_count": 4,
   "metadata": {},
   "outputs": [
    {
     "name": "stderr",
     "output_type": "stream",
     "text": [
      "/Users/emiliano_gr/opt/anaconda3/envs/thesis/lib/python3.10/site-packages/scipy/sparse/_data.py:72: ComplexWarning: Casting complex values to real discards the imaginary part\n",
      "  self._deduped_data().astype(dtype, casting=casting, copy=copy),\n"
     ]
    },
    {
     "data": {
      "text/plain": [
       "<4096x4096 sparse matrix of type '<class 'numpy.float64'>'\n",
       "\twith 59136 stored elements in Compressed Sparse Row format>"
      ]
     },
     "execution_count": 4,
     "metadata": {},
     "output_type": "execute_result"
    }
   ],
   "source": [
    "from opentn.transformations import super2choi, choi_composition, partial_transpose\n",
    "from opentn.optimization import small2zero\n",
    "from scipy import sparse\n",
    "\n",
    "# rest of matrices optimized with GSD\n",
    "X1_gds, X2_gds, X3_gds = xi_n4[-1]\n",
    "Y2 = X2_gds@X2_gds.conj().T\n",
    "Y3 = X3_gds@X3_gds.conj().T\n",
    "\n",
    "# rhs to which we want to approximate\n",
    "rhs = np.asarray(super2choi(superop=exp_Lvec, dim=dim))\n",
    "srhs = sparse.csr_matrix(small2zero(rhs, tol=1e-10)) # small2zero was deleted\n",
    "srhs = srhs.astype(np.float64)\n",
    "\n",
    "# change partial transpose to A\n",
    "A = choi_composition(C1=Y2, C2=Y3, dim=dim) # small2zero was deleted\n",
    "A_tb = partial_transpose(A, dims=[dim, dim], idx=1)\n",
    "I = np.eye(dim)\n",
    "A_tbxI = np.kron(A_tb, I)\n",
    "sA_tbxI = sparse.csr_matrix(small2zero(A_tbxI, tol=1e-10))\n",
    "sA_tbxI = sA_tbxI.astype(np.float64)\n",
    "sA_tbxI"
   ]
  },
  {
   "cell_type": "code",
   "execution_count": 5,
   "metadata": {},
   "outputs": [
    {
     "name": "stderr",
     "output_type": "stream",
     "text": [
      "/var/folders/_n/xw2mchz92t9_fcbxg7lwsdwh0000gn/T/ipykernel_9060/877660185.py:1: ComplexWarning: Casting complex values to real discards the imaginary part\n",
      "  X_initial = small2zero(X1_gds@X1_gds.conj().T, tol=1e-10).astype(np.float64)\n"
     ]
    }
   ],
   "source": [
    "X_initial = small2zero(X1_gds@X1_gds.conj().T, tol=1e-10).astype(np.float64)"
   ]
  },
  {
   "cell_type": "code",
   "execution_count": 6,
   "metadata": {},
   "outputs": [
    {
     "name": "stdout",
     "output_type": "stream",
     "text": [
      "['COPT', 'ECOS', 'ECOS_BB', 'MOSEK', 'OSQP', 'SCIPY', 'SCS']\n"
     ]
    }
   ],
   "source": [
    "X = cp.Variable((dim**2,dim**2), PSD=True)\n",
    "lhs =  cp.partial_trace(sA_tbxI @ cp.kron(I, X), dims=[dim, dim, dim], axis=1)\n",
    "cost = cp.norm(lhs - srhs, \"fro\")\n",
    "prob = cp.Problem(cp.Minimize(cost))\n",
    "X.value = X_initial\n",
    "print(cp.installed_solvers())"
   ]
  },
  {
   "cell_type": "code",
   "execution_count": 42,
   "metadata": {},
   "outputs": [
    {
     "name": "stdout",
     "output_type": "stream",
     "text": [
      "['CLARABEL', 'COPT', 'ECOS', 'ECOS_BB', 'MOSEK', 'OSQP', 'SCIPY', 'SCS']\n"
     ]
    }
   ],
   "source": [
    "print(cp.installed_solvers())"
   ]
  },
  {
   "cell_type": "code",
   "execution_count": 40,
   "metadata": {},
   "outputs": [
    {
     "name": "stdout",
     "output_type": "stream",
     "text": [
      "===============================================================================\n",
      "                                     CVXPY                                     \n",
      "                                     v1.3.1                                    \n",
      "===============================================================================\n",
      "(CVXPY) Jul 26 10:53:41 PM: Your problem has 65536 variables, 0 constraints, and 0 parameters.\n",
      "(CVXPY) Jul 26 10:53:41 PM: It is compliant with the following grammars: DCP, DQCP\n",
      "(CVXPY) Jul 26 10:53:41 PM: (If you need to solve this problem multiple times, but with different data, consider using parameters.)\n",
      "(CVXPY) Jul 26 10:53:41 PM: CVXPY will first compile your problem; then, it will invoke a numerical solver to obtain a solution.\n",
      "-------------------------------------------------------------------------------\n",
      "                                  Compilation                                  \n",
      "-------------------------------------------------------------------------------\n",
      "(CVXPY) Jul 26 10:53:41 PM: Using cached ASA map, for faster compilation (bypassing reduction chain).\n"
     ]
    },
    {
     "name": "stdout",
     "output_type": "stream",
     "text": [
      "(CVXPY) Jul 26 10:53:41 PM: Finished problem compilation (took 3.017e-02 seconds).\n",
      "-------------------------------------------------------------------------------\n",
      "                                Numerical solver                               \n",
      "-------------------------------------------------------------------------------\n",
      "(CVXPY) Jul 26 10:53:41 PM: Invoking solver COPT  to obtain a solution.\n",
      "Cardinal Optimizer v6.5.6. Build date Jul 21 2023\n",
      "Copyright Cardinal Operations 2023. All Rights Reserved\n",
      "\n",
      "Setting parameter 'Logging' to 1\n",
      "Setting parameter 'SDPMethod' to 0\n",
      "Model fingerprint: fa62bce8\n",
      "\n",
      "Using Cardinal Optimizer v6.5.6 on macOS\n",
      "Hardware has 8 cores and 8 threads. Using instruction set X86_SSE4_2 (8)\n",
      "Maximizing an SDP problem\n",
      "\n",
      "The original problem has:\n",
      "    1 rows, 65537 columns and 1 non-zero elements\n",
      "    1 PSD columns\n",
      "    32896 PSD constraints\n",
      "    1 cones\n",
      "\n",
      "Using Primal-Dual Method\n",
      "\n",
      "Starting barrier solver using 8 threads\n",
      "\n",
      "Problem info:\n",
      "Range of matrix coefficients:    [1e-10,1e+00]\n",
      "Range of rhs coefficients:       [1e+00,1e+00]\n",
      "Range of bound coefficients:     [0e+00,0e+00]\n",
      "Range of cost coefficients:      [3e-10,1e-01]\n",
      "\n",
      "Factor info:\n",
      "Number of dense columns:         1\n",
      "Number of matrix entries:        5.411e+08\n",
      "Number of factor entries:        5.412e+08\n",
      "Number of factor flops:          1.187e+13\n",
      "\n",
      "Iter       Primal.Obj         Dual.Obj      Compl  Primal.Inf  Dual.Inf    Time\n",
      "   0  +0.00000000e+00  +0.00000000e+00   2.59e+02    1.00e+00  1.41e+00    105s\n",
      "   1  -7.53536139e+00  -1.13175126e+01   2.43e+02    4.99e-01  7.06e-01    249s\n",
      "   2  -2.94158438e+00  -4.43519776e+00   2.06e+02    1.87e-01  2.65e-01    406s\n",
      "   3  -4.47234153e-01  -6.66508279e-01   9.41e+01    2.88e-02  4.07e-02    570s\n",
      "   4  -7.99491252e-02  -1.20535521e-01   1.73e+01    5.16e-03  7.29e-03    735s\n",
      "   5  -4.44609142e-03  -7.15983189e-03   1.23e+00    3.45e-04  4.88e-04    903s\n",
      "   6  -3.07772990e-04  -4.76874234e-04   7.77e-02    2.15e-05  3.04e-05   1071s\n",
      "   7  -6.27176468e-06  -1.03199557e-05   1.86e-03    5.15e-07  7.28e-07   1240s\n",
      "   8  -7.47913286e-07  -1.18645358e-06   2.04e-04    5.58e-08  7.90e-08   1410s\n",
      "   9  -9.42231318e-08  -1.48210749e-07   2.51e-05    6.88e-09  9.72e-09   1583s\n",
      "  10  -5.62207792e-08  -7.08123418e-08   6.83e-06    2.16e-09  2.69e-09   1754s\n",
      "  11  -9.15682177e-08  -9.69749460e-08   3.34e-06    7.91e-10  9.82e-10   1927s\n",
      "\n",
      "Barrier status:                  OPTIMAL\n",
      "Primal objective:                -9.15682177e-08\n",
      "Dual objective:                  -9.69749460e-08\n",
      "Duality gap (abs/rel):           5.41e-09 / 5.41e-09\n",
      "Primal infeasibility (abs/rel):  7.91e-10 / 7.91e-10\n",
      "Dual infeasibility (abs/rel):    9.82e-10 / 9.82e-10\n",
      "\n",
      "Solving finished\n",
      "Status: Optimal  Objective: 9.1568217647e-08  Iterations: 11  Time: 1928.48s\n",
      "-------------------------------------------------------------------------------\n",
      "                                    Summary                                    \n",
      "-------------------------------------------------------------------------------\n",
      "(CVXPY) Jul 26 11:25:52 PM: Problem status: optimal\n",
      "(CVXPY) Jul 26 11:25:52 PM: Optimal value: 1.010e-07\n",
      "(CVXPY) Jul 26 11:25:52 PM: Compilation took 3.017e-02 seconds\n",
      "(CVXPY) Jul 26 11:25:52 PM: Solver (including time spent in interface) took 1.929e+03 seconds\n"
     ]
    },
    {
     "data": {
      "text/plain": [
       "1.009988692473399e-07"
      ]
     },
     "execution_count": 40,
     "metadata": {},
     "output_type": "execute_result"
    }
   ],
   "source": [
    "prob.solve(solver=cp.COPT, verbose=True, canon_backend=cp.SCIPY_CANON_BACKEND, sdpmethod=0)"
   ]
  },
  {
   "cell_type": "code",
   "execution_count": 90,
   "metadata": {},
   "outputs": [],
   "source": [
    "# we need to check that the cost function created through cvxpy is the same as with compute_loss, model_Ys, frobenius_norm**2\n",
    "def cost_cvxpy(C1, C2, rhs, dim):\n",
    "    I = np.eye(dim)\n",
    "    C2_tb = partial_transpose(C2, dims=[dim, dim], idx=1)\n",
    "    C2_tbxI = np.kron(C2_tb, I)\n",
    "    C2_tbxI = sparse.csr_matrix(C2_tbxI)\n",
    "    C2_tbxI = C2_tbxI.astype(np.float64)\n",
    "\n",
    "    srhs = sparse.csr_matrix(rhs) # small2zero was deleted\n",
    "    srhs = srhs.astype(np.float64)\n",
    "\n",
    "    lhs =  cp.partial_trace(C2_tbxI @ cp.kron(I, C1), dims=[dim, dim, dim], axis=1)\n",
    "    cost = cp.norm(lhs - srhs, \"fro\")\n",
    "    return cost.value \n",
    "\n",
    "# cost_cvxpy(X.value, A, rhs, dim) # it gives the same result but we just have to add the small2zero thing\n",
    "# would it help not adding the small2zero thing? "
   ]
  },
  {
   "cell_type": "code",
   "execution_count": 228,
   "metadata": {},
   "outputs": [
    {
     "name": "stdout",
     "output_type": "stream",
     "text": [
      "2.0762417533163998e-07\n"
     ]
    },
    {
     "name": "stderr",
     "output_type": "stream",
     "text": [
      "/Users/emiliano_gr/opt/anaconda3/envs/thesis/lib/python3.10/site-packages/scipy/sparse/_data.py:72: ComplexWarning: Casting complex values to real discards the imaginary part\n",
      "  self._deduped_data().astype(dtype, casting=casting, copy=copy),\n"
     ]
    },
    {
     "name": "stdout",
     "output_type": "stream",
     "text": [
      "2.0762417532526505e-07\n",
      "2.0762417533163993e-07\n"
     ]
    }
   ],
   "source": [
    "from opentn.transformations import choi2super\n",
    "X1opt = xi_n4[-1][0]\n",
    "print(frobenius_norm(choi_composition(X1opt@X1opt.conj().T, A), rhs))\n",
    "print(cost_cvxpy(X1opt@X1opt.conj().T, A, rhs, dim))\n",
    "# check if the cost function would be the same if we used superoperators instead of choi matrices.\n",
    "# this includes not using sparse matrices\n",
    "print(frobenius_norm(choi2super(A)@choi2super(X1opt@X1opt.conj().T), exp_Lvec))"
   ]
  },
  {
   "cell_type": "code",
   "execution_count": 32,
   "metadata": {},
   "outputs": [
    {
     "name": "stdout",
     "output_type": "stream",
     "text": [
      "1.0099886923168144e-07\n"
     ]
    }
   ],
   "source": [
    "# now we do the same calculations but with the optimal value obtained from cvxpy\n",
    "print(frobenius_norm(choi_composition(X.value, small2zero(A, tol=1e-10)), small2zero(rhs, tol=1e-10))) # value when small2zero was used on A and rhs: 2.6522855638959974e-07\n",
    "# print(cost_cvxpy(X.value, A, rhs, dim))\n",
    "# similar to above, we use only the superoperators\n",
    "# print(frobenius_norm(choi2super(A)@choi2super(X.value), exp_Lvec))\n",
    "\n",
    "# for this value with SCS solver we took:\n",
    "# total: 4.72e+00s = setup: 1.89e+00s + solve: 2.82e+00s"
   ]
  },
  {
   "cell_type": "code",
   "execution_count": 33,
   "metadata": {},
   "outputs": [
    {
     "data": {
      "text/plain": [
       "1.009988692473399e-07"
      ]
     },
     "execution_count": 33,
     "metadata": {},
     "output_type": "execute_result"
    }
   ],
   "source": [
    "cost.value"
   ]
  },
  {
   "cell_type": "code",
   "execution_count": 34,
   "metadata": {},
   "outputs": [
    {
     "name": "stdout",
     "output_type": "stream",
     "text": [
      "[[ 1.00000000e+00  2.63796069e-22 -4.00789192e-23 ...  3.76104212e-22\n",
      "  -4.55776761e-22  1.00000000e+00]\n",
      " [ 2.63796069e-22  3.38818752e-09 -1.39443011e-24 ...  3.38839902e-24\n",
      "  -1.38674207e-24  5.08505730e-22]\n",
      " [-4.00789192e-23 -1.39443011e-24  3.38818752e-09 ...  1.98373581e-25\n",
      "  -1.84855450e-24 -1.44670471e-22]\n",
      " ...\n",
      " [ 3.76104212e-22  3.38839902e-24  1.98373581e-25 ...  3.38818752e-09\n",
      "  -2.34393177e-24  5.35316316e-22]\n",
      " [-4.55776761e-22 -1.38674207e-24 -1.84855450e-24 ... -2.34393177e-24\n",
      "   3.38818752e-09 -6.10268046e-22]\n",
      " [ 1.00000000e+00  5.08505730e-22 -1.44670471e-22 ...  5.35316316e-22\n",
      "  -6.10268046e-22  1.00000000e+00]]\n"
     ]
    }
   ],
   "source": [
    "print((X.value))"
   ]
  },
  {
   "cell_type": "code",
   "execution_count": 230,
   "metadata": {},
   "outputs": [
    {
     "name": "stdout",
     "output_type": "stream",
     "text": [
      "complex128\n",
      "float64\n"
     ]
    }
   ],
   "source": [
    "print(rhs.dtype)\n",
    "print(X.value.dtype)"
   ]
  },
  {
   "cell_type": "code",
   "execution_count": 44,
   "metadata": {},
   "outputs": [
    {
     "data": {
      "text/plain": [
       "12"
      ]
     },
     "execution_count": 44,
     "metadata": {},
     "output_type": "execute_result"
    }
   ],
   "source": [
    "np.linalg.matrix_rank(X.value, tol=1e-8)"
   ]
  },
  {
   "cell_type": "code",
   "execution_count": 110,
   "metadata": {},
   "outputs": [
    {
     "data": {
      "text/plain": [
       "4"
      ]
     },
     "execution_count": 110,
     "metadata": {},
     "output_type": "execute_result"
    }
   ],
   "source": [
    "np.linalg.matrix_rank(X1opt)"
   ]
  },
  {
   "cell_type": "code",
   "execution_count": 236,
   "metadata": {},
   "outputs": [
    {
     "name": "stdout",
     "output_type": "stream",
     "text": [
      "0.0\n",
      "0.0\n",
      "0.0\n",
      "0.0\n",
      "0.0\n",
      "0.0\n",
      "0.0\n"
     ]
    }
   ],
   "source": [
    "# checking if the matrices we obtained are actually purely real:\n",
    "# (OLD): if any(x == True for x in np.iscomplex(rhs).flatten())\n",
    "for op in [X2, X3, Y2, Y3, X1opt, rhs, A]:\n",
    "    print(np.linalg.norm(op.imag.flatten()))"
   ]
  },
  {
   "cell_type": "code",
   "execution_count": 35,
   "metadata": {},
   "outputs": [
    {
     "name": "stdout",
     "output_type": "stream",
     "text": [
      "[1.59601247e+01 1.99252079e-02 1.99252079e-02 2.48753638e-05\n",
      " 9.41937007e-15 7.29470571e-15 6.84506863e-15 6.23095436e-15\n",
      " 5.80100493e-15 5.78248737e-15 5.17804655e-15 4.94692450e-15\n",
      " 4.85247368e-15 4.52496695e-15 4.42685077e-15 3.89746967e-15\n",
      " 3.66693312e-15 3.60964684e-15 3.36566309e-15 2.87946771e-15\n",
      " 2.78382111e-15 2.62033766e-15 2.41774270e-15 2.39242594e-15\n",
      " 1.91779956e-15 1.89715199e-15 1.72563994e-15 1.68728462e-15\n",
      " 1.61919989e-15 1.54653686e-15 1.39933466e-15 1.28447716e-15]\n",
      "----\n",
      "[1.59601248e+01 1.99251812e-02 1.99251787e-02 2.48753821e-05\n",
      " 1.17915016e-14 9.08213709e-15 8.69352780e-15 8.37946884e-15\n",
      " 7.66574976e-15 7.52920133e-15 7.01107572e-15 6.59208080e-15\n",
      " 6.23536754e-15 5.20704729e-15 5.09354029e-15 4.78303898e-15\n",
      " 4.69580713e-15 4.06464210e-15 3.94270522e-15 3.85177708e-15\n",
      " 3.78104053e-15 3.50871149e-15 3.49006992e-15 2.88239594e-15\n",
      " 2.80762888e-15 2.66169047e-15 2.52806861e-15 2.08363936e-15\n",
      " 2.01836208e-15 1.76882084e-15 1.64575579e-15 1.56411260e-15]\n",
      "----\n",
      "[1.59601247e+01 1.99251769e-02 1.99251746e-02 2.48849285e-05\n",
      " 5.56885906e-08 4.78857797e-08 4.51131605e-08 4.09556234e-08\n",
      " 3.90042140e-08 1.97851065e-08 1.48228516e-08 1.00357362e-08\n",
      " 4.23801260e-09 3.97301213e-09 3.92928048e-09 3.89977848e-09\n",
      " 3.77522210e-09 3.58950020e-09 3.55175452e-09 3.50165925e-09\n",
      " 3.45051730e-09 3.44203727e-09 3.43217741e-09 3.43106941e-09\n",
      " 3.43069118e-09 3.42869500e-09 3.42678670e-09 3.42174994e-09\n",
      " 3.42174994e-09 3.42174994e-09 3.42174994e-09 3.42174994e-09]\n"
     ]
    }
   ],
   "source": [
    "max_idx = 32\n",
    "print(np.sort(np.linalg.svd(X1@X1.conj().T, compute_uv=False))[::-1][:max_idx])\n",
    "print('----')\n",
    "print(np.sort(np.linalg.svd(X1_gds@X1_gds.conj().T, compute_uv=False))[::-1][:max_idx])\n",
    "print('----')\n",
    "print(np.sort(np.linalg.svd(X.value, compute_uv=False))[::-1][:max_idx])\n"
   ]
  },
  {
   "cell_type": "code",
   "execution_count": 38,
   "metadata": {},
   "outputs": [
    {
     "data": {
      "text/plain": [
       "[<matplotlib.lines.Line2D at 0x7fd2749da200>]"
      ]
     },
     "execution_count": 38,
     "metadata": {},
     "output_type": "execute_result"
    },
    {
     "data": {
      "image/png": "[encoded data removed]",
      "text/plain": [
       "<Figure size 1200x800 with 1 Axes>"
      ]
     },
     "metadata": {
      "needs_background": "light"
     },
     "output_type": "display_data"
    }
   ],
   "source": [
    "plt.figure(dpi=200)\n",
    "plt.semilogy(np.linalg.svd(X.value, compute_uv=False), 'x')"
   ]
  },
  {
   "cell_type": "code",
   "execution_count": 39,
   "metadata": {},
   "outputs": [],
   "source": [
    "with open('x_copt_dual.npy' ,'wb') as f:\n",
    "    np.save(f, X.value)"
   ]
  },
  {
   "attachments": {},
   "cell_type": "markdown",
   "metadata": {},
   "source": [
    "# 24th July:\n",
    "IDEA: is the configuration of the solver not good enough??\n",
    "NOTE from workcomputer: random matrices (real and sparse) where taking \n",
    "- SCS: 235 min\n",
    "- MOSEK: 289 min\n",
    "\n",
    "NOTE: to install CXOPT, do so thorugh conda forge. pip produces an error.\n",
    "I first tried building from source and that did not work either.\n",
    "\n",
    "- Idea: use warm start from GDS: https://www.cvxpy.org/tutorial/advanced/index.html#warm-start. By setting the value of X to X1@X1.conj().T\n",
    "\n",
    "- get standard form from cvxpy and solve it somewhere else: https://www.cvxpy.org/tutorial/advanced/index.html#getting-the-standard-form\n",
    "\n",
    "- interesting one regarding using different solvers and plot results: https://www.cvxpy.org/examples/applications/l1_trend_filter.html\n",
    "\n",
    "- defaults options for SCS: https://github.com/cvxpy/cvxpy/blob/02ce7a7014bc20cb9e87ecb6f7e39b8d08eb7f85/cvxpy/reductions/solvers/conic_solvers/scs_conif.py#L77\n",
    "\n",
    "- idea on saving output of verbose (hacking source): https://stackoverflow.com/questions/75069030/mosek-via-cvxpy-save-verbose-output\n",
    "\n",
    "NOTES FROM OPTIMIZATION:\n",
    "- I did a warm start using GDS with 2e3 iterations.\n",
    "- first optimization was using standard eps, had a value between initial and gds (closer to initial-> non optimized)\n",
    "- second optimization with eps=1e-9, ran for 18 seconds becuse the problem was already compiled so it just had to call the solver. This gave result on the order of e-8!\n",
    "- the singular values were reduced from 22 to 12 now!! (when using a tolerance of 1e-9)\n",
    "- running third optimization now with e-11 to see if it helps even more. Taking longer already "
   ]
  },
  {
   "attachments": {},
   "cell_type": "markdown",
   "metadata": {},
   "source": []
  }
 ],
 "metadata": {
  "kernelspec": {
   "display_name": "thesis",
   "language": "python",
   "name": "thesis"
  },
  "language_info": {
   "codemirror_mode": {
    "name": "ipython",
    "version": 3
   },
   "file_extension": ".py",
   "mimetype": "text/x-python",
   "name": "python",
   "nbconvert_exporter": "python",
   "pygments_lexer": "ipython3",
   "version": "3.10.4"
  },
  "orig_nbformat": 4,
  "vscode": {
   "interpreter": {
    "hash": "7a5e335ff2d0165f97b24ec78505e76f6491bb7656bd1655dc8df4969b2c8e72"
   }
  }
 },
 "nbformat": 4,
 "nbformat_minor": 2
}
