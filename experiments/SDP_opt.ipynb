{
 "cells": [
  {
   "cell_type": "code",
   "execution_count": 7,
   "metadata": {},
   "outputs": [
    {
     "name": "stdout",
     "output_type": "stream",
     "text": [
      "The autoreload extension is already loaded. To reload it, use:\n",
      "  %reload_ext autoreload\n"
     ]
    }
   ],
   "source": [
    "import sys\n",
    "sys.path.append('..')\n",
    "# reload local packages automatically\n",
    "%load_ext autoreload\n",
    "%autoreload 2\n",
    "\n",
    "from jax import config\n",
    "config.update(\"jax_enable_x64\", True)\n",
    "\n",
    "# Import packages.\n",
    "import cvxpy as cp\n",
    "import numpy as np\n",
    "\n",
    "import matplotlib.pyplot as plt\n"
   ]
  },
  {
   "cell_type": "code",
   "execution_count": 163,
   "metadata": {},
   "outputs": [
    {
     "name": "stdout",
     "output_type": "stream",
     "text": [
      "2.638300722408311e-07\n",
      "2.0772161170510943e-07\n"
     ]
    },
    {
     "data": {
      "text/plain": [
       "[<matplotlib.lines.Line2D at 0x7fa3e28fe6e0>]"
      ]
     },
     "execution_count": 163,
     "metadata": {},
     "output_type": "execute_result"
    },
    {
     "data": {
      "image/png": "[encoded data removed]",
      "text/plain": [
       "<Figure size 432x288 with 1 Axes>"
      ]
     },
     "metadata": {
      "needs_background": "light"
     },
     "output_type": "display_data"
    }
   ],
   "source": [
    "from opentn.transformations import create_kitaev_liouvillians, exp_operator_dt, factorize_psd, super2choi\n",
    "d, N = 2, 4\n",
    "dim = d**N\n",
    "Lvec, Lvec_odd, Lvec_even, Lnn = create_kitaev_liouvillians(N=N, d=d, gamma=1e-2)\n",
    "tau = 4\n",
    "superops_exp = []\n",
    "for i, op in enumerate([Lvec, Lvec_odd, Lvec_even]):\n",
    "    if i == 1:\n",
    "        superops_exp.append(exp_operator_dt(op, tau/2, 'jax'))\n",
    "    else:\n",
    "        superops_exp.append(exp_operator_dt(op, tau, 'jax'))\n",
    "exp_Lvec, exp_Lvec_odd, exp_Lvec_even = superops_exp\n",
    "\n",
    "X1, eigvals1 = factorize_psd(psd=super2choi(exp_Lvec_odd), tol=1e-12)\n",
    "X2, eigvals2 = factorize_psd(psd=super2choi(exp_Lvec_even), tol=1e-12)\n",
    "\n",
    "from opentn.optimization import gds, frobenius_norm, model_Ys, compute_loss\n",
    "cost_n4, grads_n4, xi_n4 = gds(fn=compute_loss, x0=[X1, X2, X1], iter=100, loss_fn=frobenius_norm, model=model_Ys, rate=1.5e-9, exact = exp_Lvec, show_cost=False)\n",
    "print(cost_n4[0])\n",
    "print(cost_n4[-1])\n",
    "\n",
    "plt.plot(cost_n4)"
   ]
  },
  {
   "cell_type": "code",
   "execution_count": 71,
   "metadata": {},
   "outputs": [
    {
     "name": "stderr",
     "output_type": "stream",
     "text": [
      "/Users/emiliano_gr/opt/anaconda3/envs/thesis/lib/python3.10/site-packages/scipy/sparse/_data.py:72: ComplexWarning: Casting complex values to real discards the imaginary part\n",
      "  self._deduped_data().astype(dtype, casting=casting, copy=copy),\n"
     ]
    },
    {
     "data": {
      "text/plain": [
       "<4096x4096 sparse matrix of type '<class 'numpy.float64'>'\n",
       "\twith 304704 stored elements in Compressed Sparse Row format>"
      ]
     },
     "execution_count": 71,
     "metadata": {},
     "output_type": "execute_result"
    }
   ],
   "source": [
    "from opentn.transformations import super2choi, choi_composition, partial_transpose\n",
    "from opentn.optimization import small2zero\n",
    "from scipy import sparse\n",
    "\n",
    "# rest of matrices optimized with GSD\n",
    "X2 = xi_n4[-1][1]\n",
    "X3 = xi_n4[-1][2]\n",
    "Y2 = X2@X2.conj().T\n",
    "Y3 = X3@X3.conj().T\n",
    "\n",
    "# rhs to which we want to approximate\n",
    "rhs = np.asarray(super2choi(superop=exp_Lvec, dim=dim))\n",
    "srhs = sparse.csr_matrix(rhs) # small2zero was deleted\n",
    "srhs = srhs.astype(np.float64)\n",
    "\n",
    "# change partial transpose to A\n",
    "A = choi_composition(C1=Y2, C2=Y3, dim=dim) # small2zero was deleted\n",
    "A_tb = partial_transpose(A, dims=[dim, dim], idx=1)\n",
    "I = np.eye(dim)\n",
    "A_tbxI = np.kron(A_tb, I)\n",
    "sA_tbxI = sparse.csr_matrix(A_tbxI)\n",
    "sA_tbxI = sA_tbxI.astype(np.float64)\n",
    "sA_tbxI"
   ]
  },
  {
   "cell_type": "code",
   "execution_count": 72,
   "metadata": {},
   "outputs": [
    {
     "name": "stdout",
     "output_type": "stream",
     "text": [
      "['ECOS', 'ECOS_BB', 'MOSEK', 'OSQP', 'SCIPY', 'SCS']\n"
     ]
    }
   ],
   "source": [
    "X = cp.Variable((dim**2,dim**2), PSD=True)\n",
    "lhs =  cp.partial_trace(sA_tbxI @ cp.kron(I, X), dims=[dim, dim, dim], axis=1)\n",
    "cost = cp.norm(lhs - srhs, \"fro\")\n",
    "prob = cp.Problem(cp.Minimize(cost))\n",
    "\n",
    "print(cp.installed_solvers())"
   ]
  },
  {
   "cell_type": "code",
   "execution_count": 73,
   "metadata": {},
   "outputs": [
    {
     "name": "stdout",
     "output_type": "stream",
     "text": [
      "===============================================================================\n",
      "                                     CVXPY                                     \n",
      "                                     v1.3.1                                    \n",
      "===============================================================================\n",
      "(CVXPY) Jul 19 12:19:24 AM: Your problem has 65536 variables, 0 constraints, and 0 parameters.\n",
      "(CVXPY) Jul 19 12:19:24 AM: It is compliant with the following grammars: DCP, DQCP\n",
      "(CVXPY) Jul 19 12:19:24 AM: (If you need to solve this problem multiple times, but with different data, consider using parameters.)\n",
      "(CVXPY) Jul 19 12:19:24 AM: CVXPY will first compile your problem; then, it will invoke a numerical solver to obtain a solution.\n",
      "-------------------------------------------------------------------------------\n",
      "                                  Compilation                                  \n",
      "-------------------------------------------------------------------------------\n",
      "(CVXPY) Jul 19 12:19:24 AM: Compiling problem (target solver=SCS).\n",
      "(CVXPY) Jul 19 12:19:24 AM: Reduction chain: Dcp2Cone -> CvxAttr2Constr -> ConeMatrixStuffing -> SCS\n",
      "(CVXPY) Jul 19 12:19:24 AM: Applying reduction Dcp2Cone\n"
     ]
    },
    {
     "name": "stdout",
     "output_type": "stream",
     "text": [
      "(CVXPY) Jul 19 12:19:24 AM: Applying reduction CvxAttr2Constr\n",
      "(CVXPY) Jul 19 12:19:24 AM: Applying reduction ConeMatrixStuffing\n",
      "(CVXPY) Jul 19 01:24:20 AM: Applying reduction SCS\n",
      "(CVXPY) Jul 19 01:24:20 AM: Finished problem compilation (took 3.896e+03 seconds).\n",
      "-------------------------------------------------------------------------------\n",
      "                                Numerical solver                               \n",
      "-------------------------------------------------------------------------------\n",
      "(CVXPY) Jul 19 01:24:20 AM: Invoking solver SCS  to obtain a solution.\n",
      "------------------------------------------------------------------\n",
      "\t       SCS v3.2.3 - Splitting Conic Solver\n",
      "\t(c) Brendan O'Donoghue, Stanford University, 2012\n",
      "------------------------------------------------------------------\n",
      "problem:  variables n: 32897, constraints m: 98433\n",
      "cones: \t  q: soc vars: 65537, qsize: 1\n",
      "\t  s: psd vars: 32896, ssize: 1\n",
      "settings: eps_abs: 1.0e-05, eps_rel: 1.0e-05, eps_infeas: 1.0e-07\n",
      "\t  alpha: 1.50, scale: 1.00e-01, adaptive_scale: 1\n",
      "\t  max_iters: 100000, normalize: 1, rho_x: 1.00e-06\n",
      "\t  acceleration_lookback: 10, acceleration_interval: 10\n",
      "lin-sys:  sparse-direct-amd-qdldl\n",
      "\t  nnz(A): 4800145, nnz(P): 0\n",
      "------------------------------------------------------------------\n",
      " iter | pri res | dua res |   gap   |   obj   |  scale  | time (s)\n",
      "------------------------------------------------------------------\n",
      "     0| 1.67e+01  1.00e+00  3.93e+01  2.91e+00  1.00e-01  1.97e+00 \n",
      "    50| 4.23e-08  3.02e-10  2.76e-09  3.34e-09  1.00e-01  4.71e+00 \n",
      "------------------------------------------------------------------\n",
      "status:  solved\n",
      "timings: total: 4.72e+00s = setup: 1.89e+00s + solve: 2.82e+00s\n",
      "\t lin-sys: 6.02e-01s, cones: 1.54e+00s, accel: 4.84e-02s\n",
      "------------------------------------------------------------------\n",
      "objective = 0.000000\n",
      "------------------------------------------------------------------\n",
      "-------------------------------------------------------------------------------\n",
      "                                    Summary                                    \n",
      "-------------------------------------------------------------------------------\n",
      "(CVXPY) Jul 19 01:24:34 AM: Problem status: optimal\n",
      "(CVXPY) Jul 19 01:24:34 AM: Optimal value: 2.617e-07\n",
      "(CVXPY) Jul 19 01:24:34 AM: Compilation took 3.896e+03 seconds\n",
      "(CVXPY) Jul 19 01:24:34 AM: Solver (including time spent in interface) took 4.739e+00 seconds\n"
     ]
    },
    {
     "data": {
      "text/plain": [
       "2.616657054528783e-07"
      ]
     },
     "execution_count": 73,
     "metadata": {},
     "output_type": "execute_result"
    }
   ],
   "source": [
    "prob.solve(solver=cp.SCS, verbose=True, canon_backend=cp.SCIPY_CANON_BACKEND)"
   ]
  },
  {
   "cell_type": "code",
   "execution_count": 90,
   "metadata": {},
   "outputs": [],
   "source": [
    "# we need to check that the cost function created through cvxpy is the same as with compute_loss, model_Ys, frobenius_norm**2\n",
    "def cost_cvxpy(C1, C2, rhs, dim):\n",
    "    I = np.eye(dim)\n",
    "    C2_tb = partial_transpose(C2, dims=[dim, dim], idx=1)\n",
    "    C2_tbxI = np.kron(C2_tb, I)\n",
    "    C2_tbxI = sparse.csr_matrix(C2_tbxI)\n",
    "    C2_tbxI = C2_tbxI.astype(np.float64)\n",
    "\n",
    "    srhs = sparse.csr_matrix(rhs) # small2zero was deleted\n",
    "    srhs = srhs.astype(np.float64)\n",
    "\n",
    "    lhs =  cp.partial_trace(C2_tbxI @ cp.kron(I, C1), dims=[dim, dim, dim], axis=1)\n",
    "    cost = cp.norm(lhs - srhs, \"fro\")\n",
    "    return cost.value \n",
    "\n",
    "# cost_cvxpy(X.value, A, rhs, dim) # it gives the same result but we just have to add the small2zero thing\n",
    "# would it help not adding the small2zero thing? "
   ]
  },
  {
   "cell_type": "code",
   "execution_count": 228,
   "metadata": {},
   "outputs": [
    {
     "name": "stdout",
     "output_type": "stream",
     "text": [
      "2.0762417533163998e-07\n"
     ]
    },
    {
     "name": "stderr",
     "output_type": "stream",
     "text": [
      "/Users/emiliano_gr/opt/anaconda3/envs/thesis/lib/python3.10/site-packages/scipy/sparse/_data.py:72: ComplexWarning: Casting complex values to real discards the imaginary part\n",
      "  self._deduped_data().astype(dtype, casting=casting, copy=copy),\n"
     ]
    },
    {
     "name": "stdout",
     "output_type": "stream",
     "text": [
      "2.0762417532526505e-07\n",
      "2.0762417533163993e-07\n"
     ]
    }
   ],
   "source": [
    "from opentn.transformations import choi2super\n",
    "X1opt = xi_n4[-1][0]\n",
    "print(frobenius_norm(choi_composition(X1opt@X1opt.conj().T, A), rhs))\n",
    "print(cost_cvxpy(X1opt@X1opt.conj().T, A, rhs, dim))\n",
    "# check if the cost function would be the same if we used superoperators instead of choi matrices.\n",
    "# this includes not using sparse matrices\n",
    "print(frobenius_norm(choi2super(A)@choi2super(X1opt@X1opt.conj().T), exp_Lvec))"
   ]
  },
  {
   "cell_type": "code",
   "execution_count": 229,
   "metadata": {},
   "outputs": [
    {
     "name": "stdout",
     "output_type": "stream",
     "text": [
      "2.616657054312103e-07\n",
      "2.616657054528783e-07\n",
      "2.616657054312103e-07\n"
     ]
    }
   ],
   "source": [
    "# now we do the same calculations but with the optimal value obtained from cvxpy\n",
    "print(frobenius_norm(choi_composition(X.value, A), rhs)) # value when small2zero was used on A and rhs: 2.6522855638959974e-07\n",
    "print(cost_cvxpy(X.value, A, rhs, dim))\n",
    "# similar to above, we use only the superoperators\n",
    "print(frobenius_norm(choi2super(A)@choi2super(X.value), exp_Lvec))"
   ]
  },
  {
   "cell_type": "code",
   "execution_count": 230,
   "metadata": {},
   "outputs": [
    {
     "name": "stdout",
     "output_type": "stream",
     "text": [
      "complex128\n",
      "float64\n"
     ]
    }
   ],
   "source": [
    "print(rhs.dtype)\n",
    "print(X.value.dtype)"
   ]
  },
  {
   "cell_type": "code",
   "execution_count": 80,
   "metadata": {},
   "outputs": [
    {
     "data": {
      "text/plain": [
       "3.118308142720801e-07"
      ]
     },
     "execution_count": 80,
     "metadata": {},
     "output_type": "execute_result"
    }
   ],
   "source": [
    "np.linalg.norm(X.value - X1opt@X1opt.conj().T)"
   ]
  },
  {
   "cell_type": "code",
   "execution_count": 218,
   "metadata": {},
   "outputs": [
    {
     "data": {
      "text/plain": [
       "True"
      ]
     },
     "execution_count": 218,
     "metadata": {},
     "output_type": "execute_result"
    }
   ],
   "source": [
    "cost.is_convex()"
   ]
  },
  {
   "cell_type": "code",
   "execution_count": 215,
   "metadata": {},
   "outputs": [
    {
     "data": {
      "text/plain": [
       "22"
      ]
     },
     "execution_count": 215,
     "metadata": {},
     "output_type": "execute_result"
    }
   ],
   "source": [
    "np.linalg.matrix_rank(X.value, tol=1e-9)"
   ]
  },
  {
   "cell_type": "code",
   "execution_count": 110,
   "metadata": {},
   "outputs": [
    {
     "data": {
      "text/plain": [
       "4"
      ]
     },
     "execution_count": 110,
     "metadata": {},
     "output_type": "execute_result"
    }
   ],
   "source": [
    "np.linalg.matrix_rank(X1opt)"
   ]
  },
  {
   "cell_type": "code",
   "execution_count": 216,
   "metadata": {},
   "outputs": [
    {
     "data": {
      "text/plain": [
       "True"
      ]
     },
     "execution_count": 216,
     "metadata": {},
     "output_type": "execute_result"
    }
   ],
   "source": [
    "X1opt.shape == X.value.shape == (256, 256)"
   ]
  },
  {
   "cell_type": "code",
   "execution_count": 236,
   "metadata": {},
   "outputs": [
    {
     "name": "stdout",
     "output_type": "stream",
     "text": [
      "0.0\n",
      "0.0\n",
      "0.0\n",
      "0.0\n",
      "0.0\n",
      "0.0\n",
      "0.0\n"
     ]
    }
   ],
   "source": [
    "# checking if the matrices we obtained are actually purely real:\n",
    "# (OLD): if any(x == True for x in np.iscomplex(rhs).flatten())\n",
    "for op in [X2, X3, Y2, Y3, X1opt, rhs, A]:\n",
    "    print(np.linalg.norm(op.imag.flatten()))"
   ]
  },
  {
   "cell_type": "code",
   "execution_count": 241,
   "metadata": {},
   "outputs": [
    {
     "name": "stdout",
     "output_type": "stream",
     "text": [
      "[1.59601247e+01 1.99252051e-02 1.99252046e-02 2.48753645e-05\n",
      " 8.48129654e-15 6.31816818e-15 6.20981924e-15 5.86025566e-15\n",
      " 5.69412183e-15 5.48170099e-15 5.41871558e-15 5.25619571e-15\n",
      " 4.87664228e-15 4.26100543e-15 4.06169438e-15 3.98294267e-15\n",
      " 3.91318793e-15 3.61435904e-15 3.55661964e-15 3.02864385e-15\n",
      " 2.85368560e-15 2.68083679e-15 2.39970236e-15 2.24273350e-15\n",
      " 2.13402897e-15 2.07232794e-15 1.97635388e-15 1.86847837e-15\n",
      " 1.66742613e-15 1.51372797e-15 1.49138543e-15 1.34797028e-15]\n",
      "----\n",
      "[1.59601247e+01 1.99251640e-02 1.99251539e-02 2.48791935e-05\n",
      " 5.61805632e-08 4.34143461e-08 3.49806807e-08 3.37863474e-08\n",
      " 2.87794764e-08 2.82106604e-08 2.72576795e-08 2.54720093e-08\n",
      " 2.42538020e-08 2.35569031e-08 1.52808152e-08 1.15050625e-08\n",
      " 8.56472063e-09 8.42259333e-09 7.62364212e-09 5.63844199e-09\n",
      " 4.52040686e-09 1.51260275e-09 9.79361612e-10 5.45623628e-10\n",
      " 4.99361261e-10 2.24398309e-10 1.64380794e-10 1.55086605e-10\n",
      " 1.52183969e-10 1.33060393e-10 1.24028278e-10 1.23896898e-10]\n",
      "----\n",
      "[1.59601247e+01 1.99252079e-02 1.99252079e-02 2.48753638e-05\n",
      " 9.41937007e-15 7.29470571e-15 6.84506863e-15 6.23095436e-15\n",
      " 5.80100493e-15 5.78248737e-15 5.17804655e-15 4.94692450e-15\n",
      " 4.85247368e-15 4.52496695e-15 4.42685077e-15 3.89746967e-15\n",
      " 3.66693312e-15 3.60964684e-15 3.36566309e-15 2.87946771e-15\n",
      " 2.78382111e-15 2.62033766e-15 2.41774270e-15 2.39242594e-15\n",
      " 1.91779956e-15 1.89715199e-15 1.72563994e-15 1.68728462e-15\n",
      " 1.61919989e-15 1.54653686e-15 1.39933466e-15 1.28447716e-15]\n"
     ]
    }
   ],
   "source": [
    "print(np.sort(np.linalg.svd(X1opt@X1opt.conj().T, compute_uv=False))[::-1][:32])\n",
    "print('----')\n",
    "print(np.sort(np.linalg.svd(X.value, compute_uv=False))[::-1][:32])\n",
    "print('----')\n",
    "print(np.sort(np.linalg.svd(X1@X1.conj().T, compute_uv=False))[::-1][:32])"
   ]
  },
  {
   "attachments": {},
   "cell_type": "markdown",
   "metadata": {},
   "source": [
    "# 24th July:\n",
    "IDEA: is the configuration of the solver not good enough??\n",
    "NOTE from workcomputer: random matrices (real and sparse) where taking \n",
    "- SCS: 235 min\n",
    "- MOSEK: 289 min"
   ]
  },
  {
   "attachments": {},
   "cell_type": "markdown",
   "metadata": {},
   "source": []
  }
 ],
 "metadata": {
  "kernelspec": {
   "display_name": "thesis",
   "language": "python",
   "name": "thesis"
  },
  "language_info": {
   "codemirror_mode": {
    "name": "ipython",
    "version": 3
   },
   "file_extension": ".py",
   "mimetype": "text/x-python",
   "name": "python",
   "nbconvert_exporter": "python",
   "pygments_lexer": "ipython3",
   "version": "3.10.4"
  },
  "orig_nbformat": 4,
  "vscode": {
   "interpreter": {
    "hash": "7a5e335ff2d0165f97b24ec78505e76f6491bb7656bd1655dc8df4969b2c8e72"
   }
  }
 },
 "nbformat": 4,
 "nbformat_minor": 2
}
