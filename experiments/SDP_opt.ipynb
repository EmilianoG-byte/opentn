{
 "cells": [
  {
   "cell_type": "code",
   "execution_count": 7,
   "metadata": {},
   "outputs": [
    {
     "name": "stdout",
     "output_type": "stream",
     "text": [
      "The autoreload extension is already loaded. To reload it, use:\n",
      "  %reload_ext autoreload\n"
     ]
    }
   ],
   "source": [
    "import sys\n",
    "sys.path.append('..')\n",
    "# reload local packages automatically\n",
    "%load_ext autoreload\n",
    "%autoreload 2\n",
    "\n",
    "from jax import config\n",
    "config.update(\"jax_enable_x64\", True)\n",
    "\n",
    "# Import packages.\n",
    "import cvxpy as cp\n",
    "import numpy as np\n",
    "\n",
    "import matplotlib.pyplot as plt\n"
   ]
  },
  {
   "cell_type": "code",
   "execution_count": 140,
   "metadata": {},
   "outputs": [
    {
     "data": {
      "text/plain": [
       "DeviceArray([[0.+0.j, 1.+0.j],\n",
       "             [0.+0.j, 0.+0.j]], dtype=complex128)"
      ]
     },
     "execution_count": 140,
     "metadata": {},
     "output_type": "execute_result"
    }
   ],
   "source": [
    "from opentn.states.qubits import get_ladder_operator\n",
    "lowering = get_ladder_operator()\n",
    "lowering"
   ]
  },
  {
   "cell_type": "code",
   "execution_count": 163,
   "metadata": {},
   "outputs": [
    {
     "name": "stdout",
     "output_type": "stream",
     "text": [
      "2.638300722408311e-07\n",
      "2.0772161170510943e-07\n"
     ]
    },
    {
     "data": {
      "text/plain": [
       "[<matplotlib.lines.Line2D at 0x7fa3e28fe6e0>]"
      ]
     },
     "execution_count": 163,
     "metadata": {},
     "output_type": "execute_result"
    },
    {
     "data": {
      "image/png": "[encoded data removed]",
      "text/plain": [
       "<Figure size 432x288 with 1 Axes>"
      ]
     },
     "metadata": {
      "needs_background": "light"
     },
     "output_type": "display_data"
    }
   ],
   "source": [
    "from opentn.transformations import create_kitaev_liouvillians, exp_operator_dt, factorize_psd, super2choi\n",
    "d, N = 2, 4\n",
    "dim = d**N\n",
    "Lvec, Lvec_odd, Lvec_even, Lnn = create_kitaev_liouvillians(N=N, d=d, gamma=1e-2)\n",
    "tau = 4\n",
    "superops_exp = []\n",
    "for i, op in enumerate([Lvec, Lvec_odd, Lvec_even]):\n",
    "    if i == 1:\n",
    "        superops_exp.append(exp_operator_dt(op, tau/2, 'jax'))\n",
    "    else:\n",
    "        superops_exp.append(exp_operator_dt(op, tau, 'jax'))\n",
    "exp_Lvec, exp_Lvec_odd, exp_Lvec_even = superops_exp\n",
    "\n",
    "X1, eigvals1 = factorize_psd(psd=super2choi(exp_Lvec_odd), tol=1e-12)\n",
    "X2, eigvals2 = factorize_psd(psd=super2choi(exp_Lvec_even), tol=1e-12)\n",
    "\n",
    "from opentn.optimization import gds, frobenius_norm, model_Ys, compute_loss\n",
    "cost_n4, grads_n4, xi_n4 = gds(fn=compute_loss, x0=[X1, X2, X1], iter=100, loss_fn=frobenius_norm, model=model_Ys, rate=1.5e-9, exact = exp_Lvec, show_cost=False)\n",
    "print(cost_n4[0])\n",
    "print(cost_n4[-1])\n",
    "\n",
    "plt.plot(cost_n4)"
   ]
  },
  {
   "cell_type": "code",
   "execution_count": 157,
   "metadata": {},
   "outputs": [
    {
     "name": "stdout",
     "output_type": "stream",
     "text": [
      "(256, 256)\n",
      "256\n"
     ]
    }
   ],
   "source": [
    "print(exp_Lvec_even.shape)\n",
    "print(np.linalg.matrix_rank(exp_Lvec_even))"
   ]
  },
  {
   "cell_type": "code",
   "execution_count": 166,
   "metadata": {},
   "outputs": [
    {
     "name": "stdout",
     "output_type": "stream",
     "text": [
      "0.9950124791926823\n",
      "0.9975031223974601\n",
      "[0.99501248+0.j 0.99750312+0.j 0.99750312+0.j 0.99750312+0.j\n",
      " 0.99750312+0.j 0.99750312+0.j 0.99750312+0.j 1.        +0.j\n",
      " 1.        +0.j 1.        +0.j 1.        +0.j 1.        +0.j\n",
      " 1.        +0.j 1.        +0.j 1.        +0.j 1.        +0.j]\n"
     ]
    }
   ],
   "source": [
    "from opentn.optimization import model_Zs\n",
    "from opentn.transformations import lindbladian2super, create_supertensored_from_local\n",
    "superop = lindbladian2super(Li=[Lnn])\n",
    "superop = exp_operator_dt(superop, tau/2, 'jax')\n",
    "gamma = 1e-2\n",
    "print(np.exp(-tau*gamma/(2*4))), print(np.exp(-tau*gamma/(2*8)))\n",
    "print(np.sort(np.linalg.eigvals(superop)))"
   ]
  },
  {
   "cell_type": "code",
   "execution_count": 168,
   "metadata": {},
   "outputs": [
    {
     "name": "stdout",
     "output_type": "stream",
     "text": [
      "2\n",
      "4\n",
      "2\n",
      "29\n"
     ]
    }
   ],
   "source": [
    "for matrix in [superop, exp_Lvec_odd, exp_Lvec_even, exp_Lvec]:\n",
    "    print(np.linalg.matrix_rank(super2choi(matrix)))"
   ]
  },
  {
   "cell_type": "code",
   "execution_count": 133,
   "metadata": {},
   "outputs": [
    {
     "data": {
      "text/plain": [
       "array([ 1.59601247e+001,  1.99252079e-002,  1.99252079e-002,\n",
       "        2.48753638e-005,  4.50856098e-015,  3.96652233e-015,\n",
       "        3.67215449e-015,  3.45390979e-015,  3.29333088e-015,\n",
       "        3.27335481e-015,  2.87100045e-015,  2.15063493e-015,\n",
       "        2.13940053e-015,  1.49491464e-015,  1.37325204e-015,\n",
       "        1.32187975e-015,  1.12058217e-015,  9.28771162e-016,\n",
       "        5.68342524e-016,  3.55784551e-016,  3.44475540e-016,\n",
       "        2.87990870e-016,  2.78315063e-016,  8.17521478e-017,\n",
       "        2.88454409e-017,  1.43871560e-018,  1.06878237e-018,\n",
       "        7.18541005e-019,  4.02416294e-019,  1.47797301e-019,\n",
       "        9.15697476e-021,  1.30551757e-021,  6.81954415e-031,\n",
       "        5.49093606e-031,  3.41897236e-031,  3.32845778e-031,\n",
       "        1.96209071e-031,  1.42213044e-031,  1.16527641e-031,\n",
       "        9.85466571e-032,  6.27415971e-032,  3.33957421e-032,\n",
       "        1.87824158e-032,  1.64171039e-032,  8.86412729e-033,\n",
       "        3.95008788e-038,  2.03807148e-038,  3.98118469e-039,\n",
       "        1.77481294e-039,  1.09924389e-039,  3.78285089e-040,\n",
       "        2.53735680e-040,  1.96277783e-040,  7.76471543e-041,\n",
       "        7.00397660e-041,  4.70694614e-041,  2.42671145e-041,\n",
       "        1.37283274e-041,  2.28012051e-042,  2.03635703e-053,\n",
       "        1.25372302e-053,  8.46854775e-054,  4.41685800e-054,\n",
       "        3.66097841e-054,  1.42828021e-054,  5.60990363e-055,\n",
       "        5.39960890e-055,  1.99638921e-055,  1.86680947e-055,\n",
       "        1.20678116e-055,  4.46158511e-056,  2.31870823e-069,\n",
       "        2.13673054e-069,  1.09631229e-069,  1.00971420e-069,\n",
       "        6.87018138e-070,  5.66642694e-070,  5.58815315e-070,\n",
       "        4.35744769e-070,  2.00665419e-070,  1.84868486e-070,\n",
       "        1.08048197e-070,  6.67079754e-071,  4.80241601e-085,\n",
       "        4.39456691e-085,  3.50572497e-085,  3.30091889e-085,\n",
       "        2.37317341e-085,  2.29521306e-085,  1.91860813e-085,\n",
       "        1.14342672e-085,  1.03020120e-085,  7.54353985e-086,\n",
       "        7.04346967e-086,  1.91729619e-087,  1.30478342e-100,\n",
       "        8.61597559e-101,  7.55886140e-101,  6.67803537e-101,\n",
       "        6.08683627e-101,  5.47450708e-101,  4.36687442e-101,\n",
       "        3.70282434e-101,  3.49649696e-101,  2.27444674e-101,\n",
       "        2.26903530e-101,  1.49626578e-101,  1.14999521e-101,\n",
       "        8.02084314e-102,  2.00759399e-103,  2.50220908e-117,\n",
       "        2.61280904e-118,  2.45600463e-133,  4.42961908e-149,\n",
       "        5.98994578e-150,  1.84034338e-165,  0.00000000e+000,\n",
       "        0.00000000e+000,  0.00000000e+000,  0.00000000e+000,\n",
       "        0.00000000e+000,  0.00000000e+000,  0.00000000e+000,\n",
       "        0.00000000e+000,  0.00000000e+000,  0.00000000e+000,\n",
       "        0.00000000e+000,  0.00000000e+000,  0.00000000e+000,\n",
       "        0.00000000e+000,  0.00000000e+000,  0.00000000e+000,\n",
       "       -1.68806408e-165, -4.36217813e-165, -3.85110387e-150,\n",
       "       -8.47494568e-134, -1.41589512e-133, -1.57382975e-117,\n",
       "       -4.18642143e-102, -1.32597845e-101, -1.75095533e-101,\n",
       "       -3.25440908e-101, -3.56470449e-101, -4.18086864e-101,\n",
       "       -4.45050585e-101, -4.88802997e-101, -5.54008545e-101,\n",
       "       -5.56862673e-101, -6.17009967e-101, -6.58313543e-101,\n",
       "       -9.27659892e-101, -1.25588502e-100, -1.17988316e-086,\n",
       "       -1.37768710e-086, -3.30697626e-086, -6.94688575e-086,\n",
       "       -1.16450064e-085, -1.89342219e-085, -2.19066546e-085,\n",
       "       -2.40268064e-085, -2.62459134e-085, -2.91427180e-085,\n",
       "       -2.94446966e-085, -3.11218894e-085, -4.48511584e-085,\n",
       "       -5.19073888e-085, -2.75359690e-071, -1.11478428e-070,\n",
       "       -1.32063774e-070, -2.60655535e-070, -5.32019115e-070,\n",
       "       -5.37374946e-070, -7.16397066e-070, -7.87853255e-070,\n",
       "       -9.38191758e-070, -1.23951593e-069, -1.56872863e-069,\n",
       "       -1.66223910e-069, -2.17539751e-069, -2.48071838e-069,\n",
       "       -1.32184480e-056, -7.55946306e-056, -7.97869210e-056,\n",
       "       -1.01480369e-055, -2.44807498e-055, -3.24559256e-055,\n",
       "       -3.29911206e-055, -3.95003378e-055, -5.25789895e-055,\n",
       "       -1.46437398e-054, -4.79810726e-054, -7.58946771e-054,\n",
       "       -1.76467704e-053, -2.19563400e-053, -3.32796015e-042,\n",
       "       -5.87655575e-042, -8.64231644e-042, -8.50306249e-041,\n",
       "       -2.07490330e-040, -2.34300861e-040, -2.89300221e-040,\n",
       "       -3.29801884e-040, -3.94030166e-040, -5.87482147e-040,\n",
       "       -1.47780823e-039, -4.16357135e-039, -2.10524374e-033,\n",
       "       -4.08656599e-033, -9.59739612e-033, -1.19758998e-032,\n",
       "       -1.26556384e-032, -3.27705460e-032, -1.02350290e-031,\n",
       "       -1.08718043e-031, -1.93102029e-031, -2.06545596e-031,\n",
       "       -2.69916603e-031, -3.20947374e-031, -4.66456886e-031,\n",
       "       -5.15486077e-031, -6.18871793e-031, -7.63249102e-031,\n",
       "       -1.68261823e-022, -5.05171659e-022, -1.79813397e-019,\n",
       "       -3.47292134e-019, -3.79559311e-019, -6.13780189e-019,\n",
       "       -8.02619240e-019, -8.34200183e-019, -1.35177292e-018,\n",
       "       -5.65945006e-017, -8.80740912e-017, -1.58155201e-016,\n",
       "       -3.22494396e-016, -6.02370234e-016, -6.43297037e-016,\n",
       "       -8.21623744e-016, -8.51609878e-016, -9.64706098e-016,\n",
       "       -1.04898670e-015, -1.13521407e-015, -1.47122379e-015,\n",
       "       -1.47886339e-015, -1.66507152e-015, -1.80333227e-015,\n",
       "       -2.00158039e-015, -2.02591208e-015, -2.17008254e-015,\n",
       "       -2.45360978e-015, -3.49661735e-015, -4.15956387e-015,\n",
       "       -4.16752654e-015, -4.46531934e-015, -5.30658851e-015,\n",
       "       -5.65190913e-015])"
      ]
     },
     "execution_count": 133,
     "metadata": {},
     "output_type": "execute_result"
    }
   ],
   "source": [
    "np.sort(eigvals1)[::-1]"
   ]
  },
  {
   "cell_type": "code",
   "execution_count": 131,
   "metadata": {},
   "outputs": [
    {
     "data": {
      "text/plain": [
       "[<matplotlib.lines.Line2D at 0x7fa3d02c42e0>]"
      ]
     },
     "execution_count": 131,
     "metadata": {},
     "output_type": "execute_result"
    },
    {
     "data": {
      "image/png": "[encoded data removed]",
      "text/plain": [
       "<Figure size 1200x800 with 1 Axes>"
      ]
     },
     "metadata": {
      "needs_background": "light"
     },
     "output_type": "display_data"
    }
   ],
   "source": [
    "plt.figure(dpi=200)\n",
    "plt.semilogy(eigvals1, 'x', markersize=1)"
   ]
  },
  {
   "cell_type": "code",
   "execution_count": 120,
   "metadata": {},
   "outputs": [
    {
     "data": {
      "text/plain": [
       "4"
      ]
     },
     "execution_count": 120,
     "metadata": {},
     "output_type": "execute_result"
    }
   ],
   "source": [
    "np.linalg.matrix_rank(X1)"
   ]
  },
  {
   "cell_type": "code",
   "execution_count": 118,
   "metadata": {},
   "outputs": [
    {
     "data": {
      "text/plain": [
       "29"
      ]
     },
     "execution_count": 118,
     "metadata": {},
     "output_type": "execute_result"
    }
   ],
   "source": [
    "np.linalg.matrix_rank(super2choi(exp_Lvec))"
   ]
  },
  {
   "cell_type": "code",
   "execution_count": 95,
   "metadata": {},
   "outputs": [],
   "source": [
    "if any(x == True for x in np.iscomplex(rhs).flatten()):\n",
    "    print(True)\n"
   ]
  },
  {
   "cell_type": "code",
   "execution_count": 101,
   "metadata": {},
   "outputs": [
    {
     "data": {
      "text/plain": [
       "0.0"
      ]
     },
     "execution_count": 101,
     "metadata": {},
     "output_type": "execute_result"
    }
   ],
   "source": [
    "np.linalg.norm(Y3.imag.flatten())"
   ]
  },
  {
   "cell_type": "code",
   "execution_count": 71,
   "metadata": {},
   "outputs": [
    {
     "name": "stderr",
     "output_type": "stream",
     "text": [
      "/Users/emiliano_gr/opt/anaconda3/envs/thesis/lib/python3.10/site-packages/scipy/sparse/_data.py:72: ComplexWarning: Casting complex values to real discards the imaginary part\n",
      "  self._deduped_data().astype(dtype, casting=casting, copy=copy),\n"
     ]
    },
    {
     "data": {
      "text/plain": [
       "<4096x4096 sparse matrix of type '<class 'numpy.float64'>'\n",
       "\twith 304704 stored elements in Compressed Sparse Row format>"
      ]
     },
     "execution_count": 71,
     "metadata": {},
     "output_type": "execute_result"
    }
   ],
   "source": [
    "from opentn.transformations import super2choi, choi_composition, partial_transpose\n",
    "from opentn.optimization import small2zero\n",
    "from scipy import sparse\n",
    "\n",
    "# rest of matrices optimized with GSD\n",
    "X2 = xi_n4[-1][1]\n",
    "X3 = xi_n4[-1][2]\n",
    "Y2 = X2@X2.conj().T\n",
    "Y3 = X3@X3.conj().T\n",
    "\n",
    "# rhs to which we want to approximate\n",
    "rhs = np.asarray(super2choi(superop=exp_Lvec, dim=dim))\n",
    "srhs = sparse.csr_matrix(rhs) # small2zero was deleted\n",
    "srhs = srhs.astype(np.float64)\n",
    "\n",
    "# change partial transpose to A\n",
    "A = choi_composition(C1=Y2, C2=Y3, dim=dim) # small2zero was deleted\n",
    "A_tb = partial_transpose(A, dims=[dim, dim], idx=1)\n",
    "I = np.eye(dim)\n",
    "A_tbxI = np.kron(A_tb, I)\n",
    "sA_tbxI = sparse.csr_matrix(A_tbxI)\n",
    "sA_tbxI = sA_tbxI.astype(np.float64)\n",
    "sA_tbxI"
   ]
  },
  {
   "cell_type": "code",
   "execution_count": 72,
   "metadata": {},
   "outputs": [
    {
     "name": "stdout",
     "output_type": "stream",
     "text": [
      "['ECOS', 'ECOS_BB', 'MOSEK', 'OSQP', 'SCIPY', 'SCS']\n"
     ]
    }
   ],
   "source": [
    "X = cp.Variable((dim**2,dim**2), PSD=True)\n",
    "lhs =  cp.partial_trace(sA_tbxI @ cp.kron(I, X), dims=[dim, dim, dim], axis=1)\n",
    "cost = cp.norm(lhs - srhs, \"fro\")\n",
    "prob = cp.Problem(cp.Minimize(cost))\n",
    "\n",
    "print(cp.installed_solvers())"
   ]
  },
  {
   "cell_type": "code",
   "execution_count": 73,
   "metadata": {},
   "outputs": [
    {
     "name": "stdout",
     "output_type": "stream",
     "text": [
      "===============================================================================\n",
      "                                     CVXPY                                     \n",
      "                                     v1.3.1                                    \n",
      "===============================================================================\n",
      "(CVXPY) Jul 19 12:19:24 AM: Your problem has 65536 variables, 0 constraints, and 0 parameters.\n",
      "(CVXPY) Jul 19 12:19:24 AM: It is compliant with the following grammars: DCP, DQCP\n",
      "(CVXPY) Jul 19 12:19:24 AM: (If you need to solve this problem multiple times, but with different data, consider using parameters.)\n",
      "(CVXPY) Jul 19 12:19:24 AM: CVXPY will first compile your problem; then, it will invoke a numerical solver to obtain a solution.\n",
      "-------------------------------------------------------------------------------\n",
      "                                  Compilation                                  \n",
      "-------------------------------------------------------------------------------\n",
      "(CVXPY) Jul 19 12:19:24 AM: Compiling problem (target solver=SCS).\n",
      "(CVXPY) Jul 19 12:19:24 AM: Reduction chain: Dcp2Cone -> CvxAttr2Constr -> ConeMatrixStuffing -> SCS\n",
      "(CVXPY) Jul 19 12:19:24 AM: Applying reduction Dcp2Cone\n"
     ]
    },
    {
     "name": "stdout",
     "output_type": "stream",
     "text": [
      "(CVXPY) Jul 19 12:19:24 AM: Applying reduction CvxAttr2Constr\n",
      "(CVXPY) Jul 19 12:19:24 AM: Applying reduction ConeMatrixStuffing\n",
      "(CVXPY) Jul 19 01:24:20 AM: Applying reduction SCS\n",
      "(CVXPY) Jul 19 01:24:20 AM: Finished problem compilation (took 3.896e+03 seconds).\n",
      "-------------------------------------------------------------------------------\n",
      "                                Numerical solver                               \n",
      "-------------------------------------------------------------------------------\n",
      "(CVXPY) Jul 19 01:24:20 AM: Invoking solver SCS  to obtain a solution.\n",
      "------------------------------------------------------------------\n",
      "\t       SCS v3.2.3 - Splitting Conic Solver\n",
      "\t(c) Brendan O'Donoghue, Stanford University, 2012\n",
      "------------------------------------------------------------------\n",
      "problem:  variables n: 32897, constraints m: 98433\n",
      "cones: \t  q: soc vars: 65537, qsize: 1\n",
      "\t  s: psd vars: 32896, ssize: 1\n",
      "settings: eps_abs: 1.0e-05, eps_rel: 1.0e-05, eps_infeas: 1.0e-07\n",
      "\t  alpha: 1.50, scale: 1.00e-01, adaptive_scale: 1\n",
      "\t  max_iters: 100000, normalize: 1, rho_x: 1.00e-06\n",
      "\t  acceleration_lookback: 10, acceleration_interval: 10\n",
      "lin-sys:  sparse-direct-amd-qdldl\n",
      "\t  nnz(A): 4800145, nnz(P): 0\n",
      "------------------------------------------------------------------\n",
      " iter | pri res | dua res |   gap   |   obj   |  scale  | time (s)\n",
      "------------------------------------------------------------------\n",
      "     0| 1.67e+01  1.00e+00  3.93e+01  2.91e+00  1.00e-01  1.97e+00 \n",
      "    50| 4.23e-08  3.02e-10  2.76e-09  3.34e-09  1.00e-01  4.71e+00 \n",
      "------------------------------------------------------------------\n",
      "status:  solved\n",
      "timings: total: 4.72e+00s = setup: 1.89e+00s + solve: 2.82e+00s\n",
      "\t lin-sys: 6.02e-01s, cones: 1.54e+00s, accel: 4.84e-02s\n",
      "------------------------------------------------------------------\n",
      "objective = 0.000000\n",
      "------------------------------------------------------------------\n",
      "-------------------------------------------------------------------------------\n",
      "                                    Summary                                    \n",
      "-------------------------------------------------------------------------------\n",
      "(CVXPY) Jul 19 01:24:34 AM: Problem status: optimal\n",
      "(CVXPY) Jul 19 01:24:34 AM: Optimal value: 2.617e-07\n",
      "(CVXPY) Jul 19 01:24:34 AM: Compilation took 3.896e+03 seconds\n",
      "(CVXPY) Jul 19 01:24:34 AM: Solver (including time spent in interface) took 4.739e+00 seconds\n"
     ]
    },
    {
     "data": {
      "text/plain": [
       "2.616657054528783e-07"
      ]
     },
     "execution_count": 73,
     "metadata": {},
     "output_type": "execute_result"
    }
   ],
   "source": [
    "prob.solve(solver=cp.SCS, verbose=True, canon_backend=cp.SCIPY_CANON_BACKEND)"
   ]
  },
  {
   "cell_type": "code",
   "execution_count": 90,
   "metadata": {},
   "outputs": [],
   "source": [
    "# we need to check that the cost function created through cvxpy is the same as with compute_loss, model_Ys, frobenius_norm**2\n",
    "def cost_cvxpy(C1, C2, rhs, dim):\n",
    "    I = np.eye(dim)\n",
    "    C2_tb = partial_transpose(C2, dims=[dim, dim], idx=1)\n",
    "    C2_tbxI = np.kron(C2_tb, I)\n",
    "    C2_tbxI = sparse.csr_matrix(C2_tbxI)\n",
    "    C2_tbxI = C2_tbxI.astype(np.float64)\n",
    "\n",
    "    srhs = sparse.csr_matrix(rhs) # small2zero was deleted\n",
    "    srhs = srhs.astype(np.float64)\n",
    "\n",
    "    lhs =  cp.partial_trace(C2_tbxI @ cp.kron(I, C1), dims=[dim, dim, dim], axis=1)\n",
    "    cost = cp.norm(lhs - srhs, \"fro\")\n",
    "    return cost.value \n",
    "\n",
    "# cost_cvxpy(X.value, A, rhs, dim) # it gives the same result but we just have to add the small2zero thing\n",
    "# would it help not adding the small2zero thing? "
   ]
  },
  {
   "cell_type": "code",
   "execution_count": 91,
   "metadata": {},
   "outputs": [
    {
     "name": "stdout",
     "output_type": "stream",
     "text": [
      "2.0762417532526505e-07\n"
     ]
    }
   ],
   "source": [
    "print(cost_cvxpy(X1opt@X1opt.conj().T, A, rhs, dim))"
   ]
  },
  {
   "cell_type": "code",
   "execution_count": 83,
   "metadata": {},
   "outputs": [
    {
     "name": "stdout",
     "output_type": "stream",
     "text": [
      "2.0762417533163998e-07\n",
      "2.0762417532526505e-07\n"
     ]
    }
   ],
   "source": [
    "X1opt = xi_n4[-1][0]\n",
    "print(frobenius_norm(choi_composition(X1opt@X1opt.conj().T, A), rhs))\n",
    "print(cost_cvxpy(X1opt@X1opt.conj().T, A, rhs, dim))"
   ]
  },
  {
   "cell_type": "code",
   "execution_count": 86,
   "metadata": {},
   "outputs": [],
   "source": [
    "if any(x == True for x in np.iscomplex(X1opt).flatten()):\n",
    "    print('True')\n",
    "# print(X1opt)"
   ]
  },
  {
   "cell_type": "code",
   "execution_count": 87,
   "metadata": {},
   "outputs": [
    {
     "name": "stdout",
     "output_type": "stream",
     "text": [
      "2.616657054312103e-07\n",
      "2.616657054528783e-07\n"
     ]
    }
   ],
   "source": [
    "print(frobenius_norm(choi_composition(X.value, A), rhs)) # value when small2zero was used on A and rhs: 2.6522855638959974e-07\n",
    "print(cost_cvxpy(X.value, A, rhs, dim))\n",
    "# print(X.value)\n"
   ]
  },
  {
   "cell_type": "code",
   "execution_count": 94,
   "metadata": {},
   "outputs": [
    {
     "data": {
      "text/plain": [
       "dtype('complex128')"
      ]
     },
     "execution_count": 94,
     "metadata": {},
     "output_type": "execute_result"
    }
   ],
   "source": [
    "rhs.dtype"
   ]
  },
  {
   "cell_type": "code",
   "execution_count": 93,
   "metadata": {},
   "outputs": [
    {
     "data": {
      "text/plain": [
       "dtype('float64')"
      ]
     },
     "execution_count": 93,
     "metadata": {},
     "output_type": "execute_result"
    }
   ],
   "source": [
    "X.value.dtype"
   ]
  },
  {
   "cell_type": "code",
   "execution_count": 80,
   "metadata": {},
   "outputs": [
    {
     "data": {
      "text/plain": [
       "3.118308142720801e-07"
      ]
     },
     "execution_count": 80,
     "metadata": {},
     "output_type": "execute_result"
    }
   ],
   "source": [
    "np.linalg.norm(X.value - X1opt@X1opt.conj().T)"
   ]
  },
  {
   "cell_type": "code",
   "execution_count": 106,
   "metadata": {},
   "outputs": [
    {
     "data": {
      "text/plain": [
       "True"
      ]
     },
     "execution_count": 106,
     "metadata": {},
     "output_type": "execute_result"
    }
   ],
   "source": [
    "cost.is_convex()"
   ]
  },
  {
   "cell_type": "code",
   "execution_count": 108,
   "metadata": {},
   "outputs": [
    {
     "data": {
      "text/plain": [
       "59"
      ]
     },
     "execution_count": 108,
     "metadata": {},
     "output_type": "execute_result"
    }
   ],
   "source": [
    "np.linalg.matrix_rank(X.value)"
   ]
  },
  {
   "cell_type": "code",
   "execution_count": 110,
   "metadata": {},
   "outputs": [
    {
     "data": {
      "text/plain": [
       "4"
      ]
     },
     "execution_count": 110,
     "metadata": {},
     "output_type": "execute_result"
    }
   ],
   "source": [
    "np.linalg.matrix_rank(X1opt)"
   ]
  },
  {
   "cell_type": "code",
   "execution_count": 111,
   "metadata": {},
   "outputs": [
    {
     "data": {
      "text/plain": [
       "(256, 256)"
      ]
     },
     "execution_count": 111,
     "metadata": {},
     "output_type": "execute_result"
    }
   ],
   "source": [
    "X1opt.shape"
   ]
  },
  {
   "cell_type": "code",
   "execution_count": 112,
   "metadata": {},
   "outputs": [
    {
     "data": {
      "text/plain": [
       "(256, 256)"
      ]
     },
     "execution_count": 112,
     "metadata": {},
     "output_type": "execute_result"
    }
   ],
   "source": [
    "X.value.shape"
   ]
  },
  {
   "cell_type": "code",
   "execution_count": 114,
   "metadata": {},
   "outputs": [
    {
     "data": {
      "text/plain": [
       "array([ 0.+0.j,  0.+0.j,  0.+0.j,  0.+0.j, -0.+0.j,  0.+0.j, -0.+0.j,\n",
       "        0.+0.j,  0.+0.j,  0.+0.j,  0.+0.j,  0.+0.j, -0.+0.j,  0.+0.j,\n",
       "        0.+0.j,  0.+0.j, -0.+0.j, -0.+0.j,  0.+0.j,  0.+0.j,  0.+0.j,\n",
       "       -0.+0.j, -0.+0.j, -0.+0.j, -0.+0.j,  0.+0.j,  0.+0.j, -0.+0.j,\n",
       "        0.+0.j, -0.+0.j,  0.+0.j,  0.+0.j,  0.+0.j, -0.+0.j, -0.+0.j,\n",
       "       -0.+0.j,  0.+0.j,  0.+0.j,  0.+0.j,  0.+0.j,  0.+0.j,  0.+0.j,\n",
       "       -0.+0.j, -0.+0.j, -0.+0.j,  0.+0.j, -0.+0.j, -0.+0.j, -0.+0.j,\n",
       "       -0.+0.j, -0.+0.j, -0.+0.j, -0.+0.j,  0.+0.j,  0.+0.j,  0.+0.j,\n",
       "        0.+0.j, -0.+0.j,  0.+0.j, -0.+0.j,  0.+0.j,  0.+0.j,  0.+0.j,\n",
       "       -0.+0.j, -0.+0.j,  0.+0.j, -0.+0.j, -0.+0.j, -0.+0.j, -0.+0.j,\n",
       "       -0.+0.j,  0.+0.j,  0.+0.j, -0.+0.j,  0.+0.j,  0.+0.j,  0.+0.j,\n",
       "        0.+0.j,  0.+0.j,  0.+0.j, -0.+0.j,  0.+0.j, -0.+0.j, -0.+0.j,\n",
       "        0.+0.j, -0.+0.j, -0.+0.j,  0.+0.j, -0.+0.j, -0.+0.j, -0.+0.j,\n",
       "       -0.+0.j, -0.+0.j,  0.+0.j,  0.+0.j, -0.+0.j,  0.+0.j,  0.+0.j,\n",
       "       -0.+0.j, -0.+0.j, -0.+0.j, -0.+0.j, -0.+0.j, -0.+0.j, -0.+0.j,\n",
       "        0.+0.j,  0.+0.j,  0.+0.j, -0.+0.j,  0.+0.j, -0.+0.j,  0.+0.j,\n",
       "        0.+0.j, -0.+0.j,  0.+0.j,  0.+0.j, -0.+0.j, -0.+0.j, -0.+0.j,\n",
       "       -0.+0.j,  0.+0.j,  0.+0.j, -0.+0.j,  0.+0.j,  0.+0.j,  0.+0.j,\n",
       "        0.+0.j,  0.+0.j,  0.+0.j,  0.+0.j,  0.+0.j,  0.+0.j,  0.+0.j,\n",
       "        0.+0.j,  0.+0.j,  0.+0.j,  0.+0.j,  0.+0.j,  0.+0.j,  0.+0.j,\n",
       "        0.+0.j, -0.+0.j, -0.+0.j,  0.+0.j,  0.+0.j,  0.+0.j, -0.+0.j,\n",
       "       -0.+0.j,  0.+0.j,  0.+0.j, -0.+0.j,  0.+0.j, -0.+0.j, -0.+0.j,\n",
       "        0.+0.j,  0.+0.j,  0.+0.j,  0.+0.j,  0.+0.j,  0.+0.j,  0.+0.j,\n",
       "       -0.+0.j, -0.+0.j,  0.+0.j, -0.+0.j,  0.+0.j, -0.+0.j, -0.+0.j,\n",
       "        0.+0.j, -0.+0.j,  0.+0.j, -0.+0.j,  0.+0.j,  0.+0.j,  0.+0.j,\n",
       "        0.+0.j,  0.+0.j,  0.+0.j,  0.+0.j,  0.+0.j,  0.+0.j,  0.+0.j,\n",
       "        0.+0.j, -0.+0.j,  0.+0.j,  0.+0.j,  0.+0.j, -0.+0.j,  0.+0.j,\n",
       "        0.+0.j,  0.+0.j,  0.+0.j,  0.+0.j,  0.+0.j,  0.+0.j,  0.+0.j,\n",
       "        0.+0.j,  0.+0.j,  0.+0.j,  0.+0.j,  0.+0.j,  0.+0.j,  0.+0.j,\n",
       "        0.+0.j,  0.+0.j,  0.+0.j,  0.+0.j,  0.+0.j,  0.+0.j,  0.+0.j,\n",
       "        0.+0.j,  0.+0.j,  0.+0.j,  0.+0.j,  0.+0.j,  0.+0.j,  0.+0.j,\n",
       "        0.+0.j,  0.+0.j,  0.+0.j,  0.+0.j, -0.+0.j,  0.+0.j,  0.+0.j,\n",
       "        0.+0.j,  0.+0.j,  0.+0.j,  0.+0.j,  0.+0.j,  0.+0.j,  0.+0.j,\n",
       "        0.+0.j,  0.+0.j,  0.+0.j,  0.+0.j,  0.+0.j,  0.+0.j, -0.+0.j,\n",
       "       -0.+0.j,  0.+0.j,  0.+0.j,  0.+0.j,  0.+0.j,  0.+0.j,  0.+0.j,\n",
       "        0.+0.j,  0.+0.j,  0.+0.j,  0.+0.j,  0.+0.j,  0.+0.j,  0.+0.j,\n",
       "        1.+0.j,  0.+0.j,  0.+0.j,  0.+0.j])"
      ]
     },
     "execution_count": 114,
     "metadata": {},
     "output_type": "execute_result"
    }
   ],
   "source": [
    "np.linalg.svd(X1opt)"
   ]
  },
  {
   "cell_type": "code",
   "execution_count": null,
   "metadata": {},
   "outputs": [],
   "source": []
  }
 ],
 "metadata": {
  "kernelspec": {
   "display_name": "thesis",
   "language": "python",
   "name": "thesis"
  },
  "language_info": {
   "codemirror_mode": {
    "name": "ipython",
    "version": 3
   },
   "file_extension": ".py",
   "mimetype": "text/x-python",
   "name": "python",
   "nbconvert_exporter": "python",
   "pygments_lexer": "ipython3",
   "version": "3.10.4"
  },
  "orig_nbformat": 4,
  "vscode": {
   "interpreter": {
    "hash": "7a5e335ff2d0165f97b24ec78505e76f6491bb7656bd1655dc8df4969b2c8e72"
   }
  }
 },
 "nbformat": 4,
 "nbformat_minor": 2
}
