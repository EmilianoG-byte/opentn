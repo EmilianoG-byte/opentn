{
 "cells": [
  {
   "cell_type": "code",
   "execution_count": 325,
   "metadata": {},
   "outputs": [
    {
     "name": "stdout",
     "output_type": "stream",
     "text": [
      "The autoreload extension is already loaded. To reload it, use:\n",
      "  %reload_ext autoreload\n"
     ]
    }
   ],
   "source": [
    "import numpy as np\n",
    "import rqcopt as oc\n",
    "import sys\n",
    "sys.path.append('..')\n",
    "%load_ext autoreload\n",
    "%autoreload 2\n",
    "import jax\n",
    "from jax import config\n",
    "config.update(\"jax_enable_x64\", True)\n",
    "import jax.numpy as jnp"
   ]
  },
  {
   "cell_type": "code",
   "execution_count": 3,
   "metadata": {},
   "outputs": [],
   "source": [
    "# get the setup for the problem\n",
    "from opentn.transformations import create_kitaev_liouvillians, exp_operator_dt, factorize_psd, super2choi\n",
    "d, N, gamma = 2, 4, 1\n",
    "tau = 4\n",
    "dim = d**N\n",
    "Lvec, Lvec_odd, Lvec_even, Lnn = create_kitaev_liouvillians(N=N, d=d, gamma=gamma)\n",
    "superops_exp = []\n",
    "for i, op in enumerate([Lvec, Lvec_odd, Lvec_even]):\n",
    "    if i == 1:\n",
    "        superops_exp.append(exp_operator_dt(op, tau/2, 'jax'))\n",
    "    else:\n",
    "        superops_exp.append(exp_operator_dt(op, tau, 'jax'))\n",
    "exp_Lvec, exp_Lvec_odd, exp_Lvec_even = superops_exp\n",
    "\n",
    "tol = 1e-12\n",
    "\n",
    "X1 = factorize_psd(psd=super2choi(exp_Lvec_odd), tol=tol)\n",
    "X2 = factorize_psd(psd=super2choi(exp_Lvec_even), tol=tol)"
   ]
  },
  {
   "cell_type": "code",
   "execution_count": 3,
   "metadata": {},
   "outputs": [
    {
     "name": "stdout",
     "output_type": "stream",
     "text": [
      "0.0\n",
      "0.0\n",
      "0.0\n"
     ]
    }
   ],
   "source": [
    "# NOTE: Everything is real so the norm of the imaginary part is completely zero for the gradient and the Xi themselves\n",
    "for op in [exp_Lvec, exp_Lvec_odd, exp_Lvec_even]:\n",
    "    print(np.linalg.norm(op.imag))"
   ]
  },
  {
   "cell_type": "code",
   "execution_count": 263,
   "metadata": {},
   "outputs": [
    {
     "name": "stdout",
     "output_type": "stream",
     "text": [
      "True\n",
      "True\n"
     ]
    }
   ],
   "source": [
    "# we have to start working with X that are (out, k, in) instead of (out, in, k)\n",
    "# first step: get the k for each layer.\n",
    "k1 = np.linalg.matrix_rank(X1)\n",
    "k2 = np.linalg.matrix_rank(X2)\n",
    "\n",
    "def split_matrix_svd(A, chi_max=2, eps=1e-9):\n",
    "    \"\"\"\n",
    "    Split a matrix by singular value decomposition,\n",
    "    and truncate small singular values based on tolerance.\n",
    "    \"\"\"\n",
    "    assert A.ndim == 2\n",
    "    u, s, v = np.linalg.svd(A, full_matrices=False)\n",
    "    # truncate small singular values\n",
    "    chi_keep = min(chi_max, np.sum(s > eps))\n",
    "    assert chi_keep >=1\n",
    "\n",
    "    idx_keep = np.argsort(s)[::-1][:chi_keep]  # keep the largest `chivC` singular values\n",
    "\n",
    "    u = u[:, idx_keep]\n",
    "    v = v[idx_keep, :]\n",
    "    s = s[idx_keep]\n",
    "    return u, s, v\n",
    "\n",
    "\n",
    "def factorize_psd_truncated(psd, chi_max=2, eps=1e-9):\n",
    "    \"factorize psd matrix truncating the singular values based on parameters\"\n",
    "    x, s, xdg = split_matrix_svd(psd, chi_max, eps)\n",
    "    return x@np.diag(np.sqrt(s))\n",
    "\n",
    "\n",
    "xs_truncated = []\n",
    "for X, op in zip([X1,X2], [exp_Lvec_odd, exp_Lvec_even]):\n",
    "    k = np.linalg.matrix_rank(X)\n",
    "    x_truncated = factorize_psd_truncated(psd=super2choi(op), chi_max=k)\n",
    "    C_trnc = x_truncated@x_truncated.conj().T\n",
    "    print(np.allclose(C_trnc, X@X.conj().T))\n",
    "    xs_truncated.append(x_truncated)\n",
    "x1_truncated, x2_truncated = xs_truncated"
   ]
  },
  {
   "cell_type": "code",
   "execution_count": 270,
   "metadata": {},
   "outputs": [
    {
     "name": "stdout",
     "output_type": "stream",
     "text": [
      "(256, 4)\n",
      "(64, 16)\n",
      "True\n",
      "(256, 2)\n",
      "(32, 16)\n",
      "True\n"
     ]
    }
   ],
   "source": [
    "# now we need to transform the matrices X we constructed to match the orthogonality condition \n",
    "def choi2ortho(x:np.ndarray):\n",
    "    \"transform the x matrices that factorize a choi matrix into its orthogonal form\"\n",
    "    # reshape the x matrix from (out, in, k) to (out, k, in)\n",
    "    dim = int(np.sqrt(x.shape[0]))\n",
    "    k = x.shape[1]\n",
    "    x = np.reshape(x, [dim, dim, k])\n",
    "    x = x.swapaxes(1,2).reshape([dim*k, dim])\n",
    "    return x\n",
    "\n",
    "for x_truncated in [x1_truncated, x2_truncated]:\n",
    "    print(x_truncated.shape)\n",
    "    x_ortho = choi2ortho(x_truncated)\n",
    "    print(x_ortho.shape)\n",
    "    print(np.allclose(x_ortho.conj().T@x_ortho, np.eye(dim)))"
   ]
  },
  {
   "cell_type": "code",
   "execution_count": 326,
   "metadata": {},
   "outputs": [
    {
     "name": "stdout",
     "output_type": "stream",
     "text": [
      "0.09591767023235143\n",
      "0.09591767023235143\n",
      "(2560,)\n"
     ]
    }
   ],
   "source": [
    "# let's create the gradient and see if we can make it into a matrix\n",
    "\n",
    "# step 1: create the cost function.\n",
    "# option 1: as we have done it so far, with superoperators and composing them with @. model ys\n",
    "# option 2: with choi matrices and the choi composition function. model cs\n",
    "xi_init = [x1_truncated, x2_truncated, x1_truncated]\n",
    "from opentn.optimization import frobenius_norm, model_Ys, compute_loss\n",
    "print(compute_loss(xi=xi_init, loss_fn=frobenius_norm, model=model_Ys, exact=exp_Lvec))\n",
    "# but f should only accept the list of xi as input, meaning that the exact should be given already.\n",
    "f = lambda xi: frobenius_norm(model_Ys(xi), exp_Lvec)\n",
    "print(f(xi_init))\n",
    "# we leave the retraction for later. For now let's focus on the gradient and hessian.\n",
    "# get the euclidean gradient using jax\n",
    "\n",
    "from opentn.transformations import vectorize\n",
    "\n",
    "# the riemannian gradient is obtained projecting to tangent space. \n",
    "def project(X, Z):\n",
    "    \"project Z vector onto tangent space at X on manifold\"\n",
    "    return Z - 0.5 * X @ (X.conj().T @ Z + Z.conj().T @ X)\n",
    "\n",
    "def rgrad_f(xi, func):\n",
    "    \"compute riemannian gradient for all xi, returning a list\"\n",
    "    Zi = jax.grad(func)(xi)\n",
    "    return [project(X, Z)\n",
    "    for X,Z in zip(xi, Zi)]\n",
    "\n",
    "def rgrad_f_vec(xi, func):\n",
    "    \"compute the vectorized gradient for all xi\"\n",
    "    return jnp.vstack([\n",
    "            vectorize(grad) \n",
    "    for grad in rgrad_f(xi, func)]).reshape(-1)\n",
    "\n",
    "print(rgrad_f_vec(xi_init, f).shape)\n",
    "\n",
    "# now it is the hessian which remains a question. Let us just create the directed matrix as I think it should be, and then we see if it works\n",
    "def metric(delta1, delta2, X):\n",
    "    \"\"\"\n",
    "    riemannian metric between delta1 and delta2 in tangent space at X in manifold. \n",
    "    From https://arxiv.org/abs/2112.05176 eq. 24\n",
    "    \"\"\"\n",
    "    dim = X.shape[0]\n",
    "    gamma = np.eye(dim) - 0.5 * (X@X.conj().T)\n",
    "    return np.trace(delta1.conj().T@gamma@delta2).real\n",
    "\n",
    "def hvp(xi, v):\n",
    "    \"from https://jax.readthedocs.io/en/latest/notebooks/autodiff_cookbook.html#hessian-vector-products-with-grad-of-grad\"\n",
    "    return project(\n",
    "        jax.grad(lambda xi: metric(rgrad_f(xi), v, x))(xi[0]),\n",
    "        x[0])\n",
    "\n",
    "\n",
    "\n",
    "# v = np.zeros_like(xi_init[0].reshape(-1))\n",
    "# v[0] = 1\n",
    "# v = v.reshape(xi_init[0].shape)\n",
    "# hvp(xi_init, v=v)"
   ]
  },
  {
   "cell_type": "code",
   "execution_count": 6,
   "metadata": {},
   "outputs": [],
   "source": [
    "# def hessian_riem(xi):\n",
    "#     primals, f_vjp = jax.jvp(fun=rgrad_f, primals=[xi], tangents=[xi])\n",
    "#     # for p in primals:\n",
    "#     #     print(p.shape)\n",
    "#     hess_xi = [project(X, Z) for X,Z in zip(xi, primals)]\n",
    "#     return hess_xi\n",
    "\n",
    "# def hessian_riem_vec(xi):\n",
    "#     return np.vstack([\n",
    "#             vectorize(hess) \n",
    "#     for hess in hessian_riem(xi)]).reshape(-1)"
   ]
  },
  {
   "cell_type": "code",
   "execution_count": 78,
   "metadata": {},
   "outputs": [],
   "source": [
    "xi_init_real = [op.real for op in xi_init]\n",
    "hessians_xi = jax.jacfwd(rgrad_f, holomorphic=False)(xi_init_real) # change holomorphic to False when using real input\n",
    "# time for complex: 3.26 min, \n",
    "# time for real: 59.3 s"
   ]
  },
  {
   "cell_type": "code",
   "execution_count": 79,
   "metadata": {},
   "outputs": [
    {
     "name": "stdout",
     "output_type": "stream",
     "text": [
      "(256, 4)\n",
      "(256, 2)\n",
      "(256, 4)\n",
      "Grad\n",
      "(256, 4)\n",
      "(256, 2)\n",
      "(256, 4)\n"
     ]
    }
   ],
   "source": [
    "for op in xi_init:\n",
    "    print(op.shape)\n",
    "print('Grad')\n",
    "for op in rgrad_f(xi_init):\n",
    "    print(op.shape)"
   ]
  },
  {
   "cell_type": "code",
   "execution_count": 163,
   "metadata": {},
   "outputs": [
    {
     "name": "stdout",
     "output_type": "stream",
     "text": [
      "row: 0\n",
      "column 0\n",
      "(256, 4, 256, 4)\n",
      "column 1\n",
      "(256, 4, 256, 2)\n",
      "column 2\n",
      "(256, 4, 256, 4)\n",
      "----\n",
      "row: 1\n",
      "column 0\n",
      "(256, 2, 256, 4)\n",
      "column 1\n",
      "(256, 2, 256, 2)\n",
      "column 2\n",
      "(256, 2, 256, 4)\n",
      "----\n",
      "row: 2\n",
      "column 0\n",
      "(256, 4, 256, 4)\n",
      "column 1\n",
      "(256, 4, 256, 2)\n",
      "column 2\n",
      "(256, 4, 256, 4)\n",
      "----\n",
      "[[(256, 4, 256, 4) (256, 4, 256, 2) (256, 4, 256, 4)]\n",
      " [(256, 2, 256, 4) (256, 2, 256, 2) (256, 2, 256, 4)]\n",
      " [(256, 4, 256, 4) (256, 4, 256, 2) (256, 4, 256, 4)]]\n"
     ]
    }
   ],
   "source": [
    "# print(len(hessians_xi))\n",
    "# for element in hessians_xi:\n",
    "#     print(len(element))\n",
    "\n",
    "# lets create a 3x3 array with the dimensions of our elements\n",
    "shapes_matrix = np.zeros((3,3), dtype=object)\n",
    "for i, element in enumerate(hessians_xi):\n",
    "    print('row:', i)\n",
    "    for j, op in enumerate(element):\n",
    "        print('column', j)\n",
    "        print(op.shape)\n",
    "        shapes_matrix[i,j] = op.shape\n",
    "    print('----')\n",
    "# I think the output goes like a Jacobian matrix exactly.\n",
    "print(shapes_matrix)"
   ]
  },
  {
   "cell_type": "code",
   "execution_count": 169,
   "metadata": {},
   "outputs": [
    {
     "name": "stdout",
     "output_type": "stream",
     "text": [
      "2621440\n",
      "1310720\n",
      "2621440\n"
     ]
    }
   ],
   "source": [
    "# from the shapes_matrix we can see that each column has different number of elements\n",
    "for column in shapes_matrix.T:\n",
    "    print(np.sum([np.prod(element) for element in column]))"
   ]
  },
  {
   "cell_type": "code",
   "execution_count": null,
   "metadata": {},
   "outputs": [],
   "source": [
    "# the question is here also: what would the size of the final array be.\n",
    "# in the case of RCOPT they have (n1,16,n2,16)\n",
    "# but that makes sense when fixing n1 and n2, we get an entry of the hessian.\n",
    "# each of these entries would have (16,16) dimension, which comes from the (out_dim, input_dim) vectorized: vec(4x4)\n",
    "# in our case (for example) for n1=n2=0 we have:\n",
    "# out_dim = vec(256x4) = in_dim -> (1024, 1024)\n",
    "# but for example n1=1, n2=0: (row 1 column 0)\n",
    "# out_dim = vec(256x2), in_dim = (256x4) -> (512, 1024)\n",
    "# so you see the problem? fixing n in these cases doesn't result if arrays of the same shape.\n",
    "# option 1:\n",
    "# padd zeros to make them homogeneous\n",
    "# option 2:\n",
    "# make them the same size from the very beginnning.\n",
    "# option 3:\n",
    "# can I make it work even with different sizes?\n",
    "# most likely not, because of what I just saw on the previous test, each column has different size, so how would you make it a 4d-array like this.\n",
    "# lets just have a higher rank for the second for now then.\n"
   ]
  },
  {
   "cell_type": "code",
   "execution_count": 86,
   "metadata": {},
   "outputs": [
    {
     "data": {
      "text/plain": [
       "(256, 10)"
      ]
     },
     "execution_count": 86,
     "metadata": {},
     "output_type": "execute_result"
    }
   ],
   "source": [
    "xi_init_real_stack = np.hstack(xi_init_real)\n",
    "xi_init_real_stack.shape # this does not help really"
   ]
  },
  {
   "cell_type": "code",
   "execution_count": 120,
   "metadata": {},
   "outputs": [
    {
     "data": {
      "text/plain": [
       "[(256, 4), (256, 2), (256, 4)]"
      ]
     },
     "execution_count": 120,
     "metadata": {},
     "output_type": "execute_result"
    }
   ],
   "source": [
    "# lets use jvp instead\n",
    "\n",
    "unit_matrices = []\n",
    "for i, op in enumerate(xi_init_real):\n",
    "    tangent_vector = np.zeros_like(op)\n",
    "    tangent_vector[0,0] = 1 \n",
    "    unit_matrices.append(tangent_vector)\n",
    "f_eval, jvp_eval = jax.jvp(rgrad_f, (xi_init_real,), ([tangent_vector, np.zeros_like(xi_init_real[1]), np.zeros_like(xi_init_real[2])],)) # first is evaluation of f,  \n",
    "[op.shape for op in jvp_eval]"
   ]
  },
  {
   "cell_type": "code",
   "execution_count": 105,
   "metadata": {},
   "outputs": [
    {
     "data": {
      "text/plain": [
       "((4, 256), (256, 4))"
      ]
     },
     "execution_count": 105,
     "metadata": {},
     "output_type": "execute_result"
    }
   ],
   "source": [
    "hessians_xi[0][0][0,:,:,0].shape, hessians_xi[0][0][:,0,0,:].shape"
   ]
  },
  {
   "cell_type": "code",
   "execution_count": 154,
   "metadata": {},
   "outputs": [
    {
     "data": {
      "text/plain": [
       "DeviceArray([[0., 0., 0., 0.],\n",
       "             [0., 0., 0., 0.],\n",
       "             [0., 0., 0., 0.],\n",
       "             ...,\n",
       "             [0., 0., 0., 0.],\n",
       "             [0., 0., 0., 0.],\n",
       "             [0., 0., 0., 1.]], dtype=float64)"
      ]
     },
     "execution_count": 154,
     "metadata": {},
     "output_type": "execute_result"
    }
   ],
   "source": [
    " # roll does work as expected even for matrices, its amazing\n",
    "jnp.roll(tangent_vector, -1)"
   ]
  },
  {
   "cell_type": "code",
   "execution_count": 125,
   "metadata": {},
   "outputs": [
    {
     "data": {
      "text/plain": [
       "DeviceArray(True, dtype=bool)"
      ]
     },
     "execution_count": 125,
     "metadata": {},
     "output_type": "execute_result"
    }
   ],
   "source": [
    "_, jvp_eval_test = jax.jvp(rgrad_f, (xi_init_real,), ([jnp.roll(unit_matrices[0], 0), np.zeros_like(xi_init_real[1]), np.zeros_like(xi_init_real[2])],)) # first is evaluation of f,  \n",
    "jnp.allclose(hessians_xi[0][0][:,:,0,0], jvp_eval_test[0])"
   ]
  },
  {
   "cell_type": "code",
   "execution_count": 123,
   "metadata": {},
   "outputs": [
    {
     "data": {
      "text/plain": [
       "DeviceArray(True, dtype=bool)"
      ]
     },
     "execution_count": 123,
     "metadata": {},
     "output_type": "execute_result"
    }
   ],
   "source": [
    "# my guess: we have the second row, first column of the X2:X1\n",
    "jnp.allclose(hessians_xi[1][0][:,:,0,0], jvp_eval_test[1]) "
   ]
  },
  {
   "cell_type": "code",
   "execution_count": 126,
   "metadata": {},
   "outputs": [
    {
     "data": {
      "text/plain": [
       "DeviceArray(True, dtype=bool)"
      ]
     },
     "execution_count": 126,
     "metadata": {},
     "output_type": "execute_result"
    }
   ],
   "source": [
    "jnp.allclose(hessians_xi[2][0][:,:,0,0], jvp_eval_test[2]) "
   ]
  },
  {
   "cell_type": "code",
   "execution_count": 146,
   "metadata": {},
   "outputs": [
    {
     "data": {
      "text/plain": [
       "DeviceArray([[[ True,  True,  True, ...,  True,  True,  True],\n",
       "              [ True,  True,  True, ...,  True,  True,  True],\n",
       "              [ True,  True,  True, ...,  True,  True,  True],\n",
       "              [ True,  True,  True, ...,  True,  True,  True]],\n",
       "\n",
       "             [[ True,  True,  True, ...,  True,  True,  True],\n",
       "              [ True,  True,  True, ...,  True,  True,  True],\n",
       "              [ True,  True,  True, ...,  True,  True,  True],\n",
       "              [ True,  True,  True, ...,  True,  True,  True]],\n",
       "\n",
       "             [[ True,  True,  True, ...,  True,  True,  True],\n",
       "              [ True,  True,  True, ...,  True,  True,  True],\n",
       "              [ True,  True,  True, ...,  True,  True,  True],\n",
       "              [ True,  True,  True, ...,  True,  True,  True]],\n",
       "\n",
       "             ...,\n",
       "\n",
       "             [[ True,  True,  True, ...,  True,  True,  True],\n",
       "              [ True,  True,  True, ...,  True,  True,  True],\n",
       "              [ True,  True,  True, ...,  True,  True,  True],\n",
       "              [ True,  True,  True, ...,  True,  True,  True]],\n",
       "\n",
       "             [[ True,  True,  True, ...,  True,  True,  True],\n",
       "              [ True,  True,  True, ...,  True,  True,  True],\n",
       "              [ True,  True,  True, ...,  True,  True,  True],\n",
       "              [ True,  True,  True, ...,  True,  True,  True]],\n",
       "\n",
       "             [[ True,  True,  True, ...,  True,  True,  True],\n",
       "              [ True,  True,  True, ...,  True,  True,  True],\n",
       "              [ True,  True,  True, ...,  True,  True,  True],\n",
       "              [ True,  True,  True, ...,  True,  True,  True]]],            dtype=bool)"
      ]
     },
     "execution_count": 146,
     "metadata": {},
     "output_type": "execute_result"
    }
   ],
   "source": [
    "hessians_xi[0][1][:,:,:,5] == hessians_xi[0][1][:,:,:,2]"
   ]
  },
  {
   "cell_type": "code",
   "execution_count": 153,
   "metadata": {},
   "outputs": [
    {
     "data": {
      "text/plain": [
       "(DeviceArray(True, dtype=bool),\n",
       " DeviceArray(True, dtype=bool),\n",
       " DeviceArray(True, dtype=bool))"
      ]
     },
     "execution_count": 153,
     "metadata": {},
     "output_type": "execute_result"
    }
   ],
   "source": [
    "_, jvp_eval_test = jax.jvp(rgrad_f, (xi_init_real,), ([np.zeros_like(xi_init_real[0]), jnp.roll(unit_matrices[1], 2), np.zeros_like(xi_init_real[2])],)) # first is evaluation of f,  \n",
    "jnp.allclose(hessians_xi[0][1][:,:,1,0], jvp_eval_test[0]), jnp.allclose(hessians_xi[1][1][:,:,1,0], jvp_eval_test[1]), jnp.allclose(hessians_xi[2][1][:,:,1,0], jvp_eval_test[2])"
   ]
  },
  {
   "cell_type": "code",
   "execution_count": 113,
   "metadata": {},
   "outputs": [
    {
     "name": "stdout",
     "output_type": "stream",
     "text": [
      "1\n",
      "2\n",
      "0 0\n",
      "True\n",
      "3\n",
      "4\n"
     ]
    }
   ],
   "source": [
    "print('1')\n",
    "for i in range(256):\n",
    "    for j in range(4):\n",
    "                if jnp.allclose(hessians_xi[0][0][i,j,:,:], jvp_eval[0]):\n",
    "                    print(i, j)\n",
    "                    print(True)\n",
    "\n",
    "print('2')\n",
    "for i in range(256):\n",
    "    for j in range(4):\n",
    "                if jnp.allclose(hessians_xi[0][0][:,:,i,j], jvp_eval[0]):\n",
    "                    print(i, j)\n",
    "                    print(True)\n",
    "print('3')\n",
    "for i in range(256):\n",
    "    for j in range(4):\n",
    "                if jnp.allclose(hessians_xi[0][0][i,:,:,j].T, jvp_eval[0]):\n",
    "                    print(i, j)\n",
    "                    print(True)\n",
    "print('4')\n",
    "for i in range(256):\n",
    "    for j in range(4):\n",
    "                if jnp.allclose(hessians_xi[0][0][:,j,i,:], jvp_eval[0]):\n",
    "                    print(i, j)\n",
    "                    print(True)"
   ]
  },
  {
   "cell_type": "code",
   "execution_count": 155,
   "metadata": {},
   "outputs": [
    {
     "data": {
      "text/plain": [
       "1024"
      ]
     },
     "execution_count": 155,
     "metadata": {},
     "output_type": "execute_result"
    }
   ],
   "source": [
    "xi_init_real[0].size"
   ]
  },
  {
   "cell_type": "code",
   "execution_count": 374,
   "metadata": {},
   "outputs": [],
   "source": [
    "# now I here will generate a function that projects each element as we generate them\n",
    "# unit_matrices is used with rolling\n",
    "\n",
    "from scipy.linalg import fractional_matrix_power\n",
    "\n",
    "def get_unit_matrices(ops):\n",
    "    unit_matrices = []\n",
    "    for op in ops:\n",
    "        # TODO: change dtype here if I want things to be complex. Right now it is just casting it (discarding real part)\n",
    "        tangent_vector = np.zeros_like(op)\n",
    "        tangent_vector[0,0] = 1 \n",
    "        unit_matrices.append(tangent_vector)\n",
    "    return unit_matrices\n",
    "\n",
    "\n",
    "def riemannian_hessian(func, x, vector=False):\n",
    "    \"get riemannian hessian of func (needs to be the gradient of the actual function) evaluated at x\"\n",
    "    n = len(x)\n",
    "    assert n == 3, 'wrong input size'\n",
    "    unit_matrices = get_unit_matrices(x)\n",
    "    hessian_columns = []\n",
    "\n",
    "    for i in range(n):\n",
    "        print('column :',i)\n",
    "        dxk_size = x[i].size\n",
    "        if vector:\n",
    "            xi_dxk = [np.zeros((op.size, dxk_size)) for op in x]\n",
    "        else:\n",
    "            xi_dxk = [np.zeros(op.shape + (dxk_size,)) for op in x]\n",
    "        \n",
    "        for k in range(dxk_size):\n",
    "            # printing every 100 steps to see progress\n",
    "            # if k%100 == 0:\n",
    "                # print('element: ', k)\n",
    "            _, jvp_eval = jax.jvp(func, (x,), ([jnp.zeros_like(op) if l!=i else jnp.roll(unit_matrices[l],k) for l,op in enumerate(x)],))\n",
    "\n",
    "            for j, element in enumerate(jvp_eval):\n",
    "                # we need to project each of them and store in an array that has information about the index k\n",
    "                if vector:                    \n",
    "                    xi_dxk[j][:,k] += project(x[j],element).reshape(-1)\n",
    "                else:\n",
    "                    xi_dxk[j][:,:,k] += project(x[j],element)\n",
    "        hessian_columns.append(xi_dxk)\n",
    "    return hessian_columns\n",
    "\n",
    "\n",
    "def riemannian_hessian_vec(func, x):\n",
    "    \"TODO: complete this function. seems the 'only' thing missing\"\n",
    "    hessian_columns = riemannian_hessian(func, x, vector=True) \n",
    "    # need to reshape each element on the hessian matrix\n",
    "    # I can do that directly on that hessian matrix function\n",
    "    # then need to stack them and make sure to have 3, size, 3, size\n",
    "    # because im not sure what shape I would get of just stacking them\n",
    "    # i can check with just a simple example. tomorrow\n",
    "    n = len(x)\n",
    "    size_vec = hessian_columns[0][0].shape[0]\n",
    "\n",
    "    hessian_full = np.stack(hessian_columns, axis=1) # n, n, size_vec, size_vec\n",
    "    hessian_full = hessian_full.swapaxes(1,2).reshape(n*size_vec, n*size_vec)\n",
    "    return hessian_full\n",
    "\n",
    "def polar_decomposition_stiefel(X, Z):\n",
    "    \"from equation 4.7 of https://assets.press.princeton.edu/chapters/absil/Absil_Chap4.pdf\"\n",
    "    assert X.shape == Z.shape, \"shapes don't match\"\n",
    "    d = X.shape[1]\n",
    "    return (X+Z)@fractional_matrix_power(np.eye(d) + Z.conj().T@Z, -0.5)\n",
    "\n",
    "\n",
    "def retract_x(x_list, eta):\n",
    "    \"retraction from tanget space at x to original manifold of x\"\n",
    "    n = len(x_list)\n",
    "    # here we have to assume that all x have the same shape \n",
    "    eta = np.reshape(eta, ((n,) + x_list[0].shape))\n",
    "    return [polar_decomposition_stiefel(x_list[j], eta[j]) for j in range(n)]\n",
    "            \n"
   ]
  },
  {
   "cell_type": "code",
   "execution_count": 366,
   "metadata": {},
   "outputs": [
    {
     "data": {
      "text/plain": [
       "(3, 256, 4)"
      ]
     },
     "execution_count": 366,
     "metadata": {},
     "output_type": "execute_result"
    }
   ],
   "source": [
    "((3,) + xi_init_real[0].shape)"
   ]
  },
  {
   "cell_type": "code",
   "execution_count": 254,
   "metadata": {},
   "outputs": [
    {
     "data": {
      "text/plain": [
       "True"
      ]
     },
     "execution_count": 254,
     "metadata": {},
     "output_type": "execute_result"
    }
   ],
   "source": [
    "import scipy\n",
    "a = np.random.rand(16,16)\n",
    "a_powered = fractional_matrix_power(a, -0.5)\n",
    "np.allclose(a_powered, np.linalg.inv(scipy.linalg.sqrtm(a))) # changing the order of sqrt and inverse changes the result"
   ]
  },
  {
   "cell_type": "code",
   "execution_count": 261,
   "metadata": {},
   "outputs": [
    {
     "data": {
      "text/plain": [
       "(3, 2, 4, 4)"
      ]
     },
     "execution_count": 261,
     "metadata": {},
     "output_type": "execute_result"
    }
   ],
   "source": [
    "a = np.random.rand(4,4)\n",
    "a_list = [a, a, a]\n",
    "np.stack([a_list, a_list], axis=1).shape"
   ]
  },
  {
   "cell_type": "code",
   "execution_count": 248,
   "metadata": {},
   "outputs": [
    {
     "name": "stdout",
     "output_type": "stream",
     "text": [
      "column : 0\n",
      "element:  0\n",
      "element:  100\n",
      "element:  200\n",
      "element:  300\n",
      "element:  400\n",
      "element:  500\n",
      "element:  600\n",
      "element:  700\n",
      "element:  800\n",
      "element:  900\n",
      "element:  1000\n",
      "column : 1\n",
      "element:  0\n",
      "element:  100\n",
      "element:  200\n",
      "element:  300\n",
      "element:  400\n",
      "element:  500\n",
      "column : 2\n",
      "element:  0\n",
      "element:  100\n",
      "element:  200\n",
      "element:  300\n",
      "element:  400\n",
      "element:  500\n",
      "element:  600\n",
      "element:  700\n",
      "element:  800\n",
      "element:  900\n",
      "element:  1000\n"
     ]
    }
   ],
   "source": [
    "xi_dk_test_full = riemannian_hessian(rgrad_f, xi_init_real)"
   ]
  },
  {
   "cell_type": "code",
   "execution_count": 225,
   "metadata": {},
   "outputs": [
    {
     "name": "stdout",
     "output_type": "stream",
     "text": [
      "(256, 4, 1024)\n",
      "(256, 2, 1024)\n",
      "(256, 4, 1024)\n"
     ]
    }
   ],
   "source": [
    "for op in xi_dk_test_full[2]:\n",
    "    print(op.shape)"
   ]
  },
  {
   "cell_type": "code",
   "execution_count": 180,
   "metadata": {},
   "outputs": [
    {
     "name": "stdout",
     "output_type": "stream",
     "text": [
      "element:  0\n",
      "element:  10\n",
      "element:  20\n",
      "element:  30\n",
      "element:  40\n",
      "element:  50\n",
      "element:  60\n",
      "element:  70\n",
      "element:  80\n",
      "element:  90\n",
      "element:  100\n",
      "element:  110\n",
      "element:  120\n",
      "element:  130\n",
      "element:  140\n",
      "element:  150\n",
      "element:  160\n",
      "element:  170\n",
      "element:  180\n",
      "element:  190\n",
      "element:  200\n",
      "element:  210\n",
      "element:  220\n",
      "element:  230\n",
      "element:  240\n",
      "element:  250\n",
      "element:  260\n",
      "element:  270\n",
      "element:  280\n",
      "element:  290\n",
      "element:  300\n",
      "element:  310\n",
      "element:  320\n",
      "element:  330\n",
      "element:  340\n",
      "element:  350\n",
      "element:  360\n",
      "element:  370\n",
      "element:  380\n",
      "element:  390\n",
      "element:  400\n",
      "element:  410\n",
      "element:  420\n",
      "element:  430\n",
      "element:  440\n",
      "element:  450\n",
      "element:  460\n",
      "element:  470\n",
      "element:  480\n",
      "element:  490\n",
      "element:  500\n",
      "element:  510\n",
      "element:  520\n",
      "element:  530\n",
      "element:  540\n",
      "element:  550\n",
      "element:  560\n",
      "element:  570\n",
      "element:  580\n",
      "element:  590\n",
      "element:  600\n",
      "element:  610\n",
      "element:  620\n",
      "element:  630\n",
      "element:  640\n",
      "element:  650\n",
      "element:  660\n",
      "element:  670\n",
      "element:  680\n",
      "element:  690\n",
      "element:  700\n",
      "element:  710\n",
      "element:  720\n",
      "element:  730\n",
      "element:  740\n",
      "element:  750\n",
      "element:  760\n",
      "element:  770\n",
      "element:  780\n",
      "element:  790\n",
      "element:  800\n",
      "element:  810\n",
      "element:  820\n",
      "element:  830\n",
      "element:  840\n",
      "element:  850\n",
      "element:  860\n",
      "element:  870\n",
      "element:  880\n",
      "element:  890\n",
      "element:  900\n",
      "element:  910\n",
      "element:  920\n",
      "element:  930\n",
      "element:  940\n",
      "element:  950\n",
      "element:  960\n",
      "element:  970\n",
      "element:  980\n",
      "element:  990\n",
      "element:  1000\n",
      "element:  1010\n",
      "element:  1020\n"
     ]
    }
   ],
   "source": [
    "xi_dk_test = riemannian_hessian(rgrad_f, xi_init_real)"
   ]
  },
  {
   "cell_type": "code",
   "execution_count": 249,
   "metadata": {},
   "outputs": [
    {
     "name": "stdout",
     "output_type": "stream",
     "text": [
      "True\n",
      "True\n",
      "True\n"
     ]
    }
   ],
   "source": [
    "for i, op in enumerate(xi_dk_test_full[0]):\n",
    "    print(jnp.allclose(op, xi_dk_test[i]))"
   ]
  },
  {
   "cell_type": "code",
   "execution_count": 181,
   "metadata": {},
   "outputs": [
    {
     "name": "stdout",
     "output_type": "stream",
     "text": [
      "(256, 4, 1024)\n",
      "(256, 2, 1024)\n",
      "(256, 4, 1024)\n"
     ]
    }
   ],
   "source": [
    "for op in xi_dk_test:\n",
    "    print(op.shape)"
   ]
  },
  {
   "cell_type": "code",
   "execution_count": 375,
   "metadata": {},
   "outputs": [
    {
     "name": "stdout",
     "output_type": "stream",
     "text": [
      "[True, True, True]\n",
      "0.09591767023235147\n",
      "(3072,)\n",
      "[(64, 16), (64, 16), (64, 16)]\n"
     ]
    }
   ],
   "source": [
    "# lets do the actual simulations now with the correct shapes:\n",
    "# generate the new xs with all the same sizes\n",
    "from opentn.transformations import choi2ortho, ortho2choi\n",
    "from opentn.optimization import model_Ys_stiefel\n",
    "\n",
    "# NOTE: changed now to .real on second element but haven't ran with it.\n",
    "xs_init_2_real = [x1_truncated.real, factorize_psd_truncated(psd=super2choi(exp_Lvec_even), chi_max=4, eps=1e-15).real ,x1_truncated.real]\n",
    "# they are all the size (256,4)\n",
    "# now convert them into the matrices that are actually orthonormal\n",
    "xs_init_2_ortho = [choi2ortho(op) for op in xs_init_2_real]\n",
    "print([np.allclose(op.conj().T@op, np.eye(dim)) for op in xs_init_2_ortho])\n",
    "\n",
    "# now the function needs to accept the orthonormal ones\n",
    "f_stiefel = lambda xi: frobenius_norm(model_Ys_stiefel(xi), exp_Lvec)\n",
    "print(f_stiefel(xs_init_2_ortho))\n",
    "\n",
    "# and we can use our gradient with this function:\n",
    "grad_stiefel_vec = lambda xi: rgrad_f_vec(xi, f_stiefel)\n",
    "print(grad_stiefel_vec(xs_init_2_ortho).shape)\n",
    "# this is the unvectorized one to use with the hessian\n",
    "grad_stiefel = lambda xi: rgrad_f(xi, f_stiefel)\n",
    "print([ op.shape for op in grad_stiefel(xs_init_2_ortho)])\n",
    "\n",
    "# now we construct the riemannian\n",
    "# hessian_columns = riemannian_hessian(grad_stiefel, xs_init_2_ortho, vectorize=False)\n",
    "# hessian_full = riemannian_hessian_vec(grad_stiefel, xs_init_2_ortho)\n",
    "hessian_stiefel = lambda xi: riemannian_hessian_vec(grad_stiefel, xi)\n",
    "# unit_matrices = get_unit_matrices(xs_init_2_ortho)\n",
    "# k = 0\n",
    "# _, jvp_eval = jax.jvp(grad_stiefel, (xs_init_2_ortho,), ([jnp.zeros_like(op) if l!=i else jnp.roll(unit_matrices[l],k) for l,op in enumerate(xs_init_2_ortho)],))\n",
    "# print(len(jvp_eval))"
   ]
  },
  {
   "cell_type": "code",
   "execution_count": 357,
   "metadata": {},
   "outputs": [
    {
     "data": {
      "text/plain": [
       "(3072, 3072)"
      ]
     },
     "execution_count": 357,
     "metadata": {},
     "output_type": "execute_result"
    }
   ],
   "source": [
    "hessian_full.shape"
   ]
  },
  {
   "cell_type": "code",
   "execution_count": 342,
   "metadata": {},
   "outputs": [
    {
     "data": {
      "text/plain": [
       "[(64, 16, 1024), (64, 16, 1024), (64, 16, 1024)]"
      ]
     },
     "execution_count": 342,
     "metadata": {},
     "output_type": "execute_result"
    }
   ],
   "source": [
    "[(column[0]).shape for column in hessian_columns]\n",
    "# [op.shape for op in hessian_columns]"
   ]
  },
  {
   "cell_type": "code",
   "execution_count": 377,
   "metadata": {},
   "outputs": [
    {
     "name": "stdout",
     "output_type": "stream",
     "text": [
      "iteration: 0\n",
      "column : 0\n",
      "column : 1\n",
      "column : 2\n",
      "iteration: 1\n",
      "column : 0\n",
      "column : 1\n",
      "column : 2\n",
      "iteration: 2\n",
      "column : 0\n",
      "column : 1\n",
      "column : 2\n",
      "iteration: 3\n",
      "column : 0\n",
      "column : 1\n",
      "column : 2\n",
      "iteration: 4\n",
      "column : 0\n",
      "column : 1\n",
      "column : 2\n",
      "iteration: 5\n",
      "column : 0\n",
      "column : 1\n",
      "column : 2\n",
      "iteration: 6\n",
      "column : 0\n",
      "column : 1\n",
      "column : 2\n",
      "iteration: 7\n",
      "column : 0\n",
      "column : 1\n",
      "column : 2\n",
      "iteration: 8\n",
      "column : 0\n",
      "column : 1\n",
      "column : 2\n",
      "iteration: 9\n",
      "column : 0\n",
      "column : 1\n",
      "column : 2\n",
      "iteration: 10\n",
      "column : 0\n",
      "column : 1\n",
      "column : 2\n",
      "iteration: 11\n",
      "column : 0\n",
      "column : 1\n",
      "column : 2\n",
      "iteration: 12\n",
      "column : 0\n",
      "column : 1\n",
      "column : 2\n",
      "iteration: 13\n",
      "column : 0\n",
      "column : 1\n",
      "column : 2\n",
      "iteration: 14\n",
      "column : 0\n",
      "column : 1\n",
      "column : 2\n",
      "iteration: 15\n",
      "column : 0\n",
      "column : 1\n",
      "column : 2\n",
      "iteration: 16\n",
      "column : 0\n",
      "column : 1\n",
      "column : 2\n",
      "iteration: 17\n",
      "column : 0\n",
      "column : 1\n",
      "column : 2\n",
      "iteration: 18\n",
      "column : 0\n",
      "column : 1\n",
      "column : 2\n",
      "iteration: 19\n",
      "column : 0\n",
      "column : 1\n",
      "column : 2\n"
     ]
    }
   ],
   "source": [
    "# lets see if the optimization runs even, its scary but lets try it out at least.\n",
    "from opentn.trust_region_rcopt import riemannian_trust_region_optimize\n",
    "xs, f_iter, err_iter = riemannian_trust_region_optimize(\n",
    "    f_stiefel, retract_x, grad_stiefel_vec, hessian_stiefel, xs_init_2_ortho\n",
    ")"
   ]
  },
  {
   "cell_type": "code",
   "execution_count": 380,
   "metadata": {},
   "outputs": [
    {
     "data": {
      "text/plain": [
       "[<matplotlib.lines.Line2D at 0x7fe256e6a380>]"
      ]
     },
     "execution_count": 380,
     "metadata": {},
     "output_type": "execute_result"
    },
    {
     "data": {
      "image/png": "[encoded data removed]",
      "text/plain": [
       "<Figure size 1200x800 with 1 Axes>"
      ]
     },
     "metadata": {
      "needs_background": "light"
     },
     "output_type": "display_data"
    }
   ],
   "source": [
    "import matplotlib.pyplot as plt\n",
    "\n",
    "plt.figure(dpi=200)\n",
    "plt.plot(f_iter)"
   ]
  },
  {
   "cell_type": "code",
   "execution_count": 401,
   "metadata": {},
   "outputs": [
    {
     "data": {
      "text/plain": [
       "[False, False, True]"
      ]
     },
     "execution_count": 401,
     "metadata": {},
     "output_type": "execute_result"
    }
   ],
   "source": [
    "# I need to check if the matrices are actually isometries\n",
    "from opentn.stiefel import check_isometry\n",
    "\n",
    "check_isometry(xs)"
   ]
  },
  {
   "cell_type": "markdown",
   "metadata": {},
   "source": [
    "# TRASH"
   ]
  },
  {
   "cell_type": "code",
   "execution_count": 42,
   "metadata": {},
   "outputs": [
    {
     "data": {
      "text/plain": [
       "-7.311165756268884"
      ]
     },
     "execution_count": 42,
     "metadata": {},
     "output_type": "execute_result"
    }
   ],
   "source": [
    "lambda metric(rgrad_f(xi_init)[0], v, xi_init[0])"
   ]
  },
  {
   "cell_type": "code",
   "execution_count": 29,
   "metadata": {},
   "outputs": [
    {
     "data": {
      "text/plain": [
       "1.7305042292865611"
      ]
     },
     "execution_count": 29,
     "metadata": {},
     "output_type": "execute_result"
    }
   ],
   "source": [
    "grads = jax.grad(f)(xi_init)\n",
    "metric(grads[0], grads[2], xi_init[0])"
   ]
  },
  {
   "cell_type": "code",
   "execution_count": 24,
   "metadata": {},
   "outputs": [
    {
     "data": {
      "text/plain": [
       "array([0, 1, 2, 3, 4, 0, 1, 2, 0, 1])"
      ]
     },
     "execution_count": 24,
     "metadata": {},
     "output_type": "execute_result"
    }
   ],
   "source": [
    "# lets concatenate vectors into one long vector\n",
    "a = np.arange(5).reshape((5,1))\n",
    "b =  np.arange(3).reshape((3,1))\n",
    "c = np.arange(2).reshape((2,1))\n",
    "np.vstack([a,b,c]).reshape(-1)"
   ]
  },
  {
   "cell_type": "code",
   "execution_count": null,
   "metadata": {},
   "outputs": [],
   "source": [
    "# from truncated_cg:\n",
    "# we obtain the z, on_boundary from this function\n",
    "# inside the function the z has the following pipeline:\n",
    "# 0. r = grad.copy() / grad = gradfunc(x) on riemannian_trust_region_optimize()\n",
    "# 1. z = np.zeros_like(r)\n",
    "# 2. a. z + t*d\n",
    "#    b. z += alpha * d / d = -r, alpha = rsq / dHd\n",
    "# with rsq = np.dot(r, r), dHd = np.dot(d, Hd),  Hd = hess @ d\n",
    "# NOTE: from this we see that gradient is in fact a vector on tangent space and hessian is an operator acting on this space\n",
    "\n",
    "# how is the freaking hessian built thoguth."
   ]
  },
  {
   "cell_type": "code",
   "execution_count": null,
   "metadata": {},
   "outputs": [],
   "source": [
    "# lets discect this code\n",
    "\n",
    "def brickwall_unitary_hessian_matrix(Vlist, L, U, perms):\n",
    "    \"\"\"\n",
    "    Construct the Hessian matrix of Re tr[U† W] with respect to Vlist\n",
    "    defining the layers of W,\n",
    "    where W is the brickwall circuit constructed from the gates in Vlist.\n",
    "    \"\"\"\n",
    "    n = len(Vlist)\n",
    "    H = np.zeros((n, 16, n, 16)) # n being the number of layers, 16 = 4x4 = vectorization of a (4,4) matrix (2-qubit gate)\n",
    "    for j in range(n):  # going through all the layers\n",
    "        for k in range(16): # going through all the elements of a single vector\n",
    "            # unit vector\n",
    "            Z = np.zeros(16)\n",
    "            Z[k] = 1 # vector Z_k = [0,...,1,...0] at position k\n",
    "            Z = real_to_antisymm(np.reshape(Z, (4, 4))) # Z matrix with zero everywhere except at position (i,j) with k = i*4 + j\n",
    "            # what we pass to this function:\n",
    "            # Vlist = the list len(n) of V matrix on each layer\n",
    "            # L = number of sites I think, meaning how many times this V is repeated on each layer\n",
    "            #  Vlist[j] @ Z = specifically which of the Vs we are passing [j] for the jth layer, **matrix** multiplied by the sort of matrix vector in one of the 16 \"directions\"\n",
    "            # j = number of layer\n",
    "            # U = the unitary we are comparing to\n",
    "            # perms = I think is whether we use a permutation matrix or not\n",
    "            # unitary_proj = whether or not to project dVj (gradient at Vlist[j]) onto the tangent space at Vlist[j]\n",
    "            # return?\n",
    "            # what I don't understand is the  Vlist[j] @ Z,\n",
    "            dVZj = brickwall_unitary_hess(Vlist, L, Vlist[j] @ Z, j, U, perms, unitary_proj=True)\n",
    "            # one column of the hessian\n",
    "            for i in range(n):\n",
    "                # here again we are multiplying Vlist[i]+ @ ith matrix of the dVZj column,\n",
    "                # and is just doing some mapping from antisymmetric to real, which I could in theory do as well,\n",
    "                # because our matrices are also antisymmetric\n",
    "                # it returns a matrix of same dimension, and then reshape(-1) vectorizes it\n",
    "                H[i, :, j, k] = antisymm_to_real(antisymm(Vlist[i].conj().T @ dVZj[i])).reshape(-1) \n",
    "    return H.reshape((n * 16, n * 16))"
   ]
  },
  {
   "cell_type": "code",
   "execution_count": null,
   "metadata": {},
   "outputs": [],
   "source": [
    "# in order to know what is the return of the other function we should look at this thing now\n",
    "# this seems to where we compute the actual hessian, and the other just where we format it, maybe?\n",
    "def brickwall_unitary_hess(Vlist, L, Z, k, U, perms, unitary_proj=False):\n",
    "    \"\"\"\n",
    "    Compute the Hessian of Re tr[U† W] in direction Z with respect to Vlist[k],\n",
    "    where W is the brickwall circuit constructed from the gates in Vlist.\n",
    "    \"\"\"\n",
    "    n = len(Vlist) # number of layers in W\n",
    "    # creating a list of zeros stacking zero matrices of each V in Vlist\n",
    "    dVlist = np.stack([np.zeros_like(V) for V in Vlist]) # np.stack only works with arrays of same size so this is is the same as just np.stack([np.zeros_like(Vlist[0])]*n)\n",
    "    # j < k\n",
    "    for j in range(k):\n",
    "        # directed gradient with respect to Vlist[j] in direction Z\n",
    "        UdZk = (  brickwall_unitary(Vlist[j+1:k], L, perms[j+1:k]).conj().T\n",
    "                @ parallel_gates_directed_grad(Vlist[k], L, Z, perms[k]).conj().T\n",
    "                @ brickwall_unitary(Vlist[k+1:], L, perms[k+1:]).conj().T\n",
    "                @ U\n",
    "                @ brickwall_unitary(Vlist[:j], L, perms[:j]).conj().T)\n",
    "        # what is the dVj then? look at the function below\n",
    "        # apparently Compute the gradient of Re tr[U† (V ⊗ ... ⊗ V)] with respect to V (i.e. wrt one of the gates)\n",
    "        dVj = parallel_gates_grad(Vlist[j], L, UdZk, perms[j]) # this should be one of the \"matrices\" in one column of the full hessian\n",
    "        if unitary_proj:\n",
    "            dVlist[j] += project_unitary_tangent(Vlist[j], dVj)\n",
    "        else:\n",
    "            dVlist[j] += dVj\n",
    "\n",
    "    # Hessian for layer k\n",
    "    Ueff = (  brickwall_unitary(Vlist[k+1:], L, perms[k+1:]).conj().T\n",
    "            @ U\n",
    "            @ brickwall_unitary(Vlist[:k], L, perms[:k]).conj().T)\n",
    "    dVlist[k] += parallel_gates_hess(Vlist[k], L, Z, Ueff, perms[k], unitary_proj=unitary_proj)\n",
    "\n",
    "    # so as I understand this is just the way of getting all the possible j=j' and j!=j'.\n",
    "\n",
    "     # k < j\n",
    "    for j in range(k + 1, n):\n",
    "        # directed gradient with respect to Vlist[k] in direction Z\n",
    "        UdZk = (  brickwall_unitary(Vlist[j+1:], L, perms[j+1:]).conj().T\n",
    "                @ U\n",
    "                @ brickwall_unitary(Vlist[:k], L, perms[:k]).conj().T\n",
    "                @ parallel_gates_directed_grad(Vlist[k], L, Z, perms[k]).conj().T\n",
    "                @ brickwall_unitary(Vlist[k+1:j], L, perms[k+1:j]).conj().T)\n",
    "        dVj = parallel_gates_grad(Vlist[j], L, UdZk, perms[j])\n",
    "        if unitary_proj:\n",
    "            dVlist[j] += project_unitary_tangent(Vlist[j], dVj)\n",
    "        else:\n",
    "            dVlist[j] += dVj\n",
    "\n",
    "    # it seems to be like if this was the full hessian, but since it is in one certain direction, then is equivalent to one column\n",
    "    # also based on the shape it seems to the only one column\n",
    "    return dVlist"
   ]
  }
 ],
 "metadata": {
  "kernelspec": {
   "display_name": "thesis",
   "language": "python",
   "name": "python3"
  },
  "language_info": {
   "codemirror_mode": {
    "name": "ipython",
    "version": 3
   },
   "file_extension": ".py",
   "mimetype": "text/x-python",
   "name": "python",
   "nbconvert_exporter": "python",
   "pygments_lexer": "ipython3",
   "version": "3.10.4"
  },
  "orig_nbformat": 4
 },
 "nbformat": 4,
 "nbformat_minor": 2
}
