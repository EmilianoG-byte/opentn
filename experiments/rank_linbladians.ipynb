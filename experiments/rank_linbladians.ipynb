{
 "cells": [
  {
   "attachments": {},
   "cell_type": "markdown",
   "metadata": {},
   "source": [
    "# 24th July:\n",
    "\n",
    "Checking what is going with the ranks of the matrices.\n",
    "\n",
    "Done:\n",
    "- [x] rank(odd) = 2*rank(lnn)\n",
    "- [x] rank(even) = rank(lnn)\n",
    "\n",
    "Problem:\n",
    "- [ ] rank(full) $\\neq$ rank(odd) * rank(even) * rank(odd)\n",
    "- The rank might not necessarily be the same because we have a $\\mathcal{O(dt^3)}$ error in the second order troter. HOWEVER, the problem is that not even the rank of exp(odd) @ exp(even) @ exp(odd) is the same!\n",
    "\n",
    "Ideas:\n",
    "\n",
    "- check how the rank changes when changing: $\\gamma$ and $\\tau$\n",
    "- the rank of the approx and the full lvec do seem to coincide tho ... do the ranks not just simply multiply?\n",
    "- the issue might be the tolerance that I use. how do i know which ones are numeric noise and which ones do actually contributed? should they be relative to the norm of the operator? CHECK NORMS\n",
    "- check the rank of the matrices that I get when optimizing through GSD: X1, X2, X3\n"
   ]
  },
  {
   "cell_type": "code",
   "execution_count": 1,
   "metadata": {},
   "outputs": [],
   "source": [
    "import sys\n",
    "sys.path.append('..')\n",
    "%load_ext autoreload\n",
    "%autoreload 2\n",
    "\n",
    "from jax import config\n",
    "config.update(\"jax_enable_x64\", True)\n",
    "\n",
    "import numpy as np\n",
    "import matplotlib.pyplot as plt"
   ]
  },
  {
   "cell_type": "code",
   "execution_count": 2,
   "metadata": {},
   "outputs": [
    {
     "name": "stdout",
     "output_type": "stream",
     "text": [
      "initial: 2.638300722408311e-07\n",
      "final: 2.0772161170510943e-07\n"
     ]
    },
    {
     "data": {
      "text/plain": [
       "[<matplotlib.lines.Line2D at 0x7fe42141e140>]"
      ]
     },
     "execution_count": 2,
     "metadata": {},
     "output_type": "execute_result"
    },
    {
     "data": {
      "image/png": "[encoded data removed]",
      "text/plain": [
       "<Figure size 432x288 with 1 Axes>"
      ]
     },
     "metadata": {
      "needs_background": "light"
     },
     "output_type": "display_data"
    }
   ],
   "source": [
    "from opentn.transformations import create_kitaev_liouvillians, exp_operator_dt, factorize_psd, super2choi, create_trotter_layers, lindbladian2super\n",
    "from opentn.optimization import gds, frobenius_norm, model_Ys, compute_loss\n",
    "\n",
    "d, N = 2, 4\n",
    "dim = d**N\n",
    "\n",
    "gamma = 1e-2\n",
    "Lvec, Lvec_odd, Lvec_even, Lnn = create_kitaev_liouvillians(N=N, d=d, gamma=gamma)\n",
    "tau = 4\n",
    "exp_Lvec, exp_Lvec_odd, exp_Lvec_even = create_trotter_layers([Lvec, Lvec_odd, Lvec_even], tau=tau)\n",
    "exp_Lnn = lindbladian2super(Li=[Lnn])\n",
    "exp_Lnn = exp_operator_dt(exp_Lnn, tau/2, 'jax')\n",
    "\n",
    "X1  = factorize_psd(psd=super2choi(exp_Lvec_odd), tol=1e-12)\n",
    "X2 = factorize_psd(psd=super2choi(exp_Lvec_even), tol=1e-12)\n",
    "\n",
    "cost_n4, grads_n4, xi_n4 = gds(fn=compute_loss, x0=[X1, X2, X1], iter=100, loss_fn=frobenius_norm, model=model_Ys, rate=1.5e-9, exact = exp_Lvec, show_cost=False)\n",
    "print('initial:', cost_n4[0])\n",
    "print('final:', cost_n4[-1])\n",
    "\n",
    "plt.plot(cost_n4)"
   ]
  },
  {
   "cell_type": "code",
   "execution_count": 3,
   "metadata": {},
   "outputs": [
    {
     "name": "stdout",
     "output_type": "stream",
     "text": [
      "rank:  2\n",
      "rank:  4\n",
      "rank:  2\n",
      "rank:  29\n",
      "rank:  20\n",
      "----\n",
      "rank:  4\n",
      "rank:  2\n",
      "----\n",
      "rank:  4\n",
      "rank:  2\n",
      "rank:  4\n"
     ]
    }
   ],
   "source": [
    "# calculate the rank of all the choi matrices we are interested in:\n",
    "for superop in [exp_Lnn, exp_Lvec_odd, exp_Lvec_even, exp_Lvec, exp_Lvec_odd@exp_Lvec_even@exp_Lvec_odd]:\n",
    "    print('rank: ', np.linalg.matrix_rank(super2choi(superop), tol=1e-12))\n",
    "# do the same for the psd factorization of the layers (initial guess)\n",
    "print('----')\n",
    "for choi in [X1, X2]:\n",
    "    print('rank: ', np.linalg.matrix_rank(choi, tol=1e-12))\n",
    "# similarly for the matrices that we obtained from the optimization\n",
    "print('----')\n",
    "for choi in xi_n4[-1]:\n",
    "    print('rank: ', np.linalg.matrix_rank(choi, tol=1e-12))"
   ]
  },
  {
   "cell_type": "code",
   "execution_count": 20,
   "metadata": {},
   "outputs": [
    {
     "name": "stdout",
     "output_type": "stream",
     "text": [
      "[3.99501248e+00 4.98752081e-03 3.67689344e-16 6.53440930e-17\n",
      " 1.52759669e-17 3.63208082e-19 1.58901035e-19 1.09241193e-32\n",
      " 2.33961506e-33 1.34311643e-35 1.20042351e-49 4.17729042e-50\n",
      " 0.00000000e+00 0.00000000e+00 0.00000000e+00 0.00000000e+00]\n",
      "------\n",
      "[1.59601247e+01 1.99252079e-02 1.99252079e-02 2.48753638e-05\n",
      " 9.60470976e-15 9.33287511e-15 7.66050915e-15 7.42911270e-15\n",
      " 7.36426349e-15 7.18523090e-15 6.29372528e-15 6.01088357e-15\n",
      " 5.35463559e-15 4.92085230e-15 4.69054963e-15 4.53042644e-15]\n",
      "------\n",
      "[1.59601993e+01 3.98006650e-02 1.98537129e-14 1.29101010e-14\n",
      " 9.66531290e-15 9.35175787e-15 8.02457095e-15 7.47664974e-15\n",
      " 7.45021579e-15 6.72241563e-15 6.66570098e-15 5.67023799e-15\n",
      " 5.46755174e-15 4.93752134e-15 4.76581648e-15 4.50662605e-15]\n",
      "------\n",
      "[1.58809071e+01 5.35571431e-02 3.96274662e-02 2.56236967e-02\n",
      " 1.19766269e-04 4.95029797e-05 4.94826258e-05 4.08201317e-05\n",
      " 2.47515434e-05 8.95308390e-08 7.94678759e-08 5.63855416e-08\n",
      " 4.35119228e-08 1.83024667e-08 1.61593460e-08 8.50200641e-09]\n",
      "------\n",
      "[1.58809071e+01 5.35571115e-02 3.96275277e-02 2.56236985e-02\n",
      " 1.19750957e-04 4.94723947e-05 4.94721047e-05 4.08253371e-05\n",
      " 2.47205998e-05 1.05867070e-07 7.71555166e-08 6.18206790e-08\n",
      " 5.78764272e-08 4.63704152e-08 1.27132168e-08 1.15768442e-10]\n",
      "------\n"
     ]
    }
   ],
   "source": [
    "# show the singularvalues of the same matrices\n",
    "for superop in [exp_Lnn, exp_Lvec_odd, exp_Lvec_even, exp_Lvec, exp_Lvec_odd@exp_Lvec_even@exp_Lvec_odd]:\n",
    "    print(np.sort(np.linalg.svd(super2choi(superop), compute_uv=False))[::-1][:16])\n",
    "    print('------')\n"
   ]
  },
  {
   "cell_type": "code",
   "execution_count": 9,
   "metadata": {},
   "outputs": [
    {
     "data": {
      "text/plain": [
       "False"
      ]
     },
     "execution_count": 9,
     "metadata": {},
     "output_type": "execute_result"
    }
   ],
   "source": [
    "np.allclose(exp_Lvec, exp_Lvec_odd@exp_Lvec_even@exp_Lvec_odd, atol=1e-8)"
   ]
  }
 ],
 "metadata": {
  "kernelspec": {
   "display_name": "thesis",
   "language": "python",
   "name": "thesis"
  },
  "language_info": {
   "codemirror_mode": {
    "name": "ipython",
    "version": 3
   },
   "file_extension": ".py",
   "mimetype": "text/x-python",
   "name": "python",
   "nbconvert_exporter": "python",
   "pygments_lexer": "ipython3",
   "version": "3.10.4"
  },
  "orig_nbformat": 4
 },
 "nbformat": 4,
 "nbformat_minor": 2
}
