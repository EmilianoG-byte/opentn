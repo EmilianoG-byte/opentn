{
 "cells": [
  {
   "cell_type": "code",
   "execution_count": 2,
   "metadata": {},
   "outputs": [],
   "source": [
    "import sys\n",
    "sys.path.append('..')\n",
    "# reload local packages automatically\n",
    "%load_ext autoreload\n",
    "%autoreload 2"
   ]
  },
  {
   "cell_type": "code",
   "execution_count": 5,
   "metadata": {},
   "outputs": [],
   "source": [
    "from opentn.channels import get_krauss_from_unitary\n",
    "from opentn.circuits import get_unitary_adchannel\n",
    "from opentn.states.qubits import up, down, plus, minus\n",
    "from opentn.tensors import MPOP\n",
    "import numpy as np\n",
    "import matplotlib.pyplot as plt"
   ]
  },
  {
   "cell_type": "code",
   "execution_count": 3,
   "metadata": {},
   "outputs": [
    {
     "name": "stdout",
     "output_type": "stream",
     "text": [
      "0.6321205588285577\n"
     ]
    },
    {
     "data": {
      "text/plain": [
       "array([[0.81606028+0.j, 0.30326533+0.j],\n",
       "       [0.30326533+0.j, 0.18393972+0.j]])"
      ]
     },
     "execution_count": 3,
     "metadata": {},
     "output_type": "execute_result"
    }
   ],
   "source": [
    "# First I will construct the krauss operators corresponding to a small time step for the amplitude damping channel.\n",
    "# I should mention, however, that here there is not hamitlonian, beacause we are looking at it in the interaction picture\n",
    "# after I build the krauss operators, I can evolve it n times to reach a certain t = n*dt and compare with the gamma corresponding to the total time\n",
    "# using the actual krauss operators from 'purifications_tn.ipynb'\n",
    "\n",
    "t = 1 #np.log(2)\n",
    "gamma_init = 1 #normalized for iniital gamma\n",
    "gamma =  1 - np.exp(-gamma_init*t)\n",
    "print(gamma)\n",
    "# This is if we had access to the full unitary, from which we can get the krauss operators\n",
    "krauss_list_t = get_krauss_from_unitary(get_unitary_adchannel(gamma=gamma))\n",
    "\n",
    "# initial state: fixed here\n",
    "phys_init = plus\n",
    "A = MPOP.create_purified([phys_init])\n",
    "\n",
    "A.apply_krauss_operators(krauss_list=krauss_list_t)\n",
    "rho_purified_t = A.get_density_matrix()\n",
    "rho_purified_t"
   ]
  },
  {
   "cell_type": "code",
   "execution_count": 4,
   "metadata": {},
   "outputs": [],
   "source": [
    "# now let's do dt = t/n for different n\n",
    "ns = np.linspace(1,20,20, dtype=int)\n",
    "norms_n = []\n",
    "for n in ns:\n",
    "    dt = t/n\n",
    "    k0_dt = np.array([[1,0],[0,1-dt*gamma_init/2]], dtype=complex)\n",
    "    k1_dt = np.array([[0, np.sqrt(dt*gamma_init)],[0,0]], dtype=complex)\n",
    "    krauss_list_dt = [k0_dt, k1_dt]\n",
    "    A = MPOP.create_purified([phys_init])\n",
    "    for _ in range(n):\n",
    "        A.apply_krauss_operators(krauss_list=krauss_list_dt)\n",
    "    rho_purified_dt = A.get_density_matrix()\n",
    "    rho_purified_dt\n",
    "    norm = np.linalg.norm(rho_purified_t-rho_purified_dt, ord='fro')\n",
    "    norms_n.append(norm)"
   ]
  },
  {
   "cell_type": "code",
   "execution_count": 5,
   "metadata": {},
   "outputs": [
    {
     "data": {
      "text/plain": [
       "Text(0, 0.5, 'norm difference')"
      ]
     },
     "execution_count": 5,
     "metadata": {},
     "output_type": "execute_result"
    },
    {
     "data": {
      "image/png": "[encoded data removed]",
      "text/plain": [
       "<Figure size 900x600 with 1 Axes>"
      ]
     },
     "metadata": {
      "needs_background": "light"
     },
     "output_type": "display_data"
    }
   ],
   "source": [
    "plt.figure(dpi=150)\n",
    "plt.semilogy(ns, norms_n, 'rx')\n",
    "plt.xlabel('number of steps \"n\" ')\n",
    "plt.ylabel('norm difference')"
   ]
  },
  {
   "attachments": {},
   "cell_type": "markdown",
   "metadata": {},
   "source": [
    "# <center> Lindbladian evolution: \n",
    "## <center> superoperator (\"exact\") vs MPOP with Kraus operators"
   ]
  },
  {
   "attachments": {},
   "cell_type": "markdown",
   "metadata": {},
   "source": [
    "The interesting thing to do would be to have lindbladian acting on more than one site and getting the kraus operators for those.\n",
    "So what troterization do I want to do exactly?\n",
    "HOW WOULD THIS LOOK LIKE?\n",
    "1. Look for a lindbladian that has terms acting on nearest neighbour sites\n",
    "2. split $e^{\\tau \\mathcal{L}}$ (superoperator) into odd and even terms such: \n",
    "$$ e^{\\tau \\mathcal{L}} = e^{\\tau \\mathcal{L_o}/2} e^{\\tau \\mathcal{L_e}}  e^{\\tau \\mathcal{L_o}/2} + \\mathcal{O}(\\tau^3)$$\n",
    "3. Apply each layer (odd-> even -> odd)\n",
    "4. The trick is: the two site jump operators imply that we decompose the operators back to their individual tensors!"
   ]
  },
  {
   "cell_type": "code",
   "execution_count": 6,
   "metadata": {},
   "outputs": [],
   "source": [
    "from opentn.states.qubits import get_ladder_operator\n",
    "from opentn.transformations import lindbladian2super"
   ]
  },
  {
   "cell_type": "code",
   "execution_count": 5,
   "metadata": {},
   "outputs": [],
   "source": [
    "# As a first step: lets try to just simulate the evolution when applying single site jump operators.\n",
    "# compare to the exact solver. This could go along the lines of:\n",
    "# vectorizing density matrix, using lindbladian to superoperator convert (then exp), then getting the final density matrix\n",
    "gamma_adc = 0.5\n",
    "dt = 1\n",
    "gamma_lind = -np.log(1-gamma_adc)/dt\n",
    "\n",
    "L1 = np.sqrt(gamma_lind)*get_ladder_operator() # sigma-\n",
    "# L2 = np.sqrt(gamma)*get_ladder_operator(adjoint=True) #sigma+\n",
    "Li = [L1]\n",
    "superop = lindbladian2super(Li=Li, dim=2)"
   ]
  },
  {
   "attachments": {},
   "cell_type": "markdown",
   "metadata": {},
   "source": [
    "## <center> 1. Lindbladian: Kitaev's wire"
   ]
  },
  {
   "cell_type": "code",
   "execution_count": 3,
   "metadata": {},
   "outputs": [],
   "source": [
    "from opentn.states.qubits import plus\n",
    "from opentn.transformations import dissipative2liouvillian_full, op2fullspace, ket2dm, vectorize, unvectorize, find_nonzero, vectorize_dissipative\n",
    "from scipy.linalg import expm"
   ]
  },
  {
   "cell_type": "code",
   "execution_count": 7,
   "metadata": {},
   "outputs": [],
   "source": [
    "# Hamiltonian: spinless fermion chain\n",
    "# Lindbladian: single lindbladian channel for every pair of neighbouring sites. Kitaev's wire\n",
    "# Parameters chosen for non-trivial topological phase. Source: Eisers, Positive approach.\n",
    "lowering = get_ladder_operator()\n",
    "raising = get_ladder_operator(adjoint=True)\n",
    "gamma = 1e-2 # lindbladian parameter\n",
    "N = 2 # physical qubits\n",
    "d = 2 # assume d is the physical dimension for all the sites. implicit also in our rising and lowering operators\n",
    "\n",
    "# I THINK THIS METHOD IS WRONG BECAUSE WE ARE BASICALLY SAYING WE ONLY HAVE ONE LINDBLADIAN\n",
    "# Lnn = np.zeros(shape=(d**N, d**N), dtype=complex)\n",
    "# for i in range(0, N-1): # no periodic boundary conditions\n",
    "#     Lnn += (op2fullspace(raising, i=i, N=N) + op2fullspace(raising, i=i+1, N=N))@(op2fullspace(lowering, i=i, N=N) - op2fullspace(lowering, i=i+1, N=N))\n",
    "# Lnn *= np.sqrt(gamma)/4\n",
    "# Lnnvec1 = vectorize_dissipative(Lnn)"
   ]
  },
  {
   "cell_type": "code",
   "execution_count": 8,
   "metadata": {},
   "outputs": [
    {
     "name": "stdout",
     "output_type": "stream",
     "text": [
      "Effective number of qubits 4.0\n"
     ]
    }
   ],
   "source": [
    "# that thing was kind of wrong for my purposes. Let me re-do it. Instead lets just define a function that vectorizes l_nnndbladian terms\n",
    "I = np.eye(d, dtype=complex)\n",
    "NN = 2\n",
    "# Create nearest neighbour lindbladian operator\n",
    "Lnn = np.sqrt(gamma)*(op2fullspace(raising, i=0, N=NN) + op2fullspace(raising, i=1, N=NN))@(op2fullspace(lowering, i=0, N=NN) - op2fullspace(lowering, i=1, N=NN))/4\n",
    "\n",
    "# vectorize each of the terms and add them together\n",
    "Lvec = np.zeros(shape=(d**(2*N), d**(2*N)), dtype=complex)\n",
    "for i in range(0, N-1):\n",
    "    Lvec += dissipative2liouvillian_full(L=Lnn, i=i, N=N, num_sites=2)\n",
    "\n",
    "effective_qubits = np.log2(Lvec.shape[0])\n",
    "print(f'Effective number of qubits {effective_qubits}')"
   ]
  },
  {
   "cell_type": "code",
   "execution_count": 9,
   "metadata": {},
   "outputs": [],
   "source": [
    "# Exponentiatate to get time evolving liouvillian operator\n",
    "t = 1\n",
    "exp_Lvec = expm(Lvec*t) # this is the exp(\\hat{L}) that we should apply to the vectorization of the initial density matrix."
   ]
  },
  {
   "cell_type": "code",
   "execution_count": 8,
   "metadata": {},
   "outputs": [],
   "source": [
    "# Create initial state. Lets put all of them in equal superposition but the first one\n",
    "init_state = up\n",
    "for i in range(N-1):\n",
    "    init_state = np.kron(init_state,plus)\n",
    "\n",
    "# convert to density matrix\n",
    "init_state_dm = ket2dm(vec=init_state)\n",
    "\n",
    "# vectorize\n",
    "init_state_dm_vec = vectorize(init_state_dm)\n",
    "\n",
    "# Apply liouvillian evolving operator\n",
    "final_state_dm_vec = exp_Lvec @ init_state_dm_vec\n",
    "final_state_dm = unvectorize(final_state_dm_vec)"
   ]
  },
  {
   "cell_type": "code",
   "execution_count": 9,
   "metadata": {},
   "outputs": [
    {
     "data": {
      "text/plain": [
       "False"
      ]
     },
     "execution_count": 9,
     "metadata": {},
     "output_type": "execute_result"
    }
   ],
   "source": [
    "np.allclose(final_state_dm_vec, init_state_dm_vec)"
   ]
  },
  {
   "cell_type": "code",
   "execution_count": 10,
   "metadata": {},
   "outputs": [
    {
     "data": {
      "text/plain": [
       "array([[5.00000000e-01+0.j, 4.99687695e-01+0.j, 3.12304769e-04+0.j,\n",
       "        0.00000000e+00+0.j],\n",
       "       [4.99687695e-01+0.j, 4.99687695e-01+0.j, 6.24219401e-04+0.j,\n",
       "        0.00000000e+00+0.j],\n",
       "       [3.12304769e-04+0.j, 6.24219401e-04+0.j, 3.12304769e-04+0.j,\n",
       "        0.00000000e+00+0.j],\n",
       "       [0.00000000e+00+0.j, 0.00000000e+00+0.j, 0.00000000e+00+0.j,\n",
       "        0.00000000e+00+0.j]])"
      ]
     },
     "execution_count": 10,
     "metadata": {},
     "output_type": "execute_result"
    }
   ],
   "source": [
    "final_state_dm"
   ]
  },
  {
   "attachments": {},
   "cell_type": "markdown",
   "metadata": {},
   "source": [
    "# Apply this in a tensor network representation"
   ]
  },
  {
   "cell_type": "code",
   "execution_count": 10,
   "metadata": {},
   "outputs": [],
   "source": [
    "from opentn.transformations import lindbladian2kraus"
   ]
  },
  {
   "cell_type": "code",
   "execution_count": 33,
   "metadata": {},
   "outputs": [
    {
     "name": "stdout",
     "output_type": "stream",
     "text": [
      "[[ 0.00000000e+00+0.j  2.77382374e-18+0.j  0.00000000e+00+0.j\n",
      "   0.00000000e+00+0.j]\n",
      " [ 0.00000000e+00+0.j  2.49843831e-02+0.j -2.49843831e-02+0.j\n",
      "   0.00000000e+00+0.j]\n",
      " [ 0.00000000e+00+0.j  2.49843831e-02+0.j -2.49843831e-02+0.j\n",
      "   0.00000000e+00+0.j]\n",
      " [ 0.00000000e+00+0.j  0.00000000e+00+0.j  0.00000000e+00+0.j\n",
      "   1.60213475e-18+0.j]]\n",
      "2\n"
     ]
    }
   ],
   "source": [
    "# Lnn will be our operator acting on every l, l+1 sites whether l is odd or even.\n",
    "\n",
    "# Let us initialize a MPOP which has as first site up, and plus the rest.\n",
    "init_state_mpop = MPOP.create_purified([up] + [plus]*(N-1))\n",
    "\n",
    "# Lets create the kraus operators that we will apply to this initial state\n",
    "kraus_list_lnn = lindbladian2kraus(Li=[Lnn])\n",
    "print(kraus_list_lnn[0])\n",
    "\n",
    "# get K dimension\n",
    "K = len(kraus_list_lnn)\n",
    "print(K)"
   ]
  },
  {
   "cell_type": "code",
   "execution_count": 43,
   "metadata": {},
   "outputs": [
    {
     "name": "stdout",
     "output_type": "stream",
     "text": [
      "[-0.99875078+0.j -1.        +0.j -1.        +0.j -1.        +0.j]\n",
      "[1.         1.         1.         0.99875078]\n",
      "4\n"
     ]
    }
   ],
   "source": [
    "idx = 1\n",
    "print(np.linalg.eigvals(kraus_list_lnn[idx]))\n",
    "U, S, Vh = np.linalg.svd(kraus_list_lnn[idx])\n",
    "print(S)\n",
    "print(np.linalg.matrix_rank(kraus_list_lnn[idx], tol=1e-6))"
   ]
  },
  {
   "cell_type": "code",
   "execution_count": 13,
   "metadata": {},
   "outputs": [],
   "source": [
    "from scipy.linalg import svd\n",
    "from opentn.states.qubits import H, X, Y, Z, I"
   ]
  },
  {
   "cell_type": "code",
   "execution_count": 29,
   "metadata": {},
   "outputs": [
    {
     "name": "stdout",
     "output_type": "stream",
     "text": [
      "(2, 2, 2, 4)\n",
      "(4, 2, 1, 2)\n",
      "(1, 4, 2, 2)\n",
      "(4, 1, 2, 1)\n"
     ]
    }
   ],
   "source": [
    "# first step: stack them to have the kraus dimension back:\n",
    "kraus_tensor = np.stack(kraus_list_lnn, axis=0) # K Sout(l,l+1) Sin(l,l+1)\n",
    "# split into the different sites:\n",
    "kraus_tensor = np.reshape(kraus_tensor, newshape=[K] + [d]*4)  # K Sout(l) Sout(l+1) Sin(l) Sin(l+1)\n",
    "# apply a random unoptimizied unitary matrix to the kraus leg to see if it has any effect.\n",
    "U = Y # K K: 2x2\n",
    "kraus_tensor = np.tensordot(U, kraus_tensor, axes=(1,0)) # K (K), (K) Sout(l) Sout(l+1) Sin(l) Sin(l+1) -> K Sout(l) Sout(l+1) Sin(l) Sin(l+1)\n",
    "# Decide on a splitting of the K dimension. Paper suggests that putting all to one side is not so bad\n",
    "K1 = K\n",
    "K2 = 1\n",
    "kraus_tensor = np.reshape(kraus_tensor, newshape=[K1, K2] + [d]*4)  # K1 K2 Sout(l) Sout(l+1) Sin(l) Sin(l+1)\n",
    "# transpose to have a matrix like later for SVD\n",
    "kraus_tensor = np.transpose(kraus_tensor, axes=(2,0,4,3,1,5)) # Sout(l) K1 Sin(l) Sout(l+1) K2 Sin(l+1) \n",
    "# reshape into a matrix for svd\n",
    "kraus_matrix = np.reshape(kraus_tensor, newshape=[d * K1 * d, d * K2 * d]) # (Sout(l) * K1 * Sin(l)) (Sout(l+1) * K2 * Sin(l+1))\n",
    "# perform svd\n",
    "u, s, vh = svd(kraus_matrix, full_matrices=False) # vh: D (Sout(l+1) * K2 * Sin(l+1))\n",
    "# reshape u and vh, and absorv s. Absorb into u for simplicity. D is the 'bond dimension'\n",
    "D = len(s)\n",
    "u_s = u@np.diag(s) # (Sout(l) * K1 * Sin(l)) D\n",
    "Bl = np.reshape(u_s, newshape=[d, K1, d, D]) # Sout(l) K1 Sin(l) D\n",
    "Br = np.reshape(vh, newshape=[D, d, K2, d]) # D Sout(l+1) K2 Sin(l+1)\n",
    "print(Bl.shape)\n",
    "print(Br.shape)\n",
    "# contract with the individual tensors in init_state_mpop\n",
    "W_new = np.tensordot(init_state_mpop.Ws[0], Bl, axes=(2,2)) # vL vR (s) r, Sout K1 (Sin) D  -> vL vR r Sout K1 D\n",
    "W_new = np.transpose(W_new, axes=(0,1,5,3,4,2)) # vL vR D Sout K1 r \n",
    "shape = W_new.shape # vL vR D Sout K1 r \n",
    "W_new = np.reshape(W_new, newshape=(shape[0], shape[1]*shape[2], shape[3], shape[4]*shape[5])) # vL (vR D) Sout (K1 r) \n",
    "print(W_new.shape)\n",
    "# now for l+1\n",
    "W_new2 = np.tensordot(init_state_mpop.Ws[1], Br, axes=(2,3)) # vL vR (s) r, D Sout K2 (Sin)  -> vL vR r D Sout K2 \n",
    "W_new2 = np.transpose(W_new2, axes=(0,3,1,4,5,2)) # vL D vR Sout K2 r \n",
    "shape = W_new2.shape # vL D vR Sout K2 r \n",
    "W_new2 = np.reshape(W_new2, newshape=(shape[0]*shape[1], shape[2], shape[3], shape[4]*shape[5])) # (vL D) vR Sout (K2 r)\n",
    "print(W_new2.shape)\n",
    "# create a new tensor with this local tensors\n",
    "final_state_mpop = MPOP([W_new, W_new2])\n",
    "final_state_dm_tensor = final_state_mpop.get_density_matrix()"
   ]
  },
  {
   "cell_type": "code",
   "execution_count": 30,
   "metadata": {},
   "outputs": [
    {
     "name": "stdout",
     "output_type": "stream",
     "text": [
      "True\n",
      "1.11136546689408e-16\n"
     ]
    }
   ],
   "source": [
    "print(np.allclose(final_state_dm_tensor, final_state_dm))\n",
    "print(np.linalg.norm(final_state_dm_tensor - final_state_dm)) # This is the one with Y gate"
   ]
  },
  {
   "cell_type": "code",
   "execution_count": 346,
   "metadata": {},
   "outputs": [
    {
     "name": "stdout",
     "output_type": "stream",
     "text": [
      "(0.4999999999999998+0j) & (0.4999999999999999+0j)\n",
      "(0.4996876952311452+0j) & (0.4996876952311451+0j)\n",
      "(0.0003123047688547813+0j) & (0.00031230476885478334+0j)\n",
      "(5.598272377076217e-19+0j) & 0j\n",
      "(0.4996876952311452+0j) & (0.4996876952311451+0j)\n",
      "(0.4996876952311453+0j) & (0.4996876952311451+0j)\n",
      "(0.0006242194006349633+0j) & (0.000624219400634969+0j)\n",
      "(5.615476896988377e-19+0j) & 0j\n",
      "(0.0003123047688547814+0j) & (0.00031230476885478334+0j)\n",
      "(0.0006242194006349633+0j) & (0.0006242194006349691+0j)\n",
      "(0.00031230476885478557+0j) & (0.00031230476885478334+0j)\n",
      "(2.4197988554995104e-21+0j) & 0j\n",
      "(5.598272377076217e-19+0j) & 0j\n",
      "(5.615476896988378e-19+0j) & 0j\n",
      "(2.4197988554995097e-21+0j) & 0j\n",
      "(6.405435626371118e-37+0j) & 0j\n"
     ]
    }
   ],
   "source": [
    "# checking element by element\n",
    "for i in range(4):\n",
    "    for j in range(4):\n",
    "        print(f'{final_state_dm_tensor[i,j]} & {final_state_dm[i,j]}')"
   ]
  },
  {
   "cell_type": "code",
   "execution_count": 33,
   "metadata": {},
   "outputs": [
    {
     "name": "stdout",
     "output_type": "stream",
     "text": [
      "True\n",
      "1.1104993963362308e-16\n"
     ]
    }
   ],
   "source": [
    "# Now all in one method\n",
    "init_state_mpop = MPOP.create_purified([up] + [plus]*(N-1))\n",
    "kraus_list_lnn = lindbladian2kraus(Li=[Lnn])\n",
    "K = len(kraus_list_lnn)\n",
    "final_state_mpop = init_state_mpop.apply_nn_kraus(kraus_list=kraus_list_lnn, Ks=[K,1],U=I, inplace=False)\n",
    "final_state_dm_tensor = final_state_mpop.get_density_matrix()\n",
    "print(np.allclose(final_state_dm_tensor, final_state_dm))\n",
    "print(np.linalg.norm(final_state_dm_tensor - final_state_dm))"
   ]
  },
  {
   "attachments": {},
   "cell_type": "markdown",
   "metadata": {},
   "source": [
    "# Now lets try do to everything but for 6 sites!"
   ]
  },
  {
   "cell_type": "code",
   "execution_count": 10,
   "metadata": {},
   "outputs": [
    {
     "name": "stdout",
     "output_type": "stream",
     "text": [
      "Effective number of qubits 12.0\n"
     ]
    }
   ],
   "source": [
    "N = 6\n",
    "d = 2\n",
    "I = np.eye(d, dtype=complex)\n",
    "NN = 2\n",
    "# Create nearest neighbour lindbladian operator\n",
    "Lnn = np.sqrt(gamma)*(op2fullspace(raising, i=0, N=NN) + op2fullspace(raising, i=1, N=NN))@(op2fullspace(lowering, i=0, N=NN) - op2fullspace(lowering, i=1, N=NN))/4\n",
    "# vectorize each of the terms and add them together\n",
    "Lvec = np.zeros(shape=(d**(2*N), d**(2*N)), dtype=complex)\n",
    "for i in range(0, N-1):\n",
    "    Lvec += dissipative2liouvillian_full(L=Lnn, i=i, N=N, num_sites=2)\n",
    "effective_qubits = np.log2(Lvec.shape[0])\n",
    "print(f'Effective number of qubits {effective_qubits}')"
   ]
  },
  {
   "cell_type": "code",
   "execution_count": 11,
   "metadata": {},
   "outputs": [],
   "source": [
    "# Exponentiatate to get time evolving liouvillian operator\n",
    "t = 1\n",
    "exp_Lvec = expm(Lvec*t) # this is the exp(\\hat{L}) that we should apply to the vectorization of the initial density matrix."
   ]
  },
  {
   "cell_type": "code",
   "execution_count": 371,
   "metadata": {},
   "outputs": [
    {
     "data": {
      "text/plain": [
       "False"
      ]
     },
     "execution_count": 371,
     "metadata": {},
     "output_type": "execute_result"
    }
   ],
   "source": [
    "# Create initial state. Lets put all of them in equal superposition but the first one\n",
    "init_state = up\n",
    "for i in range(N-1):\n",
    "    init_state = np.kron(init_state,plus)\n",
    "# convert to density matrix\n",
    "init_state_dm = ket2dm(vec=init_state)\n",
    "# vectorize\n",
    "init_state_dm_vec = vectorize(init_state_dm)\n",
    "# Apply liouvillian evolving operator\n",
    "final_state_dm_vec = exp_Lvec @ init_state_dm_vec\n",
    "final_state_dm = unvectorize(final_state_dm_vec)\n",
    "# Checking that something actually happened. We expect to see False\n",
    "np.allclose(final_state_dm, init_state_dm)"
   ]
  },
  {
   "attachments": {},
   "cell_type": "markdown",
   "metadata": {},
   "source": [
    "# Now with TN as: $$e^{\\tau \\mathcal{L}} = e^{\\tau \\mathcal{L_o}/2} e^{\\tau \\mathcal{L_e}}  e^{\\tau \\mathcal{L_o}/2} + \\mathcal{O}(\\tau^3)$$"
   ]
  },
  {
   "cell_type": "code",
   "execution_count": 19,
   "metadata": {},
   "outputs": [
    {
     "name": "stdout",
     "output_type": "stream",
     "text": [
      "[0.0012492190754190933, 3.9987507809245812]\n"
     ]
    },
    {
     "data": {
      "text/plain": [
       "2"
      ]
     },
     "execution_count": 19,
     "metadata": {},
     "output_type": "execute_result"
    }
   ],
   "source": [
    "# Lnn will be our operator acting on every l, l+1 sites whether l is odd or even.\n",
    "# Let us initialize a MPOP which has as first site up, and plus the rest.\n",
    "init_state_mpop = MPOP.create_purified([up] + [plus]*(N-1))\n",
    "# Lets create the kraus operators that we will apply to this initial state\n",
    "kraus_list_odd = lindbladian2kraus(Li=[Lnn], tau=t/2) # by odd we mean counting from 1...N, actually acting on sites 0,2,4,...\n",
    "# kraus_list_even = lindbladian2kraus(Li=[Lnn], tau=t/1) # by even we mean counting from 1...N, actually acting on sites 1,3,5,...\n",
    "# get K dimension. Same for odd and even since only difference is tau/2 and tau\n",
    "assert len(kraus_list_odd) == len(kraus_list_even)\n",
    "K = len(kraus_list_odd)\n",
    "K"
   ]
  },
  {
   "cell_type": "code",
   "execution_count": 45,
   "metadata": {},
   "outputs": [],
   "source": [
    "# first layer applying to sites: [0,1], [2,3], [4,5]. Do the change in place\n",
    "for idx in range(0,N,2):\n",
    "    init_state_mpop.apply_nn_kraus(kraus_list=kraus_list_odd, idx_list=[idx, idx+1],U=I, inplace=True)\n",
    "\n",
    "# second layer applying to sites: [1,2], [3,4]. Do the change in place\n",
    "for idx in range(1,N-1,2):\n",
    "    init_state_mpop.apply_nn_kraus(kraus_list=kraus_list_even, idx_list=[idx, idx+1],U=I, inplace=True)\n",
    "\n",
    "# third layer applying to sites: [0,1], [2,3], [4,5]. Do the change in place\n",
    "for idx in range(0,N,2):\n",
    "    init_state_mpop.apply_nn_kraus(kraus_list=kraus_list_odd, idx_list=[idx, idx+1],U=I, inplace=True)\n",
    "\n",
    "# first layer applying to sites: [0,1], [2,3], [4,5]. Do the change in place\n",
    "for idx in range(0,N,2):\n",
    "    init_state_mpop.apply_nn_kraus(kraus_list=kraus_list_odd, idx_list=[idx, idx+1],U=I, inplace=True)\n",
    "\n",
    "# second layer applying to sites: [1,2], [3,4]. Do the change in place\n",
    "for idx in range(1,N-1,2):\n",
    "    init_state_mpop.apply_nn_kraus(kraus_list=kraus_list_even, idx_list=[idx, idx+1],U=I, inplace=True)\n",
    "\n",
    "# third layer applying to sites: [0,1], [2,3], [4,5]. Do the change in place\n",
    "for idx in range(0,N,2):\n",
    "    init_state_mpop.apply_nn_kraus(kraus_list=kraus_list_odd, idx_list=[idx, idx+1],U=I, inplace=True)"
   ]
  },
  {
   "cell_type": "code",
   "execution_count": 36,
   "metadata": {},
   "outputs": [
    {
     "name": "stdout",
     "output_type": "stream",
     "text": [
      "(1, 16, 2, 4)\n",
      "True\n",
      "8.179300757442196e-16\n"
     ]
    }
   ],
   "source": [
    "# after one application (QR)\n",
    "print(init_state_mpop.Ws[0].shape)\n",
    "final_state_dm_tensor = init_state_mpop.get_density_matrix()\n",
    "print(np.allclose(final_state_dm_tensor, final_state_dm))\n",
    "print(np.linalg.norm(final_state_dm_tensor - final_state_dm))"
   ]
  },
  {
   "cell_type": "code",
   "execution_count": 46,
   "metadata": {},
   "outputs": [
    {
     "name": "stdout",
     "output_type": "stream",
     "text": [
      "(1, 256, 2, 16)\n",
      "True\n",
      "3.2849020873314924e-15\n"
     ]
    }
   ],
   "source": [
    "# after two applications (QR)\n",
    "print(init_state_mpop.Ws[0].shape)\n",
    "final_state_dm_tensor = init_state_mpop.get_density_matrix()\n",
    "print(np.allclose(final_state_dm_tensor, final_state_dm))\n",
    "print(np.linalg.norm(final_state_dm_tensor - final_state_dm))"
   ]
  },
  {
   "cell_type": "code",
   "execution_count": 432,
   "metadata": {},
   "outputs": [
    {
     "name": "stdout",
     "output_type": "stream",
     "text": [
      "(1, 16, 2, 4)\n",
      "True\n",
      "1.6044857374370382e-10\n"
     ]
    }
   ],
   "source": [
    "# After two applications (svd)\n",
    "print(init_state_mpop.Ws[0].shape)\n",
    "final_state_dm_tensor = init_state_mpop.get_density_matrix()\n",
    "print(np.allclose(final_state_dm_tensor, final_state_dm))\n",
    "print(np.linalg.norm(final_state_dm_tensor - final_state_dm))"
   ]
  },
  {
   "cell_type": "code",
   "execution_count": 450,
   "metadata": {},
   "outputs": [
    {
     "name": "stdout",
     "output_type": "stream",
     "text": [
      "(1, 256, 2, 16)\n",
      "True\n",
      "4.0113919748442703e-11\n"
     ]
    }
   ],
   "source": [
    "# After two applications (svd)\n",
    "print(init_state_mpop.Ws[0].shape)\n",
    "final_state_dm_tensor = init_state_mpop.get_density_matrix()\n",
    "print(np.allclose(final_state_dm_tensor, final_state_dm))\n",
    "print(np.linalg.norm(final_state_dm_tensor - final_state_dm))"
   ]
  },
  {
   "cell_type": "code",
   "execution_count": null,
   "metadata": {},
   "outputs": [],
   "source": [
    "# Maybe also create a method for the non-tensor networks part.\n",
    "# trace was changed for norm!\n",
    "# TODO: I can do a complexity analysis of \n",
    "# 1. Split Ek and then contract with A\n",
    "# 2. Contract Ek with A and then split.\n",
    "# QR: doing it once is enough. However, this does not stop the entanglement growth."
   ]
  }
 ],
 "metadata": {
  "kernelspec": {
   "display_name": "thesis",
   "language": "python",
   "name": "thesis"
  },
  "language_info": {
   "codemirror_mode": {
    "name": "ipython",
    "version": 3
   },
   "file_extension": ".py",
   "mimetype": "text/x-python",
   "name": "python",
   "nbconvert_exporter": "python",
   "pygments_lexer": "ipython3",
   "version": "3.10.4"
  },
  "orig_nbformat": 4
 },
 "nbformat": 4,
 "nbformat_minor": 2
}
