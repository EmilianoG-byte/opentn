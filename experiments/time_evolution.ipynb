{
 "cells": [
  {
   "cell_type": "code",
   "execution_count": 1,
   "metadata": {},
   "outputs": [],
   "source": [
    "import sys\n",
    "sys.path.append('..')\n",
    "# reload local packages automatically\n",
    "%load_ext autoreload\n",
    "%autoreload 2"
   ]
  },
  {
   "cell_type": "code",
   "execution_count": 2,
   "metadata": {},
   "outputs": [],
   "source": [
    "from opentn.channels import get_krauss_from_unitary\n",
    "from opentn.circuits import get_unitary_adchannel\n",
    "from opentn.states.qubits import up,down, plus, minus\n",
    "from opentn.tensors import MPO\n",
    "import numpy as np\n",
    "import matplotlib.pyplot as plt"
   ]
  },
  {
   "cell_type": "code",
   "execution_count": 3,
   "metadata": {},
   "outputs": [
    {
     "name": "stdout",
     "output_type": "stream",
     "text": [
      "0.6321205588285577\n"
     ]
    }
   ],
   "source": [
    "# First I will construct the krauss operators corresponding to a small time step for the amplitude damping channel.\n",
    "# I should mention, however, that here there is not hamitlonian, beacause we are looking at it in the interaction picture\n",
    "# after I build the krauss operators, I can evolve it n times to reach a certain t = n*dt and compare with the gamma corresponding to the total time\n",
    "# using the actual krauss operators from 'purifications_tn.ipynb'\n",
    "\n",
    "t = 1#np.log(2)\n",
    "gamma_init = 1 #normalized for iniital gamma\n",
    "gamma =  1 - np.exp(-gamma_init*t)\n",
    "print(gamma)\n",
    "krauss_list_t = get_krauss_from_unitary(get_unitary_adchannel(gamma=gamma))\n",
    "\n",
    "# initial state: fixed here\n",
    "phys_init = plus\n",
    "a,b = phys_init\n",
    "psi_pure = np.zeros(shape=(1,1,2,1),dtype=np.complex128) #vL vR up down. Assuming environment is by default zero\n",
    "psi_pure[:,:,0,:] = a\n",
    "psi_pure[:,:,1,:] = b"
   ]
  },
  {
   "cell_type": "code",
   "execution_count": 4,
   "metadata": {},
   "outputs": [
    {
     "data": {
      "text/plain": [
       "array([[0.81606028+0.j, 0.30326533+0.j],\n",
       "       [0.30326533+0.j, 0.18393972+0.j]])"
      ]
     },
     "execution_count": 4,
     "metadata": {},
     "output_type": "execute_result"
    }
   ],
   "source": [
    "A = MPO([psi_pure])\n",
    "A.apply_krauss_operators(krauss_list=krauss_list_t)\n",
    "rho_purified_t = A.get_density_matrix()\n",
    "rho_purified_t"
   ]
  },
  {
   "cell_type": "code",
   "execution_count": 7,
   "metadata": {},
   "outputs": [],
   "source": [
    "# now let's do dt = t/n for different n\n",
    "ns = np.linspace(1,20,20, dtype=int)\n",
    "norms_n = []\n",
    "for n in ns:\n",
    "    dt = t/n\n",
    "    k0_dt = np.array([[1,0],[0,1-dt*gamma_init/2]], dtype=complex)\n",
    "    k1_dt = np.array([[0, np.sqrt(dt*gamma_init)],[0,0]], dtype=complex)\n",
    "    krauss_list_dt = [k0_dt, k1_dt]\n",
    "    A = MPO([psi_pure])\n",
    "    for _ in range(n):\n",
    "        A.apply_krauss_operators(krauss_list=krauss_list_dt)\n",
    "    rho_purified_dt = A.get_density_matrix()\n",
    "    rho_purified_dt\n",
    "    norm = np.linalg.norm(rho_purified_t-rho_purified_dt, ord='fro')\n",
    "    norms_n.append(norm)"
   ]
  },
  {
   "cell_type": "code",
   "execution_count": 9,
   "metadata": {},
   "outputs": [
    {
     "data": {
      "text/plain": [
       "Text(0, 0.5, 'norm difference')"
      ]
     },
     "execution_count": 9,
     "metadata": {},
     "output_type": "execute_result"
    },
    {
     "data": {
      "image/png": "[encoded data removed]",
      "text/plain": [
       "<Figure size 900x600 with 1 Axes>"
      ]
     },
     "metadata": {
      "needs_background": "light"
     },
     "output_type": "display_data"
    }
   ],
   "source": [
    "plt.figure(dpi=150)\n",
    "plt.loglog(ns, norms_n, 'rx')\n",
    "plt.xlabel('number of steps \"n\" ')\n",
    "plt.ylabel('norm difference')"
   ]
  },
  {
   "cell_type": "code",
   "execution_count": 2,
   "metadata": {},
   "outputs": [
    {
     "data": {
      "text/plain": [
       "array([[0.5, 0. ],\n",
       "       [0. , 0.5]])"
      ]
     },
     "execution_count": 2,
     "metadata": {},
     "output_type": "execute_result"
    }
   ],
   "source": [
    "import numpy as np\n",
    "C = (1/10)*np.array([[7,1],[-1,7]])\n",
    "Cp = C.conj().T\n",
    "\n",
    "C@Cp"
   ]
  },
  {
   "cell_type": "code",
   "execution_count": 3,
   "metadata": {},
   "outputs": [
    {
     "data": {
      "text/plain": [
       "array([[0.5, 0. ],\n",
       "       [0. , 0.5]])"
      ]
     },
     "execution_count": 3,
     "metadata": {},
     "output_type": "execute_result"
    }
   ],
   "source": [
    "Cp@C"
   ]
  },
  {
   "cell_type": "code",
   "execution_count": 8,
   "metadata": {},
   "outputs": [],
   "source": [
    "u, s, vh = np.linalg.svd(C)"
   ]
  },
  {
   "cell_type": "code",
   "execution_count": 9,
   "metadata": {},
   "outputs": [
    {
     "data": {
      "text/plain": [
       "array([0.70710678, 0.70710678])"
      ]
     },
     "execution_count": 9,
     "metadata": {},
     "output_type": "execute_result"
    }
   ],
   "source": [
    "s"
   ]
  },
  {
   "cell_type": "code",
   "execution_count": 10,
   "metadata": {},
   "outputs": [
    {
     "data": {
      "text/plain": [
       "array([[-0.98994949,  0.14142136],\n",
       "       [ 0.14142136,  0.98994949]])"
      ]
     },
     "execution_count": 10,
     "metadata": {},
     "output_type": "execute_result"
    }
   ],
   "source": [
    "u"
   ]
  },
  {
   "cell_type": "code",
   "execution_count": 12,
   "metadata": {},
   "outputs": [
    {
     "data": {
      "text/plain": [
       "array([[-1.,  0.],\n",
       "       [-0.,  1.]])"
      ]
     },
     "execution_count": 12,
     "metadata": {},
     "output_type": "execute_result"
    }
   ],
   "source": [
    "vh.conj().T"
   ]
  },
  {
   "cell_type": "code",
   "execution_count": 13,
   "metadata": {},
   "outputs": [
    {
     "data": {
      "text/plain": [
       "0.14285714285714285"
      ]
     },
     "execution_count": 13,
     "metadata": {},
     "output_type": "execute_result"
    }
   ],
   "source": [
    "1/7"
   ]
  },
  {
   "cell_type": "code",
   "execution_count": 14,
   "metadata": {},
   "outputs": [
    {
     "data": {
      "text/plain": [
       "0.1"
      ]
     },
     "execution_count": 14,
     "metadata": {},
     "output_type": "execute_result"
    }
   ],
   "source": [
    "1/10"
   ]
  },
  {
   "cell_type": "code",
   "execution_count": null,
   "metadata": {},
   "outputs": [],
   "source": []
  }
 ],
 "metadata": {
  "kernelspec": {
   "display_name": "app_qc",
   "language": "python",
   "name": "python3"
  },
  "language_info": {
   "codemirror_mode": {
    "name": "ipython",
    "version": 3
   },
   "file_extension": ".py",
   "mimetype": "text/x-python",
   "name": "python",
   "nbconvert_exporter": "python",
   "pygments_lexer": "ipython3",
   "version": "3.10.4"
  },
  "orig_nbformat": 4
 },
 "nbformat": 4,
 "nbformat_minor": 2
}
