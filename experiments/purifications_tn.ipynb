{
 "cells": [
  {
   "attachments": {},
   "cell_type": "markdown",
   "metadata": {},
   "source": [
    "# <center> Testing the purification technique from the paper.\n",
    "## <center> Use only $\\ket{0}_E$ to avoid confusions from before."
   ]
  },
  {
   "cell_type": "code",
   "execution_count": 2,
   "metadata": {},
   "outputs": [],
   "source": [
    "import sys\n",
    "sys.path.append('..')\n",
    "# reload local packages automatically\n",
    "%load_ext autoreload\n",
    "%autoreload 2"
   ]
  },
  {
   "cell_type": "code",
   "execution_count": 3,
   "metadata": {},
   "outputs": [],
   "source": [
    "import qutip as qt\n",
    "import numpy as np"
   ]
  },
  {
   "cell_type": "code",
   "execution_count": 4,
   "metadata": {},
   "outputs": [],
   "source": [
    "# Okay I am going to forget about everything else and just focus on implementing the purifcation tensor network structure\n",
    "from opentn.circuits import get_unitary_adchannel\n",
    "from opentn.channels import get_krauss_from_unitary\n",
    "from opentn.states.qubits import up,down, plus, minus\n",
    "import numpy as np"
   ]
  },
  {
   "cell_type": "code",
   "execution_count": 52,
   "metadata": {},
   "outputs": [
    {
     "name": "stdout",
     "output_type": "stream",
     "text": [
      "[[ 1.        +0.j  0.        +0.j  0.        +0.j  0.        +0.j]\n",
      " [ 0.        +0.j  0.        +0.j  0.70710678+0.j  0.70710678+0.j]\n",
      " [ 0.        +0.j  0.        +0.j  0.70710678+0.j -0.70710678+0.j]\n",
      " [ 0.        +0.j  1.        +0.j  0.        +0.j  0.        +0.j]]\n"
     ]
    }
   ],
   "source": [
    "gamma = 0.5\n",
    "U = get_unitary_adchannel(gamma=gamma)\n",
    "print(U)"
   ]
  },
  {
   "cell_type": "code",
   "execution_count": 6,
   "metadata": {},
   "outputs": [
    {
     "data": {
      "text/plain": [
       "[array([[1.        +0.j, 0.        +0.j],\n",
       "        [0.        +0.j, 0.70710678+0.j]]),\n",
       " array([[0.        +0.j, 0.70710678+0.j],\n",
       "        [0.        +0.j, 0.        +0.j]])]"
      ]
     },
     "execution_count": 6,
     "metadata": {},
     "output_type": "execute_result"
    }
   ],
   "source": [
    "krauss_list = get_krauss_from_unitary(U)\n",
    "krauss_list"
   ]
  },
  {
   "cell_type": "code",
   "execution_count": 22,
   "metadata": {},
   "outputs": [
    {
     "data": {
      "text/plain": [
       "array([[[[0.70710678+0.j]],\n",
       "\n",
       "        [[0.70710678+0.j]]]])"
      ]
     },
     "execution_count": 22,
     "metadata": {},
     "output_type": "execute_result"
    }
   ],
   "source": [
    "# now we need to create new structure for purifcations in TN\n",
    "# initial purified state\n",
    "a,b = plus\n",
    "psi_pure = np.zeros(shape=(1,2,1,1),dtype=np.complex128) #vL up down vR. Assuming environment is by default zero\n",
    "psi_pure[0,0,0,0] = a\n",
    "psi_pure[:,1,:,:] = b\n",
    "psi_pure"
   ]
  },
  {
   "cell_type": "code",
   "execution_count": 8,
   "metadata": {},
   "outputs": [
    {
     "data": {
      "text/plain": [
       "array([[[[0.70710678+0.j],\n",
       "         [0.5       +0.j]],\n",
       "\n",
       "        [[0.5       +0.j],\n",
       "         [0.        +0.j]]]])"
      ]
     },
     "execution_count": 8,
     "metadata": {},
     "output_type": "execute_result"
    }
   ],
   "source": [
    "# new purified state after krauss act on physical system\n",
    "psi_end_pure = np.zeros(shape=(1,2,2,1),dtype=np.complex128) #vL up down vR. Assuming environment is by default zero\n",
    "psi_end_pure[0,:,0,0] = krauss_list[0]@psi_pure[0,:,0,0]\n",
    "psi_end_pure[0,:,1,0] = krauss_list[1]@psi_pure[0,:,0,0]\n",
    "psi_end_pure"
   ]
  },
  {
   "cell_type": "code",
   "execution_count": 9,
   "metadata": {},
   "outputs": [
    {
     "data": {
      "text/plain": [
       "array([[0.75      +0.j, 0.35355339+0.j],\n",
       "       [0.35355339+0.j, 0.25      +0.j]])"
      ]
     },
     "execution_count": 9,
     "metadata": {},
     "output_type": "execute_result"
    }
   ],
   "source": [
    "# tracing out the environment:\n",
    "\"\"\"\n",
    "        __|__      \n",
    "       /  1   \\  \n",
    "    ---|0 P 3|--- \n",
    "       \\__2__/    \n",
    "          |      \n",
    "     \n",
    "        __|__     \n",
    "       /  2  \\    \n",
    "    ---|0 P* 3|--- \n",
    "       \\__1__/    \n",
    "          |       \n",
    "\"\"\"\n",
    "rho_A = np.tensordot(psi_end_pure, psi_end_pure.conj(),axes=(2,2)) # vL up (down) vR x vL* up* (down*) vR* ->  vL up vR vL* up* vR*\n",
    "np.squeeze(rho_A)"
   ]
  },
  {
   "attachments": {},
   "cell_type": "markdown",
   "metadata": {},
   "source": [
    "# <center> 8th february"
   ]
  },
  {
   "attachments": {},
   "cell_type": "markdown",
   "metadata": {},
   "source": [
    "Checkpoints: (For one site for now)\n",
    "1. Generalize MPO to suit the purified structure\n",
    "2. Test the generation of np.stack for K structure of 3D\n",
    "3. Create function for contration:\n",
    "    input: krauss list (& Purified Tensor)\n",
    "    output: 4d tensor with vL, vR, P, E*s dim (makes sense to have it modify the purified tensor since it is also MPO)\n",
    "4. Check by contracting with its conjugate (contract virtual dims)"
   ]
  },
  {
   "cell_type": "code",
   "execution_count": 10,
   "metadata": {},
   "outputs": [],
   "source": [
    "from opentn.tensors import MPO"
   ]
  },
  {
   "cell_type": "code",
   "execution_count": 41,
   "metadata": {},
   "outputs": [
    {
     "data": {
      "text/plain": [
       "MPO: ([array([[[[0.70710678+0.j],\n",
       "         [0.70710678+0.j]]]])]) with dims (1, 1, 2, 1)"
      ]
     },
     "execution_count": 41,
     "metadata": {},
     "output_type": "execute_result"
    }
   ],
   "source": [
    "# I have to first transpose psi_pure so it fits my MPO ordering\n",
    "A = MPO([psi_pure.transpose((0,3,1,2))])\n",
    "A"
   ]
  },
  {
   "cell_type": "code",
   "execution_count": 43,
   "metadata": {},
   "outputs": [],
   "source": [
    "A.contract_purified_krauss(krauss_list=krauss_list)"
   ]
  },
  {
   "cell_type": "code",
   "execution_count": 45,
   "metadata": {},
   "outputs": [
    {
     "data": {
      "text/plain": [
       "array([[0.75      +0.j, 0.35355339+0.j],\n",
       "       [0.35355339+0.j, 0.25      +0.j]])"
      ]
     },
     "execution_count": 45,
     "metadata": {},
     "output_type": "execute_result"
    }
   ],
   "source": [
    "A.get_density_from_mpo()"
   ]
  },
  {
   "attachments": {},
   "cell_type": "markdown",
   "metadata": {},
   "source": [
    "# Doing for Loop for different initial states and different gammas:"
   ]
  },
  {
   "cell_type": "code",
   "execution_count": 49,
   "metadata": {},
   "outputs": [],
   "source": [
    "from opentn.channels import quantum_channel"
   ]
  },
  {
   "cell_type": "code",
   "execution_count": 68,
   "metadata": {},
   "outputs": [
    {
     "name": "stdout",
     "output_type": "stream",
     "text": [
      "True\n",
      "True\n",
      "True\n",
      "True\n",
      "True\n",
      "True\n",
      "True\n",
      "True\n",
      "True\n",
      "True\n",
      "True\n",
      "True\n",
      "True\n",
      "True\n",
      "True\n",
      "True\n",
      "True\n",
      "True\n",
      "True\n",
      "True\n",
      "True\n"
     ]
    }
   ],
   "source": [
    "gammas = np.linspace(0,1,21)\n",
    "\n",
    "# initial state: fixed here\n",
    "phys_init = plus\n",
    "a,b = phys_init\n",
    "psi_pure = np.zeros(shape=(1,1,2,1),dtype=np.complex128) #vL vR up down. Assuming environment is by default zero\n",
    "psi_pure[:,:,0,:] = a\n",
    "psi_pure[:,:,1,:] = b\n",
    "\n",
    "for gamma in gammas:\n",
    "    A = MPO([psi_pure])\n",
    "    krauss_list_i = get_krauss_from_unitary(get_unitary_adchannel(gamma=gamma))\n",
    "    A.contract_purified_krauss(krauss_list=krauss_list_i)\n",
    "    rho_purified = A.get_density_from_mpo()\n",
    "    rho_channel = quantum_channel(state=phys_init, krauss_list=krauss_list_i)\n",
    "    print(np.allclose(rho_purified, rho_channel))"
   ]
  },
  {
   "cell_type": "code",
   "execution_count": 70,
   "metadata": {},
   "outputs": [],
   "source": [
    "from opentn.states.qubits import up, down, minus, plus"
   ]
  },
  {
   "cell_type": "code",
   "execution_count": 71,
   "metadata": {},
   "outputs": [
    {
     "name": "stdout",
     "output_type": "stream",
     "text": [
      "True\n",
      "True\n",
      "True\n",
      "True\n"
     ]
    }
   ],
   "source": [
    "# fix gamma here\n",
    "gamma = 0.5\n",
    "\n",
    "# initial states\n",
    "states = [up, down, minus, plus]\n",
    "\n",
    "for init_state in states:\n",
    "    phys_init = init_state\n",
    "    a,b = phys_init\n",
    "    psi_pure = np.zeros(shape=(1,1,2,1),dtype=np.complex128) #vL vR up down. Assuming environment is by default zero\n",
    "    psi_pure[:,:,0,:] = a\n",
    "    psi_pure[:,:,1,:] = b\n",
    "\n",
    "    A = MPO([psi_pure])\n",
    "    krauss_list_i = get_krauss_from_unitary(get_unitary_adchannel(gamma=gamma))\n",
    "    A.contract_purified_krauss(krauss_list=krauss_list_i)\n",
    "    rho_purified = A.get_density_from_mpo()\n",
    "    rho_channel = quantum_channel(state=phys_init, krauss_list=krauss_list_i)\n",
    "    print(np.allclose(rho_purified, rho_channel))"
   ]
  },
  {
   "cell_type": "code",
   "execution_count": null,
   "metadata": {},
   "outputs": [],
   "source": []
  }
 ],
 "metadata": {
  "kernelspec": {
   "display_name": "thesis",
   "language": "python",
   "name": "python3"
  },
  "language_info": {
   "codemirror_mode": {
    "name": "ipython",
    "version": 3
   },
   "file_extension": ".py",
   "mimetype": "text/x-python",
   "name": "python",
   "nbconvert_exporter": "python",
   "pygments_lexer": "ipython3",
   "version": "3.10.4"
  },
  "orig_nbformat": 4,
  "vscode": {
   "interpreter": {
    "hash": "e54f0141033c6754df365506067ddbc1ca599da691a7e6c277f1d7678b6ffe7f"
   }
  }
 },
 "nbformat": 4,
 "nbformat_minor": 2
}
