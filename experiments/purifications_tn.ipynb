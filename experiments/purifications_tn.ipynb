{
 "cells": [
  {
   "attachments": {},
   "cell_type": "markdown",
   "metadata": {},
   "source": [
    "# <center> Testing the purification technique from the paper.\n",
    "## <center> Use only $\\ket{0}_E$ to avoid confusions from before."
   ]
  },
  {
   "cell_type": "code",
   "execution_count": 3,
   "metadata": {},
   "outputs": [],
   "source": [
    "sys.path.append('..')\n",
    "# reload local packages automatically\n",
    "%load_ext autoreload\n",
    "%autoreload 2"
   ]
  },
  {
   "cell_type": "code",
   "execution_count": 4,
   "metadata": {},
   "outputs": [],
   "source": [
    "# Okay I am going to forget about everything else and just focus on implementing the purifcation tensor network structure\n",
    "from opentn.circuits import get_unitary_adchannel\n",
    "from opentn.channels import get_krauss_from_unitary\n",
    "from opentn import up,down, plus, minus\n",
    "import numpy as np"
   ]
  },
  {
   "cell_type": "code",
   "execution_count": 5,
   "metadata": {},
   "outputs": [
    {
     "name": "stdout",
     "output_type": "stream",
     "text": [
      "[[ 1.        +0.j  0.        +0.j  0.        +0.j  0.        +0.j]\n",
      " [ 0.        +0.j  0.        +0.j  0.70710678+0.j  0.70710678+0.j]\n",
      " [ 0.        +0.j  0.        +0.j  0.70710678+0.j -0.70710678+0.j]\n",
      " [ 0.        +0.j  1.        +0.j  0.        +0.j  0.        +0.j]]\n"
     ]
    }
   ],
   "source": [
    "gamma = 0.5\n",
    "U = get_unitary_adchannel(gamma=gamma)\n",
    "print(U)"
   ]
  },
  {
   "cell_type": "code",
   "execution_count": 6,
   "metadata": {},
   "outputs": [
    {
     "data": {
      "text/plain": [
       "[array([[1.        +0.j, 0.        +0.j],\n",
       "        [0.        +0.j, 0.70710678+0.j]]),\n",
       " array([[0.        +0.j, 0.70710678+0.j],\n",
       "        [0.        +0.j, 0.        +0.j]])]"
      ]
     },
     "execution_count": 6,
     "metadata": {},
     "output_type": "execute_result"
    }
   ],
   "source": [
    "krauss_list = get_krauss_from_unitary(U)\n",
    "krauss_list"
   ]
  },
  {
   "cell_type": "code",
   "execution_count": 30,
   "metadata": {},
   "outputs": [
    {
     "data": {
      "text/plain": [
       "array([[[[0.70710678+0.j]],\n",
       "\n",
       "        [[0.70710678+0.j]]]])"
      ]
     },
     "execution_count": 30,
     "metadata": {},
     "output_type": "execute_result"
    }
   ],
   "source": [
    "# now we need to create new structure for purifcations in TN\n",
    "# initial purified state\n",
    "a,b = plus\n",
    "psi_pure = np.zeros(shape=(1,2,1,1),dtype=np.complex128) #vL vL up down. Assuming environment is by default zero\n",
    "psi_pure[0,0,0,0] = a\n",
    "psi_pure[:,1,:,:] = b\n",
    "psi_pure"
   ]
  },
  {
   "cell_type": "code",
   "execution_count": 36,
   "metadata": {},
   "outputs": [
    {
     "data": {
      "text/plain": [
       "array([[[[0.70710678+0.j],\n",
       "         [0.5       +0.j]],\n",
       "\n",
       "        [[0.5       +0.j],\n",
       "         [0.        +0.j]]]])"
      ]
     },
     "execution_count": 36,
     "metadata": {},
     "output_type": "execute_result"
    }
   ],
   "source": [
    "# new purified state after krauss act on physical system\n",
    "psi_end_pure = np.zeros(shape=(1,2,2,1),dtype=np.complex128) #vL up down vR. Assuming environment is by default zero\n",
    "psi_end_pure[0,:,0,0] = krauss_list[0]@psi_pure[0,:,0,0]\n",
    "psi_end_pure[0,:,1,0] = krauss_list[1]@psi_pure[0,:,0,0]\n",
    "psi_end_pure"
   ]
  },
  {
   "cell_type": "code",
   "execution_count": 38,
   "metadata": {},
   "outputs": [
    {
     "data": {
      "text/plain": [
       "array([[0.75      +0.j, 0.35355339+0.j],\n",
       "       [0.35355339+0.j, 0.25      +0.j]])"
      ]
     },
     "execution_count": 38,
     "metadata": {},
     "output_type": "execute_result"
    }
   ],
   "source": [
    "# tracing out the environment:\n",
    "\"\"\"\n",
    "        __|__      \n",
    "       /  1   \\  \n",
    "    ---|0 P 3|--- \n",
    "       \\__2__/    \n",
    "          |      \n",
    "     \n",
    "        __|__     \n",
    "       /  2  \\    \n",
    "    ---|0 P* 3|--- \n",
    "       \\__1__/    \n",
    "          |       \n",
    "\"\"\"\n",
    "rho_A = np.tensordot(psi_end_pure, psi_end_pure.conj(),axes=(2,2)) # vL up (down) vR x vL* up* (down*) vR* ->  vL up vR vL* up* vR*\n",
    "np.squeeze(rho_A)"
   ]
  }
 ],
 "metadata": {
  "kernelspec": {
   "display_name": "thesis",
   "language": "python",
   "name": "python3"
  },
  "language_info": {
   "codemirror_mode": {
    "name": "ipython",
    "version": 3
   },
   "file_extension": ".py",
   "mimetype": "text/x-python",
   "name": "python",
   "nbconvert_exporter": "python",
   "pygments_lexer": "ipython3",
   "version": "3.10.4"
  },
  "orig_nbformat": 4,
  "vscode": {
   "interpreter": {
    "hash": "e54f0141033c6754df365506067ddbc1ca599da691a7e6c277f1d7678b6ffe7f"
   }
  }
 },
 "nbformat": 4,
 "nbformat_minor": 2
}
