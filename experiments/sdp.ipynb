{
 "cells": [
  {
   "cell_type": "code",
   "execution_count": 95,
   "metadata": {},
   "outputs": [
    {
     "name": "stdout",
     "output_type": "stream",
     "text": [
      "The autoreload extension is already loaded. To reload it, use:\n",
      "  %reload_ext autoreload\n"
     ]
    }
   ],
   "source": [
    "import sys\n",
    "sys.path.append('..')\n",
    "# reload local packages automatically\n",
    "%load_ext autoreload\n",
    "%autoreload 2\n",
    "\n",
    "from jax import config\n",
    "config.update(\"jax_enable_x64\", True)\n",
    "\n",
    "# Import packages.\n",
    "import cvxpy as cp\n",
    "import numpy as np\n",
    "import scipy"
   ]
  },
  {
   "cell_type": "code",
   "execution_count": 23,
   "metadata": {},
   "outputs": [
    {
     "name": "stdout",
     "output_type": "stream",
     "text": [
      "===============================================================================\n",
      "                                     CVXPY                                     \n",
      "                                     v1.3.1                                    \n",
      "===============================================================================\n",
      "(CVXPY) Jul 10 02:16:00 PM: Your problem has 9 variables, 3 constraints, and 0 parameters.\n",
      "(CVXPY) Jul 10 02:16:00 PM: It is compliant with the following grammars: DCP, DQCP\n",
      "(CVXPY) Jul 10 02:16:00 PM: (If you need to solve this problem multiple times, but with different data, consider using parameters.)\n",
      "(CVXPY) Jul 10 02:16:00 PM: CVXPY will first compile your problem; then, it will invoke a numerical solver to obtain a solution.\n",
      "-------------------------------------------------------------------------------\n",
      "                                  Compilation                                  \n",
      "-------------------------------------------------------------------------------\n",
      "(CVXPY) Jul 10 02:16:00 PM: Compiling problem (target solver=SCS).\n",
      "(CVXPY) Jul 10 02:16:00 PM: Reduction chain: Dcp2Cone -> CvxAttr2Constr -> ConeMatrixStuffing -> SCS\n",
      "(CVXPY) Jul 10 02:16:00 PM: Applying reduction Dcp2Cone\n",
      "(CVXPY) Jul 10 02:16:00 PM: Applying reduction CvxAttr2Constr\n",
      "(CVXPY) Jul 10 02:16:00 PM: Applying reduction ConeMatrixStuffing\n",
      "(CVXPY) Jul 10 02:16:00 PM: Applying reduction SCS\n",
      "(CVXPY) Jul 10 02:16:00 PM: Finished problem compilation (took 1.343e-02 seconds).\n",
      "-------------------------------------------------------------------------------\n",
      "                                Numerical solver                               \n",
      "-------------------------------------------------------------------------------\n",
      "(CVXPY) Jul 10 02:16:00 PM: Invoking solver SCS  to obtain a solution.\n"
     ]
    },
    {
     "name": "stdout",
     "output_type": "stream",
     "text": [
      "------------------------------------------------------------------\n",
      "\t       SCS v3.2.3 - Splitting Conic Solver\n",
      "\t(c) Brendan O'Donoghue, Stanford University, 2012\n",
      "------------------------------------------------------------------\n",
      "problem:  variables n: 6, constraints m: 9\n",
      "cones: \t  z: primal zero / dual free vars: 3\n",
      "\t  s: psd vars: 6, ssize: 1\n",
      "settings: eps_abs: 1.0e-05, eps_rel: 1.0e-05, eps_infeas: 1.0e-07\n",
      "\t  alpha: 1.50, scale: 1.00e-01, adaptive_scale: 1\n",
      "\t  max_iters: 100000, normalize: 1, rho_x: 1.00e-06\n",
      "\t  acceleration_lookback: 10, acceleration_interval: 10\n",
      "lin-sys:  sparse-direct-amd-qdldl\n",
      "\t  nnz(A): 24, nnz(P): 0\n",
      "------------------------------------------------------------------\n",
      " iter | pri res | dua res |   gap   |   obj   |  scale  | time (s)\n",
      "------------------------------------------------------------------\n",
      "     0| 3.08e+01  3.02e+00  6.83e+01 -3.09e+01  1.00e-01  4.23e-03 \n",
      "   125| 9.31e-07  2.37e-07  1.86e-06  2.65e+00  5.17e-01  3.69e-02 \n",
      "------------------------------------------------------------------\n",
      "status:  solved\n",
      "timings: total: 4.22e-02s = setup: 2.90e-03s + solve: 3.93e-02s\n",
      "\t lin-sys: 6.33e-05s, cones: 9.01e-03s, accel: 5.35e-05s\n",
      "------------------------------------------------------------------\n",
      "objective = 2.654348\n",
      "------------------------------------------------------------------\n",
      "-------------------------------------------------------------------------------\n",
      "                                    Summary                                    \n",
      "-------------------------------------------------------------------------------\n",
      "(CVXPY) Jul 10 02:16:00 PM: Problem status: optimal\n",
      "(CVXPY) Jul 10 02:16:00 PM: Optimal value: 2.654e+00\n",
      "(CVXPY) Jul 10 02:16:00 PM: Compilation took 1.343e-02 seconds\n",
      "(CVXPY) Jul 10 02:16:00 PM: Solver (including time spent in interface) took 4.554e-02 seconds\n",
      "The optimal value is 2.6543470585557296\n",
      "A solution X is\n",
      "[[ 1.60805504 -0.59770125 -0.69575821]\n",
      " [-0.59770125  0.22228555  0.24689067]\n",
      " [-0.69575821  0.24689067  1.39679134]]\n"
     ]
    }
   ],
   "source": [
    "# Generate a random SDP.\n",
    "n = 3\n",
    "p = 3\n",
    "np.random.seed(1)\n",
    "C = np.random.randn(n, n)\n",
    "A = []\n",
    "b = []\n",
    "for i in range(p):\n",
    "    A.append(np.random.randn(n, n))\n",
    "    b.append(np.random.randn())\n",
    "\n",
    "# Define and solve the CVXPY problem.\n",
    "# Create a symmetric matrix variable.\n",
    "X = cp.Variable((n,n), PSD=True)\n",
    "# The operator >> denotes matrix inequality.\n",
    "constraints = [] # [X >> 0]\n",
    "constraints += [\n",
    "    cp.trace(A[i] @ X) == b[i] for i in range(p)\n",
    "]\n",
    "prob = cp.Problem(cp.Minimize(cp.trace(C @ X)),\n",
    "                  constraints)\n",
    "prob.solve(verbose=True)\n",
    "\n",
    "# Print result.\n",
    "print(\"The optimal value is\", prob.value)\n",
    "print(\"A solution X is\")\n",
    "print(X.value)"
   ]
  },
  {
   "cell_type": "code",
   "execution_count": null,
   "metadata": {},
   "outputs": [],
   "source": [
    "# with symmetric and >> (took 1.338e-02 seconds)."
   ]
  },
  {
   "cell_type": "code",
   "execution_count": 96,
   "metadata": {},
   "outputs": [
    {
     "data": {
      "text/plain": [
       "DeviceArray(2.15352749e-07, dtype=float64)"
      ]
     },
     "execution_count": 96,
     "metadata": {},
     "output_type": "execute_result"
    }
   ],
   "source": [
    "from opentn.transformations import create_kitaev_liouvillians, exp_operator_dt, factorize_psd, super2choi\n",
    "d, N = 2, 4\n",
    "dim = d**N\n",
    "Lvec, Lvec_odd, Lvec_even, Lnn = create_kitaev_liouvillians(N=N, d=d, gamma=1e-2)\n",
    "tau = 4\n",
    "superops_exp = []\n",
    "for i, op in enumerate([Lvec, Lvec_odd, Lvec_even, Lnn]):\n",
    "    if i == 1 or i == 3:\n",
    "        superops_exp.append(exp_operator_dt(op, tau/2, 'jax'))\n",
    "    else:\n",
    "        superops_exp.append(exp_operator_dt(op, tau, 'jax'))\n",
    "exp_Lvec, exp_Lvec_odd, exp_Lvec_even, exp_Lnn = superops_exp\n",
    "\n",
    "X1 = factorize_psd(psd=super2choi(exp_Lvec_odd))\n",
    "X2 = factorize_psd(psd=super2choi(exp_Lvec_even))\n",
    "\n",
    "from opentn.optimization import gds, frobenius_norm, model_Ys, compute_loss\n",
    "cost_n4, grads_n4, xi_n4 = gds(fn=compute_loss, x0=[X1, X2, X1], iter=25, loss_fn=frobenius_norm, model=model_Ys, rate=1.5e-9, exact = exp_Lvec, show_cost=False)\n",
    "cost_n4[-1]"
   ]
  },
  {
   "cell_type": "code",
   "execution_count": 97,
   "metadata": {},
   "outputs": [],
   "source": [
    "# now that we have the other two, lets use it for an optimization of Y1\n",
    "from opentn.optimization import model_Zs\n",
    "\n",
    "X2 = xi_n4[-1][1]\n",
    "X3 = xi_n4[-1][2]\n",
    "Y2 = X2@X2.conj().T\n",
    "Y3 = X3@X3.conj().T"
   ]
  },
  {
   "attachments": {},
   "cell_type": "markdown",
   "metadata": {},
   "source": [
    "# Preliminaries for CVXPY test:\n",
    "- implement choi matrix composition in two different ways and see if they are equivalent"
   ]
  },
  {
   "cell_type": "code",
   "execution_count": 4,
   "metadata": {},
   "outputs": [
    {
     "data": {
      "text/plain": [
       "True"
      ]
     },
     "execution_count": 4,
     "metadata": {},
     "output_type": "execute_result"
    }
   ],
   "source": [
    "# lets test the two methods for choi composition\n",
    "from opentn.transformations import link_product, choi_composition\n",
    "\n",
    "# lets do the link product of Y2 and Y3\n",
    "Y_23 = link_product(C1=Y2, C2=Y3, dim=dim)\n",
    "# now lets the same contractions with tensordot\n",
    "Y_23_tensor = choi_composition(C1=Y2, C2=Y3, dim=dim)\n",
    "np.allclose(Y_23, Y_23_tensor)"
   ]
  },
  {
   "attachments": {},
   "cell_type": "markdown",
   "metadata": {},
   "source": [
    "since this worked, now the plan is to take advantage of the built in functions from CVXPY that can handle the operations in link_product which (sadly) cannot be done with choi_composition since CVXPY does not support >2D arrays"
   ]
  },
  {
   "cell_type": "code",
   "execution_count": 98,
   "metadata": {},
   "outputs": [
    {
     "name": "stdout",
     "output_type": "stream",
     "text": [
      "(256, 256)\n",
      "(256, 256)\n",
      "(4096, 4096)\n"
     ]
    }
   ],
   "source": [
    "from opentn.transformations import super2choi\n",
    "from opentn.optimization import small2zero\n",
    "from scipy import sparse\n",
    "# firs thing to do would to gather SDP and min square syntax:\n",
    "rhs = np.array(super2choi(superop=exp_Lvec, dim=dim))\n",
    "tol = 1e-8\n",
    "srhs = sparse.csr_matrix(small2zero(rhs, tol)) # 3808 -> 2400\n",
    "print(srhs.shape)\n",
    "A = Y3@Y2\n",
    "sA = sparse.csr_matrix(small2zero(A,tol)) # 19044 -> 1440\n",
    "print(sA.shape)\n",
    "I = sparse.identity(dim)\n",
    "AxI = sparse.kron(sA, I) # 304704 -> 23040\n",
    "print(AxI.shape)"
   ]
  },
  {
   "cell_type": "code",
   "execution_count": 99,
   "metadata": {},
   "outputs": [
    {
     "data": {
      "text/plain": [
       "  C_CONTIGUOUS : True\n",
       "  F_CONTIGUOUS : False\n",
       "  OWNDATA : True\n",
       "  WRITEABLE : True\n",
       "  ALIGNED : True\n",
       "  WRITEBACKIFCOPY : False"
      ]
     },
     "execution_count": 99,
     "metadata": {},
     "output_type": "execute_result"
    }
   ],
   "source": [
    "rhs.flags"
   ]
  },
  {
   "cell_type": "code",
   "execution_count": 100,
   "metadata": {},
   "outputs": [],
   "source": [
    "# The operator >> denotes matrix inequality.\n",
    "X = cp.Variable((dim**2,dim**2), symmetric=True)\n",
    "constraints = [X >> 0]\n",
    "# lets make a lhs without partial_transpose\n",
    "# lhs =  cp.partial_trace(cp.kron(I, cp.partial_transpose(X, dims=[dim, dim], axis=0)) @ AxI, dims=[dim, dim, dim], axis=1)\n",
    "lhs =  cp.partial_trace(cp.kron(I, X) @ AxI, dims=[dim, dim, dim], axis=1)\n",
    "cost = cp.sum_squares(lhs - srhs)\n",
    "prob = cp.Problem(cp.Minimize(cost), constraints)"
   ]
  },
  {
   "cell_type": "code",
   "execution_count": 7,
   "metadata": {},
   "outputs": [],
   "source": [
    "def link_product_cvxpy(C1, C2, dim):\n",
    "    I = sparse.identity(dim)\n",
    "    C1 = sparse.csc_matrix(C1)\n",
    "    C2 = sparse.csc_matrix(C2)\n",
    "    C_12_expr = cp.partial_trace(cp.kron(I, cp.partial_transpose(C1, dims=[dim, dim], axis=0)) @ sparse.kron(C2, I), dims=[dim, dim, dim], axis=1)\n",
    "    return C_12_expr.value #it is bound to be numpy array from cp.kron function"
   ]
  },
  {
   "cell_type": "code",
   "execution_count": 65,
   "metadata": {},
   "outputs": [
    {
     "data": {
      "text/plain": [
       "True"
      ]
     },
     "execution_count": 65,
     "metadata": {},
     "output_type": "execute_result"
    }
   ],
   "source": [
    "from opentn.transformations import choi_composition, link_product\n",
    "\n",
    "np.allclose(choi_composition(X1, X2, dim), link_product_cvxpy(X1, X2, dim)) # way slower than link_product btw"
   ]
  },
  {
   "cell_type": "code",
   "execution_count": 38,
   "metadata": {},
   "outputs": [
    {
     "data": {
      "text/plain": [
       "<256x256 sparse matrix of type '<class 'numpy.complex128'>'\n",
       "\twith 19044 stored elements in Compressed Sparse Column format>"
      ]
     },
     "execution_count": 38,
     "metadata": {},
     "output_type": "execute_result"
    }
   ],
   "source": [
    "A_cp = cp.partial_transpose(sA, dims=[dim, dim], axis=1)\n",
    "A_cp.value"
   ]
  },
  {
   "cell_type": "code",
   "execution_count": 40,
   "metadata": {},
   "outputs": [
    {
     "data": {
      "text/plain": [
       "True"
      ]
     },
     "execution_count": 40,
     "metadata": {},
     "output_type": "execute_result"
    }
   ],
   "source": [
    "A_np = sparse.csr_matrix(A.reshape([dim]*4).transpose((0,3,2,1)).reshape([dim**2, dim**2]))\n",
    "np.allclose(A_np.todense(),A_cp.value.todense())"
   ]
  },
  {
   "cell_type": "code",
   "execution_count": 67,
   "metadata": {},
   "outputs": [],
   "source": [
    "# import mosek # this was producing some errors actually"
   ]
  },
  {
   "cell_type": "code",
   "execution_count": 101,
   "metadata": {},
   "outputs": [
    {
     "name": "stdout",
     "output_type": "stream",
     "text": [
      "['ECOS', 'ECOS_BB', 'MOSEK', 'OSQP', 'SCIPY', 'SCS']\n"
     ]
    }
   ],
   "source": [
    "print(cp.installed_solvers())"
   ]
  },
  {
   "cell_type": "code",
   "execution_count": 102,
   "metadata": {},
   "outputs": [
    {
     "name": "stdout",
     "output_type": "stream",
     "text": [
      "===============================================================================\n",
      "                                     CVXPY                                     \n",
      "                                     v1.3.1                                    \n",
      "===============================================================================\n",
      "(CVXPY) Jul 14 03:54:13 PM: Your problem has 65536 variables, 1 constraints, and 0 parameters.\n",
      "(CVXPY) Jul 14 03:54:13 PM: It is compliant with the following grammars: DCP, DQCP\n",
      "(CVXPY) Jul 14 03:54:13 PM: (If you need to solve this problem multiple times, but with different data, consider using parameters.)\n",
      "(CVXPY) Jul 14 03:54:13 PM: CVXPY will first compile your problem; then, it will invoke a numerical solver to obtain a solution.\n",
      "-------------------------------------------------------------------------------\n",
      "                                  Compilation                                  \n",
      "-------------------------------------------------------------------------------\n",
      "(CVXPY) Jul 14 03:54:13 PM: Compiling problem (target solver=MOSEK).\n",
      "(CVXPY) Jul 14 03:54:13 PM: Reduction chain: Complex2Real -> Dcp2Cone -> CvxAttr2Constr -> ConeMatrixStuffing -> MOSEK\n",
      "(CVXPY) Jul 14 03:54:13 PM: Applying reduction Complex2Real\n"
     ]
    },
    {
     "name": "stdout",
     "output_type": "stream",
     "text": [
      "(CVXPY) Jul 14 03:54:13 PM: Applying reduction Dcp2Cone\n",
      "(CVXPY) Jul 14 03:54:13 PM: Applying reduction CvxAttr2Constr\n",
      "(CVXPY) Jul 14 03:54:14 PM: Applying reduction ConeMatrixStuffing\n"
     ]
    }
   ],
   "source": [
    "prob.solve(solver=cp.MOSEK, verbose=True, canon_backend=cp.SCIPY_CANON_BACKEND)"
   ]
  },
  {
   "cell_type": "code",
   "execution_count": 10,
   "metadata": {},
   "outputs": [],
   "source": [
    "import mosek, sys"
   ]
  },
  {
   "cell_type": "code",
   "execution_count": 11,
   "metadata": {},
   "outputs": [
    {
     "name": "stdout",
     "output_type": "stream",
     "text": [
      "\n",
      "MOSEK Version 10.1.4(BETA) (Build date: 2023-6-26 10:07:47)\n",
      "Copyright (c) MOSEK ApS, Denmark WWW: mosek.com\n",
      "Platform: MACOSX/64-X86\n",
      "\n",
      "FlexLM\n",
      " Version                  : 11.18\n",
      " Hostname                 : Cristians-Air-2\n",
      " Host ID                  : 3ca6f6546a0e\n",
      " License path             : /Users/emiliano_gr/mosek/mosek.lic\n",
      "\n",
      "Operating system variables\n",
      " DYLD_LIBRARY_PATH        :\n"
     ]
    }
   ],
   "source": [
    "env = mosek.Env()\n",
    "env.set_Stream(mosek.streamtype.log, sys.stdout.write)\n",
    "env.echointro(1)"
   ]
  },
  {
   "cell_type": "code",
   "execution_count": 22,
   "metadata": {},
   "outputs": [
    {
     "name": "stdout",
     "output_type": "stream",
     "text": [
      "[[0.5 0.  0.  0.5]\n",
      " [0.  0.  0.  0. ]\n",
      " [0.  0.  0.  0. ]\n",
      " [0.5 0.  0.  0.5]]\n",
      "[0.00000000e+00 0.00000000e+00 5.55111512e-16 1.00000000e+00]\n",
      "[[ 0.          0.          0.70710678 -0.70710678]\n",
      " [ 0.         -1.          0.          0.        ]\n",
      " [ 1.          0.          0.          0.        ]\n",
      " [ 0.          0.         -0.70710678 -0.70710678]]\n",
      "[[0.5 0. ]\n",
      " [0.  0.5]]\n"
     ]
    }
   ],
   "source": [
    "rho = np.zeros(shape=(4,4))\n",
    "rho[0,0], rho[0,-1], rho[-1,0], rho[-1,-1] = 0.5, 0.5, 0.5, 0.5\n",
    "print(rho)\n",
    "eig, eigvecs = scipy.linalg.eigh(rho)\n",
    "\n",
    "print(eig)\n",
    "print(eigvecs)\n",
    "\n",
    "print(rho.reshape(2,2,2,2).trace(axis1=0,axis2=2))"
   ]
  },
  {
   "cell_type": "code",
   "execution_count": 6,
   "metadata": {},
   "outputs": [
    {
     "data": {
      "text/plain": [
       "array([0.00000000e+00, 0.00000000e+00, 5.55111512e-16, 1.00000000e+00])"
      ]
     },
     "execution_count": 6,
     "metadata": {},
     "output_type": "execute_result"
    }
   ],
   "source": [
    "eig"
   ]
  },
  {
   "cell_type": "code",
   "execution_count": 21,
   "metadata": {},
   "outputs": [
    {
     "name": "stdout",
     "output_type": "stream",
     "text": [
      "[[0.5 0.  0.  0. ]\n",
      " [0.  0.  0.5 0. ]\n",
      " [0.  0.5 0.  0. ]\n",
      " [0.  0.  0.  0.5]]\n",
      "[-0.5  0.5  0.5  0.5]\n",
      "[[ 0.          1.          0.          0.        ]\n",
      " [ 0.70710678  0.          0.70710678  0.        ]\n",
      " [-0.70710678  0.          0.70710678  0.        ]\n",
      " [ 0.          0.          0.          1.        ]]\n",
      "[[0.5 0. ]\n",
      " [0.  0.5]]\n"
     ]
    }
   ],
   "source": [
    "dim = 2\n",
    "rho_TB = np.reshape(rho, [dim]*4).swapaxes(0,2).reshape([dim**2, dim**2])  \n",
    "print(rho_TB)\n",
    "eig_TB, eigvecs_TB = scipy.linalg.eigh(rho_TB)\n",
    "\n",
    "print(eig_TB)\n",
    "print(eigvecs_TB)\n",
    "\n",
    "print(rho_TB.reshape(2,2,2,2).trace(axis1=0,axis2=2))"
   ]
  },
  {
   "cell_type": "code",
   "execution_count": null,
   "metadata": {},
   "outputs": [],
   "source": []
  }
 ],
 "metadata": {
  "kernelspec": {
   "display_name": "thesis",
   "language": "python",
   "name": "thesis"
  },
  "language_info": {
   "codemirror_mode": {
    "name": "ipython",
    "version": 3
   },
   "file_extension": ".py",
   "mimetype": "text/x-python",
   "name": "python",
   "nbconvert_exporter": "python",
   "pygments_lexer": "ipython3",
   "version": "3.10.4"
  },
  "orig_nbformat": 4
 },
 "nbformat": 4,
 "nbformat_minor": 2
}
