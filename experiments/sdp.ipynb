{
 "cells": [
  {
   "cell_type": "code",
   "execution_count": 7,
   "metadata": {},
   "outputs": [
    {
     "name": "stdout",
     "output_type": "stream",
     "text": [
      "The autoreload extension is already loaded. To reload it, use:\n",
      "  %reload_ext autoreload\n"
     ]
    }
   ],
   "source": [
    "import sys\n",
    "sys.path.append('..')\n",
    "# reload local packages automatically\n",
    "%load_ext autoreload\n",
    "%autoreload 2\n",
    "\n",
    "from jax import config\n",
    "config.update(\"jax_enable_x64\", True)\n",
    "\n",
    "# Import packages.\n",
    "import cvxpy as cp\n",
    "import numpy as np\n",
    "import scipy"
   ]
  },
  {
   "cell_type": "code",
   "execution_count": 23,
   "metadata": {},
   "outputs": [
    {
     "name": "stdout",
     "output_type": "stream",
     "text": [
      "===============================================================================\n",
      "                                     CVXPY                                     \n",
      "                                     v1.3.1                                    \n",
      "===============================================================================\n",
      "(CVXPY) Jul 10 02:16:00 PM: Your problem has 9 variables, 3 constraints, and 0 parameters.\n",
      "(CVXPY) Jul 10 02:16:00 PM: It is compliant with the following grammars: DCP, DQCP\n",
      "(CVXPY) Jul 10 02:16:00 PM: (If you need to solve this problem multiple times, but with different data, consider using parameters.)\n",
      "(CVXPY) Jul 10 02:16:00 PM: CVXPY will first compile your problem; then, it will invoke a numerical solver to obtain a solution.\n",
      "-------------------------------------------------------------------------------\n",
      "                                  Compilation                                  \n",
      "-------------------------------------------------------------------------------\n",
      "(CVXPY) Jul 10 02:16:00 PM: Compiling problem (target solver=SCS).\n",
      "(CVXPY) Jul 10 02:16:00 PM: Reduction chain: Dcp2Cone -> CvxAttr2Constr -> ConeMatrixStuffing -> SCS\n",
      "(CVXPY) Jul 10 02:16:00 PM: Applying reduction Dcp2Cone\n",
      "(CVXPY) Jul 10 02:16:00 PM: Applying reduction CvxAttr2Constr\n",
      "(CVXPY) Jul 10 02:16:00 PM: Applying reduction ConeMatrixStuffing\n",
      "(CVXPY) Jul 10 02:16:00 PM: Applying reduction SCS\n",
      "(CVXPY) Jul 10 02:16:00 PM: Finished problem compilation (took 1.343e-02 seconds).\n",
      "-------------------------------------------------------------------------------\n",
      "                                Numerical solver                               \n",
      "-------------------------------------------------------------------------------\n",
      "(CVXPY) Jul 10 02:16:00 PM: Invoking solver SCS  to obtain a solution.\n"
     ]
    },
    {
     "name": "stdout",
     "output_type": "stream",
     "text": [
      "------------------------------------------------------------------\n",
      "\t       SCS v3.2.3 - Splitting Conic Solver\n",
      "\t(c) Brendan O'Donoghue, Stanford University, 2012\n",
      "------------------------------------------------------------------\n",
      "problem:  variables n: 6, constraints m: 9\n",
      "cones: \t  z: primal zero / dual free vars: 3\n",
      "\t  s: psd vars: 6, ssize: 1\n",
      "settings: eps_abs: 1.0e-05, eps_rel: 1.0e-05, eps_infeas: 1.0e-07\n",
      "\t  alpha: 1.50, scale: 1.00e-01, adaptive_scale: 1\n",
      "\t  max_iters: 100000, normalize: 1, rho_x: 1.00e-06\n",
      "\t  acceleration_lookback: 10, acceleration_interval: 10\n",
      "lin-sys:  sparse-direct-amd-qdldl\n",
      "\t  nnz(A): 24, nnz(P): 0\n",
      "------------------------------------------------------------------\n",
      " iter | pri res | dua res |   gap   |   obj   |  scale  | time (s)\n",
      "------------------------------------------------------------------\n",
      "     0| 3.08e+01  3.02e+00  6.83e+01 -3.09e+01  1.00e-01  4.23e-03 \n",
      "   125| 9.31e-07  2.37e-07  1.86e-06  2.65e+00  5.17e-01  3.69e-02 \n",
      "------------------------------------------------------------------\n",
      "status:  solved\n",
      "timings: total: 4.22e-02s = setup: 2.90e-03s + solve: 3.93e-02s\n",
      "\t lin-sys: 6.33e-05s, cones: 9.01e-03s, accel: 5.35e-05s\n",
      "------------------------------------------------------------------\n",
      "objective = 2.654348\n",
      "------------------------------------------------------------------\n",
      "-------------------------------------------------------------------------------\n",
      "                                    Summary                                    \n",
      "-------------------------------------------------------------------------------\n",
      "(CVXPY) Jul 10 02:16:00 PM: Problem status: optimal\n",
      "(CVXPY) Jul 10 02:16:00 PM: Optimal value: 2.654e+00\n",
      "(CVXPY) Jul 10 02:16:00 PM: Compilation took 1.343e-02 seconds\n",
      "(CVXPY) Jul 10 02:16:00 PM: Solver (including time spent in interface) took 4.554e-02 seconds\n",
      "The optimal value is 2.6543470585557296\n",
      "A solution X is\n",
      "[[ 1.60805504 -0.59770125 -0.69575821]\n",
      " [-0.59770125  0.22228555  0.24689067]\n",
      " [-0.69575821  0.24689067  1.39679134]]\n"
     ]
    }
   ],
   "source": [
    "# Generate a random SDP.\n",
    "n = 3\n",
    "p = 3\n",
    "np.random.seed(1)\n",
    "C = np.random.randn(n, n)\n",
    "A = []\n",
    "b = []\n",
    "for i in range(p):\n",
    "    A.append(np.random.randn(n, n))\n",
    "    b.append(np.random.randn())\n",
    "\n",
    "# Define and solve the CVXPY problem.\n",
    "# Create a symmetric matrix variable.\n",
    "X = cp.Variable((n,n), PSD=True)\n",
    "# The operator >> denotes matrix inequality.\n",
    "constraints = [] # [X >> 0]\n",
    "constraints += [\n",
    "    cp.trace(A[i] @ X) == b[i] for i in range(p)\n",
    "]\n",
    "prob = cp.Problem(cp.Minimize(cp.trace(C @ X)),\n",
    "                  constraints)\n",
    "prob.solve(verbose=True)\n",
    "\n",
    "# Print result.\n",
    "print(\"The optimal value is\", prob.value)\n",
    "print(\"A solution X is\")\n",
    "print(X.value)"
   ]
  },
  {
   "cell_type": "code",
   "execution_count": null,
   "metadata": {},
   "outputs": [],
   "source": [
    "# with symmetric and >> (took 1.338e-02 seconds)."
   ]
  },
  {
   "cell_type": "code",
   "execution_count": 8,
   "metadata": {},
   "outputs": [
    {
     "data": {
      "text/plain": [
       "DeviceArray(2.15352749e-07, dtype=float64)"
      ]
     },
     "execution_count": 8,
     "metadata": {},
     "output_type": "execute_result"
    }
   ],
   "source": [
    "from opentn.transformations import create_kitaev_liouvillians, exp_operator_dt, factorize_psd, super2choi\n",
    "d, N = 2, 4\n",
    "dim = d**N\n",
    "Lvec, Lvec_odd, Lvec_even, Lnn = create_kitaev_liouvillians(N=N, d=d, gamma=1e-2)\n",
    "tau = 4\n",
    "superops_exp = []\n",
    "for i, op in enumerate([Lvec, Lvec_odd, Lvec_even, Lnn]):\n",
    "    if i == 1 or i == 3:\n",
    "        superops_exp.append(exp_operator_dt(op, tau/2, 'jax'))\n",
    "    else:\n",
    "        superops_exp.append(exp_operator_dt(op, tau, 'jax'))\n",
    "exp_Lvec, exp_Lvec_odd, exp_Lvec_even, exp_Lnn = superops_exp\n",
    "\n",
    "X1 = factorize_psd(psd=super2choi(exp_Lvec_odd))\n",
    "X2 = factorize_psd(psd=super2choi(exp_Lvec_even))\n",
    "\n",
    "from opentn.optimization import gds, frobenius_norm, model_Ys, compute_loss\n",
    "cost_n4, grads_n4, xi_n4 = gds(fn=compute_loss, x0=[X1, X2, X1], iter=25, loss_fn=frobenius_norm, model=model_Ys, rate=1.5e-9, exact = exp_Lvec, show_cost=False)\n",
    "cost_n4[-1]"
   ]
  },
  {
   "cell_type": "code",
   "execution_count": 13,
   "metadata": {},
   "outputs": [],
   "source": [
    "# now that we have the other two, lets use it for an optimization of Y1\n",
    "from opentn.optimization import model_Zs\n",
    "\n",
    "X2 = xi_n4[-1][1]\n",
    "X3 = xi_n4[-1][2]\n",
    "Y2 = X2@X2.conj().T\n",
    "Y3 = X3@X3.conj().T"
   ]
  },
  {
   "attachments": {},
   "cell_type": "markdown",
   "metadata": {},
   "source": [
    "# Preliminaries for CVXPY test:\n",
    "- implement choi matrix composition in two different ways and see if they are equivalent"
   ]
  },
  {
   "cell_type": "code",
   "execution_count": 4,
   "metadata": {},
   "outputs": [
    {
     "data": {
      "text/plain": [
       "True"
      ]
     },
     "execution_count": 4,
     "metadata": {},
     "output_type": "execute_result"
    }
   ],
   "source": [
    "# lets test the two methods for choi composition\n",
    "from opentn.transformations import link_product, choi_composition\n",
    "\n",
    "# lets do the link product of Y2 and Y3\n",
    "Y_23 = link_product(C1=Y2, C2=Y3, dim=dim)\n",
    "# now lets the same contractions with tensordot\n",
    "Y_23_tensor = choi_composition(C1=Y2, C2=Y3, dim=dim)\n",
    "np.allclose(Y_23, Y_23_tensor)"
   ]
  },
  {
   "attachments": {},
   "cell_type": "markdown",
   "metadata": {},
   "source": [
    "since this worked, now the plan is to take advantage of the built in functions from CVXPY that can handle the operations in link_product which (sadly) cannot be done with choi_composition since CVXPY does not support >2D arrays"
   ]
  },
  {
   "cell_type": "code",
   "execution_count": 23,
   "metadata": {},
   "outputs": [
    {
     "name": "stdout",
     "output_type": "stream",
     "text": [
      "(256, 256)\n",
      "(256, 256)\n",
      "(4096, 4096)\n"
     ]
    }
   ],
   "source": [
    "from opentn.transformations import super2choi\n",
    "from opentn.optimization import small2zero\n",
    "from scipy import sparse\n",
    "# firs thing to do would to gather SDP and min square syntax:\n",
    "rhs = np.array(super2choi(superop=exp_Lvec, dim=dim))\n",
    "tol = 1e-8\n",
    "srhs = sparse.csr_matrix(small2zero(rhs, tol)) # 3808 -> 2400\n",
    "print(srhs.shape)\n",
    "A = Y3@Y2\n",
    "sA = sparse.csr_matrix(small2zero(A,tol)) # 19044 -> 1440\n",
    "print(sA.shape)\n",
    "I = sparse.identity(dim)\n",
    "AxI = sparse.kron(sA, I) # 304704 -> 23040\n",
    "print(AxI.shape)"
   ]
  },
  {
   "cell_type": "code",
   "execution_count": 99,
   "metadata": {},
   "outputs": [
    {
     "data": {
      "text/plain": [
       "  C_CONTIGUOUS : True\n",
       "  F_CONTIGUOUS : False\n",
       "  OWNDATA : True\n",
       "  WRITEABLE : True\n",
       "  ALIGNED : True\n",
       "  WRITEBACKIFCOPY : False"
      ]
     },
     "execution_count": 99,
     "metadata": {},
     "output_type": "execute_result"
    }
   ],
   "source": [
    "rhs.flags"
   ]
  },
  {
   "cell_type": "code",
   "execution_count": 100,
   "metadata": {},
   "outputs": [],
   "source": [
    "# The operator >> denotes matrix inequality.\n",
    "X = cp.Variable((dim**2,dim**2), symmetric=True)\n",
    "constraints = [X >> 0]\n",
    "# lets make a lhs without partial_transpose\n",
    "# lhs =  cp.partial_trace(cp.kron(I, cp.partial_transpose(X, dims=[dim, dim], axis=0)) @ AxI, dims=[dim, dim, dim], axis=1)\n",
    "lhs =  cp.partial_trace(cp.kron(I, X) @ AxI, dims=[dim, dim, dim], axis=1)\n",
    "cost = cp.sum_squares(lhs - srhs)\n",
    "prob = cp.Problem(cp.Minimize(cost), constraints)"
   ]
  },
  {
   "cell_type": "code",
   "execution_count": 7,
   "metadata": {},
   "outputs": [],
   "source": [
    "def link_product_cvxpy(C1, C2, dim):\n",
    "    I = sparse.identity(dim)\n",
    "    C1 = sparse.csc_matrix(C1)\n",
    "    C2 = sparse.csc_matrix(C2)\n",
    "    C_12_expr = cp.partial_trace(cp.kron(I, cp.partial_transpose(C1, dims=[dim, dim], axis=0)) @ sparse.kron(C2, I), dims=[dim, dim, dim], axis=1)\n",
    "    return C_12_expr.value #it is bound to be numpy array from cp.kron function"
   ]
  },
  {
   "cell_type": "code",
   "execution_count": 65,
   "metadata": {},
   "outputs": [
    {
     "data": {
      "text/plain": [
       "True"
      ]
     },
     "execution_count": 65,
     "metadata": {},
     "output_type": "execute_result"
    }
   ],
   "source": [
    "from opentn.transformations import choi_composition, link_product\n",
    "\n",
    "np.allclose(choi_composition(X1, X2, dim), link_product_cvxpy(X1, X2, dim)) # way slower than link_product btw"
   ]
  },
  {
   "cell_type": "code",
   "execution_count": 38,
   "metadata": {},
   "outputs": [
    {
     "data": {
      "text/plain": [
       "<256x256 sparse matrix of type '<class 'numpy.complex128'>'\n",
       "\twith 19044 stored elements in Compressed Sparse Column format>"
      ]
     },
     "execution_count": 38,
     "metadata": {},
     "output_type": "execute_result"
    }
   ],
   "source": [
    "A_cp = cp.partial_transpose(sA, dims=[dim, dim], axis=1)\n",
    "A_cp.value"
   ]
  },
  {
   "cell_type": "code",
   "execution_count": 40,
   "metadata": {},
   "outputs": [
    {
     "data": {
      "text/plain": [
       "True"
      ]
     },
     "execution_count": 40,
     "metadata": {},
     "output_type": "execute_result"
    }
   ],
   "source": [
    "A_np = sparse.csr_matrix(A.reshape([dim]*4).transpose((0,3,2,1)).reshape([dim**2, dim**2]))\n",
    "np.allclose(A_np.todense(),A_cp.value.todense())"
   ]
  },
  {
   "cell_type": "code",
   "execution_count": 67,
   "metadata": {},
   "outputs": [],
   "source": [
    "# import mosek # this was producing some errors actually"
   ]
  },
  {
   "cell_type": "code",
   "execution_count": 101,
   "metadata": {},
   "outputs": [
    {
     "name": "stdout",
     "output_type": "stream",
     "text": [
      "['ECOS', 'ECOS_BB', 'MOSEK', 'OSQP', 'SCIPY', 'SCS']\n"
     ]
    }
   ],
   "source": [
    "print(cp.installed_solvers())"
   ]
  },
  {
   "cell_type": "code",
   "execution_count": 102,
   "metadata": {},
   "outputs": [
    {
     "name": "stdout",
     "output_type": "stream",
     "text": [
      "===============================================================================\n",
      "                                     CVXPY                                     \n",
      "                                     v1.3.1                                    \n",
      "===============================================================================\n",
      "(CVXPY) Jul 14 03:54:13 PM: Your problem has 65536 variables, 1 constraints, and 0 parameters.\n",
      "(CVXPY) Jul 14 03:54:13 PM: It is compliant with the following grammars: DCP, DQCP\n",
      "(CVXPY) Jul 14 03:54:13 PM: (If you need to solve this problem multiple times, but with different data, consider using parameters.)\n",
      "(CVXPY) Jul 14 03:54:13 PM: CVXPY will first compile your problem; then, it will invoke a numerical solver to obtain a solution.\n",
      "-------------------------------------------------------------------------------\n",
      "                                  Compilation                                  \n",
      "-------------------------------------------------------------------------------\n",
      "(CVXPY) Jul 14 03:54:13 PM: Compiling problem (target solver=MOSEK).\n",
      "(CVXPY) Jul 14 03:54:13 PM: Reduction chain: Complex2Real -> Dcp2Cone -> CvxAttr2Constr -> ConeMatrixStuffing -> MOSEK\n",
      "(CVXPY) Jul 14 03:54:13 PM: Applying reduction Complex2Real\n"
     ]
    },
    {
     "name": "stdout",
     "output_type": "stream",
     "text": [
      "(CVXPY) Jul 14 03:54:13 PM: Applying reduction Dcp2Cone\n",
      "(CVXPY) Jul 14 03:54:13 PM: Applying reduction CvxAttr2Constr\n",
      "(CVXPY) Jul 14 03:54:14 PM: Applying reduction ConeMatrixStuffing\n"
     ]
    },
    {
     "ename": "KeyboardInterrupt",
     "evalue": "",
     "output_type": "error",
     "traceback": [
      "\u001b[0;31m---------------------------------------------------------------------------\u001b[0m",
      "\u001b[0;31mKeyboardInterrupt\u001b[0m                         Traceback (most recent call last)",
      "\u001b[1;32m/Users/emiliano_gr/Desktop/Masters/fourth_semester/Thesis/coding/purifications-code/experiments/sdp.ipynb Cell 18\u001b[0m in \u001b[0;36m<cell line: 1>\u001b[0;34m()\u001b[0m\n\u001b[0;32m----> <a href='vscode-notebook-cell:/Users/emiliano_gr/Desktop/Masters/fourth_semester/Thesis/coding/purifications-code/experiments/sdp.ipynb#X24sZmlsZQ%3D%3D?line=0'>1</a>\u001b[0m prob\u001b[39m.\u001b[39;49msolve(solver\u001b[39m=\u001b[39;49mcp\u001b[39m.\u001b[39;49mMOSEK, verbose\u001b[39m=\u001b[39;49m\u001b[39mTrue\u001b[39;49;00m, canon_backend\u001b[39m=\u001b[39;49mcp\u001b[39m.\u001b[39;49mSCIPY_CANON_BACKEND)\n",
      "File \u001b[0;32m~/opt/anaconda3/envs/thesis/lib/python3.10/site-packages/cvxpy/problems/problem.py:493\u001b[0m, in \u001b[0;36mProblem.solve\u001b[0;34m(self, *args, **kwargs)\u001b[0m\n\u001b[1;32m    491\u001b[0m \u001b[39melse\u001b[39;00m:\n\u001b[1;32m    492\u001b[0m     solve_func \u001b[39m=\u001b[39m Problem\u001b[39m.\u001b[39m_solve\n\u001b[0;32m--> 493\u001b[0m \u001b[39mreturn\u001b[39;00m solve_func(\u001b[39mself\u001b[39;49m, \u001b[39m*\u001b[39;49margs, \u001b[39m*\u001b[39;49m\u001b[39m*\u001b[39;49mkwargs)\n",
      "File \u001b[0;32m~/opt/anaconda3/envs/thesis/lib/python3.10/site-packages/cvxpy/problems/problem.py:1054\u001b[0m, in \u001b[0;36mProblem._solve\u001b[0;34m(self, solver, warm_start, verbose, gp, qcp, requires_grad, enforce_dpp, ignore_dpp, canon_backend, **kwargs)\u001b[0m\n\u001b[1;32m   1051\u001b[0m         \u001b[39mself\u001b[39m\u001b[39m.\u001b[39munpack(chain\u001b[39m.\u001b[39mretrieve(soln))\n\u001b[1;32m   1052\u001b[0m         \u001b[39mreturn\u001b[39;00m \u001b[39mself\u001b[39m\u001b[39m.\u001b[39mvalue\n\u001b[0;32m-> 1054\u001b[0m data, solving_chain, inverse_data \u001b[39m=\u001b[39m \u001b[39mself\u001b[39;49m\u001b[39m.\u001b[39;49mget_problem_data(\n\u001b[1;32m   1055\u001b[0m     solver, gp, enforce_dpp, ignore_dpp, verbose, canon_backend, kwargs\n\u001b[1;32m   1056\u001b[0m )\n\u001b[1;32m   1058\u001b[0m \u001b[39mif\u001b[39;00m verbose:\n\u001b[1;32m   1059\u001b[0m     \u001b[39mprint\u001b[39m(_NUM_SOLVER_STR)\n",
      "File \u001b[0;32m~/opt/anaconda3/envs/thesis/lib/python3.10/site-packages/cvxpy/problems/problem.py:681\u001b[0m, in \u001b[0;36mProblem.get_problem_data\u001b[0;34m(self, solver, gp, enforce_dpp, ignore_dpp, verbose, canon_backend, solver_opts)\u001b[0m\n\u001b[1;32m    678\u001b[0m     s\u001b[39m.\u001b[39mLOGGER\u001b[39m.\u001b[39minfo(\n\u001b[1;32m    679\u001b[0m              \u001b[39m'\u001b[39m\u001b[39mCompiling problem (target solver=\u001b[39m\u001b[39m%s\u001b[39;00m\u001b[39m).\u001b[39m\u001b[39m'\u001b[39m, solver_name)\n\u001b[1;32m    680\u001b[0m     s\u001b[39m.\u001b[39mLOGGER\u001b[39m.\u001b[39minfo(\u001b[39m'\u001b[39m\u001b[39mReduction chain: \u001b[39m\u001b[39m%s\u001b[39;00m\u001b[39m'\u001b[39m, reduction_chain_str)\n\u001b[0;32m--> 681\u001b[0m data, inverse_data \u001b[39m=\u001b[39m solving_chain\u001b[39m.\u001b[39;49mapply(\u001b[39mself\u001b[39;49m, verbose)\n\u001b[1;32m    682\u001b[0m safe_to_cache \u001b[39m=\u001b[39m (\n\u001b[1;32m    683\u001b[0m     \u001b[39misinstance\u001b[39m(data, \u001b[39mdict\u001b[39m)\n\u001b[1;32m    684\u001b[0m     \u001b[39mand\u001b[39;00m s\u001b[39m.\u001b[39mPARAM_PROB \u001b[39min\u001b[39;00m data\n\u001b[1;32m    685\u001b[0m     \u001b[39mand\u001b[39;00m \u001b[39mnot\u001b[39;00m \u001b[39many\u001b[39m(\u001b[39misinstance\u001b[39m(reduction, EvalParams)\n\u001b[1;32m    686\u001b[0m                 \u001b[39mfor\u001b[39;00m reduction \u001b[39min\u001b[39;00m solving_chain\u001b[39m.\u001b[39mreductions)\n\u001b[1;32m    687\u001b[0m )\n\u001b[1;32m    688\u001b[0m \u001b[39mself\u001b[39m\u001b[39m.\u001b[39m_compilation_time \u001b[39m=\u001b[39m time\u001b[39m.\u001b[39mtime() \u001b[39m-\u001b[39m start\n",
      "File \u001b[0;32m~/opt/anaconda3/envs/thesis/lib/python3.10/site-packages/cvxpy/reductions/chain.py:76\u001b[0m, in \u001b[0;36mChain.apply\u001b[0;34m(self, problem, verbose)\u001b[0m\n\u001b[1;32m     74\u001b[0m     \u001b[39mif\u001b[39;00m verbose:\n\u001b[1;32m     75\u001b[0m         s\u001b[39m.\u001b[39mLOGGER\u001b[39m.\u001b[39minfo(\u001b[39m'\u001b[39m\u001b[39mApplying reduction \u001b[39m\u001b[39m%s\u001b[39;00m\u001b[39m'\u001b[39m, \u001b[39mtype\u001b[39m(r)\u001b[39m.\u001b[39m\u001b[39m__name__\u001b[39m)\n\u001b[0;32m---> 76\u001b[0m     problem, inv \u001b[39m=\u001b[39m r\u001b[39m.\u001b[39;49mapply(problem)\n\u001b[1;32m     77\u001b[0m     inverse_data\u001b[39m.\u001b[39mappend(inv)\n\u001b[1;32m     78\u001b[0m \u001b[39mreturn\u001b[39;00m problem, inverse_data\n",
      "File \u001b[0;32m~/opt/anaconda3/envs/thesis/lib/python3.10/site-packages/cvxpy/reductions/dcp2cone/cone_matrix_stuffing.py:354\u001b[0m, in \u001b[0;36mConeMatrixStuffing.apply\u001b[0;34m(self, problem)\u001b[0m\n\u001b[1;32m    352\u001b[0m \u001b[39m# Batch expressions together, then split apart.\u001b[39;00m\n\u001b[1;32m    353\u001b[0m expr_list \u001b[39m=\u001b[39m [arg \u001b[39mfor\u001b[39;00m c \u001b[39min\u001b[39;00m ordered_cons \u001b[39mfor\u001b[39;00m arg \u001b[39min\u001b[39;00m c\u001b[39m.\u001b[39margs]\n\u001b[0;32m--> 354\u001b[0m params_to_problem_data \u001b[39m=\u001b[39m extractor\u001b[39m.\u001b[39;49maffine(expr_list)\n\u001b[1;32m    356\u001b[0m inverse_data\u001b[39m.\u001b[39mminimize \u001b[39m=\u001b[39m \u001b[39mtype\u001b[39m(problem\u001b[39m.\u001b[39mobjective) \u001b[39m==\u001b[39m Minimize\n\u001b[1;32m    357\u001b[0m new_prob \u001b[39m=\u001b[39m ParamConeProg(params_to_c,\n\u001b[1;32m    358\u001b[0m                          flattened_variable,\n\u001b[1;32m    359\u001b[0m                          params_to_problem_data,\n\u001b[0;32m   (...)\u001b[0m\n\u001b[1;32m    364\u001b[0m                          inverse_data\u001b[39m.\u001b[39mparam_id_map,\n\u001b[1;32m    365\u001b[0m                          P\u001b[39m=\u001b[39mparams_to_P)\n",
      "File \u001b[0;32m~/opt/anaconda3/envs/thesis/lib/python3.10/site-packages/cvxpy/utilities/coeff_extractor.py:84\u001b[0m, in \u001b[0;36mCoeffExtractor.affine\u001b[0;34m(self, expr)\u001b[0m\n\u001b[1;32m     82\u001b[0m num_rows \u001b[39m=\u001b[39m \u001b[39msum\u001b[39m([e\u001b[39m.\u001b[39msize \u001b[39mfor\u001b[39;00m e \u001b[39min\u001b[39;00m expr_list])\n\u001b[1;32m     83\u001b[0m op_list \u001b[39m=\u001b[39m [e\u001b[39m.\u001b[39mcanonical_form[\u001b[39m0\u001b[39m] \u001b[39mfor\u001b[39;00m e \u001b[39min\u001b[39;00m expr_list]\n\u001b[0;32m---> 84\u001b[0m \u001b[39mreturn\u001b[39;00m canonInterface\u001b[39m.\u001b[39;49mget_problem_matrix(op_list,\n\u001b[1;32m     85\u001b[0m                                          \u001b[39mself\u001b[39;49m\u001b[39m.\u001b[39;49mx_length,\n\u001b[1;32m     86\u001b[0m                                          \u001b[39mself\u001b[39;49m\u001b[39m.\u001b[39;49mid_map,\n\u001b[1;32m     87\u001b[0m                                          \u001b[39mself\u001b[39;49m\u001b[39m.\u001b[39;49mparam_to_size,\n\u001b[1;32m     88\u001b[0m                                          \u001b[39mself\u001b[39;49m\u001b[39m.\u001b[39;49mparam_id_map,\n\u001b[1;32m     89\u001b[0m                                          num_rows,\n\u001b[1;32m     90\u001b[0m                                          \u001b[39mself\u001b[39;49m\u001b[39m.\u001b[39;49mcanon_backend)\n",
      "File \u001b[0;32m~/opt/anaconda3/envs/thesis/lib/python3.10/site-packages/cvxpy/cvxcore/python/canonInterface.py:395\u001b[0m, in \u001b[0;36mget_problem_matrix\u001b[0;34m(linOps, var_length, id_to_col, param_to_size, param_to_col, constr_length, canon_backend)\u001b[0m\n\u001b[1;32m    391\u001b[0m \u001b[39mif\u001b[39;00m \u001b[39mlen\u001b[39m(linOps) \u001b[39m>\u001b[39m \u001b[39m0\u001b[39m:\n\u001b[1;32m    392\u001b[0m     backend \u001b[39m=\u001b[39m CanonBackend\u001b[39m.\u001b[39mget_backend(canon_backend, id_to_col,\n\u001b[1;32m    393\u001b[0m                                                   param_to_size, param_to_col,\n\u001b[1;32m    394\u001b[0m                                                   param_size_plus_one, var_length)\n\u001b[0;32m--> 395\u001b[0m     A_py \u001b[39m=\u001b[39m backend\u001b[39m.\u001b[39;49mbuild_matrix(linOps)\n\u001b[1;32m    396\u001b[0m \u001b[39melse\u001b[39;00m:\n\u001b[1;32m    397\u001b[0m     A_py \u001b[39m=\u001b[39m sp\u001b[39m.\u001b[39mcsc_matrix(((), ((), ())), output_shape)\n",
      "File \u001b[0;32m~/opt/anaconda3/envs/thesis/lib/python3.10/site-packages/cvxpy/lin_ops/canon_backend.py:140\u001b[0m, in \u001b[0;36mPythonCanonBackend.build_matrix\u001b[0;34m(self, lin_ops)\u001b[0m\n\u001b[1;32m    138\u001b[0m lin_op_rows \u001b[39m=\u001b[39m np\u001b[39m.\u001b[39mprod(lin_op\u001b[39m.\u001b[39mshape)\n\u001b[1;32m    139\u001b[0m empty_view \u001b[39m=\u001b[39m \u001b[39mself\u001b[39m\u001b[39m.\u001b[39mget_empty_view()\n\u001b[0;32m--> 140\u001b[0m lin_op_tensor \u001b[39m=\u001b[39m \u001b[39mself\u001b[39;49m\u001b[39m.\u001b[39;49mprocess_constraint(lin_op, empty_view)\n\u001b[1;32m    141\u001b[0m constraint_res\u001b[39m.\u001b[39mappend((lin_op_tensor\u001b[39m.\u001b[39mget_tensor_representation(row_offset)))\n\u001b[1;32m    142\u001b[0m row_offset \u001b[39m+\u001b[39m\u001b[39m=\u001b[39m lin_op_rows\n",
      "File \u001b[0;32m~/opt/anaconda3/envs/thesis/lib/python3.10/site-packages/cvxpy/lin_ops/canon_backend.py:182\u001b[0m, in \u001b[0;36mPythonCanonBackend.process_constraint\u001b[0;34m(self, lin_op, empty_view)\u001b[0m\n\u001b[1;32m    180\u001b[0m func \u001b[39m=\u001b[39m \u001b[39mself\u001b[39m\u001b[39m.\u001b[39mget_func(lin_op\u001b[39m.\u001b[39mtype)\n\u001b[1;32m    181\u001b[0m \u001b[39mif\u001b[39;00m lin_op\u001b[39m.\u001b[39mtype \u001b[39min\u001b[39;00m {\u001b[39m\"\u001b[39m\u001b[39mvstack\u001b[39m\u001b[39m\"\u001b[39m, \u001b[39m\"\u001b[39m\u001b[39mhstack\u001b[39m\u001b[39m\"\u001b[39m}:\n\u001b[0;32m--> 182\u001b[0m     \u001b[39mreturn\u001b[39;00m func(lin_op, empty_view)\n\u001b[1;32m    184\u001b[0m res \u001b[39m=\u001b[39m \u001b[39mNone\u001b[39;00m\n\u001b[1;32m    185\u001b[0m \u001b[39mfor\u001b[39;00m arg \u001b[39min\u001b[39;00m lin_op\u001b[39m.\u001b[39margs:\n",
      "File \u001b[0;32m~/opt/anaconda3/envs/thesis/lib/python3.10/site-packages/cvxpy/lin_ops/canon_backend.py:395\u001b[0m, in \u001b[0;36mPythonCanonBackend.hstack\u001b[0;34m(self, lin, view)\u001b[0m\n\u001b[1;32m    393\u001b[0m res \u001b[39m=\u001b[39m \u001b[39mNone\u001b[39;00m\n\u001b[1;32m    394\u001b[0m \u001b[39mfor\u001b[39;00m arg \u001b[39min\u001b[39;00m lin\u001b[39m.\u001b[39margs:\n\u001b[0;32m--> 395\u001b[0m     arg_view \u001b[39m=\u001b[39m \u001b[39mself\u001b[39;49m\u001b[39m.\u001b[39;49mprocess_constraint(arg, view)\n\u001b[1;32m    396\u001b[0m     func \u001b[39m=\u001b[39m \u001b[39mself\u001b[39m\u001b[39m.\u001b[39mget_stack_func(total_rows, offset)\n\u001b[1;32m    397\u001b[0m     arg_view\u001b[39m.\u001b[39mapply_all(func)\n",
      "File \u001b[0;32m~/opt/anaconda3/envs/thesis/lib/python3.10/site-packages/cvxpy/lin_ops/canon_backend.py:186\u001b[0m, in \u001b[0;36mPythonCanonBackend.process_constraint\u001b[0;34m(self, lin_op, empty_view)\u001b[0m\n\u001b[1;32m    184\u001b[0m res \u001b[39m=\u001b[39m \u001b[39mNone\u001b[39;00m\n\u001b[1;32m    185\u001b[0m \u001b[39mfor\u001b[39;00m arg \u001b[39min\u001b[39;00m lin_op\u001b[39m.\u001b[39margs:\n\u001b[0;32m--> 186\u001b[0m     arg_coeff \u001b[39m=\u001b[39m \u001b[39mself\u001b[39;49m\u001b[39m.\u001b[39;49mprocess_constraint(arg, empty_view)\n\u001b[1;32m    187\u001b[0m     arg_res \u001b[39m=\u001b[39m func(lin_op, arg_coeff)\n\u001b[1;32m    188\u001b[0m     \u001b[39mif\u001b[39;00m res \u001b[39mis\u001b[39;00m \u001b[39mNone\u001b[39;00m:\n",
      "File \u001b[0;32m~/opt/anaconda3/envs/thesis/lib/python3.10/site-packages/cvxpy/lin_ops/canon_backend.py:186\u001b[0m, in \u001b[0;36mPythonCanonBackend.process_constraint\u001b[0;34m(self, lin_op, empty_view)\u001b[0m\n\u001b[1;32m    184\u001b[0m res \u001b[39m=\u001b[39m \u001b[39mNone\u001b[39;00m\n\u001b[1;32m    185\u001b[0m \u001b[39mfor\u001b[39;00m arg \u001b[39min\u001b[39;00m lin_op\u001b[39m.\u001b[39margs:\n\u001b[0;32m--> 186\u001b[0m     arg_coeff \u001b[39m=\u001b[39m \u001b[39mself\u001b[39;49m\u001b[39m.\u001b[39;49mprocess_constraint(arg, empty_view)\n\u001b[1;32m    187\u001b[0m     arg_res \u001b[39m=\u001b[39m func(lin_op, arg_coeff)\n\u001b[1;32m    188\u001b[0m     \u001b[39mif\u001b[39;00m res \u001b[39mis\u001b[39;00m \u001b[39mNone\u001b[39;00m:\n",
      "File \u001b[0;32m~/opt/anaconda3/envs/thesis/lib/python3.10/site-packages/cvxpy/lin_ops/canon_backend.py:182\u001b[0m, in \u001b[0;36mPythonCanonBackend.process_constraint\u001b[0;34m(self, lin_op, empty_view)\u001b[0m\n\u001b[1;32m    180\u001b[0m func \u001b[39m=\u001b[39m \u001b[39mself\u001b[39m\u001b[39m.\u001b[39mget_func(lin_op\u001b[39m.\u001b[39mtype)\n\u001b[1;32m    181\u001b[0m \u001b[39mif\u001b[39;00m lin_op\u001b[39m.\u001b[39mtype \u001b[39min\u001b[39;00m {\u001b[39m\"\u001b[39m\u001b[39mvstack\u001b[39m\u001b[39m\"\u001b[39m, \u001b[39m\"\u001b[39m\u001b[39mhstack\u001b[39m\u001b[39m\"\u001b[39m}:\n\u001b[0;32m--> 182\u001b[0m     \u001b[39mreturn\u001b[39;00m func(lin_op, empty_view)\n\u001b[1;32m    184\u001b[0m res \u001b[39m=\u001b[39m \u001b[39mNone\u001b[39;00m\n\u001b[1;32m    185\u001b[0m \u001b[39mfor\u001b[39;00m arg \u001b[39min\u001b[39;00m lin_op\u001b[39m.\u001b[39margs:\n",
      "File \u001b[0;32m~/opt/anaconda3/envs/thesis/lib/python3.10/site-packages/cvxpy/lin_ops/canon_backend.py:412\u001b[0m, in \u001b[0;36mPythonCanonBackend.vstack\u001b[0;34m(self, lin, view)\u001b[0m\n\u001b[1;32m    406\u001b[0m \u001b[39mdef\u001b[39;00m \u001b[39mvstack\u001b[39m(\u001b[39mself\u001b[39m, lin: LinOp, view: TensorView) \u001b[39m-\u001b[39m\u001b[39m>\u001b[39m TensorView:\n\u001b[1;32m    407\u001b[0m     \u001b[39m\"\"\"\u001b[39;00m\n\u001b[1;32m    408\u001b[0m \u001b[39m    Given views (A0,b0), (A1,b1),..., (An,bn), first, stack them along axis 0 via hstack.\u001b[39;00m\n\u001b[1;32m    409\u001b[0m \u001b[39m    Then, permute the rows of the resulting tensor to be consistent with stacking the arguments\u001b[39;00m\n\u001b[1;32m    410\u001b[0m \u001b[39m    vertically instead of horizontally.\u001b[39;00m\n\u001b[1;32m    411\u001b[0m \u001b[39m    \"\"\"\u001b[39;00m\n\u001b[0;32m--> 412\u001b[0m     view \u001b[39m=\u001b[39m \u001b[39mself\u001b[39;49m\u001b[39m.\u001b[39;49mhstack(lin, view)\n\u001b[1;32m    413\u001b[0m     offset \u001b[39m=\u001b[39m \u001b[39m0\u001b[39m\n\u001b[1;32m    414\u001b[0m     indices \u001b[39m=\u001b[39m []\n",
      "File \u001b[0;32m~/opt/anaconda3/envs/thesis/lib/python3.10/site-packages/cvxpy/lin_ops/canon_backend.py:395\u001b[0m, in \u001b[0;36mPythonCanonBackend.hstack\u001b[0;34m(self, lin, view)\u001b[0m\n\u001b[1;32m    393\u001b[0m res \u001b[39m=\u001b[39m \u001b[39mNone\u001b[39;00m\n\u001b[1;32m    394\u001b[0m \u001b[39mfor\u001b[39;00m arg \u001b[39min\u001b[39;00m lin\u001b[39m.\u001b[39margs:\n\u001b[0;32m--> 395\u001b[0m     arg_view \u001b[39m=\u001b[39m \u001b[39mself\u001b[39;49m\u001b[39m.\u001b[39;49mprocess_constraint(arg, view)\n\u001b[1;32m    396\u001b[0m     func \u001b[39m=\u001b[39m \u001b[39mself\u001b[39m\u001b[39m.\u001b[39mget_stack_func(total_rows, offset)\n\u001b[1;32m    397\u001b[0m     arg_view\u001b[39m.\u001b[39mapply_all(func)\n",
      "File \u001b[0;32m~/opt/anaconda3/envs/thesis/lib/python3.10/site-packages/cvxpy/lin_ops/canon_backend.py:182\u001b[0m, in \u001b[0;36mPythonCanonBackend.process_constraint\u001b[0;34m(self, lin_op, empty_view)\u001b[0m\n\u001b[1;32m    180\u001b[0m func \u001b[39m=\u001b[39m \u001b[39mself\u001b[39m\u001b[39m.\u001b[39mget_func(lin_op\u001b[39m.\u001b[39mtype)\n\u001b[1;32m    181\u001b[0m \u001b[39mif\u001b[39;00m lin_op\u001b[39m.\u001b[39mtype \u001b[39min\u001b[39;00m {\u001b[39m\"\u001b[39m\u001b[39mvstack\u001b[39m\u001b[39m\"\u001b[39m, \u001b[39m\"\u001b[39m\u001b[39mhstack\u001b[39m\u001b[39m\"\u001b[39m}:\n\u001b[0;32m--> 182\u001b[0m     \u001b[39mreturn\u001b[39;00m func(lin_op, empty_view)\n\u001b[1;32m    184\u001b[0m res \u001b[39m=\u001b[39m \u001b[39mNone\u001b[39;00m\n\u001b[1;32m    185\u001b[0m \u001b[39mfor\u001b[39;00m arg \u001b[39min\u001b[39;00m lin_op\u001b[39m.\u001b[39margs:\n",
      "File \u001b[0;32m~/opt/anaconda3/envs/thesis/lib/python3.10/site-packages/cvxpy/lin_ops/canon_backend.py:395\u001b[0m, in \u001b[0;36mPythonCanonBackend.hstack\u001b[0;34m(self, lin, view)\u001b[0m\n\u001b[1;32m    393\u001b[0m res \u001b[39m=\u001b[39m \u001b[39mNone\u001b[39;00m\n\u001b[1;32m    394\u001b[0m \u001b[39mfor\u001b[39;00m arg \u001b[39min\u001b[39;00m lin\u001b[39m.\u001b[39margs:\n\u001b[0;32m--> 395\u001b[0m     arg_view \u001b[39m=\u001b[39m \u001b[39mself\u001b[39;49m\u001b[39m.\u001b[39;49mprocess_constraint(arg, view)\n\u001b[1;32m    396\u001b[0m     func \u001b[39m=\u001b[39m \u001b[39mself\u001b[39m\u001b[39m.\u001b[39mget_stack_func(total_rows, offset)\n\u001b[1;32m    397\u001b[0m     arg_view\u001b[39m.\u001b[39mapply_all(func)\n",
      "File \u001b[0;32m~/opt/anaconda3/envs/thesis/lib/python3.10/site-packages/cvxpy/lin_ops/canon_backend.py:186\u001b[0m, in \u001b[0;36mPythonCanonBackend.process_constraint\u001b[0;34m(self, lin_op, empty_view)\u001b[0m\n\u001b[1;32m    184\u001b[0m res \u001b[39m=\u001b[39m \u001b[39mNone\u001b[39;00m\n\u001b[1;32m    185\u001b[0m \u001b[39mfor\u001b[39;00m arg \u001b[39min\u001b[39;00m lin_op\u001b[39m.\u001b[39margs:\n\u001b[0;32m--> 186\u001b[0m     arg_coeff \u001b[39m=\u001b[39m \u001b[39mself\u001b[39;49m\u001b[39m.\u001b[39;49mprocess_constraint(arg, empty_view)\n\u001b[1;32m    187\u001b[0m     arg_res \u001b[39m=\u001b[39m func(lin_op, arg_coeff)\n\u001b[1;32m    188\u001b[0m     \u001b[39mif\u001b[39;00m res \u001b[39mis\u001b[39;00m \u001b[39mNone\u001b[39;00m:\n",
      "File \u001b[0;32m~/opt/anaconda3/envs/thesis/lib/python3.10/site-packages/cvxpy/lin_ops/canon_backend.py:186\u001b[0m, in \u001b[0;36mPythonCanonBackend.process_constraint\u001b[0;34m(self, lin_op, empty_view)\u001b[0m\n\u001b[1;32m    184\u001b[0m res \u001b[39m=\u001b[39m \u001b[39mNone\u001b[39;00m\n\u001b[1;32m    185\u001b[0m \u001b[39mfor\u001b[39;00m arg \u001b[39min\u001b[39;00m lin_op\u001b[39m.\u001b[39margs:\n\u001b[0;32m--> 186\u001b[0m     arg_coeff \u001b[39m=\u001b[39m \u001b[39mself\u001b[39;49m\u001b[39m.\u001b[39;49mprocess_constraint(arg, empty_view)\n\u001b[1;32m    187\u001b[0m     arg_res \u001b[39m=\u001b[39m func(lin_op, arg_coeff)\n\u001b[1;32m    188\u001b[0m     \u001b[39mif\u001b[39;00m res \u001b[39mis\u001b[39;00m \u001b[39mNone\u001b[39;00m:\n",
      "    \u001b[0;31m[... skipping similar frames: PythonCanonBackend.process_constraint at line 186 (4 times)]\u001b[0m\n",
      "File \u001b[0;32m~/opt/anaconda3/envs/thesis/lib/python3.10/site-packages/cvxpy/lin_ops/canon_backend.py:186\u001b[0m, in \u001b[0;36mPythonCanonBackend.process_constraint\u001b[0;34m(self, lin_op, empty_view)\u001b[0m\n\u001b[1;32m    184\u001b[0m res \u001b[39m=\u001b[39m \u001b[39mNone\u001b[39;00m\n\u001b[1;32m    185\u001b[0m \u001b[39mfor\u001b[39;00m arg \u001b[39min\u001b[39;00m lin_op\u001b[39m.\u001b[39margs:\n\u001b[0;32m--> 186\u001b[0m     arg_coeff \u001b[39m=\u001b[39m \u001b[39mself\u001b[39;49m\u001b[39m.\u001b[39;49mprocess_constraint(arg, empty_view)\n\u001b[1;32m    187\u001b[0m     arg_res \u001b[39m=\u001b[39m func(lin_op, arg_coeff)\n\u001b[1;32m    188\u001b[0m     \u001b[39mif\u001b[39;00m res \u001b[39mis\u001b[39;00m \u001b[39mNone\u001b[39;00m:\n",
      "File \u001b[0;32m~/opt/anaconda3/envs/thesis/lib/python3.10/site-packages/cvxpy/lin_ops/canon_backend.py:187\u001b[0m, in \u001b[0;36mPythonCanonBackend.process_constraint\u001b[0;34m(self, lin_op, empty_view)\u001b[0m\n\u001b[1;32m    185\u001b[0m \u001b[39mfor\u001b[39;00m arg \u001b[39min\u001b[39;00m lin_op\u001b[39m.\u001b[39margs:\n\u001b[1;32m    186\u001b[0m     arg_coeff \u001b[39m=\u001b[39m \u001b[39mself\u001b[39m\u001b[39m.\u001b[39mprocess_constraint(arg, empty_view)\n\u001b[0;32m--> 187\u001b[0m     arg_res \u001b[39m=\u001b[39m func(lin_op, arg_coeff)\n\u001b[1;32m    188\u001b[0m     \u001b[39mif\u001b[39;00m res \u001b[39mis\u001b[39;00m \u001b[39mNone\u001b[39;00m:\n\u001b[1;32m    189\u001b[0m         res \u001b[39m=\u001b[39m arg_res\n",
      "File \u001b[0;32m~/opt/anaconda3/envs/thesis/lib/python3.10/site-packages/cvxpy/lin_ops/canon_backend.py:558\u001b[0m, in \u001b[0;36mScipyCanonBackend.mul\u001b[0;34m(self, lin, view)\u001b[0m\n\u001b[1;32m    557\u001b[0m \u001b[39mdef\u001b[39;00m \u001b[39mmul\u001b[39m(\u001b[39mself\u001b[39m, lin: LinOp, view: ScipyTensorView) \u001b[39m-\u001b[39m\u001b[39m>\u001b[39m ScipyTensorView:\n\u001b[0;32m--> 558\u001b[0m     lhs, is_param_free_lhs \u001b[39m=\u001b[39m \u001b[39mself\u001b[39;49m\u001b[39m.\u001b[39;49mget_constant_data(lin\u001b[39m.\u001b[39;49mdata, view, column\u001b[39m=\u001b[39;49m\u001b[39mFalse\u001b[39;49;00m)\n\u001b[1;32m    560\u001b[0m     \u001b[39mif\u001b[39;00m \u001b[39misinstance\u001b[39m(lhs, \u001b[39mdict\u001b[39m):\n\u001b[1;32m    561\u001b[0m         reps \u001b[39m=\u001b[39m view\u001b[39m.\u001b[39mrows \u001b[39m/\u001b[39m\u001b[39m/\u001b[39m \u001b[39mnext\u001b[39m(\u001b[39miter\u001b[39m(lhs\u001b[39m.\u001b[39mvalues()))[\u001b[39m0\u001b[39m]\u001b[39m.\u001b[39mshape[\u001b[39m-\u001b[39m\u001b[39m1\u001b[39m]\n",
      "File \u001b[0;32m~/opt/anaconda3/envs/thesis/lib/python3.10/site-packages/cvxpy/lin_ops/canon_backend.py:201\u001b[0m, in \u001b[0;36mPythonCanonBackend.get_constant_data\u001b[0;34m(self, lin_op, view, column)\u001b[0m\n\u001b[1;32m    195\u001b[0m \u001b[39mdef\u001b[39;00m \u001b[39mget_constant_data\u001b[39m(\u001b[39mself\u001b[39m, lin_op: LinOp, view: TensorView, column: \u001b[39mbool\u001b[39m) \\\n\u001b[1;32m    196\u001b[0m         \u001b[39m-\u001b[39m\u001b[39m>\u001b[39m \u001b[39mtuple\u001b[39m[sp\u001b[39m.\u001b[39mcsr_matrix, \u001b[39mbool\u001b[39m]:\n\u001b[1;32m    197\u001b[0m     \u001b[39m\"\"\"\u001b[39;00m\n\u001b[1;32m    198\u001b[0m \u001b[39m    Extract the constant data from a LinOp node. In most cases, lin_op will be of\u001b[39;00m\n\u001b[1;32m    199\u001b[0m \u001b[39m    type \"*_const\" or \"param\", but can handle arbitrary types.\u001b[39;00m\n\u001b[1;32m    200\u001b[0m \u001b[39m    \"\"\"\u001b[39;00m\n\u001b[0;32m--> 201\u001b[0m     constant_view \u001b[39m=\u001b[39m \u001b[39mself\u001b[39;49m\u001b[39m.\u001b[39;49mprocess_constraint(lin_op, view)\n\u001b[1;32m    202\u001b[0m     \u001b[39massert\u001b[39;00m constant_view\u001b[39m.\u001b[39mvariable_ids \u001b[39m==\u001b[39m {Constant\u001b[39m.\u001b[39mID\u001b[39m.\u001b[39mvalue}\n\u001b[1;32m    203\u001b[0m     constant_data \u001b[39m=\u001b[39m constant_view\u001b[39m.\u001b[39mtensor[Constant\u001b[39m.\u001b[39mID\u001b[39m.\u001b[39mvalue]\n",
      "File \u001b[0;32m~/opt/anaconda3/envs/thesis/lib/python3.10/site-packages/cvxpy/lin_ops/canon_backend.py:170\u001b[0m, in \u001b[0;36mPythonCanonBackend.process_constraint\u001b[0;34m(self, lin_op, empty_view)\u001b[0m\n\u001b[1;32m    167\u001b[0m     \u001b[39mreturn\u001b[39;00m empty_view\u001b[39m.\u001b[39mcreate_new_tensor_view({lin_op\u001b[39m.\u001b[39mdata}, variable_tensor,\n\u001b[1;32m    168\u001b[0m                                              is_parameter_free\u001b[39m=\u001b[39m\u001b[39mTrue\u001b[39;00m)\n\u001b[1;32m    169\u001b[0m \u001b[39melif\u001b[39;00m lin_op\u001b[39m.\u001b[39mtype \u001b[39min\u001b[39;00m {\u001b[39m\"\u001b[39m\u001b[39mscalar_const\u001b[39m\u001b[39m\"\u001b[39m, \u001b[39m\"\u001b[39m\u001b[39mdense_const\u001b[39m\u001b[39m\"\u001b[39m, \u001b[39m\"\u001b[39m\u001b[39msparse_const\u001b[39m\u001b[39m\"\u001b[39m}:\n\u001b[0;32m--> 170\u001b[0m     data_tensor \u001b[39m=\u001b[39m \u001b[39mself\u001b[39;49m\u001b[39m.\u001b[39;49mget_data_tensor(lin_op\u001b[39m.\u001b[39;49mdata)\n\u001b[1;32m    171\u001b[0m     \u001b[39mreturn\u001b[39;00m empty_view\u001b[39m.\u001b[39mcreate_new_tensor_view({Constant\u001b[39m.\u001b[39mID\u001b[39m.\u001b[39mvalue}, data_tensor,\n\u001b[1;32m    172\u001b[0m                                              is_parameter_free\u001b[39m=\u001b[39m\u001b[39mTrue\u001b[39;00m)\n\u001b[1;32m    173\u001b[0m \u001b[39melif\u001b[39;00m lin_op\u001b[39m.\u001b[39mtype \u001b[39m==\u001b[39m \u001b[39m\"\u001b[39m\u001b[39mparam\u001b[39m\u001b[39m\"\u001b[39m:\n",
      "File \u001b[0;32m~/opt/anaconda3/envs/thesis/lib/python3.10/site-packages/cvxpy/lin_ops/canon_backend.py:802\u001b[0m, in \u001b[0;36mScipyCanonBackend.get_data_tensor\u001b[0;34m(self, data)\u001b[0m\n\u001b[1;32m    800\u001b[0m     tensor \u001b[39m=\u001b[39m sp\u001b[39m.\u001b[39mcsr_matrix(data\u001b[39m.\u001b[39mreshape((\u001b[39m-\u001b[39m\u001b[39m1\u001b[39m, \u001b[39m1\u001b[39m), order\u001b[39m=\u001b[39m\u001b[39m\"\u001b[39m\u001b[39mF\u001b[39m\u001b[39m\"\u001b[39m))\n\u001b[1;32m    801\u001b[0m \u001b[39melse\u001b[39;00m:\n\u001b[0;32m--> 802\u001b[0m     tensor \u001b[39m=\u001b[39m sp\u001b[39m.\u001b[39;49mcoo_matrix(data)\u001b[39m.\u001b[39;49mreshape((\u001b[39m-\u001b[39;49m\u001b[39m1\u001b[39;49m, \u001b[39m1\u001b[39;49m), order\u001b[39m=\u001b[39;49m\u001b[39m\"\u001b[39;49m\u001b[39mF\u001b[39;49m\u001b[39m\"\u001b[39;49m)\u001b[39m.\u001b[39;49mtocsr()\n\u001b[1;32m    803\u001b[0m \u001b[39mreturn\u001b[39;00m {Constant\u001b[39m.\u001b[39mID\u001b[39m.\u001b[39mvalue: {Constant\u001b[39m.\u001b[39mID\u001b[39m.\u001b[39mvalue: [tensor]}}\n",
      "File \u001b[0;32m~/opt/anaconda3/envs/thesis/lib/python3.10/site-packages/scipy/sparse/_coo.py:405\u001b[0m, in \u001b[0;36mcoo_matrix.tocsr\u001b[0;34m(self, copy)\u001b[0m\n\u001b[1;32m    402\u001b[0m indices \u001b[39m=\u001b[39m np\u001b[39m.\u001b[39mempty_like(col, dtype\u001b[39m=\u001b[39midx_dtype)\n\u001b[1;32m    403\u001b[0m data \u001b[39m=\u001b[39m np\u001b[39m.\u001b[39mempty_like(\u001b[39mself\u001b[39m\u001b[39m.\u001b[39mdata, dtype\u001b[39m=\u001b[39mupcast(\u001b[39mself\u001b[39m\u001b[39m.\u001b[39mdtype))\n\u001b[0;32m--> 405\u001b[0m coo_tocsr(M, N, \u001b[39mself\u001b[39;49m\u001b[39m.\u001b[39;49mnnz, row, col, \u001b[39mself\u001b[39;49m\u001b[39m.\u001b[39;49mdata,\n\u001b[1;32m    406\u001b[0m           indptr, indices, data)\n\u001b[1;32m    408\u001b[0m x \u001b[39m=\u001b[39m \u001b[39mself\u001b[39m\u001b[39m.\u001b[39m_csr_container((data, indices, indptr), shape\u001b[39m=\u001b[39m\u001b[39mself\u001b[39m\u001b[39m.\u001b[39mshape)\n\u001b[1;32m    409\u001b[0m \u001b[39mif\u001b[39;00m \u001b[39mnot\u001b[39;00m \u001b[39mself\u001b[39m\u001b[39m.\u001b[39mhas_canonical_format:\n",
      "\u001b[0;31mKeyboardInterrupt\u001b[0m: "
     ]
    }
   ],
   "source": [
    "prob.solve(solver=cp.MOSEK, verbose=True, canon_backend=cp.SCIPY_CANON_BACKEND)"
   ]
  },
  {
   "cell_type": "code",
   "execution_count": 10,
   "metadata": {},
   "outputs": [],
   "source": [
    "import mosek, sys"
   ]
  },
  {
   "cell_type": "code",
   "execution_count": 11,
   "metadata": {},
   "outputs": [
    {
     "name": "stdout",
     "output_type": "stream",
     "text": [
      "\n",
      "MOSEK Version 10.1.4(BETA) (Build date: 2023-6-26 10:07:47)\n",
      "Copyright (c) MOSEK ApS, Denmark WWW: mosek.com\n",
      "Platform: MACOSX/64-X86\n",
      "\n",
      "FlexLM\n",
      " Version                  : 11.18\n",
      " Hostname                 : Cristians-Air-2\n",
      " Host ID                  : 3ca6f6546a0e\n",
      " License path             : /Users/emiliano_gr/mosek/mosek.lic\n",
      "\n",
      "Operating system variables\n",
      " DYLD_LIBRARY_PATH        :\n"
     ]
    }
   ],
   "source": [
    "env = mosek.Env()\n",
    "env.set_Stream(mosek.streamtype.log, sys.stdout.write)\n",
    "env.echointro(1)"
   ]
  },
  {
   "cell_type": "code",
   "execution_count": 22,
   "metadata": {},
   "outputs": [
    {
     "name": "stdout",
     "output_type": "stream",
     "text": [
      "[[0.5 0.  0.  0.5]\n",
      " [0.  0.  0.  0. ]\n",
      " [0.  0.  0.  0. ]\n",
      " [0.5 0.  0.  0.5]]\n",
      "[0.00000000e+00 0.00000000e+00 5.55111512e-16 1.00000000e+00]\n",
      "[[ 0.          0.          0.70710678 -0.70710678]\n",
      " [ 0.         -1.          0.          0.        ]\n",
      " [ 1.          0.          0.          0.        ]\n",
      " [ 0.          0.         -0.70710678 -0.70710678]]\n",
      "[[0.5 0. ]\n",
      " [0.  0.5]]\n"
     ]
    }
   ],
   "source": [
    "rho = np.zeros(shape=(4,4))\n",
    "rho[0,0], rho[0,-1], rho[-1,0], rho[-1,-1] = 0.5, 0.5, 0.5, 0.5\n",
    "print(rho)\n",
    "eig, eigvecs = scipy.linalg.eigh(rho)\n",
    "\n",
    "print(eig)\n",
    "print(eigvecs)\n",
    "\n",
    "print(rho.reshape(2,2,2,2).trace(axis1=0,axis2=2))"
   ]
  },
  {
   "cell_type": "code",
   "execution_count": 6,
   "metadata": {},
   "outputs": [
    {
     "data": {
      "text/plain": [
       "array([0.00000000e+00, 0.00000000e+00, 5.55111512e-16, 1.00000000e+00])"
      ]
     },
     "execution_count": 6,
     "metadata": {},
     "output_type": "execute_result"
    }
   ],
   "source": [
    "eig"
   ]
  },
  {
   "cell_type": "code",
   "execution_count": 21,
   "metadata": {},
   "outputs": [
    {
     "name": "stdout",
     "output_type": "stream",
     "text": [
      "[[0.5 0.  0.  0. ]\n",
      " [0.  0.  0.5 0. ]\n",
      " [0.  0.5 0.  0. ]\n",
      " [0.  0.  0.  0.5]]\n",
      "[-0.5  0.5  0.5  0.5]\n",
      "[[ 0.          1.          0.          0.        ]\n",
      " [ 0.70710678  0.          0.70710678  0.        ]\n",
      " [-0.70710678  0.          0.70710678  0.        ]\n",
      " [ 0.          0.          0.          1.        ]]\n",
      "[[0.5 0. ]\n",
      " [0.  0.5]]\n"
     ]
    }
   ],
   "source": [
    "dim = 2\n",
    "rho_TB = np.reshape(rho, [dim]*4).swapaxes(0,2).reshape([dim**2, dim**2])  \n",
    "print(rho_TB)\n",
    "eig_TB, eigvecs_TB = scipy.linalg.eigh(rho_TB)\n",
    "\n",
    "print(eig_TB)\n",
    "print(eigvecs_TB)\n",
    "\n",
    "print(rho_TB.reshape(2,2,2,2).trace(axis1=0,axis2=2))"
   ]
  },
  {
   "cell_type": "code",
   "execution_count": 27,
   "metadata": {},
   "outputs": [
    {
     "name": "stdout",
     "output_type": "stream",
     "text": [
      "False\n"
     ]
    }
   ],
   "source": [
    "test = cp.Variable((dim,dim), PSD=True)\n",
    "test_expr = cp.kron(test, I) @ cp.kron(I, test)\n",
    "print(test_expr.is_convex())\n",
    "test_cost = cp.sum_squares(test_expr - srhs)\n",
    "test_prob = cp.Problem(cp.Minimize(test_cost))"
   ]
  },
  {
   "cell_type": "code",
   "execution_count": 28,
   "metadata": {},
   "outputs": [
    {
     "name": "stdout",
     "output_type": "stream",
     "text": [
      "===============================================================================\n",
      "                                     CVXPY                                     \n",
      "                                     v1.3.1                                    \n",
      "===============================================================================\n",
      "(CVXPY) Jul 18 09:32:02 PM: Your problem has 256 variables, 0 constraints, and 0 parameters.\n",
      "(CVXPY) Jul 18 09:32:02 PM: It is compliant with the following grammars: \n",
      "(CVXPY) Jul 18 09:32:02 PM: (If you need to solve this problem multiple times, but with different data, consider using parameters.)\n",
      "(CVXPY) Jul 18 09:32:02 PM: CVXPY will first compile your problem; then, it will invoke a numerical solver to obtain a solution.\n"
     ]
    },
    {
     "ename": "DCPError",
     "evalue": "Problem does not follow DCP rules. Specifically:\nThe objective is not DCP. Its following subexpressions are not:\nkron(var52,   (0, 0)\t1.0\n  (1, 1)\t1.0\n  (2, 2)\t1.0\n  (3, 3)\t1.0\n  (4, 4)\t1.0\n  (5, 5)\t1.0\n  (6, 6)\t1.0\n  (7, 7)\t1.0\n  (8, 8)\t1.0\n  (9, 9)\t1.0\n  (10, 10)\t1.0\n  (11, 11)\t1.0\n  (12, 12)\t1.0\n  (13, 13)\t1.0\n  (14, 14)\t1.0\n  (15, 15)\t1.0) @ kron(  (0, 0)\t1.0\n  (1, 1)\t1.0\n  (2, 2)\t1.0\n  (3, 3)\t1.0\n  (4, 4)\t1.0\n  (5, 5)\t1.0\n  (6, 6)\t1.0\n  (7, 7)\t1.0\n  (8, 8)\t1.0\n  (9, 9)\t1.0\n  (10, 10)\t1.0\n  (11, 11)\t1.0\n  (12, 12)\t1.0\n  (13, 13)\t1.0\n  (14, 14)\t1.0\n  (15, 15)\t1.0, var52)",
     "output_type": "error",
     "traceback": [
      "\u001b[0;31m---------------------------------------------------------------------------\u001b[0m",
      "\u001b[0;31mDCPError\u001b[0m                                  Traceback (most recent call last)",
      "\u001b[1;32m/Users/emiliano_gr/Desktop/Masters/fourth_semester/Thesis/coding/purifications-code/experiments/sdp.ipynb Cell 25\u001b[0m in \u001b[0;36m<cell line: 1>\u001b[0;34m()\u001b[0m\n\u001b[0;32m----> <a href='vscode-notebook-cell:/Users/emiliano_gr/Desktop/Masters/fourth_semester/Thesis/coding/purifications-code/experiments/sdp.ipynb#X50sZmlsZQ%3D%3D?line=0'>1</a>\u001b[0m test_prob\u001b[39m.\u001b[39;49msolve(solver\u001b[39m=\u001b[39;49mcp\u001b[39m.\u001b[39;49mSCS, verbose\u001b[39m=\u001b[39;49m\u001b[39mTrue\u001b[39;49;00m, canon_backend\u001b[39m=\u001b[39;49mcp\u001b[39m.\u001b[39;49mSCIPY_CANON_BACKEND)\n",
      "File \u001b[0;32m~/opt/anaconda3/envs/thesis/lib/python3.10/site-packages/cvxpy/problems/problem.py:493\u001b[0m, in \u001b[0;36mProblem.solve\u001b[0;34m(self, *args, **kwargs)\u001b[0m\n\u001b[1;32m    491\u001b[0m \u001b[39melse\u001b[39;00m:\n\u001b[1;32m    492\u001b[0m     solve_func \u001b[39m=\u001b[39m Problem\u001b[39m.\u001b[39m_solve\n\u001b[0;32m--> 493\u001b[0m \u001b[39mreturn\u001b[39;00m solve_func(\u001b[39mself\u001b[39;49m, \u001b[39m*\u001b[39;49margs, \u001b[39m*\u001b[39;49m\u001b[39m*\u001b[39;49mkwargs)\n",
      "File \u001b[0;32m~/opt/anaconda3/envs/thesis/lib/python3.10/site-packages/cvxpy/problems/problem.py:1054\u001b[0m, in \u001b[0;36mProblem._solve\u001b[0;34m(self, solver, warm_start, verbose, gp, qcp, requires_grad, enforce_dpp, ignore_dpp, canon_backend, **kwargs)\u001b[0m\n\u001b[1;32m   1051\u001b[0m         \u001b[39mself\u001b[39m\u001b[39m.\u001b[39munpack(chain\u001b[39m.\u001b[39mretrieve(soln))\n\u001b[1;32m   1052\u001b[0m         \u001b[39mreturn\u001b[39;00m \u001b[39mself\u001b[39m\u001b[39m.\u001b[39mvalue\n\u001b[0;32m-> 1054\u001b[0m data, solving_chain, inverse_data \u001b[39m=\u001b[39m \u001b[39mself\u001b[39;49m\u001b[39m.\u001b[39;49mget_problem_data(\n\u001b[1;32m   1055\u001b[0m     solver, gp, enforce_dpp, ignore_dpp, verbose, canon_backend, kwargs\n\u001b[1;32m   1056\u001b[0m )\n\u001b[1;32m   1058\u001b[0m \u001b[39mif\u001b[39;00m verbose:\n\u001b[1;32m   1059\u001b[0m     \u001b[39mprint\u001b[39m(_NUM_SOLVER_STR)\n",
      "File \u001b[0;32m~/opt/anaconda3/envs/thesis/lib/python3.10/site-packages/cvxpy/problems/problem.py:631\u001b[0m, in \u001b[0;36mProblem.get_problem_data\u001b[0;34m(self, solver, gp, enforce_dpp, ignore_dpp, verbose, canon_backend, solver_opts)\u001b[0m\n\u001b[1;32m    629\u001b[0m \u001b[39mif\u001b[39;00m key \u001b[39m!=\u001b[39m \u001b[39mself\u001b[39m\u001b[39m.\u001b[39m_cache\u001b[39m.\u001b[39mkey:\n\u001b[1;32m    630\u001b[0m     \u001b[39mself\u001b[39m\u001b[39m.\u001b[39m_cache\u001b[39m.\u001b[39minvalidate()\n\u001b[0;32m--> 631\u001b[0m     solving_chain \u001b[39m=\u001b[39m \u001b[39mself\u001b[39;49m\u001b[39m.\u001b[39;49m_construct_chain(\n\u001b[1;32m    632\u001b[0m         solver\u001b[39m=\u001b[39;49msolver, gp\u001b[39m=\u001b[39;49mgp,\n\u001b[1;32m    633\u001b[0m         enforce_dpp\u001b[39m=\u001b[39;49menforce_dpp,\n\u001b[1;32m    634\u001b[0m         ignore_dpp\u001b[39m=\u001b[39;49mignore_dpp,\n\u001b[1;32m    635\u001b[0m         canon_backend\u001b[39m=\u001b[39;49mcanon_backend,\n\u001b[1;32m    636\u001b[0m         solver_opts\u001b[39m=\u001b[39;49msolver_opts)\n\u001b[1;32m    637\u001b[0m     \u001b[39mself\u001b[39m\u001b[39m.\u001b[39m_cache\u001b[39m.\u001b[39mkey \u001b[39m=\u001b[39m key\n\u001b[1;32m    638\u001b[0m     \u001b[39mself\u001b[39m\u001b[39m.\u001b[39m_cache\u001b[39m.\u001b[39msolving_chain \u001b[39m=\u001b[39m solving_chain\n",
      "File \u001b[0;32m~/opt/anaconda3/envs/thesis/lib/python3.10/site-packages/cvxpy/problems/problem.py:883\u001b[0m, in \u001b[0;36mProblem._construct_chain\u001b[0;34m(self, solver, gp, enforce_dpp, ignore_dpp, canon_backend, solver_opts)\u001b[0m\n\u001b[1;32m    881\u001b[0m candidate_solvers \u001b[39m=\u001b[39m \u001b[39mself\u001b[39m\u001b[39m.\u001b[39m_find_candidate_solvers(solver\u001b[39m=\u001b[39msolver, gp\u001b[39m=\u001b[39mgp)\n\u001b[1;32m    882\u001b[0m \u001b[39mself\u001b[39m\u001b[39m.\u001b[39m_sort_candidate_solvers(candidate_solvers)\n\u001b[0;32m--> 883\u001b[0m \u001b[39mreturn\u001b[39;00m construct_solving_chain(\u001b[39mself\u001b[39;49m, candidate_solvers, gp\u001b[39m=\u001b[39;49mgp,\n\u001b[1;32m    884\u001b[0m                                enforce_dpp\u001b[39m=\u001b[39;49menforce_dpp,\n\u001b[1;32m    885\u001b[0m                                ignore_dpp\u001b[39m=\u001b[39;49mignore_dpp,\n\u001b[1;32m    886\u001b[0m                                canon_backend\u001b[39m=\u001b[39;49mcanon_backend,\n\u001b[1;32m    887\u001b[0m                                solver_opts\u001b[39m=\u001b[39;49msolver_opts)\n",
      "File \u001b[0;32m~/opt/anaconda3/envs/thesis/lib/python3.10/site-packages/cvxpy/reductions/solvers/solving_chain.py:184\u001b[0m, in \u001b[0;36mconstruct_solving_chain\u001b[0;34m(problem, candidates, gp, enforce_dpp, ignore_dpp, canon_backend, solver_opts)\u001b[0m\n\u001b[1;32m    182\u001b[0m \u001b[39mif\u001b[39;00m \u001b[39mlen\u001b[39m(problem\u001b[39m.\u001b[39mvariables()) \u001b[39m==\u001b[39m \u001b[39m0\u001b[39m:\n\u001b[1;32m    183\u001b[0m     \u001b[39mreturn\u001b[39;00m SolvingChain(reductions\u001b[39m=\u001b[39m[ConstantSolver()])\n\u001b[0;32m--> 184\u001b[0m reductions \u001b[39m=\u001b[39m _reductions_for_problem_class(problem, candidates, gp, solver_opts)\n\u001b[1;32m    186\u001b[0m \u001b[39m# Process DPP status of the problem.\u001b[39;00m\n\u001b[1;32m    187\u001b[0m dpp_context \u001b[39m=\u001b[39m \u001b[39m'\u001b[39m\u001b[39mdcp\u001b[39m\u001b[39m'\u001b[39m \u001b[39mif\u001b[39;00m \u001b[39mnot\u001b[39;00m gp \u001b[39melse\u001b[39;00m \u001b[39m'\u001b[39m\u001b[39mdgp\u001b[39m\u001b[39m'\u001b[39m\n",
      "File \u001b[0;32m~/opt/anaconda3/envs/thesis/lib/python3.10/site-packages/cvxpy/reductions/solvers/solving_chain.py:102\u001b[0m, in \u001b[0;36m_reductions_for_problem_class\u001b[0;34m(problem, candidates, gp, solver_opts)\u001b[0m\n\u001b[1;32m     99\u001b[0m     \u001b[39melif\u001b[39;00m problem\u001b[39m.\u001b[39mis_dqcp():\n\u001b[1;32m    100\u001b[0m         append \u001b[39m+\u001b[39m\u001b[39m=\u001b[39m (\u001b[39m\"\u001b[39m\u001b[39m\\n\u001b[39;00m\u001b[39mHowever, the problem does follow DQCP rules. \u001b[39m\u001b[39m\"\u001b[39m\n\u001b[1;32m    101\u001b[0m                    \u001b[39m\"\u001b[39m\u001b[39mConsider calling solve() with `qcp=True`.\u001b[39m\u001b[39m\"\u001b[39m)\n\u001b[0;32m--> 102\u001b[0m     \u001b[39mraise\u001b[39;00m DCPError(\n\u001b[1;32m    103\u001b[0m         \u001b[39m\"\u001b[39m\u001b[39mProblem does not follow DCP rules. Specifically:\u001b[39m\u001b[39m\\n\u001b[39;00m\u001b[39m\"\u001b[39m \u001b[39m+\u001b[39m append)\n\u001b[1;32m    104\u001b[0m \u001b[39melif\u001b[39;00m gp \u001b[39mand\u001b[39;00m \u001b[39mnot\u001b[39;00m problem\u001b[39m.\u001b[39mis_dgp():\n\u001b[1;32m    105\u001b[0m     append \u001b[39m=\u001b[39m build_non_disciplined_error_msg(problem, \u001b[39m'\u001b[39m\u001b[39mDGP\u001b[39m\u001b[39m'\u001b[39m)\n",
      "\u001b[0;31mDCPError\u001b[0m: Problem does not follow DCP rules. Specifically:\nThe objective is not DCP. Its following subexpressions are not:\nkron(var52,   (0, 0)\t1.0\n  (1, 1)\t1.0\n  (2, 2)\t1.0\n  (3, 3)\t1.0\n  (4, 4)\t1.0\n  (5, 5)\t1.0\n  (6, 6)\t1.0\n  (7, 7)\t1.0\n  (8, 8)\t1.0\n  (9, 9)\t1.0\n  (10, 10)\t1.0\n  (11, 11)\t1.0\n  (12, 12)\t1.0\n  (13, 13)\t1.0\n  (14, 14)\t1.0\n  (15, 15)\t1.0) @ kron(  (0, 0)\t1.0\n  (1, 1)\t1.0\n  (2, 2)\t1.0\n  (3, 3)\t1.0\n  (4, 4)\t1.0\n  (5, 5)\t1.0\n  (6, 6)\t1.0\n  (7, 7)\t1.0\n  (8, 8)\t1.0\n  (9, 9)\t1.0\n  (10, 10)\t1.0\n  (11, 11)\t1.0\n  (12, 12)\t1.0\n  (13, 13)\t1.0\n  (14, 14)\t1.0\n  (15, 15)\t1.0, var52)"
     ]
    }
   ],
   "source": [
    "test_prob.solve(solver=cp.SCS, verbose=True, canon_backend=cp.SCIPY_CANON_BACKEND)"
   ]
  },
  {
   "cell_type": "code",
   "execution_count": null,
   "metadata": {},
   "outputs": [],
   "source": []
  }
 ],
 "metadata": {
  "kernelspec": {
   "display_name": "thesis",
   "language": "python",
   "name": "thesis"
  },
  "language_info": {
   "codemirror_mode": {
    "name": "ipython",
    "version": 3
   },
   "file_extension": ".py",
   "mimetype": "text/x-python",
   "name": "python",
   "nbconvert_exporter": "python",
   "pygments_lexer": "ipython3",
   "version": "3.10.4"
  },
  "orig_nbformat": 4
 },
 "nbformat": 4,
 "nbformat_minor": 2
}
