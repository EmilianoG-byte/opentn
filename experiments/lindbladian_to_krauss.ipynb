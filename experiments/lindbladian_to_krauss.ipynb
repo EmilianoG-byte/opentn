{
 "cells": [
  {
   "attachments": {},
   "cell_type": "markdown",
   "metadata": {},
   "source": [
    "# Transforming Lindbladian equations to Krauss operators\n",
    "source: https://arxiv.org/abs/1412.5746"
   ]
  },
  {
   "attachments": {},
   "cell_type": "markdown",
   "metadata": {},
   "source": [
    "# Lindbladian\n",
    "### $\\frac{d{\\rho}}{dt} = -i[{H},{\\rho}] + \\sum_{j=1}^N \\left( {L}_j {\\rho} {L}_j^\\dagger - \\frac{1}{2} {L}_j^\\dagger {L}_j {\\rho} - \\frac{1}{2} {\\rho} {L}_j^\\dagger {L}_j \\right)$\n",
    "\n",
    "where:\n",
    "\n",
    "- $\\frac{d{\\rho}}{dt}$ is the time derivative of the density operator ${\\rho}$\n",
    "- ${H}$ is the Hamiltonian operator of the system\n",
    "- ${L}_j$ are the Lindblad operators\n",
    "- $N$ is the number of Lindblad operators\n",
    "- $\\dagger$ denotes the Hermitian conjugate of an operator"
   ]
  },
  {
   "attachments": {},
   "cell_type": "markdown",
   "metadata": {},
   "source": [
    "# Superoperator (Liouville)"
   ]
  },
  {
   "attachments": {},
   "cell_type": "markdown",
   "metadata": {},
   "source": [
    "### $\\mathcal{L} =  -i\\, H \\otimes I + i  \\otimes {H}^T + \\sum_{j} \\left( L_{j} \\otimes L_j^* - \\frac{1}{2} (L^\\dagger_j L_j)\\otimes I  - \\frac{1}{2}\\; I \\otimes (L^T_j L_j^*) \\right)$\n",
    "\n",
    "Which acts on the density matrix as:\n",
    "\n",
    "### $|\\rho(t)\\rangle \\rangle = e^{\\tau \\mathcal L } |\\rho\\rangle\\rangle$\n",
    "### $\\hat{\\mathcal{E}} = |  e^{\\tau \\mathcal L } \\rangle\\rangle$"
   ]
  },
  {
   "attachments": {},
   "cell_type": "markdown",
   "metadata": {},
   "source": [
    "# Kraus Channel\n",
    "\n",
    "### $\\mathcal{E}(\\rho(0)) = \\sum_k A_k \\rho(0) A^\\dagger_k = \\rho(t)$ "
   ]
  },
  {
   "attachments": {},
   "cell_type": "markdown",
   "metadata": {},
   "source": [
    "# Choi-Jamiolkowski Isomorphism\n",
    "\n",
    "\\begin{split}\\begin{align*}\n",
    "\\mathcal C &= I\\otimes \\mathcal E (|\\phi^\\dagger \\rangle \\langle \\phi^\\dagger|) \\\\\\\\\n",
    "&=\\sum_i (A_i \\otimes I) |\\phi^\\dagger \\rangle \\langle \\phi^\\dagger  | ( A_i^\\dagger \\otimes I)\\\\\\\\\n",
    "& = \\frac{1}{d} \\sum_i {\\rm vec}(A_i)  {\\rm vec} (A_i) ^\\dagger \\\\\\\\\n",
    "& = \\frac{1}{d} \\sum_i |A_i\\rangle \\rangle \\langle\\langle A_i |.\n",
    "\\end{align*}\\end{split}"
   ]
  },
  {
   "attachments": {},
   "cell_type": "markdown",
   "metadata": {},
   "source": [
    "# Step 1: \n",
    "get the hamiltonian and jump operators as a list"
   ]
  },
  {
   "cell_type": "code",
   "execution_count": 16,
   "metadata": {},
   "outputs": [
    {
     "name": "stdout",
     "output_type": "stream",
     "text": [
      "The autoreload extension is already loaded. To reload it, use:\n",
      "  %reload_ext autoreload\n"
     ]
    }
   ],
   "source": [
    "import sys\n",
    "sys.path.append('..')\n",
    "# reload local packages automatically\n",
    "%load_ext autoreload\n",
    "%autoreload 2\n",
    "from opentn.states.qubits import get_ladder_operator, I\n",
    "import numpy as np\n",
    "from scipy.linalg import expm"
   ]
  },
  {
   "cell_type": "code",
   "execution_count": 65,
   "metadata": {},
   "outputs": [
    {
     "data": {
      "text/plain": [
       "array([[ 0.        +0.j,  0.        +0.j,  0.        +0.j,\n",
       "         0.69314718+0.j],\n",
       "       [ 0.        +0.j, -0.34657359+0.j,  0.        +0.j,\n",
       "         0.        +0.j],\n",
       "       [ 0.        +0.j,  0.        +0.j, -0.34657359+0.j,\n",
       "         0.        +0.j],\n",
       "       [ 0.        +0.j,  0.        +0.j,  0.        +0.j,\n",
       "        -0.69314718+0.j]])"
      ]
     },
     "execution_count": 65,
     "metadata": {},
     "output_type": "execute_result"
    }
   ],
   "source": [
    "# get Hamilontian\n",
    "H = []\n",
    "\n",
    "# NOTE: the gamma used in ADC is different than the one from the lindbladian\n",
    "# Relation: gamma_adc = 1 - exp(-gamma_lind*t) <-> gamma_lind = -ln(1-gamma_adc)/t\n",
    "gamma_adc = 0.5\n",
    "tao = 1\n",
    "gamma_lind = -np.log(1-gamma_adc)/tao\n",
    "\n",
    "\n",
    "d = 2\n",
    "L1 = np.sqrt(gamma_lind)*get_ladder_operator() # sigma-\n",
    "# L2 = np.sqrt(gamma)*get_ladder_operator(adjoint=True) #sigma+\n",
    "Li = [L1]\n",
    "# Now here I need to create a structure that converts the thins to superoperator (maybe first save them as lindbladian)\n",
    "# TODO: generalize so that we don't have only the same level. Here d=2 everywhere\n",
    "super = np.zeros(shape=(d ** 2, d ** 2),dtype=complex)\n",
    "# if H:\n",
    "#     super = np.kron()\n",
    "for L in Li:\n",
    "    super += np.kron(L, L.conj()) - 0.5*np.kron(L.T.conj()@L, I) - 0.5*np.kron(I, L.T@L.conj())\n",
    "super"
   ]
  },
  {
   "attachments": {},
   "cell_type": "markdown",
   "metadata": {},
   "source": [
    "# Step 2:\n",
    "get exponetial and convert to choi matrix\n"
   ]
  },
  {
   "cell_type": "code",
   "execution_count": 85,
   "metadata": {},
   "outputs": [
    {
     "name": "stdout",
     "output_type": "stream",
     "text": [
      "[[1.        +0.j 0.        +0.j 0.        +0.j 0.5       +0.j]\n",
      " [0.        +0.j 0.70710678+0.j 0.        +0.j 0.        +0.j]\n",
      " [0.        +0.j 0.        +0.j 0.70710678+0.j 0.        +0.j]\n",
      " [0.        +0.j 0.        +0.j 0.        +0.j 0.5       +0.j]]\n"
     ]
    },
    {
     "data": {
      "text/plain": [
       "array([[1.        +0.j, 0.        +0.j, 0.        +0.j, 0.70710678+0.j],\n",
       "       [0.        +0.j, 0.5       +0.j, 0.        +0.j, 0.        +0.j],\n",
       "       [0.        +0.j, 0.        +0.j, 0.        +0.j, 0.        +0.j],\n",
       "       [0.70710678+0.j, 0.        +0.j, 0.        +0.j, 0.5       +0.j]])"
      ]
     },
     "execution_count": 85,
     "metadata": {},
     "output_type": "execute_result"
    }
   ],
   "source": [
    "super_exp = expm(super*tao)\n",
    "print(super_exp)\n",
    "# we reshape the thing into tensor of 4 legs\n",
    "choi = np.reshape(super_exp, [d] * 4)\n",
    "choi = choi.swapaxes(1, 2).reshape([d ** 2, d ** 2]) #either 0,3 or 1,2\n",
    "choi"
   ]
  },
  {
   "attachments": {},
   "cell_type": "markdown",
   "metadata": {},
   "source": [
    "# Step 3:\n",
    "get krauss operators using the cholesky decomposition"
   ]
  },
  {
   "cell_type": "code",
   "execution_count": 86,
   "metadata": {},
   "outputs": [
    {
     "ename": "LinAlgError",
     "evalue": "Matrix is not positive definite",
     "output_type": "error",
     "traceback": [
      "\u001b[0;31m---------------------------------------------------------------------------\u001b[0m",
      "\u001b[0;31mLinAlgError\u001b[0m                               Traceback (most recent call last)",
      "\u001b[1;32m/Users/emiliano_gr/Desktop/Masters/fourth_semester/Thesis/coding/purifications-code/experiments/lindbladian_to_krauss.ipynb Cell 13\u001b[0m in \u001b[0;36m<cell line: 1>\u001b[0;34m()\u001b[0m\n\u001b[0;32m----> <a href='vscode-notebook-cell:/Users/emiliano_gr/Desktop/Masters/fourth_semester/Thesis/coding/purifications-code/experiments/lindbladian_to_krauss.ipynb#X31sZmlsZQ%3D%3D?line=0'>1</a>\u001b[0m A_matrix \u001b[39m=\u001b[39m np\u001b[39m.\u001b[39;49mlinalg\u001b[39m.\u001b[39;49mcholesky(choi)\n\u001b[1;32m      <a href='vscode-notebook-cell:/Users/emiliano_gr/Desktop/Masters/fourth_semester/Thesis/coding/purifications-code/experiments/lindbladian_to_krauss.ipynb#X31sZmlsZQ%3D%3D?line=1'>2</a>\u001b[0m A_matrix\n",
      "File \u001b[0;32m<__array_function__ internals>:200\u001b[0m, in \u001b[0;36mcholesky\u001b[0;34m(*args, **kwargs)\u001b[0m\n",
      "File \u001b[0;32m~/opt/anaconda3/envs/thesis/lib/python3.10/site-packages/numpy-1.24.0rc1-py3.10-macosx-10.9-x86_64.egg/numpy/linalg/linalg.py:756\u001b[0m, in \u001b[0;36mcholesky\u001b[0;34m(a)\u001b[0m\n\u001b[1;32m    754\u001b[0m t, result_t \u001b[39m=\u001b[39m _commonType(a)\n\u001b[1;32m    755\u001b[0m signature \u001b[39m=\u001b[39m \u001b[39m'\u001b[39m\u001b[39mD->D\u001b[39m\u001b[39m'\u001b[39m \u001b[39mif\u001b[39;00m isComplexType(t) \u001b[39melse\u001b[39;00m \u001b[39m'\u001b[39m\u001b[39md->d\u001b[39m\u001b[39m'\u001b[39m\n\u001b[0;32m--> 756\u001b[0m r \u001b[39m=\u001b[39m gufunc(a, signature\u001b[39m=\u001b[39;49msignature, extobj\u001b[39m=\u001b[39;49mextobj)\n\u001b[1;32m    757\u001b[0m \u001b[39mreturn\u001b[39;00m wrap(r\u001b[39m.\u001b[39mastype(result_t, copy\u001b[39m=\u001b[39m\u001b[39mFalse\u001b[39;00m))\n",
      "File \u001b[0;32m~/opt/anaconda3/envs/thesis/lib/python3.10/site-packages/numpy-1.24.0rc1-py3.10-macosx-10.9-x86_64.egg/numpy/linalg/linalg.py:92\u001b[0m, in \u001b[0;36m_raise_linalgerror_nonposdef\u001b[0;34m(err, flag)\u001b[0m\n\u001b[1;32m     91\u001b[0m \u001b[39mdef\u001b[39;00m \u001b[39m_raise_linalgerror_nonposdef\u001b[39m(err, flag):\n\u001b[0;32m---> 92\u001b[0m     \u001b[39mraise\u001b[39;00m LinAlgError(\u001b[39m\"\u001b[39m\u001b[39mMatrix is not positive definite\u001b[39m\u001b[39m\"\u001b[39m)\n",
      "\u001b[0;31mLinAlgError\u001b[0m: Matrix is not positive definite"
     ]
    }
   ],
   "source": [
    "A_matrix = np.linalg.cholesky(choi)\n",
    "A_matrix"
   ]
  },
  {
   "cell_type": "code",
   "execution_count": 87,
   "metadata": {},
   "outputs": [
    {
     "name": "stdout",
     "output_type": "stream",
     "text": [
      "[-5.55111512e-17  0.00000000e+00  5.00000000e-01  1.50000000e+00]\n",
      "[[-0.57735027+0.j  0.        +0.j  0.        +0.j -0.81649658+0.j]\n",
      " [ 0.        +0.j  0.        +0.j -1.        +0.j  0.        +0.j]\n",
      " [ 0.        +0.j  1.        +0.j  0.        +0.j  0.        +0.j]\n",
      " [ 0.81649658+0.j  0.        +0.j  0.        +0.j -0.57735027+0.j]]\n"
     ]
    }
   ],
   "source": [
    "# try the eigenvector way\n",
    "eigvals, eigvecs = np.linalg.eigh(choi)\n",
    "print(eigvals)\n",
    "print(eigvecs)"
   ]
  },
  {
   "cell_type": "code",
   "execution_count": 88,
   "metadata": {},
   "outputs": [],
   "source": [
    "# need to create a function that changes from vectorized form to not vectorized\n",
    "def unvectorize(vector:np.ndarray)->np.ndarray:\n",
    "    \"unvectorize vector in row-wise manner. Square matrix assumed\"\n",
    "    dim = int(np.sqrt(vector.size))\n",
    "    matrix = vector.reshape((dim,dim))\n",
    "    return matrix"
   ]
  },
  {
   "cell_type": "code",
   "execution_count": 89,
   "metadata": {},
   "outputs": [
    {
     "data": {
      "text/plain": [
       "[array([[ 0.        +0.j, -0.70710678+0.j],\n",
       "        [ 0.        +0.j,  0.        +0.j]]),\n",
       " array([[-1.        +0.j,  0.        +0.j],\n",
       "        [ 0.        +0.j, -0.70710678+0.j]])]"
      ]
     },
     "execution_count": 89,
     "metadata": {},
     "output_type": "execute_result"
    }
   ],
   "source": [
    "# krauss operators unvectorized from eigenvector with eigenvalue scaled\n",
    "tol = 1e-9\n",
    "krauss_list = [np.sqrt(eigval) * unvectorize(np.array(v)) for eigval, v in\n",
    "            zip(eigvals, eigvecs.T) if abs(eigval) > tol]\n",
    "krauss_list"
   ]
  },
  {
   "cell_type": "code",
   "execution_count": 79,
   "metadata": {},
   "outputs": [
    {
     "data": {
      "text/plain": [
       "(3, 2)"
      ]
     },
     "execution_count": 79,
     "metadata": {},
     "output_type": "execute_result"
    }
   ],
   "source": [
    "np.array([[1,2],[3,4],[5,6]]).shape"
   ]
  }
 ],
 "metadata": {
  "kernelspec": {
   "display_name": "thesis",
   "language": "python",
   "name": "thesis"
  },
  "language_info": {
   "codemirror_mode": {
    "name": "ipython",
    "version": 3
   },
   "file_extension": ".py",
   "mimetype": "text/x-python",
   "name": "python",
   "nbconvert_exporter": "python",
   "pygments_lexer": "ipython3",
   "version": "3.10.4"
  },
  "orig_nbformat": 4
 },
 "nbformat": 4,
 "nbformat_minor": 2
}
